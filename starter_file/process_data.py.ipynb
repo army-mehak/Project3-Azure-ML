{
 "cells": [
  {
   "cell_type": "code",
   "execution_count": null,
   "id": "faa1b7f8",
   "metadata": {},
   "outputs": [],
   "source": [
    "import pandas as pd\n",
    "import numpy as np"
   ]
  },
  {
   "cell_type": "code",
   "execution_count": null,
   "id": "2657d432",
   "metadata": {},
   "outputs": [],
   "source": [
    "clean_data(dataset):\n",
    "    ### standardization\n",
    "    x_df = dataset.to_pandas_dataframe().dropna() #drop any rows with null values\n",
    "    y_df = x_df.pop(\"target\")\n",
    "    x_df[['trestbps', 'chol', 'thalach']] = StandardScaler().fit_transform(x_df[['trestbps', 'chol', 'thalach']])\n",
    "    #print(x_df)\n",
    "    #print(y_df)\n",
    "\n",
    "    ### binning\n",
    "    min_value = df['age'].min()\n",
    "    max_value = df['age'].max()\n",
    "    bins = np.linspace(min_value,max_value,7)\n",
    "    #print(bins)\n",
    "    labels = ['29-37', '38-45', '46-53', '54-61', '62-69', '70-77']\n",
    "    x_df['age_bins'] = pd.cut(x_df['age'], bins=bins, labels=labels, include_lowest=True)\n",
    "    drop_age = x_df.pop(\"age\") #drop age column\n",
    "\n",
    "    ### rearrange columns\n",
    "    x_df = x_df[['age_bins', 'sex', 'cp', 'trestbps', 'chol', 'fbs', 'restecg', 'thalach', 'exang', 'oldpeak', 'slope', 'ca', 'thal']]\n",
    "    #pd.set_option('display.max_rows', x_df.shape[0]+1)\n",
    "    #print(x_df)\n",
    "    return x_df, y_df"
   ]
  }
 ],
 "metadata": {
  "kernelspec": {
   "display_name": "Python 3",
   "language": "python",
   "name": "python3"
  },
  "language_info": {
   "codemirror_mode": {
    "name": "ipython",
    "version": 3
   },
   "file_extension": ".py",
   "mimetype": "text/x-python",
   "name": "python",
   "nbconvert_exporter": "python",
   "pygments_lexer": "ipython3",
   "version": "3.7.5"
  }
 },
 "nbformat": 4,
 "nbformat_minor": 5
}
