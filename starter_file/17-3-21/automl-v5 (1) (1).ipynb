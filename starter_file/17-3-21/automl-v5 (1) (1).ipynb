{
 "cells": [
  {
   "cell_type": "markdown",
   "metadata": {},
   "source": [
    "# Automated ML\n",
    "\n",
    "TODO: Import Dependencies. In the cell below, import all the dependencies that you will need to complete the project."
   ]
  },
  {
   "cell_type": "markdown",
   "metadata": {},
   "source": [
    "#### --Import Statements--"
   ]
  },
  {
   "cell_type": "code",
   "execution_count": 1,
   "metadata": {},
   "outputs": [],
   "source": [
    "from azureml.core import Workspace, Experiment\n",
    "from azureml.core.compute import ComputeTarget, AmlCompute\n",
    "from azureml.core.compute_target import ComputeTargetException\n",
    "\n",
    "import pandas as pd\n",
    "import numpy as np\n",
    "\n",
    "from sklearn.preprocessing import StandardScaler\n",
    "from sklearn.model_selection import train_test_split\n",
    "\n",
    "from azureml.train.automl import AutoMLConfig\n",
    "from azureml.pipeline.steps import AutoMLStep\n",
    "\n",
    "from azureml.data.dataset_factory import TabularDatasetFactory\n",
    "from azureml.core import Workspace, Datastore\n",
    "from azureml.core.dataset import Dataset\n",
    "\n",
    "from azureml.pipeline.core.run import PipelineRun\n",
    "from azureml.widgets import RunDetails\n",
    "from dataprocess import clean_data"
   ]
  },
  {
   "cell_type": "markdown",
   "metadata": {},
   "source": [
    "## Dataset\n",
    "\n",
    "### Overview\n",
    "TODO: In this markdown cell, give an overview of the dataset you are using. Also mention the task you will be performing.\n",
    "\n",
    "\n",
    "TODO: Get data. In the cell below, write code to access the data you will be using in this project. Remember that the dataset needs to be external."
   ]
  },
  {
   "cell_type": "markdown",
   "metadata": {},
   "source": [
    "The dataset consist information of patient that might be having heart disease. The target column has values 0 and 1 which determines if the patients has heart disease.\n",
    "There are 14 attributes in the dataset as follows:\n",
    "1. age\n",
    "2. sex\n",
    "3. chest pain type\n",
    "4. resting blood pressure\n",
    "5. serum cholestoral in mg/dl\n",
    "6. fasting blood sugar > 120 mg/dl\n",
    "7. resting electrocardiographic results (values 0,1,2)\n",
    "8. maximum heart rate achieved\n",
    "9. exercise induced angina\n",
    "10. oldpeak = ST depression induced by exercise relative to rest\n",
    "11. the slope of the peak exercise ST segment\n",
    "12. number of major vessels (0-3) colored by flourosopy\n",
    "13. thal: 3 = normal; 6 = fixed defect; 7 = reversable defect\n",
    "14. target column, 0 = heart disease not present, 1 = heart disease present"
   ]
  },
  {
   "cell_type": "markdown",
   "metadata": {},
   "source": [
    "After data is pulled, the data is processed for training in the following way:\n",
    "- Standardization was performed on the column bloodpressure, thalac and cholestrol to save on computational cost.\n",
    "- Rows with null values were dropped\n",
    "- The age column was binned into 7 groups of '29-37', '38-45', '46-53', '54-61', '62-69' and '70-77'\n",
    "\n",
    "After processing the data, the test input output and train input output data was set and fed to training."
   ]
  },
  {
   "cell_type": "code",
   "execution_count": 2,
   "metadata": {
    "gather": {
     "logged": 1598423890461
    },
    "jupyter": {
     "outputs_hidden": false,
     "source_hidden": false
    },
    "nteract": {
     "transient": {
      "deleting": false
     }
    }
   },
   "outputs": [],
   "source": [
    "ws = Workspace.from_config()\n",
    "\n",
    "# choose a name for experiment\n",
    "experiment_name = 'automl-exp'\n",
    "\n",
    "experiment=Experiment(ws, experiment_name)"
   ]
  },
  {
   "cell_type": "code",
   "execution_count": 3,
   "metadata": {},
   "outputs": [
    {
     "name": "stdout",
     "output_type": "stream",
     "text": [
      "Found existing cluster, use it.\n",
      "\n",
      "Running\n"
     ]
    }
   ],
   "source": [
    "cpu_cluster_name = \"cpu-cluster2\"\n",
    "\n",
    "try: #--- Verify that cluster does not exist already\n",
    "    cpu_cluster = ComputeTarget(workspace=ws, name=cpu_cluster_name)\n",
    "    print('Found existing cluster, use it.')\n",
    "    \n",
    "except ComputeTargetException:\n",
    "    compute_config = AmlCompute.provisioning_configuration(vm_size='STANDARD_D2_V2', max_nodes=4)\n",
    "    cpu_cluster = ComputeTarget.create(ws, cpu_cluster_name, compute_config)\n",
    "\n",
    "cpu_cluster.wait_for_completion(show_output=True)"
   ]
  },
  {
   "cell_type": "markdown",
   "metadata": {},
   "source": [
    "#### --Dataset Object--"
   ]
  },
  {
   "cell_type": "code",
   "execution_count": 4,
   "metadata": {},
   "outputs": [
    {
     "data": {
      "text/html": [
       "<div>\n",
       "<style scoped>\n",
       "    .dataframe tbody tr th:only-of-type {\n",
       "        vertical-align: middle;\n",
       "    }\n",
       "\n",
       "    .dataframe tbody tr th {\n",
       "        vertical-align: top;\n",
       "    }\n",
       "\n",
       "    .dataframe thead th {\n",
       "        text-align: right;\n",
       "    }\n",
       "</style>\n",
       "<table border=\"1\" class=\"dataframe\">\n",
       "  <thead>\n",
       "    <tr style=\"text-align: right;\">\n",
       "      <th></th>\n",
       "      <th>age</th>\n",
       "      <th>sex</th>\n",
       "      <th>cp</th>\n",
       "      <th>trestbps</th>\n",
       "      <th>chol</th>\n",
       "      <th>fbs</th>\n",
       "      <th>restecg</th>\n",
       "      <th>thalach</th>\n",
       "      <th>exang</th>\n",
       "      <th>oldpeak</th>\n",
       "      <th>slope</th>\n",
       "      <th>ca</th>\n",
       "      <th>thal</th>\n",
       "      <th>target</th>\n",
       "    </tr>\n",
       "  </thead>\n",
       "  <tbody>\n",
       "    <tr>\n",
       "      <th>count</th>\n",
       "      <td>303.000000</td>\n",
       "      <td>303.000000</td>\n",
       "      <td>303.000000</td>\n",
       "      <td>303.000000</td>\n",
       "      <td>303.000000</td>\n",
       "      <td>303.000000</td>\n",
       "      <td>303.000000</td>\n",
       "      <td>303.000000</td>\n",
       "      <td>303.000000</td>\n",
       "      <td>303.000000</td>\n",
       "      <td>303.000000</td>\n",
       "      <td>303.000000</td>\n",
       "      <td>303.000000</td>\n",
       "      <td>303.000000</td>\n",
       "    </tr>\n",
       "    <tr>\n",
       "      <th>mean</th>\n",
       "      <td>54.366337</td>\n",
       "      <td>0.683168</td>\n",
       "      <td>0.966997</td>\n",
       "      <td>131.623762</td>\n",
       "      <td>246.264026</td>\n",
       "      <td>0.148515</td>\n",
       "      <td>0.528053</td>\n",
       "      <td>149.646865</td>\n",
       "      <td>0.326733</td>\n",
       "      <td>1.039604</td>\n",
       "      <td>1.399340</td>\n",
       "      <td>0.729373</td>\n",
       "      <td>2.313531</td>\n",
       "      <td>0.544554</td>\n",
       "    </tr>\n",
       "    <tr>\n",
       "      <th>std</th>\n",
       "      <td>9.082101</td>\n",
       "      <td>0.466011</td>\n",
       "      <td>1.032052</td>\n",
       "      <td>17.538143</td>\n",
       "      <td>51.830751</td>\n",
       "      <td>0.356198</td>\n",
       "      <td>0.525860</td>\n",
       "      <td>22.905161</td>\n",
       "      <td>0.469794</td>\n",
       "      <td>1.161075</td>\n",
       "      <td>0.616226</td>\n",
       "      <td>1.022606</td>\n",
       "      <td>0.612277</td>\n",
       "      <td>0.498835</td>\n",
       "    </tr>\n",
       "    <tr>\n",
       "      <th>min</th>\n",
       "      <td>29.000000</td>\n",
       "      <td>0.000000</td>\n",
       "      <td>0.000000</td>\n",
       "      <td>94.000000</td>\n",
       "      <td>126.000000</td>\n",
       "      <td>0.000000</td>\n",
       "      <td>0.000000</td>\n",
       "      <td>71.000000</td>\n",
       "      <td>0.000000</td>\n",
       "      <td>0.000000</td>\n",
       "      <td>0.000000</td>\n",
       "      <td>0.000000</td>\n",
       "      <td>0.000000</td>\n",
       "      <td>0.000000</td>\n",
       "    </tr>\n",
       "    <tr>\n",
       "      <th>25%</th>\n",
       "      <td>47.500000</td>\n",
       "      <td>0.000000</td>\n",
       "      <td>0.000000</td>\n",
       "      <td>120.000000</td>\n",
       "      <td>211.000000</td>\n",
       "      <td>0.000000</td>\n",
       "      <td>0.000000</td>\n",
       "      <td>133.500000</td>\n",
       "      <td>0.000000</td>\n",
       "      <td>0.000000</td>\n",
       "      <td>1.000000</td>\n",
       "      <td>0.000000</td>\n",
       "      <td>2.000000</td>\n",
       "      <td>0.000000</td>\n",
       "    </tr>\n",
       "    <tr>\n",
       "      <th>50%</th>\n",
       "      <td>55.000000</td>\n",
       "      <td>1.000000</td>\n",
       "      <td>1.000000</td>\n",
       "      <td>130.000000</td>\n",
       "      <td>240.000000</td>\n",
       "      <td>0.000000</td>\n",
       "      <td>1.000000</td>\n",
       "      <td>153.000000</td>\n",
       "      <td>0.000000</td>\n",
       "      <td>0.800000</td>\n",
       "      <td>1.000000</td>\n",
       "      <td>0.000000</td>\n",
       "      <td>2.000000</td>\n",
       "      <td>1.000000</td>\n",
       "    </tr>\n",
       "    <tr>\n",
       "      <th>75%</th>\n",
       "      <td>61.000000</td>\n",
       "      <td>1.000000</td>\n",
       "      <td>2.000000</td>\n",
       "      <td>140.000000</td>\n",
       "      <td>274.500000</td>\n",
       "      <td>0.000000</td>\n",
       "      <td>1.000000</td>\n",
       "      <td>166.000000</td>\n",
       "      <td>1.000000</td>\n",
       "      <td>1.600000</td>\n",
       "      <td>2.000000</td>\n",
       "      <td>1.000000</td>\n",
       "      <td>3.000000</td>\n",
       "      <td>1.000000</td>\n",
       "    </tr>\n",
       "    <tr>\n",
       "      <th>max</th>\n",
       "      <td>77.000000</td>\n",
       "      <td>1.000000</td>\n",
       "      <td>3.000000</td>\n",
       "      <td>200.000000</td>\n",
       "      <td>564.000000</td>\n",
       "      <td>1.000000</td>\n",
       "      <td>2.000000</td>\n",
       "      <td>202.000000</td>\n",
       "      <td>1.000000</td>\n",
       "      <td>6.200000</td>\n",
       "      <td>2.000000</td>\n",
       "      <td>4.000000</td>\n",
       "      <td>3.000000</td>\n",
       "      <td>1.000000</td>\n",
       "    </tr>\n",
       "  </tbody>\n",
       "</table>\n",
       "</div>"
      ],
      "text/plain": [
       "              age         sex          cp    trestbps        chol         fbs  \\\n",
       "count  303.000000  303.000000  303.000000  303.000000  303.000000  303.000000   \n",
       "mean    54.366337    0.683168    0.966997  131.623762  246.264026    0.148515   \n",
       "std      9.082101    0.466011    1.032052   17.538143   51.830751    0.356198   \n",
       "min     29.000000    0.000000    0.000000   94.000000  126.000000    0.000000   \n",
       "25%     47.500000    0.000000    0.000000  120.000000  211.000000    0.000000   \n",
       "50%     55.000000    1.000000    1.000000  130.000000  240.000000    0.000000   \n",
       "75%     61.000000    1.000000    2.000000  140.000000  274.500000    0.000000   \n",
       "max     77.000000    1.000000    3.000000  200.000000  564.000000    1.000000   \n",
       "\n",
       "          restecg     thalach       exang     oldpeak       slope          ca  \\\n",
       "count  303.000000  303.000000  303.000000  303.000000  303.000000  303.000000   \n",
       "mean     0.528053  149.646865    0.326733    1.039604    1.399340    0.729373   \n",
       "std      0.525860   22.905161    0.469794    1.161075    0.616226    1.022606   \n",
       "min      0.000000   71.000000    0.000000    0.000000    0.000000    0.000000   \n",
       "25%      0.000000  133.500000    0.000000    0.000000    1.000000    0.000000   \n",
       "50%      1.000000  153.000000    0.000000    0.800000    1.000000    0.000000   \n",
       "75%      1.000000  166.000000    1.000000    1.600000    2.000000    1.000000   \n",
       "max      2.000000  202.000000    1.000000    6.200000    2.000000    4.000000   \n",
       "\n",
       "             thal      target  \n",
       "count  303.000000  303.000000  \n",
       "mean     2.313531    0.544554  \n",
       "std      0.612277    0.498835  \n",
       "min      0.000000    0.000000  \n",
       "25%      2.000000    0.000000  \n",
       "50%      2.000000    1.000000  \n",
       "75%      3.000000    1.000000  \n",
       "max      3.000000    1.000000  "
      ]
     },
     "execution_count": 4,
     "metadata": {},
     "output_type": "execute_result"
    }
   ],
   "source": [
    "key = \"heart-dataset\"\n",
    "description_text = \"Heart Disease dataset\"\n",
    "\n",
    "#-- Dataset Call\n",
    "if key in ws.datasets.keys(): \n",
    "        found = True\n",
    "        dataset = ws.datasets[key] \n",
    "df = dataset.to_pandas_dataframe()\n",
    "df.describe()"
   ]
  },
  {
   "cell_type": "markdown",
   "metadata": {},
   "source": [
    "## --Preprocessing Data--"
   ]
  },
  {
   "cell_type": "code",
   "execution_count": 5,
   "metadata": {},
   "outputs": [],
   "source": [
    "x_df, y_df = clean_data(df)"
   ]
  },
  {
   "cell_type": "code",
   "execution_count": 6,
   "metadata": {},
   "outputs": [
    {
     "name": "stderr",
     "output_type": "stream",
     "text": [
      "Method register_pandas_dataframe: This is an experimental method, and may change at any time.<br/>For more information, see https://aka.ms/azuremlexperimental.\n"
     ]
    },
    {
     "name": "stdout",
     "output_type": "stream",
     "text": [
      "Validating arguments.\n",
      "Arguments validated.\n",
      "Successfully obtained datastore reference and path.\n",
      "Uploading file to managed-dataset/12322910-3523-4e52-a425-be41df9a2290/\n",
      "Successfully uploaded file to datastore.\n",
      "Creating and registering a new dataset.\n",
      "Successfully created and registered a new dataset.\n"
     ]
    }
   ],
   "source": [
    "### Train Test Split\n",
    "X_train, X_test, Y_train, Y_test = train_test_split(x_df, y_df, test_size=0.30)\n",
    "df_train = pd.concat([X_train,Y_train], axis=1)\n",
    "#print(df_train)\n",
    "ds_train = Dataset.Tabular.register_pandas_dataframe(dataframe= df_train, target= Datastore.get_default(ws), name=\"train_data\")\n",
    "#dataset_1 = pd.to_Tabular(df_train) #Dataset.Tabular.from_pandas_dataframe(df_train)"
   ]
  },
  {
   "cell_type": "markdown",
   "metadata": {},
   "source": [
    "## AutoML Configuration\n",
    "\n",
    "TODO: Explain why you chose the automl settings and cofiguration you used below."
   ]
  },
  {
   "cell_type": "markdown",
   "metadata": {},
   "source": [
    "The automl settings is configured as follows:\n",
    "- Experiment timeout minutes determines how long experiment should run. In this case, its 20 minutes the experiment will run.\n",
    "- Max concurrent iterations determines how many iterations should be running in parallel. We chose 5 iterations for this experiement.\n",
    "- The primary metric to determine the performance of the runs being used here is AUC weighted."
   ]
  },
  {
   "cell_type": "code",
   "execution_count": 7,
   "metadata": {},
   "outputs": [],
   "source": [
    "automl_settings = {\n",
    "    \"experiment_timeout_minutes\": 20,\n",
    "    \"max_concurrent_iterations\": 5,\n",
    "    \"primary_metric\": 'AUC_weighted'\n",
    "}"
   ]
  },
  {
   "cell_type": "markdown",
   "metadata": {},
   "source": [
    "The automl config is configured as follows:\n",
    "- The compute target is set to the one created\n",
    "- The task is classification as the target column has values 0 and 1\n",
    "- Early stopping is enabled\n",
    "- The path and log path is assigned"
   ]
  },
  {
   "cell_type": "code",
   "execution_count": 8,
   "metadata": {
    "gather": {
     "logged": 1598429217746
    },
    "jupyter": {
     "outputs_hidden": false,
     "source_hidden": false
    },
    "nteract": {
     "transient": {
      "deleting": false
     }
    }
   },
   "outputs": [],
   "source": [
    "automl_config = AutoMLConfig(compute_target=cpu_cluster,\n",
    "                             task = 'classification',\n",
    "                             training_data = ds_train,\n",
    "                             label_column_name = \"target\",\n",
    "                             path = './pipeline-project3',\n",
    "                             enable_early_stopping = True,\n",
    "                             featurization = 'auto',\n",
    "                             debug_log = 'automl_errors.log',\n",
    "                             **automl_settings\n",
    "                            )"
   ]
  },
  {
   "cell_type": "code",
   "execution_count": 9,
   "metadata": {
    "gather": {
     "logged": 1598431107951
    },
    "jupyter": {
     "outputs_hidden": false,
     "source_hidden": false
    },
    "nteract": {
     "transient": {
      "deleting": false
     }
    }
   },
   "outputs": [
    {
     "name": "stdout",
     "output_type": "stream",
     "text": [
      "Submitting remote run.\n"
     ]
    },
    {
     "data": {
      "text/html": [
       "<table style=\"width:100%\"><tr><th>Experiment</th><th>Id</th><th>Type</th><th>Status</th><th>Details Page</th><th>Docs Page</th></tr><tr><td>automl-exp</td><td>AutoML_35c0ddf0-5f1d-4f56-ba49-432f9341b96f</td><td>automl</td><td>NotStarted</td><td><a href=\"https://ml.azure.com/runs/AutoML_35c0ddf0-5f1d-4f56-ba49-432f9341b96f?wsid=/subscriptions/9a7511b8-150f-4a58-8528-3e7d50216c31/resourcegroups/aml-quickstarts-142867/workspaces/quick-starts-ws-142867&amp;tid=660b3398-b80e-49d2-bc5b-ac1dc93b5254\" target=\"_blank\" rel=\"noopener\">Link to Azure Machine Learning studio</a></td><td><a href=\"https://docs.microsoft.com/en-us/python/api/overview/azure/ml/intro?view=azure-ml-py\" target=\"_blank\" rel=\"noopener\">Link to Documentation</a></td></tr></table>"
      ],
      "text/plain": [
       "<IPython.core.display.HTML object>"
      ]
     },
     "metadata": {},
     "output_type": "display_data"
    }
   ],
   "source": [
    "remote_run = experiment.submit(automl_config)"
   ]
  },
  {
   "cell_type": "markdown",
   "metadata": {},
   "source": [
    "## Run Details\n",
    "\n",
    "OPTIONAL: Write about the different models trained and their performance. Why do you think some models did better than others?\n",
    "\n",
    "TODO: In the cell below, use the `RunDetails` widget to show the different experiments."
   ]
  },
  {
   "cell_type": "code",
   "execution_count": 10,
   "metadata": {
    "gather": {
     "logged": 1598431121770
    },
    "jupyter": {
     "outputs_hidden": false,
     "source_hidden": false
    },
    "nteract": {
     "transient": {
      "deleting": false
     }
    }
   },
   "outputs": [
    {
     "data": {
      "application/vnd.jupyter.widget-view+json": {
       "model_id": "3608354ab2ca4591bb9f54915116aa39",
       "version_major": 2,
       "version_minor": 0
      },
      "text/plain": [
       "_AutoMLWidget(widget_settings={'childWidgetDisplay': 'popup', 'send_telemetry': False, 'log_level': 'INFO', 's…"
      ]
     },
     "metadata": {},
     "output_type": "display_data"
    },
    {
     "data": {
      "application/aml.mini.widget.v1": "{\"status\": \"Completed\", \"workbench_run_details_uri\": \"https://ml.azure.com/runs/AutoML_35c0ddf0-5f1d-4f56-ba49-432f9341b96f?wsid=/subscriptions/9a7511b8-150f-4a58-8528-3e7d50216c31/resourcegroups/aml-quickstarts-142867/workspaces/quick-starts-ws-142867&tid=660b3398-b80e-49d2-bc5b-ac1dc93b5254\", \"run_id\": \"AutoML_35c0ddf0-5f1d-4f56-ba49-432f9341b96f\", \"run_properties\": {\"run_id\": \"AutoML_35c0ddf0-5f1d-4f56-ba49-432f9341b96f\", \"created_utc\": \"2021-04-16T17:31:02.438755Z\", \"properties\": {\"num_iterations\": \"1000\", \"training_type\": \"TrainFull\", \"acquisition_function\": \"EI\", \"primary_metric\": \"AUC_weighted\", \"train_split\": \"0\", \"acquisition_parameter\": \"0\", \"num_cross_validation\": null, \"target\": \"cpu-cluster2\", \"AMLSettingsJsonString\": \"{\\\"path\\\":null,\\\"name\\\":\\\"automl-exp\\\",\\\"subscription_id\\\":\\\"9a7511b8-150f-4a58-8528-3e7d50216c31\\\",\\\"resource_group\\\":\\\"aml-quickstarts-142867\\\",\\\"workspace_name\\\":\\\"quick-starts-ws-142867\\\",\\\"region\\\":\\\"southcentralus\\\",\\\"compute_target\\\":\\\"cpu-cluster2\\\",\\\"spark_service\\\":null,\\\"azure_service\\\":\\\"remote\\\",\\\"many_models\\\":false,\\\"pipeline_fetch_max_batch_size\\\":1,\\\"enable_batch_run\\\":false,\\\"enable_run_restructure\\\":false,\\\"iterations\\\":1000,\\\"primary_metric\\\":\\\"AUC_weighted\\\",\\\"task_type\\\":\\\"classification\\\",\\\"data_script\\\":null,\\\"test_size\\\":0.0,\\\"validation_size\\\":0.0,\\\"n_cross_validations\\\":null,\\\"y_min\\\":null,\\\"y_max\\\":null,\\\"num_classes\\\":null,\\\"featurization\\\":\\\"auto\\\",\\\"_ignore_package_version_incompatibilities\\\":false,\\\"is_timeseries\\\":false,\\\"max_cores_per_iteration\\\":1,\\\"max_concurrent_iterations\\\":5,\\\"iteration_timeout_minutes\\\":null,\\\"mem_in_mb\\\":null,\\\"enforce_time_on_windows\\\":false,\\\"experiment_timeout_minutes\\\":20,\\\"experiment_exit_score\\\":null,\\\"whitelist_models\\\":null,\\\"blacklist_algos\\\":[\\\"TensorFlowLinearClassifier\\\",\\\"TensorFlowDNN\\\"],\\\"supported_models\\\":[\\\"LinearSVM\\\",\\\"TensorFlowDNN\\\",\\\"GradientBoosting\\\",\\\"DecisionTree\\\",\\\"LightGBM\\\",\\\"XGBoostClassifier\\\",\\\"TensorFlowLinearClassifier\\\",\\\"MultinomialNaiveBayes\\\",\\\"SGD\\\",\\\"ExtremeRandomTrees\\\",\\\"SVM\\\",\\\"RandomForest\\\",\\\"LogisticRegression\\\",\\\"AveragedPerceptronClassifier\\\",\\\"KNN\\\",\\\"BernoulliNaiveBayes\\\"],\\\"private_models\\\":[],\\\"auto_blacklist\\\":true,\\\"blacklist_samples_reached\\\":false,\\\"exclude_nan_labels\\\":true,\\\"verbosity\\\":20,\\\"_debug_log\\\":\\\"azureml_automl.log\\\",\\\"show_warnings\\\":false,\\\"model_explainability\\\":true,\\\"service_url\\\":null,\\\"sdk_url\\\":null,\\\"sdk_packages\\\":null,\\\"enable_onnx_compatible_models\\\":false,\\\"enable_split_onnx_featurizer_estimator_models\\\":false,\\\"vm_type\\\":\\\"STANDARD_DS3_V2\\\",\\\"telemetry_verbosity\\\":20,\\\"send_telemetry\\\":true,\\\"enable_dnn\\\":false,\\\"scenario\\\":\\\"SDK-1.13.0\\\",\\\"environment_label\\\":null,\\\"save_mlflow\\\":false,\\\"force_text_dnn\\\":false,\\\"enable_feature_sweeping\\\":true,\\\"enable_early_stopping\\\":true,\\\"early_stopping_n_iters\\\":10,\\\"metrics\\\":null,\\\"enable_metric_confidence\\\":false,\\\"enable_ensembling\\\":true,\\\"enable_stack_ensembling\\\":true,\\\"ensemble_iterations\\\":15,\\\"enable_tf\\\":false,\\\"enable_subsampling\\\":null,\\\"subsample_seed\\\":null,\\\"enable_nimbusml\\\":false,\\\"enable_streaming\\\":false,\\\"force_streaming\\\":false,\\\"track_child_runs\\\":true,\\\"allowed_private_models\\\":[],\\\"label_column_name\\\":\\\"target\\\",\\\"weight_column_name\\\":null,\\\"cv_split_column_names\\\":null,\\\"enable_local_managed\\\":false,\\\"_local_managed_run_id\\\":null,\\\"cost_mode\\\":1,\\\"lag_length\\\":0,\\\"metric_operation\\\":\\\"maximize\\\",\\\"preprocess\\\":true}\", \"DataPrepJsonString\": \"{\\\\\\\"training_data\\\\\\\": {\\\\\\\"datasetId\\\\\\\": \\\\\\\"0dceb243-7e91-414a-a298-c5b99617b57f\\\\\\\"}, \\\\\\\"datasets\\\\\\\": 0}\", \"EnableSubsampling\": null, \"runTemplate\": \"AutoML\", \"azureml.runsource\": \"automl\", \"display_task_type\": \"classification\", \"dependencies_versions\": \"{\\\"azureml-widgets\\\": \\\"1.26.0\\\", \\\"azureml-train\\\": \\\"1.26.0\\\", \\\"azureml-train-restclients-hyperdrive\\\": \\\"1.26.0\\\", \\\"azureml-train-core\\\": \\\"1.26.0\\\", \\\"azureml-train-automl\\\": \\\"1.26.0\\\", \\\"azureml-train-automl-runtime\\\": \\\"1.26.0\\\", \\\"azureml-train-automl-client\\\": \\\"1.26.0\\\", \\\"azureml-tensorboard\\\": \\\"1.26.0\\\", \\\"azureml-telemetry\\\": \\\"1.26.0\\\", \\\"azureml-sdk\\\": \\\"1.26.0\\\", \\\"azureml-samples\\\": \\\"0+unknown\\\", \\\"azureml-pipeline\\\": \\\"1.26.0\\\", \\\"azureml-pipeline-steps\\\": \\\"1.26.0\\\", \\\"azureml-pipeline-core\\\": \\\"1.26.0\\\", \\\"azureml-opendatasets\\\": \\\"1.26.0\\\", \\\"azureml-model-management-sdk\\\": \\\"1.0.1b6.post1\\\", \\\"azureml-mlflow\\\": \\\"1.26.0\\\", \\\"azureml-interpret\\\": \\\"1.26.0\\\", \\\"azureml-explain-model\\\": \\\"1.26.0\\\", \\\"azureml-defaults\\\": \\\"1.26.0\\\", \\\"azureml-dataset-runtime\\\": \\\"1.26.0\\\", \\\"azureml-dataprep\\\": \\\"2.13.2\\\", \\\"azureml-dataprep-rslex\\\": \\\"1.11.2\\\", \\\"azureml-dataprep-native\\\": \\\"32.0.0\\\", \\\"azureml-datadrift\\\": \\\"1.26.0\\\", \\\"azureml-core\\\": \\\"1.26.0\\\", \\\"azureml-contrib-services\\\": \\\"1.26.0\\\", \\\"azureml-contrib-server\\\": \\\"1.26.0\\\", \\\"azureml-contrib-reinforcementlearning\\\": \\\"1.26.0\\\", \\\"azureml-contrib-pipeline-steps\\\": \\\"1.26.0\\\", \\\"azureml-contrib-notebook\\\": \\\"1.26.0\\\", \\\"azureml-contrib-gbdt\\\": \\\"1.26.0\\\", \\\"azureml-contrib-fairness\\\": \\\"1.26.0\\\", \\\"azureml-contrib-dataset\\\": \\\"1.26.0\\\", \\\"azureml-cli-common\\\": \\\"1.26.0\\\", \\\"azureml-automl-runtime\\\": \\\"1.26.0\\\", \\\"azureml-automl-dnn-nlp\\\": \\\"1.26.0\\\", \\\"azureml-automl-core\\\": \\\"1.26.0\\\", \\\"azureml-accel-models\\\": \\\"1.26.0\\\"}\", \"_aml_system_scenario_identification\": \"Remote.Parent\", \"ClientType\": \"SDK\", \"environment_cpu_name\": \"AzureML-AutoML\", \"environment_cpu_label\": \"prod\", \"environment_gpu_name\": \"AzureML-AutoML-GPU\", \"environment_gpu_label\": \"prod\", \"root_attribution\": \"automl\", \"attribution\": \"AutoML\", \"Orchestrator\": \"AutoML\", \"CancelUri\": \"https://southcentralus.experiments.azureml.net/jasmine/v1.0/subscriptions/9a7511b8-150f-4a58-8528-3e7d50216c31/resourceGroups/aml-quickstarts-142867/providers/Microsoft.MachineLearningServices/workspaces/quick-starts-ws-142867/experimentids/3db012a3-951b-4aac-bda6-818cfbb9c0fd/cancel/AutoML_35c0ddf0-5f1d-4f56-ba49-432f9341b96f\", \"ClientSdkVersion\": \"1.25.0\", \"snapshotId\": \"00000000-0000-0000-0000-000000000000\", \"SetupRunId\": \"AutoML_35c0ddf0-5f1d-4f56-ba49-432f9341b96f_setup\", \"SetupRunContainerId\": \"dcid.AutoML_35c0ddf0-5f1d-4f56-ba49-432f9341b96f_setup\", \"FeaturizationRunJsonPath\": \"featurizer_container.json\", \"FeaturizationRunId\": \"AutoML_35c0ddf0-5f1d-4f56-ba49-432f9341b96f_featurize\", \"ProblemInfoJsonString\": \"{\\\"dataset_num_categorical\\\": 0, \\\"is_sparse\\\": true, \\\"subsampling\\\": false, \\\"dataset_classes\\\": 2, \\\"dataset_features\\\": 33, \\\"dataset_samples\\\": 212, \\\"single_frequency_class_detected\\\": false}\", \"ModelExplainRunId\": \"AutoML_35c0ddf0-5f1d-4f56-ba49-432f9341b96f_ModelExplain\"}, \"tags\": {\"model_explain_run\": \"best_run\", \"_aml_system_azureml.automlComponent\": \"AutoML\", \"pipeline_id\": \"\", \"score\": \"\", \"predicted_cost\": \"\", \"fit_time\": \"\", \"training_percent\": \"\", \"iteration\": \"\", \"run_preprocessor\": \"\", \"run_algorithm\": \"\", \"dynamic_whitelisting_iterations\": \"<25>;<30>;<35>;\", \"automl_best_child_run_id\": \"AutoML_35c0ddf0-5f1d-4f56-ba49-432f9341b96f_38\", \"model_explain_best_run_child_id\": \"AutoML_35c0ddf0-5f1d-4f56-ba49-432f9341b96f_38\"}, \"end_time_utc\": \"2021-04-16T17:50:38.151503Z\", \"status\": \"Completed\", \"log_files\": {}, \"log_groups\": [], \"run_duration\": \"0:19:35\", \"run_number\": \"1\", \"run_queued_details\": {\"status\": \"Completed\", \"details\": null}}, \"child_runs\": [{\"run_id\": \"AutoML_35c0ddf0-5f1d-4f56-ba49-432f9341b96f_0\", \"run_number\": 5, \"metric\": null, \"status\": \"Completed\", \"run_type\": \"azureml.scriptrun\", \"training_percent\": \"100\", \"start_time\": \"2021-04-16T17:36:45.070833Z\", \"end_time\": \"2021-04-16T17:37:28.458958Z\", \"created_time\": \"2021-04-16T17:36:32.239613Z\", \"created_time_dt\": \"2021-04-16T17:36:32.239613Z\", \"duration\": \"0:00:56\", \"iteration\": \"0\", \"goal\": \"AUC_weighted_max\", \"run_name\": \"MaxAbsScaler, LightGBM\", \"run_properties\": \"copy=True\", \"primary_metric\": 0.89214423, \"best_metric\": 0.89214423}, {\"run_id\": \"AutoML_35c0ddf0-5f1d-4f56-ba49-432f9341b96f_3\", \"run_number\": 6, \"metric\": null, \"status\": \"Completed\", \"run_type\": \"azureml.scriptrun\", \"training_percent\": \"100\", \"start_time\": \"2021-04-16T17:36:45.294293Z\", \"end_time\": \"2021-04-16T17:37:31.334989Z\", \"created_time\": \"2021-04-16T17:36:32.376703Z\", \"created_time_dt\": \"2021-04-16T17:36:32.376703Z\", \"duration\": \"0:00:58\", \"iteration\": \"3\", \"goal\": \"AUC_weighted_max\", \"run_name\": \"MaxAbsScaler, RandomForest\", \"run_properties\": \"copy=True\", \"primary_metric\": 0.90579278, \"best_metric\": 0.90752346}, {\"run_id\": \"AutoML_35c0ddf0-5f1d-4f56-ba49-432f9341b96f_4\", \"run_number\": 7, \"metric\": null, \"status\": \"Completed\", \"run_type\": \"azureml.scriptrun\", \"training_percent\": \"100\", \"start_time\": \"2021-04-16T17:36:43.601189Z\", \"end_time\": \"2021-04-16T17:37:34.368962Z\", \"created_time\": \"2021-04-16T17:36:32.385321Z\", \"created_time_dt\": \"2021-04-16T17:36:32.385321Z\", \"duration\": \"0:01:01\", \"iteration\": \"4\", \"goal\": \"AUC_weighted_max\", \"run_name\": \"MaxAbsScaler, RandomForest\", \"run_properties\": \"copy=True\", \"primary_metric\": 0.90600807, \"best_metric\": 0.90752346}, {\"run_id\": \"AutoML_35c0ddf0-5f1d-4f56-ba49-432f9341b96f_1\", \"run_number\": 8, \"metric\": null, \"status\": \"Completed\", \"run_type\": \"azureml.scriptrun\", \"training_percent\": \"100\", \"start_time\": \"2021-04-16T17:36:43.94323Z\", \"end_time\": \"2021-04-16T17:37:32.112772Z\", \"created_time\": \"2021-04-16T17:36:32.408624Z\", \"created_time_dt\": \"2021-04-16T17:36:32.408624Z\", \"duration\": \"0:00:59\", \"iteration\": \"1\", \"goal\": \"AUC_weighted_max\", \"run_name\": \"MaxAbsScaler, XGBoostClassifier\", \"run_properties\": \"copy=True\", \"primary_metric\": 0.90752346, \"best_metric\": 0.90752346}, {\"run_id\": \"AutoML_35c0ddf0-5f1d-4f56-ba49-432f9341b96f_2\", \"run_number\": 9, \"metric\": null, \"status\": \"Completed\", \"run_type\": \"azureml.scriptrun\", \"training_percent\": \"100\", \"start_time\": \"2021-04-16T17:36:45.45508Z\", \"end_time\": \"2021-04-16T17:37:28.866478Z\", \"created_time\": \"2021-04-16T17:36:32.427636Z\", \"created_time_dt\": \"2021-04-16T17:36:32.427636Z\", \"duration\": \"0:00:56\", \"iteration\": \"2\", \"goal\": \"AUC_weighted_max\", \"run_name\": \"MaxAbsScaler, RandomForest\", \"run_properties\": \"copy=True\", \"primary_metric\": 0.89127619, \"best_metric\": 0.90752346}, {\"run_id\": \"AutoML_35c0ddf0-5f1d-4f56-ba49-432f9341b96f_5\", \"run_number\": 10, \"metric\": null, \"status\": \"Completed\", \"run_type\": \"azureml.scriptrun\", \"training_percent\": \"100\", \"start_time\": \"2021-04-16T17:37:44.291377Z\", \"end_time\": \"2021-04-16T17:38:33.266819Z\", \"created_time\": \"2021-04-16T17:37:31.9243Z\", \"created_time_dt\": \"2021-04-16T17:37:31.9243Z\", \"duration\": \"0:01:01\", \"iteration\": \"5\", \"goal\": \"AUC_weighted_max\", \"run_name\": \"MaxAbsScaler, ExtremeRandomTrees\", \"run_properties\": \"copy=True\", \"primary_metric\": 0.90927337, \"best_metric\": 0.90927337}, {\"run_id\": \"AutoML_35c0ddf0-5f1d-4f56-ba49-432f9341b96f_6\", \"run_number\": 11, \"metric\": null, \"status\": \"Completed\", \"run_type\": \"azureml.scriptrun\", \"training_percent\": \"100\", \"start_time\": \"2021-04-16T17:37:44.67627Z\", \"end_time\": \"2021-04-16T17:38:33.920792Z\", \"created_time\": \"2021-04-16T17:37:31.975721Z\", \"created_time_dt\": \"2021-04-16T17:37:31.975721Z\", \"duration\": \"0:01:01\", \"iteration\": \"6\", \"goal\": \"AUC_weighted_max\", \"run_name\": \"MaxAbsScaler, ExtremeRandomTrees\", \"run_properties\": \"copy=True\", \"primary_metric\": 0.90996258, \"best_metric\": 0.90996258}, {\"run_id\": \"AutoML_35c0ddf0-5f1d-4f56-ba49-432f9341b96f_7\", \"run_number\": 12, \"metric\": null, \"status\": \"Completed\", \"run_type\": \"azureml.scriptrun\", \"training_percent\": \"100\", \"start_time\": \"2021-04-16T17:37:49.026625Z\", \"end_time\": \"2021-04-16T17:38:32.044975Z\", \"created_time\": \"2021-04-16T17:37:37.837232Z\", \"created_time_dt\": \"2021-04-16T17:37:37.837232Z\", \"duration\": \"0:00:54\", \"iteration\": \"7\", \"goal\": \"AUC_weighted_max\", \"run_name\": \"MaxAbsScaler, ExtremeRandomTrees\", \"run_properties\": \"copy=True\", \"primary_metric\": 0.90683056, \"best_metric\": 0.90996258}, {\"run_id\": \"AutoML_35c0ddf0-5f1d-4f56-ba49-432f9341b96f_8\", \"run_number\": 13, \"metric\": null, \"status\": \"Completed\", \"run_type\": \"azureml.scriptrun\", \"training_percent\": \"100\", \"start_time\": \"2021-04-16T17:37:48.948747Z\", \"end_time\": \"2021-04-16T17:38:31.869734Z\", \"created_time\": \"2021-04-16T17:37:37.838186Z\", \"created_time_dt\": \"2021-04-16T17:37:37.838186Z\", \"duration\": \"0:00:54\", \"iteration\": \"8\", \"goal\": \"AUC_weighted_max\", \"run_name\": \"MaxAbsScaler, RandomForest\", \"run_properties\": \"copy=True\", \"primary_metric\": 0.92065815, \"best_metric\": 0.92065815}, {\"run_id\": \"AutoML_35c0ddf0-5f1d-4f56-ba49-432f9341b96f_9\", \"run_number\": 14, \"metric\": null, \"status\": \"Completed\", \"run_type\": \"azureml.scriptrun\", \"training_percent\": \"100\", \"start_time\": \"2021-04-16T17:37:49.242733Z\", \"end_time\": \"2021-04-16T17:38:34.584945Z\", \"created_time\": \"2021-04-16T17:37:37.843098Z\", \"created_time_dt\": \"2021-04-16T17:37:37.843098Z\", \"duration\": \"0:00:56\", \"iteration\": \"9\", \"goal\": \"AUC_weighted_max\", \"run_name\": \"MaxAbsScaler, ExtremeRandomTrees\", \"run_properties\": \"copy=True\", \"primary_metric\": 0.91957811, \"best_metric\": 0.92065815}, {\"run_id\": \"AutoML_35c0ddf0-5f1d-4f56-ba49-432f9341b96f_10\", \"run_number\": 15, \"metric\": null, \"status\": \"Completed\", \"run_type\": \"azureml.scriptrun\", \"training_percent\": \"100\", \"start_time\": \"2021-04-16T17:38:46.682524Z\", \"end_time\": \"2021-04-16T17:39:51.421022Z\", \"created_time\": \"2021-04-16T17:38:35.395978Z\", \"created_time_dt\": \"2021-04-16T17:38:35.395978Z\", \"duration\": \"0:01:16\", \"iteration\": \"10\", \"goal\": \"AUC_weighted_max\", \"run_name\": \"MaxAbsScaler, RandomForest\", \"run_properties\": \"copy=True\", \"primary_metric\": 0.87987572, \"best_metric\": 0.92065815}, {\"run_id\": \"AutoML_35c0ddf0-5f1d-4f56-ba49-432f9341b96f_11\", \"run_number\": 16, \"metric\": null, \"status\": \"Completed\", \"run_type\": \"azureml.scriptrun\", \"training_percent\": \"100\", \"start_time\": \"2021-04-16T17:38:45.867568Z\", \"end_time\": \"2021-04-16T17:39:42.245397Z\", \"created_time\": \"2021-04-16T17:38:35.700221Z\", \"created_time_dt\": \"2021-04-16T17:38:35.700221Z\", \"duration\": \"0:01:06\", \"iteration\": \"11\", \"goal\": \"AUC_weighted_max\", \"run_name\": \"MaxAbsScaler, RandomForest\", \"run_properties\": \"copy=True\", \"primary_metric\": 0.89720378, \"best_metric\": 0.92065815}, {\"run_id\": \"AutoML_35c0ddf0-5f1d-4f56-ba49-432f9341b96f_12\", \"run_number\": 17, \"metric\": null, \"status\": \"Completed\", \"run_type\": \"azureml.scriptrun\", \"training_percent\": \"100\", \"start_time\": \"2021-04-16T17:38:54.298027Z\", \"end_time\": \"2021-04-16T17:39:42.217895Z\", \"created_time\": \"2021-04-16T17:38:42.6593Z\", \"created_time_dt\": \"2021-04-16T17:38:42.6593Z\", \"duration\": \"0:00:59\", \"iteration\": \"12\", \"goal\": \"AUC_weighted_max\", \"run_name\": \"MaxAbsScaler, RandomForest\", \"run_properties\": \"copy=True\", \"primary_metric\": 0.90795253, \"best_metric\": 0.92065815}, {\"run_id\": \"AutoML_35c0ddf0-5f1d-4f56-ba49-432f9341b96f_13\", \"run_number\": 18, \"metric\": null, \"status\": \"Completed\", \"run_type\": \"azureml.scriptrun\", \"training_percent\": \"100\", \"start_time\": \"2021-04-16T17:38:53.886569Z\", \"end_time\": \"2021-04-16T17:39:48.08056Z\", \"created_time\": \"2021-04-16T17:38:42.839543Z\", \"created_time_dt\": \"2021-04-16T17:38:42.839543Z\", \"duration\": \"0:01:05\", \"iteration\": \"13\", \"goal\": \"AUC_weighted_max\", \"run_name\": \"StandardScalerWrapper, XGBoostClassifier\", \"run_properties\": \"<azureml.automl.runtime.shared.model_wrappers.StandardScalerWrapper object at 0x7f609fc92c18\", \"primary_metric\": 0.89428793, \"best_metric\": 0.92065815}, {\"run_id\": \"AutoML_35c0ddf0-5f1d-4f56-ba49-432f9341b96f_14\", \"run_number\": 19, \"metric\": null, \"status\": \"Completed\", \"run_type\": \"azureml.scriptrun\", \"training_percent\": \"100\", \"start_time\": \"2021-04-16T17:38:53.747101Z\", \"end_time\": \"2021-04-16T17:39:38.705728Z\", \"created_time\": \"2021-04-16T17:38:42.973747Z\", \"created_time_dt\": \"2021-04-16T17:38:42.973747Z\", \"duration\": \"0:00:55\", \"iteration\": \"14\", \"goal\": \"AUC_weighted_max\", \"run_name\": \"MaxAbsScaler, RandomForest\", \"run_properties\": \"copy=True\", \"primary_metric\": 0.8990176, \"best_metric\": 0.92065815}, {\"run_id\": \"AutoML_35c0ddf0-5f1d-4f56-ba49-432f9341b96f_15\", \"run_number\": 20, \"metric\": null, \"status\": \"Completed\", \"run_type\": \"azureml.scriptrun\", \"training_percent\": \"100\", \"start_time\": \"2021-04-16T17:39:52.896345Z\", \"end_time\": \"2021-04-16T17:40:35.756901Z\", \"created_time\": \"2021-04-16T17:39:42.234318Z\", \"created_time_dt\": \"2021-04-16T17:39:42.234318Z\", \"duration\": \"0:00:53\", \"iteration\": \"15\", \"goal\": \"AUC_weighted_max\", \"run_name\": \"StandardScalerWrapper, ExtremeRandomTrees\", \"run_properties\": \"<azureml.automl.runtime.shared.model_wrappers.StandardScalerWrapper object at 0x7f21c53e41d0\", \"primary_metric\": 0.86793678, \"best_metric\": 0.92065815}, {\"run_id\": \"AutoML_35c0ddf0-5f1d-4f56-ba49-432f9341b96f_16\", \"run_number\": 21, \"metric\": null, \"status\": \"Completed\", \"run_type\": \"azureml.scriptrun\", \"training_percent\": \"100\", \"start_time\": \"2021-04-16T17:39:59.225782Z\", \"end_time\": \"2021-04-16T17:40:39.37877Z\", \"created_time\": \"2021-04-16T17:39:48.490471Z\", \"created_time_dt\": \"2021-04-16T17:39:48.490471Z\", \"duration\": \"0:00:50\", \"iteration\": \"16\", \"goal\": \"AUC_weighted_max\", \"run_name\": \"MaxAbsScaler, ExtremeRandomTrees\", \"run_properties\": \"copy=True\", \"primary_metric\": 0.90979888, \"best_metric\": 0.92065815}, {\"run_id\": \"AutoML_35c0ddf0-5f1d-4f56-ba49-432f9341b96f_17\", \"run_number\": 22, \"metric\": null, \"status\": \"Completed\", \"run_type\": \"azureml.scriptrun\", \"training_percent\": \"100\", \"start_time\": \"2021-04-16T17:39:56.777315Z\", \"end_time\": \"2021-04-16T17:40:38.863076Z\", \"created_time\": \"2021-04-16T17:39:48.886822Z\", \"created_time_dt\": \"2021-04-16T17:39:48.886822Z\", \"duration\": \"0:00:49\", \"iteration\": \"17\", \"goal\": \"AUC_weighted_max\", \"run_name\": \"MaxAbsScaler, ExtremeRandomTrees\", \"run_properties\": \"copy=True\", \"primary_metric\": 0.92049148, \"best_metric\": 0.92065815}, {\"run_id\": \"AutoML_35c0ddf0-5f1d-4f56-ba49-432f9341b96f_19\", \"run_number\": 23, \"metric\": null, \"status\": \"Completed\", \"run_type\": \"azureml.scriptrun\", \"training_percent\": \"100\", \"start_time\": \"2021-04-16T17:40:08.051349Z\", \"end_time\": \"2021-04-16T17:40:48.097444Z\", \"created_time\": \"2021-04-16T17:39:56.565059Z\", \"created_time_dt\": \"2021-04-16T17:39:56.565059Z\", \"duration\": \"0:00:51\", \"iteration\": \"19\", \"goal\": \"AUC_weighted_max\", \"run_name\": \"MaxAbsScaler, LightGBM\", \"run_properties\": \"copy=True\", \"primary_metric\": 0.91245699, \"best_metric\": 0.92065815}, {\"run_id\": \"AutoML_35c0ddf0-5f1d-4f56-ba49-432f9341b96f_18\", \"run_number\": 24, \"metric\": null, \"status\": \"Completed\", \"run_type\": \"azureml.scriptrun\", \"training_percent\": \"100\", \"start_time\": \"2021-04-16T17:40:04.293807Z\", \"end_time\": \"2021-04-16T17:40:48.737327Z\", \"created_time\": \"2021-04-16T17:39:56.604823Z\", \"created_time_dt\": \"2021-04-16T17:39:56.604823Z\", \"duration\": \"0:00:52\", \"iteration\": \"18\", \"goal\": \"AUC_weighted_max\", \"run_name\": \"MaxAbsScaler, RandomForest\", \"run_properties\": \"copy=True\", \"primary_metric\": 0.91110186, \"best_metric\": 0.92065815}, {\"run_id\": \"AutoML_35c0ddf0-5f1d-4f56-ba49-432f9341b96f_20\", \"run_number\": 25, \"metric\": null, \"status\": \"Completed\", \"run_type\": \"azureml.scriptrun\", \"training_percent\": \"100\", \"start_time\": \"2021-04-16T17:40:47.700069Z\", \"end_time\": \"2021-04-16T17:43:16.393921Z\", \"created_time\": \"2021-04-16T17:40:38.830639Z\", \"created_time_dt\": \"2021-04-16T17:40:38.830639Z\", \"duration\": \"0:02:37\", \"iteration\": \"20\", \"goal\": \"AUC_weighted_max\", \"run_name\": \"MaxAbsScaler, LightGBM\", \"run_properties\": \"copy=True\", \"primary_metric\": 0.91630982, \"best_metric\": 0.92065815}, {\"run_id\": \"AutoML_35c0ddf0-5f1d-4f56-ba49-432f9341b96f_21\", \"run_number\": 26, \"metric\": null, \"status\": \"Completed\", \"run_type\": \"azureml.scriptrun\", \"training_percent\": \"100\", \"start_time\": \"2021-04-16T17:40:52.020206Z\", \"end_time\": \"2021-04-16T17:43:15.472753Z\", \"created_time\": \"2021-04-16T17:40:43.466632Z\", \"created_time_dt\": \"2021-04-16T17:40:43.466632Z\", \"duration\": \"0:02:32\", \"iteration\": \"21\", \"goal\": \"AUC_weighted_max\", \"run_name\": \"MaxAbsScaler, LightGBM\", \"run_properties\": \"copy=True\", \"primary_metric\": 0.91054238, \"best_metric\": 0.92065815}, {\"run_id\": \"AutoML_35c0ddf0-5f1d-4f56-ba49-432f9341b96f_22\", \"run_number\": 27, \"metric\": null, \"status\": \"Completed\", \"run_type\": \"azureml.scriptrun\", \"training_percent\": \"100\", \"start_time\": \"2021-04-16T17:40:52.106987Z\", \"end_time\": \"2021-04-16T17:43:17.348466Z\", \"created_time\": \"2021-04-16T17:40:43.487382Z\", \"created_time_dt\": \"2021-04-16T17:40:43.487382Z\", \"duration\": \"0:02:33\", \"iteration\": \"22\", \"goal\": \"AUC_weighted_max\", \"run_name\": \"MaxAbsScaler, LightGBM\", \"run_properties\": \"copy=True\", \"primary_metric\": 0.911636, \"best_metric\": 0.92065815}, {\"run_id\": \"AutoML_35c0ddf0-5f1d-4f56-ba49-432f9341b96f_23\", \"run_number\": 28, \"metric\": null, \"status\": \"Completed\", \"run_type\": \"azureml.scriptrun\", \"training_percent\": \"100\", \"start_time\": \"2021-04-16T17:41:01.034561Z\", \"end_time\": \"2021-04-16T17:43:24.566764Z\", \"created_time\": \"2021-04-16T17:40:50.498285Z\", \"created_time_dt\": \"2021-04-16T17:40:50.498285Z\", \"duration\": \"0:02:34\", \"iteration\": \"23\", \"goal\": \"AUC_weighted_max\", \"run_name\": \"StandardScalerWrapper, LogisticRegression\", \"run_properties\": \"<azureml.automl.runtime.shared.model_wrappers.StandardScalerWrapper object at 0x7fa4e6a55cc0\", \"primary_metric\": 0.90701482, \"best_metric\": 0.92065815}, {\"run_id\": \"AutoML_35c0ddf0-5f1d-4f56-ba49-432f9341b96f_24\", \"run_number\": 29, \"metric\": null, \"status\": \"Completed\", \"run_type\": \"azureml.scriptrun\", \"training_percent\": \"100\", \"start_time\": \"2021-04-16T17:41:03.08147Z\", \"end_time\": \"2021-04-16T17:43:27.449305Z\", \"created_time\": \"2021-04-16T17:40:55.24017Z\", \"created_time_dt\": \"2021-04-16T17:40:55.24017Z\", \"duration\": \"0:02:32\", \"iteration\": \"24\", \"goal\": \"AUC_weighted_max\", \"run_name\": \"MaxAbsScaler, LogisticRegression\", \"run_properties\": \"copy=True\", \"primary_metric\": 0.91317111, \"best_metric\": 0.92065815}, {\"run_id\": \"AutoML_35c0ddf0-5f1d-4f56-ba49-432f9341b96f_25\", \"run_number\": 30, \"metric\": null, \"status\": \"Completed\", \"run_type\": \"azureml.scriptrun\", \"training_percent\": \"100\", \"start_time\": \"2021-04-16T17:43:33.466746Z\", \"end_time\": \"2021-04-16T17:45:10.839165Z\", \"created_time\": \"2021-04-16T17:43:18.417856Z\", \"created_time_dt\": \"2021-04-16T17:43:18.417856Z\", \"duration\": \"0:01:52\", \"iteration\": \"25\", \"goal\": \"AUC_weighted_max\", \"run_name\": \"MaxAbsScaler, RandomForest\", \"run_properties\": \"copy=True\", \"primary_metric\": 0.89648802, \"best_metric\": 0.92065815}, {\"run_id\": \"AutoML_35c0ddf0-5f1d-4f56-ba49-432f9341b96f_26\", \"run_number\": 31, \"metric\": null, \"status\": \"Completed\", \"run_type\": \"azureml.scriptrun\", \"training_percent\": \"100\", \"start_time\": \"2021-04-16T17:43:33.785448Z\", \"end_time\": \"2021-04-16T17:45:03.39603Z\", \"created_time\": \"2021-04-16T17:43:22.594548Z\", \"created_time_dt\": \"2021-04-16T17:43:22.594548Z\", \"duration\": \"0:01:40\", \"iteration\": \"26\", \"goal\": \"AUC_weighted_max\", \"run_name\": \"StandardScalerWrapper, ExtremeRandomTrees\", \"run_properties\": \"<azureml.automl.runtime.shared.model_wrappers.StandardScalerWrapper object at 0x7f950bf15fd0\", \"primary_metric\": 0.89522425, \"best_metric\": 0.92065815}, {\"run_id\": \"AutoML_35c0ddf0-5f1d-4f56-ba49-432f9341b96f_27\", \"run_number\": 32, \"metric\": null, \"status\": \"Completed\", \"run_type\": \"azureml.scriptrun\", \"training_percent\": \"100\", \"start_time\": \"2021-04-16T17:43:31.548161Z\", \"end_time\": \"2021-04-16T17:45:00.670842Z\", \"created_time\": \"2021-04-16T17:43:22.640342Z\", \"created_time_dt\": \"2021-04-16T17:43:22.640342Z\", \"duration\": \"0:01:38\", \"iteration\": \"27\", \"goal\": \"AUC_weighted_max\", \"run_name\": \"MaxAbsScaler, ExtremeRandomTrees\", \"run_properties\": \"copy=True\", \"primary_metric\": 0.91254202, \"best_metric\": 0.92065815}, {\"run_id\": \"AutoML_35c0ddf0-5f1d-4f56-ba49-432f9341b96f_28\", \"run_number\": 33, \"metric\": null, \"status\": \"Completed\", \"run_type\": \"azureml.scriptrun\", \"training_percent\": \"100\", \"start_time\": \"2021-04-16T17:43:36.686027Z\", \"end_time\": \"2021-04-16T17:45:01.806686Z\", \"created_time\": \"2021-04-16T17:43:27.900282Z\", \"created_time_dt\": \"2021-04-16T17:43:27.900282Z\", \"duration\": \"0:01:33\", \"iteration\": \"28\", \"goal\": \"AUC_weighted_max\", \"run_name\": \"MaxAbsScaler, ExtremeRandomTrees\", \"run_properties\": \"copy=True\", \"primary_metric\": 0.91048131, \"best_metric\": 0.92065815}, {\"run_id\": \"AutoML_35c0ddf0-5f1d-4f56-ba49-432f9341b96f_29\", \"run_number\": 34, \"metric\": null, \"status\": \"Completed\", \"run_type\": \"azureml.scriptrun\", \"training_percent\": \"100\", \"start_time\": \"2021-04-16T17:43:46.626238Z\", \"end_time\": \"2021-04-16T17:45:17.338716Z\", \"created_time\": \"2021-04-16T17:43:33.360701Z\", \"created_time_dt\": \"2021-04-16T17:43:33.360701Z\", \"duration\": \"0:01:43\", \"iteration\": \"29\", \"goal\": \"AUC_weighted_max\", \"run_name\": \"MaxAbsScaler, ExtremeRandomTrees\", \"run_properties\": \"copy=True\", \"primary_metric\": 0.90628611, \"best_metric\": 0.92065815}, {\"run_id\": \"AutoML_35c0ddf0-5f1d-4f56-ba49-432f9341b96f_30\", \"run_number\": 35, \"metric\": null, \"status\": \"Completed\", \"run_type\": \"azureml.scriptrun\", \"training_percent\": \"100\", \"start_time\": \"2021-04-16T17:45:17.925395Z\", \"end_time\": \"2021-04-16T17:46:35.999141Z\", \"created_time\": \"2021-04-16T17:45:04.648255Z\", \"created_time_dt\": \"2021-04-16T17:45:04.648255Z\", \"duration\": \"0:01:31\", \"iteration\": \"30\", \"goal\": \"AUC_weighted_max\", \"run_name\": \"SparseNormalizer, RandomForest\", \"run_properties\": \"<azureml.automl.runtime.shared.model_wrappers.SparseNormalizer object at 0x7f2097b08c50\", \"primary_metric\": 0.90451508, \"best_metric\": 0.92065815}, {\"run_id\": \"AutoML_35c0ddf0-5f1d-4f56-ba49-432f9341b96f_31\", \"run_number\": 36, \"metric\": null, \"status\": \"Completed\", \"run_type\": \"azureml.scriptrun\", \"training_percent\": \"100\", \"start_time\": \"2021-04-16T17:45:18.172829Z\", \"end_time\": \"2021-04-16T17:46:30.062087Z\", \"created_time\": \"2021-04-16T17:45:09.394977Z\", \"created_time_dt\": \"2021-04-16T17:45:09.394977Z\", \"duration\": \"0:01:20\", \"iteration\": \"31\", \"goal\": \"AUC_weighted_max\", \"run_name\": \"SparseNormalizer, ExtremeRandomTrees\", \"run_properties\": \"<azureml.automl.runtime.shared.model_wrappers.SparseNormalizer object at 0x7f2fa4cf3668\", \"primary_metric\": 0.91576925, \"best_metric\": 0.92065815}, {\"run_id\": \"AutoML_35c0ddf0-5f1d-4f56-ba49-432f9341b96f_32\", \"run_number\": 37, \"metric\": null, \"status\": \"Completed\", \"run_type\": \"azureml.scriptrun\", \"training_percent\": \"100\", \"start_time\": \"2021-04-16T17:45:22.758076Z\", \"end_time\": \"2021-04-16T17:46:33.52569Z\", \"created_time\": \"2021-04-16T17:45:09.426071Z\", \"created_time_dt\": \"2021-04-16T17:45:09.426071Z\", \"duration\": \"0:01:24\", \"iteration\": \"32\", \"goal\": \"AUC_weighted_max\", \"run_name\": \"SparseNormalizer, XGBoostClassifier\", \"run_properties\": \"<azureml.automl.runtime.shared.model_wrappers.SparseNormalizer object at 0x7f05830aa2b0\", \"primary_metric\": 0.91803583, \"best_metric\": 0.92065815}, {\"run_id\": \"AutoML_35c0ddf0-5f1d-4f56-ba49-432f9341b96f_33\", \"run_number\": 38, \"metric\": null, \"status\": \"Completed\", \"run_type\": \"azureml.scriptrun\", \"training_percent\": \"100\", \"start_time\": \"2021-04-16T17:45:25.822289Z\", \"end_time\": \"2021-04-16T17:46:40.929674Z\", \"created_time\": \"2021-04-16T17:45:16.146789Z\", \"created_time_dt\": \"2021-04-16T17:45:16.146789Z\", \"duration\": \"0:01:24\", \"iteration\": \"33\", \"goal\": \"AUC_weighted_max\", \"run_name\": \"SparseNormalizer, XGBoostClassifier\", \"run_properties\": \"<azureml.automl.runtime.shared.model_wrappers.SparseNormalizer object at 0x7fe53e733b70\", \"primary_metric\": 0.90475847, \"best_metric\": 0.92065815}, {\"run_id\": \"AutoML_35c0ddf0-5f1d-4f56-ba49-432f9341b96f_34\", \"run_number\": 39, \"metric\": null, \"status\": \"Completed\", \"run_type\": \"azureml.scriptrun\", \"training_percent\": \"100\", \"start_time\": \"2021-04-16T17:45:32.152776Z\", \"end_time\": \"2021-04-16T17:46:41.615267Z\", \"created_time\": \"2021-04-16T17:45:22.69771Z\", \"created_time_dt\": \"2021-04-16T17:45:22.69771Z\", \"duration\": \"0:01:18\", \"iteration\": \"34\", \"goal\": \"AUC_weighted_max\", \"run_name\": \"SparseNormalizer, XGBoostClassifier\", \"run_properties\": \"<azureml.automl.runtime.shared.model_wrappers.SparseNormalizer object at 0x7f32ae6e7390\", \"primary_metric\": 0.91281401, \"best_metric\": 0.92065815}, {\"run_id\": \"AutoML_35c0ddf0-5f1d-4f56-ba49-432f9341b96f_35\", \"run_number\": 40, \"metric\": null, \"status\": \"Canceled\", \"run_type\": \"azureml.scriptrun\", \"training_percent\": \"100\", \"start_time\": \"2021-04-16T17:46:33.715095Z\", \"end_time\": \"2021-04-16T17:46:50.239874Z\", \"created_time\": \"2021-04-16T17:46:33.715095Z\", \"created_time_dt\": \"2021-04-16T17:46:33.715095Z\", \"duration\": \"0:00:16\", \"iteration\": \"35\", \"goal\": null, \"run_name\": \"Canceled\", \"run_properties\": null}, {\"run_id\": \"AutoML_35c0ddf0-5f1d-4f56-ba49-432f9341b96f_37\", \"run_number\": 41, \"metric\": null, \"status\": \"Canceled\", \"run_type\": \"azureml.scriptrun\", \"training_percent\": \"100\", \"start_time\": \"2021-04-16T17:46:38.290718Z\", \"end_time\": \"2021-04-16T17:46:56.586901Z\", \"created_time\": \"2021-04-16T17:46:38.290718Z\", \"created_time_dt\": \"2021-04-16T17:46:38.290718Z\", \"duration\": \"0:00:18\", \"iteration\": \"37\", \"goal\": null, \"run_name\": \"Canceled\", \"run_properties\": null}, {\"run_id\": \"AutoML_35c0ddf0-5f1d-4f56-ba49-432f9341b96f_36\", \"run_number\": 42, \"metric\": null, \"status\": \"Canceled\", \"run_type\": \"azureml.scriptrun\", \"training_percent\": \"100\", \"start_time\": \"2021-04-16T17:46:38.343767Z\", \"end_time\": \"2021-04-16T17:46:43.367143Z\", \"created_time\": \"2021-04-16T17:46:38.343767Z\", \"created_time_dt\": \"2021-04-16T17:46:38.343767Z\", \"duration\": \"0:00:05\", \"iteration\": \"36\", \"goal\": null, \"run_name\": \"Canceled\", \"run_properties\": null}, {\"run_id\": \"AutoML_35c0ddf0-5f1d-4f56-ba49-432f9341b96f_38\", \"run_number\": 43, \"metric\": null, \"status\": \"Completed\", \"run_type\": \"azureml.scriptrun\", \"training_percent\": \"100\", \"start_time\": \"2021-04-16T17:47:10.725363Z\", \"end_time\": \"2021-04-16T17:50:02.870442Z\", \"created_time\": \"2021-04-16T17:46:57.93083Z\", \"created_time_dt\": \"2021-04-16T17:46:57.93083Z\", \"duration\": \"0:03:04\", \"iteration\": \"38\", \"goal\": \"AUC_weighted_max\", \"run_name\": \"VotingEnsemble\", \"run_properties\": \"classification_labels=None,\\n                              estimators=[('8',\\n                                           Pipeline(memory=None,\\n                                                    steps=[('maxabsscaler',\\n                                                            MaxAbsScaler(copy=True\", \"primary_metric\": 0.93641207, \"best_metric\": 0.93641207}, {\"run_id\": \"AutoML_35c0ddf0-5f1d-4f56-ba49-432f9341b96f_39\", \"run_number\": 44, \"metric\": null, \"status\": \"Completed\", \"run_type\": \"azureml.scriptrun\", \"training_percent\": \"100\", \"start_time\": \"2021-04-16T17:47:05.869428Z\", \"end_time\": \"2021-04-16T17:49:47.361192Z\", \"created_time\": \"2021-04-16T17:46:58.007814Z\", \"created_time_dt\": \"2021-04-16T17:46:58.007814Z\", \"duration\": \"0:02:49\", \"iteration\": \"39\", \"goal\": \"AUC_weighted_max\", \"run_name\": \"StackEnsemble\", \"run_properties\": \"base_learners=[('8',\\n                                        Pipeline(memory=None,\\n                                                 steps=[('maxabsscaler',\\n                                                         MaxAbsScaler(copy=True\", \"primary_metric\": 0.93194691, \"best_metric\": 0.93641207}], \"children_metrics\": {\"categories\": [0], \"series\": {\"accuracy\": [{\"categories\": [\"0\", \"1\", \"2\", \"3\", \"4\", \"5\", \"6\", \"7\", \"8\", \"9\", \"10\", \"11\", \"12\", \"13\", \"14\", \"15\", \"16\", \"17\", \"18\", \"19\", \"20\", \"21\", \"22\", \"23\", \"24\", \"25\", \"26\", \"27\", \"28\", \"29\", \"30\", \"31\", \"32\", \"33\", \"34\", \"38\", \"39\"], \"mode\": \"markers\", \"name\": \"accuracy\", \"stepped\": false, \"type\": \"scatter\", \"data\": [0.8108225108225108, 0.825108225108225, 0.7963203463203463, 0.8387445887445887, 0.7867965367965368, 0.8389610389610389, 0.8389610389610389, 0.8199134199134199, 0.8294372294372294, 0.8389610389610389, 0.8196969696969697, 0.7965367965367964, 0.8339826839826839, 0.8196969696969697, 0.8103896103896104, 0.782034632034632, 0.8487012987012987, 0.8627705627705626, 0.8153679653679653, 0.8385281385281385, 0.8294372294372294, 0.8387445887445887, 0.8575757575757577, 0.8391774891774892, 0.8389610389610389, 0.8337662337662339, 0.7826839826839826, 0.8675324675324676, 0.8530303030303031, 0.8435064935064936, 0.7636363636363636, 0.8435064935064936, 0.8251082251082252, 0.8103896103896103, 0.8294372294372294, 0.8341991341991342, 0.6880952380952381]}, {\"categories\": [\"0\", \"1\", \"2\", \"3\", \"4\", \"5\", \"6\", \"7\", \"8\", \"9\", \"10\", \"11\", \"12\", \"13\", \"14\", \"15\", \"16\", \"17\", \"18\", \"19\", \"20\", \"21\", \"22\", \"23\", \"24\", \"25\", \"26\", \"27\", \"28\", \"29\", \"30\", \"31\", \"32\", \"33\", \"34\", \"38\", \"39\"], \"mode\": \"lines\", \"name\": \"accuracy_max\", \"stepped\": true, \"type\": \"scatter\", \"data\": [0.8108225108225108, 0.825108225108225, 0.825108225108225, 0.8387445887445887, 0.8387445887445887, 0.8389610389610389, 0.8389610389610389, 0.8389610389610389, 0.8389610389610389, 0.8389610389610389, 0.8389610389610389, 0.8389610389610389, 0.8389610389610389, 0.8389610389610389, 0.8389610389610389, 0.8389610389610389, 0.8487012987012987, 0.8627705627705626, 0.8627705627705626, 0.8627705627705626, 0.8627705627705626, 0.8627705627705626, 0.8627705627705626, 0.8627705627705626, 0.8627705627705626, 0.8627705627705626, 0.8627705627705626, 0.8675324675324676, 0.8675324675324676, 0.8675324675324676, 0.8675324675324676, 0.8675324675324676, 0.8675324675324676, 0.8675324675324676, 0.8675324675324676, 0.8675324675324676, 0.8675324675324676]}], \"recall_score_macro\": [{\"categories\": [\"0\", \"1\", \"2\", \"3\", \"4\", \"5\", \"6\", \"7\", \"8\", \"9\", \"10\", \"11\", \"12\", \"13\", \"14\", \"15\", \"16\", \"17\", \"18\", \"19\", \"20\", \"21\", \"22\", \"23\", \"24\", \"25\", \"26\", \"27\", \"28\", \"29\", \"30\", \"31\", \"32\", \"33\", \"34\", \"38\", \"39\"], \"mode\": \"markers\", \"name\": \"recall_score_macro\", \"stepped\": false, \"type\": \"scatter\", \"data\": [0.8096520146520145, 0.8235331335331335, 0.7878711566211567, 0.828429070929071, 0.780405982905983, 0.830353119103119, 0.8314479964479965, 0.8135457597957597, 0.8188235375735375, 0.8344229381729381, 0.8197236097236097, 0.7901402763902764, 0.8282937895437895, 0.80636322011322, 0.8043724331224331, 0.7780942668442669, 0.8407492507492508, 0.8622193084693086, 0.8129523254523254, 0.8347777222777222, 0.8278284215784215, 0.8394801032301032, 0.8522777222777224, 0.839642440892441, 0.8425591075591076, 0.8287663725163725, 0.7772187534687534, 0.8641090853590854, 0.8467443667443668, 0.8394229381729381, 0.7400772838272839, 0.8393850593850594, 0.8200362137862139, 0.8014214951714951, 0.8222548285048286, 0.8321803196803199, 0.6904563492063492]}, {\"categories\": [\"0\", \"1\", \"2\", \"3\", \"4\", \"5\", \"6\", \"7\", \"8\", \"9\", \"10\", \"11\", \"12\", \"13\", \"14\", \"15\", \"16\", \"17\", \"18\", \"19\", \"20\", \"21\", \"22\", \"23\", \"24\", \"25\", \"26\", \"27\", \"28\", \"29\", \"30\", \"31\", \"32\", \"33\", \"34\", \"38\", \"39\"], \"mode\": \"lines\", \"name\": \"recall_score_macro_max\", \"stepped\": true, \"type\": \"scatter\", \"data\": [0.8096520146520145, 0.8235331335331335, 0.8235331335331335, 0.828429070929071, 0.828429070929071, 0.830353119103119, 0.8314479964479965, 0.8314479964479965, 0.8314479964479965, 0.8344229381729381, 0.8344229381729381, 0.8344229381729381, 0.8344229381729381, 0.8344229381729381, 0.8344229381729381, 0.8344229381729381, 0.8407492507492508, 0.8622193084693086, 0.8622193084693086, 0.8622193084693086, 0.8622193084693086, 0.8622193084693086, 0.8622193084693086, 0.8622193084693086, 0.8622193084693086, 0.8622193084693086, 0.8622193084693086, 0.8641090853590854, 0.8641090853590854, 0.8641090853590854, 0.8641090853590854, 0.8641090853590854, 0.8641090853590854, 0.8641090853590854, 0.8641090853590854, 0.8641090853590854, 0.8641090853590854]}], \"recall_score_weighted\": [{\"categories\": [\"0\", \"1\", \"2\", \"3\", \"4\", \"5\", \"6\", \"7\", \"8\", \"9\", \"10\", \"11\", \"12\", \"13\", \"14\", \"15\", \"16\", \"17\", \"18\", \"19\", \"20\", \"21\", \"22\", \"23\", \"24\", \"25\", \"26\", \"27\", \"28\", \"29\", \"30\", \"31\", \"32\", \"33\", \"34\", \"38\", \"39\"], \"mode\": \"markers\", \"name\": \"recall_score_weighted\", \"stepped\": false, \"type\": \"scatter\", \"data\": [0.8108225108225108, 0.825108225108225, 0.7963203463203463, 0.8387445887445887, 0.7867965367965368, 0.8389610389610389, 0.8389610389610389, 0.8199134199134199, 0.8294372294372294, 0.8389610389610389, 0.8196969696969697, 0.7965367965367964, 0.8339826839826839, 0.8196969696969697, 0.8103896103896104, 0.782034632034632, 0.8487012987012987, 0.8627705627705626, 0.8153679653679653, 0.8385281385281385, 0.8294372294372294, 0.8387445887445887, 0.8575757575757577, 0.8391774891774892, 0.8389610389610389, 0.8337662337662339, 0.7826839826839826, 0.8675324675324676, 0.8530303030303031, 0.8435064935064936, 0.7636363636363636, 0.8435064935064936, 0.8251082251082252, 0.8103896103896103, 0.8294372294372294, 0.8341991341991342, 0.6880952380952381]}, {\"categories\": [\"0\", \"1\", \"2\", \"3\", \"4\", \"5\", \"6\", \"7\", \"8\", \"9\", \"10\", \"11\", \"12\", \"13\", \"14\", \"15\", \"16\", \"17\", \"18\", \"19\", \"20\", \"21\", \"22\", \"23\", \"24\", \"25\", \"26\", \"27\", \"28\", \"29\", \"30\", \"31\", \"32\", \"33\", \"34\", \"38\", \"39\"], \"mode\": \"lines\", \"name\": \"recall_score_weighted_max\", \"stepped\": true, \"type\": \"scatter\", \"data\": [0.8108225108225108, 0.825108225108225, 0.825108225108225, 0.8387445887445887, 0.8387445887445887, 0.8389610389610389, 0.8389610389610389, 0.8389610389610389, 0.8389610389610389, 0.8389610389610389, 0.8389610389610389, 0.8389610389610389, 0.8389610389610389, 0.8389610389610389, 0.8389610389610389, 0.8389610389610389, 0.8487012987012987, 0.8627705627705626, 0.8627705627705626, 0.8627705627705626, 0.8627705627705626, 0.8627705627705626, 0.8627705627705626, 0.8627705627705626, 0.8627705627705626, 0.8627705627705626, 0.8627705627705626, 0.8675324675324676, 0.8675324675324676, 0.8675324675324676, 0.8675324675324676, 0.8675324675324676, 0.8675324675324676, 0.8675324675324676, 0.8675324675324676, 0.8675324675324676, 0.8675324675324676]}], \"weighted_accuracy\": [{\"categories\": [\"0\", \"1\", \"2\", \"3\", \"4\", \"5\", \"6\", \"7\", \"8\", \"9\", \"10\", \"11\", \"12\", \"13\", \"14\", \"15\", \"16\", \"17\", \"18\", \"19\", \"20\", \"21\", \"22\", \"23\", \"24\", \"25\", \"26\", \"27\", \"28\", \"29\", \"30\", \"31\", \"32\", \"33\", \"34\", \"38\", \"39\"], \"mode\": \"markers\", \"name\": \"weighted_accuracy\", \"stepped\": false, \"type\": \"scatter\", \"data\": [0.8115787948079662, 0.8263613866165613, 0.8021376721362048, 0.8467894620378532, 0.7910951079393238, 0.8452261820185418, 0.8444266915845112, 0.8239762250122536, 0.8368785670757086, 0.8425647682220262, 0.8195021689546305, 0.8020378610782076, 0.8386059614436598, 0.8297290225607943, 0.8152383248721117, 0.7843730869838301, 0.8548011498661332, 0.8634767451301378, 0.8172053351026222, 0.8410679581350241, 0.8306405430886151, 0.8378088276358444, 0.8617964574923267, 0.838752589756077, 0.8360823863962186, 0.8376544303676777, 0.7872966319719922, 0.8702039617948069, 0.8578528026770005, 0.847010260676942, 0.7803679678949532, 0.8468438792137161, 0.8291860091943513, 0.817510960013075, 0.8352481919489158, 0.8356622015200765, 0.6862071537280214]}, {\"categories\": [\"0\", \"1\", \"2\", \"3\", \"4\", \"5\", \"6\", \"7\", \"8\", \"9\", \"10\", \"11\", \"12\", \"13\", \"14\", \"15\", \"16\", \"17\", \"18\", \"19\", \"20\", \"21\", \"22\", \"23\", \"24\", \"25\", \"26\", \"27\", \"28\", \"29\", \"30\", \"31\", \"32\", \"33\", \"34\", \"38\", \"39\"], \"mode\": \"lines\", \"name\": \"weighted_accuracy_max\", \"stepped\": true, \"type\": \"scatter\", \"data\": [0.8115787948079662, 0.8263613866165613, 0.8263613866165613, 0.8467894620378532, 0.8467894620378532, 0.8467894620378532, 0.8467894620378532, 0.8467894620378532, 0.8467894620378532, 0.8467894620378532, 0.8467894620378532, 0.8467894620378532, 0.8467894620378532, 0.8467894620378532, 0.8467894620378532, 0.8467894620378532, 0.8548011498661332, 0.8634767451301378, 0.8634767451301378, 0.8634767451301378, 0.8634767451301378, 0.8634767451301378, 0.8634767451301378, 0.8634767451301378, 0.8634767451301378, 0.8634767451301378, 0.8634767451301378, 0.8702039617948069, 0.8702039617948069, 0.8702039617948069, 0.8702039617948069, 0.8702039617948069, 0.8702039617948069, 0.8702039617948069, 0.8702039617948069, 0.8702039617948069, 0.8702039617948069]}], \"AUC_micro\": [{\"categories\": [\"0\", \"1\", \"2\", \"3\", \"4\", \"5\", \"6\", \"7\", \"8\", \"9\", \"10\", \"11\", \"12\", \"13\", \"14\", \"15\", \"16\", \"17\", \"18\", \"19\", \"20\", \"21\", \"22\", \"23\", \"24\", \"25\", \"26\", \"27\", \"28\", \"29\", \"30\", \"31\", \"32\", \"33\", \"34\", \"38\", \"39\"], \"mode\": \"markers\", \"name\": \"AUC_micro\", \"stepped\": false, \"type\": \"scatter\", \"data\": [0.8838393208523078, 0.9005537752291, 0.8802163565150577, 0.9047314518093739, 0.8927536028185379, 0.9067671145593224, 0.912567230749049, 0.9019902175746332, 0.9046307228125409, 0.9181958733906785, 0.8891104926819212, 0.8925872828470232, 0.9130005996889115, 0.8918465733400799, 0.8903019058863213, 0.8733126721763085, 0.9087474934877532, 0.9185837971552256, 0.9020759543486815, 0.91135286070351, 0.9124210565769009, 0.9115341728978092, 0.9117660838440059, 0.900770693952512, 0.9105264144225185, 0.8994153033114072, 0.886388935739585, 0.9146886302730458, 0.9104003860497368, 0.9075987144168962, 0.8384672326230767, 0.9080119375573921, 0.9099670171098742, 0.8964168587545209, 0.9108084556136504, 0.9271602856018439, 0.8176556848634771]}, {\"categories\": [\"0\", \"1\", \"2\", \"3\", \"4\", \"5\", \"6\", \"7\", \"8\", \"9\", \"10\", \"11\", \"12\", \"13\", \"14\", \"15\", \"16\", \"17\", \"18\", \"19\", \"20\", \"21\", \"22\", \"23\", \"24\", \"25\", \"26\", \"27\", \"28\", \"29\", \"30\", \"31\", \"32\", \"33\", \"34\", \"38\", \"39\"], \"mode\": \"lines\", \"name\": \"AUC_micro_max\", \"stepped\": true, \"type\": \"scatter\", \"data\": [0.8838393208523078, 0.9005537752291, 0.9005537752291, 0.9047314518093739, 0.9047314518093739, 0.9067671145593224, 0.912567230749049, 0.912567230749049, 0.912567230749049, 0.9181958733906785, 0.9181958733906785, 0.9181958733906785, 0.9181958733906785, 0.9181958733906785, 0.9181958733906785, 0.9181958733906785, 0.9181958733906785, 0.9185837971552256, 0.9185837971552256, 0.9185837971552256, 0.9185837971552256, 0.9185837971552256, 0.9185837971552256, 0.9185837971552256, 0.9185837971552256, 0.9185837971552256, 0.9185837971552256, 0.9185837971552256, 0.9185837971552256, 0.9185837971552256, 0.9185837971552256, 0.9185837971552256, 0.9185837971552256, 0.9185837971552256, 0.9185837971552256, 0.9271602856018439, 0.9271602856018439]}], \"average_precision_score_micro\": [{\"categories\": [\"0\", \"1\", \"2\", \"3\", \"4\", \"5\", \"6\", \"7\", \"8\", \"9\", \"10\", \"11\", \"12\", \"13\", \"14\", \"15\", \"16\", \"17\", \"18\", \"19\", \"20\", \"21\", \"22\", \"23\", \"24\", \"25\", \"26\", \"27\", \"28\", \"29\", \"30\", \"31\", \"32\", \"33\", \"34\", \"38\", \"39\"], \"mode\": \"markers\", \"name\": \"average_precision_score_micro\", \"stepped\": false, \"type\": \"scatter\", \"data\": [0.8914218062828094, 0.9064385929296479, 0.8884854839394357, 0.9109694055182619, 0.9000654616112398, 0.9143654469849132, 0.9217459517874629, 0.9059047900510706, 0.9062384903548957, 0.9223934070094604, 0.8975241919504798, 0.8974739888740926, 0.9199822805093779, 0.8971722062955825, 0.8973015395209725, 0.8775652074174515, 0.9088496083820446, 0.9208833758667081, 0.9111952378840084, 0.9172060891190548, 0.9186699815444872, 0.9187080879776944, 0.9180417209343987, 0.9075225142927067, 0.9168610764038292, 0.9059003171471007, 0.892197381507503, 0.9155163077221943, 0.9154008133629267, 0.9128996523249887, 0.8468775167353263, 0.9151088092866889, 0.9165718657286239, 0.9016816502708167, 0.9159611326792302, 0.9294154473974393, 0.8415833040577718]}, {\"categories\": [\"0\", \"1\", \"2\", \"3\", \"4\", \"5\", \"6\", \"7\", \"8\", \"9\", \"10\", \"11\", \"12\", \"13\", \"14\", \"15\", \"16\", \"17\", \"18\", \"19\", \"20\", \"21\", \"22\", \"23\", \"24\", \"25\", \"26\", \"27\", \"28\", \"29\", \"30\", \"31\", \"32\", \"33\", \"34\", \"38\", \"39\"], \"mode\": \"lines\", \"name\": \"average_precision_score_micro_max\", \"stepped\": true, \"type\": \"scatter\", \"data\": [0.8914218062828094, 0.9064385929296479, 0.9064385929296479, 0.9109694055182619, 0.9109694055182619, 0.9143654469849132, 0.9217459517874629, 0.9217459517874629, 0.9217459517874629, 0.9223934070094604, 0.9223934070094604, 0.9223934070094604, 0.9223934070094604, 0.9223934070094604, 0.9223934070094604, 0.9223934070094604, 0.9223934070094604, 0.9223934070094604, 0.9223934070094604, 0.9223934070094604, 0.9223934070094604, 0.9223934070094604, 0.9223934070094604, 0.9223934070094604, 0.9223934070094604, 0.9223934070094604, 0.9223934070094604, 0.9223934070094604, 0.9223934070094604, 0.9223934070094604, 0.9223934070094604, 0.9223934070094604, 0.9223934070094604, 0.9223934070094604, 0.9223934070094604, 0.9294154473974393, 0.9294154473974393]}], \"recall_score_micro\": [{\"categories\": [\"0\", \"1\", \"2\", \"3\", \"4\", \"5\", \"6\", \"7\", \"8\", \"9\", \"10\", \"11\", \"12\", \"13\", \"14\", \"15\", \"16\", \"17\", \"18\", \"19\", \"20\", \"21\", \"22\", \"23\", \"24\", \"25\", \"26\", \"27\", \"28\", \"29\", \"30\", \"31\", \"32\", \"33\", \"34\", \"38\", \"39\"], \"mode\": \"markers\", \"name\": \"recall_score_micro\", \"stepped\": false, \"type\": \"scatter\", \"data\": [0.8108225108225108, 0.825108225108225, 0.7963203463203463, 0.8387445887445887, 0.7867965367965368, 0.8389610389610389, 0.8389610389610389, 0.8199134199134199, 0.8294372294372294, 0.8389610389610389, 0.8196969696969697, 0.7965367965367964, 0.8339826839826839, 0.8196969696969697, 0.8103896103896104, 0.782034632034632, 0.8487012987012987, 0.8627705627705626, 0.8153679653679653, 0.8385281385281385, 0.8294372294372294, 0.8387445887445887, 0.8575757575757577, 0.8391774891774892, 0.8389610389610389, 0.8337662337662339, 0.7826839826839826, 0.8675324675324676, 0.8530303030303031, 0.8435064935064936, 0.7636363636363636, 0.8435064935064936, 0.8251082251082252, 0.8103896103896103, 0.8294372294372294, 0.8341991341991342, 0.6880952380952381]}, {\"categories\": [\"0\", \"1\", \"2\", \"3\", \"4\", \"5\", \"6\", \"7\", \"8\", \"9\", \"10\", \"11\", \"12\", \"13\", \"14\", \"15\", \"16\", \"17\", \"18\", \"19\", \"20\", \"21\", \"22\", \"23\", \"24\", \"25\", \"26\", \"27\", \"28\", \"29\", \"30\", \"31\", \"32\", \"33\", \"34\", \"38\", \"39\"], \"mode\": \"lines\", \"name\": \"recall_score_micro_max\", \"stepped\": true, \"type\": \"scatter\", \"data\": [0.8108225108225108, 0.825108225108225, 0.825108225108225, 0.8387445887445887, 0.8387445887445887, 0.8389610389610389, 0.8389610389610389, 0.8389610389610389, 0.8389610389610389, 0.8389610389610389, 0.8389610389610389, 0.8389610389610389, 0.8389610389610389, 0.8389610389610389, 0.8389610389610389, 0.8389610389610389, 0.8487012987012987, 0.8627705627705626, 0.8627705627705626, 0.8627705627705626, 0.8627705627705626, 0.8627705627705626, 0.8627705627705626, 0.8627705627705626, 0.8627705627705626, 0.8627705627705626, 0.8627705627705626, 0.8675324675324676, 0.8675324675324676, 0.8675324675324676, 0.8675324675324676, 0.8675324675324676, 0.8675324675324676, 0.8675324675324676, 0.8675324675324676, 0.8675324675324676, 0.8675324675324676]}], \"average_precision_score_weighted\": [{\"categories\": [\"0\", \"1\", \"2\", \"3\", \"4\", \"5\", \"6\", \"7\", \"8\", \"9\", \"10\", \"11\", \"12\", \"13\", \"14\", \"15\", \"16\", \"17\", \"18\", \"19\", \"20\", \"21\", \"22\", \"23\", \"24\", \"25\", \"26\", \"27\", \"28\", \"29\", \"30\", \"31\", \"32\", \"33\", \"34\", \"38\", \"39\"], \"mode\": \"markers\", \"name\": \"average_precision_score_weighted\", \"stepped\": false, \"type\": \"scatter\", \"data\": [0.9069489301670858, 0.9181645737058165, 0.9055720258086467, 0.9178818833385394, 0.9192630234562605, 0.9217036179933732, 0.9222922015640442, 0.9171977706906438, 0.9298633075633902, 0.9259032458523834, 0.899839781263327, 0.9068348629012654, 0.9227551428589786, 0.9064053730294533, 0.913377982647463, 0.8745887345655147, 0.9191004714567297, 0.92912505405645, 0.9240325675464491, 0.9251410971235767, 0.9276606187546641, 0.9233929102455196, 0.9240837822007155, 0.9198091095198672, 0.9234925043244975, 0.9122778582663589, 0.9062739633984256, 0.9217500214313018, 0.9196603323205087, 0.9166284994347798, 0.9206998389467429, 0.9264012846730167, 0.9291611323598377, 0.9173387192100755, 0.9257874239950754, 0.9435953441205542, 0.9396183951436052]}, {\"categories\": [\"0\", \"1\", \"2\", \"3\", \"4\", \"5\", \"6\", \"7\", \"8\", \"9\", \"10\", \"11\", \"12\", \"13\", \"14\", \"15\", \"16\", \"17\", \"18\", \"19\", \"20\", \"21\", \"22\", \"23\", \"24\", \"25\", \"26\", \"27\", \"28\", \"29\", \"30\", \"31\", \"32\", \"33\", \"34\", \"38\", \"39\"], \"mode\": \"lines\", \"name\": \"average_precision_score_weighted_max\", \"stepped\": true, \"type\": \"scatter\", \"data\": [0.9069489301670858, 0.9181645737058165, 0.9181645737058165, 0.9181645737058165, 0.9192630234562605, 0.9217036179933732, 0.9222922015640442, 0.9222922015640442, 0.9298633075633902, 0.9298633075633902, 0.9298633075633902, 0.9298633075633902, 0.9298633075633902, 0.9298633075633902, 0.9298633075633902, 0.9298633075633902, 0.9298633075633902, 0.9298633075633902, 0.9298633075633902, 0.9298633075633902, 0.9298633075633902, 0.9298633075633902, 0.9298633075633902, 0.9298633075633902, 0.9298633075633902, 0.9298633075633902, 0.9298633075633902, 0.9298633075633902, 0.9298633075633902, 0.9298633075633902, 0.9298633075633902, 0.9298633075633902, 0.9298633075633902, 0.9298633075633902, 0.9298633075633902, 0.9435953441205542, 0.9435953441205542]}], \"matthews_correlation\": [{\"categories\": [\"0\", \"1\", \"2\", \"3\", \"4\", \"5\", \"6\", \"7\", \"8\", \"9\", \"10\", \"11\", \"12\", \"13\", \"14\", \"15\", \"16\", \"17\", \"18\", \"19\", \"20\", \"21\", \"22\", \"23\", \"24\", \"25\", \"26\", \"27\", \"28\", \"29\", \"30\", \"31\", \"32\", \"33\", \"34\", \"38\", \"39\"], \"mode\": \"markers\", \"name\": \"matthews_correlation\", \"stepped\": false, \"type\": \"scatter\", \"data\": [0.6331065788612111, 0.6519332096559801, 0.5878696942599075, 0.6679461815837955, 0.5832108157459956, 0.6847191392850538, 0.6694526976802615, 0.6344790592929432, 0.6617333186988332, 0.6734215195538928, 0.6376215710809141, 0.580247525560865, 0.6563311512765927, 0.6357252702140563, 0.6307747579835705, 0.5680314349242179, 0.6924311062619777, 0.7247026071874523, 0.6292741480920447, 0.6766690944201783, 0.6637650610693385, 0.6856682828793812, 0.7173965803816428, 0.6834046525018864, 0.6857050580296659, 0.6633726258793662, 0.5652504987242267, 0.7262399522978881, 0.6975925050242696, 0.6868334479479244, 0.5696405644843956, 0.6798183055956171, 0.6474925765250865, 0.6181051456986574, 0.6518327025730217, 0.6723443965835221, 0.38448413404258935]}, {\"categories\": [\"0\", \"1\", \"2\", \"3\", \"4\", \"5\", \"6\", \"7\", \"8\", \"9\", \"10\", \"11\", \"12\", \"13\", \"14\", \"15\", \"16\", \"17\", \"18\", \"19\", \"20\", \"21\", \"22\", \"23\", \"24\", \"25\", \"26\", \"27\", \"28\", \"29\", \"30\", \"31\", \"32\", \"33\", \"34\", \"38\", \"39\"], \"mode\": \"lines\", \"name\": \"matthews_correlation_max\", \"stepped\": true, \"type\": \"scatter\", \"data\": [0.6331065788612111, 0.6519332096559801, 0.6519332096559801, 0.6679461815837955, 0.6679461815837955, 0.6847191392850538, 0.6847191392850538, 0.6847191392850538, 0.6847191392850538, 0.6847191392850538, 0.6847191392850538, 0.6847191392850538, 0.6847191392850538, 0.6847191392850538, 0.6847191392850538, 0.6847191392850538, 0.6924311062619777, 0.7247026071874523, 0.7247026071874523, 0.7247026071874523, 0.7247026071874523, 0.7247026071874523, 0.7247026071874523, 0.7247026071874523, 0.7247026071874523, 0.7247026071874523, 0.7247026071874523, 0.7262399522978881, 0.7262399522978881, 0.7262399522978881, 0.7262399522978881, 0.7262399522978881, 0.7262399522978881, 0.7262399522978881, 0.7262399522978881, 0.7262399522978881, 0.7262399522978881]}], \"log_loss\": [{\"categories\": [\"0\", \"1\", \"2\", \"3\", \"4\", \"5\", \"6\", \"7\", \"8\", \"9\", \"10\", \"11\", \"12\", \"13\", \"14\", \"15\", \"16\", \"17\", \"18\", \"19\", \"20\", \"21\", \"22\", \"23\", \"24\", \"25\", \"26\", \"27\", \"28\", \"29\", \"30\", \"31\", \"32\", \"33\", \"34\", \"38\", \"39\"], \"mode\": \"markers\", \"name\": \"log_loss\", \"stepped\": false, \"type\": \"scatter\", \"data\": [0.4779552705889728, 0.4124520780930368, 0.4334109387362589, 0.3857605214686939, 0.4227094761586958, 0.3941866039467668, 0.35693440556440426, 0.41072355706597474, 0.4803294469130428, 0.43171227763954745, 0.46691458308485084, 0.4377474955648992, 0.5522908088584272, 0.4963813949567369, 0.4204858535886652, 0.4277212031199927, 0.40420636326879167, 0.3698974757752486, 0.44577284070828005, 0.3703167087181143, 0.3699477922859281, 0.362648044251796, 0.3732048261324339, 0.3971392177808606, 0.3478477689836596, 0.5276551468070846, 0.44665115883711015, 0.47762113071986567, 0.515194200016649, 0.5068407610458443, 0.6069915532877844, 0.5045155185128328, 0.40448638557682975, 0.4076887322621071, 0.37275244144311126, 0.3951506428311069, 0.5120030489877843]}, {\"categories\": [\"0\", \"1\", \"2\", \"3\", \"4\", \"5\", \"6\", \"7\", \"8\", \"9\", \"10\", \"11\", \"12\", \"13\", \"14\", \"15\", \"16\", \"17\", \"18\", \"19\", \"20\", \"21\", \"22\", \"23\", \"24\", \"25\", \"26\", \"27\", \"28\", \"29\", \"30\", \"31\", \"32\", \"33\", \"34\", \"38\", \"39\"], \"mode\": \"lines\", \"name\": \"log_loss_min\", \"stepped\": true, \"type\": \"scatter\", \"data\": [0.4779552705889728, 0.4124520780930368, 0.4124520780930368, 0.3857605214686939, 0.3857605214686939, 0.3857605214686939, 0.35693440556440426, 0.35693440556440426, 0.35693440556440426, 0.35693440556440426, 0.35693440556440426, 0.35693440556440426, 0.35693440556440426, 0.35693440556440426, 0.35693440556440426, 0.35693440556440426, 0.35693440556440426, 0.35693440556440426, 0.35693440556440426, 0.35693440556440426, 0.35693440556440426, 0.35693440556440426, 0.35693440556440426, 0.35693440556440426, 0.3478477689836596, 0.3478477689836596, 0.3478477689836596, 0.3478477689836596, 0.3478477689836596, 0.3478477689836596, 0.3478477689836596, 0.3478477689836596, 0.3478477689836596, 0.3478477689836596, 0.3478477689836596, 0.3478477689836596, 0.3478477689836596]}], \"balanced_accuracy\": [{\"categories\": [\"0\", \"1\", \"2\", \"3\", \"4\", \"5\", \"6\", \"7\", \"8\", \"9\", \"10\", \"11\", \"12\", \"13\", \"14\", \"15\", \"16\", \"17\", \"18\", \"19\", \"20\", \"21\", \"22\", \"23\", \"24\", \"25\", \"26\", \"27\", \"28\", \"29\", \"30\", \"31\", \"32\", \"33\", \"34\", \"38\", \"39\"], \"mode\": \"markers\", \"name\": \"balanced_accuracy\", \"stepped\": false, \"type\": \"scatter\", \"data\": [0.8096520146520145, 0.8235331335331335, 0.7878711566211567, 0.828429070929071, 0.780405982905983, 0.830353119103119, 0.8314479964479965, 0.8135457597957597, 0.8188235375735375, 0.8344229381729381, 0.8197236097236097, 0.7901402763902764, 0.8282937895437895, 0.80636322011322, 0.8043724331224331, 0.7780942668442669, 0.8407492507492508, 0.8622193084693086, 0.8129523254523254, 0.8347777222777222, 0.8278284215784215, 0.8394801032301032, 0.8522777222777224, 0.839642440892441, 0.8425591075591076, 0.8287663725163725, 0.7772187534687534, 0.8641090853590854, 0.8467443667443668, 0.8394229381729381, 0.7400772838272839, 0.8393850593850594, 0.8200362137862139, 0.8014214951714951, 0.8222548285048286, 0.8321803196803199, 0.6904563492063492]}, {\"categories\": [\"0\", \"1\", \"2\", \"3\", \"4\", \"5\", \"6\", \"7\", \"8\", \"9\", \"10\", \"11\", \"12\", \"13\", \"14\", \"15\", \"16\", \"17\", \"18\", \"19\", \"20\", \"21\", \"22\", \"23\", \"24\", \"25\", \"26\", \"27\", \"28\", \"29\", \"30\", \"31\", \"32\", \"33\", \"34\", \"38\", \"39\"], \"mode\": \"lines\", \"name\": \"balanced_accuracy_max\", \"stepped\": true, \"type\": \"scatter\", \"data\": [0.8096520146520145, 0.8235331335331335, 0.8235331335331335, 0.828429070929071, 0.828429070929071, 0.830353119103119, 0.8314479964479965, 0.8314479964479965, 0.8314479964479965, 0.8344229381729381, 0.8344229381729381, 0.8344229381729381, 0.8344229381729381, 0.8344229381729381, 0.8344229381729381, 0.8344229381729381, 0.8407492507492508, 0.8622193084693086, 0.8622193084693086, 0.8622193084693086, 0.8622193084693086, 0.8622193084693086, 0.8622193084693086, 0.8622193084693086, 0.8622193084693086, 0.8622193084693086, 0.8622193084693086, 0.8641090853590854, 0.8641090853590854, 0.8641090853590854, 0.8641090853590854, 0.8641090853590854, 0.8641090853590854, 0.8641090853590854, 0.8641090853590854, 0.8641090853590854, 0.8641090853590854]}], \"norm_macro_recall\": [{\"categories\": [\"0\", \"1\", \"2\", \"3\", \"4\", \"5\", \"6\", \"7\", \"8\", \"9\", \"10\", \"11\", \"12\", \"13\", \"14\", \"15\", \"16\", \"17\", \"18\", \"19\", \"20\", \"21\", \"22\", \"23\", \"24\", \"25\", \"26\", \"27\", \"28\", \"29\", \"30\", \"31\", \"32\", \"33\", \"34\", \"38\", \"39\"], \"mode\": \"markers\", \"name\": \"norm_macro_recall\", \"stepped\": false, \"type\": \"scatter\", \"data\": [0.6193040293040293, 0.6470662670662671, 0.5757423132423133, 0.6568581418581418, 0.5608119658119659, 0.6607062382062382, 0.662895992895993, 0.6270915195915195, 0.6376470751470752, 0.6688458763458766, 0.6394472194472195, 0.5985497835497837, 0.656587579087579, 0.6127264402264402, 0.6087448662448663, 0.5561885336885337, 0.6814985014985016, 0.7244386169386171, 0.625904650904651, 0.6695554445554446, 0.6556568431568431, 0.6789602064602065, 0.7045554445554446, 0.6792848817848818, 0.6851182151182151, 0.6575327450327451, 0.5544375069375069, 0.7282181707181709, 0.6934887334887335, 0.6788458763458765, 0.4801545676545677, 0.6787701187701188, 0.6400724275724277, 0.6028429903429903, 0.644509657009657, 0.6643606393606394, 0.3809126984126984]}, {\"categories\": [\"0\", \"1\", \"2\", \"3\", \"4\", \"5\", \"6\", \"7\", \"8\", \"9\", \"10\", \"11\", \"12\", \"13\", \"14\", \"15\", \"16\", \"17\", \"18\", \"19\", \"20\", \"21\", \"22\", \"23\", \"24\", \"25\", \"26\", \"27\", \"28\", \"29\", \"30\", \"31\", \"32\", \"33\", \"34\", \"38\", \"39\"], \"mode\": \"lines\", \"name\": \"norm_macro_recall_max\", \"stepped\": true, \"type\": \"scatter\", \"data\": [0.6193040293040293, 0.6470662670662671, 0.6470662670662671, 0.6568581418581418, 0.6568581418581418, 0.6607062382062382, 0.662895992895993, 0.662895992895993, 0.662895992895993, 0.6688458763458766, 0.6688458763458766, 0.6688458763458766, 0.6688458763458766, 0.6688458763458766, 0.6688458763458766, 0.6688458763458766, 0.6814985014985016, 0.7244386169386171, 0.7244386169386171, 0.7244386169386171, 0.7244386169386171, 0.7244386169386171, 0.7244386169386171, 0.7244386169386171, 0.7244386169386171, 0.7244386169386171, 0.7244386169386171, 0.7282181707181709, 0.7282181707181709, 0.7282181707181709, 0.7282181707181709, 0.7282181707181709, 0.7282181707181709, 0.7282181707181709, 0.7282181707181709, 0.7282181707181709, 0.7282181707181709]}], \"precision_score_micro\": [{\"categories\": [\"0\", \"1\", \"2\", \"3\", \"4\", \"5\", \"6\", \"7\", \"8\", \"9\", \"10\", \"11\", \"12\", \"13\", \"14\", \"15\", \"16\", \"17\", \"18\", \"19\", \"20\", \"21\", \"22\", \"23\", \"24\", \"25\", \"26\", \"27\", \"28\", \"29\", \"30\", \"31\", \"32\", \"33\", \"34\", \"38\", \"39\"], \"mode\": \"markers\", \"name\": \"precision_score_micro\", \"stepped\": false, \"type\": \"scatter\", \"data\": [0.8108225108225108, 0.825108225108225, 0.7963203463203463, 0.8387445887445887, 0.7867965367965368, 0.8389610389610389, 0.8389610389610389, 0.8199134199134199, 0.8294372294372294, 0.8389610389610389, 0.8196969696969697, 0.7965367965367964, 0.8339826839826839, 0.8196969696969697, 0.8103896103896104, 0.782034632034632, 0.8487012987012987, 0.8627705627705626, 0.8153679653679653, 0.8385281385281385, 0.8294372294372294, 0.8387445887445887, 0.8575757575757577, 0.8391774891774892, 0.8389610389610389, 0.8337662337662339, 0.7826839826839826, 0.8675324675324676, 0.8530303030303031, 0.8435064935064936, 0.7636363636363636, 0.8435064935064936, 0.8251082251082252, 0.8103896103896103, 0.8294372294372294, 0.8341991341991342, 0.6880952380952381]}, {\"categories\": [\"0\", \"1\", \"2\", \"3\", \"4\", \"5\", \"6\", \"7\", \"8\", \"9\", \"10\", \"11\", \"12\", \"13\", \"14\", \"15\", \"16\", \"17\", \"18\", \"19\", \"20\", \"21\", \"22\", \"23\", \"24\", \"25\", \"26\", \"27\", \"28\", \"29\", \"30\", \"31\", \"32\", \"33\", \"34\", \"38\", \"39\"], \"mode\": \"lines\", \"name\": \"precision_score_micro_max\", \"stepped\": true, \"type\": \"scatter\", \"data\": [0.8108225108225108, 0.825108225108225, 0.825108225108225, 0.8387445887445887, 0.8387445887445887, 0.8389610389610389, 0.8389610389610389, 0.8389610389610389, 0.8389610389610389, 0.8389610389610389, 0.8389610389610389, 0.8389610389610389, 0.8389610389610389, 0.8389610389610389, 0.8389610389610389, 0.8389610389610389, 0.8487012987012987, 0.8627705627705626, 0.8627705627705626, 0.8627705627705626, 0.8627705627705626, 0.8627705627705626, 0.8627705627705626, 0.8627705627705626, 0.8627705627705626, 0.8627705627705626, 0.8627705627705626, 0.8675324675324676, 0.8675324675324676, 0.8675324675324676, 0.8675324675324676, 0.8675324675324676, 0.8675324675324676, 0.8675324675324676, 0.8675324675324676, 0.8675324675324676, 0.8675324675324676]}], \"AUC_weighted\": [{\"categories\": [\"0\", \"1\", \"2\", \"3\", \"4\", \"5\", \"6\", \"7\", \"8\", \"9\", \"10\", \"11\", \"12\", \"13\", \"14\", \"15\", \"16\", \"17\", \"18\", \"19\", \"20\", \"21\", \"22\", \"23\", \"24\", \"25\", \"26\", \"27\", \"28\", \"29\", \"30\", \"31\", \"32\", \"33\", \"34\", \"38\", \"39\"], \"mode\": \"markers\", \"name\": \"AUC_weighted\", \"stepped\": false, \"type\": \"scatter\", \"data\": [0.8921442314299458, 0.9075234553805982, 0.8912761907404765, 0.9057927786499216, 0.9060080660080659, 0.9092733655233655, 0.9099625771054342, 0.9068305570091285, 0.920658151372437, 0.9195781136852565, 0.8798757195185767, 0.8972037816680676, 0.9079525302739588, 0.8942879276807847, 0.8990175961604534, 0.8679367821332107, 0.9097988783703068, 0.9204914794200508, 0.9111018611018611, 0.9124569874569873, 0.9163098211312496, 0.9105423808995239, 0.9116360028860028, 0.9070148238005382, 0.9131711079925365, 0.8964880225594511, 0.8952242532599677, 0.9125420214705929, 0.9104813110170253, 0.9062861080718223, 0.9045150814793672, 0.9157692505906792, 0.9180358266072552, 0.9047584690441834, 0.9128140113854398, 0.936412073376359, 0.9319469089111946]}, {\"categories\": [\"0\", \"1\", \"2\", \"3\", \"4\", \"5\", \"6\", \"7\", \"8\", \"9\", \"10\", \"11\", \"12\", \"13\", \"14\", \"15\", \"16\", \"17\", \"18\", \"19\", \"20\", \"21\", \"22\", \"23\", \"24\", \"25\", \"26\", \"27\", \"28\", \"29\", \"30\", \"31\", \"32\", \"33\", \"34\", \"38\", \"39\"], \"mode\": \"lines\", \"name\": \"AUC_weighted_max\", \"stepped\": true, \"type\": \"scatter\", \"data\": [0.8921442314299458, 0.9075234553805982, 0.9075234553805982, 0.9075234553805982, 0.9075234553805982, 0.9092733655233655, 0.9099625771054342, 0.9099625771054342, 0.920658151372437, 0.920658151372437, 0.920658151372437, 0.920658151372437, 0.920658151372437, 0.920658151372437, 0.920658151372437, 0.920658151372437, 0.920658151372437, 0.920658151372437, 0.920658151372437, 0.920658151372437, 0.920658151372437, 0.920658151372437, 0.920658151372437, 0.920658151372437, 0.920658151372437, 0.920658151372437, 0.920658151372437, 0.920658151372437, 0.920658151372437, 0.920658151372437, 0.920658151372437, 0.920658151372437, 0.920658151372437, 0.920658151372437, 0.920658151372437, 0.936412073376359, 0.936412073376359]}], \"f1_score_macro\": [{\"categories\": [\"0\", \"1\", \"2\", \"3\", \"4\", \"5\", \"6\", \"7\", \"8\", \"9\", \"10\", \"11\", \"12\", \"13\", \"14\", \"15\", \"16\", \"17\", \"18\", \"19\", \"20\", \"21\", \"22\", \"23\", \"24\", \"25\", \"26\", \"27\", \"28\", \"29\", \"30\", \"31\", \"32\", \"33\", \"34\", \"38\", \"39\"], \"mode\": \"markers\", \"name\": \"f1_score_macro\", \"stepped\": false, \"type\": \"scatter\", \"data\": [0.8010139538088268, 0.8178264795184113, 0.7826722791919416, 0.8282775282173876, 0.7694537526936187, 0.826880849106179, 0.8268237895344794, 0.8069777171118153, 0.81572421712069, 0.8251582742925766, 0.8106010986571153, 0.78060873280257, 0.8220707957619722, 0.8048928606845859, 0.7970004125729278, 0.7685058476006752, 0.8379448416131986, 0.8545074814651091, 0.8039958280041459, 0.8297114802072307, 0.8209188273412412, 0.8304267469086956, 0.8488276839831709, 0.8315819419127749, 0.8324834163227912, 0.8232240373575298, 0.7681331821360821, 0.8589791995816846, 0.8411322697203321, 0.8314043949175005, 0.7311890181061038, 0.8325830767098829, 0.8157197171368047, 0.7948822940848309, 0.8176324154772431, 0.826229139660202, 0.6011584100102388]}, {\"categories\": [\"0\", \"1\", \"2\", \"3\", \"4\", \"5\", \"6\", \"7\", \"8\", \"9\", \"10\", \"11\", \"12\", \"13\", \"14\", \"15\", \"16\", \"17\", \"18\", \"19\", \"20\", \"21\", \"22\", \"23\", \"24\", \"25\", \"26\", \"27\", \"28\", \"29\", \"30\", \"31\", \"32\", \"33\", \"34\", \"38\", \"39\"], \"mode\": \"lines\", \"name\": \"f1_score_macro_max\", \"stepped\": true, \"type\": \"scatter\", \"data\": [0.8010139538088268, 0.8178264795184113, 0.8178264795184113, 0.8282775282173876, 0.8282775282173876, 0.8282775282173876, 0.8282775282173876, 0.8282775282173876, 0.8282775282173876, 0.8282775282173876, 0.8282775282173876, 0.8282775282173876, 0.8282775282173876, 0.8282775282173876, 0.8282775282173876, 0.8282775282173876, 0.8379448416131986, 0.8545074814651091, 0.8545074814651091, 0.8545074814651091, 0.8545074814651091, 0.8545074814651091, 0.8545074814651091, 0.8545074814651091, 0.8545074814651091, 0.8545074814651091, 0.8545074814651091, 0.8589791995816846, 0.8589791995816846, 0.8589791995816846, 0.8589791995816846, 0.8589791995816846, 0.8589791995816846, 0.8589791995816846, 0.8589791995816846, 0.8589791995816846, 0.8589791995816846]}], \"precision_score_weighted\": [{\"categories\": [\"0\", \"1\", \"2\", \"3\", \"4\", \"5\", \"6\", \"7\", \"8\", \"9\", \"10\", \"11\", \"12\", \"13\", \"14\", \"15\", \"16\", \"17\", \"18\", \"19\", \"20\", \"21\", \"22\", \"23\", \"24\", \"25\", \"26\", \"27\", \"28\", \"29\", \"30\", \"31\", \"32\", \"33\", \"34\", \"38\", \"39\"], \"mode\": \"markers\", \"name\": \"precision_score_weighted\", \"stepped\": false, \"type\": \"scatter\", \"data\": [0.8371623470324769, 0.8415274263975563, 0.8142792591006878, 0.8489526214526215, 0.8211769831899701, 0.8631628665452196, 0.8521541950113379, 0.8376788291074005, 0.8525843165549049, 0.856775803561518, 0.8377510704783433, 0.8081342665271238, 0.8444557823129252, 0.8391758338568881, 0.8414924454630336, 0.8100484304055733, 0.8645355438212581, 0.8775293225293226, 0.8338512545655403, 0.8542430705417718, 0.8485162853019996, 0.8615117686546258, 0.8745952844654143, 0.8586400768543626, 0.8605229955229955, 0.8484564509564511, 0.8071299335585049, 0.8758937743353329, 0.8645004057991071, 0.8646658896658896, 0.8352060186115914, 0.8565291971136129, 0.8403488827190125, 0.8317376142376144, 0.8425992922421495, 0.8530306718293732, 0.5747829875751954]}, {\"categories\": [\"0\", \"1\", \"2\", \"3\", \"4\", \"5\", \"6\", \"7\", \"8\", \"9\", \"10\", \"11\", \"12\", \"13\", \"14\", \"15\", \"16\", \"17\", \"18\", \"19\", \"20\", \"21\", \"22\", \"23\", \"24\", \"25\", \"26\", \"27\", \"28\", \"29\", \"30\", \"31\", \"32\", \"33\", \"34\", \"38\", \"39\"], \"mode\": \"lines\", \"name\": \"precision_score_weighted_max\", \"stepped\": true, \"type\": \"scatter\", \"data\": [0.8371623470324769, 0.8415274263975563, 0.8415274263975563, 0.8489526214526215, 0.8489526214526215, 0.8631628665452196, 0.8631628665452196, 0.8631628665452196, 0.8631628665452196, 0.8631628665452196, 0.8631628665452196, 0.8631628665452196, 0.8631628665452196, 0.8631628665452196, 0.8631628665452196, 0.8631628665452196, 0.8645355438212581, 0.8775293225293226, 0.8775293225293226, 0.8775293225293226, 0.8775293225293226, 0.8775293225293226, 0.8775293225293226, 0.8775293225293226, 0.8775293225293226, 0.8775293225293226, 0.8775293225293226, 0.8775293225293226, 0.8775293225293226, 0.8775293225293226, 0.8775293225293226, 0.8775293225293226, 0.8775293225293226, 0.8775293225293226, 0.8775293225293226, 0.8775293225293226, 0.8775293225293226]}], \"precision_score_macro\": [{\"categories\": [\"0\", \"1\", \"2\", \"3\", \"4\", \"5\", \"6\", \"7\", \"8\", \"9\", \"10\", \"11\", \"12\", \"13\", \"14\", \"15\", \"16\", \"17\", \"18\", \"19\", \"20\", \"21\", \"22\", \"23\", \"24\", \"25\", \"26\", \"27\", \"28\", \"29\", \"30\", \"31\", \"32\", \"33\", \"34\", \"38\", \"39\"], \"mode\": \"markers\", \"name\": \"precision_score_macro\", \"stepped\": false, \"type\": \"scatter\", \"data\": [0.8245437895437895, 0.8289989177489178, 0.8007063075813076, 0.8401019813519813, 0.8043722943722944, 0.8565261209378857, 0.8384722222222223, 0.8214173326673327, 0.8449925727866905, 0.8393464868464868, 0.8181719669219669, 0.7904929098679099, 0.8283214008214008, 0.8311832693450342, 0.8285842588783765, 0.7910791292041292, 0.8523883061383062, 0.8629534354534354, 0.8167521367521366, 0.8422513597513597, 0.8365892440892442, 0.8471341158841159, 0.8660909923409923, 0.8441132478632479, 0.8435225885225887, 0.8348715173715174, 0.7886532911532912, 0.8624075924075925, 0.8511809024309024, 0.8480611055611055, 0.8406991744066048, 0.840690281940282, 0.8280914918414919, 0.8177777777777777, 0.8302075702075701, 0.8409321234321233, 0.5671663059163059]}, {\"categories\": [\"0\", \"1\", \"2\", \"3\", \"4\", \"5\", \"6\", \"7\", \"8\", \"9\", \"10\", \"11\", \"12\", \"13\", \"14\", \"15\", \"16\", \"17\", \"18\", \"19\", \"20\", \"21\", \"22\", \"23\", \"24\", \"25\", \"26\", \"27\", \"28\", \"29\", \"30\", \"31\", \"32\", \"33\", \"34\", \"38\", \"39\"], \"mode\": \"lines\", \"name\": \"precision_score_macro_max\", \"stepped\": true, \"type\": \"scatter\", \"data\": [0.8245437895437895, 0.8289989177489178, 0.8289989177489178, 0.8401019813519813, 0.8401019813519813, 0.8565261209378857, 0.8565261209378857, 0.8565261209378857, 0.8565261209378857, 0.8565261209378857, 0.8565261209378857, 0.8565261209378857, 0.8565261209378857, 0.8565261209378857, 0.8565261209378857, 0.8565261209378857, 0.8565261209378857, 0.8629534354534354, 0.8629534354534354, 0.8629534354534354, 0.8629534354534354, 0.8629534354534354, 0.8660909923409923, 0.8660909923409923, 0.8660909923409923, 0.8660909923409923, 0.8660909923409923, 0.8660909923409923, 0.8660909923409923, 0.8660909923409923, 0.8660909923409923, 0.8660909923409923, 0.8660909923409923, 0.8660909923409923, 0.8660909923409923, 0.8660909923409923, 0.8660909923409923]}], \"f1_score_weighted\": [{\"categories\": [\"0\", \"1\", \"2\", \"3\", \"4\", \"5\", \"6\", \"7\", \"8\", \"9\", \"10\", \"11\", \"12\", \"13\", \"14\", \"15\", \"16\", \"17\", \"18\", \"19\", \"20\", \"21\", \"22\", \"23\", \"24\", \"25\", \"26\", \"27\", \"28\", \"29\", \"30\", \"31\", \"32\", \"33\", \"34\", \"38\", \"39\"], \"mode\": \"markers\", \"name\": \"f1_score_weighted\", \"stepped\": false, \"type\": \"scatter\", \"data\": [0.8084791393578952, 0.8255944945908974, 0.7940104040579078, 0.8384092196995869, 0.7813136924868526, 0.8354811644518829, 0.8375410007989925, 0.8184522933074044, 0.8252470684210078, 0.8366299389977241, 0.8208862323052857, 0.7933124717414152, 0.8334031898695764, 0.8165337196575544, 0.8067887728714542, 0.7803706287326977, 0.8485659747809849, 0.8627491716547031, 0.8141305974039206, 0.837951173011714, 0.8282348047865288, 0.8378820779959746, 0.8562550169778296, 0.8390473214281495, 0.8397413280161266, 0.8329102196724965, 0.7806258142520556, 0.8677258060420117, 0.8513341339663734, 0.8422908284372286, 0.7447504847812125, 0.8430383768668603, 0.8250145807093648, 0.8067774214096259, 0.8277949987432747, 0.833967997518176, 0.6058796131759555]}, {\"categories\": [\"0\", \"1\", \"2\", \"3\", \"4\", \"5\", \"6\", \"7\", \"8\", \"9\", \"10\", \"11\", \"12\", \"13\", \"14\", \"15\", \"16\", \"17\", \"18\", \"19\", \"20\", \"21\", \"22\", \"23\", \"24\", \"25\", \"26\", \"27\", \"28\", \"29\", \"30\", \"31\", \"32\", \"33\", \"34\", \"38\", \"39\"], \"mode\": \"lines\", \"name\": \"f1_score_weighted_max\", \"stepped\": true, \"type\": \"scatter\", \"data\": [0.8084791393578952, 0.8255944945908974, 0.8255944945908974, 0.8384092196995869, 0.8384092196995869, 0.8384092196995869, 0.8384092196995869, 0.8384092196995869, 0.8384092196995869, 0.8384092196995869, 0.8384092196995869, 0.8384092196995869, 0.8384092196995869, 0.8384092196995869, 0.8384092196995869, 0.8384092196995869, 0.8485659747809849, 0.8627491716547031, 0.8627491716547031, 0.8627491716547031, 0.8627491716547031, 0.8627491716547031, 0.8627491716547031, 0.8627491716547031, 0.8627491716547031, 0.8627491716547031, 0.8627491716547031, 0.8677258060420117, 0.8677258060420117, 0.8677258060420117, 0.8677258060420117, 0.8677258060420117, 0.8677258060420117, 0.8677258060420117, 0.8677258060420117, 0.8677258060420117, 0.8677258060420117]}], \"f1_score_micro\": [{\"categories\": [\"0\", \"1\", \"2\", \"3\", \"4\", \"5\", \"6\", \"7\", \"8\", \"9\", \"10\", \"11\", \"12\", \"13\", \"14\", \"15\", \"16\", \"17\", \"18\", \"19\", \"20\", \"21\", \"22\", \"23\", \"24\", \"25\", \"26\", \"27\", \"28\", \"29\", \"30\", \"31\", \"32\", \"33\", \"34\", \"38\", \"39\"], \"mode\": \"markers\", \"name\": \"f1_score_micro\", \"stepped\": false, \"type\": \"scatter\", \"data\": [0.8108225108225108, 0.825108225108225, 0.7963203463203463, 0.8387445887445887, 0.7867965367965368, 0.8389610389610389, 0.8389610389610389, 0.8199134199134199, 0.8294372294372294, 0.8389610389610389, 0.8196969696969697, 0.7965367965367964, 0.8339826839826839, 0.8196969696969697, 0.8103896103896104, 0.782034632034632, 0.8487012987012987, 0.8627705627705626, 0.8153679653679653, 0.8385281385281385, 0.8294372294372294, 0.8387445887445887, 0.8575757575757577, 0.8391774891774892, 0.8389610389610389, 0.8337662337662339, 0.7826839826839826, 0.8675324675324676, 0.8530303030303031, 0.8435064935064936, 0.7636363636363636, 0.8435064935064936, 0.8251082251082252, 0.8103896103896103, 0.8294372294372294, 0.8341991341991342, 0.6880952380952381]}, {\"categories\": [\"0\", \"1\", \"2\", \"3\", \"4\", \"5\", \"6\", \"7\", \"8\", \"9\", \"10\", \"11\", \"12\", \"13\", \"14\", \"15\", \"16\", \"17\", \"18\", \"19\", \"20\", \"21\", \"22\", \"23\", \"24\", \"25\", \"26\", \"27\", \"28\", \"29\", \"30\", \"31\", \"32\", \"33\", \"34\", \"38\", \"39\"], \"mode\": \"lines\", \"name\": \"f1_score_micro_max\", \"stepped\": true, \"type\": \"scatter\", \"data\": [0.8108225108225108, 0.825108225108225, 0.825108225108225, 0.8387445887445887, 0.8387445887445887, 0.8389610389610389, 0.8389610389610389, 0.8389610389610389, 0.8389610389610389, 0.8389610389610389, 0.8389610389610389, 0.8389610389610389, 0.8389610389610389, 0.8389610389610389, 0.8389610389610389, 0.8389610389610389, 0.8487012987012987, 0.8627705627705626, 0.8627705627705626, 0.8627705627705626, 0.8627705627705626, 0.8627705627705626, 0.8627705627705626, 0.8627705627705626, 0.8627705627705626, 0.8627705627705626, 0.8627705627705626, 0.8675324675324676, 0.8675324675324676, 0.8675324675324676, 0.8675324675324676, 0.8675324675324676, 0.8675324675324676, 0.8675324675324676, 0.8675324675324676, 0.8675324675324676, 0.8675324675324676]}], \"average_precision_score_macro\": [{\"categories\": [\"0\", \"1\", \"2\", \"3\", \"4\", \"5\", \"6\", \"7\", \"8\", \"9\", \"10\", \"11\", \"12\", \"13\", \"14\", \"15\", \"16\", \"17\", \"18\", \"19\", \"20\", \"21\", \"22\", \"23\", \"24\", \"25\", \"26\", \"27\", \"28\", \"29\", \"30\", \"31\", \"32\", \"33\", \"34\", \"38\", \"39\"], \"mode\": \"markers\", \"name\": \"average_precision_score_macro\", \"stepped\": false, \"type\": \"scatter\", \"data\": [0.89769854738106, 0.9084369605331636, 0.8947067741833754, 0.9086101767883343, 0.909560670565899, 0.912795941842052, 0.9124903466969055, 0.9091719569912341, 0.922150031076401, 0.917300869175911, 0.88953678555778, 0.8995119229725054, 0.9155221554254037, 0.8966024445685031, 0.9043353078164204, 0.8621010575562303, 0.910436545329771, 0.9198615196171472, 0.916149665252935, 0.9184706668500271, 0.9213473920096206, 0.9164288497717795, 0.9170706161555244, 0.9107274308410485, 0.914067504450324, 0.9039425470673214, 0.8969949791557911, 0.9133158792769324, 0.9107222241592409, 0.9077501349998267, 0.910951993384354, 0.9165571114439655, 0.9208268116116397, 0.9090360573491406, 0.9189121928166714, 0.9372671709683704, 0.9333598049757772]}, {\"categories\": [\"0\", \"1\", \"2\", \"3\", \"4\", \"5\", \"6\", \"7\", \"8\", \"9\", \"10\", \"11\", \"12\", \"13\", \"14\", \"15\", \"16\", \"17\", \"18\", \"19\", \"20\", \"21\", \"22\", \"23\", \"24\", \"25\", \"26\", \"27\", \"28\", \"29\", \"30\", \"31\", \"32\", \"33\", \"34\", \"38\", \"39\"], \"mode\": \"lines\", \"name\": \"average_precision_score_macro_max\", \"stepped\": true, \"type\": \"scatter\", \"data\": [0.89769854738106, 0.9084369605331636, 0.9084369605331636, 0.9086101767883343, 0.909560670565899, 0.912795941842052, 0.912795941842052, 0.912795941842052, 0.922150031076401, 0.922150031076401, 0.922150031076401, 0.922150031076401, 0.922150031076401, 0.922150031076401, 0.922150031076401, 0.922150031076401, 0.922150031076401, 0.922150031076401, 0.922150031076401, 0.922150031076401, 0.922150031076401, 0.922150031076401, 0.922150031076401, 0.922150031076401, 0.922150031076401, 0.922150031076401, 0.922150031076401, 0.922150031076401, 0.922150031076401, 0.922150031076401, 0.922150031076401, 0.922150031076401, 0.922150031076401, 0.922150031076401, 0.922150031076401, 0.9372671709683704, 0.9372671709683704]}], \"AUC_macro\": [{\"categories\": [\"0\", \"1\", \"2\", \"3\", \"4\", \"5\", \"6\", \"7\", \"8\", \"9\", \"10\", \"11\", \"12\", \"13\", \"14\", \"15\", \"16\", \"17\", \"18\", \"19\", \"20\", \"21\", \"22\", \"23\", \"24\", \"25\", \"26\", \"27\", \"28\", \"29\", \"30\", \"31\", \"32\", \"33\", \"34\", \"38\", \"39\"], \"mode\": \"markers\", \"name\": \"AUC_macro\", \"stepped\": false, \"type\": \"scatter\", \"data\": [0.8921442314299457, 0.9075234553805982, 0.8912761907404765, 0.9057927786499216, 0.9060080660080659, 0.9092733655233655, 0.9099625771054342, 0.9068305570091285, 0.920658151372437, 0.9195781136852565, 0.8798757195185767, 0.8972037816680676, 0.9079525302739588, 0.8942879276807847, 0.8990175961604534, 0.8679367821332107, 0.9097988783703068, 0.9204914794200508, 0.9111018611018611, 0.9124569874569876, 0.9163098211312496, 0.9105423808995239, 0.9116360028860028, 0.9070148238005382, 0.9131711079925365, 0.8964880225594511, 0.8952242532599675, 0.9125420214705929, 0.9104813110170251, 0.9062861080718223, 0.9045150814793672, 0.9157692505906792, 0.9180358266072552, 0.9047584690441834, 0.9128140113854398, 0.936412073376359, 0.9319469089111946]}, {\"categories\": [\"0\", \"1\", \"2\", \"3\", \"4\", \"5\", \"6\", \"7\", \"8\", \"9\", \"10\", \"11\", \"12\", \"13\", \"14\", \"15\", \"16\", \"17\", \"18\", \"19\", \"20\", \"21\", \"22\", \"23\", \"24\", \"25\", \"26\", \"27\", \"28\", \"29\", \"30\", \"31\", \"32\", \"33\", \"34\", \"38\", \"39\"], \"mode\": \"lines\", \"name\": \"AUC_macro_max\", \"stepped\": true, \"type\": \"scatter\", \"data\": [0.8921442314299457, 0.9075234553805982, 0.9075234553805982, 0.9075234553805982, 0.9075234553805982, 0.9092733655233655, 0.9099625771054342, 0.9099625771054342, 0.920658151372437, 0.920658151372437, 0.920658151372437, 0.920658151372437, 0.920658151372437, 0.920658151372437, 0.920658151372437, 0.920658151372437, 0.920658151372437, 0.920658151372437, 0.920658151372437, 0.920658151372437, 0.920658151372437, 0.920658151372437, 0.920658151372437, 0.920658151372437, 0.920658151372437, 0.920658151372437, 0.920658151372437, 0.920658151372437, 0.920658151372437, 0.920658151372437, 0.920658151372437, 0.920658151372437, 0.920658151372437, 0.920658151372437, 0.920658151372437, 0.936412073376359, 0.936412073376359]}]}, \"metricName\": null, \"primaryMetricName\": \"AUC_weighted\", \"showLegend\": false}, \"run_metrics\": [{\"name\": \"experiment_status\", \"run_id\": \"AutoML_35c0ddf0-5f1d-4f56-ba49-432f9341b96f\", \"categories\": [0, 1, 2, 3, 4, 5, 6, 7, 8, 9, 10, 11, 12, 13], \"series\": [{\"data\": [\"DatasetEvaluation\", \"FeaturesGeneration\", \"DatasetFeaturization\", \"DatasetFeaturizationCompleted\", \"DatasetCrossValidationSplit\", \"ModelSelection\", \"BestRunExplainModel\", \"ModelExplanationDataSetSetup\", \"PickSurrogateModel\", \"EngineeredFeatureExplanations\", \"EngineeredFeatureExplanations\", \"RawFeaturesExplanations\", \"RawFeaturesExplanations\", \"BestRunExplainModel\"]}]}, {\"name\": \"experiment_status_description\", \"run_id\": \"AutoML_35c0ddf0-5f1d-4f56-ba49-432f9341b96f\", \"categories\": [0, 1, 2, 3, 4, 5, 6, 7, 8, 9, 10, 11, 12, 13], \"series\": [{\"data\": [\"Gathering dataset statistics.\", \"Generating features for the dataset.\", \"Beginning to fit featurizers and featurize the dataset.\", \"Completed fit featurizers and featurizing the dataset.\", \"Generating individually featurized CV splits.\", \"Beginning model selection.\", \"Best run model explanations started\", \"Model explanations data setup completed\", \"Choosing LightGBM as the surrogate model for explanations\", \"Computation of engineered features started\", \"Computation of engineered features completed\", \"Computation of raw features started\", \"Computation of raw features completed\", \"Best run model explanations completed\"]}]}, {\"name\": \"recall_score_macro\", \"run_id\": \"AutoML_35c0ddf0-5f1d-4f56-ba49-432f9341b96f\", \"categories\": [0], \"series\": [{\"data\": [0.8321803196803199]}]}, {\"name\": \"precision_score_macro\", \"run_id\": \"AutoML_35c0ddf0-5f1d-4f56-ba49-432f9341b96f\", \"categories\": [0], \"series\": [{\"data\": [0.8409321234321233]}]}, {\"name\": \"weighted_accuracy\", \"run_id\": \"AutoML_35c0ddf0-5f1d-4f56-ba49-432f9341b96f\", \"categories\": [0], \"series\": [{\"data\": [0.8356622015200765]}]}, {\"name\": \"AUC_weighted\", \"run_id\": \"AutoML_35c0ddf0-5f1d-4f56-ba49-432f9341b96f\", \"categories\": [0], \"series\": [{\"data\": [0.936412073376359]}]}, {\"name\": \"recall_score_micro\", \"run_id\": \"AutoML_35c0ddf0-5f1d-4f56-ba49-432f9341b96f\", \"categories\": [0], \"series\": [{\"data\": [0.8341991341991342]}]}, {\"name\": \"AUC_micro\", \"run_id\": \"AutoML_35c0ddf0-5f1d-4f56-ba49-432f9341b96f\", \"categories\": [0], \"series\": [{\"data\": [0.9271602856018439]}]}, {\"name\": \"average_precision_score_weighted\", \"run_id\": \"AutoML_35c0ddf0-5f1d-4f56-ba49-432f9341b96f\", \"categories\": [0], \"series\": [{\"data\": [0.9435953441205542]}]}, {\"name\": \"log_loss\", \"run_id\": \"AutoML_35c0ddf0-5f1d-4f56-ba49-432f9341b96f\", \"categories\": [0], \"series\": [{\"data\": [0.3951506428311069]}]}, {\"name\": \"f1_score_weighted\", \"run_id\": \"AutoML_35c0ddf0-5f1d-4f56-ba49-432f9341b96f\", \"categories\": [0], \"series\": [{\"data\": [0.833967997518176]}]}, {\"name\": \"accuracy\", \"run_id\": \"AutoML_35c0ddf0-5f1d-4f56-ba49-432f9341b96f\", \"categories\": [0], \"series\": [{\"data\": [0.8341991341991342]}]}, {\"name\": \"balanced_accuracy\", \"run_id\": \"AutoML_35c0ddf0-5f1d-4f56-ba49-432f9341b96f\", \"categories\": [0], \"series\": [{\"data\": [0.8321803196803199]}]}, {\"name\": \"f1_score_micro\", \"run_id\": \"AutoML_35c0ddf0-5f1d-4f56-ba49-432f9341b96f\", \"categories\": [0], \"series\": [{\"data\": [0.8341991341991342]}]}, {\"name\": \"norm_macro_recall\", \"run_id\": \"AutoML_35c0ddf0-5f1d-4f56-ba49-432f9341b96f\", \"categories\": [0], \"series\": [{\"data\": [0.6643606393606394]}]}, {\"name\": \"recall_score_weighted\", \"run_id\": \"AutoML_35c0ddf0-5f1d-4f56-ba49-432f9341b96f\", \"categories\": [0], \"series\": [{\"data\": [0.8341991341991342]}]}, {\"name\": \"matthews_correlation\", \"run_id\": \"AutoML_35c0ddf0-5f1d-4f56-ba49-432f9341b96f\", \"categories\": [0], \"series\": [{\"data\": [0.6723443965835221]}]}, {\"name\": \"f1_score_macro\", \"run_id\": \"AutoML_35c0ddf0-5f1d-4f56-ba49-432f9341b96f\", \"categories\": [0], \"series\": [{\"data\": [0.826229139660202]}]}, {\"name\": \"precision_score_micro\", \"run_id\": \"AutoML_35c0ddf0-5f1d-4f56-ba49-432f9341b96f\", \"categories\": [0], \"series\": [{\"data\": [0.8341991341991342]}]}, {\"name\": \"average_precision_score_macro\", \"run_id\": \"AutoML_35c0ddf0-5f1d-4f56-ba49-432f9341b96f\", \"categories\": [0], \"series\": [{\"data\": [0.9372671709683704]}]}, {\"name\": \"average_precision_score_micro\", \"run_id\": \"AutoML_35c0ddf0-5f1d-4f56-ba49-432f9341b96f\", \"categories\": [0], \"series\": [{\"data\": [0.9294154473974393]}]}, {\"name\": \"AUC_macro\", \"run_id\": \"AutoML_35c0ddf0-5f1d-4f56-ba49-432f9341b96f\", \"categories\": [0], \"series\": [{\"data\": [0.936412073376359]}]}, {\"name\": \"precision_score_weighted\", \"run_id\": \"AutoML_35c0ddf0-5f1d-4f56-ba49-432f9341b96f\", \"categories\": [0], \"series\": [{\"data\": [0.8530306718293732]}]}], \"run_logs\": \"\\nRun is completed.\", \"graph\": {}, \"widget_settings\": {\"childWidgetDisplay\": \"popup\", \"send_telemetry\": false, \"log_level\": \"INFO\", \"sdk_version\": \"1.26.0\"}, \"loading\": false}"
     },
     "metadata": {},
     "output_type": "display_data"
    },
    {
     "data": {
      "text/html": [
       "<table style=\"width:100%\"><tr><th>Experiment</th><th>Id</th><th>Type</th><th>Status</th><th>Details Page</th><th>Docs Page</th></tr><tr><td>automl-exp</td><td>AutoML_35c0ddf0-5f1d-4f56-ba49-432f9341b96f</td><td>automl</td><td>NotStarted</td><td><a href=\"https://ml.azure.com/runs/AutoML_35c0ddf0-5f1d-4f56-ba49-432f9341b96f?wsid=/subscriptions/9a7511b8-150f-4a58-8528-3e7d50216c31/resourcegroups/aml-quickstarts-142867/workspaces/quick-starts-ws-142867&amp;tid=660b3398-b80e-49d2-bc5b-ac1dc93b5254\" target=\"_blank\" rel=\"noopener\">Link to Azure Machine Learning studio</a></td><td><a href=\"https://docs.microsoft.com/en-us/python/api/overview/azure/ml/intro?view=azure-ml-py\" target=\"_blank\" rel=\"noopener\">Link to Documentation</a></td></tr></table>"
      ],
      "text/plain": [
       "<IPython.core.display.HTML object>"
      ]
     },
     "metadata": {},
     "output_type": "display_data"
    },
    {
     "name": "stdout",
     "output_type": "stream",
     "text": [
      "\n",
      "Current status: FeaturesGeneration. Generating features for the dataset.\n",
      "Current status: DatasetFeaturization. Beginning to fit featurizers and featurize the dataset.\n",
      "Current status: DatasetCrossValidationSplit. Generating individually featurized CV splits.\n",
      "Current status: ModelSelection. Beginning model selection.\n",
      "\n",
      "****************************************************************************************************\n",
      "DATA GUARDRAILS: \n",
      "\n",
      "TYPE:         Cross validation\n",
      "STATUS:       DONE\n",
      "DESCRIPTION:  Each iteration of the trained model was validated through cross-validation.\n",
      "              \n",
      "DETAILS:      \n",
      "+---------------------------------+\n",
      "|Number of folds                  |\n",
      "+=================================+\n",
      "|10                               |\n",
      "+---------------------------------+\n",
      "\n",
      "****************************************************************************************************\n",
      "\n",
      "TYPE:         Class balancing detection\n",
      "STATUS:       PASSED\n",
      "DESCRIPTION:  Your inputs were analyzed, and all classes are balanced in your training data.\n",
      "              Learn more about imbalanced data: https://aka.ms/AutomatedMLImbalancedData\n",
      "\n",
      "****************************************************************************************************\n",
      "\n",
      "TYPE:         Missing feature values imputation\n",
      "STATUS:       PASSED\n",
      "DESCRIPTION:  No feature missing values were detected in the training data.\n",
      "              Learn more about missing value imputation: https://aka.ms/AutomatedMLFeaturization\n",
      "\n",
      "****************************************************************************************************\n",
      "\n",
      "TYPE:         High cardinality feature detection\n",
      "STATUS:       PASSED\n",
      "DESCRIPTION:  Your inputs were analyzed, and no high cardinality features were detected.\n",
      "              Learn more about high cardinality feature handling: https://aka.ms/AutomatedMLFeaturization\n",
      "\n",
      "****************************************************************************************************\n",
      "\n",
      "****************************************************************************************************\n",
      "ITERATION: The iteration being evaluated.\n",
      "PIPELINE: A summary description of the pipeline being evaluated.\n",
      "DURATION: Time taken for the current iteration.\n",
      "METRIC: The result of computing score on the fitted pipeline.\n",
      "BEST: The best observed score thus far.\n",
      "****************************************************************************************************\n",
      "\n",
      " ITERATION   PIPELINE                                       DURATION      METRIC      BEST\n",
      "         0   MaxAbsScaler LightGBM                          0:00:43       0.8921    0.8921\n",
      "         2   MaxAbsScaler RandomForest                      0:00:43       0.8913    0.8921\n",
      "         3   MaxAbsScaler RandomForest                      0:00:46       0.9058    0.9058\n",
      "         1   MaxAbsScaler XGBoostClassifier                 0:00:48       0.9075    0.9075\n",
      "         4   MaxAbsScaler RandomForest                      0:00:51       0.9060    0.9075\n",
      "         5   MaxAbsScaler ExtremeRandomTrees                0:00:49       0.9093    0.9093\n",
      "         6   MaxAbsScaler ExtremeRandomTrees                0:00:49       0.9100    0.9100\n",
      "         7   MaxAbsScaler ExtremeRandomTrees                0:00:43       0.9068    0.9100\n",
      "         8   MaxAbsScaler RandomForest                      0:00:43       0.9207    0.9207\n",
      "         9   MaxAbsScaler ExtremeRandomTrees                0:00:45       0.9196    0.9207\n",
      "        11   MaxAbsScaler RandomForest                      0:00:56       0.8972    0.9207\n",
      "        12   MaxAbsScaler RandomForest                      0:00:48       0.9080    0.9207\n",
      "        14   MaxAbsScaler RandomForest                      0:00:45       0.8990    0.9207\n",
      "        10   MaxAbsScaler RandomForest                      0:01:05       0.8799    0.9207\n",
      "        13   StandardScalerWrapper XGBoostClassifier        0:00:54       0.8943    0.9207\n",
      "        15   StandardScalerWrapper ExtremeRandomTrees       0:00:43       0.8679    0.9207\n",
      "        16   MaxAbsScaler ExtremeRandomTrees                0:00:40       0.9098    0.9207\n",
      "        17   MaxAbsScaler ExtremeRandomTrees                0:00:42       0.9205    0.9207\n",
      "        18   MaxAbsScaler RandomForest                      0:00:44       0.9111    0.9207\n",
      "        19   MaxAbsScaler LightGBM                          0:00:40       0.9125    0.9207\n",
      "        20   MaxAbsScaler LightGBM                          0:02:29       0.9163    0.9207\n",
      "        21   MaxAbsScaler LightGBM                          0:02:23       0.9105    0.9207\n",
      "        22   MaxAbsScaler LightGBM                          0:02:25       0.9116    0.9207\n",
      "        23   StandardScalerWrapper LogisticRegression       0:02:24       0.9070    0.9207\n",
      "        24   MaxAbsScaler LogisticRegression                0:02:24       0.9132    0.9207\n",
      "        25   MaxAbsScaler RandomForest                      0:01:37       0.8965    0.9207\n",
      "        26   StandardScalerWrapper ExtremeRandomTrees       0:01:30       0.8952    0.9207\n",
      "        27   MaxAbsScaler ExtremeRandomTrees                0:01:29       0.9125    0.9207\n",
      "        28   MaxAbsScaler ExtremeRandomTrees                0:01:25       0.9105    0.9207\n",
      "        29   MaxAbsScaler ExtremeRandomTrees                0:01:31       0.9063    0.9207\n",
      "        30   SparseNormalizer RandomForest                  0:01:18       0.9045    0.9207\n",
      "        31   SparseNormalizer ExtremeRandomTrees            0:01:12       0.9158    0.9207\n",
      "        32   SparseNormalizer XGBoostClassifier             0:01:11       0.9180    0.9207\n",
      "        33   SparseNormalizer XGBoostClassifier             0:01:15       0.9048    0.9207\n",
      "        34   SparseNormalizer XGBoostClassifier             0:01:09       0.9128    0.9207\n",
      "        35                                                  0:00:17          nan    0.9207\n",
      "        36                                                  0:00:05          nan    0.9207\n",
      "        37                                                  0:00:18          nan    0.9207\n",
      "        39    StackEnsemble                                 0:02:41       0.9319    0.9319\n",
      "        38    VotingEnsemble                                0:02:52       0.9364    0.9364\n"
     ]
    }
   ],
   "source": [
    "RunDetails(remote_run).show()\n",
    "remote_run.wait_for_completion(show_output=True)\n",
    "assert(remote_run.get_status() == \"Completed\")"
   ]
  },
  {
   "cell_type": "code",
   "execution_count": 11,
   "metadata": {
    "scrolled": true
   },
   "outputs": [
    {
     "data": {
      "text/plain": [
       "(Run(Experiment: automl-exp,\n",
       " Id: AutoML_35c0ddf0-5f1d-4f56-ba49-432f9341b96f_38,\n",
       " Type: azureml.scriptrun,\n",
       " Status: Completed),\n",
       " Pipeline(memory=None,\n",
       "          steps=[('datatransformer',\n",
       "                  DataTransformer(enable_dnn=None, enable_feature_sweeping=None,\n",
       "                                  feature_sweeping_config=None,\n",
       "                                  feature_sweeping_timeout=None,\n",
       "                                  featurization_config=None, force_text_dnn=None,\n",
       "                                  is_cross_validation=None,\n",
       "                                  is_onnx_compatible=None, logger=None,\n",
       "                                  observer=None, task=None, working_dir=None)),\n",
       "                 ('prefittedsoftvotingclassifier',...\n",
       "                                                                                                     min_samples_split=0.10368421052631578,\n",
       "                                                                                                     min_weight_fraction_leaf=0.0,\n",
       "                                                                                                     n_estimators=200,\n",
       "                                                                                                     n_jobs=1,\n",
       "                                                                                                     oob_score=True,\n",
       "                                                                                                     random_state=None,\n",
       "                                                                                                     verbose=0,\n",
       "                                                                                                     warm_start=False))],\n",
       "                                                                      verbose=False))],\n",
       "                                                flatten_transform=None,\n",
       "                                                weights=[0.2,\n",
       "                                                         0.06666666666666667,\n",
       "                                                         0.06666666666666667,\n",
       "                                                         0.13333333333333333,\n",
       "                                                         0.06666666666666667,\n",
       "                                                         0.06666666666666667,\n",
       "                                                         0.06666666666666667,\n",
       "                                                         0.2,\n",
       "                                                         0.13333333333333333]))],\n",
       "          verbose=False))"
      ]
     },
     "execution_count": 11,
     "metadata": {},
     "output_type": "execute_result"
    }
   ],
   "source": [
    "remote_run.get_output()"
   ]
  },
  {
   "cell_type": "markdown",
   "metadata": {},
   "source": [
    "## Best Model\n",
    "\n",
    "TODO: In the cell below, get the best model from the automl experiments and display all the properties of the model.\n",
    "\n"
   ]
  },
  {
   "cell_type": "code",
   "execution_count": 15,
   "metadata": {
    "gather": {
     "logged": 1598431425670
    },
    "jupyter": {
     "outputs_hidden": false,
     "source_hidden": false
    },
    "nteract": {
     "transient": {
      "deleting": false
     }
    }
   },
   "outputs": [],
   "source": [
    "automl_best_run = remote_run.get_best_child()"
   ]
  },
  {
   "cell_type": "code",
   "execution_count": 24,
   "metadata": {
    "gather": {
     "logged": 1598431426111
    },
    "jupyter": {
     "outputs_hidden": false,
     "source_hidden": false
    },
    "nteract": {
     "transient": {
      "deleting": false
     }
    }
   },
   "outputs": [],
   "source": [
    "#TODO: Save the best model\n",
    "amodel= automl_best_run.register_model(model_name='udacity-automl-project', model_path='./outputs/model.pkl')"
   ]
  },
  {
   "cell_type": "code",
   "execution_count": 25,
   "metadata": {},
   "outputs": [
    {
     "data": {
      "text/plain": [
       "Pipeline(memory=None,\n",
       "         steps=[('datatransformer',\n",
       "                 DataTransformer(enable_dnn=None, enable_feature_sweeping=None,\n",
       "                                 feature_sweeping_config=None,\n",
       "                                 feature_sweeping_timeout=None,\n",
       "                                 featurization_config=None, force_text_dnn=None,\n",
       "                                 is_cross_validation=None,\n",
       "                                 is_onnx_compatible=None, logger=None,\n",
       "                                 observer=None, task=None, working_dir=None)),\n",
       "                ('prefittedsoftvotingclassifier',...\n",
       "                                                                                                    min_samples_split=0.10368421052631578,\n",
       "                                                                                                    min_weight_fraction_leaf=0.0,\n",
       "                                                                                                    n_estimators=200,\n",
       "                                                                                                    n_jobs=1,\n",
       "                                                                                                    oob_score=True,\n",
       "                                                                                                    random_state=None,\n",
       "                                                                                                    verbose=0,\n",
       "                                                                                                    warm_start=False))],\n",
       "                                                                     verbose=False))],\n",
       "                                               flatten_transform=None,\n",
       "                                               weights=[0.2,\n",
       "                                                        0.06666666666666667,\n",
       "                                                        0.06666666666666667,\n",
       "                                                        0.13333333333333333,\n",
       "                                                        0.06666666666666667,\n",
       "                                                        0.06666666666666667,\n",
       "                                                        0.06666666666666667,\n",
       "                                                        0.2,\n",
       "                                                        0.13333333333333333]))],\n",
       "         verbose=False)"
      ]
     },
     "execution_count": 25,
     "metadata": {},
     "output_type": "execute_result"
    }
   ],
   "source": [
    "temp_model = remote_run.get_output()\n",
    "temp_model[-1]"
   ]
  },
  {
   "cell_type": "markdown",
   "metadata": {},
   "source": [
    "## Model Deployment\n",
    "\n",
    "Remember you have to deploy only one of the two models you trained.. Perform the steps in the rest of this notebook only if you wish to deploy this model.\n",
    "\n",
    "TODO: In the cell below, register the model, create an inference config and deploy the model as a web service."
   ]
  },
  {
   "cell_type": "code",
   "execution_count": 22,
   "metadata": {},
   "outputs": [],
   "source": [
    "from azureml.core import Environment\n",
    "import sklearn\n",
    "from azureml.core.conda_dependencies import CondaDependencies\n",
    "\n",
    "\n",
    "environment = Environment('my-sklearn-environment')\n",
    "environment.python.conda_dependencies = CondaDependencies.create(pip_packages=[\n",
    "    'azureml-defaults',\n",
    "    'inference-schema[numpy-support]',\n",
    "    'joblib',\n",
    "    'numpy',\n",
    "    'scikit-learn=={}'.format(sklearn.__version__)\n",
    "])"
   ]
  },
  {
   "cell_type": "code",
   "execution_count": 45,
   "metadata": {
    "scrolled": true
   },
   "outputs": [
    {
     "name": "stdout",
     "output_type": "stream",
     "text": [
      "import joblib\n",
      "import numpy as np\n",
      "import os\n",
      "\n",
      "from inference_schema.schema_decorators import input_schema, output_schema\n",
      "from inference_schema.parameter_types.numpy_parameter_type import NumpyParameterType\n",
      "\n",
      "\n",
      "# The init() method is called once, when the web service starts up.\n",
      "#\n",
      "# Typically you would deserialize the model file, as shown here using joblib,\n",
      "# and store it in a global variable so your run() method can access it later.\n",
      "def init():\n",
      "    global model\n",
      "    print(\"HHHHH1\")\n",
      "\n",
      "    # The AZUREML_MODEL_DIR environment variable indicates\n",
      "    # a directory containing the model file you registered.\n",
      "    model_filename = 'model.pkl'\n",
      "    print(\"HHHHH2\")\n",
      "    model_path = os.path.join(os.environ['AZUREML_MODEL_DIR'], model_filename)\n",
      "    print(\"Found model:\",os.path.isfile(model_path))\n",
      "    print(\"HHHHH3\")\n",
      "    print(model_path)\n",
      "    \n",
      "    model = joblib.load(model_path)\n",
      "    print(\"HHHHHH4\")\n",
      "\n",
      "# The run() method is called each time a request is made to the scoring API.\n",
      "#\n",
      "# Shown here are the optional input_schema and output_schema decorators\n",
      "# from the inference-schema pip package. Using these decorators on your\n",
      "# run() method parses and validates the incoming payload against\n",
      "# the example input you provide here. This will also generate a Swagger\n",
      "# API document for your web service.\n",
      "@input_schema('data', NumpyParameterType(np.array([[0.1, 1.2, 2.3, 3.4, 4.5, 5.6, 6.7, 7.8, 8.9, 9.0]])))\n",
      "@output_schema(NumpyParameterType(np.array([4429.929236457418])))\n",
      "def run(data):\n",
      "    # Use the model object loaded by init().\n",
      "    result = model.predict(data)\n",
      "\n",
      "    # You can return any JSON-serializable object.\n",
      "    return result.tolist()\n"
     ]
    }
   ],
   "source": [
    "with open('score.py') as f:\n",
    "    print(f.read())"
   ]
  },
  {
   "cell_type": "code",
   "execution_count": 46,
   "metadata": {
    "gather": {
     "logged": 1598431435189
    },
    "jupyter": {
     "outputs_hidden": false,
     "source_hidden": false
    },
    "nteract": {
     "transient": {
      "deleting": false
     }
    }
   },
   "outputs": [
    {
     "name": "stdout",
     "output_type": "stream",
     "text": [
      "Downloading model udacity-automl-project:3 to /tmp/azureml_ef1mum9d/udacity-automl-project/3\n",
      "Generating Docker build context.\n",
      "Package creation Succeeded\n",
      "Logging into Docker registry 466d7b2b36644c3aae1b056d06fc7d16.azurecr.io\n",
      "Logging into Docker registry 466d7b2b36644c3aae1b056d06fc7d16.azurecr.io\n",
      "Building Docker image from Dockerfile...\n",
      "Step 1/5 : FROM 466d7b2b36644c3aae1b056d06fc7d16.azurecr.io/azureml/azureml_67d74b5c6ee746b87c24b2704b8c58ca\n",
      " ---> 13fa8c0ea12b\n",
      "Step 2/5 : COPY azureml-app /var/azureml-app\n",
      " ---> 5791abd86978\n",
      "Step 3/5 : RUN mkdir -p '/var/azureml-app' && echo eyJhY2NvdW50Q29udGV4dCI6eyJzdWJzY3JpcHRpb25JZCI6IjlhNzUxMWI4LTE1MGYtNGE1OC04NTI4LTNlN2Q1MDIxNmMzMSIsInJlc291cmNlR3JvdXBOYW1lIjoiYW1sLXF1aWNrc3RhcnRzLTE0Mjg2NyIsImFjY291bnROYW1lIjoicXVpY2stc3RhcnRzLXdzLTE0Mjg2NyIsIndvcmtzcGFjZUlkIjoiNDY2ZDdiMmItMzY2NC00YzNhLWFlMWItMDU2ZDA2ZmM3ZDE2In0sIm1vZGVscyI6e30sIm1vZGVsc0luZm8iOnt9fQ== | base64 --decode > /var/azureml-app/model_config_map.json\n",
      " ---> Running in 314cedbf7139\n",
      " ---> 079c630c9062\n",
      "Step 4/5 : RUN mv '/var/azureml-app/tmpox65tce2.py' /var/azureml-app/main.py\n",
      " ---> Running in 84223af65ede\n",
      " ---> 69f4c09266ac\n",
      "Step 5/5 : CMD [\"runsvdir\",\"/var/runit\"]\n",
      " ---> Running in b2b21f5e16f0\n",
      " ---> 645588d990f0\n",
      "Successfully built 645588d990f0\n",
      "Successfully tagged my-custom-env-service6:latest\n",
      "Container (name:gallant_ride, id:2f027c16f3ea8af171fad4a748d11590942b26c594a893292d66b3d5edbe2994) cannot be killed.\n",
      "Container has been successfully cleaned up.\n",
      "Image sha256:c655754879a5daef7db49717b7c59cec66eb6e2dab3e692c3c8ecabc4694d00c successfully removed.\n",
      "Starting Docker container...\n",
      "Docker container running.\n",
      "Checking container health...\n"
     ]
    },
    {
     "name": "stderr",
     "output_type": "stream",
     "text": [
      "ERROR:azureml._model_management._util:Error: Container has crashed. Did your init method fail?\n",
      "\n"
     ]
    },
    {
     "name": "stdout",
     "output_type": "stream",
     "text": [
      "\n",
      "Container Logs:\n",
      "2021-04-16T20:02:08,323736750+00:00 - gunicorn/run \n",
      "2021-04-16T20:02:08,322881409+00:00 - rsyslog/run \n",
      "2021-04-16T20:02:08,324002963+00:00 - iot-server/run \n",
      "/usr/sbin/nginx: /azureml-envs/azureml_ec281bd2b9e12f86b580afbc7420df57/lib/libcrypto.so.1.0.0: no version information available (required by /usr/sbin/nginx)\n",
      "/usr/sbin/nginx: /azureml-envs/azureml_ec281bd2b9e12f86b580afbc7420df57/lib/libcrypto.so.1.0.0: no version information available (required by /usr/sbin/nginx)\n",
      "/usr/sbin/nginx: /azureml-envs/azureml_ec281bd2b9e12f86b580afbc7420df57/lib/libssl.so.1.0.0: no version information available (required by /usr/sbin/nginx)\n",
      "/usr/sbin/nginx: /azureml-envs/azureml_ec281bd2b9e12f86b580afbc7420df57/lib/libssl.so.1.0.0: no version information available (required by /usr/sbin/nginx)\n",
      "/usr/sbin/nginx: /azureml-envs/azureml_ec281bd2b9e12f86b580afbc7420df57/lib/libssl.so.1.0.0: no version information available (required by /usr/sbin/nginx)\n",
      "2021-04-16T20:02:08,343323403+00:00 - nginx/run \n",
      "EdgeHubConnectionString and IOTEDGE_IOTHUBHOSTNAME are not set. Exiting...\n",
      "2021-04-16T20:02:08,421552410+00:00 - iot-server/finish 1 0\n",
      "2021-04-16T20:02:08,422885075+00:00 - Exit code 1 is normal. Not restarting iot-server.\n",
      "Starting gunicorn 19.9.0\n",
      "Listening at: http://127.0.0.1:31311 (11)\n",
      "Using worker: sync\n",
      "worker timeout is set to 300\n",
      "Booting worker with pid: 42\n",
      "SPARK_HOME not set. Skipping PySpark Initialization.\n",
      "Initializing logger\n",
      "2021-04-16 20:02:08,931 | root | INFO | Starting up app insights client\n",
      "2021-04-16 20:02:08,931 | root | INFO | Starting up request id generator\n",
      "2021-04-16 20:02:08,931 | root | INFO | Starting up app insight hooks\n",
      "2021-04-16 20:02:08,931 | root | INFO | Invoking user's init function\n",
      "HHHHH1\n",
      "HHHHH2\n",
      "Found model:\n",
      "True\n",
      "HHHHH3\n",
      "azureml-models/udacity-automl-project/3/model.pkl\n",
      "2021-04-16 20:02:09,193 | root | ERROR | User's init function failed\n",
      "2021-04-16 20:02:09,194 | root | ERROR | Encountered Exception Traceback (most recent call last):\n",
      "  File \"/var/azureml-server/aml_blueprint.py\", line 182, in register\n",
      "    main.init()\n",
      "  File \"/var/azureml-app/score.py\", line 26, in init\n",
      "    model = joblib.load(model_path)\n",
      "  File \"/azureml-envs/azureml_ec281bd2b9e12f86b580afbc7420df57/lib/python3.6/site-packages/joblib/numpy_pickle.py\", line 585, in load\n",
      "    obj = _unpickle(fobj, filename, mmap_mode)\n",
      "  File \"/azureml-envs/azureml_ec281bd2b9e12f86b580afbc7420df57/lib/python3.6/site-packages/joblib/numpy_pickle.py\", line 504, in _unpickle\n",
      "    obj = unpickler.load()\n",
      "  File \"/azureml-envs/azureml_ec281bd2b9e12f86b580afbc7420df57/lib/python3.6/pickle.py\", line 1050, in load\n",
      "    dispatch[key[0]](self)\n",
      "  File \"/azureml-envs/azureml_ec281bd2b9e12f86b580afbc7420df57/lib/python3.6/pickle.py\", line 1347, in load_stack_global\n",
      "    self.append(self.find_class(module, name))\n",
      "  File \"/azureml-envs/azureml_ec281bd2b9e12f86b580afbc7420df57/lib/python3.6/pickle.py\", line 1388, in find_class\n",
      "    __import__(module, level=0)\n",
      "ModuleNotFoundError: No module named 'azureml.automl'\n",
      "\n",
      "2021-04-16 20:02:09,195 | root | INFO | Waiting for logs to be sent to Application Insights before exit.\n",
      "2021-04-16 20:02:09,195 | root | INFO | Waiting 30 seconds for upload.\n",
      "Worker exiting (pid: 42)\n",
      "Shutting down: Master\n",
      "Reason: Worker failed to boot.\n",
      "2021-04-16T20:02:39,353390444+00:00 - gunicorn/finish 3 0\n",
      "2021-04-16T20:02:39,354958221+00:00 - Exit code 3 is not normal. Killing image.\n",
      "\n"
     ]
    },
    {
     "ename": "WebserviceException",
     "evalue": "WebserviceException:\n\tMessage: Error: Container has crashed. Did your init method fail?\n\tInnerException None\n\tErrorResponse \n{\n    \"error\": {\n        \"message\": \"Error: Container has crashed. Did your init method fail?\"\n    }\n}",
     "output_type": "error",
     "traceback": [
      "\u001b[0;31m---------------------------------------------------------------------------\u001b[0m",
      "\u001b[0;31mWebserviceException\u001b[0m                       Traceback (most recent call last)",
      "\u001b[0;32m<ipython-input-46-39232b0e0379>\u001b[0m in \u001b[0;36m<module>\u001b[0;34m\u001b[0m\n\u001b[1;32m     14\u001b[0m                        \u001b[0mdeployment_config\u001b[0m\u001b[0;34m=\u001b[0m\u001b[0maci_config\u001b[0m\u001b[0;34m,\u001b[0m\u001b[0;34m\u001b[0m\u001b[0;34m\u001b[0m\u001b[0m\n\u001b[1;32m     15\u001b[0m                        overwrite=True)\n\u001b[0;32m---> 16\u001b[0;31m \u001b[0mservice\u001b[0m\u001b[0;34m.\u001b[0m\u001b[0mwait_for_deployment\u001b[0m\u001b[0;34m(\u001b[0m\u001b[0mshow_output\u001b[0m\u001b[0;34m=\u001b[0m\u001b[0;32mTrue\u001b[0m\u001b[0;34m)\u001b[0m\u001b[0;34m\u001b[0m\u001b[0;34m\u001b[0m\u001b[0m\n\u001b[0m",
      "\u001b[0;32m/anaconda/envs/azureml_py36/lib/python3.6/site-packages/azureml/core/webservice/local.py\u001b[0m in \u001b[0;36mdecorated\u001b[0;34m(self, *args, **kwargs)\u001b[0m\n\u001b[1;32m     70\u001b[0m                 raise WebserviceException('Cannot call {}() when service is {}.'.format(func.__name__, self.state),\n\u001b[1;32m     71\u001b[0m                                           logger=module_logger)\n\u001b[0;32m---> 72\u001b[0;31m             \u001b[0;32mreturn\u001b[0m \u001b[0mfunc\u001b[0m\u001b[0;34m(\u001b[0m\u001b[0mself\u001b[0m\u001b[0;34m,\u001b[0m \u001b[0;34m*\u001b[0m\u001b[0margs\u001b[0m\u001b[0;34m,\u001b[0m \u001b[0;34m**\u001b[0m\u001b[0mkwargs\u001b[0m\u001b[0;34m)\u001b[0m\u001b[0;34m\u001b[0m\u001b[0;34m\u001b[0m\u001b[0m\n\u001b[0m\u001b[1;32m     73\u001b[0m         \u001b[0;32mreturn\u001b[0m \u001b[0mdecorated\u001b[0m\u001b[0;34m\u001b[0m\u001b[0;34m\u001b[0m\u001b[0m\n\u001b[1;32m     74\u001b[0m     \u001b[0;32mreturn\u001b[0m \u001b[0mdecorator\u001b[0m\u001b[0;34m\u001b[0m\u001b[0;34m\u001b[0m\u001b[0m\n",
      "\u001b[0;32m/anaconda/envs/azureml_py36/lib/python3.6/site-packages/azureml/core/webservice/local.py\u001b[0m in \u001b[0;36mwait_for_deployment\u001b[0;34m(self, show_output)\u001b[0m\n\u001b[1;32m    612\u001b[0m                                    \u001b[0mself\u001b[0m\u001b[0;34m.\u001b[0m\u001b[0m_container\u001b[0m\u001b[0;34m,\u001b[0m\u001b[0;34m\u001b[0m\u001b[0;34m\u001b[0m\u001b[0m\n\u001b[1;32m    613\u001b[0m                                    \u001b[0mhealth_url\u001b[0m\u001b[0;34m=\u001b[0m\u001b[0mself\u001b[0m\u001b[0;34m.\u001b[0m\u001b[0m_get_health_url\u001b[0m\u001b[0;34m(\u001b[0m\u001b[0;34m)\u001b[0m\u001b[0;34m,\u001b[0m\u001b[0;34m\u001b[0m\u001b[0;34m\u001b[0m\u001b[0m\n\u001b[0;32m--> 614\u001b[0;31m                                    cleanup_if_failed=False)\n\u001b[0m\u001b[1;32m    615\u001b[0m \u001b[0;34m\u001b[0m\u001b[0m\n\u001b[1;32m    616\u001b[0m             \u001b[0mself\u001b[0m\u001b[0;34m.\u001b[0m\u001b[0mstate\u001b[0m \u001b[0;34m=\u001b[0m \u001b[0mLocalWebservice\u001b[0m\u001b[0;34m.\u001b[0m\u001b[0mSTATE_RUNNING\u001b[0m\u001b[0;34m\u001b[0m\u001b[0;34m\u001b[0m\u001b[0m\n",
      "\u001b[0;32m/anaconda/envs/azureml_py36/lib/python3.6/site-packages/azureml/_model_management/_util.py\u001b[0m in \u001b[0;36mcontainer_health_check\u001b[0;34m(docker_port, container, health_url, cleanup_if_failed)\u001b[0m\n\u001b[1;32m    746\u001b[0m             \u001b[0;31m# The container has started and crashed.\u001b[0m\u001b[0;34m\u001b[0m\u001b[0;34m\u001b[0m\u001b[0;34m\u001b[0m\u001b[0m\n\u001b[1;32m    747\u001b[0m             _raise_for_container_failure(container, cleanup_if_failed,\n\u001b[0;32m--> 748\u001b[0;31m                                          'Error: Container has crashed. Did your init method fail?')\n\u001b[0m\u001b[1;32m    749\u001b[0m \u001b[0;34m\u001b[0m\u001b[0m\n\u001b[1;32m    750\u001b[0m         \u001b[0;31m# The container hasn't crashed, so try to ping the health endpoint.\u001b[0m\u001b[0;34m\u001b[0m\u001b[0;34m\u001b[0m\u001b[0;34m\u001b[0m\u001b[0m\n",
      "\u001b[0;32m/anaconda/envs/azureml_py36/lib/python3.6/site-packages/azureml/_model_management/_util.py\u001b[0m in \u001b[0;36m_raise_for_container_failure\u001b[0;34m(container, cleanup, message)\u001b[0m\n\u001b[1;32m   1264\u001b[0m         \u001b[0mcleanup_container\u001b[0m\u001b[0;34m(\u001b[0m\u001b[0mcontainer\u001b[0m\u001b[0;34m)\u001b[0m\u001b[0;34m\u001b[0m\u001b[0;34m\u001b[0m\u001b[0m\n\u001b[1;32m   1265\u001b[0m \u001b[0;34m\u001b[0m\u001b[0m\n\u001b[0;32m-> 1266\u001b[0;31m     \u001b[0;32mraise\u001b[0m \u001b[0mWebserviceException\u001b[0m\u001b[0;34m(\u001b[0m\u001b[0mmessage\u001b[0m\u001b[0;34m,\u001b[0m \u001b[0mlogger\u001b[0m\u001b[0;34m=\u001b[0m\u001b[0mmodule_logger\u001b[0m\u001b[0;34m)\u001b[0m\u001b[0;34m\u001b[0m\u001b[0;34m\u001b[0m\u001b[0m\n\u001b[0m\u001b[1;32m   1267\u001b[0m \u001b[0;34m\u001b[0m\u001b[0m\n\u001b[1;32m   1268\u001b[0m \u001b[0;34m\u001b[0m\u001b[0m\n",
      "\u001b[0;31mWebserviceException\u001b[0m: WebserviceException:\n\tMessage: Error: Container has crashed. Did your init method fail?\n\tInnerException None\n\tErrorResponse \n{\n    \"error\": {\n        \"message\": \"Error: Container has crashed. Did your init method fail?\"\n    }\n}"
     ]
    }
   ],
   "source": [
    "from azureml.core.model import InferenceConfig\n",
    "from azureml.core.webservice import AciWebservice, LocalWebservice\n",
    "\n",
    "\n",
    "service_name = 'my-custom-env-service6'\n",
    "\n",
    "inference_config = InferenceConfig(entry_script='score.py', environment=environment)\n",
    "aci_config = LocalWebservice.deploy_configuration(port=6789)\n",
    "\n",
    "service = Model.deploy(workspace=ws,\n",
    "                       name=service_name,\n",
    "                       models=[amodel],\n",
    "                       inference_config=inference_config,\n",
    "                       deployment_config=aci_config,\n",
    "                       overwrite=True)\n",
    "service.wait_for_deployment(show_output=True)"
   ]
  },
  {
   "cell_type": "code",
   "execution_count": 47,
   "metadata": {},
   "outputs": [
    {
     "name": "stdout",
     "output_type": "stream",
     "text": [
      "2021-04-16T20:02:08,323736750+00:00 - gunicorn/run \n",
      "2021-04-16T20:02:08,322881409+00:00 - rsyslog/run \n",
      "2021-04-16T20:02:08,324002963+00:00 - iot-server/run \n",
      "/usr/sbin/nginx: /azureml-envs/azureml_ec281bd2b9e12f86b580afbc7420df57/lib/libcrypto.so.1.0.0: no version information available (required by /usr/sbin/nginx)\n",
      "/usr/sbin/nginx: /azureml-envs/azureml_ec281bd2b9e12f86b580afbc7420df57/lib/libcrypto.so.1.0.0: no version information available (required by /usr/sbin/nginx)\n",
      "/usr/sbin/nginx: /azureml-envs/azureml_ec281bd2b9e12f86b580afbc7420df57/lib/libssl.so.1.0.0: no version information available (required by /usr/sbin/nginx)\n",
      "/usr/sbin/nginx: /azureml-envs/azureml_ec281bd2b9e12f86b580afbc7420df57/lib/libssl.so.1.0.0: no version information available (required by /usr/sbin/nginx)\n",
      "/usr/sbin/nginx: /azureml-envs/azureml_ec281bd2b9e12f86b580afbc7420df57/lib/libssl.so.1.0.0: no version information available (required by /usr/sbin/nginx)\n",
      "2021-04-16T20:02:08,343323403+00:00 - nginx/run \n",
      "EdgeHubConnectionString and IOTEDGE_IOTHUBHOSTNAME are not set. Exiting...\n",
      "2021-04-16T20:02:08,421552410+00:00 - iot-server/finish 1 0\n",
      "2021-04-16T20:02:08,422885075+00:00 - Exit code 1 is normal. Not restarting iot-server.\n",
      "Starting gunicorn 19.9.0\n",
      "Listening at: http://127.0.0.1:31311 (11)\n",
      "Using worker: sync\n",
      "worker timeout is set to 300\n",
      "Booting worker with pid: 42\n",
      "SPARK_HOME not set. Skipping PySpark Initialization.\n",
      "Initializing logger\n",
      "2021-04-16 20:02:08,931 | root | INFO | Starting up app insights client\n",
      "2021-04-16 20:02:08,931 | root | INFO | Starting up request id generator\n",
      "2021-04-16 20:02:08,931 | root | INFO | Starting up app insight hooks\n",
      "2021-04-16 20:02:08,931 | root | INFO | Invoking user's init function\n",
      "HHHHH1\n",
      "HHHHH2\n",
      "Found model:\n",
      "True\n",
      "HHHHH3\n",
      "azureml-models/udacity-automl-project/3/model.pkl\n",
      "2021-04-16 20:02:09,193 | root | ERROR | User's init function failed\n",
      "2021-04-16 20:02:09,194 | root | ERROR | Encountered Exception Traceback (most recent call last):\n",
      "  File \"/var/azureml-server/aml_blueprint.py\", line 182, in register\n",
      "    main.init()\n",
      "  File \"/var/azureml-app/score.py\", line 26, in init\n",
      "    model = joblib.load(model_path)\n",
      "  File \"/azureml-envs/azureml_ec281bd2b9e12f86b580afbc7420df57/lib/python3.6/site-packages/joblib/numpy_pickle.py\", line 585, in load\n",
      "    obj = _unpickle(fobj, filename, mmap_mode)\n",
      "  File \"/azureml-envs/azureml_ec281bd2b9e12f86b580afbc7420df57/lib/python3.6/site-packages/joblib/numpy_pickle.py\", line 504, in _unpickle\n",
      "    obj = unpickler.load()\n",
      "  File \"/azureml-envs/azureml_ec281bd2b9e12f86b580afbc7420df57/lib/python3.6/pickle.py\", line 1050, in load\n",
      "    dispatch[key[0]](self)\n",
      "  File \"/azureml-envs/azureml_ec281bd2b9e12f86b580afbc7420df57/lib/python3.6/pickle.py\", line 1347, in load_stack_global\n",
      "    self.append(self.find_class(module, name))\n",
      "  File \"/azureml-envs/azureml_ec281bd2b9e12f86b580afbc7420df57/lib/python3.6/pickle.py\", line 1388, in find_class\n",
      "    __import__(module, level=0)\n",
      "ModuleNotFoundError: No module named 'azureml.automl'\n",
      "\n",
      "2021-04-16 20:02:09,195 | root | INFO | Waiting for logs to be sent to Application Insights before exit.\n",
      "2021-04-16 20:02:09,195 | root | INFO | Waiting 30 seconds for upload.\n",
      "Worker exiting (pid: 42)\n",
      "Shutting down: Master\n",
      "Reason: Worker failed to boot.\n",
      "2021-04-16T20:02:39,353390444+00:00 - gunicorn/finish 3 0\n",
      "2021-04-16T20:02:39,354958221+00:00 - Exit code 3 is not normal. Killing image.\n",
      "\n"
     ]
    }
   ],
   "source": [
    "print(service.get_logs())"
   ]
  },
  {
   "cell_type": "markdown",
   "metadata": {
    "gather": {
     "logged": 1598431657736
    },
    "jupyter": {
     "outputs_hidden": false,
     "source_hidden": false
    },
    "nteract": {
     "transient": {
      "deleting": false
     }
    }
   },
   "source": [
    "TODO: In the cell below, send a request to the web service you deployed to test it."
   ]
  },
  {
   "cell_type": "code",
   "execution_count": 22,
   "metadata": {
    "gather": {
     "logged": 1598432707604
    },
    "jupyter": {
     "outputs_hidden": false,
     "source_hidden": false
    },
    "nteract": {
     "transient": {
      "deleting": false
     }
    }
   },
   "outputs": [
    {
     "ename": "NameError",
     "evalue": "name 'rest_endpoint' is not defined",
     "output_type": "error",
     "traceback": [
      "\u001b[0;31m---------------------------------------------------------------------------\u001b[0m",
      "\u001b[0;31mNameError\u001b[0m                                 Traceback (most recent call last)",
      "\u001b[0;32m<ipython-input-22-581c895a149c>\u001b[0m in \u001b[0;36m<module>\u001b[0;34m\u001b[0m\n\u001b[1;32m      6\u001b[0m \u001b[0;32mtry\u001b[0m\u001b[0;34m:\u001b[0m\u001b[0;34m\u001b[0m\u001b[0;34m\u001b[0m\u001b[0m\n\u001b[0;32m----> 7\u001b[0;31m     \u001b[0mresponse\u001b[0m\u001b[0;34m.\u001b[0m\u001b[0mraise_for_status\u001b[0m\u001b[0;34m(\u001b[0m\u001b[0;34m)\u001b[0m\u001b[0;34m\u001b[0m\u001b[0;34m\u001b[0m\u001b[0m\n\u001b[0m\u001b[1;32m      8\u001b[0m \u001b[0;32mexcept\u001b[0m \u001b[0mException\u001b[0m\u001b[0;34m:\u001b[0m\u001b[0;34m\u001b[0m\u001b[0;34m\u001b[0m\u001b[0m\n",
      "\u001b[0;31mNameError\u001b[0m: name 'response' is not defined",
      "\nDuring handling of the above exception, another exception occurred:\n",
      "\u001b[0;31mNameError\u001b[0m                                 Traceback (most recent call last)",
      "\u001b[0;32m<ipython-input-22-581c895a149c>\u001b[0m in \u001b[0;36m<module>\u001b[0;34m\u001b[0m\n\u001b[1;32m     10\u001b[0m                     \u001b[0;34m\"Response Code: {}\\n\"\u001b[0m\u001b[0;34m\u001b[0m\u001b[0;34m\u001b[0m\u001b[0m\n\u001b[1;32m     11\u001b[0m                     \u001b[0;34m\"Headers: {}\\n\"\u001b[0m\u001b[0;34m\u001b[0m\u001b[0;34m\u001b[0m\u001b[0m\n\u001b[0;32m---> 12\u001b[0;31m                     \"Content: {}\".format(rest_endpoint, response.status_code, response.headers, response.content))\n\u001b[0m\u001b[1;32m     13\u001b[0m \u001b[0;34m\u001b[0m\u001b[0m\n\u001b[1;32m     14\u001b[0m \u001b[0mrun_id\u001b[0m \u001b[0;34m=\u001b[0m \u001b[0mresponse\u001b[0m\u001b[0;34m.\u001b[0m\u001b[0mjson\u001b[0m\u001b[0;34m(\u001b[0m\u001b[0;34m)\u001b[0m\u001b[0;34m.\u001b[0m\u001b[0mget\u001b[0m\u001b[0;34m(\u001b[0m\u001b[0;34m'Id'\u001b[0m\u001b[0;34m)\u001b[0m\u001b[0;34m\u001b[0m\u001b[0;34m\u001b[0m\u001b[0m\n",
      "\u001b[0;31mNameError\u001b[0m: name 'rest_endpoint' is not defined"
     ]
    }
   ],
   "source": [
    "import json\n",
    "\n",
    "\n",
    "input_payload = json.dumps({\n",
    "    'data': X_test,\n",
    "    'method': 'predict_prova'  # If you have a classification model, you can get probabilities by changing this to 'predict_proba'.\n",
    "})\n",
    "\n",
    "output = service.run(input_payload)\n"
   ]
  },
  {
   "cell_type": "markdown",
   "metadata": {
    "gather": {
     "logged": 1598432765711
    },
    "jupyter": {
     "outputs_hidden": false,
     "source_hidden": false
    },
    "nteract": {
     "transient": {
      "deleting": false
     }
    }
   },
   "source": [
    "TODO: In the cell below, print the logs of the web service and delete the service"
   ]
  },
  {
   "cell_type": "code",
   "execution_count": null,
   "metadata": {
    "jupyter": {
     "outputs_hidden": false,
     "source_hidden": false
    },
    "nteract": {
     "transient": {
      "deleting": false
     }
    }
   },
   "outputs": [],
   "source": [
    "print(output)"
   ]
  },
  {
   "cell_type": "code",
   "execution_count": null,
   "metadata": {},
   "outputs": [],
   "source": [
    "service.delete()"
   ]
  }
 ],
 "metadata": {
  "kernel_info": {
   "name": "python3"
  },
  "kernelspec": {
   "display_name": "Python 3",
   "language": "python",
   "name": "python3"
  },
  "language_info": {
   "codemirror_mode": {
    "name": "ipython",
    "version": 3
   },
   "file_extension": ".py",
   "mimetype": "text/x-python",
   "name": "python",
   "nbconvert_exporter": "python",
   "pygments_lexer": "ipython3",
   "version": "3.6.9"
  },
  "nteract": {
   "version": "nteract-front-end@1.0.0"
  }
 },
 "nbformat": 4,
 "nbformat_minor": 4
}
