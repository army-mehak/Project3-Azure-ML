{
 "cells": [
  {
   "cell_type": "markdown",
   "metadata": {},
   "source": [
    "# Automated ML\n",
    "\n",
    "TODO: Import Dependencies. In the cell below, import all the dependencies that you will need to complete the project."
   ]
  },
  {
   "cell_type": "markdown",
   "metadata": {},
   "source": [
    "#### --Import Statements--"
   ]
  },
  {
   "cell_type": "code",
   "execution_count": 1,
   "metadata": {},
   "outputs": [],
   "source": [
    "from azureml.core import Workspace, Experiment\n",
    "from azureml.core.compute import ComputeTarget, AmlCompute\n",
    "from azureml.core.compute_target import ComputeTargetException\n",
    "\n",
    "import pandas as pd\n",
    "import numpy as np\n",
    "\n",
    "from sklearn.preprocessing import StandardScaler\n",
    "from sklearn.model_selection import train_test_split\n",
    "\n",
    "from azureml.train.automl import AutoMLConfig\n",
    "from azureml.pipeline.steps import AutoMLStep\n",
    "\n",
    "from azureml.data.dataset_factory import TabularDatasetFactory\n",
    "from azureml.core import Workspace, Datastore\n",
    "from azureml.core.dataset import Dataset\n",
    "\n",
    "from azureml.pipeline.core.run import PipelineRun\n",
    "from azureml.widgets import RunDetails\n",
    "from dataprocess import clean_data"
   ]
  },
  {
   "cell_type": "markdown",
   "metadata": {},
   "source": [
    "## Dataset\n",
    "\n",
    "### Overview\n",
    "TODO: In this markdown cell, give an overview of the dataset you are using. Also mention the task you will be performing.\n",
    "\n",
    "\n",
    "TODO: Get data. In the cell below, write code to access the data you will be using in this project. Remember that the dataset needs to be external."
   ]
  },
  {
   "cell_type": "markdown",
   "metadata": {},
   "source": [
    "The dataset consist information of patient that might be having heart disease. The target column has values 0 and 1 which determines if the patients has heart disease.\n",
    "There are 14 attributes in the dataset as follows:\n",
    "1. age\n",
    "2. sex\n",
    "3. chest pain type\n",
    "4. resting blood pressure\n",
    "5. serum cholestoral in mg/dl\n",
    "6. fasting blood sugar > 120 mg/dl\n",
    "7. resting electrocardiographic results (values 0,1,2)\n",
    "8. maximum heart rate achieved\n",
    "9. exercise induced angina\n",
    "10. oldpeak = ST depression induced by exercise relative to rest\n",
    "11. the slope of the peak exercise ST segment\n",
    "12. number of major vessels (0-3) colored by flourosopy\n",
    "13. thal: 3 = normal; 6 = fixed defect; 7 = reversable defect\n",
    "14. target column, 0 = heart disease not present, 1 = heart disease present"
   ]
  },
  {
   "cell_type": "markdown",
   "metadata": {},
   "source": [
    "After data is pulled, the data is processed for training in the following way:\n",
    "- Standardization was performed on the column bloodpressure, thalac and cholestrol to save on computational cost.\n",
    "- Rows with null values were dropped\n",
    "- The age column was binned into 7 groups of '29-37', '38-45', '46-53', '54-61', '62-69' and '70-77'\n",
    "\n",
    "After processing the data, the test input output and train input output data was set and fed to training."
   ]
  },
  {
   "cell_type": "code",
   "execution_count": 2,
   "metadata": {
    "gather": {
     "logged": 1598423890461
    },
    "jupyter": {
     "outputs_hidden": false,
     "source_hidden": false
    },
    "nteract": {
     "transient": {
      "deleting": false
     }
    }
   },
   "outputs": [],
   "source": [
    "ws = Workspace.from_config()\n",
    "\n",
    "# choose a name for experiment\n",
    "experiment_name = 'automl-exp'\n",
    "\n",
    "experiment=Experiment(ws, experiment_name)"
   ]
  },
  {
   "cell_type": "code",
   "execution_count": 3,
   "metadata": {},
   "outputs": [
    {
     "name": "stdout",
     "output_type": "stream",
     "text": [
      "Found existing cluster, use it.\n",
      "\n",
      "Running\n"
     ]
    }
   ],
   "source": [
    "cpu_cluster_name = \"cpu-cluster2\"\n",
    "\n",
    "try: #--- Verify that cluster does not exist already\n",
    "    cpu_cluster = ComputeTarget(workspace=ws, name=cpu_cluster_name)\n",
    "    print('Found existing cluster, use it.')\n",
    "    \n",
    "except ComputeTargetException:\n",
    "    compute_config = AmlCompute.provisioning_configuration(vm_size='STANDARD_D2_V2', max_nodes=4)\n",
    "    cpu_cluster = ComputeTarget.create(ws, cpu_cluster_name, compute_config)\n",
    "\n",
    "cpu_cluster.wait_for_completion(show_output=True)"
   ]
  },
  {
   "cell_type": "markdown",
   "metadata": {},
   "source": [
    "#### --Dataset Object--"
   ]
  },
  {
   "cell_type": "code",
   "execution_count": 4,
   "metadata": {},
   "outputs": [
    {
     "data": {
      "text/html": [
       "<div>\n",
       "<style scoped>\n",
       "    .dataframe tbody tr th:only-of-type {\n",
       "        vertical-align: middle;\n",
       "    }\n",
       "\n",
       "    .dataframe tbody tr th {\n",
       "        vertical-align: top;\n",
       "    }\n",
       "\n",
       "    .dataframe thead th {\n",
       "        text-align: right;\n",
       "    }\n",
       "</style>\n",
       "<table border=\"1\" class=\"dataframe\">\n",
       "  <thead>\n",
       "    <tr style=\"text-align: right;\">\n",
       "      <th></th>\n",
       "      <th>age</th>\n",
       "      <th>sex</th>\n",
       "      <th>cp</th>\n",
       "      <th>trestbps</th>\n",
       "      <th>chol</th>\n",
       "      <th>fbs</th>\n",
       "      <th>restecg</th>\n",
       "      <th>thalach</th>\n",
       "      <th>exang</th>\n",
       "      <th>oldpeak</th>\n",
       "      <th>slope</th>\n",
       "      <th>ca</th>\n",
       "      <th>thal</th>\n",
       "      <th>target</th>\n",
       "    </tr>\n",
       "  </thead>\n",
       "  <tbody>\n",
       "    <tr>\n",
       "      <th>count</th>\n",
       "      <td>303.000000</td>\n",
       "      <td>303.000000</td>\n",
       "      <td>303.000000</td>\n",
       "      <td>303.000000</td>\n",
       "      <td>303.000000</td>\n",
       "      <td>303.000000</td>\n",
       "      <td>303.000000</td>\n",
       "      <td>303.000000</td>\n",
       "      <td>303.000000</td>\n",
       "      <td>303.000000</td>\n",
       "      <td>303.000000</td>\n",
       "      <td>303.000000</td>\n",
       "      <td>303.000000</td>\n",
       "      <td>303.000000</td>\n",
       "    </tr>\n",
       "    <tr>\n",
       "      <th>mean</th>\n",
       "      <td>54.366337</td>\n",
       "      <td>0.683168</td>\n",
       "      <td>0.966997</td>\n",
       "      <td>131.623762</td>\n",
       "      <td>246.264026</td>\n",
       "      <td>0.148515</td>\n",
       "      <td>0.528053</td>\n",
       "      <td>149.646865</td>\n",
       "      <td>0.326733</td>\n",
       "      <td>1.039604</td>\n",
       "      <td>1.399340</td>\n",
       "      <td>0.729373</td>\n",
       "      <td>2.313531</td>\n",
       "      <td>0.544554</td>\n",
       "    </tr>\n",
       "    <tr>\n",
       "      <th>std</th>\n",
       "      <td>9.082101</td>\n",
       "      <td>0.466011</td>\n",
       "      <td>1.032052</td>\n",
       "      <td>17.538143</td>\n",
       "      <td>51.830751</td>\n",
       "      <td>0.356198</td>\n",
       "      <td>0.525860</td>\n",
       "      <td>22.905161</td>\n",
       "      <td>0.469794</td>\n",
       "      <td>1.161075</td>\n",
       "      <td>0.616226</td>\n",
       "      <td>1.022606</td>\n",
       "      <td>0.612277</td>\n",
       "      <td>0.498835</td>\n",
       "    </tr>\n",
       "    <tr>\n",
       "      <th>min</th>\n",
       "      <td>29.000000</td>\n",
       "      <td>0.000000</td>\n",
       "      <td>0.000000</td>\n",
       "      <td>94.000000</td>\n",
       "      <td>126.000000</td>\n",
       "      <td>0.000000</td>\n",
       "      <td>0.000000</td>\n",
       "      <td>71.000000</td>\n",
       "      <td>0.000000</td>\n",
       "      <td>0.000000</td>\n",
       "      <td>0.000000</td>\n",
       "      <td>0.000000</td>\n",
       "      <td>0.000000</td>\n",
       "      <td>0.000000</td>\n",
       "    </tr>\n",
       "    <tr>\n",
       "      <th>25%</th>\n",
       "      <td>47.500000</td>\n",
       "      <td>0.000000</td>\n",
       "      <td>0.000000</td>\n",
       "      <td>120.000000</td>\n",
       "      <td>211.000000</td>\n",
       "      <td>0.000000</td>\n",
       "      <td>0.000000</td>\n",
       "      <td>133.500000</td>\n",
       "      <td>0.000000</td>\n",
       "      <td>0.000000</td>\n",
       "      <td>1.000000</td>\n",
       "      <td>0.000000</td>\n",
       "      <td>2.000000</td>\n",
       "      <td>0.000000</td>\n",
       "    </tr>\n",
       "    <tr>\n",
       "      <th>50%</th>\n",
       "      <td>55.000000</td>\n",
       "      <td>1.000000</td>\n",
       "      <td>1.000000</td>\n",
       "      <td>130.000000</td>\n",
       "      <td>240.000000</td>\n",
       "      <td>0.000000</td>\n",
       "      <td>1.000000</td>\n",
       "      <td>153.000000</td>\n",
       "      <td>0.000000</td>\n",
       "      <td>0.800000</td>\n",
       "      <td>1.000000</td>\n",
       "      <td>0.000000</td>\n",
       "      <td>2.000000</td>\n",
       "      <td>1.000000</td>\n",
       "    </tr>\n",
       "    <tr>\n",
       "      <th>75%</th>\n",
       "      <td>61.000000</td>\n",
       "      <td>1.000000</td>\n",
       "      <td>2.000000</td>\n",
       "      <td>140.000000</td>\n",
       "      <td>274.500000</td>\n",
       "      <td>0.000000</td>\n",
       "      <td>1.000000</td>\n",
       "      <td>166.000000</td>\n",
       "      <td>1.000000</td>\n",
       "      <td>1.600000</td>\n",
       "      <td>2.000000</td>\n",
       "      <td>1.000000</td>\n",
       "      <td>3.000000</td>\n",
       "      <td>1.000000</td>\n",
       "    </tr>\n",
       "    <tr>\n",
       "      <th>max</th>\n",
       "      <td>77.000000</td>\n",
       "      <td>1.000000</td>\n",
       "      <td>3.000000</td>\n",
       "      <td>200.000000</td>\n",
       "      <td>564.000000</td>\n",
       "      <td>1.000000</td>\n",
       "      <td>2.000000</td>\n",
       "      <td>202.000000</td>\n",
       "      <td>1.000000</td>\n",
       "      <td>6.200000</td>\n",
       "      <td>2.000000</td>\n",
       "      <td>4.000000</td>\n",
       "      <td>3.000000</td>\n",
       "      <td>1.000000</td>\n",
       "    </tr>\n",
       "  </tbody>\n",
       "</table>\n",
       "</div>"
      ],
      "text/plain": [
       "              age         sex          cp    trestbps        chol         fbs  \\\n",
       "count  303.000000  303.000000  303.000000  303.000000  303.000000  303.000000   \n",
       "mean    54.366337    0.683168    0.966997  131.623762  246.264026    0.148515   \n",
       "std      9.082101    0.466011    1.032052   17.538143   51.830751    0.356198   \n",
       "min     29.000000    0.000000    0.000000   94.000000  126.000000    0.000000   \n",
       "25%     47.500000    0.000000    0.000000  120.000000  211.000000    0.000000   \n",
       "50%     55.000000    1.000000    1.000000  130.000000  240.000000    0.000000   \n",
       "75%     61.000000    1.000000    2.000000  140.000000  274.500000    0.000000   \n",
       "max     77.000000    1.000000    3.000000  200.000000  564.000000    1.000000   \n",
       "\n",
       "          restecg     thalach       exang     oldpeak       slope          ca  \\\n",
       "count  303.000000  303.000000  303.000000  303.000000  303.000000  303.000000   \n",
       "mean     0.528053  149.646865    0.326733    1.039604    1.399340    0.729373   \n",
       "std      0.525860   22.905161    0.469794    1.161075    0.616226    1.022606   \n",
       "min      0.000000   71.000000    0.000000    0.000000    0.000000    0.000000   \n",
       "25%      0.000000  133.500000    0.000000    0.000000    1.000000    0.000000   \n",
       "50%      1.000000  153.000000    0.000000    0.800000    1.000000    0.000000   \n",
       "75%      1.000000  166.000000    1.000000    1.600000    2.000000    1.000000   \n",
       "max      2.000000  202.000000    1.000000    6.200000    2.000000    4.000000   \n",
       "\n",
       "             thal      target  \n",
       "count  303.000000  303.000000  \n",
       "mean     2.313531    0.544554  \n",
       "std      0.612277    0.498835  \n",
       "min      0.000000    0.000000  \n",
       "25%      2.000000    0.000000  \n",
       "50%      2.000000    1.000000  \n",
       "75%      3.000000    1.000000  \n",
       "max      3.000000    1.000000  "
      ]
     },
     "execution_count": 4,
     "metadata": {},
     "output_type": "execute_result"
    }
   ],
   "source": [
    "key = \"heart-dataset\"\n",
    "description_text = \"Heart Disease dataset\"\n",
    "\n",
    "#-- Dataset Call\n",
    "if key in ws.datasets.keys(): \n",
    "        found = True\n",
    "        dataset = ws.datasets[key] \n",
    "df = dataset.to_pandas_dataframe()\n",
    "df.describe()"
   ]
  },
  {
   "cell_type": "markdown",
   "metadata": {},
   "source": [
    "## --Preprocessing Data--"
   ]
  },
  {
   "cell_type": "code",
   "execution_count": 5,
   "metadata": {},
   "outputs": [],
   "source": [
    "x_df, y_df = clean_data(df)"
   ]
  },
  {
   "cell_type": "code",
   "execution_count": 6,
   "metadata": {},
   "outputs": [
    {
     "name": "stderr",
     "output_type": "stream",
     "text": [
      "Method register_pandas_dataframe: This is an experimental method, and may change at any time.<br/>For more information, see https://aka.ms/azuremlexperimental.\n"
     ]
    },
    {
     "name": "stdout",
     "output_type": "stream",
     "text": [
      "Validating arguments.\n",
      "Arguments validated.\n",
      "Successfully obtained datastore reference and path.\n",
      "Uploading file to managed-dataset/9b6aabf6-2173-459f-95d8-9fc93d5f37ba/\n",
      "Successfully uploaded file to datastore.\n",
      "Creating and registering a new dataset.\n",
      "Successfully created and registered a new dataset.\n"
     ]
    }
   ],
   "source": [
    "### Train Test Split\n",
    "X_train, X_test, Y_train, Y_test = train_test_split(x_df, y_df, test_size=0.30)\n",
    "df_train = pd.concat([X_train,Y_train], axis=1)\n",
    "#print(df_train)\n",
    "ds_train = Dataset.Tabular.register_pandas_dataframe(dataframe= df_train, target= Datastore.get_default(ws), name=\"train_data\")\n",
    "#dataset_1 = pd.to_Tabular(df_train) #Dataset.Tabular.from_pandas_dataframe(df_train)"
   ]
  },
  {
   "cell_type": "markdown",
   "metadata": {},
   "source": [
    "## AutoML Configuration\n",
    "\n",
    "TODO: Explain why you chose the automl settings and cofiguration you used below."
   ]
  },
  {
   "cell_type": "markdown",
   "metadata": {},
   "source": [
    "The automl settings is configured as follows:\n",
    "- Experiment timeout minutes determines how long experiment should run. In this case, its 20 minutes the experiment will run.\n",
    "- Max concurrent iterations determines how many iterations should be running in parallel. We chose 5 iterations for this experiement.\n",
    "- The primary metric to determine the performance of the runs being used here is AUC weighted."
   ]
  },
  {
   "cell_type": "code",
   "execution_count": 7,
   "metadata": {},
   "outputs": [],
   "source": [
    "automl_settings = {\n",
    "    \"experiment_timeout_minutes\": 20,\n",
    "    \"max_concurrent_iterations\": 5,\n",
    "    \"primary_metric\": 'AUC_weighted'\n",
    "}"
   ]
  },
  {
   "cell_type": "markdown",
   "metadata": {},
   "source": [
    "The automl config is configured as follows:\n",
    "- The compute target is set to the one created\n",
    "- The task is classification as the target column has values 0 and 1\n",
    "- Early stopping is enabled\n",
    "- The path and log path is assigned"
   ]
  },
  {
   "cell_type": "code",
   "execution_count": 8,
   "metadata": {
    "gather": {
     "logged": 1598429217746
    },
    "jupyter": {
     "outputs_hidden": false,
     "source_hidden": false
    },
    "nteract": {
     "transient": {
      "deleting": false
     }
    }
   },
   "outputs": [],
   "source": [
    "automl_config = AutoMLConfig(compute_target=cpu_cluster,\n",
    "                             task = 'classification',\n",
    "                             training_data = ds_train,\n",
    "                             label_column_name = \"target\",\n",
    "                             path = './pipeline-project3',\n",
    "                             enable_early_stopping = True,\n",
    "                             featurization = 'auto',\n",
    "                             debug_log = 'automl_errors.log',\n",
    "                             **automl_settings\n",
    "                            )"
   ]
  },
  {
   "cell_type": "code",
   "execution_count": 9,
   "metadata": {
    "gather": {
     "logged": 1598431107951
    },
    "jupyter": {
     "outputs_hidden": false,
     "source_hidden": false
    },
    "nteract": {
     "transient": {
      "deleting": false
     }
    }
   },
   "outputs": [
    {
     "name": "stdout",
     "output_type": "stream",
     "text": [
      "Submitting remote run.\n"
     ]
    },
    {
     "data": {
      "text/html": [
       "<table style=\"width:100%\"><tr><th>Experiment</th><th>Id</th><th>Type</th><th>Status</th><th>Details Page</th><th>Docs Page</th></tr><tr><td>automl-exp</td><td>AutoML_2080453b-f05a-4417-a3b9-e9d1810ad543</td><td>automl</td><td>NotStarted</td><td><a href=\"https://ml.azure.com/runs/AutoML_2080453b-f05a-4417-a3b9-e9d1810ad543?wsid=/subscriptions/a0a76bad-11a1-4a2d-9887-97a29122c8ed/resourcegroups/aml-quickstarts-143070/workspaces/quick-starts-ws-143070&amp;tid=660b3398-b80e-49d2-bc5b-ac1dc93b5254\" target=\"_blank\" rel=\"noopener\">Link to Azure Machine Learning studio</a></td><td><a href=\"https://docs.microsoft.com/en-us/python/api/overview/azure/ml/intro?view=azure-ml-py\" target=\"_blank\" rel=\"noopener\">Link to Documentation</a></td></tr></table>"
      ],
      "text/plain": [
       "<IPython.core.display.HTML object>"
      ]
     },
     "metadata": {},
     "output_type": "display_data"
    }
   ],
   "source": [
    "remote_run = experiment.submit(automl_config)"
   ]
  },
  {
   "cell_type": "markdown",
   "metadata": {},
   "source": [
    "## Run Details\n",
    "\n",
    "OPTIONAL: Write about the different models trained and their performance. Why do you think some models did better than others?\n",
    "\n",
    "TODO: In the cell below, use the `RunDetails` widget to show the different experiments."
   ]
  },
  {
   "cell_type": "code",
   "execution_count": 10,
   "metadata": {
    "gather": {
     "logged": 1598431121770
    },
    "jupyter": {
     "outputs_hidden": false,
     "source_hidden": false
    },
    "nteract": {
     "transient": {
      "deleting": false
     }
    }
   },
   "outputs": [
    {
     "data": {
      "application/vnd.jupyter.widget-view+json": {
       "model_id": "98a0426928bf49b69179662f5ee482d3",
       "version_major": 2,
       "version_minor": 0
      },
      "text/plain": [
       "_AutoMLWidget(widget_settings={'childWidgetDisplay': 'popup', 'send_telemetry': False, 'log_level': 'INFO', 's…"
      ]
     },
     "metadata": {},
     "output_type": "display_data"
    },
    {
     "data": {
      "application/aml.mini.widget.v1": "{\"status\": \"Completed\", \"workbench_run_details_uri\": \"https://ml.azure.com/runs/AutoML_2080453b-f05a-4417-a3b9-e9d1810ad543?wsid=/subscriptions/a0a76bad-11a1-4a2d-9887-97a29122c8ed/resourcegroups/aml-quickstarts-143070/workspaces/quick-starts-ws-143070&tid=660b3398-b80e-49d2-bc5b-ac1dc93b5254\", \"run_id\": \"AutoML_2080453b-f05a-4417-a3b9-e9d1810ad543\", \"run_properties\": {\"run_id\": \"AutoML_2080453b-f05a-4417-a3b9-e9d1810ad543\", \"created_utc\": \"2021-04-18T18:49:44.782514Z\", \"properties\": {\"num_iterations\": \"1000\", \"training_type\": \"TrainFull\", \"acquisition_function\": \"EI\", \"primary_metric\": \"AUC_weighted\", \"train_split\": \"0\", \"acquisition_parameter\": \"0\", \"num_cross_validation\": null, \"target\": \"cpu-cluster2\", \"AMLSettingsJsonString\": \"{\\\"path\\\":null,\\\"name\\\":\\\"automl-exp\\\",\\\"subscription_id\\\":\\\"a0a76bad-11a1-4a2d-9887-97a29122c8ed\\\",\\\"resource_group\\\":\\\"aml-quickstarts-143070\\\",\\\"workspace_name\\\":\\\"quick-starts-ws-143070\\\",\\\"region\\\":\\\"southcentralus\\\",\\\"compute_target\\\":\\\"cpu-cluster2\\\",\\\"spark_service\\\":null,\\\"azure_service\\\":\\\"remote\\\",\\\"many_models\\\":false,\\\"pipeline_fetch_max_batch_size\\\":1,\\\"enable_batch_run\\\":false,\\\"enable_run_restructure\\\":false,\\\"iterations\\\":1000,\\\"primary_metric\\\":\\\"AUC_weighted\\\",\\\"task_type\\\":\\\"classification\\\",\\\"data_script\\\":null,\\\"test_size\\\":0.0,\\\"validation_size\\\":0.0,\\\"n_cross_validations\\\":null,\\\"y_min\\\":null,\\\"y_max\\\":null,\\\"num_classes\\\":null,\\\"featurization\\\":\\\"auto\\\",\\\"_ignore_package_version_incompatibilities\\\":false,\\\"is_timeseries\\\":false,\\\"max_cores_per_iteration\\\":1,\\\"max_concurrent_iterations\\\":5,\\\"iteration_timeout_minutes\\\":null,\\\"mem_in_mb\\\":null,\\\"enforce_time_on_windows\\\":false,\\\"experiment_timeout_minutes\\\":20,\\\"experiment_exit_score\\\":null,\\\"whitelist_models\\\":null,\\\"blacklist_algos\\\":[\\\"TensorFlowLinearClassifier\\\",\\\"TensorFlowDNN\\\"],\\\"supported_models\\\":[\\\"LogisticRegression\\\",\\\"TensorFlowLinearClassifier\\\",\\\"GradientBoosting\\\",\\\"LinearSVM\\\",\\\"DecisionTree\\\",\\\"SVM\\\",\\\"BernoulliNaiveBayes\\\",\\\"AveragedPerceptronClassifier\\\",\\\"TensorFlowDNN\\\",\\\"RandomForest\\\",\\\"LightGBM\\\",\\\"MultinomialNaiveBayes\\\",\\\"KNN\\\",\\\"SGD\\\",\\\"ExtremeRandomTrees\\\",\\\"XGBoostClassifier\\\"],\\\"private_models\\\":[],\\\"auto_blacklist\\\":true,\\\"blacklist_samples_reached\\\":false,\\\"exclude_nan_labels\\\":true,\\\"verbosity\\\":20,\\\"_debug_log\\\":\\\"azureml_automl.log\\\",\\\"show_warnings\\\":false,\\\"model_explainability\\\":true,\\\"service_url\\\":null,\\\"sdk_url\\\":null,\\\"sdk_packages\\\":null,\\\"enable_onnx_compatible_models\\\":false,\\\"enable_split_onnx_featurizer_estimator_models\\\":false,\\\"vm_type\\\":\\\"STANDARD_DS3_V2\\\",\\\"telemetry_verbosity\\\":20,\\\"send_telemetry\\\":true,\\\"enable_dnn\\\":false,\\\"scenario\\\":\\\"SDK-1.13.0\\\",\\\"environment_label\\\":null,\\\"save_mlflow\\\":false,\\\"force_text_dnn\\\":false,\\\"enable_feature_sweeping\\\":true,\\\"enable_early_stopping\\\":true,\\\"early_stopping_n_iters\\\":10,\\\"metrics\\\":null,\\\"enable_metric_confidence\\\":false,\\\"enable_ensembling\\\":true,\\\"enable_stack_ensembling\\\":true,\\\"ensemble_iterations\\\":15,\\\"enable_tf\\\":false,\\\"enable_subsampling\\\":null,\\\"subsample_seed\\\":null,\\\"enable_nimbusml\\\":false,\\\"enable_streaming\\\":false,\\\"force_streaming\\\":false,\\\"track_child_runs\\\":true,\\\"allowed_private_models\\\":[],\\\"label_column_name\\\":\\\"target\\\",\\\"weight_column_name\\\":null,\\\"cv_split_column_names\\\":null,\\\"enable_local_managed\\\":false,\\\"_local_managed_run_id\\\":null,\\\"cost_mode\\\":1,\\\"lag_length\\\":0,\\\"metric_operation\\\":\\\"maximize\\\",\\\"preprocess\\\":true}\", \"DataPrepJsonString\": \"{\\\\\\\"training_data\\\\\\\": {\\\\\\\"datasetId\\\\\\\": \\\\\\\"4a70febd-a674-4385-be54-d0cf5ea36a76\\\\\\\"}, \\\\\\\"datasets\\\\\\\": 0}\", \"EnableSubsampling\": null, \"runTemplate\": \"AutoML\", \"azureml.runsource\": \"automl\", \"display_task_type\": \"classification\", \"dependencies_versions\": \"{\\\"azureml-widgets\\\": \\\"1.26.0\\\", \\\"azureml-train\\\": \\\"1.26.0\\\", \\\"azureml-train-restclients-hyperdrive\\\": \\\"1.26.0\\\", \\\"azureml-train-core\\\": \\\"1.26.0\\\", \\\"azureml-train-automl\\\": \\\"1.26.0\\\", \\\"azureml-train-automl-runtime\\\": \\\"1.26.0\\\", \\\"azureml-train-automl-client\\\": \\\"1.26.0\\\", \\\"azureml-tensorboard\\\": \\\"1.26.0\\\", \\\"azureml-telemetry\\\": \\\"1.26.0\\\", \\\"azureml-sdk\\\": \\\"1.26.0\\\", \\\"azureml-samples\\\": \\\"0+unknown\\\", \\\"azureml-pipeline\\\": \\\"1.26.0\\\", \\\"azureml-pipeline-steps\\\": \\\"1.26.0\\\", \\\"azureml-pipeline-core\\\": \\\"1.26.0\\\", \\\"azureml-opendatasets\\\": \\\"1.26.0\\\", \\\"azureml-model-management-sdk\\\": \\\"1.0.1b6.post1\\\", \\\"azureml-mlflow\\\": \\\"1.26.0\\\", \\\"azureml-interpret\\\": \\\"1.26.0\\\", \\\"azureml-explain-model\\\": \\\"1.26.0\\\", \\\"azureml-defaults\\\": \\\"1.26.0\\\", \\\"azureml-dataset-runtime\\\": \\\"1.26.0\\\", \\\"azureml-dataprep\\\": \\\"2.13.2\\\", \\\"azureml-dataprep-rslex\\\": \\\"1.11.2\\\", \\\"azureml-dataprep-native\\\": \\\"32.0.0\\\", \\\"azureml-datadrift\\\": \\\"1.26.0\\\", \\\"azureml-core\\\": \\\"1.26.0\\\", \\\"azureml-contrib-services\\\": \\\"1.26.0\\\", \\\"azureml-contrib-server\\\": \\\"1.26.0\\\", \\\"azureml-contrib-reinforcementlearning\\\": \\\"1.26.0\\\", \\\"azureml-contrib-pipeline-steps\\\": \\\"1.26.0\\\", \\\"azureml-contrib-notebook\\\": \\\"1.26.0\\\", \\\"azureml-contrib-gbdt\\\": \\\"1.26.0\\\", \\\"azureml-contrib-fairness\\\": \\\"1.26.0\\\", \\\"azureml-contrib-dataset\\\": \\\"1.26.0\\\", \\\"azureml-cli-common\\\": \\\"1.26.0\\\", \\\"azureml-automl-runtime\\\": \\\"1.26.0\\\", \\\"azureml-automl-dnn-nlp\\\": \\\"1.26.0\\\", \\\"azureml-automl-core\\\": \\\"1.26.0\\\", \\\"azureml-accel-models\\\": \\\"1.26.0\\\"}\", \"_aml_system_scenario_identification\": \"Remote.Parent\", \"ClientType\": \"SDK\", \"environment_cpu_name\": \"AzureML-AutoML\", \"environment_cpu_label\": \"prod\", \"environment_gpu_name\": \"AzureML-AutoML-GPU\", \"environment_gpu_label\": \"prod\", \"root_attribution\": \"automl\", \"attribution\": \"AutoML\", \"Orchestrator\": \"AutoML\", \"CancelUri\": \"https://southcentralus.experiments.azureml.net/jasmine/v1.0/subscriptions/a0a76bad-11a1-4a2d-9887-97a29122c8ed/resourceGroups/aml-quickstarts-143070/providers/Microsoft.MachineLearningServices/workspaces/quick-starts-ws-143070/experimentids/025da8a5-262c-48e1-bb51-f4860094bdc6/cancel/AutoML_2080453b-f05a-4417-a3b9-e9d1810ad543\", \"ClientSdkVersion\": \"1.25.0\", \"snapshotId\": \"00000000-0000-0000-0000-000000000000\", \"SetupRunId\": \"AutoML_2080453b-f05a-4417-a3b9-e9d1810ad543_setup\", \"SetupRunContainerId\": \"dcid.AutoML_2080453b-f05a-4417-a3b9-e9d1810ad543_setup\", \"FeaturizationRunJsonPath\": \"featurizer_container.json\", \"FeaturizationRunId\": \"AutoML_2080453b-f05a-4417-a3b9-e9d1810ad543_featurize\", \"ProblemInfoJsonString\": \"{\\\"dataset_num_categorical\\\": 0, \\\"is_sparse\\\": true, \\\"subsampling\\\": false, \\\"dataset_classes\\\": 2, \\\"dataset_features\\\": 33, \\\"dataset_samples\\\": 212, \\\"single_frequency_class_detected\\\": false}\", \"ModelExplainRunId\": \"AutoML_2080453b-f05a-4417-a3b9-e9d1810ad543_ModelExplain\"}, \"tags\": {\"model_explain_run\": \"best_run\", \"_aml_system_azureml.automlComponent\": \"AutoML\", \"pipeline_id\": \"\", \"score\": \"\", \"predicted_cost\": \"\", \"fit_time\": \"\", \"training_percent\": \"\", \"iteration\": \"\", \"run_preprocessor\": \"\", \"run_algorithm\": \"\", \"dynamic_whitelisting_iterations\": \"<25>;<30>;<35>;<40>;\", \"automl_best_child_run_id\": \"AutoML_2080453b-f05a-4417-a3b9-e9d1810ad543_43\", \"model_explain_best_run_child_id\": \"AutoML_2080453b-f05a-4417-a3b9-e9d1810ad543_43\"}, \"end_time_utc\": \"2021-04-18T19:04:59.980169Z\", \"status\": \"Completed\", \"log_files\": {}, \"log_groups\": [], \"run_duration\": \"0:15:15\", \"run_number\": \"61\", \"run_queued_details\": {\"status\": \"Completed\", \"details\": null}}, \"child_runs\": [{\"run_id\": \"AutoML_2080453b-f05a-4417-a3b9-e9d1810ad543_0\", \"run_number\": 65, \"metric\": null, \"status\": \"Completed\", \"run_type\": \"azureml.scriptrun\", \"training_percent\": \"100\", \"start_time\": \"2021-04-18T18:53:16.065342Z\", \"end_time\": \"2021-04-18T18:54:01.9361Z\", \"created_time\": \"2021-04-18T18:53:04.617964Z\", \"created_time_dt\": \"2021-04-18T18:53:04.617964Z\", \"duration\": \"0:00:57\", \"iteration\": \"0\", \"goal\": \"AUC_weighted_max\", \"run_name\": \"MaxAbsScaler, LightGBM\", \"run_properties\": \"copy=True\", \"primary_metric\": 0.89646204, \"best_metric\": 0.89646204}, {\"run_id\": \"AutoML_2080453b-f05a-4417-a3b9-e9d1810ad543_1\", \"run_number\": 66, \"metric\": null, \"status\": \"Completed\", \"run_type\": \"azureml.scriptrun\", \"training_percent\": \"100\", \"start_time\": \"2021-04-18T18:53:13.433857Z\", \"end_time\": \"2021-04-18T18:53:57.529679Z\", \"created_time\": \"2021-04-18T18:53:04.765303Z\", \"created_time_dt\": \"2021-04-18T18:53:04.765303Z\", \"duration\": \"0:00:52\", \"iteration\": \"1\", \"goal\": \"AUC_weighted_max\", \"run_name\": \"MaxAbsScaler, XGBoostClassifier\", \"run_properties\": \"copy=True\", \"primary_metric\": 0.88812287, \"best_metric\": 0.89646204}, {\"run_id\": \"AutoML_2080453b-f05a-4417-a3b9-e9d1810ad543_3\", \"run_number\": 67, \"metric\": null, \"status\": \"Completed\", \"run_type\": \"azureml.scriptrun\", \"training_percent\": \"100\", \"start_time\": \"2021-04-18T18:53:16.94388Z\", \"end_time\": \"2021-04-18T18:53:57.818563Z\", \"created_time\": \"2021-04-18T18:53:04.825906Z\", \"created_time_dt\": \"2021-04-18T18:53:04.825906Z\", \"duration\": \"0:00:52\", \"iteration\": \"3\", \"goal\": \"AUC_weighted_max\", \"run_name\": \"MaxAbsScaler, RandomForest\", \"run_properties\": \"copy=True\", \"primary_metric\": 0.89339509, \"best_metric\": 0.89646204}, {\"run_id\": \"AutoML_2080453b-f05a-4417-a3b9-e9d1810ad543_4\", \"run_number\": 68, \"metric\": null, \"status\": \"Completed\", \"run_type\": \"azureml.scriptrun\", \"training_percent\": \"100\", \"start_time\": \"2021-04-18T18:53:15.332446Z\", \"end_time\": \"2021-04-18T18:54:03.118465Z\", \"created_time\": \"2021-04-18T18:53:04.851267Z\", \"created_time_dt\": \"2021-04-18T18:53:04.851267Z\", \"duration\": \"0:00:58\", \"iteration\": \"4\", \"goal\": \"AUC_weighted_max\", \"run_name\": \"MaxAbsScaler, RandomForest\", \"run_properties\": \"copy=True\", \"primary_metric\": 0.88781763, \"best_metric\": 0.89646204}, {\"run_id\": \"AutoML_2080453b-f05a-4417-a3b9-e9d1810ad543_2\", \"run_number\": 69, \"metric\": null, \"status\": \"Completed\", \"run_type\": \"azureml.scriptrun\", \"training_percent\": \"100\", \"start_time\": \"2021-04-18T18:53:16.541968Z\", \"end_time\": \"2021-04-18T18:53:56.99883Z\", \"created_time\": \"2021-04-18T18:53:04.927215Z\", \"created_time_dt\": \"2021-04-18T18:53:04.927215Z\", \"duration\": \"0:00:52\", \"iteration\": \"2\", \"goal\": \"AUC_weighted_max\", \"run_name\": \"MaxAbsScaler, RandomForest\", \"run_properties\": \"copy=True\", \"primary_metric\": 0.89358325, \"best_metric\": 0.89646204}, {\"run_id\": \"AutoML_2080453b-f05a-4417-a3b9-e9d1810ad543_5\", \"run_number\": 70, \"metric\": null, \"status\": \"Completed\", \"run_type\": \"azureml.scriptrun\", \"training_percent\": \"100\", \"start_time\": \"2021-04-18T18:54:12.183595Z\", \"end_time\": \"2021-04-18T18:55:04.141186Z\", \"created_time\": \"2021-04-18T18:54:01.480955Z\", \"created_time_dt\": \"2021-04-18T18:54:01.480955Z\", \"duration\": \"0:01:02\", \"iteration\": \"5\", \"goal\": \"AUC_weighted_max\", \"run_name\": \"MaxAbsScaler, ExtremeRandomTrees\", \"run_properties\": \"copy=True\", \"primary_metric\": 0.88413457, \"best_metric\": 0.89646204}, {\"run_id\": \"AutoML_2080453b-f05a-4417-a3b9-e9d1810ad543_7\", \"run_number\": 71, \"metric\": null, \"status\": \"Completed\", \"run_type\": \"azureml.scriptrun\", \"training_percent\": \"100\", \"start_time\": \"2021-04-18T18:54:13.346349Z\", \"end_time\": \"2021-04-18T18:54:56.096824Z\", \"created_time\": \"2021-04-18T18:54:01.491273Z\", \"created_time_dt\": \"2021-04-18T18:54:01.491273Z\", \"duration\": \"0:00:54\", \"iteration\": \"7\", \"goal\": \"AUC_weighted_max\", \"run_name\": \"MaxAbsScaler, ExtremeRandomTrees\", \"run_properties\": \"copy=True\", \"primary_metric\": 0.90474098, \"best_metric\": 0.90474098}, {\"run_id\": \"AutoML_2080453b-f05a-4417-a3b9-e9d1810ad543_6\", \"run_number\": 72, \"metric\": null, \"status\": \"Completed\", \"run_type\": \"azureml.scriptrun\", \"training_percent\": \"100\", \"start_time\": \"2021-04-18T18:54:13.461038Z\", \"end_time\": \"2021-04-18T18:54:54.22886Z\", \"created_time\": \"2021-04-18T18:54:01.56147Z\", \"created_time_dt\": \"2021-04-18T18:54:01.56147Z\", \"duration\": \"0:00:52\", \"iteration\": \"6\", \"goal\": \"AUC_weighted_max\", \"run_name\": \"MaxAbsScaler, ExtremeRandomTrees\", \"run_properties\": \"copy=True\", \"primary_metric\": 0.90414744, \"best_metric\": 0.90414744}, {\"run_id\": \"AutoML_2080453b-f05a-4417-a3b9-e9d1810ad543_9\", \"run_number\": 73, \"metric\": null, \"status\": \"Completed\", \"run_type\": \"azureml.scriptrun\", \"training_percent\": \"100\", \"start_time\": \"2021-04-18T18:54:19.107367Z\", \"end_time\": \"2021-04-18T18:54:59.812073Z\", \"created_time\": \"2021-04-18T18:54:08.0844Z\", \"created_time_dt\": \"2021-04-18T18:54:08.0844Z\", \"duration\": \"0:00:51\", \"iteration\": \"9\", \"goal\": \"AUC_weighted_max\", \"run_name\": \"MaxAbsScaler, ExtremeRandomTrees\", \"run_properties\": \"copy=True\", \"primary_metric\": 0.91535886, \"best_metric\": 0.91535886}, {\"run_id\": \"AutoML_2080453b-f05a-4417-a3b9-e9d1810ad543_8\", \"run_number\": 74, \"metric\": null, \"status\": \"Completed\", \"run_type\": \"azureml.scriptrun\", \"training_percent\": \"100\", \"start_time\": \"2021-04-18T18:54:16.608692Z\", \"end_time\": \"2021-04-18T18:55:02.140783Z\", \"created_time\": \"2021-04-18T18:54:08.101287Z\", \"created_time_dt\": \"2021-04-18T18:54:08.101287Z\", \"duration\": \"0:00:54\", \"iteration\": \"8\", \"goal\": \"AUC_weighted_max\", \"run_name\": \"MaxAbsScaler, RandomForest\", \"run_properties\": \"copy=True\", \"primary_metric\": 0.89973046, \"best_metric\": 0.90474098}, {\"run_id\": \"AutoML_2080453b-f05a-4417-a3b9-e9d1810ad543_10\", \"run_number\": 75, \"metric\": null, \"status\": \"Completed\", \"run_type\": \"azureml.scriptrun\", \"training_percent\": \"100\", \"start_time\": \"2021-04-18T18:55:17.832754Z\", \"end_time\": \"2021-04-18T18:55:58.966383Z\", \"created_time\": \"2021-04-18T18:54:58.298221Z\", \"created_time_dt\": \"2021-04-18T18:54:58.298221Z\", \"duration\": \"0:01:00\", \"iteration\": \"10\", \"goal\": \"AUC_weighted_max\", \"run_name\": \"MaxAbsScaler, RandomForest\", \"run_properties\": \"copy=True\", \"primary_metric\": 0.8840484, \"best_metric\": 0.91535886}, {\"run_id\": \"AutoML_2080453b-f05a-4417-a3b9-e9d1810ad543_14\", \"run_number\": 76, \"metric\": null, \"status\": \"Completed\", \"run_type\": \"azureml.scriptrun\", \"training_percent\": \"100\", \"start_time\": \"2021-04-18T18:55:21.187973Z\", \"end_time\": \"2021-04-18T18:56:03.967037Z\", \"created_time\": \"2021-04-18T18:55:10.800017Z\", \"created_time_dt\": \"2021-04-18T18:55:10.800017Z\", \"duration\": \"0:00:53\", \"iteration\": \"14\", \"goal\": \"AUC_weighted_max\", \"run_name\": \"MaxAbsScaler, RandomForest\", \"run_properties\": \"copy=True\", \"primary_metric\": 0.8863638, \"best_metric\": 0.91535886}, {\"run_id\": \"AutoML_2080453b-f05a-4417-a3b9-e9d1810ad543_12\", \"run_number\": 77, \"metric\": null, \"status\": \"Completed\", \"run_type\": \"azureml.scriptrun\", \"training_percent\": \"100\", \"start_time\": \"2021-04-18T18:55:21.662738Z\", \"end_time\": \"2021-04-18T18:56:07.555643Z\", \"created_time\": \"2021-04-18T18:55:10.811053Z\", \"created_time_dt\": \"2021-04-18T18:55:10.811053Z\", \"duration\": \"0:00:56\", \"iteration\": \"12\", \"goal\": \"AUC_weighted_max\", \"run_name\": \"MaxAbsScaler, RandomForest\", \"run_properties\": \"copy=True\", \"primary_metric\": 0.90725658, \"best_metric\": 0.91535886}, {\"run_id\": \"AutoML_2080453b-f05a-4417-a3b9-e9d1810ad543_11\", \"run_number\": 78, \"metric\": null, \"status\": \"Completed\", \"run_type\": \"azureml.scriptrun\", \"training_percent\": \"100\", \"start_time\": \"2021-04-18T18:55:28.293016Z\", \"end_time\": \"2021-04-18T18:56:45.39527Z\", \"created_time\": \"2021-04-18T18:55:10.93471Z\", \"created_time_dt\": \"2021-04-18T18:55:10.93471Z\", \"duration\": \"0:01:34\", \"iteration\": \"11\", \"goal\": \"AUC_weighted_max\", \"run_name\": \"MaxAbsScaler, RandomForest\", \"run_properties\": \"copy=True\", \"primary_metric\": 0.8906593, \"best_metric\": 0.91535886}, {\"run_id\": \"AutoML_2080453b-f05a-4417-a3b9-e9d1810ad543_13\", \"run_number\": 79, \"metric\": null, \"status\": \"Completed\", \"run_type\": \"azureml.scriptrun\", \"training_percent\": \"100\", \"start_time\": \"2021-04-18T18:55:22.548361Z\", \"end_time\": \"2021-04-18T18:56:43.352019Z\", \"created_time\": \"2021-04-18T18:55:10.813578Z\", \"created_time_dt\": \"2021-04-18T18:55:10.813578Z\", \"duration\": \"0:01:32\", \"iteration\": \"13\", \"goal\": \"AUC_weighted_max\", \"run_name\": \"StandardScalerWrapper, XGBoostClassifier\", \"run_properties\": \"<azureml.automl.runtime.shared.model_wrappers.StandardScalerWrapper object at 0x7f8236557a20\", \"primary_metric\": 0.89916206, \"best_metric\": 0.91535886}, {\"run_id\": \"AutoML_2080453b-f05a-4417-a3b9-e9d1810ad543_15\", \"run_number\": 80, \"metric\": null, \"status\": \"Completed\", \"run_type\": \"azureml.scriptrun\", \"training_percent\": \"100\", \"start_time\": \"2021-04-18T18:56:17.755678Z\", \"end_time\": \"2021-04-18T18:56:59.279525Z\", \"created_time\": \"2021-04-18T18:56:02.351256Z\", \"created_time_dt\": \"2021-04-18T18:56:02.351256Z\", \"duration\": \"0:00:56\", \"iteration\": \"15\", \"goal\": \"AUC_weighted_max\", \"run_name\": \"StandardScalerWrapper, ExtremeRandomTrees\", \"run_properties\": \"<azureml.automl.runtime.shared.model_wrappers.StandardScalerWrapper object at 0x7f57406f6a58\", \"primary_metric\": 0.83818318, \"best_metric\": 0.91535886}, {\"run_id\": \"AutoML_2080453b-f05a-4417-a3b9-e9d1810ad543_16\", \"run_number\": 81, \"metric\": null, \"status\": \"Completed\", \"run_type\": \"azureml.scriptrun\", \"training_percent\": \"100\", \"start_time\": \"2021-04-18T18:56:17.862272Z\", \"end_time\": \"2021-04-18T18:56:56.867298Z\", \"created_time\": \"2021-04-18T18:56:07.839711Z\", \"created_time_dt\": \"2021-04-18T18:56:07.839711Z\", \"duration\": \"0:00:49\", \"iteration\": \"16\", \"goal\": \"AUC_weighted_max\", \"run_name\": \"MaxAbsScaler, ExtremeRandomTrees\", \"run_properties\": \"copy=True\", \"primary_metric\": 0.87274937, \"best_metric\": 0.91535886}, {\"run_id\": \"AutoML_2080453b-f05a-4417-a3b9-e9d1810ad543_17\", \"run_number\": 82, \"metric\": null, \"status\": \"Completed\", \"run_type\": \"azureml.scriptrun\", \"training_percent\": \"100\", \"start_time\": \"2021-04-18T18:56:25.147975Z\", \"end_time\": \"2021-04-18T18:57:07.775621Z\", \"created_time\": \"2021-04-18T18:56:14.509755Z\", \"created_time_dt\": \"2021-04-18T18:56:14.509755Z\", \"duration\": \"0:00:53\", \"iteration\": \"17\", \"goal\": \"AUC_weighted_max\", \"run_name\": \"MaxAbsScaler, ExtremeRandomTrees\", \"run_properties\": \"copy=True\", \"primary_metric\": 0.90840103, \"best_metric\": 0.91535886}, {\"run_id\": \"AutoML_2080453b-f05a-4417-a3b9-e9d1810ad543_18\", \"run_number\": 83, \"metric\": null, \"status\": \"Completed\", \"run_type\": \"azureml.scriptrun\", \"training_percent\": \"100\", \"start_time\": \"2021-04-18T18:56:54.92525Z\", \"end_time\": \"2021-04-18T18:57:41.921057Z\", \"created_time\": \"2021-04-18T18:56:46.673682Z\", \"created_time_dt\": \"2021-04-18T18:56:46.673682Z\", \"duration\": \"0:00:55\", \"iteration\": \"18\", \"goal\": \"AUC_weighted_max\", \"run_name\": \"MaxAbsScaler, RandomForest\", \"run_properties\": \"copy=True\", \"primary_metric\": 0.89304173, \"best_metric\": 0.91535886}, {\"run_id\": \"AutoML_2080453b-f05a-4417-a3b9-e9d1810ad543_19\", \"run_number\": 84, \"metric\": null, \"status\": \"Completed\", \"run_type\": \"azureml.scriptrun\", \"training_percent\": \"100\", \"start_time\": \"2021-04-18T18:57:02.675336Z\", \"end_time\": \"2021-04-18T18:57:40.253982Z\", \"created_time\": \"2021-04-18T18:56:51.75201Z\", \"created_time_dt\": \"2021-04-18T18:56:51.75201Z\", \"duration\": \"0:00:48\", \"iteration\": \"19\", \"goal\": \"AUC_weighted_max\", \"run_name\": \"StandardScalerWrapper, LogisticRegression\", \"run_properties\": \"<azureml.automl.runtime.shared.model_wrappers.StandardScalerWrapper object at 0x7f2edf733eb8\", \"primary_metric\": 0.88458066, \"best_metric\": 0.91535886}, {\"run_id\": \"AutoML_2080453b-f05a-4417-a3b9-e9d1810ad543_20\", \"run_number\": 85, \"metric\": null, \"status\": \"Completed\", \"run_type\": \"azureml.scriptrun\", \"training_percent\": \"100\", \"start_time\": \"2021-04-18T18:57:07.708327Z\", \"end_time\": \"2021-04-18T18:57:51.95514Z\", \"created_time\": \"2021-04-18T18:56:59.740988Z\", \"created_time_dt\": \"2021-04-18T18:56:59.740988Z\", \"duration\": \"0:00:52\", \"iteration\": \"20\", \"goal\": \"AUC_weighted_max\", \"run_name\": \"MaxAbsScaler, LightGBM\", \"run_properties\": \"copy=True\", \"primary_metric\": 0.9133107, \"best_metric\": 0.91535886}, {\"run_id\": \"AutoML_2080453b-f05a-4417-a3b9-e9d1810ad543_21\", \"run_number\": 86, \"metric\": null, \"status\": \"Completed\", \"run_type\": \"azureml.scriptrun\", \"training_percent\": \"100\", \"start_time\": \"2021-04-18T18:57:17.852077Z\", \"end_time\": \"2021-04-18T18:57:58.40399Z\", \"created_time\": \"2021-04-18T18:57:04.290121Z\", \"created_time_dt\": \"2021-04-18T18:57:04.290121Z\", \"duration\": \"0:00:54\", \"iteration\": \"21\", \"goal\": \"AUC_weighted_max\", \"run_name\": \"MaxAbsScaler, LightGBM\", \"run_properties\": \"copy=True\", \"primary_metric\": 0.90224087, \"best_metric\": 0.91535886}, {\"run_id\": \"AutoML_2080453b-f05a-4417-a3b9-e9d1810ad543_22\", \"run_number\": 87, \"metric\": null, \"status\": \"Completed\", \"run_type\": \"azureml.scriptrun\", \"training_percent\": \"100\", \"start_time\": \"2021-04-18T18:57:30.316455Z\", \"end_time\": \"2021-04-18T18:58:41.86227Z\", \"created_time\": \"2021-04-18T18:57:10.469782Z\", \"created_time_dt\": \"2021-04-18T18:57:10.469782Z\", \"duration\": \"0:01:31\", \"iteration\": \"22\", \"goal\": \"AUC_weighted_max\", \"run_name\": \"StandardScalerWrapper, LogisticRegression\", \"run_properties\": \"<azureml.automl.runtime.shared.model_wrappers.StandardScalerWrapper object at 0x7f3a339fcf98\", \"primary_metric\": 0.88745103, \"best_metric\": 0.91535886}, {\"run_id\": \"AutoML_2080453b-f05a-4417-a3b9-e9d1810ad543_23\", \"run_number\": 88, \"metric\": null, \"status\": \"Completed\", \"run_type\": \"azureml.scriptrun\", \"training_percent\": \"100\", \"start_time\": \"2021-04-18T18:57:54.113588Z\", \"end_time\": \"2021-04-18T18:58:46.105618Z\", \"created_time\": \"2021-04-18T18:57:42.863818Z\", \"created_time_dt\": \"2021-04-18T18:57:42.863818Z\", \"duration\": \"0:01:03\", \"iteration\": \"23\", \"goal\": \"AUC_weighted_max\", \"run_name\": \"MaxAbsScaler, LightGBM\", \"run_properties\": \"copy=True\", \"primary_metric\": 0.90852406, \"best_metric\": 0.91535886}, {\"run_id\": \"AutoML_2080453b-f05a-4417-a3b9-e9d1810ad543_24\", \"run_number\": 89, \"metric\": null, \"status\": \"Completed\", \"run_type\": \"azureml.scriptrun\", \"training_percent\": \"100\", \"start_time\": \"2021-04-18T18:58:03.698103Z\", \"end_time\": \"2021-04-18T18:58:47.828204Z\", \"created_time\": \"2021-04-18T18:57:47.824809Z\", \"created_time_dt\": \"2021-04-18T18:57:47.824809Z\", \"duration\": \"0:01:00\", \"iteration\": \"24\", \"goal\": \"AUC_weighted_max\", \"run_name\": \"StandardScalerWrapper, LightGBM\", \"run_properties\": \"<azureml.automl.runtime.shared.model_wrappers.StandardScalerWrapper object at 0x7f1d011584a8\", \"primary_metric\": 0.9226426, \"best_metric\": 0.9226426}, {\"run_id\": \"AutoML_2080453b-f05a-4417-a3b9-e9d1810ad543_25\", \"run_number\": 90, \"metric\": null, \"status\": \"Completed\", \"run_type\": \"azureml.scriptrun\", \"training_percent\": \"100\", \"start_time\": \"2021-04-18T18:58:22.507429Z\", \"end_time\": \"2021-04-18T18:59:15.692045Z\", \"created_time\": \"2021-04-18T18:58:00.782332Z\", \"created_time_dt\": \"2021-04-18T18:58:00.782332Z\", \"duration\": \"0:01:14\", \"iteration\": \"25\", \"goal\": \"AUC_weighted_max\", \"run_name\": \"MaxAbsScaler, ExtremeRandomTrees\", \"run_properties\": \"copy=True\", \"primary_metric\": 0.888773, \"best_metric\": 0.9226426}, {\"run_id\": \"AutoML_2080453b-f05a-4417-a3b9-e9d1810ad543_26\", \"run_number\": 91, \"metric\": null, \"status\": \"Completed\", \"run_type\": \"azureml.scriptrun\", \"training_percent\": \"100\", \"start_time\": \"2021-04-18T18:58:25.581727Z\", \"end_time\": \"2021-04-18T18:59:06.514283Z\", \"created_time\": \"2021-04-18T18:58:14.507233Z\", \"created_time_dt\": \"2021-04-18T18:58:14.507233Z\", \"duration\": \"0:00:52\", \"iteration\": \"26\", \"goal\": \"AUC_weighted_max\", \"run_name\": \"MaxAbsScaler, LogisticRegression\", \"run_properties\": \"copy=True\", \"primary_metric\": 0.89616429, \"best_metric\": 0.9226426}, {\"run_id\": \"AutoML_2080453b-f05a-4417-a3b9-e9d1810ad543_27\", \"run_number\": 92, \"metric\": null, \"status\": \"Completed\", \"run_type\": \"azureml.scriptrun\", \"training_percent\": \"100\", \"start_time\": \"2021-04-18T18:58:57.744126Z\", \"end_time\": \"2021-04-18T19:00:53.71544Z\", \"created_time\": \"2021-04-18T18:58:44.850193Z\", \"created_time_dt\": \"2021-04-18T18:58:44.850193Z\", \"duration\": \"0:02:08\", \"iteration\": \"27\", \"goal\": \"AUC_weighted_max\", \"run_name\": \"MaxAbsScaler, ExtremeRandomTrees\", \"run_properties\": \"copy=True\", \"primary_metric\": 0.89116198, \"best_metric\": 0.9226426}, {\"run_id\": \"AutoML_2080453b-f05a-4417-a3b9-e9d1810ad543_28\", \"run_number\": 93, \"metric\": null, \"status\": \"Completed\", \"run_type\": \"azureml.scriptrun\", \"training_percent\": \"100\", \"start_time\": \"2021-04-18T18:58:59.799483Z\", \"end_time\": \"2021-04-18T19:00:57.334333Z\", \"created_time\": \"2021-04-18T18:58:49.197269Z\", \"created_time_dt\": \"2021-04-18T18:58:49.197269Z\", \"duration\": \"0:02:08\", \"iteration\": \"28\", \"goal\": \"AUC_weighted_max\", \"run_name\": \"StandardScalerWrapper, ExtremeRandomTrees\", \"run_properties\": \"<azureml.automl.runtime.shared.model_wrappers.StandardScalerWrapper object at 0x7fd9780fdf60\", \"primary_metric\": 0.88229651, \"best_metric\": 0.9226426}, {\"run_id\": \"AutoML_2080453b-f05a-4417-a3b9-e9d1810ad543_29\", \"run_number\": 94, \"metric\": null, \"status\": \"Completed\", \"run_type\": \"azureml.scriptrun\", \"training_percent\": \"100\", \"start_time\": \"2021-04-18T18:59:05.339778Z\", \"end_time\": \"2021-04-18T19:00:58.808698Z\", \"created_time\": \"2021-04-18T18:58:54.833324Z\", \"created_time_dt\": \"2021-04-18T18:58:54.833324Z\", \"duration\": \"0:02:03\", \"iteration\": \"29\", \"goal\": \"AUC_weighted_max\", \"run_name\": \"MaxAbsScaler, ExtremeRandomTrees\", \"run_properties\": \"copy=True\", \"primary_metric\": 0.89645627, \"best_metric\": 0.9226426}, {\"run_id\": \"AutoML_2080453b-f05a-4417-a3b9-e9d1810ad543_30\", \"run_number\": 95, \"metric\": null, \"status\": \"Completed\", \"run_type\": \"azureml.scriptrun\", \"training_percent\": \"100\", \"start_time\": \"2021-04-18T18:59:17.777883Z\", \"end_time\": \"2021-04-18T19:01:46.366034Z\", \"created_time\": \"2021-04-18T18:59:09.78327Z\", \"created_time_dt\": \"2021-04-18T18:59:09.78327Z\", \"duration\": \"0:02:36\", \"iteration\": \"30\", \"goal\": \"AUC_weighted_max\", \"run_name\": \"MaxAbsScaler, LightGBM\", \"run_properties\": \"copy=True\", \"primary_metric\": 0.91357726, \"best_metric\": 0.9226426}, {\"run_id\": \"AutoML_2080453b-f05a-4417-a3b9-e9d1810ad543_31\", \"run_number\": 96, \"metric\": null, \"status\": \"Completed\", \"run_type\": \"azureml.scriptrun\", \"training_percent\": \"100\", \"start_time\": \"2021-04-18T18:59:25.995983Z\", \"end_time\": \"2021-04-18T19:01:37.089412Z\", \"created_time\": \"2021-04-18T18:59:18.065477Z\", \"created_time_dt\": \"2021-04-18T18:59:18.065477Z\", \"duration\": \"0:02:19\", \"iteration\": \"31\", \"goal\": \"AUC_weighted_max\", \"run_name\": \"StandardScalerWrapper, XGBoostClassifier\", \"run_properties\": \"<azureml.automl.runtime.shared.model_wrappers.StandardScalerWrapper object at 0x7f8925a984a8\", \"primary_metric\": 0.89979725, \"best_metric\": 0.9226426}, {\"run_id\": \"AutoML_2080453b-f05a-4417-a3b9-e9d1810ad543_32\", \"run_number\": 97, \"metric\": null, \"status\": \"Completed\", \"run_type\": \"azureml.scriptrun\", \"training_percent\": \"100\", \"start_time\": \"2021-04-18T19:01:19.198331Z\", \"end_time\": \"2021-04-18T19:02:07.190528Z\", \"created_time\": \"2021-04-18T19:00:56.279795Z\", \"created_time_dt\": \"2021-04-18T19:00:56.279795Z\", \"duration\": \"0:01:10\", \"iteration\": \"32\", \"goal\": \"AUC_weighted_max\", \"run_name\": \"SparseNormalizer, XGBoostClassifier\", \"run_properties\": \"<azureml.automl.runtime.shared.model_wrappers.SparseNormalizer object at 0x7f8893772a90\", \"primary_metric\": 0.89860882, \"best_metric\": 0.9226426}, {\"run_id\": \"AutoML_2080453b-f05a-4417-a3b9-e9d1810ad543_33\", \"run_number\": 98, \"metric\": null, \"status\": \"Completed\", \"run_type\": \"azureml.scriptrun\", \"training_percent\": \"100\", \"start_time\": \"2021-04-18T19:01:21.715479Z\", \"end_time\": \"2021-04-18T19:02:04.473447Z\", \"created_time\": \"2021-04-18T19:01:10.992311Z\", \"created_time_dt\": \"2021-04-18T19:01:10.992311Z\", \"duration\": \"0:00:53\", \"iteration\": \"33\", \"goal\": \"AUC_weighted_max\", \"run_name\": \"TruncatedSVDWrapper, XGBoostClassifier\", \"run_properties\": \"n_components=0.8015789473684211, random_state=None\", \"primary_metric\": 0.89216528, \"best_metric\": 0.9226426}, {\"run_id\": \"AutoML_2080453b-f05a-4417-a3b9-e9d1810ad543_34\", \"run_number\": 99, \"metric\": null, \"status\": \"Completed\", \"run_type\": \"azureml.scriptrun\", \"training_percent\": \"100\", \"start_time\": \"2021-04-18T19:01:22.58445Z\", \"end_time\": \"2021-04-18T19:02:05.088749Z\", \"created_time\": \"2021-04-18T19:01:11.145872Z\", \"created_time_dt\": \"2021-04-18T19:01:11.145872Z\", \"duration\": \"0:00:53\", \"iteration\": \"34\", \"goal\": \"AUC_weighted_max\", \"run_name\": \"TruncatedSVDWrapper, XGBoostClassifier\", \"run_properties\": \"n_components=0.9005263157894737, random_state=None\", \"primary_metric\": 0.87565659, \"best_metric\": 0.9226426}, {\"run_id\": \"AutoML_2080453b-f05a-4417-a3b9-e9d1810ad543_35\", \"run_number\": 100, \"metric\": null, \"status\": \"Completed\", \"run_type\": \"azureml.scriptrun\", \"training_percent\": \"100\", \"start_time\": \"2021-04-18T19:01:53.800836Z\", \"end_time\": \"2021-04-18T19:02:49.332577Z\", \"created_time\": \"2021-04-18T19:01:40.679067Z\", \"created_time_dt\": \"2021-04-18T19:01:40.679067Z\", \"duration\": \"0:01:08\", \"iteration\": \"35\", \"goal\": \"AUC_weighted_max\", \"run_name\": \"StandardScalerWrapper, LightGBM\", \"run_properties\": \"<azureml.automl.runtime.shared.model_wrappers.StandardScalerWrapper object at 0x7f6575e52358\", \"primary_metric\": 0.91849708, \"best_metric\": 0.9226426}, {\"run_id\": \"AutoML_2080453b-f05a-4417-a3b9-e9d1810ad543_36\", \"run_number\": 101, \"metric\": null, \"status\": \"Completed\", \"run_type\": \"azureml.scriptrun\", \"training_percent\": \"100\", \"start_time\": \"2021-04-18T19:02:06.462001Z\", \"end_time\": \"2021-04-18T19:02:57.981957Z\", \"created_time\": \"2021-04-18T19:01:48.484459Z\", \"created_time_dt\": \"2021-04-18T19:01:48.484459Z\", \"duration\": \"0:01:09\", \"iteration\": \"36\", \"goal\": \"AUC_weighted_max\", \"run_name\": \"TruncatedSVDWrapper, XGBoostClassifier\", \"run_properties\": \"n_components=0.6036842105263158, random_state=None\", \"primary_metric\": 0.89478992, \"best_metric\": 0.9226426}, {\"run_id\": \"AutoML_2080453b-f05a-4417-a3b9-e9d1810ad543_37\", \"run_number\": 102, \"metric\": null, \"status\": \"Completed\", \"run_type\": \"azureml.scriptrun\", \"training_percent\": \"100\", \"start_time\": \"2021-04-18T19:02:21.305134Z\", \"end_time\": \"2021-04-18T19:03:08.1048Z\", \"created_time\": \"2021-04-18T19:02:06.854871Z\", \"created_time_dt\": \"2021-04-18T19:02:06.854871Z\", \"duration\": \"0:01:01\", \"iteration\": \"37\", \"goal\": \"AUC_weighted_max\", \"run_name\": \"SparseNormalizer, LightGBM\", \"run_properties\": \"<azureml.automl.runtime.shared.model_wrappers.SparseNormalizer object at 0x7f0dc6409e10\", \"primary_metric\": 0.92101187, \"best_metric\": 0.9226426}, {\"run_id\": \"AutoML_2080453b-f05a-4417-a3b9-e9d1810ad543_38\", \"run_number\": 103, \"metric\": null, \"status\": \"Completed\", \"run_type\": \"azureml.scriptrun\", \"training_percent\": \"100\", \"start_time\": \"2021-04-18T19:02:22.835218Z\", \"end_time\": \"2021-04-18T19:03:08.168672Z\", \"created_time\": \"2021-04-18T19:02:14.859147Z\", \"created_time_dt\": \"2021-04-18T19:02:14.859147Z\", \"duration\": \"0:00:53\", \"iteration\": \"38\", \"goal\": \"AUC_weighted_max\", \"run_name\": \"MaxAbsScaler, LightGBM\", \"run_properties\": \"copy=True\", \"primary_metric\": 0.90946412, \"best_metric\": 0.9226426}, {\"run_id\": \"AutoML_2080453b-f05a-4417-a3b9-e9d1810ad543_39\", \"run_number\": 104, \"metric\": null, \"status\": \"Completed\", \"run_type\": \"azureml.scriptrun\", \"training_percent\": \"100\", \"start_time\": \"2021-04-18T19:02:23.027658Z\", \"end_time\": \"2021-04-18T19:03:05.754641Z\", \"created_time\": \"2021-04-18T19:02:14.981145Z\", \"created_time_dt\": \"2021-04-18T19:02:14.981145Z\", \"duration\": \"0:00:50\", \"iteration\": \"39\", \"goal\": \"AUC_weighted_max\", \"run_name\": \"SparseNormalizer, LightGBM\", \"run_properties\": \"<azureml.automl.runtime.shared.model_wrappers.SparseNormalizer object at 0x7f8a0f465518\", \"primary_metric\": 0.90638839, \"best_metric\": 0.9226426}, {\"run_id\": \"AutoML_2080453b-f05a-4417-a3b9-e9d1810ad543_40\", \"run_number\": 105, \"metric\": null, \"status\": \"Canceled\", \"run_type\": \"azureml.scriptrun\", \"training_percent\": \"100\", \"start_time\": \"2021-04-18T19:03:04.794202Z\", \"end_time\": \"2021-04-18T19:03:22.062952Z\", \"created_time\": \"2021-04-18T19:02:52.6317Z\", \"created_time_dt\": \"2021-04-18T19:02:52.6317Z\", \"duration\": \"0:00:29\", \"iteration\": \"40\", \"goal\": null, \"run_name\": \"SparseNormalizer, LightGBM\", \"run_properties\": null}, {\"run_id\": \"AutoML_2080453b-f05a-4417-a3b9-e9d1810ad543_41\", \"run_number\": 106, \"metric\": null, \"status\": \"Canceled\", \"run_type\": \"azureml.scriptrun\", \"training_percent\": \"100\", \"start_time\": \"2021-04-18T19:03:09.966421Z\", \"end_time\": \"2021-04-18T19:03:22.183834Z\", \"created_time\": \"2021-04-18T19:03:00.872637Z\", \"created_time_dt\": \"2021-04-18T19:03:00.872637Z\", \"duration\": \"0:00:21\", \"iteration\": \"41\", \"goal\": null, \"run_name\": \"Canceled\", \"run_properties\": null}, {\"run_id\": \"AutoML_2080453b-f05a-4417-a3b9-e9d1810ad543_42\", \"run_number\": 107, \"metric\": null, \"status\": \"Canceled\", \"run_type\": \"azureml.scriptrun\", \"training_percent\": \"100\", \"start_time\": \"2021-04-18T19:03:23.180976Z\", \"end_time\": \"2021-04-18T19:03:29.616674Z\", \"created_time\": \"2021-04-18T19:03:07.968638Z\", \"created_time_dt\": \"2021-04-18T19:03:07.968638Z\", \"duration\": \"0:00:21\", \"iteration\": \"42\", \"goal\": null, \"run_name\": \"Canceled\", \"run_properties\": null}, {\"run_id\": \"AutoML_2080453b-f05a-4417-a3b9-e9d1810ad543_43\", \"run_number\": 108, \"metric\": null, \"status\": \"Completed\", \"run_type\": \"azureml.scriptrun\", \"training_percent\": \"100\", \"start_time\": \"2021-04-18T19:03:42.151335Z\", \"end_time\": \"2021-04-18T19:04:55.754819Z\", \"created_time\": \"2021-04-18T19:03:31.038128Z\", \"created_time_dt\": \"2021-04-18T19:03:31.038128Z\", \"duration\": \"0:01:24\", \"iteration\": \"43\", \"goal\": \"AUC_weighted_max\", \"run_name\": \"VotingEnsemble\", \"run_properties\": \"classification_labels=None,\\n                              estimators=[('24',\\n                                           Pipeline(memory=None,\\n                                                    steps=[('standardscalerwrapper',\\n                                                            <azureml.automl.runtime.shared.model_wrappers.StandardScalerWrapper object at 0x7f233c15b908>\", \"primary_metric\": 0.93596412, \"best_metric\": 0.93596412}, {\"run_id\": \"AutoML_2080453b-f05a-4417-a3b9-e9d1810ad543_44\", \"run_number\": 109, \"metric\": null, \"status\": \"Completed\", \"run_type\": \"azureml.scriptrun\", \"training_percent\": \"100\", \"start_time\": \"2021-04-18T19:03:41.923126Z\", \"end_time\": \"2021-04-18T19:04:56.62061Z\", \"created_time\": \"2021-04-18T19:03:31.168245Z\", \"created_time_dt\": \"2021-04-18T19:03:31.168245Z\", \"duration\": \"0:01:25\", \"iteration\": \"44\", \"goal\": \"AUC_weighted_max\", \"run_name\": \"StackEnsemble\", \"run_properties\": \"base_learners=[('24',\\n                                        Pipeline(memory=None,\\n                                                 steps=[('standardscalerwrapper',\\n                                                         <azureml.automl.runtime.shared.model_wrappers.StandardScalerWrapper object at 0x7f22687a6f98>\", \"primary_metric\": 0.92735532, \"best_metric\": 0.93596412}], \"children_metrics\": {\"categories\": [0], \"series\": {\"average_precision_score_weighted\": [{\"categories\": [\"0\", \"1\", \"2\", \"3\", \"4\", \"5\", \"6\", \"7\", \"8\", \"9\", \"10\", \"11\", \"12\", \"13\", \"14\", \"15\", \"16\", \"17\", \"18\", \"19\", \"20\", \"21\", \"22\", \"23\", \"24\", \"25\", \"26\", \"27\", \"28\", \"29\", \"30\", \"31\", \"32\", \"33\", \"34\", \"35\", \"36\", \"37\", \"38\", \"39\", \"43\", \"44\"], \"mode\": \"markers\", \"name\": \"average_precision_score_weighted\", \"stepped\": false, \"type\": \"scatter\", \"data\": [0.9077776793195355, 0.9006105758953705, 0.9096424683345194, 0.9054610289463632, 0.901319086001472, 0.8936086525690381, 0.9188741708163173, 0.9134786223585177, 0.9141057148806887, 0.9246873680397162, 0.8970118266232967, 0.905505856135631, 0.9187425781990486, 0.9128531612546128, 0.8999029833676108, 0.8364945380846933, 0.8876039290245343, 0.9174420324038353, 0.906447867876364, 0.9019063321971327, 0.9244876624506514, 0.9151599009379909, 0.9048202495829754, 0.9240134850890349, 0.9341175414857614, 0.9055293116305941, 0.9117471151232863, 0.9040377033964193, 0.897979158642783, 0.9058313598179556, 0.9254460229160684, 0.9126634866238721, 0.9132745254511319, 0.8997652315667273, 0.885799323207198, 0.9290467551865363, 0.9047550659772726, 0.9343648535913622, 0.9231639284143707, 0.9188061679605797, 0.9456537446157386, 0.9378232635499633]}, {\"categories\": [\"0\", \"1\", \"2\", \"3\", \"4\", \"5\", \"6\", \"7\", \"8\", \"9\", \"10\", \"11\", \"12\", \"13\", \"14\", \"15\", \"16\", \"17\", \"18\", \"19\", \"20\", \"21\", \"22\", \"23\", \"24\", \"25\", \"26\", \"27\", \"28\", \"29\", \"30\", \"31\", \"32\", \"33\", \"34\", \"35\", \"36\", \"37\", \"38\", \"39\", \"43\", \"44\"], \"mode\": \"lines\", \"name\": \"average_precision_score_weighted_max\", \"stepped\": true, \"type\": \"scatter\", \"data\": [0.9077776793195355, 0.9077776793195355, 0.9096424683345194, 0.9096424683345194, 0.9096424683345194, 0.9096424683345194, 0.9188741708163173, 0.9188741708163173, 0.9188741708163173, 0.9246873680397162, 0.9246873680397162, 0.9246873680397162, 0.9246873680397162, 0.9246873680397162, 0.9246873680397162, 0.9246873680397162, 0.9246873680397162, 0.9246873680397162, 0.9246873680397162, 0.9246873680397162, 0.9246873680397162, 0.9246873680397162, 0.9246873680397162, 0.9246873680397162, 0.9341175414857614, 0.9341175414857614, 0.9341175414857614, 0.9341175414857614, 0.9341175414857614, 0.9341175414857614, 0.9341175414857614, 0.9341175414857614, 0.9341175414857614, 0.9341175414857614, 0.9341175414857614, 0.9341175414857614, 0.9341175414857614, 0.9343648535913622, 0.9343648535913622, 0.9343648535913622, 0.9456537446157386, 0.9456537446157386]}], \"accuracy\": [{\"categories\": [\"0\", \"1\", \"2\", \"3\", \"4\", \"5\", \"6\", \"7\", \"8\", \"9\", \"10\", \"11\", \"12\", \"13\", \"14\", \"15\", \"16\", \"17\", \"18\", \"19\", \"20\", \"21\", \"22\", \"23\", \"24\", \"25\", \"26\", \"27\", \"28\", \"29\", \"30\", \"31\", \"32\", \"33\", \"34\", \"35\", \"36\", \"37\", \"38\", \"39\", \"43\", \"44\"], \"mode\": \"markers\", \"name\": \"accuracy\", \"stepped\": false, \"type\": \"scatter\", \"data\": [0.7872294372294373, 0.7967532467532468, 0.7928571428571429, 0.8069264069264068, 0.7878787878787878, 0.8112554112554111, 0.8071428571428572, 0.811904761904762, 0.811904761904762, 0.8354978354978355, 0.7694805194805194, 0.7887445887445887, 0.830952380952381, 0.8064935064935064, 0.8019480519480519, 0.7597402597402597, 0.7880952380952381, 0.7971861471861471, 0.7978354978354978, 0.7874458874458874, 0.8017316017316016, 0.8207792207792208, 0.796969696969697, 0.806060606060606, 0.8303030303030303, 0.6047619047619048, 0.7969696969696969, 0.8168831168831169, 0.7978354978354978, 0.8307359307359306, 0.8116883116883116, 0.811038961038961, 0.7974025974025973, 0.8207792207792208, 0.8010822510822511, 0.8160173160173161, 0.8158008658008657, 0.8114718614718613, 0.787878787878788, 0.7978354978354979, 0.8305194805194805, 0.6796536796536796]}, {\"categories\": [\"0\", \"1\", \"2\", \"3\", \"4\", \"5\", \"6\", \"7\", \"8\", \"9\", \"10\", \"11\", \"12\", \"13\", \"14\", \"15\", \"16\", \"17\", \"18\", \"19\", \"20\", \"21\", \"22\", \"23\", \"24\", \"25\", \"26\", \"27\", \"28\", \"29\", \"30\", \"31\", \"32\", \"33\", \"34\", \"35\", \"36\", \"37\", \"38\", \"39\", \"43\", \"44\"], \"mode\": \"lines\", \"name\": \"accuracy_max\", \"stepped\": true, \"type\": \"scatter\", \"data\": [0.7872294372294373, 0.7967532467532468, 0.7967532467532468, 0.8069264069264068, 0.8069264069264068, 0.8112554112554111, 0.8112554112554111, 0.811904761904762, 0.811904761904762, 0.8354978354978355, 0.8354978354978355, 0.8354978354978355, 0.8354978354978355, 0.8354978354978355, 0.8354978354978355, 0.8354978354978355, 0.8354978354978355, 0.8354978354978355, 0.8354978354978355, 0.8354978354978355, 0.8354978354978355, 0.8354978354978355, 0.8354978354978355, 0.8354978354978355, 0.8354978354978355, 0.8354978354978355, 0.8354978354978355, 0.8354978354978355, 0.8354978354978355, 0.8354978354978355, 0.8354978354978355, 0.8354978354978355, 0.8354978354978355, 0.8354978354978355, 0.8354978354978355, 0.8354978354978355, 0.8354978354978355, 0.8354978354978355, 0.8354978354978355, 0.8354978354978355, 0.8354978354978355, 0.8354978354978355]}], \"average_precision_score_macro\": [{\"categories\": [\"0\", \"1\", \"2\", \"3\", \"4\", \"5\", \"6\", \"7\", \"8\", \"9\", \"10\", \"11\", \"12\", \"13\", \"14\", \"15\", \"16\", \"17\", \"18\", \"19\", \"20\", \"21\", \"22\", \"23\", \"24\", \"25\", \"26\", \"27\", \"28\", \"29\", \"30\", \"31\", \"32\", \"33\", \"34\", \"35\", \"36\", \"37\", \"38\", \"39\", \"43\", \"44\"], \"mode\": \"markers\", \"name\": \"average_precision_score_macro\", \"stepped\": false, \"type\": \"scatter\", \"data\": [0.8948975640854717, 0.8826421843607968, 0.9014347218281031, 0.8959882624868186, 0.8906607817556029, 0.8810040066467872, 0.9108190324299967, 0.9059619560766038, 0.9050721840515921, 0.9165812687532388, 0.8815250851787904, 0.8955169547096329, 0.9106901550845968, 0.9027526767301804, 0.888269168393181, 0.8192894030819445, 0.8789876743474704, 0.9101836553520798, 0.8961809968122256, 0.8899641418701669, 0.916868021144959, 0.9085041769067204, 0.8929637360033394, 0.9160411473077492, 0.9284014714518701, 0.8985363628397917, 0.9003078447915769, 0.8937469554970503, 0.8873034139817062, 0.899902296565851, 0.9183514009709809, 0.8982324463206212, 0.9048050815848118, 0.8861468027471062, 0.8747625852515682, 0.9201920734510667, 0.8947076685880179, 0.9281694212796804, 0.9160723550682983, 0.9124489754703126, 0.9404351521964965, 0.9319855105221307]}, {\"categories\": [\"0\", \"1\", \"2\", \"3\", \"4\", \"5\", \"6\", \"7\", \"8\", \"9\", \"10\", \"11\", \"12\", \"13\", \"14\", \"15\", \"16\", \"17\", \"18\", \"19\", \"20\", \"21\", \"22\", \"23\", \"24\", \"25\", \"26\", \"27\", \"28\", \"29\", \"30\", \"31\", \"32\", \"33\", \"34\", \"35\", \"36\", \"37\", \"38\", \"39\", \"43\", \"44\"], \"mode\": \"lines\", \"name\": \"average_precision_score_macro_max\", \"stepped\": true, \"type\": \"scatter\", \"data\": [0.8948975640854717, 0.8948975640854717, 0.9014347218281031, 0.9014347218281031, 0.9014347218281031, 0.9014347218281031, 0.9108190324299967, 0.9108190324299967, 0.9108190324299967, 0.9165812687532388, 0.9165812687532388, 0.9165812687532388, 0.9165812687532388, 0.9165812687532388, 0.9165812687532388, 0.9165812687532388, 0.9165812687532388, 0.9165812687532388, 0.9165812687532388, 0.9165812687532388, 0.916868021144959, 0.916868021144959, 0.916868021144959, 0.916868021144959, 0.9284014714518701, 0.9284014714518701, 0.9284014714518701, 0.9284014714518701, 0.9284014714518701, 0.9284014714518701, 0.9284014714518701, 0.9284014714518701, 0.9284014714518701, 0.9284014714518701, 0.9284014714518701, 0.9284014714518701, 0.9284014714518701, 0.9284014714518701, 0.9284014714518701, 0.9284014714518701, 0.9404351521964965, 0.9404351521964965]}], \"AUC_macro\": [{\"categories\": [\"0\", \"1\", \"2\", \"3\", \"4\", \"5\", \"6\", \"7\", \"8\", \"9\", \"10\", \"11\", \"12\", \"13\", \"14\", \"15\", \"16\", \"17\", \"18\", \"19\", \"20\", \"21\", \"22\", \"23\", \"24\", \"25\", \"26\", \"27\", \"28\", \"29\", \"30\", \"31\", \"32\", \"33\", \"34\", \"35\", \"36\", \"37\", \"38\", \"39\", \"43\", \"44\"], \"mode\": \"markers\", \"name\": \"AUC_macro\", \"stepped\": false, \"type\": \"scatter\", \"data\": [0.8964620366406082, 0.8881228691942977, 0.8935832487618202, 0.8933950903593763, 0.8878176321033463, 0.884134569134569, 0.9041474398617255, 0.9047409799195515, 0.8997304613376041, 0.9153588607160035, 0.884048398691256, 0.8906593010164439, 0.9072565793994365, 0.8991620614834901, 0.8863638015423729, 0.8381831759510332, 0.8727493736422307, 0.9084010301867445, 0.8930417267917268, 0.8845806640449497, 0.9133107038464182, 0.9022408742051597, 0.8874510344153201, 0.9085240619169191, 0.9226425954997384, 0.8887729994872853, 0.8961642920571492, 0.8911619795548367, 0.8822965064036493, 0.8964562685991257, 0.9135772626844056, 0.8997972530115387, 0.8986088184302471, 0.8921652752009896, 0.8756565920851636, 0.9184970783185067, 0.8947899190756333, 0.9210118651190079, 0.909464120535549, 0.9063883867455298, 0.9359641152498295, 0.9273553232481804]}, {\"categories\": [\"0\", \"1\", \"2\", \"3\", \"4\", \"5\", \"6\", \"7\", \"8\", \"9\", \"10\", \"11\", \"12\", \"13\", \"14\", \"15\", \"16\", \"17\", \"18\", \"19\", \"20\", \"21\", \"22\", \"23\", \"24\", \"25\", \"26\", \"27\", \"28\", \"29\", \"30\", \"31\", \"32\", \"33\", \"34\", \"35\", \"36\", \"37\", \"38\", \"39\", \"43\", \"44\"], \"mode\": \"lines\", \"name\": \"AUC_macro_max\", \"stepped\": true, \"type\": \"scatter\", \"data\": [0.8964620366406082, 0.8964620366406082, 0.8964620366406082, 0.8964620366406082, 0.8964620366406082, 0.8964620366406082, 0.9041474398617255, 0.9047409799195515, 0.9047409799195515, 0.9153588607160035, 0.9153588607160035, 0.9153588607160035, 0.9153588607160035, 0.9153588607160035, 0.9153588607160035, 0.9153588607160035, 0.9153588607160035, 0.9153588607160035, 0.9153588607160035, 0.9153588607160035, 0.9153588607160035, 0.9153588607160035, 0.9153588607160035, 0.9153588607160035, 0.9226425954997384, 0.9226425954997384, 0.9226425954997384, 0.9226425954997384, 0.9226425954997384, 0.9226425954997384, 0.9226425954997384, 0.9226425954997384, 0.9226425954997384, 0.9226425954997384, 0.9226425954997384, 0.9226425954997384, 0.9226425954997384, 0.9226425954997384, 0.9226425954997384, 0.9226425954997384, 0.9359641152498295, 0.9359641152498295]}], \"precision_score_macro\": [{\"categories\": [\"0\", \"1\", \"2\", \"3\", \"4\", \"5\", \"6\", \"7\", \"8\", \"9\", \"10\", \"11\", \"12\", \"13\", \"14\", \"15\", \"16\", \"17\", \"18\", \"19\", \"20\", \"21\", \"22\", \"23\", \"24\", \"25\", \"26\", \"27\", \"28\", \"29\", \"30\", \"31\", \"32\", \"33\", \"34\", \"35\", \"36\", \"37\", \"38\", \"39\", \"43\", \"44\"], \"mode\": \"markers\", \"name\": \"precision_score_macro\", \"stepped\": false, \"type\": \"scatter\", \"data\": [0.7974044705294705, 0.806081487956488, 0.7971891996891997, 0.8066884504384504, 0.7997115139762199, 0.808160866910867, 0.8066036741036742, 0.8114478576978577, 0.8120705683205683, 0.8297974247974249, 0.7771962759462759, 0.7891235153735153, 0.8291233766233767, 0.8103365384615385, 0.8164209075238487, 0.7666248334998335, 0.7863830613830614, 0.797038517038517, 0.7999155011655013, 0.7853153790653791, 0.8086267898767898, 0.8302276196026197, 0.7953202353202353, 0.812832722832723, 0.8339411976911977, 0.4973266499582289, 0.799872766122766, 0.8148769286269285, 0.7878205128205127, 0.8286725774225774, 0.8159686147186148, 0.8130985354514767, 0.8062969342748755, 0.8231884781884782, 0.8045095182595181, 0.8221153846153847, 0.8219054556554557, 0.8114370351870352, 0.7954929098679099, 0.8083310888457949, 0.8325301087801089, 0.5046103896103896]}, {\"categories\": [\"0\", \"1\", \"2\", \"3\", \"4\", \"5\", \"6\", \"7\", \"8\", \"9\", \"10\", \"11\", \"12\", \"13\", \"14\", \"15\", \"16\", \"17\", \"18\", \"19\", \"20\", \"21\", \"22\", \"23\", \"24\", \"25\", \"26\", \"27\", \"28\", \"29\", \"30\", \"31\", \"32\", \"33\", \"34\", \"35\", \"36\", \"37\", \"38\", \"39\", \"43\", \"44\"], \"mode\": \"lines\", \"name\": \"precision_score_macro_max\", \"stepped\": true, \"type\": \"scatter\", \"data\": [0.7974044705294705, 0.806081487956488, 0.806081487956488, 0.8066884504384504, 0.8066884504384504, 0.808160866910867, 0.808160866910867, 0.8114478576978577, 0.8120705683205683, 0.8297974247974249, 0.8297974247974249, 0.8297974247974249, 0.8297974247974249, 0.8297974247974249, 0.8297974247974249, 0.8297974247974249, 0.8297974247974249, 0.8297974247974249, 0.8297974247974249, 0.8297974247974249, 0.8297974247974249, 0.8302276196026197, 0.8302276196026197, 0.8302276196026197, 0.8339411976911977, 0.8339411976911977, 0.8339411976911977, 0.8339411976911977, 0.8339411976911977, 0.8339411976911977, 0.8339411976911977, 0.8339411976911977, 0.8339411976911977, 0.8339411976911977, 0.8339411976911977, 0.8339411976911977, 0.8339411976911977, 0.8339411976911977, 0.8339411976911977, 0.8339411976911977, 0.8339411976911977, 0.8339411976911977]}], \"weighted_accuracy\": [{\"categories\": [\"0\", \"1\", \"2\", \"3\", \"4\", \"5\", \"6\", \"7\", \"8\", \"9\", \"10\", \"11\", \"12\", \"13\", \"14\", \"15\", \"16\", \"17\", \"18\", \"19\", \"20\", \"21\", \"22\", \"23\", \"24\", \"25\", \"26\", \"27\", \"28\", \"29\", \"30\", \"31\", \"32\", \"33\", \"34\", \"35\", \"36\", \"37\", \"38\", \"39\", \"43\", \"44\"], \"mode\": \"markers\", \"name\": \"weighted_accuracy\", \"stepped\": false, \"type\": \"scatter\", \"data\": [0.7785067861167517, 0.7940622931850962, 0.7902309475790219, 0.8028164374456356, 0.7806612717245134, 0.8187319321734104, 0.8096883683016683, 0.8073046697958466, 0.8150090185259403, 0.8287209157200663, 0.7610119928225039, 0.7815041819791506, 0.8281219182861745, 0.8085635380131633, 0.801351910671435, 0.7622702251694127, 0.7819559642483345, 0.8005363682159136, 0.7917224475737654, 0.7870553477775782, 0.7962893341855917, 0.8214845417064638, 0.7979680802525426, 0.8039077123111324, 0.8227391807173724, 0.6317049813365978, 0.7947209370902264, 0.8082313166771534, 0.7988119539639624, 0.8227106507032202, 0.8046730135190934, 0.8118813200031301, 0.7954844722350193, 0.8152688061033473, 0.798852118496763, 0.8110472187893418, 0.8113316667882151, 0.8075954365685517, 0.7832841664186111, 0.7932997155641377, 0.8279019969609489, 0.7242192581991853]}, {\"categories\": [\"0\", \"1\", \"2\", \"3\", \"4\", \"5\", \"6\", \"7\", \"8\", \"9\", \"10\", \"11\", \"12\", \"13\", \"14\", \"15\", \"16\", \"17\", \"18\", \"19\", \"20\", \"21\", \"22\", \"23\", \"24\", \"25\", \"26\", \"27\", \"28\", \"29\", \"30\", \"31\", \"32\", \"33\", \"34\", \"35\", \"36\", \"37\", \"38\", \"39\", \"43\", \"44\"], \"mode\": \"lines\", \"name\": \"weighted_accuracy_max\", \"stepped\": true, \"type\": \"scatter\", \"data\": [0.7785067861167517, 0.7940622931850962, 0.7940622931850962, 0.8028164374456356, 0.8028164374456356, 0.8187319321734104, 0.8187319321734104, 0.8187319321734104, 0.8187319321734104, 0.8287209157200663, 0.8287209157200663, 0.8287209157200663, 0.8287209157200663, 0.8287209157200663, 0.8287209157200663, 0.8287209157200663, 0.8287209157200663, 0.8287209157200663, 0.8287209157200663, 0.8287209157200663, 0.8287209157200663, 0.8287209157200663, 0.8287209157200663, 0.8287209157200663, 0.8287209157200663, 0.8287209157200663, 0.8287209157200663, 0.8287209157200663, 0.8287209157200663, 0.8287209157200663, 0.8287209157200663, 0.8287209157200663, 0.8287209157200663, 0.8287209157200663, 0.8287209157200663, 0.8287209157200663, 0.8287209157200663, 0.8287209157200663, 0.8287209157200663, 0.8287209157200663, 0.8287209157200663, 0.8287209157200663]}], \"f1_score_micro\": [{\"categories\": [\"0\", \"1\", \"2\", \"3\", \"4\", \"5\", \"6\", \"7\", \"8\", \"9\", \"10\", \"11\", \"12\", \"13\", \"14\", \"15\", \"16\", \"17\", \"18\", \"19\", \"20\", \"21\", \"22\", \"23\", \"24\", \"25\", \"26\", \"27\", \"28\", \"29\", \"30\", \"31\", \"32\", \"33\", \"34\", \"35\", \"36\", \"37\", \"38\", \"39\", \"43\", \"44\"], \"mode\": \"markers\", \"name\": \"f1_score_micro\", \"stepped\": false, \"type\": \"scatter\", \"data\": [0.7872294372294373, 0.7967532467532468, 0.7928571428571429, 0.8069264069264068, 0.7878787878787878, 0.8112554112554111, 0.8071428571428572, 0.811904761904762, 0.811904761904762, 0.8354978354978355, 0.7694805194805194, 0.7887445887445887, 0.830952380952381, 0.8064935064935064, 0.8019480519480519, 0.7597402597402597, 0.7880952380952381, 0.7971861471861471, 0.7978354978354978, 0.7874458874458874, 0.8017316017316016, 0.8207792207792208, 0.796969696969697, 0.806060606060606, 0.8303030303030303, 0.6047619047619048, 0.7969696969696969, 0.8168831168831169, 0.7978354978354978, 0.8307359307359306, 0.8116883116883116, 0.811038961038961, 0.7974025974025973, 0.8207792207792208, 0.8010822510822511, 0.8160173160173161, 0.8158008658008657, 0.8114718614718613, 0.787878787878788, 0.7978354978354979, 0.8305194805194805, 0.6796536796536796]}, {\"categories\": [\"0\", \"1\", \"2\", \"3\", \"4\", \"5\", \"6\", \"7\", \"8\", \"9\", \"10\", \"11\", \"12\", \"13\", \"14\", \"15\", \"16\", \"17\", \"18\", \"19\", \"20\", \"21\", \"22\", \"23\", \"24\", \"25\", \"26\", \"27\", \"28\", \"29\", \"30\", \"31\", \"32\", \"33\", \"34\", \"35\", \"36\", \"37\", \"38\", \"39\", \"43\", \"44\"], \"mode\": \"lines\", \"name\": \"f1_score_micro_max\", \"stepped\": true, \"type\": \"scatter\", \"data\": [0.7872294372294373, 0.7967532467532468, 0.7967532467532468, 0.8069264069264068, 0.8069264069264068, 0.8112554112554111, 0.8112554112554111, 0.811904761904762, 0.811904761904762, 0.8354978354978355, 0.8354978354978355, 0.8354978354978355, 0.8354978354978355, 0.8354978354978355, 0.8354978354978355, 0.8354978354978355, 0.8354978354978355, 0.8354978354978355, 0.8354978354978355, 0.8354978354978355, 0.8354978354978355, 0.8354978354978355, 0.8354978354978355, 0.8354978354978355, 0.8354978354978355, 0.8354978354978355, 0.8354978354978355, 0.8354978354978355, 0.8354978354978355, 0.8354978354978355, 0.8354978354978355, 0.8354978354978355, 0.8354978354978355, 0.8354978354978355, 0.8354978354978355, 0.8354978354978355, 0.8354978354978355, 0.8354978354978355, 0.8354978354978355, 0.8354978354978355, 0.8354978354978355, 0.8354978354978355]}], \"f1_score_weighted\": [{\"categories\": [\"0\", \"1\", \"2\", \"3\", \"4\", \"5\", \"6\", \"7\", \"8\", \"9\", \"10\", \"11\", \"12\", \"13\", \"14\", \"15\", \"16\", \"17\", \"18\", \"19\", \"20\", \"21\", \"22\", \"23\", \"24\", \"25\", \"26\", \"27\", \"28\", \"29\", \"30\", \"31\", \"32\", \"33\", \"34\", \"35\", \"36\", \"37\", \"38\", \"39\", \"43\", \"44\"], \"mode\": \"markers\", \"name\": \"f1_score_weighted\", \"stepped\": false, \"type\": \"scatter\", \"data\": [0.786437125075396, 0.7961755779643882, 0.7920558444213041, 0.8074980479829558, 0.7854717815642186, 0.8098276909012456, 0.8058655057534239, 0.8111550507006262, 0.8105247057315607, 0.8367801475581794, 0.769232569182995, 0.7897502352603533, 0.8306921006219252, 0.8052653581908304, 0.8003906132021171, 0.7567240955817256, 0.7906375379652049, 0.7958643697296448, 0.7990438794010222, 0.7901891273362438, 0.8025518050945429, 0.8191934051224111, 0.799513102235128, 0.8059809238380667, 0.8308910913542421, 0.4879284087372323, 0.7991487422142192, 0.8182530412999809, 0.7988497023983355, 0.8316905108300199, 0.8122718304607854, 0.8090378940223724, 0.7952331450471204, 0.8210841365279935, 0.800788837288172, 0.8157004371290085, 0.8151153899924335, 0.8114616398609309, 0.7880357268004327, 0.7953989158229777, 0.8301084205105127, 0.591540462055168]}, {\"categories\": [\"0\", \"1\", \"2\", \"3\", \"4\", \"5\", \"6\", \"7\", \"8\", \"9\", \"10\", \"11\", \"12\", \"13\", \"14\", \"15\", \"16\", \"17\", \"18\", \"19\", \"20\", \"21\", \"22\", \"23\", \"24\", \"25\", \"26\", \"27\", \"28\", \"29\", \"30\", \"31\", \"32\", \"33\", \"34\", \"35\", \"36\", \"37\", \"38\", \"39\", \"43\", \"44\"], \"mode\": \"lines\", \"name\": \"f1_score_weighted_max\", \"stepped\": true, \"type\": \"scatter\", \"data\": [0.786437125075396, 0.7961755779643882, 0.7961755779643882, 0.8074980479829558, 0.8074980479829558, 0.8098276909012456, 0.8098276909012456, 0.8111550507006262, 0.8111550507006262, 0.8367801475581794, 0.8367801475581794, 0.8367801475581794, 0.8367801475581794, 0.8367801475581794, 0.8367801475581794, 0.8367801475581794, 0.8367801475581794, 0.8367801475581794, 0.8367801475581794, 0.8367801475581794, 0.8367801475581794, 0.8367801475581794, 0.8367801475581794, 0.8367801475581794, 0.8367801475581794, 0.8367801475581794, 0.8367801475581794, 0.8367801475581794, 0.8367801475581794, 0.8367801475581794, 0.8367801475581794, 0.8367801475581794, 0.8367801475581794, 0.8367801475581794, 0.8367801475581794, 0.8367801475581794, 0.8367801475581794, 0.8367801475581794, 0.8367801475581794, 0.8367801475581794, 0.8367801475581794, 0.8367801475581794]}], \"log_loss\": [{\"categories\": [\"0\", \"1\", \"2\", \"3\", \"4\", \"5\", \"6\", \"7\", \"8\", \"9\", \"10\", \"11\", \"12\", \"13\", \"14\", \"15\", \"16\", \"17\", \"18\", \"19\", \"20\", \"21\", \"22\", \"23\", \"24\", \"25\", \"26\", \"27\", \"28\", \"29\", \"30\", \"31\", \"32\", \"33\", \"34\", \"35\", \"36\", \"37\", \"38\", \"39\", \"43\", \"44\"], \"mode\": \"markers\", \"name\": \"log_loss\", \"stepped\": false, \"type\": \"scatter\", \"data\": [0.5131217927041123, 0.5214209632427731, 0.43458488758527025, 0.4293372794233436, 0.45881067243835094, 0.4637437848822853, 0.4182462360109068, 0.4363998325652137, 0.5103570375184777, 0.46513643512791436, 0.48723040501868464, 0.4658011191130377, 0.5634094665202263, 0.5154833733317814, 0.6138684992792778, 0.8076132219256055, 0.47310936817386195, 0.4106653830360941, 0.4815819067111081, 0.486305378754235, 0.4003458198820386, 0.46884643707834056, 0.4710579269902132, 0.41454671256503817, 0.3991404385734595, 0.6459611659749359, 0.4544703542121821, 0.5092820761075556, 0.481975049417815, 0.5486770824121486, 0.4031299558861753, 0.43383822967887503, 0.41856906256553017, 0.47220056839744273, 0.5396543295777775, 0.39994709466859185, 0.4473150952563202, 0.40082157310526145, 0.41713581071148864, 0.4291846553498817, 0.42358265961103186, 0.59254169315976]}, {\"categories\": [\"0\", \"1\", \"2\", \"3\", \"4\", \"5\", \"6\", \"7\", \"8\", \"9\", \"10\", \"11\", \"12\", \"13\", \"14\", \"15\", \"16\", \"17\", \"18\", \"19\", \"20\", \"21\", \"22\", \"23\", \"24\", \"25\", \"26\", \"27\", \"28\", \"29\", \"30\", \"31\", \"32\", \"33\", \"34\", \"35\", \"36\", \"37\", \"38\", \"39\", \"43\", \"44\"], \"mode\": \"lines\", \"name\": \"log_loss_min\", \"stepped\": true, \"type\": \"scatter\", \"data\": [0.5131217927041123, 0.5131217927041123, 0.43458488758527025, 0.4293372794233436, 0.4293372794233436, 0.4293372794233436, 0.4182462360109068, 0.4182462360109068, 0.4182462360109068, 0.4182462360109068, 0.4182462360109068, 0.4182462360109068, 0.4182462360109068, 0.4182462360109068, 0.4182462360109068, 0.4182462360109068, 0.4182462360109068, 0.4106653830360941, 0.4106653830360941, 0.4106653830360941, 0.4003458198820386, 0.4003458198820386, 0.4003458198820386, 0.4003458198820386, 0.3991404385734595, 0.3991404385734595, 0.3991404385734595, 0.3991404385734595, 0.3991404385734595, 0.3991404385734595, 0.3991404385734595, 0.3991404385734595, 0.3991404385734595, 0.3991404385734595, 0.3991404385734595, 0.3991404385734595, 0.3991404385734595, 0.3991404385734595, 0.3991404385734595, 0.3991404385734595, 0.3991404385734595, 0.3991404385734595]}], \"recall_score_micro\": [{\"categories\": [\"0\", \"1\", \"2\", \"3\", \"4\", \"5\", \"6\", \"7\", \"8\", \"9\", \"10\", \"11\", \"12\", \"13\", \"14\", \"15\", \"16\", \"17\", \"18\", \"19\", \"20\", \"21\", \"22\", \"23\", \"24\", \"25\", \"26\", \"27\", \"28\", \"29\", \"30\", \"31\", \"32\", \"33\", \"34\", \"35\", \"36\", \"37\", \"38\", \"39\", \"43\", \"44\"], \"mode\": \"markers\", \"name\": \"recall_score_micro\", \"stepped\": false, \"type\": \"scatter\", \"data\": [0.7872294372294373, 0.7967532467532468, 0.7928571428571429, 0.8069264069264068, 0.7878787878787878, 0.8112554112554111, 0.8071428571428572, 0.811904761904762, 0.811904761904762, 0.8354978354978355, 0.7694805194805194, 0.7887445887445887, 0.830952380952381, 0.8064935064935064, 0.8019480519480519, 0.7597402597402597, 0.7880952380952381, 0.7971861471861471, 0.7978354978354978, 0.7874458874458874, 0.8017316017316016, 0.8207792207792208, 0.796969696969697, 0.806060606060606, 0.8303030303030303, 0.6047619047619048, 0.7969696969696969, 0.8168831168831169, 0.7978354978354978, 0.8307359307359306, 0.8116883116883116, 0.811038961038961, 0.7974025974025973, 0.8207792207792208, 0.8010822510822511, 0.8160173160173161, 0.8158008658008657, 0.8114718614718613, 0.787878787878788, 0.7978354978354979, 0.8305194805194805, 0.6796536796536796]}, {\"categories\": [\"0\", \"1\", \"2\", \"3\", \"4\", \"5\", \"6\", \"7\", \"8\", \"9\", \"10\", \"11\", \"12\", \"13\", \"14\", \"15\", \"16\", \"17\", \"18\", \"19\", \"20\", \"21\", \"22\", \"23\", \"24\", \"25\", \"26\", \"27\", \"28\", \"29\", \"30\", \"31\", \"32\", \"33\", \"34\", \"35\", \"36\", \"37\", \"38\", \"39\", \"43\", \"44\"], \"mode\": \"lines\", \"name\": \"recall_score_micro_max\", \"stepped\": true, \"type\": \"scatter\", \"data\": [0.7872294372294373, 0.7967532467532468, 0.7967532467532468, 0.8069264069264068, 0.8069264069264068, 0.8112554112554111, 0.8112554112554111, 0.811904761904762, 0.811904761904762, 0.8354978354978355, 0.8354978354978355, 0.8354978354978355, 0.8354978354978355, 0.8354978354978355, 0.8354978354978355, 0.8354978354978355, 0.8354978354978355, 0.8354978354978355, 0.8354978354978355, 0.8354978354978355, 0.8354978354978355, 0.8354978354978355, 0.8354978354978355, 0.8354978354978355, 0.8354978354978355, 0.8354978354978355, 0.8354978354978355, 0.8354978354978355, 0.8354978354978355, 0.8354978354978355, 0.8354978354978355, 0.8354978354978355, 0.8354978354978355, 0.8354978354978355, 0.8354978354978355, 0.8354978354978355, 0.8354978354978355, 0.8354978354978355, 0.8354978354978355, 0.8354978354978355, 0.8354978354978355, 0.8354978354978355]}], \"norm_macro_recall\": [{\"categories\": [\"0\", \"1\", \"2\", \"3\", \"4\", \"5\", \"6\", \"7\", \"8\", \"9\", \"10\", \"11\", \"12\", \"13\", \"14\", \"15\", \"16\", \"17\", \"18\", \"19\", \"20\", \"21\", \"22\", \"23\", \"24\", \"25\", \"26\", \"27\", \"28\", \"29\", \"30\", \"31\", \"32\", \"33\", \"34\", \"35\", \"36\", \"37\", \"38\", \"39\", \"43\", \"44\"], \"mode\": \"markers\", \"name\": \"norm_macro_recall\", \"stepped\": false, \"type\": \"scatter\", \"data\": [0.5988364413364413, 0.6010205072705073, 0.5911517649017648, 0.6268126318126319, 0.5963542013542014, 0.6009472471972472, 0.6061618936618938, 0.6373386335886337, 0.6147008547008547, 0.6881282606282607, 0.5620965145965146, 0.5992733655233655, 0.6700940725940725, 0.6091849816849816, 0.6071316183816184, 0.5083760683760684, 0.5925864413364412, 0.5819515207015208, 0.6157253857253856, 0.5753046953046954, 0.6185067710067711, 0.6393141580641581, 0.5913303363303364, 0.6189137251637252, 0.6809472471972471, 0.13857142857142857, 0.599034854034854, 0.6574464424464423, 0.5890907703407703, 0.6822628760128762, 0.6426139138639139, 0.6210067710067712, 0.6002564102564103, 0.6575284437784438, 0.6106297868797869, 0.6475879675879677, 0.6453159340659342, 0.6310327172827173, 0.5890623265623266, 0.6062087912087912, 0.6660601898101899, 0.24261904761904765]}, {\"categories\": [\"0\", \"1\", \"2\", \"3\", \"4\", \"5\", \"6\", \"7\", \"8\", \"9\", \"10\", \"11\", \"12\", \"13\", \"14\", \"15\", \"16\", \"17\", \"18\", \"19\", \"20\", \"21\", \"22\", \"23\", \"24\", \"25\", \"26\", \"27\", \"28\", \"29\", \"30\", \"31\", \"32\", \"33\", \"34\", \"35\", \"36\", \"37\", \"38\", \"39\", \"43\", \"44\"], \"mode\": \"lines\", \"name\": \"norm_macro_recall_max\", \"stepped\": true, \"type\": \"scatter\", \"data\": [0.5988364413364413, 0.6010205072705073, 0.6010205072705073, 0.6268126318126319, 0.6268126318126319, 0.6268126318126319, 0.6268126318126319, 0.6373386335886337, 0.6373386335886337, 0.6881282606282607, 0.6881282606282607, 0.6881282606282607, 0.6881282606282607, 0.6881282606282607, 0.6881282606282607, 0.6881282606282607, 0.6881282606282607, 0.6881282606282607, 0.6881282606282607, 0.6881282606282607, 0.6881282606282607, 0.6881282606282607, 0.6881282606282607, 0.6881282606282607, 0.6881282606282607, 0.6881282606282607, 0.6881282606282607, 0.6881282606282607, 0.6881282606282607, 0.6881282606282607, 0.6881282606282607, 0.6881282606282607, 0.6881282606282607, 0.6881282606282607, 0.6881282606282607, 0.6881282606282607, 0.6881282606282607, 0.6881282606282607, 0.6881282606282607, 0.6881282606282607, 0.6881282606282607, 0.6881282606282607]}], \"precision_score_micro\": [{\"categories\": [\"0\", \"1\", \"2\", \"3\", \"4\", \"5\", \"6\", \"7\", \"8\", \"9\", \"10\", \"11\", \"12\", \"13\", \"14\", \"15\", \"16\", \"17\", \"18\", \"19\", \"20\", \"21\", \"22\", \"23\", \"24\", \"25\", \"26\", \"27\", \"28\", \"29\", \"30\", \"31\", \"32\", \"33\", \"34\", \"35\", \"36\", \"37\", \"38\", \"39\", \"43\", \"44\"], \"mode\": \"markers\", \"name\": \"precision_score_micro\", \"stepped\": false, \"type\": \"scatter\", \"data\": [0.7872294372294373, 0.7967532467532468, 0.7928571428571429, 0.8069264069264068, 0.7878787878787878, 0.8112554112554111, 0.8071428571428572, 0.811904761904762, 0.811904761904762, 0.8354978354978355, 0.7694805194805194, 0.7887445887445887, 0.830952380952381, 0.8064935064935064, 0.8019480519480519, 0.7597402597402597, 0.7880952380952381, 0.7971861471861471, 0.7978354978354978, 0.7874458874458874, 0.8017316017316016, 0.8207792207792208, 0.796969696969697, 0.806060606060606, 0.8303030303030303, 0.6047619047619048, 0.7969696969696969, 0.8168831168831169, 0.7978354978354978, 0.8307359307359306, 0.8116883116883116, 0.811038961038961, 0.7974025974025973, 0.8207792207792208, 0.8010822510822511, 0.8160173160173161, 0.8158008658008657, 0.8114718614718613, 0.787878787878788, 0.7978354978354979, 0.8305194805194805, 0.6796536796536796]}, {\"categories\": [\"0\", \"1\", \"2\", \"3\", \"4\", \"5\", \"6\", \"7\", \"8\", \"9\", \"10\", \"11\", \"12\", \"13\", \"14\", \"15\", \"16\", \"17\", \"18\", \"19\", \"20\", \"21\", \"22\", \"23\", \"24\", \"25\", \"26\", \"27\", \"28\", \"29\", \"30\", \"31\", \"32\", \"33\", \"34\", \"35\", \"36\", \"37\", \"38\", \"39\", \"43\", \"44\"], \"mode\": \"lines\", \"name\": \"precision_score_micro_max\", \"stepped\": true, \"type\": \"scatter\", \"data\": [0.7872294372294373, 0.7967532467532468, 0.7967532467532468, 0.8069264069264068, 0.8069264069264068, 0.8112554112554111, 0.8112554112554111, 0.811904761904762, 0.811904761904762, 0.8354978354978355, 0.8354978354978355, 0.8354978354978355, 0.8354978354978355, 0.8354978354978355, 0.8354978354978355, 0.8354978354978355, 0.8354978354978355, 0.8354978354978355, 0.8354978354978355, 0.8354978354978355, 0.8354978354978355, 0.8354978354978355, 0.8354978354978355, 0.8354978354978355, 0.8354978354978355, 0.8354978354978355, 0.8354978354978355, 0.8354978354978355, 0.8354978354978355, 0.8354978354978355, 0.8354978354978355, 0.8354978354978355, 0.8354978354978355, 0.8354978354978355, 0.8354978354978355, 0.8354978354978355, 0.8354978354978355, 0.8354978354978355, 0.8354978354978355, 0.8354978354978355, 0.8354978354978355, 0.8354978354978355]}], \"f1_score_macro\": [{\"categories\": [\"0\", \"1\", \"2\", \"3\", \"4\", \"5\", \"6\", \"7\", \"8\", \"9\", \"10\", \"11\", \"12\", \"13\", \"14\", \"15\", \"16\", \"17\", \"18\", \"19\", \"20\", \"21\", \"22\", \"23\", \"24\", \"25\", \"26\", \"27\", \"28\", \"29\", \"30\", \"31\", \"32\", \"33\", \"34\", \"35\", \"36\", \"37\", \"38\", \"39\", \"43\", \"44\"], \"mode\": \"markers\", \"name\": \"f1_score_macro\", \"stepped\": false, \"type\": \"scatter\", \"data\": [0.7786031233651708, 0.786202527520639, 0.7832796366448944, 0.798505318522481, 0.7786071934601347, 0.7959533476950406, 0.7962368377852932, 0.8033075856274667, 0.7997977575418652, 0.8306719285037364, 0.7611164028908678, 0.7821069880947389, 0.8236347896742634, 0.7940939961072758, 0.7894598082782667, 0.7439468411431327, 0.7805293047066502, 0.7829196788698686, 0.7902503052503052, 0.7775793138314003, 0.7932154427623198, 0.8100398216838378, 0.7870009431473289, 0.7961065323565324, 0.8244804349534995, 0.4677380421865715, 0.7874370819774642, 0.8106355433202923, 0.7866412095377918, 0.825190085390906, 0.8054233088786052, 0.7971128697813079, 0.7835019466835764, 0.8140241388764942, 0.7920406129537099, 0.8078464590964591, 0.8074339358331007, 0.8017296861678677, 0.7786334041775218, 0.7865931470545252, 0.821110985696226, 0.5393421565848036]}, {\"categories\": [\"0\", \"1\", \"2\", \"3\", \"4\", \"5\", \"6\", \"7\", \"8\", \"9\", \"10\", \"11\", \"12\", \"13\", \"14\", \"15\", \"16\", \"17\", \"18\", \"19\", \"20\", \"21\", \"22\", \"23\", \"24\", \"25\", \"26\", \"27\", \"28\", \"29\", \"30\", \"31\", \"32\", \"33\", \"34\", \"35\", \"36\", \"37\", \"38\", \"39\", \"43\", \"44\"], \"mode\": \"lines\", \"name\": \"f1_score_macro_max\", \"stepped\": true, \"type\": \"scatter\", \"data\": [0.7786031233651708, 0.786202527520639, 0.786202527520639, 0.798505318522481, 0.798505318522481, 0.798505318522481, 0.798505318522481, 0.8033075856274667, 0.8033075856274667, 0.8306719285037364, 0.8306719285037364, 0.8306719285037364, 0.8306719285037364, 0.8306719285037364, 0.8306719285037364, 0.8306719285037364, 0.8306719285037364, 0.8306719285037364, 0.8306719285037364, 0.8306719285037364, 0.8306719285037364, 0.8306719285037364, 0.8306719285037364, 0.8306719285037364, 0.8306719285037364, 0.8306719285037364, 0.8306719285037364, 0.8306719285037364, 0.8306719285037364, 0.8306719285037364, 0.8306719285037364, 0.8306719285037364, 0.8306719285037364, 0.8306719285037364, 0.8306719285037364, 0.8306719285037364, 0.8306719285037364, 0.8306719285037364, 0.8306719285037364, 0.8306719285037364, 0.8306719285037364, 0.8306719285037364]}], \"recall_score_macro\": [{\"categories\": [\"0\", \"1\", \"2\", \"3\", \"4\", \"5\", \"6\", \"7\", \"8\", \"9\", \"10\", \"11\", \"12\", \"13\", \"14\", \"15\", \"16\", \"17\", \"18\", \"19\", \"20\", \"21\", \"22\", \"23\", \"24\", \"25\", \"26\", \"27\", \"28\", \"29\", \"30\", \"31\", \"32\", \"33\", \"34\", \"35\", \"36\", \"37\", \"38\", \"39\", \"43\", \"44\"], \"mode\": \"markers\", \"name\": \"recall_score_macro\", \"stepped\": false, \"type\": \"scatter\", \"data\": [0.7994182206682207, 0.8005102536352536, 0.7955758824508825, 0.8134063159063158, 0.7981771006771008, 0.8004736235986236, 0.8030809468309469, 0.8186693167943169, 0.8073504273504275, 0.8440641303141303, 0.7810482572982573, 0.7996366827616829, 0.8350470362970362, 0.8045924908424908, 0.8035658091908093, 0.7541880341880342, 0.7962932206682207, 0.7909757603507603, 0.807862692862693, 0.7876523476523477, 0.8092533855033854, 0.8196570790320792, 0.7956651681651682, 0.8094568625818626, 0.8404736235986237, 0.5692857142857143, 0.799517427017427, 0.8287232212232212, 0.7945453851703853, 0.8411314380064379, 0.8213069569319569, 0.8105033855033854, 0.8001282051282053, 0.8287642218892218, 0.8053148934398935, 0.8237939837939837, 0.822657967032967, 0.8155163586413586, 0.7945311632811632, 0.8031043956043955, 0.8330300949050949, 0.6213095238095238]}, {\"categories\": [\"0\", \"1\", \"2\", \"3\", \"4\", \"5\", \"6\", \"7\", \"8\", \"9\", \"10\", \"11\", \"12\", \"13\", \"14\", \"15\", \"16\", \"17\", \"18\", \"19\", \"20\", \"21\", \"22\", \"23\", \"24\", \"25\", \"26\", \"27\", \"28\", \"29\", \"30\", \"31\", \"32\", \"33\", \"34\", \"35\", \"36\", \"37\", \"38\", \"39\", \"43\", \"44\"], \"mode\": \"lines\", \"name\": \"recall_score_macro_max\", \"stepped\": true, \"type\": \"scatter\", \"data\": [0.7994182206682207, 0.8005102536352536, 0.8005102536352536, 0.8134063159063158, 0.8134063159063158, 0.8134063159063158, 0.8134063159063158, 0.8186693167943169, 0.8186693167943169, 0.8440641303141303, 0.8440641303141303, 0.8440641303141303, 0.8440641303141303, 0.8440641303141303, 0.8440641303141303, 0.8440641303141303, 0.8440641303141303, 0.8440641303141303, 0.8440641303141303, 0.8440641303141303, 0.8440641303141303, 0.8440641303141303, 0.8440641303141303, 0.8440641303141303, 0.8440641303141303, 0.8440641303141303, 0.8440641303141303, 0.8440641303141303, 0.8440641303141303, 0.8440641303141303, 0.8440641303141303, 0.8440641303141303, 0.8440641303141303, 0.8440641303141303, 0.8440641303141303, 0.8440641303141303, 0.8440641303141303, 0.8440641303141303, 0.8440641303141303, 0.8440641303141303, 0.8440641303141303, 0.8440641303141303]}], \"recall_score_weighted\": [{\"categories\": [\"0\", \"1\", \"2\", \"3\", \"4\", \"5\", \"6\", \"7\", \"8\", \"9\", \"10\", \"11\", \"12\", \"13\", \"14\", \"15\", \"16\", \"17\", \"18\", \"19\", \"20\", \"21\", \"22\", \"23\", \"24\", \"25\", \"26\", \"27\", \"28\", \"29\", \"30\", \"31\", \"32\", \"33\", \"34\", \"35\", \"36\", \"37\", \"38\", \"39\", \"43\", \"44\"], \"mode\": \"markers\", \"name\": \"recall_score_weighted\", \"stepped\": false, \"type\": \"scatter\", \"data\": [0.7872294372294373, 0.7967532467532468, 0.7928571428571429, 0.8069264069264068, 0.7878787878787878, 0.8112554112554111, 0.8071428571428572, 0.811904761904762, 0.811904761904762, 0.8354978354978355, 0.7694805194805194, 0.7887445887445887, 0.830952380952381, 0.8064935064935064, 0.8019480519480519, 0.7597402597402597, 0.7880952380952381, 0.7971861471861471, 0.7978354978354978, 0.7874458874458874, 0.8017316017316016, 0.8207792207792208, 0.796969696969697, 0.806060606060606, 0.8303030303030303, 0.6047619047619048, 0.7969696969696969, 0.8168831168831169, 0.7978354978354978, 0.8307359307359306, 0.8116883116883116, 0.811038961038961, 0.7974025974025973, 0.8207792207792208, 0.8010822510822511, 0.8160173160173161, 0.8158008658008657, 0.8114718614718613, 0.787878787878788, 0.7978354978354979, 0.8305194805194805, 0.6796536796536796]}, {\"categories\": [\"0\", \"1\", \"2\", \"3\", \"4\", \"5\", \"6\", \"7\", \"8\", \"9\", \"10\", \"11\", \"12\", \"13\", \"14\", \"15\", \"16\", \"17\", \"18\", \"19\", \"20\", \"21\", \"22\", \"23\", \"24\", \"25\", \"26\", \"27\", \"28\", \"29\", \"30\", \"31\", \"32\", \"33\", \"34\", \"35\", \"36\", \"37\", \"38\", \"39\", \"43\", \"44\"], \"mode\": \"lines\", \"name\": \"recall_score_weighted_max\", \"stepped\": true, \"type\": \"scatter\", \"data\": [0.7872294372294373, 0.7967532467532468, 0.7967532467532468, 0.8069264069264068, 0.8069264069264068, 0.8112554112554111, 0.8112554112554111, 0.811904761904762, 0.811904761904762, 0.8354978354978355, 0.8354978354978355, 0.8354978354978355, 0.8354978354978355, 0.8354978354978355, 0.8354978354978355, 0.8354978354978355, 0.8354978354978355, 0.8354978354978355, 0.8354978354978355, 0.8354978354978355, 0.8354978354978355, 0.8354978354978355, 0.8354978354978355, 0.8354978354978355, 0.8354978354978355, 0.8354978354978355, 0.8354978354978355, 0.8354978354978355, 0.8354978354978355, 0.8354978354978355, 0.8354978354978355, 0.8354978354978355, 0.8354978354978355, 0.8354978354978355, 0.8354978354978355, 0.8354978354978355, 0.8354978354978355, 0.8354978354978355, 0.8354978354978355, 0.8354978354978355, 0.8354978354978355, 0.8354978354978355]}], \"average_precision_score_micro\": [{\"categories\": [\"0\", \"1\", \"2\", \"3\", \"4\", \"5\", \"6\", \"7\", \"8\", \"9\", \"10\", \"11\", \"12\", \"13\", \"14\", \"15\", \"16\", \"17\", \"18\", \"19\", \"20\", \"21\", \"22\", \"23\", \"24\", \"25\", \"26\", \"27\", \"28\", \"29\", \"30\", \"31\", \"32\", \"33\", \"34\", \"35\", \"36\", \"37\", \"38\", \"39\", \"43\", \"44\"], \"mode\": \"markers\", \"name\": \"average_precision_score_micro\", \"stepped\": false, \"type\": \"scatter\", \"data\": [0.8821520200484807, 0.868606955360605, 0.8924792754727164, 0.8864068729683877, 0.8813329966930592, 0.8823921369316758, 0.8995996645835158, 0.897033779532897, 0.8939166350943522, 0.9100695794737993, 0.879592737575322, 0.8851760104071718, 0.9069589093954606, 0.8855659524666969, 0.8552899891927883, 0.8355748452681153, 0.8746777840924758, 0.8984370157151818, 0.8822298696996771, 0.8835724723339637, 0.9016837262383304, 0.8931471404073037, 0.8858928881810707, 0.8981597965218621, 0.9135016135102727, 0.7830986700921033, 0.8926104254457348, 0.8923087047544183, 0.8820531444017995, 0.8928600497308574, 0.9040965790370092, 0.8918836592313278, 0.8975674648468429, 0.8805828666912013, 0.869363441148822, 0.9039241384799579, 0.8812556750820726, 0.9063670952697432, 0.8978071201483363, 0.8954708047546156, 0.9161482687669606, 0.8523362257299285]}, {\"categories\": [\"0\", \"1\", \"2\", \"3\", \"4\", \"5\", \"6\", \"7\", \"8\", \"9\", \"10\", \"11\", \"12\", \"13\", \"14\", \"15\", \"16\", \"17\", \"18\", \"19\", \"20\", \"21\", \"22\", \"23\", \"24\", \"25\", \"26\", \"27\", \"28\", \"29\", \"30\", \"31\", \"32\", \"33\", \"34\", \"35\", \"36\", \"37\", \"38\", \"39\", \"43\", \"44\"], \"mode\": \"lines\", \"name\": \"average_precision_score_micro_max\", \"stepped\": true, \"type\": \"scatter\", \"data\": [0.8821520200484807, 0.8821520200484807, 0.8924792754727164, 0.8924792754727164, 0.8924792754727164, 0.8924792754727164, 0.8995996645835158, 0.8995996645835158, 0.8995996645835158, 0.9100695794737993, 0.9100695794737993, 0.9100695794737993, 0.9100695794737993, 0.9100695794737993, 0.9100695794737993, 0.9100695794737993, 0.9100695794737993, 0.9100695794737993, 0.9100695794737993, 0.9100695794737993, 0.9100695794737993, 0.9100695794737993, 0.9100695794737993, 0.9100695794737993, 0.9135016135102727, 0.9135016135102727, 0.9135016135102727, 0.9135016135102727, 0.9135016135102727, 0.9135016135102727, 0.9135016135102727, 0.9135016135102727, 0.9135016135102727, 0.9135016135102727, 0.9135016135102727, 0.9135016135102727, 0.9135016135102727, 0.9135016135102727, 0.9135016135102727, 0.9135016135102727, 0.9161482687669606, 0.9161482687669606]}], \"precision_score_weighted\": [{\"categories\": [\"0\", \"1\", \"2\", \"3\", \"4\", \"5\", \"6\", \"7\", \"8\", \"9\", \"10\", \"11\", \"12\", \"13\", \"14\", \"15\", \"16\", \"17\", \"18\", \"19\", \"20\", \"21\", \"22\", \"23\", \"24\", \"25\", \"26\", \"27\", \"28\", \"29\", \"30\", \"31\", \"32\", \"33\", \"34\", \"35\", \"36\", \"37\", \"38\", \"39\", \"43\", \"44\"], \"mode\": \"markers\", \"name\": \"precision_score_weighted\", \"stepped\": false, \"type\": \"scatter\", \"data\": [0.8232022012379157, 0.8284330814687959, 0.8163418447834031, 0.8288050309478882, 0.8221803251215016, 0.8244945398516826, 0.8219155964285834, 0.8320309716738288, 0.8285060574346289, 0.8492643599786458, 0.8030233258804687, 0.8125081928653357, 0.8462121212121213, 0.8284096248868977, 0.8375228071026392, 0.7862334544964414, 0.8123403316260459, 0.8168130018130018, 0.8242102342102342, 0.8092013542013543, 0.8328262213976501, 0.8460565162350877, 0.8175443075443077, 0.8341148666148668, 0.8551537483680342, 0.4821314074902592, 0.8242768871340299, 0.8392567617567618, 0.8084421927279071, 0.8503163611280493, 0.8372299525870954, 0.833799731236706, 0.829292443791107, 0.843260667903525, 0.8240669251383537, 0.8431886631886633, 0.8417240035097178, 0.8341780826196411, 0.8193630773987917, 0.8308239422066771, 0.8521888020589319, 0.5556621877401098]}, {\"categories\": [\"0\", \"1\", \"2\", \"3\", \"4\", \"5\", \"6\", \"7\", \"8\", \"9\", \"10\", \"11\", \"12\", \"13\", \"14\", \"15\", \"16\", \"17\", \"18\", \"19\", \"20\", \"21\", \"22\", \"23\", \"24\", \"25\", \"26\", \"27\", \"28\", \"29\", \"30\", \"31\", \"32\", \"33\", \"34\", \"35\", \"36\", \"37\", \"38\", \"39\", \"43\", \"44\"], \"mode\": \"lines\", \"name\": \"precision_score_weighted_max\", \"stepped\": true, \"type\": \"scatter\", \"data\": [0.8232022012379157, 0.8284330814687959, 0.8284330814687959, 0.8288050309478882, 0.8288050309478882, 0.8288050309478882, 0.8288050309478882, 0.8320309716738288, 0.8320309716738288, 0.8492643599786458, 0.8492643599786458, 0.8492643599786458, 0.8492643599786458, 0.8492643599786458, 0.8492643599786458, 0.8492643599786458, 0.8492643599786458, 0.8492643599786458, 0.8492643599786458, 0.8492643599786458, 0.8492643599786458, 0.8492643599786458, 0.8492643599786458, 0.8492643599786458, 0.8551537483680342, 0.8551537483680342, 0.8551537483680342, 0.8551537483680342, 0.8551537483680342, 0.8551537483680342, 0.8551537483680342, 0.8551537483680342, 0.8551537483680342, 0.8551537483680342, 0.8551537483680342, 0.8551537483680342, 0.8551537483680342, 0.8551537483680342, 0.8551537483680342, 0.8551537483680342, 0.8551537483680342, 0.8551537483680342]}], \"AUC_weighted\": [{\"categories\": [\"0\", \"1\", \"2\", \"3\", \"4\", \"5\", \"6\", \"7\", \"8\", \"9\", \"10\", \"11\", \"12\", \"13\", \"14\", \"15\", \"16\", \"17\", \"18\", \"19\", \"20\", \"21\", \"22\", \"23\", \"24\", \"25\", \"26\", \"27\", \"28\", \"29\", \"30\", \"31\", \"32\", \"33\", \"34\", \"35\", \"36\", \"37\", \"38\", \"39\", \"43\", \"44\"], \"mode\": \"markers\", \"name\": \"AUC_weighted\", \"stepped\": false, \"type\": \"scatter\", \"data\": [0.8964620366406082, 0.8881228691942977, 0.8935832487618202, 0.8933950903593761, 0.8878176321033463, 0.8841345691345692, 0.9041474398617255, 0.9047409799195514, 0.8997304613376041, 0.9153588607160035, 0.884048398691256, 0.8906593010164439, 0.9072565793994365, 0.8991620614834901, 0.8863638015423729, 0.8381831759510332, 0.8727493736422307, 0.9084010301867445, 0.8930417267917268, 0.8845806640449497, 0.9133107038464182, 0.9022408742051597, 0.8874510344153201, 0.9085240619169191, 0.9226425954997384, 0.8887729994872853, 0.8961642920571492, 0.8911619795548369, 0.8822965064036493, 0.8964562685991257, 0.9135772626844055, 0.8997972530115387, 0.8986088184302471, 0.8921652752009896, 0.8756565920851636, 0.9184970783185067, 0.8947899190756333, 0.9210118651190079, 0.9094641205355491, 0.9063883867455298, 0.9359641152498295, 0.9273553232481804]}, {\"categories\": [\"0\", \"1\", \"2\", \"3\", \"4\", \"5\", \"6\", \"7\", \"8\", \"9\", \"10\", \"11\", \"12\", \"13\", \"14\", \"15\", \"16\", \"17\", \"18\", \"19\", \"20\", \"21\", \"22\", \"23\", \"24\", \"25\", \"26\", \"27\", \"28\", \"29\", \"30\", \"31\", \"32\", \"33\", \"34\", \"35\", \"36\", \"37\", \"38\", \"39\", \"43\", \"44\"], \"mode\": \"lines\", \"name\": \"AUC_weighted_max\", \"stepped\": true, \"type\": \"scatter\", \"data\": [0.8964620366406082, 0.8964620366406082, 0.8964620366406082, 0.8964620366406082, 0.8964620366406082, 0.8964620366406082, 0.9041474398617255, 0.9047409799195514, 0.9047409799195514, 0.9153588607160035, 0.9153588607160035, 0.9153588607160035, 0.9153588607160035, 0.9153588607160035, 0.9153588607160035, 0.9153588607160035, 0.9153588607160035, 0.9153588607160035, 0.9153588607160035, 0.9153588607160035, 0.9153588607160035, 0.9153588607160035, 0.9153588607160035, 0.9153588607160035, 0.9226425954997384, 0.9226425954997384, 0.9226425954997384, 0.9226425954997384, 0.9226425954997384, 0.9226425954997384, 0.9226425954997384, 0.9226425954997384, 0.9226425954997384, 0.9226425954997384, 0.9226425954997384, 0.9226425954997384, 0.9226425954997384, 0.9226425954997384, 0.9226425954997384, 0.9226425954997384, 0.9359641152498295, 0.9359641152498295]}], \"matthews_correlation\": [{\"categories\": [\"0\", \"1\", \"2\", \"3\", \"4\", \"5\", \"6\", \"7\", \"8\", \"9\", \"10\", \"11\", \"12\", \"13\", \"14\", \"15\", \"16\", \"17\", \"18\", \"19\", \"20\", \"21\", \"22\", \"23\", \"24\", \"25\", \"26\", \"27\", \"28\", \"29\", \"30\", \"31\", \"32\", \"33\", \"34\", \"35\", \"36\", \"37\", \"38\", \"39\", \"43\", \"44\"], \"mode\": \"markers\", \"name\": \"matthews_correlation\", \"stepped\": false, \"type\": \"scatter\", \"data\": [0.5953725328166731, 0.605362610301631, 0.5918654862281273, 0.6192172474310915, 0.5958601180469743, 0.6080508831853157, 0.609306314290096, 0.6292613390509613, 0.6190185098729553, 0.6733652968931367, 0.5571040975919894, 0.5878753048730684, 0.6636679894547441, 0.6132964152718328, 0.6181013352963302, 0.519936721498988, 0.582067616483624, 0.5875552092371372, 0.6069549857142782, 0.5725328797349836, 0.6170018300260329, 0.648571834314747, 0.5905661682309808, 0.6213074136989107, 0.6734246957569492, 0.2016298402949856, 0.598831223723786, 0.6427490339905984, 0.5822091124201276, 0.6690481155406613, 0.6363574121220477, 0.6220933326579348, 0.60431838218178, 0.6510501303628862, 0.6088546462625369, 0.644702639102797, 0.6433011396197454, 0.6263276897556661, 0.588895791814514, 0.6096619496810902, 0.6648104334467987, 0.24358178170457306]}, {\"categories\": [\"0\", \"1\", \"2\", \"3\", \"4\", \"5\", \"6\", \"7\", \"8\", \"9\", \"10\", \"11\", \"12\", \"13\", \"14\", \"15\", \"16\", \"17\", \"18\", \"19\", \"20\", \"21\", \"22\", \"23\", \"24\", \"25\", \"26\", \"27\", \"28\", \"29\", \"30\", \"31\", \"32\", \"33\", \"34\", \"35\", \"36\", \"37\", \"38\", \"39\", \"43\", \"44\"], \"mode\": \"lines\", \"name\": \"matthews_correlation_max\", \"stepped\": true, \"type\": \"scatter\", \"data\": [0.5953725328166731, 0.605362610301631, 0.605362610301631, 0.6192172474310915, 0.6192172474310915, 0.6192172474310915, 0.6192172474310915, 0.6292613390509613, 0.6292613390509613, 0.6733652968931367, 0.6733652968931367, 0.6733652968931367, 0.6733652968931367, 0.6733652968931367, 0.6733652968931367, 0.6733652968931367, 0.6733652968931367, 0.6733652968931367, 0.6733652968931367, 0.6733652968931367, 0.6733652968931367, 0.6733652968931367, 0.6733652968931367, 0.6733652968931367, 0.6734246957569492, 0.6734246957569492, 0.6734246957569492, 0.6734246957569492, 0.6734246957569492, 0.6734246957569492, 0.6734246957569492, 0.6734246957569492, 0.6734246957569492, 0.6734246957569492, 0.6734246957569492, 0.6734246957569492, 0.6734246957569492, 0.6734246957569492, 0.6734246957569492, 0.6734246957569492, 0.6734246957569492, 0.6734246957569492]}], \"balanced_accuracy\": [{\"categories\": [\"0\", \"1\", \"2\", \"3\", \"4\", \"5\", \"6\", \"7\", \"8\", \"9\", \"10\", \"11\", \"12\", \"13\", \"14\", \"15\", \"16\", \"17\", \"18\", \"19\", \"20\", \"21\", \"22\", \"23\", \"24\", \"25\", \"26\", \"27\", \"28\", \"29\", \"30\", \"31\", \"32\", \"33\", \"34\", \"35\", \"36\", \"37\", \"38\", \"39\", \"43\", \"44\"], \"mode\": \"markers\", \"name\": \"balanced_accuracy\", \"stepped\": false, \"type\": \"scatter\", \"data\": [0.7994182206682207, 0.8005102536352536, 0.7955758824508825, 0.8134063159063158, 0.7981771006771008, 0.8004736235986236, 0.8030809468309469, 0.8186693167943169, 0.8073504273504275, 0.8440641303141303, 0.7810482572982573, 0.7996366827616829, 0.8350470362970362, 0.8045924908424908, 0.8035658091908093, 0.7541880341880342, 0.7962932206682207, 0.7909757603507603, 0.807862692862693, 0.7876523476523477, 0.8092533855033854, 0.8196570790320792, 0.7956651681651682, 0.8094568625818626, 0.8404736235986237, 0.5692857142857143, 0.799517427017427, 0.8287232212232212, 0.7945453851703853, 0.8411314380064379, 0.8213069569319569, 0.8105033855033854, 0.8001282051282053, 0.8287642218892218, 0.8053148934398935, 0.8237939837939837, 0.822657967032967, 0.8155163586413586, 0.7945311632811632, 0.8031043956043955, 0.8330300949050949, 0.6213095238095238]}, {\"categories\": [\"0\", \"1\", \"2\", \"3\", \"4\", \"5\", \"6\", \"7\", \"8\", \"9\", \"10\", \"11\", \"12\", \"13\", \"14\", \"15\", \"16\", \"17\", \"18\", \"19\", \"20\", \"21\", \"22\", \"23\", \"24\", \"25\", \"26\", \"27\", \"28\", \"29\", \"30\", \"31\", \"32\", \"33\", \"34\", \"35\", \"36\", \"37\", \"38\", \"39\", \"43\", \"44\"], \"mode\": \"lines\", \"name\": \"balanced_accuracy_max\", \"stepped\": true, \"type\": \"scatter\", \"data\": [0.7994182206682207, 0.8005102536352536, 0.8005102536352536, 0.8134063159063158, 0.8134063159063158, 0.8134063159063158, 0.8134063159063158, 0.8186693167943169, 0.8186693167943169, 0.8440641303141303, 0.8440641303141303, 0.8440641303141303, 0.8440641303141303, 0.8440641303141303, 0.8440641303141303, 0.8440641303141303, 0.8440641303141303, 0.8440641303141303, 0.8440641303141303, 0.8440641303141303, 0.8440641303141303, 0.8440641303141303, 0.8440641303141303, 0.8440641303141303, 0.8440641303141303, 0.8440641303141303, 0.8440641303141303, 0.8440641303141303, 0.8440641303141303, 0.8440641303141303, 0.8440641303141303, 0.8440641303141303, 0.8440641303141303, 0.8440641303141303, 0.8440641303141303, 0.8440641303141303, 0.8440641303141303, 0.8440641303141303, 0.8440641303141303, 0.8440641303141303, 0.8440641303141303, 0.8440641303141303]}], \"AUC_micro\": [{\"categories\": [\"0\", \"1\", \"2\", \"3\", \"4\", \"5\", \"6\", \"7\", \"8\", \"9\", \"10\", \"11\", \"12\", \"13\", \"14\", \"15\", \"16\", \"17\", \"18\", \"19\", \"20\", \"21\", \"22\", \"23\", \"24\", \"25\", \"26\", \"27\", \"28\", \"29\", \"30\", \"31\", \"32\", \"33\", \"34\", \"35\", \"36\", \"37\", \"38\", \"39\", \"43\", \"44\"], \"mode\": \"markers\", \"name\": \"AUC_micro\", \"stepped\": false, \"type\": \"scatter\", \"data\": [0.8757411780139053, 0.8698857780026611, 0.8831529581529584, 0.8837025168193998, 0.8747128052322857, 0.8783512302992822, 0.8916638556248946, 0.8928079496261315, 0.8852293810086017, 0.9049371263656976, 0.8727877101253725, 0.87625419313731, 0.899409212720901, 0.8823419726017129, 0.8546068289574782, 0.8429611514027098, 0.8697588126159556, 0.8971669384007045, 0.8735940106069975, 0.8761342553550346, 0.8959427297089633, 0.8910243436217463, 0.8788956353891418, 0.8893264743914095, 0.9057991791758025, 0.7521204625100728, 0.8853657165345478, 0.8854959614699874, 0.8741477858360975, 0.8892299619572347, 0.8956906729634003, 0.888545473285733, 0.8918254905267892, 0.8799488390397482, 0.8693366878431814, 0.8985682427240869, 0.8805283821517588, 0.8980992672551114, 0.8886911789509192, 0.8883585390078895, 0.9095280260864677, 0.8314621165270515]}, {\"categories\": [\"0\", \"1\", \"2\", \"3\", \"4\", \"5\", \"6\", \"7\", \"8\", \"9\", \"10\", \"11\", \"12\", \"13\", \"14\", \"15\", \"16\", \"17\", \"18\", \"19\", \"20\", \"21\", \"22\", \"23\", \"24\", \"25\", \"26\", \"27\", \"28\", \"29\", \"30\", \"31\", \"32\", \"33\", \"34\", \"35\", \"36\", \"37\", \"38\", \"39\", \"43\", \"44\"], \"mode\": \"lines\", \"name\": \"AUC_micro_max\", \"stepped\": true, \"type\": \"scatter\", \"data\": [0.8757411780139053, 0.8757411780139053, 0.8831529581529584, 0.8837025168193998, 0.8837025168193998, 0.8837025168193998, 0.8916638556248946, 0.8928079496261315, 0.8928079496261315, 0.9049371263656976, 0.9049371263656976, 0.9049371263656976, 0.9049371263656976, 0.9049371263656976, 0.9049371263656976, 0.9049371263656976, 0.9049371263656976, 0.9049371263656976, 0.9049371263656976, 0.9049371263656976, 0.9049371263656976, 0.9049371263656976, 0.9049371263656976, 0.9049371263656976, 0.9057991791758025, 0.9057991791758025, 0.9057991791758025, 0.9057991791758025, 0.9057991791758025, 0.9057991791758025, 0.9057991791758025, 0.9057991791758025, 0.9057991791758025, 0.9057991791758025, 0.9057991791758025, 0.9057991791758025, 0.9057991791758025, 0.9057991791758025, 0.9057991791758025, 0.9057991791758025, 0.9095280260864677, 0.9095280260864677]}]}, \"metricName\": null, \"primaryMetricName\": \"AUC_weighted\", \"showLegend\": false}, \"run_metrics\": [{\"name\": \"experiment_status\", \"run_id\": \"AutoML_2080453b-f05a-4417-a3b9-e9d1810ad543\", \"categories\": [0, 1, 2, 3, 4, 5, 6, 7, 8, 9, 10, 11, 12, 13], \"series\": [{\"data\": [\"DatasetEvaluation\", \"FeaturesGeneration\", \"DatasetFeaturization\", \"DatasetFeaturizationCompleted\", \"DatasetCrossValidationSplit\", \"ModelSelection\", \"BestRunExplainModel\", \"ModelExplanationDataSetSetup\", \"PickSurrogateModel\", \"EngineeredFeatureExplanations\", \"EngineeredFeatureExplanations\", \"RawFeaturesExplanations\", \"RawFeaturesExplanations\", \"BestRunExplainModel\"]}]}, {\"name\": \"experiment_status_description\", \"run_id\": \"AutoML_2080453b-f05a-4417-a3b9-e9d1810ad543\", \"categories\": [0, 1, 2, 3, 4, 5, 6, 7, 8, 9, 10, 11, 12, 13], \"series\": [{\"data\": [\"Gathering dataset statistics.\", \"Generating features for the dataset.\", \"Beginning to fit featurizers and featurize the dataset.\", \"Completed fit featurizers and featurizing the dataset.\", \"Generating individually featurized CV splits.\", \"Beginning model selection.\", \"Best run model explanations started\", \"Model explanations data setup completed\", \"Choosing LightGBM as the surrogate model for explanations\", \"Computation of engineered features started\", \"Computation of engineered features completed\", \"Computation of raw features started\", \"Computation of raw features completed\", \"Best run model explanations completed\"]}]}, {\"name\": \"matthews_correlation\", \"run_id\": \"AutoML_2080453b-f05a-4417-a3b9-e9d1810ad543\", \"categories\": [0], \"series\": [{\"data\": [0.6648104334467987]}]}, {\"name\": \"AUC_weighted\", \"run_id\": \"AutoML_2080453b-f05a-4417-a3b9-e9d1810ad543\", \"categories\": [0], \"series\": [{\"data\": [0.9359641152498295]}]}, {\"name\": \"AUC_macro\", \"run_id\": \"AutoML_2080453b-f05a-4417-a3b9-e9d1810ad543\", \"categories\": [0], \"series\": [{\"data\": [0.9359641152498295]}]}, {\"name\": \"accuracy\", \"run_id\": \"AutoML_2080453b-f05a-4417-a3b9-e9d1810ad543\", \"categories\": [0], \"series\": [{\"data\": [0.8305194805194805]}]}, {\"name\": \"average_precision_score_micro\", \"run_id\": \"AutoML_2080453b-f05a-4417-a3b9-e9d1810ad543\", \"categories\": [0], \"series\": [{\"data\": [0.9161482687669606]}]}, {\"name\": \"weighted_accuracy\", \"run_id\": \"AutoML_2080453b-f05a-4417-a3b9-e9d1810ad543\", \"categories\": [0], \"series\": [{\"data\": [0.8279019969609489]}]}, {\"name\": \"average_precision_score_weighted\", \"run_id\": \"AutoML_2080453b-f05a-4417-a3b9-e9d1810ad543\", \"categories\": [0], \"series\": [{\"data\": [0.9456537446157386]}]}, {\"name\": \"precision_score_macro\", \"run_id\": \"AutoML_2080453b-f05a-4417-a3b9-e9d1810ad543\", \"categories\": [0], \"series\": [{\"data\": [0.8325301087801089]}]}, {\"name\": \"recall_score_micro\", \"run_id\": \"AutoML_2080453b-f05a-4417-a3b9-e9d1810ad543\", \"categories\": [0], \"series\": [{\"data\": [0.8305194805194805]}]}, {\"name\": \"recall_score_weighted\", \"run_id\": \"AutoML_2080453b-f05a-4417-a3b9-e9d1810ad543\", \"categories\": [0], \"series\": [{\"data\": [0.8305194805194805]}]}, {\"name\": \"AUC_micro\", \"run_id\": \"AutoML_2080453b-f05a-4417-a3b9-e9d1810ad543\", \"categories\": [0], \"series\": [{\"data\": [0.9095280260864677]}]}, {\"name\": \"log_loss\", \"run_id\": \"AutoML_2080453b-f05a-4417-a3b9-e9d1810ad543\", \"categories\": [0], \"series\": [{\"data\": [0.42358265961103186]}]}, {\"name\": \"f1_score_weighted\", \"run_id\": \"AutoML_2080453b-f05a-4417-a3b9-e9d1810ad543\", \"categories\": [0], \"series\": [{\"data\": [0.8301084205105127]}]}, {\"name\": \"precision_score_weighted\", \"run_id\": \"AutoML_2080453b-f05a-4417-a3b9-e9d1810ad543\", \"categories\": [0], \"series\": [{\"data\": [0.8521888020589319]}]}, {\"name\": \"balanced_accuracy\", \"run_id\": \"AutoML_2080453b-f05a-4417-a3b9-e9d1810ad543\", \"categories\": [0], \"series\": [{\"data\": [0.8330300949050949]}]}, {\"name\": \"precision_score_micro\", \"run_id\": \"AutoML_2080453b-f05a-4417-a3b9-e9d1810ad543\", \"categories\": [0], \"series\": [{\"data\": [0.8305194805194805]}]}, {\"name\": \"norm_macro_recall\", \"run_id\": \"AutoML_2080453b-f05a-4417-a3b9-e9d1810ad543\", \"categories\": [0], \"series\": [{\"data\": [0.6660601898101899]}]}, {\"name\": \"recall_score_macro\", \"run_id\": \"AutoML_2080453b-f05a-4417-a3b9-e9d1810ad543\", \"categories\": [0], \"series\": [{\"data\": [0.8330300949050949]}]}, {\"name\": \"average_precision_score_macro\", \"run_id\": \"AutoML_2080453b-f05a-4417-a3b9-e9d1810ad543\", \"categories\": [0], \"series\": [{\"data\": [0.9404351521964965]}]}, {\"name\": \"f1_score_micro\", \"run_id\": \"AutoML_2080453b-f05a-4417-a3b9-e9d1810ad543\", \"categories\": [0], \"series\": [{\"data\": [0.8305194805194805]}]}, {\"name\": \"f1_score_macro\", \"run_id\": \"AutoML_2080453b-f05a-4417-a3b9-e9d1810ad543\", \"categories\": [0], \"series\": [{\"data\": [0.821110985696226]}]}], \"run_logs\": \"\\nRun is completed.\", \"graph\": {}, \"widget_settings\": {\"childWidgetDisplay\": \"popup\", \"send_telemetry\": false, \"log_level\": \"INFO\", \"sdk_version\": \"1.26.0\"}, \"loading\": false}"
     },
     "metadata": {},
     "output_type": "display_data"
    },
    {
     "data": {
      "text/html": [
       "<table style=\"width:100%\"><tr><th>Experiment</th><th>Id</th><th>Type</th><th>Status</th><th>Details Page</th><th>Docs Page</th></tr><tr><td>automl-exp</td><td>AutoML_2080453b-f05a-4417-a3b9-e9d1810ad543</td><td>automl</td><td>NotStarted</td><td><a href=\"https://ml.azure.com/runs/AutoML_2080453b-f05a-4417-a3b9-e9d1810ad543?wsid=/subscriptions/a0a76bad-11a1-4a2d-9887-97a29122c8ed/resourcegroups/aml-quickstarts-143070/workspaces/quick-starts-ws-143070&amp;tid=660b3398-b80e-49d2-bc5b-ac1dc93b5254\" target=\"_blank\" rel=\"noopener\">Link to Azure Machine Learning studio</a></td><td><a href=\"https://docs.microsoft.com/en-us/python/api/overview/azure/ml/intro?view=azure-ml-py\" target=\"_blank\" rel=\"noopener\">Link to Documentation</a></td></tr></table>"
      ],
      "text/plain": [
       "<IPython.core.display.HTML object>"
      ]
     },
     "metadata": {},
     "output_type": "display_data"
    },
    {
     "name": "stdout",
     "output_type": "stream",
     "text": [
      "\n",
      "Current status: FeaturesGeneration. Generating features for the dataset.\n",
      "Current status: DatasetCrossValidationSplit. Generating individually featurized CV splits.\n",
      "Current status: ModelSelection. Beginning model selection.\n",
      "\n",
      "****************************************************************************************************\n",
      "DATA GUARDRAILS: \n",
      "\n",
      "TYPE:         Cross validation\n",
      "STATUS:       DONE\n",
      "DESCRIPTION:  Each iteration of the trained model was validated through cross-validation.\n",
      "              \n",
      "DETAILS:      \n",
      "+---------------------------------+\n",
      "|Number of folds                  |\n",
      "+=================================+\n",
      "|10                               |\n",
      "+---------------------------------+\n",
      "\n",
      "****************************************************************************************************\n",
      "\n",
      "TYPE:         Class balancing detection\n",
      "STATUS:       PASSED\n",
      "DESCRIPTION:  Your inputs were analyzed, and all classes are balanced in your training data.\n",
      "              Learn more about imbalanced data: https://aka.ms/AutomatedMLImbalancedData\n",
      "\n",
      "****************************************************************************************************\n",
      "\n",
      "TYPE:         Missing feature values imputation\n",
      "STATUS:       PASSED\n",
      "DESCRIPTION:  No feature missing values were detected in the training data.\n",
      "              Learn more about missing value imputation: https://aka.ms/AutomatedMLFeaturization\n",
      "\n",
      "****************************************************************************************************\n",
      "\n",
      "TYPE:         High cardinality feature detection\n",
      "STATUS:       PASSED\n",
      "DESCRIPTION:  Your inputs were analyzed, and no high cardinality features were detected.\n",
      "              Learn more about high cardinality feature handling: https://aka.ms/AutomatedMLFeaturization\n",
      "\n",
      "****************************************************************************************************\n",
      "\n",
      "****************************************************************************************************\n",
      "ITERATION: The iteration being evaluated.\n",
      "PIPELINE: A summary description of the pipeline being evaluated.\n",
      "DURATION: Time taken for the current iteration.\n",
      "METRIC: The result of computing score on the fitted pipeline.\n",
      "BEST: The best observed score thus far.\n",
      "****************************************************************************************************\n",
      "\n",
      " ITERATION   PIPELINE                                       DURATION      METRIC      BEST\n",
      "         1   MaxAbsScaler XGBoostClassifier                 0:00:44       0.8881    0.8881\n",
      "         2   MaxAbsScaler RandomForest                      0:00:40       0.8936    0.8936\n",
      "         3   MaxAbsScaler RandomForest                      0:00:41       0.8934    0.8936\n",
      "         0   MaxAbsScaler LightGBM                          0:00:46       0.8965    0.8965\n",
      "         4   MaxAbsScaler RandomForest                      0:00:48       0.8878    0.8965\n",
      "         6   MaxAbsScaler ExtremeRandomTrees                0:00:41       0.9041    0.9041\n",
      "         5   MaxAbsScaler ExtremeRandomTrees                0:00:52       0.8841    0.9041\n",
      "         7   MaxAbsScaler ExtremeRandomTrees                0:00:43       0.9047    0.9047\n",
      "         8   MaxAbsScaler RandomForest                      0:00:46       0.8997    0.9047\n",
      "         9   MaxAbsScaler ExtremeRandomTrees                0:00:41       0.9154    0.9154\n",
      "        10   MaxAbsScaler RandomForest                      0:00:41       0.8840    0.9154\n",
      "        12   MaxAbsScaler RandomForest                      0:00:46       0.9073    0.9154\n",
      "        14   MaxAbsScaler RandomForest                      0:00:43       0.8864    0.9154\n",
      "        11   MaxAbsScaler RandomForest                      0:01:17       0.8907    0.9154\n",
      "        13   StandardScalerWrapper XGBoostClassifier        0:01:21       0.8992    0.9154\n",
      "        15   StandardScalerWrapper ExtremeRandomTrees       0:00:42       0.8382    0.9154\n",
      "        16   MaxAbsScaler ExtremeRandomTrees                0:00:39       0.8727    0.9154\n",
      "        17   MaxAbsScaler ExtremeRandomTrees                0:00:43       0.9084    0.9154\n",
      "        18   MaxAbsScaler RandomForest                      0:00:47       0.8930    0.9154\n",
      "        19   StandardScalerWrapper LogisticRegression       0:00:38       0.8846    0.9154\n",
      "        20   MaxAbsScaler LightGBM                          0:00:44       0.9133    0.9154\n",
      "        21   MaxAbsScaler LightGBM                          0:00:41       0.9022    0.9154\n",
      "        22   StandardScalerWrapper LogisticRegression       0:01:12       0.8875    0.9154\n",
      "        23   MaxAbsScaler LightGBM                          0:00:52       0.9085    0.9154\n",
      "        24   StandardScalerWrapper LightGBM                 0:00:44       0.9226    0.9226\n",
      "        25   MaxAbsScaler ExtremeRandomTrees                0:00:53       0.8888    0.9226\n",
      "        26   MaxAbsScaler LogisticRegression                0:00:41       0.8962    0.9226\n",
      "        27   MaxAbsScaler ExtremeRandomTrees                0:01:56       0.8912    0.9226\n",
      "        28   StandardScalerWrapper ExtremeRandomTrees       0:01:58       0.8823    0.9226\n",
      "        29   MaxAbsScaler ExtremeRandomTrees                0:01:53       0.8965    0.9226\n",
      "        31   StandardScalerWrapper XGBoostClassifier        0:02:11       0.8998    0.9226\n",
      "        30   MaxAbsScaler LightGBM                          0:02:29       0.9136    0.9226\n",
      "        32   SparseNormalizer XGBoostClassifier             0:00:48       0.8986    0.9226\n",
      "        33   TruncatedSVDWrapper XGBoostClassifier          0:00:43       0.8922    0.9226\n",
      "        34   TruncatedSVDWrapper XGBoostClassifier          0:00:43       0.8757    0.9226\n",
      "        35   StandardScalerWrapper LightGBM                 0:00:56       0.9185    0.9226\n",
      "        36   TruncatedSVDWrapper XGBoostClassifier          0:00:52       0.8948    0.9226\n",
      "        37   SparseNormalizer LightGBM                      0:00:47       0.9210    0.9226\n",
      "        38   MaxAbsScaler LightGBM                          0:00:45       0.9095    0.9226\n",
      "        39   SparseNormalizer LightGBM                      0:00:43       0.9064    0.9226\n",
      "        40   SparseNormalizer LightGBM                      0:00:17          nan    0.9226\n",
      "        41                                                  0:00:12          nan    0.9226\n",
      "        42                                                  0:00:06          nan    0.9226\n",
      "        43    VotingEnsemble                                0:01:14       0.9360    0.9360\n",
      "        44    StackEnsemble                                 0:01:15       0.9274    0.9360\n"
     ]
    }
   ],
   "source": [
    "RunDetails(remote_run).show()\n",
    "remote_run.wait_for_completion(show_output=True)\n",
    "assert(remote_run.get_status() == \"Completed\")"
   ]
  },
  {
   "cell_type": "code",
   "execution_count": 11,
   "metadata": {
    "scrolled": true
   },
   "outputs": [
    {
     "data": {
      "text/plain": [
       "(Run(Experiment: automl-exp,\n",
       " Id: AutoML_2080453b-f05a-4417-a3b9-e9d1810ad543_43,\n",
       " Type: azureml.scriptrun,\n",
       " Status: Completed),\n",
       " Pipeline(memory=None,\n",
       "          steps=[('datatransformer',\n",
       "                  DataTransformer(enable_dnn=None, enable_feature_sweeping=None,\n",
       "                                  feature_sweeping_config=None,\n",
       "                                  feature_sweeping_timeout=None,\n",
       "                                  featurization_config=None, force_text_dnn=None,\n",
       "                                  is_cross_validation=None,\n",
       "                                  is_onnx_compatible=None, logger=None,\n",
       "                                  observer=None, task=None, working_dir=None)),\n",
       "                 ('prefittedsoftvotingclassifier',...\n",
       "                                                                                                   n_estimators=400,\n",
       "                                                                                                   n_jobs=1,\n",
       "                                                                                                   oob_score=False,\n",
       "                                                                                                   random_state=None,\n",
       "                                                                                                   verbose=0,\n",
       "                                                                                                   warm_start=False))],\n",
       "                                                                      verbose=False))],\n",
       "                                                flatten_transform=None,\n",
       "                                                weights=[0.13333333333333333,\n",
       "                                                         0.26666666666666666,\n",
       "                                                         0.06666666666666667,\n",
       "                                                         0.06666666666666667,\n",
       "                                                         0.06666666666666667,\n",
       "                                                         0.06666666666666667,\n",
       "                                                         0.06666666666666667,\n",
       "                                                         0.06666666666666667,\n",
       "                                                         0.06666666666666667,\n",
       "                                                         0.13333333333333333]))],\n",
       "          verbose=False))"
      ]
     },
     "execution_count": 11,
     "metadata": {},
     "output_type": "execute_result"
    }
   ],
   "source": [
    "remote_run.get_output()"
   ]
  },
  {
   "cell_type": "markdown",
   "metadata": {},
   "source": [
    "## Best Model\n",
    "\n",
    "TODO: In the cell below, get the best model from the automl experiments and display all the properties of the model.\n",
    "\n"
   ]
  },
  {
   "cell_type": "code",
   "execution_count": 12,
   "metadata": {
    "gather": {
     "logged": 1598431425670
    },
    "jupyter": {
     "outputs_hidden": false,
     "source_hidden": false
    },
    "nteract": {
     "transient": {
      "deleting": false
     }
    }
   },
   "outputs": [],
   "source": [
    "automl_best_run = remote_run.get_best_child()"
   ]
  },
  {
   "cell_type": "code",
   "execution_count": 13,
   "metadata": {
    "gather": {
     "logged": 1598431426111
    },
    "jupyter": {
     "outputs_hidden": false,
     "source_hidden": false
    },
    "nteract": {
     "transient": {
      "deleting": false
     }
    }
   },
   "outputs": [],
   "source": [
    "#TODO: Save the best model\n",
    "amodel= automl_best_run.register_model(model_name='udacity-automl-project', model_path='./outputs/model.pkl')"
   ]
  },
  {
   "cell_type": "code",
   "execution_count": 14,
   "metadata": {},
   "outputs": [
    {
     "data": {
      "text/plain": [
       "Pipeline(memory=None,\n",
       "         steps=[('datatransformer',\n",
       "                 DataTransformer(enable_dnn=None, enable_feature_sweeping=None,\n",
       "                                 feature_sweeping_config=None,\n",
       "                                 feature_sweeping_timeout=None,\n",
       "                                 featurization_config=None, force_text_dnn=None,\n",
       "                                 is_cross_validation=None,\n",
       "                                 is_onnx_compatible=None, logger=None,\n",
       "                                 observer=None, task=None, working_dir=None)),\n",
       "                ('prefittedsoftvotingclassifier',...\n",
       "                                                                                                  n_estimators=400,\n",
       "                                                                                                  n_jobs=1,\n",
       "                                                                                                  oob_score=False,\n",
       "                                                                                                  random_state=None,\n",
       "                                                                                                  verbose=0,\n",
       "                                                                                                  warm_start=False))],\n",
       "                                                                     verbose=False))],\n",
       "                                               flatten_transform=None,\n",
       "                                               weights=[0.13333333333333333,\n",
       "                                                        0.26666666666666666,\n",
       "                                                        0.06666666666666667,\n",
       "                                                        0.06666666666666667,\n",
       "                                                        0.06666666666666667,\n",
       "                                                        0.06666666666666667,\n",
       "                                                        0.06666666666666667,\n",
       "                                                        0.06666666666666667,\n",
       "                                                        0.06666666666666667,\n",
       "                                                        0.13333333333333333]))],\n",
       "         verbose=False)"
      ]
     },
     "execution_count": 14,
     "metadata": {},
     "output_type": "execute_result"
    }
   ],
   "source": [
    "temp_model = remote_run.get_output()\n",
    "temp_model[-1]"
   ]
  },
  {
   "cell_type": "markdown",
   "metadata": {},
   "source": [
    "## Model Deployment\n",
    "\n",
    "Remember you have to deploy only one of the two models you trained.. Perform the steps in the rest of this notebook only if you wish to deploy this model.\n",
    "\n",
    "TODO: In the cell below, register the model, create an inference config and deploy the model as a web service."
   ]
  },
  {
   "cell_type": "code",
   "execution_count": 78,
   "metadata": {},
   "outputs": [],
   "source": [
    "from azureml.core import Environment\n",
    "import sklearn\n",
    "from azureml.core.conda_dependencies import CondaDependencies\n",
    "\n",
    "\n",
    "environment = Environment('my-sklearn-environment')\n",
    "environment.python.conda_dependencies = CondaDependencies.create(pip_packages=[\n",
    "    'azureml-defaults',\n",
    "    'inference-schema[numpy-support]',\n",
    "    'joblib',\n",
    "    'numpy',\n",
    "    'azureml-automl-core',\n",
    "    'azureml-automl-runtime',\n",
    "    'packaging',\n",
    "    'xgboost==0.90',\n",
    "    'scikit-learn=={}'.format(sklearn.__version__)\n",
    "])"
   ]
  },
  {
   "cell_type": "code",
   "execution_count": 79,
   "metadata": {
    "scrolled": true
   },
   "outputs": [
    {
     "name": "stdout",
     "output_type": "stream",
     "text": [
      "import joblib\n",
      "import numpy as np\n",
      "import os\n",
      "import pickle\n",
      "import json\n",
      "import pandas as pd\n",
      "\n",
      "from inference_schema.schema_decorators import input_schema, output_schema\n",
      "from inference_schema.parameter_types.numpy_parameter_type import NumpyParameterType\n",
      "\n",
      "\n",
      "# The init() method is called once, when the web service starts up.\n",
      "#\n",
      "# Typically you would deserialize the model file, as shown here using joblib,\n",
      "# and store it in a global variable so your run() method can access it later.\n",
      "def init():\n",
      "    global model\n",
      "    print(\"HHHHH1\")\n",
      "\n",
      "    # The AZUREML_MODEL_DIR environment variable indicates\n",
      "    # a directory containing the model file you registered.\n",
      "    model_filename = 'model.pkl'\n",
      "    print(\"HHHHH2\")\n",
      "    model_path = os.path.join(os.environ['AZUREML_MODEL_DIR'], model_filename)\n",
      "    print(\"Found model:\",os.path.isfile(model_path))\n",
      "    print(\"HHHHH3\")\n",
      "    print(model_path)\n",
      "    print(\"what\")\n",
      "    #with open(model_path,'rb') as f:\n",
      "     #   data = pickle.load(f)\n",
      "    #print(\"HHHHH4\")\n",
      "    #with open('model.json','w+') as g:\n",
      "     #   json.dump(data,g)\n",
      "    print(\"HHHHH5\")\n",
      "    model = joblib.load(model_path)\n",
      "    print(\"HHHHHH6\")\n",
      "\n",
      "# The run() method is called each time a request is made to the scoring API.\n",
      "#\n",
      "# Shown here are the optional input_schema and output_schema decorators\n",
      "# from the inference-schema pip package. Using these decorators on your\n",
      "# run() method parses and validates the incoming payload against\n",
      "# the example input you provide here. This will also generate a Swagger\n",
      "# API document for your web service.\n",
      "\n",
      "def run(data):\n",
      "    # Use the model object loaded by init().\n",
      "    print('11111111111111111')\n",
      "    \n",
      "    data_load = json.loads(data)\n",
      "    print('22222222222222222222222222')\n",
      "    data = pd.DataFrame.from_dict(data_load['data'])\n",
      "    print('3333333333333333333333333333333')\n",
      "    result = model.predict(data)\n",
      "\n",
      "    # You can return any JSON-serializable object.\n",
      "    return result.tolist()\n"
     ]
    }
   ],
   "source": [
    "with open('score.py') as f:\n",
    "    print(f.read())"
   ]
  },
  {
   "cell_type": "code",
   "execution_count": 80,
   "metadata": {
    "gather": {
     "logged": 1598431435189
    },
    "jupyter": {
     "outputs_hidden": false,
     "source_hidden": false
    },
    "nteract": {
     "transient": {
      "deleting": false
     }
    }
   },
   "outputs": [
    {
     "name": "stdout",
     "output_type": "stream",
     "text": [
      "Tips: You can try get_logs(): https://aka.ms/debugimage#dockerlog or local deployment: https://aka.ms/debugimage#debug-locally to debug if deployment takes longer than 10 minutes.\n",
      "Running\n",
      "2021-04-18 20:29:46+00:00 Creating Container Registry if not exists.\n",
      "2021-04-18 20:29:47+00:00 Registering the environment.\n",
      "2021-04-18 20:29:49+00:00 Use the existing image..\n",
      "2021-04-18 20:29:52+00:00 Submitting deployment to compute.\n",
      "2021-04-18 20:29:56+00:00 Checking the status of deployment my-custom-env-service21..\n",
      "2021-04-18 20:32:00+00:00 Checking the status of inference endpoint my-custom-env-service21.\n",
      "Succeeded\n",
      "ACI service creation operation finished, operation \"Succeeded\"\n"
     ]
    }
   ],
   "source": [
    "from azureml.core.model import InferenceConfig\n",
    "from azureml.core.webservice import AciWebservice, LocalWebservice\n",
    "from azureml.core import Model\n",
    "\n",
    "service_name = 'my-custom-env-service21'\n",
    "\n",
    "inference_config = InferenceConfig(entry_script='score.py', environment=environment)\n",
    "aci_config = AciWebservice.deploy_configuration(cpu_cores = 1, memory_gb = 1)\n",
    "#local_config = LocalWebservice.deploy_configuration(port=6788)\n",
    "\n",
    "service = Model.deploy(workspace=ws,\n",
    "                       name=service_name,\n",
    "                       models=[amodel],\n",
    "                       inference_config=inference_config,\n",
    "                       deployment_config=aci_config,\n",
    "                       overwrite=True)\n",
    "service.wait_for_deployment(show_output=True)"
   ]
  },
  {
   "cell_type": "code",
   "execution_count": 81,
   "metadata": {
    "scrolled": false
   },
   "outputs": [
    {
     "name": "stdout",
     "output_type": "stream",
     "text": [
      "2021-04-18T20:31:53,726408600+00:00 - gunicorn/run \n",
      "2021-04-18T20:31:53,733738900+00:00 - rsyslog/run \n",
      "2021-04-18T20:31:53,743713600+00:00 - iot-server/run \n",
      "2021-04-18T20:31:53,743706300+00:00 - nginx/run \n",
      "/usr/sbin/nginx: /azureml-envs/azureml_7e29e14852b8e63cc438037e59324eb8/lib/libcrypto.so.1.0.0: no version information available (required by /usr/sbin/nginx)\n",
      "/usr/sbin/nginx: /azureml-envs/azureml_7e29e14852b8e63cc438037e59324eb8/lib/libcrypto.so.1.0.0: no version information available (required by /usr/sbin/nginx)\n",
      "/usr/sbin/nginx: /azureml-envs/azureml_7e29e14852b8e63cc438037e59324eb8/lib/libssl.so.1.0.0: no version information available (required by /usr/sbin/nginx)\n",
      "/usr/sbin/nginx: /azureml-envs/azureml_7e29e14852b8e63cc438037e59324eb8/lib/libssl.so.1.0.0: no version information available (required by /usr/sbin/nginx)\n",
      "/usr/sbin/nginx: /azureml-envs/azureml_7e29e14852b8e63cc438037e59324eb8/lib/libssl.so.1.0.0: no version information available (required by /usr/sbin/nginx)\n",
      "EdgeHubConnectionString and IOTEDGE_IOTHUBHOSTNAME are not set. Exiting...\n",
      "2021-04-18T20:31:54,185182700+00:00 - iot-server/finish 1 0\n",
      "2021-04-18T20:31:54,187348400+00:00 - Exit code 1 is normal. Not restarting iot-server.\n",
      "Starting gunicorn 19.9.0\n",
      "Listening at: http://127.0.0.1:31311 (72)\n",
      "Using worker: sync\n",
      "worker timeout is set to 300\n",
      "Booting worker with pid: 102\n",
      "SPARK_HOME not set. Skipping PySpark Initialization.\n",
      "Initializing logger\n",
      "2021-04-18 20:31:56,171 | root | INFO | Starting up app insights client\n",
      "2021-04-18 20:31:56,172 | root | INFO | Starting up request id generator\n",
      "2021-04-18 20:31:56,172 | root | INFO | Starting up app insight hooks\n",
      "2021-04-18 20:31:56,173 | root | INFO | Invoking user's init function\n",
      "HHHHH1\n",
      "HHHHH2\n",
      "Found model:\n",
      "True\n",
      "HHHHH3\n",
      "azureml-models/udacity-automl-project/2/model.pkl\n",
      "what\n",
      "HHHHH5\n",
      "HHHHHH6\n",
      "2021-04-18 20:32:02,254 | root | INFO | Users's init has completed successfully\n",
      "2021-04-18 20:32:02,262 | root | INFO | Skipping middleware: dbg_model_info as it's not enabled.\n",
      "2021-04-18 20:32:02,262 | root | INFO | Skipping middleware: dbg_resource_usage as it's not enabled.\n",
      "2021-04-18 20:32:02,262 | root | INFO | Scoring timeout is found from os.environ: 60000 ms\n",
      "2021-04-18 20:32:02,763 | root | INFO | Swagger file not present\n",
      "2021-04-18 20:32:02,763 | root | INFO | 404\n",
      "127.0.0.1 - - [18/Apr/2021:20:32:02 +0000] \"GET /swagger.json HTTP/1.0\" 404 19 \"-\" \"Go-http-client/1.1\"\n",
      "2021-04-18 20:32:06,462 | root | INFO | Swagger file not present\n",
      "2021-04-18 20:32:06,463 | root | INFO | 404\n",
      "127.0.0.1 - - [18/Apr/2021:20:32:06 +0000] \"GET /swagger.json HTTP/1.0\" 404 19 \"-\" \"Go-http-client/1.1\"\n",
      "\n"
     ]
    }
   ],
   "source": [
    "print(service.get_logs())"
   ]
  },
  {
   "cell_type": "code",
   "execution_count": 73,
   "metadata": {
    "scrolled": false
   },
   "outputs": [
    {
     "name": "stdout",
     "output_type": "stream",
     "text": [
      "Container has been successfully cleaned up.\n",
      "Starting Docker container...\n",
      "Docker container running.\n"
     ]
    }
   ],
   "source": [
    "#service.reload()"
   ]
  },
  {
   "cell_type": "markdown",
   "metadata": {
    "gather": {
     "logged": 1598431657736
    },
    "jupyter": {
     "outputs_hidden": false,
     "source_hidden": false
    },
    "nteract": {
     "transient": {
      "deleting": false
     }
    }
   },
   "source": [
    "TODO: In the cell below, send a request to the web service you deployed to test it."
   ]
  },
  {
   "cell_type": "code",
   "execution_count": 82,
   "metadata": {
    "gather": {
     "logged": 1598432707604
    },
    "jupyter": {
     "outputs_hidden": false,
     "source_hidden": false
    },
    "nteract": {
     "transient": {
      "deleting": false
     }
    }
   },
   "outputs": [
    {
     "name": "stdout",
     "output_type": "stream",
     "text": [
      "[0, 0, 0, 1, 0, 0, 1, 1, 1, 1, 0, 0, 1, 1, 1, 0, 1, 0, 0, 1, 0, 0, 1, 1, 1, 1, 1, 1, 1, 1, 1, 0, 1, 0, 0, 0, 1, 1, 1, 1, 1, 0, 0, 0, 0, 0, 1, 1, 1, 1, 1, 1, 0, 1, 1, 1, 1, 1, 1, 0, 1, 0, 0, 0, 1, 0, 0, 0, 0, 1, 1, 1, 1, 0, 0, 0, 0, 0, 0, 0, 1, 0, 1, 0, 1, 0, 1, 0, 1, 0, 1]\n"
     ]
    }
   ],
   "source": [
    "import json\n",
    "\n",
    "\n",
    "input_payload = json.dumps({\n",
    "    'data': X_test.to_dict(),\n",
    "    'method': 'predict_proba'  # If you have a classification model, you can get probabilities by changing this to 'predict_proba'.\n",
    "})\n",
    "\n",
    "output = service.run(input_payload)\n",
    "print(output)"
   ]
  },
  {
   "cell_type": "markdown",
   "metadata": {
    "gather": {
     "logged": 1598432765711
    },
    "jupyter": {
     "outputs_hidden": false,
     "source_hidden": false
    },
    "nteract": {
     "transient": {
      "deleting": false
     }
    }
   },
   "source": [
    "TODO: In the cell below, print the logs of the web service and delete the service"
   ]
  },
  {
   "cell_type": "code",
   "execution_count": 83,
   "metadata": {
    "jupyter": {
     "outputs_hidden": false,
     "source_hidden": false
    },
    "nteract": {
     "transient": {
      "deleting": false
     }
    }
   },
   "outputs": [
    {
     "name": "stdout",
     "output_type": "stream",
     "text": [
      "[0, 0, 0, 1, 0, 0, 1, 1, 1, 1, 0, 0, 1, 1, 1, 0, 1, 0, 0, 1, 0, 0, 1, 1, 1, 1, 1, 1, 1, 1, 1, 0, 1, 0, 0, 0, 1, 1, 1, 1, 1, 0, 0, 0, 0, 0, 1, 1, 1, 1, 1, 1, 0, 1, 1, 1, 1, 1, 1, 0, 1, 0, 0, 0, 1, 0, 0, 0, 0, 1, 1, 1, 1, 0, 0, 0, 0, 0, 0, 0, 1, 0, 1, 0, 1, 0, 1, 0, 1, 0, 1]\n"
     ]
    }
   ],
   "source": [
    "print(output)"
   ]
  },
  {
   "cell_type": "code",
   "execution_count": 98,
   "metadata": {},
   "outputs": [
    {
     "name": "stdout",
     "output_type": "stream",
     "text": [
      "2021-04-18T20:31:53,726408600+00:00 - gunicorn/run \n",
      "2021-04-18T20:31:53,733738900+00:00 - rsyslog/run \n",
      "2021-04-18T20:31:53,743713600+00:00 - iot-server/run \n",
      "2021-04-18T20:31:53,743706300+00:00 - nginx/run \n",
      "/usr/sbin/nginx: /azureml-envs/azureml_7e29e14852b8e63cc438037e59324eb8/lib/libcrypto.so.1.0.0: no version information available (required by /usr/sbin/nginx)\n",
      "/usr/sbin/nginx: /azureml-envs/azureml_7e29e14852b8e63cc438037e59324eb8/lib/libcrypto.so.1.0.0: no version information available (required by /usr/sbin/nginx)\n",
      "/usr/sbin/nginx: /azureml-envs/azureml_7e29e14852b8e63cc438037e59324eb8/lib/libssl.so.1.0.0: no version information available (required by /usr/sbin/nginx)\n",
      "/usr/sbin/nginx: /azureml-envs/azureml_7e29e14852b8e63cc438037e59324eb8/lib/libssl.so.1.0.0: no version information available (required by /usr/sbin/nginx)\n",
      "/usr/sbin/nginx: /azureml-envs/azureml_7e29e14852b8e63cc438037e59324eb8/lib/libssl.so.1.0.0: no version information available (required by /usr/sbin/nginx)\n",
      "EdgeHubConnectionString and IOTEDGE_IOTHUBHOSTNAME are not set. Exiting...\n",
      "2021-04-18T20:31:54,185182700+00:00 - iot-server/finish 1 0\n",
      "2021-04-18T20:31:54,187348400+00:00 - Exit code 1 is normal. Not restarting iot-server.\n",
      "Starting gunicorn 19.9.0\n",
      "Listening at: http://127.0.0.1:31311 (72)\n",
      "Using worker: sync\n",
      "worker timeout is set to 300\n",
      "Booting worker with pid: 102\n",
      "SPARK_HOME not set. Skipping PySpark Initialization.\n",
      "Initializing logger\n",
      "2021-04-18 20:31:56,171 | root | INFO | Starting up app insights client\n",
      "2021-04-18 20:31:56,172 | root | INFO | Starting up request id generator\n",
      "2021-04-18 20:31:56,172 | root | INFO | Starting up app insight hooks\n",
      "2021-04-18 20:31:56,173 | root | INFO | Invoking user's init function\n",
      "HHHHH1\n",
      "HHHHH2\n",
      "Found model:\n",
      "True\n",
      "HHHHH3\n",
      "azureml-models/udacity-automl-project/2/model.pkl\n",
      "what\n",
      "HHHHH5\n",
      "HHHHHH6\n",
      "2021-04-18 20:32:02,254 | root | INFO | Users's init has completed successfully\n",
      "2021-04-18 20:32:02,262 | root | INFO | Skipping middleware: dbg_model_info as it's not enabled.\n",
      "2021-04-18 20:32:02,262 | root | INFO | Skipping middleware: dbg_resource_usage as it's not enabled.\n",
      "2021-04-18 20:32:02,262 | root | INFO | Scoring timeout is found from os.environ: 60000 ms\n",
      "2021-04-18 20:32:02,763 | root | INFO | Swagger file not present\n",
      "2021-04-18 20:32:02,763 | root | INFO | 404\n",
      "127.0.0.1 - - [18/Apr/2021:20:32:02 +0000] \"GET /swagger.json HTTP/1.0\" 404 19 \"-\" \"Go-http-client/1.1\"\n",
      "2021-04-18 20:32:06,462 | root | INFO | Swagger file not present\n",
      "2021-04-18 20:32:06,463 | root | INFO | 404\n",
      "127.0.0.1 - - [18/Apr/2021:20:32:06 +0000] \"GET /swagger.json HTTP/1.0\" 404 19 \"-\" \"Go-http-client/1.1\"\n",
      "2021-04-18 20:32:41,174 | root | INFO | Validation Request Content-Type\n",
      "2021-04-18 20:32:41,175 | root | INFO | Scoring Timer is set to 60.0 seconds\n",
      "11111111111111111\n",
      "22222222222222222222222222\n",
      "3333333333333333333333333333333\n",
      "2021-04-18 20:32:41,428 | root | INFO | 200\n",
      "127.0.0.1 - - [18/Apr/2021:20:32:41 +0000] \"POST /score HTTP/1.0\" 200 273 \"-\" \"python-requests/2.25.1\"\n",
      "\n"
     ]
    }
   ],
   "source": [
    "print(service.get_logs())"
   ]
  },
  {
   "cell_type": "code",
   "execution_count": 115,
   "metadata": {},
   "outputs": [
    {
     "name": "stdout",
     "output_type": "stream",
     "text": [
      "{\"data\": {\"age_bins\": {\"237\": 4}, \"sex\": {\"237\": 1}, \"cp\": {\"237\": 0}, \"trestbps\": {\"237\": 0.47839125242290675}, \"chol\": {\"237\": 0.903195230562085}, \"fbs\": {\"237\": 0}, \"restecg\": {\"237\": 0}, \"thalach\": {\"237\": 0.8900528839839795}, \"exang\": {\"237\": 0}, \"oldpeak\": {\"237\": 1.2}, \"slope\": {\"237\": 1}, \"ca\": {\"237\": 2}, \"thal\": {\"237\": 3}}}\n",
      "POST to url http://360cff5b-18ca-4395-b44b-36da2dd3a43c.southcentralus.azurecontainer.io/score\n",
      "prediction: [0]\n"
     ]
    }
   ],
   "source": [
    "\n",
    "import requests\n",
    "\n",
    "key1 = 'http://360cff5b-18ca-4395-b44b-36da2dd3a43c.southcentralus.azurecontainer.io/score'\n",
    "\n",
    "input_data = json.dumps({'data':X_test[0:1].to_dict()})\n",
    "print(input_data)\n",
    "\n",
    "headers = {'Content-Type':'application/json', 'Authorization': 'Bearer ' + key1}\n",
    "\n",
    "resp = requests.post(service.scoring_uri, input_data, headers=headers)\n",
    "\n",
    "print(\"POST to url\", service.scoring_uri)\n",
    "print(\"prediction:\", resp.text)"
   ]
  },
  {
   "cell_type": "code",
   "execution_count": 47,
   "metadata": {},
   "outputs": [
    {
     "name": "stdout",
     "output_type": "stream",
     "text": [
      "Container has been successfully cleaned up.\n"
     ]
    }
   ],
   "source": [
    "service.delete()"
   ]
  },
  {
   "cell_type": "code",
   "execution_count": null,
   "metadata": {},
   "outputs": [],
   "source": []
  }
 ],
 "metadata": {
  "kernel_info": {
   "name": "python3"
  },
  "kernelspec": {
   "display_name": "Python 3",
   "language": "python",
   "name": "python3"
  },
  "language_info": {
   "codemirror_mode": {
    "name": "ipython",
    "version": 3
   },
   "file_extension": ".py",
   "mimetype": "text/x-python",
   "name": "python",
   "nbconvert_exporter": "python",
   "pygments_lexer": "ipython3",
   "version": "3.6.9"
  },
  "nteract": {
   "version": "nteract-front-end@1.0.0"
  }
 },
 "nbformat": 4,
 "nbformat_minor": 4
}
