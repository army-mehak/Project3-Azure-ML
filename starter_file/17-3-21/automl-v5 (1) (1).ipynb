{
 "cells": [
  {
   "cell_type": "markdown",
   "metadata": {},
   "source": [
    "# Automated ML\n",
    "\n",
    "TODO: Import Dependencies. In the cell below, import all the dependencies that you will need to complete the project."
   ]
  },
  {
   "cell_type": "markdown",
   "metadata": {},
   "source": [
    "#### --Import Statements--"
   ]
  },
  {
   "cell_type": "code",
   "execution_count": 1,
   "metadata": {},
   "outputs": [],
   "source": [
    "from azureml.core import Workspace, Experiment\n",
    "from azureml.core.compute import ComputeTarget, AmlCompute\n",
    "from azureml.core.compute_target import ComputeTargetException\n",
    "\n",
    "import pandas as pd\n",
    "import numpy as np\n",
    "\n",
    "from sklearn.preprocessing import StandardScaler\n",
    "from sklearn.model_selection import train_test_split\n",
    "\n",
    "from azureml.train.automl import AutoMLConfig\n",
    "from azureml.pipeline.steps import AutoMLStep\n",
    "\n",
    "from azureml.data.dataset_factory import TabularDatasetFactory\n",
    "from azureml.core import Workspace, Datastore\n",
    "from azureml.core.dataset import Dataset\n",
    "\n",
    "from azureml.pipeline.core.run import PipelineRun\n",
    "from azureml.widgets import RunDetails\n",
    "from dataprocess import clean_data"
   ]
  },
  {
   "cell_type": "markdown",
   "metadata": {},
   "source": [
    "## Dataset\n",
    "\n",
    "### Overview\n",
    "TODO: In this markdown cell, give an overview of the dataset you are using. Also mention the task you will be performing.\n",
    "\n",
    "\n",
    "TODO: Get data. In the cell below, write code to access the data you will be using in this project. Remember that the dataset needs to be external."
   ]
  },
  {
   "cell_type": "markdown",
   "metadata": {},
   "source": [
    "The dataset consist information of patient that might be having heart disease. The target column has values 0 and 1 which determines if the patients has heart disease.\n",
    "There are 14 attributes in the dataset as follows:\n",
    "1. age\n",
    "2. sex\n",
    "3. chest pain type\n",
    "4. resting blood pressure\n",
    "5. serum cholestoral in mg/dl\n",
    "6. fasting blood sugar > 120 mg/dl\n",
    "7. resting electrocardiographic results (values 0,1,2)\n",
    "8. maximum heart rate achieved\n",
    "9. exercise induced angina\n",
    "10. oldpeak = ST depression induced by exercise relative to rest\n",
    "11. the slope of the peak exercise ST segment\n",
    "12. number of major vessels (0-3) colored by flourosopy\n",
    "13. thal: 3 = normal; 6 = fixed defect; 7 = reversable defect\n",
    "14. target column, 0 = heart disease not present, 1 = heart disease present"
   ]
  },
  {
   "cell_type": "markdown",
   "metadata": {},
   "source": [
    "After data is pulled, the data is processed for training in the following way:\n",
    "- Standardization was performed on the column bloodpressure, thalac and cholestrol to save on computational cost.\n",
    "- Rows with null values were dropped\n",
    "- The age column was binned into 7 groups of '29-37', '38-45', '46-53', '54-61', '62-69' and '70-77'\n",
    "\n",
    "After processing the data, the test input output and train input output data was set and fed to training."
   ]
  },
  {
   "cell_type": "code",
   "execution_count": 2,
   "metadata": {
    "gather": {
     "logged": 1598423890461
    },
    "jupyter": {
     "outputs_hidden": false,
     "source_hidden": false
    },
    "nteract": {
     "transient": {
      "deleting": false
     }
    }
   },
   "outputs": [],
   "source": [
    "ws = Workspace.from_config()\n",
    "\n",
    "# choose a name for experiment\n",
    "experiment_name = 'automl-exp'\n",
    "\n",
    "experiment=Experiment(ws, experiment_name)"
   ]
  },
  {
   "cell_type": "code",
   "execution_count": 3,
   "metadata": {},
   "outputs": [
    {
     "name": "stdout",
     "output_type": "stream",
     "text": [
      "Found existing cluster, use it.\n",
      "\n",
      "Running\n"
     ]
    }
   ],
   "source": [
    "cpu_cluster_name = \"cpu-cluster2\"\n",
    "\n",
    "try: #--- Verify that cluster does not exist already\n",
    "    cpu_cluster = ComputeTarget(workspace=ws, name=cpu_cluster_name)\n",
    "    print('Found existing cluster, use it.')\n",
    "    \n",
    "except ComputeTargetException:\n",
    "    compute_config = AmlCompute.provisioning_configuration(vm_size='STANDARD_D2_V2', max_nodes=4)\n",
    "    cpu_cluster = ComputeTarget.create(ws, cpu_cluster_name, compute_config)\n",
    "\n",
    "cpu_cluster.wait_for_completion(show_output=True)"
   ]
  },
  {
   "cell_type": "markdown",
   "metadata": {},
   "source": [
    "#### --Dataset Object--"
   ]
  },
  {
   "cell_type": "code",
   "execution_count": 42,
   "metadata": {},
   "outputs": [
    {
     "data": {
      "text/html": [
       "<div>\n",
       "<style scoped>\n",
       "    .dataframe tbody tr th:only-of-type {\n",
       "        vertical-align: middle;\n",
       "    }\n",
       "\n",
       "    .dataframe tbody tr th {\n",
       "        vertical-align: top;\n",
       "    }\n",
       "\n",
       "    .dataframe thead th {\n",
       "        text-align: right;\n",
       "    }\n",
       "</style>\n",
       "<table border=\"1\" class=\"dataframe\">\n",
       "  <thead>\n",
       "    <tr style=\"text-align: right;\">\n",
       "      <th></th>\n",
       "      <th>age</th>\n",
       "      <th>sex</th>\n",
       "      <th>cp</th>\n",
       "      <th>trestbps</th>\n",
       "      <th>chol</th>\n",
       "      <th>fbs</th>\n",
       "      <th>restecg</th>\n",
       "      <th>thalach</th>\n",
       "      <th>exang</th>\n",
       "      <th>oldpeak</th>\n",
       "      <th>slope</th>\n",
       "      <th>ca</th>\n",
       "      <th>thal</th>\n",
       "      <th>target</th>\n",
       "    </tr>\n",
       "  </thead>\n",
       "  <tbody>\n",
       "    <tr>\n",
       "      <th>count</th>\n",
       "      <td>303.00</td>\n",
       "      <td>303.00</td>\n",
       "      <td>303.00</td>\n",
       "      <td>303.00</td>\n",
       "      <td>303.00</td>\n",
       "      <td>303.00</td>\n",
       "      <td>303.00</td>\n",
       "      <td>303.00</td>\n",
       "      <td>303.00</td>\n",
       "      <td>303.00</td>\n",
       "      <td>303.00</td>\n",
       "      <td>303.00</td>\n",
       "      <td>303.00</td>\n",
       "      <td>303.00</td>\n",
       "    </tr>\n",
       "    <tr>\n",
       "      <th>mean</th>\n",
       "      <td>54.37</td>\n",
       "      <td>0.68</td>\n",
       "      <td>0.97</td>\n",
       "      <td>131.62</td>\n",
       "      <td>246.26</td>\n",
       "      <td>0.15</td>\n",
       "      <td>0.53</td>\n",
       "      <td>149.65</td>\n",
       "      <td>0.33</td>\n",
       "      <td>1.04</td>\n",
       "      <td>1.40</td>\n",
       "      <td>0.73</td>\n",
       "      <td>2.31</td>\n",
       "      <td>0.54</td>\n",
       "    </tr>\n",
       "    <tr>\n",
       "      <th>std</th>\n",
       "      <td>9.08</td>\n",
       "      <td>0.47</td>\n",
       "      <td>1.03</td>\n",
       "      <td>17.54</td>\n",
       "      <td>51.83</td>\n",
       "      <td>0.36</td>\n",
       "      <td>0.53</td>\n",
       "      <td>22.91</td>\n",
       "      <td>0.47</td>\n",
       "      <td>1.16</td>\n",
       "      <td>0.62</td>\n",
       "      <td>1.02</td>\n",
       "      <td>0.61</td>\n",
       "      <td>0.50</td>\n",
       "    </tr>\n",
       "    <tr>\n",
       "      <th>min</th>\n",
       "      <td>29.00</td>\n",
       "      <td>0.00</td>\n",
       "      <td>0.00</td>\n",
       "      <td>94.00</td>\n",
       "      <td>126.00</td>\n",
       "      <td>0.00</td>\n",
       "      <td>0.00</td>\n",
       "      <td>71.00</td>\n",
       "      <td>0.00</td>\n",
       "      <td>0.00</td>\n",
       "      <td>0.00</td>\n",
       "      <td>0.00</td>\n",
       "      <td>0.00</td>\n",
       "      <td>0.00</td>\n",
       "    </tr>\n",
       "    <tr>\n",
       "      <th>25%</th>\n",
       "      <td>47.50</td>\n",
       "      <td>0.00</td>\n",
       "      <td>0.00</td>\n",
       "      <td>120.00</td>\n",
       "      <td>211.00</td>\n",
       "      <td>0.00</td>\n",
       "      <td>0.00</td>\n",
       "      <td>133.50</td>\n",
       "      <td>0.00</td>\n",
       "      <td>0.00</td>\n",
       "      <td>1.00</td>\n",
       "      <td>0.00</td>\n",
       "      <td>2.00</td>\n",
       "      <td>0.00</td>\n",
       "    </tr>\n",
       "    <tr>\n",
       "      <th>50%</th>\n",
       "      <td>55.00</td>\n",
       "      <td>1.00</td>\n",
       "      <td>1.00</td>\n",
       "      <td>130.00</td>\n",
       "      <td>240.00</td>\n",
       "      <td>0.00</td>\n",
       "      <td>1.00</td>\n",
       "      <td>153.00</td>\n",
       "      <td>0.00</td>\n",
       "      <td>0.80</td>\n",
       "      <td>1.00</td>\n",
       "      <td>0.00</td>\n",
       "      <td>2.00</td>\n",
       "      <td>1.00</td>\n",
       "    </tr>\n",
       "    <tr>\n",
       "      <th>75%</th>\n",
       "      <td>61.00</td>\n",
       "      <td>1.00</td>\n",
       "      <td>2.00</td>\n",
       "      <td>140.00</td>\n",
       "      <td>274.50</td>\n",
       "      <td>0.00</td>\n",
       "      <td>1.00</td>\n",
       "      <td>166.00</td>\n",
       "      <td>1.00</td>\n",
       "      <td>1.60</td>\n",
       "      <td>2.00</td>\n",
       "      <td>1.00</td>\n",
       "      <td>3.00</td>\n",
       "      <td>1.00</td>\n",
       "    </tr>\n",
       "    <tr>\n",
       "      <th>max</th>\n",
       "      <td>77.00</td>\n",
       "      <td>1.00</td>\n",
       "      <td>3.00</td>\n",
       "      <td>200.00</td>\n",
       "      <td>564.00</td>\n",
       "      <td>1.00</td>\n",
       "      <td>2.00</td>\n",
       "      <td>202.00</td>\n",
       "      <td>1.00</td>\n",
       "      <td>6.20</td>\n",
       "      <td>2.00</td>\n",
       "      <td>4.00</td>\n",
       "      <td>3.00</td>\n",
       "      <td>1.00</td>\n",
       "    </tr>\n",
       "  </tbody>\n",
       "</table>\n",
       "</div>"
      ],
      "text/plain": [
       "         age    sex     cp  trestbps   chol    fbs  restecg  thalach  exang  \\\n",
       "count 303.00 303.00 303.00    303.00 303.00 303.00   303.00   303.00 303.00   \n",
       "mean   54.37   0.68   0.97    131.62 246.26   0.15     0.53   149.65   0.33   \n",
       "std     9.08   0.47   1.03     17.54  51.83   0.36     0.53    22.91   0.47   \n",
       "min    29.00   0.00   0.00     94.00 126.00   0.00     0.00    71.00   0.00   \n",
       "25%    47.50   0.00   0.00    120.00 211.00   0.00     0.00   133.50   0.00   \n",
       "50%    55.00   1.00   1.00    130.00 240.00   0.00     1.00   153.00   0.00   \n",
       "75%    61.00   1.00   2.00    140.00 274.50   0.00     1.00   166.00   1.00   \n",
       "max    77.00   1.00   3.00    200.00 564.00   1.00     2.00   202.00   1.00   \n",
       "\n",
       "       oldpeak  slope     ca   thal  target  \n",
       "count   303.00 303.00 303.00 303.00  303.00  \n",
       "mean      1.04   1.40   0.73   2.31    0.54  \n",
       "std       1.16   0.62   1.02   0.61    0.50  \n",
       "min       0.00   0.00   0.00   0.00    0.00  \n",
       "25%       0.00   1.00   0.00   2.00    0.00  \n",
       "50%       0.80   1.00   0.00   2.00    1.00  \n",
       "75%       1.60   2.00   1.00   3.00    1.00  \n",
       "max       6.20   2.00   4.00   3.00    1.00  "
      ]
     },
     "execution_count": 42,
     "metadata": {},
     "output_type": "execute_result"
    }
   ],
   "source": [
    "key = \"heart-dataset\"\n",
    "description_text = \"Heart Disease dataset\"\n",
    "\n",
    "#-- Dataset Call\n",
    "if key in ws.datasets.keys(): \n",
    "        found = True\n",
    "        dataset = ws.datasets[key] \n",
    "df = dataset.to_pandas_dataframe()\n",
    "df.describe()"
   ]
  },
  {
   "cell_type": "markdown",
   "metadata": {},
   "source": [
    "## --Preprocessing Data--"
   ]
  },
  {
   "cell_type": "code",
   "execution_count": 52,
   "metadata": {},
   "outputs": [],
   "source": [
    "x_df, y_df = clean_data(df)"
   ]
  },
  {
   "cell_type": "code",
   "execution_count": 53,
   "metadata": {},
   "outputs": [
    {
     "name": "stderr",
     "output_type": "stream",
     "text": [
      "WARNING:azureml._base_sdk_common._docstring_wrapper:Method register_pandas_dataframe: This is an experimental method, and may change at any time.<br/>For more information, see https://aka.ms/azuremlexperimental.\n"
     ]
    },
    {
     "name": "stdout",
     "output_type": "stream",
     "text": [
      "Validating arguments.\n",
      "Arguments validated.\n",
      "Successfully obtained datastore reference and path.\n",
      "Uploading file to managed-dataset/bd520736-c6c2-4d27-8427-af41fb843973/\n",
      "Successfully uploaded file to datastore.\n",
      "Creating and registering a new dataset.\n",
      "Successfully created and registered a new dataset.\n"
     ]
    }
   ],
   "source": [
    "### Train Test Split\n",
    "X_train, X_test, Y_train, Y_test = train_test_split(x_df, y_df, test_size=0.30)\n",
    "df_train = pd.concat([X_train,Y_train], axis=1)\n",
    "#print(df_train)\n",
    "ds_train = Dataset.Tabular.register_pandas_dataframe(dataframe= df_train, target= Datastore.get_default(ws), name=\"train_data\")\n",
    "#dataset_1 = pd.to_Tabular(df_train) #Dataset.Tabular.from_pandas_dataframe(df_train)"
   ]
  },
  {
   "cell_type": "markdown",
   "metadata": {},
   "source": [
    "## AutoML Configuration\n",
    "\n",
    "TODO: Explain why you chose the automl settings and cofiguration you used below."
   ]
  },
  {
   "cell_type": "markdown",
   "metadata": {},
   "source": [
    "The automl settings is configured as follows:\n",
    "- Experiment timeout minutes determines how long experiment should run. In this case, its 20 minutes the experiment will run.\n",
    "- Max concurrent iterations determines how many iterations should be running in parallel. We chose 5 iterations for this experiement.\n",
    "- The primary metric to determine the performance of the runs being used here is AUC weighted."
   ]
  },
  {
   "cell_type": "code",
   "execution_count": 54,
   "metadata": {},
   "outputs": [],
   "source": [
    "automl_settings = {\n",
    "    \"experiment_timeout_minutes\": 20,\n",
    "    \"max_concurrent_iterations\": 5,\n",
    "    \"primary_metric\": 'AUC_weighted'\n",
    "}"
   ]
  },
  {
   "cell_type": "markdown",
   "metadata": {},
   "source": [
    "The automl config is configured as follows:\n",
    "- The compute target is set to the one created\n",
    "- The task is classification as the target column has values 0 and 1\n",
    "- Early stopping is enabled\n",
    "- The path and log path is assigned"
   ]
  },
  {
   "cell_type": "code",
   "execution_count": 55,
   "metadata": {
    "gather": {
     "logged": 1598429217746
    },
    "jupyter": {
     "outputs_hidden": false,
     "source_hidden": false
    },
    "nteract": {
     "transient": {
      "deleting": false
     }
    }
   },
   "outputs": [],
   "source": [
    "automl_config = AutoMLConfig(compute_target=cpu_cluster,\n",
    "                             task = 'classification',\n",
    "                             training_data = ds_train,\n",
    "                             label_column_name = \"target\",\n",
    "                             path = './pipeline-project3',\n",
    "                             enable_early_stopping = True,\n",
    "                             featurization = 'auto',\n",
    "                             debug_log = 'automl_errors.log',\n",
    "                             **automl_settings\n",
    "                            )"
   ]
  },
  {
   "cell_type": "code",
   "execution_count": 56,
   "metadata": {
    "gather": {
     "logged": 1598431107951
    },
    "jupyter": {
     "outputs_hidden": false,
     "source_hidden": false
    },
    "nteract": {
     "transient": {
      "deleting": false
     }
    }
   },
   "outputs": [
    {
     "name": "stdout",
     "output_type": "stream",
     "text": [
      "Submitting remote run.\n"
     ]
    },
    {
     "data": {
      "text/html": [
       "<table style=\"width:100%\"><tr><th>Experiment</th><th>Id</th><th>Type</th><th>Status</th><th>Details Page</th><th>Docs Page</th></tr><tr><td>automl-exp</td><td>AutoML_9878cecf-275e-4b33-9afc-454388c7fa66</td><td>automl</td><td>NotStarted</td><td><a href=\"https://ml.azure.com/runs/AutoML_9878cecf-275e-4b33-9afc-454388c7fa66?wsid=/subscriptions/6971f5ac-8af1-446e-8034-05acea24681f/resourcegroups/aml-quickstarts-142882/workspaces/quick-starts-ws-142882&amp;tid=660b3398-b80e-49d2-bc5b-ac1dc93b5254\" target=\"_blank\" rel=\"noopener\">Link to Azure Machine Learning studio</a></td><td><a href=\"https://docs.microsoft.com/en-us/python/api/overview/azure/ml/intro?view=azure-ml-py\" target=\"_blank\" rel=\"noopener\">Link to Documentation</a></td></tr></table>"
      ],
      "text/plain": [
       "<IPython.core.display.HTML object>"
      ]
     },
     "metadata": {},
     "output_type": "display_data"
    }
   ],
   "source": [
    "remote_run = experiment.submit(automl_config)"
   ]
  },
  {
   "cell_type": "markdown",
   "metadata": {},
   "source": [
    "## Run Details\n",
    "\n",
    "OPTIONAL: Write about the different models trained and their performance. Why do you think some models did better than others?\n",
    "\n",
    "TODO: In the cell below, use the `RunDetails` widget to show the different experiments."
   ]
  },
  {
   "cell_type": "code",
   "execution_count": 57,
   "metadata": {
    "gather": {
     "logged": 1598431121770
    },
    "jupyter": {
     "outputs_hidden": false,
     "source_hidden": false
    },
    "nteract": {
     "transient": {
      "deleting": false
     }
    }
   },
   "outputs": [
    {
     "data": {
      "application/vnd.jupyter.widget-view+json": {
       "model_id": "9bf5e9ded27c44abb01b89b6ad0c3d8a",
       "version_major": 2,
       "version_minor": 0
      },
      "text/plain": [
       "_AutoMLWidget(widget_settings={'childWidgetDisplay': 'popup', 'send_telemetry': False, 'log_level': 'INFO', 's…"
      ]
     },
     "metadata": {},
     "output_type": "display_data"
    },
    {
     "data": {
      "application/aml.mini.widget.v1": "{\"status\": \"Completed\", \"workbench_run_details_uri\": \"https://ml.azure.com/runs/AutoML_9878cecf-275e-4b33-9afc-454388c7fa66?wsid=/subscriptions/6971f5ac-8af1-446e-8034-05acea24681f/resourcegroups/aml-quickstarts-142882/workspaces/quick-starts-ws-142882&tid=660b3398-b80e-49d2-bc5b-ac1dc93b5254\", \"run_id\": \"AutoML_9878cecf-275e-4b33-9afc-454388c7fa66\", \"run_properties\": {\"run_id\": \"AutoML_9878cecf-275e-4b33-9afc-454388c7fa66\", \"created_utc\": \"2021-04-16T22:30:56.084321Z\", \"properties\": {\"num_iterations\": \"1000\", \"training_type\": \"TrainFull\", \"acquisition_function\": \"EI\", \"primary_metric\": \"AUC_weighted\", \"train_split\": \"0\", \"acquisition_parameter\": \"0\", \"num_cross_validation\": null, \"target\": \"cpu-cluster2\", \"AMLSettingsJsonString\": \"{\\\"path\\\":null,\\\"name\\\":\\\"automl-exp\\\",\\\"subscription_id\\\":\\\"6971f5ac-8af1-446e-8034-05acea24681f\\\",\\\"resource_group\\\":\\\"aml-quickstarts-142882\\\",\\\"workspace_name\\\":\\\"quick-starts-ws-142882\\\",\\\"region\\\":\\\"southcentralus\\\",\\\"compute_target\\\":\\\"cpu-cluster2\\\",\\\"spark_service\\\":null,\\\"azure_service\\\":\\\"remote\\\",\\\"many_models\\\":false,\\\"pipeline_fetch_max_batch_size\\\":1,\\\"enable_batch_run\\\":false,\\\"enable_run_restructure\\\":false,\\\"iterations\\\":1000,\\\"primary_metric\\\":\\\"AUC_weighted\\\",\\\"task_type\\\":\\\"classification\\\",\\\"data_script\\\":null,\\\"test_size\\\":0.0,\\\"validation_size\\\":0.0,\\\"n_cross_validations\\\":null,\\\"y_min\\\":null,\\\"y_max\\\":null,\\\"num_classes\\\":null,\\\"featurization\\\":\\\"auto\\\",\\\"_ignore_package_version_incompatibilities\\\":false,\\\"is_timeseries\\\":false,\\\"max_cores_per_iteration\\\":1,\\\"max_concurrent_iterations\\\":5,\\\"iteration_timeout_minutes\\\":null,\\\"mem_in_mb\\\":null,\\\"enforce_time_on_windows\\\":false,\\\"experiment_timeout_minutes\\\":20,\\\"experiment_exit_score\\\":null,\\\"whitelist_models\\\":null,\\\"blacklist_algos\\\":[\\\"TensorFlowLinearClassifier\\\",\\\"TensorFlowDNN\\\"],\\\"supported_models\\\":[\\\"SVM\\\",\\\"XGBoostClassifier\\\",\\\"KNN\\\",\\\"LightGBM\\\",\\\"LinearSVM\\\",\\\"SGD\\\",\\\"BernoulliNaiveBayes\\\",\\\"DecisionTree\\\",\\\"MultinomialNaiveBayes\\\",\\\"RandomForest\\\",\\\"TensorFlowDNN\\\",\\\"ExtremeRandomTrees\\\",\\\"GradientBoosting\\\",\\\"LogisticRegression\\\",\\\"TensorFlowLinearClassifier\\\",\\\"AveragedPerceptronClassifier\\\"],\\\"private_models\\\":[],\\\"auto_blacklist\\\":true,\\\"blacklist_samples_reached\\\":false,\\\"exclude_nan_labels\\\":true,\\\"verbosity\\\":20,\\\"_debug_log\\\":\\\"azureml_automl.log\\\",\\\"show_warnings\\\":false,\\\"model_explainability\\\":true,\\\"service_url\\\":null,\\\"sdk_url\\\":null,\\\"sdk_packages\\\":null,\\\"enable_onnx_compatible_models\\\":false,\\\"enable_split_onnx_featurizer_estimator_models\\\":false,\\\"vm_type\\\":\\\"STANDARD_DS3_V2\\\",\\\"telemetry_verbosity\\\":20,\\\"send_telemetry\\\":true,\\\"enable_dnn\\\":false,\\\"scenario\\\":\\\"SDK-1.13.0\\\",\\\"environment_label\\\":null,\\\"save_mlflow\\\":false,\\\"force_text_dnn\\\":false,\\\"enable_feature_sweeping\\\":true,\\\"enable_early_stopping\\\":true,\\\"early_stopping_n_iters\\\":10,\\\"metrics\\\":null,\\\"enable_metric_confidence\\\":false,\\\"enable_ensembling\\\":true,\\\"enable_stack_ensembling\\\":true,\\\"ensemble_iterations\\\":15,\\\"enable_tf\\\":false,\\\"enable_subsampling\\\":null,\\\"subsample_seed\\\":null,\\\"enable_nimbusml\\\":false,\\\"enable_streaming\\\":false,\\\"force_streaming\\\":false,\\\"track_child_runs\\\":true,\\\"allowed_private_models\\\":[],\\\"label_column_name\\\":\\\"target\\\",\\\"weight_column_name\\\":null,\\\"cv_split_column_names\\\":null,\\\"enable_local_managed\\\":false,\\\"_local_managed_run_id\\\":null,\\\"cost_mode\\\":1,\\\"lag_length\\\":0,\\\"metric_operation\\\":\\\"maximize\\\",\\\"preprocess\\\":true}\", \"DataPrepJsonString\": \"{\\\\\\\"training_data\\\\\\\": {\\\\\\\"datasetId\\\\\\\": \\\\\\\"a63859c0-3b40-4bf4-ba04-007bca9fa182\\\\\\\"}, \\\\\\\"datasets\\\\\\\": 0}\", \"EnableSubsampling\": null, \"runTemplate\": \"AutoML\", \"azureml.runsource\": \"automl\", \"display_task_type\": \"classification\", \"dependencies_versions\": \"{\\\"azureml-widgets\\\": \\\"1.26.0\\\", \\\"azureml-train\\\": \\\"1.26.0\\\", \\\"azureml-train-restclients-hyperdrive\\\": \\\"1.26.0\\\", \\\"azureml-train-core\\\": \\\"1.26.0\\\", \\\"azureml-train-automl\\\": \\\"1.26.0\\\", \\\"azureml-train-automl-runtime\\\": \\\"1.26.0\\\", \\\"azureml-train-automl-client\\\": \\\"1.26.0\\\", \\\"azureml-tensorboard\\\": \\\"1.26.0\\\", \\\"azureml-telemetry\\\": \\\"1.26.0\\\", \\\"azureml-sdk\\\": \\\"1.26.0\\\", \\\"azureml-samples\\\": \\\"0+unknown\\\", \\\"azureml-pipeline\\\": \\\"1.26.0\\\", \\\"azureml-pipeline-steps\\\": \\\"1.26.0\\\", \\\"azureml-pipeline-core\\\": \\\"1.26.0\\\", \\\"azureml-opendatasets\\\": \\\"1.26.0\\\", \\\"azureml-model-management-sdk\\\": \\\"1.0.1b6.post1\\\", \\\"azureml-mlflow\\\": \\\"1.26.0\\\", \\\"azureml-interpret\\\": \\\"1.26.0\\\", \\\"azureml-explain-model\\\": \\\"1.26.0\\\", \\\"azureml-defaults\\\": \\\"1.26.0\\\", \\\"azureml-dataset-runtime\\\": \\\"1.26.0\\\", \\\"azureml-dataprep\\\": \\\"2.13.2\\\", \\\"azureml-dataprep-rslex\\\": \\\"1.11.2\\\", \\\"azureml-dataprep-native\\\": \\\"32.0.0\\\", \\\"azureml-datadrift\\\": \\\"1.26.0\\\", \\\"azureml-core\\\": \\\"1.26.0\\\", \\\"azureml-contrib-services\\\": \\\"1.26.0\\\", \\\"azureml-contrib-server\\\": \\\"1.26.0\\\", \\\"azureml-contrib-reinforcementlearning\\\": \\\"1.26.0\\\", \\\"azureml-contrib-pipeline-steps\\\": \\\"1.26.0\\\", \\\"azureml-contrib-notebook\\\": \\\"1.26.0\\\", \\\"azureml-contrib-gbdt\\\": \\\"1.26.0\\\", \\\"azureml-contrib-fairness\\\": \\\"1.26.0\\\", \\\"azureml-contrib-dataset\\\": \\\"1.26.0\\\", \\\"azureml-cli-common\\\": \\\"1.26.0\\\", \\\"azureml-automl-runtime\\\": \\\"1.26.0\\\", \\\"azureml-automl-dnn-nlp\\\": \\\"1.26.0\\\", \\\"azureml-automl-core\\\": \\\"1.26.0\\\", \\\"azureml-accel-models\\\": \\\"1.26.0\\\"}\", \"_aml_system_scenario_identification\": \"Remote.Parent\", \"ClientType\": \"SDK\", \"environment_cpu_name\": \"AzureML-AutoML\", \"environment_cpu_label\": \"prod\", \"environment_gpu_name\": \"AzureML-AutoML-GPU\", \"environment_gpu_label\": \"prod\", \"root_attribution\": \"automl\", \"attribution\": \"AutoML\", \"Orchestrator\": \"AutoML\", \"CancelUri\": \"https://southcentralus.experiments.azureml.net/jasmine/v1.0/subscriptions/6971f5ac-8af1-446e-8034-05acea24681f/resourceGroups/aml-quickstarts-142882/providers/Microsoft.MachineLearningServices/workspaces/quick-starts-ws-142882/experimentids/d22ef0c1-ee6c-4d47-8fe1-7d7986138adc/cancel/AutoML_9878cecf-275e-4b33-9afc-454388c7fa66\", \"ClientSdkVersion\": \"1.25.0\", \"snapshotId\": \"00000000-0000-0000-0000-000000000000\", \"SetupRunId\": \"AutoML_9878cecf-275e-4b33-9afc-454388c7fa66_setup\", \"SetupRunContainerId\": \"dcid.AutoML_9878cecf-275e-4b33-9afc-454388c7fa66_setup\", \"FeaturizationRunJsonPath\": \"featurizer_container.json\", \"FeaturizationRunId\": \"AutoML_9878cecf-275e-4b33-9afc-454388c7fa66_featurize\", \"ProblemInfoJsonString\": \"{\\\"dataset_num_categorical\\\": 0, \\\"is_sparse\\\": true, \\\"subsampling\\\": false, \\\"dataset_classes\\\": 2, \\\"dataset_features\\\": 33, \\\"dataset_samples\\\": 212, \\\"single_frequency_class_detected\\\": false}\", \"ModelExplainRunId\": \"AutoML_9878cecf-275e-4b33-9afc-454388c7fa66_ModelExplain\"}, \"tags\": {\"model_explain_run\": \"best_run\", \"_aml_system_azureml.automlComponent\": \"AutoML\", \"pipeline_id\": \"\", \"score\": \"\", \"predicted_cost\": \"\", \"fit_time\": \"\", \"training_percent\": \"\", \"iteration\": \"\", \"run_preprocessor\": \"\", \"run_algorithm\": \"\", \"dynamic_whitelisting_iterations\": \"<25>;<30>;<32>;\", \"automl_best_child_run_id\": \"AutoML_9878cecf-275e-4b33-9afc-454388c7fa66_38\", \"model_explain_best_run_child_id\": \"AutoML_9878cecf-275e-4b33-9afc-454388c7fa66_38\"}, \"end_time_utc\": \"2021-04-16T22:48:22.211258Z\", \"status\": \"Completed\", \"log_files\": {}, \"log_groups\": [], \"run_duration\": \"0:17:26\", \"run_number\": \"118\", \"run_queued_details\": {\"status\": \"Completed\", \"details\": null}}, \"child_runs\": [{\"run_id\": \"AutoML_9878cecf-275e-4b33-9afc-454388c7fa66_4\", \"run_number\": 122, \"metric\": null, \"status\": \"Completed\", \"run_type\": \"azureml.scriptrun\", \"training_percent\": \"100\", \"start_time\": \"2021-04-16T22:34:47.945075Z\", \"end_time\": \"2021-04-16T22:37:31.174719Z\", \"created_time\": \"2021-04-16T22:34:36.266245Z\", \"created_time_dt\": \"2021-04-16T22:34:36.266245Z\", \"duration\": \"0:02:54\", \"iteration\": \"4\", \"goal\": \"AUC_weighted_max\", \"run_name\": \"MaxAbsScaler, RandomForest\", \"run_properties\": \"copy=True\", \"primary_metric\": 0.9118771, \"best_metric\": 0.91921717}, {\"run_id\": \"AutoML_9878cecf-275e-4b33-9afc-454388c7fa66_2\", \"run_number\": 123, \"metric\": null, \"status\": \"Completed\", \"run_type\": \"azureml.scriptrun\", \"training_percent\": \"100\", \"start_time\": \"2021-04-16T22:34:45.399852Z\", \"end_time\": \"2021-04-16T22:37:27.277778Z\", \"created_time\": \"2021-04-16T22:34:36.273255Z\", \"created_time_dt\": \"2021-04-16T22:34:36.273255Z\", \"duration\": \"0:02:51\", \"iteration\": \"2\", \"goal\": \"AUC_weighted_max\", \"run_name\": \"MaxAbsScaler, RandomForest\", \"run_properties\": \"copy=True\", \"primary_metric\": 0.89011785, \"best_metric\": 0.89801347}, {\"run_id\": \"AutoML_9878cecf-275e-4b33-9afc-454388c7fa66_0\", \"run_number\": 124, \"metric\": null, \"status\": \"Completed\", \"run_type\": \"azureml.scriptrun\", \"training_percent\": \"100\", \"start_time\": \"2021-04-16T22:34:45.512387Z\", \"end_time\": \"2021-04-16T22:37:26.686097Z\", \"created_time\": \"2021-04-16T22:34:36.287976Z\", \"created_time_dt\": \"2021-04-16T22:34:36.287976Z\", \"duration\": \"0:02:50\", \"iteration\": \"0\", \"goal\": \"AUC_weighted_max\", \"run_name\": \"MaxAbsScaler, LightGBM\", \"run_properties\": \"copy=True\", \"primary_metric\": 0.89512626, \"best_metric\": 0.89512626}, {\"run_id\": \"AutoML_9878cecf-275e-4b33-9afc-454388c7fa66_3\", \"run_number\": 125, \"metric\": null, \"status\": \"Completed\", \"run_type\": \"azureml.scriptrun\", \"training_percent\": \"100\", \"start_time\": \"2021-04-16T22:34:47.894339Z\", \"end_time\": \"2021-04-16T22:37:25.135412Z\", \"created_time\": \"2021-04-16T22:34:36.316595Z\", \"created_time_dt\": \"2021-04-16T22:34:36.316595Z\", \"duration\": \"0:02:48\", \"iteration\": \"3\", \"goal\": \"AUC_weighted_max\", \"run_name\": \"MaxAbsScaler, RandomForest\", \"run_properties\": \"copy=True\", \"primary_metric\": 0.91921717, \"best_metric\": 0.91921717}, {\"run_id\": \"AutoML_9878cecf-275e-4b33-9afc-454388c7fa66_1\", \"run_number\": 126, \"metric\": null, \"status\": \"Completed\", \"run_type\": \"azureml.scriptrun\", \"training_percent\": \"100\", \"start_time\": \"2021-04-16T22:34:46.247517Z\", \"end_time\": \"2021-04-16T22:37:22.721851Z\", \"created_time\": \"2021-04-16T22:34:36.404255Z\", \"created_time_dt\": \"2021-04-16T22:34:36.404255Z\", \"duration\": \"0:02:46\", \"iteration\": \"1\", \"goal\": \"AUC_weighted_max\", \"run_name\": \"MaxAbsScaler, XGBoostClassifier\", \"run_properties\": \"copy=True\", \"primary_metric\": 0.89801347, \"best_metric\": 0.89801347}, {\"run_id\": \"AutoML_9878cecf-275e-4b33-9afc-454388c7fa66_5\", \"run_number\": 127, \"metric\": null, \"status\": \"Completed\", \"run_type\": \"azureml.scriptrun\", \"training_percent\": \"100\", \"start_time\": \"2021-04-16T22:37:34.291814Z\", \"end_time\": \"2021-04-16T22:38:27.580906Z\", \"created_time\": \"2021-04-16T22:37:24.665365Z\", \"created_time_dt\": \"2021-04-16T22:37:24.665365Z\", \"duration\": \"0:01:02\", \"iteration\": \"5\", \"goal\": \"AUC_weighted_max\", \"run_name\": \"MaxAbsScaler, ExtremeRandomTrees\", \"run_properties\": \"copy=True\", \"primary_metric\": 0.89068182, \"best_metric\": 0.91921717}, {\"run_id\": \"AutoML_9878cecf-275e-4b33-9afc-454388c7fa66_6\", \"run_number\": 128, \"metric\": null, \"status\": \"Completed\", \"run_type\": \"azureml.scriptrun\", \"training_percent\": \"100\", \"start_time\": \"2021-04-16T22:37:42.407727Z\", \"end_time\": \"2021-04-16T22:39:09.290519Z\", \"created_time\": \"2021-04-16T22:37:31.173466Z\", \"created_time_dt\": \"2021-04-16T22:37:31.173466Z\", \"duration\": \"0:01:38\", \"iteration\": \"6\", \"goal\": \"AUC_weighted_max\", \"run_name\": \"MaxAbsScaler, ExtremeRandomTrees\", \"run_properties\": \"copy=True\", \"primary_metric\": 0.91425926, \"best_metric\": 0.91921717}, {\"run_id\": \"AutoML_9878cecf-275e-4b33-9afc-454388c7fa66_7\", \"run_number\": 129, \"metric\": null, \"status\": \"Completed\", \"run_type\": \"azureml.scriptrun\", \"training_percent\": \"100\", \"start_time\": \"2021-04-16T22:37:42.561545Z\", \"end_time\": \"2021-04-16T22:39:06.350598Z\", \"created_time\": \"2021-04-16T22:37:31.290839Z\", \"created_time_dt\": \"2021-04-16T22:37:31.290839Z\", \"duration\": \"0:01:35\", \"iteration\": \"7\", \"goal\": \"AUC_weighted_max\", \"run_name\": \"MaxAbsScaler, ExtremeRandomTrees\", \"run_properties\": \"copy=True\", \"primary_metric\": 0.90330808, \"best_metric\": 0.91921717}, {\"run_id\": \"AutoML_9878cecf-275e-4b33-9afc-454388c7fa66_8\", \"run_number\": 130, \"metric\": null, \"status\": \"Completed\", \"run_type\": \"azureml.scriptrun\", \"training_percent\": \"100\", \"start_time\": \"2021-04-16T22:37:42.483734Z\", \"end_time\": \"2021-04-16T22:39:13.512839Z\", \"created_time\": \"2021-04-16T22:37:31.311372Z\", \"created_time_dt\": \"2021-04-16T22:37:31.311372Z\", \"duration\": \"0:01:42\", \"iteration\": \"8\", \"goal\": \"AUC_weighted_max\", \"run_name\": \"MaxAbsScaler, RandomForest\", \"run_properties\": \"copy=True\", \"primary_metric\": 0.91175926, \"best_metric\": 0.91921717}, {\"run_id\": \"AutoML_9878cecf-275e-4b33-9afc-454388c7fa66_9\", \"run_number\": 131, \"metric\": null, \"status\": \"Completed\", \"run_type\": \"azureml.scriptrun\", \"training_percent\": \"100\", \"start_time\": \"2021-04-16T22:37:45.115816Z\", \"end_time\": \"2021-04-16T22:38:44.874491Z\", \"created_time\": \"2021-04-16T22:37:37.084343Z\", \"created_time_dt\": \"2021-04-16T22:37:37.084343Z\", \"duration\": \"0:01:07\", \"iteration\": \"9\", \"goal\": \"AUC_weighted_max\", \"run_name\": \"MaxAbsScaler, ExtremeRandomTrees\", \"run_properties\": \"copy=True\", \"primary_metric\": 0.9138468, \"best_metric\": 0.91921717}, {\"run_id\": \"AutoML_9878cecf-275e-4b33-9afc-454388c7fa66_10\", \"run_number\": 132, \"metric\": null, \"status\": \"Completed\", \"run_type\": \"azureml.scriptrun\", \"training_percent\": \"100\", \"start_time\": \"2021-04-16T22:38:43.850088Z\", \"end_time\": \"2021-04-16T22:39:26.616839Z\", \"created_time\": \"2021-04-16T22:38:31.12567Z\", \"created_time_dt\": \"2021-04-16T22:38:31.12567Z\", \"duration\": \"0:00:55\", \"iteration\": \"10\", \"goal\": \"AUC_weighted_max\", \"run_name\": \"MaxAbsScaler, RandomForest\", \"run_properties\": \"copy=True\", \"primary_metric\": 0.87788721, \"best_metric\": 0.91921717}, {\"run_id\": \"AutoML_9878cecf-275e-4b33-9afc-454388c7fa66_11\", \"run_number\": 133, \"metric\": null, \"status\": \"Completed\", \"run_type\": \"azureml.scriptrun\", \"training_percent\": \"100\", \"start_time\": \"2021-04-16T22:38:56.13653Z\", \"end_time\": \"2021-04-16T22:40:46.796279Z\", \"created_time\": \"2021-04-16T22:38:48.404813Z\", \"created_time_dt\": \"2021-04-16T22:38:48.404813Z\", \"duration\": \"0:01:58\", \"iteration\": \"11\", \"goal\": \"AUC_weighted_max\", \"run_name\": \"MaxAbsScaler, RandomForest\", \"run_properties\": \"copy=True\", \"primary_metric\": 0.90097643, \"best_metric\": 0.91921717}, {\"run_id\": \"AutoML_9878cecf-275e-4b33-9afc-454388c7fa66_12\", \"run_number\": 134, \"metric\": null, \"status\": \"Completed\", \"run_type\": \"azureml.scriptrun\", \"training_percent\": \"100\", \"start_time\": \"2021-04-16T22:39:20.121759Z\", \"end_time\": \"2021-04-16T22:40:05.192162Z\", \"created_time\": \"2021-04-16T22:39:09.691353Z\", \"created_time_dt\": \"2021-04-16T22:39:09.691353Z\", \"duration\": \"0:00:55\", \"iteration\": \"12\", \"goal\": \"AUC_weighted_max\", \"run_name\": \"MaxAbsScaler, RandomForest\", \"run_properties\": \"copy=True\", \"primary_metric\": 0.92359428, \"best_metric\": 0.92359428}, {\"run_id\": \"AutoML_9878cecf-275e-4b33-9afc-454388c7fa66_13\", \"run_number\": 135, \"metric\": null, \"status\": \"Completed\", \"run_type\": \"azureml.scriptrun\", \"training_percent\": \"100\", \"start_time\": \"2021-04-16T22:39:22.974797Z\", \"end_time\": \"2021-04-16T22:40:22.088896Z\", \"created_time\": \"2021-04-16T22:39:14.709715Z\", \"created_time_dt\": \"2021-04-16T22:39:14.709715Z\", \"duration\": \"0:01:07\", \"iteration\": \"13\", \"goal\": \"AUC_weighted_max\", \"run_name\": \"StandardScalerWrapper, XGBoostClassifier\", \"run_properties\": \"<azureml.automl.runtime.shared.model_wrappers.StandardScalerWrapper object at 0x7f836ca980f0\", \"primary_metric\": 0.88569865, \"best_metric\": 0.92359428}, {\"run_id\": \"AutoML_9878cecf-275e-4b33-9afc-454388c7fa66_14\", \"run_number\": 136, \"metric\": null, \"status\": \"Completed\", \"run_type\": \"azureml.scriptrun\", \"training_percent\": \"100\", \"start_time\": \"2021-04-16T22:39:28.600454Z\", \"end_time\": \"2021-04-16T22:40:10.196864Z\", \"created_time\": \"2021-04-16T22:39:20.394665Z\", \"created_time_dt\": \"2021-04-16T22:39:20.394665Z\", \"duration\": \"0:00:49\", \"iteration\": \"14\", \"goal\": \"AUC_weighted_max\", \"run_name\": \"MaxAbsScaler, RandomForest\", \"run_properties\": \"copy=True\", \"primary_metric\": 0.90766835, \"best_metric\": 0.92359428}, {\"run_id\": \"AutoML_9878cecf-275e-4b33-9afc-454388c7fa66_15\", \"run_number\": 137, \"metric\": null, \"status\": \"Completed\", \"run_type\": \"azureml.scriptrun\", \"training_percent\": \"100\", \"start_time\": \"2021-04-16T22:39:43.24466Z\", \"end_time\": \"2021-04-16T22:40:26.90253Z\", \"created_time\": \"2021-04-16T22:39:29.991121Z\", \"created_time_dt\": \"2021-04-16T22:39:29.991121Z\", \"duration\": \"0:00:56\", \"iteration\": \"15\", \"goal\": \"AUC_weighted_max\", \"run_name\": \"StandardScalerWrapper, ExtremeRandomTrees\", \"run_properties\": \"<azureml.automl.runtime.shared.model_wrappers.StandardScalerWrapper object at 0x7f5ad5ca1240\", \"primary_metric\": 0.83762205, \"best_metric\": 0.92359428}, {\"run_id\": \"AutoML_9878cecf-275e-4b33-9afc-454388c7fa66_16\", \"run_number\": 138, \"metric\": null, \"status\": \"Completed\", \"run_type\": \"azureml.scriptrun\", \"training_percent\": \"100\", \"start_time\": \"2021-04-16T22:40:20.802839Z\", \"end_time\": \"2021-04-16T22:41:19.048503Z\", \"created_time\": \"2021-04-16T22:40:08.331034Z\", \"created_time_dt\": \"2021-04-16T22:40:08.331034Z\", \"duration\": \"0:01:10\", \"iteration\": \"16\", \"goal\": \"AUC_weighted_max\", \"run_name\": \"MaxAbsScaler, ExtremeRandomTrees\", \"run_properties\": \"copy=True\", \"primary_metric\": 0.90242845, \"best_metric\": 0.92359428}, {\"run_id\": \"AutoML_9878cecf-275e-4b33-9afc-454388c7fa66_17\", \"run_number\": 139, \"metric\": null, \"status\": \"Completed\", \"run_type\": \"azureml.scriptrun\", \"training_percent\": \"100\", \"start_time\": \"2021-04-16T22:40:24.774552Z\", \"end_time\": \"2021-04-16T22:41:19.577361Z\", \"created_time\": \"2021-04-16T22:40:13.946127Z\", \"created_time_dt\": \"2021-04-16T22:40:13.946127Z\", \"duration\": \"0:01:05\", \"iteration\": \"17\", \"goal\": \"AUC_weighted_max\", \"run_name\": \"MaxAbsScaler, ExtremeRandomTrees\", \"run_properties\": \"copy=True\", \"primary_metric\": 0.91512626, \"best_metric\": 0.92359428}, {\"run_id\": \"AutoML_9878cecf-275e-4b33-9afc-454388c7fa66_18\", \"run_number\": 140, \"metric\": null, \"status\": \"Completed\", \"run_type\": \"azureml.scriptrun\", \"training_percent\": \"100\", \"start_time\": \"2021-04-16T22:40:36.168445Z\", \"end_time\": \"2021-04-16T22:41:36.049645Z\", \"created_time\": \"2021-04-16T22:40:25.563744Z\", \"created_time_dt\": \"2021-04-16T22:40:25.563744Z\", \"duration\": \"0:01:10\", \"iteration\": \"18\", \"goal\": \"AUC_weighted_max\", \"run_name\": \"MaxAbsScaler, RandomForest\", \"run_properties\": \"copy=True\", \"primary_metric\": 0.90138889, \"best_metric\": 0.92359428}, {\"run_id\": \"AutoML_9878cecf-275e-4b33-9afc-454388c7fa66_19\", \"run_number\": 141, \"metric\": null, \"status\": \"Completed\", \"run_type\": \"azureml.scriptrun\", \"training_percent\": \"100\", \"start_time\": \"2021-04-16T22:40:42.06727Z\", \"end_time\": \"2021-04-16T22:41:35.778273Z\", \"created_time\": \"2021-04-16T22:40:30.775103Z\", \"created_time_dt\": \"2021-04-16T22:40:30.775103Z\", \"duration\": \"0:01:05\", \"iteration\": \"19\", \"goal\": \"AUC_weighted_max\", \"run_name\": \"MaxAbsScaler, LightGBM\", \"run_properties\": \"copy=True\", \"primary_metric\": 0.89140572, \"best_metric\": 0.92359428}, {\"run_id\": \"AutoML_9878cecf-275e-4b33-9afc-454388c7fa66_20\", \"run_number\": 142, \"metric\": null, \"status\": \"Completed\", \"run_type\": \"azureml.scriptrun\", \"training_percent\": \"100\", \"start_time\": \"2021-04-16T22:41:06.9234Z\", \"end_time\": \"2021-04-16T22:41:48.364616Z\", \"created_time\": \"2021-04-16T22:40:50.560337Z\", \"created_time_dt\": \"2021-04-16T22:40:50.560337Z\", \"duration\": \"0:00:57\", \"iteration\": \"20\", \"goal\": \"AUC_weighted_max\", \"run_name\": \"MaxAbsScaler, LightGBM\", \"run_properties\": \"copy=True\", \"primary_metric\": 0.89390572, \"best_metric\": 0.92359428}, {\"run_id\": \"AutoML_9878cecf-275e-4b33-9afc-454388c7fa66_21\", \"run_number\": 143, \"metric\": null, \"status\": \"Completed\", \"run_type\": \"azureml.scriptrun\", \"training_percent\": \"100\", \"start_time\": \"2021-04-16T22:41:35.979812Z\", \"end_time\": \"2021-04-16T22:42:28.850061Z\", \"created_time\": \"2021-04-16T22:41:22.757839Z\", \"created_time_dt\": \"2021-04-16T22:41:22.757839Z\", \"duration\": \"0:01:06\", \"iteration\": \"21\", \"goal\": \"AUC_weighted_max\", \"run_name\": \"MaxAbsScaler, LightGBM\", \"run_properties\": \"copy=True\", \"primary_metric\": 0.90211279, \"best_metric\": 0.92359428}, {\"run_id\": \"AutoML_9878cecf-275e-4b33-9afc-454388c7fa66_22\", \"run_number\": 144, \"metric\": null, \"status\": \"Completed\", \"run_type\": \"azureml.scriptrun\", \"training_percent\": \"100\", \"start_time\": \"2021-04-16T22:41:36.332044Z\", \"end_time\": \"2021-04-16T22:42:28.66206Z\", \"created_time\": \"2021-04-16T22:41:22.830023Z\", \"created_time_dt\": \"2021-04-16T22:41:22.830023Z\", \"duration\": \"0:01:05\", \"iteration\": \"22\", \"goal\": \"AUC_weighted_max\", \"run_name\": \"MaxAbsScaler, LightGBM\", \"run_properties\": \"copy=True\", \"primary_metric\": 0.90885522, \"best_metric\": 0.92359428}, {\"run_id\": \"AutoML_9878cecf-275e-4b33-9afc-454388c7fa66_23\", \"run_number\": 145, \"metric\": null, \"status\": \"Completed\", \"run_type\": \"azureml.scriptrun\", \"training_percent\": \"100\", \"start_time\": \"2021-04-16T22:41:48.568331Z\", \"end_time\": \"2021-04-16T22:42:31.310396Z\", \"created_time\": \"2021-04-16T22:41:38.22101Z\", \"created_time_dt\": \"2021-04-16T22:41:38.22101Z\", \"duration\": \"0:00:53\", \"iteration\": \"23\", \"goal\": \"AUC_weighted_max\", \"run_name\": \"MaxAbsScaler, LogisticRegression\", \"run_properties\": \"copy=True\", \"primary_metric\": 0.90897306, \"best_metric\": 0.92359428}, {\"run_id\": \"AutoML_9878cecf-275e-4b33-9afc-454388c7fa66_24\", \"run_number\": 146, \"metric\": null, \"status\": \"Completed\", \"run_type\": \"azureml.scriptrun\", \"training_percent\": \"100\", \"start_time\": \"2021-04-16T22:41:48.912866Z\", \"end_time\": \"2021-04-16T22:42:31.865035Z\", \"created_time\": \"2021-04-16T22:41:38.227761Z\", \"created_time_dt\": \"2021-04-16T22:41:38.227761Z\", \"duration\": \"0:00:53\", \"iteration\": \"24\", \"goal\": \"AUC_weighted_max\", \"run_name\": \"MaxAbsScaler, LogisticRegression\", \"run_properties\": \"copy=True\", \"primary_metric\": 0.9036532, \"best_metric\": 0.92359428}, {\"run_id\": \"AutoML_9878cecf-275e-4b33-9afc-454388c7fa66_25\", \"run_number\": 147, \"metric\": null, \"status\": \"Completed\", \"run_type\": \"azureml.scriptrun\", \"training_percent\": \"100\", \"start_time\": \"2021-04-16T22:41:59.723307Z\", \"end_time\": \"2021-04-16T22:42:43.888262Z\", \"created_time\": \"2021-04-16T22:41:51.589841Z\", \"created_time_dt\": \"2021-04-16T22:41:51.589841Z\", \"duration\": \"0:00:52\", \"iteration\": \"25\", \"goal\": \"AUC_weighted_max\", \"run_name\": \"MaxAbsScaler, RandomForest\", \"run_properties\": \"copy=True\", \"primary_metric\": 0.88921717, \"best_metric\": 0.92359428}, {\"run_id\": \"AutoML_9878cecf-275e-4b33-9afc-454388c7fa66_27\", \"run_number\": 148, \"metric\": null, \"status\": \"Completed\", \"run_type\": \"azureml.scriptrun\", \"training_percent\": \"100\", \"start_time\": \"2021-04-16T22:42:49.506489Z\", \"end_time\": \"2021-04-16T22:45:16.052355Z\", \"created_time\": \"2021-04-16T22:42:31.213388Z\", \"created_time_dt\": \"2021-04-16T22:42:31.213388Z\", \"duration\": \"0:02:44\", \"iteration\": \"27\", \"goal\": \"AUC_weighted_max\", \"run_name\": \"MaxAbsScaler, LogisticRegression\", \"run_properties\": \"copy=True\", \"primary_metric\": 0.8979798, \"best_metric\": 0.92359428}, {\"run_id\": \"AutoML_9878cecf-275e-4b33-9afc-454388c7fa66_26\", \"run_number\": 149, \"metric\": null, \"status\": \"Completed\", \"run_type\": \"azureml.scriptrun\", \"training_percent\": \"100\", \"start_time\": \"2021-04-16T22:42:49.823045Z\", \"end_time\": \"2021-04-16T22:45:16.498658Z\", \"created_time\": \"2021-04-16T22:42:31.244817Z\", \"created_time_dt\": \"2021-04-16T22:42:31.244817Z\", \"duration\": \"0:02:45\", \"iteration\": \"26\", \"goal\": \"AUC_weighted_max\", \"run_name\": \"MaxAbsScaler, LogisticRegression\", \"run_properties\": \"copy=True\", \"primary_metric\": 0.89888889, \"best_metric\": 0.92359428}, {\"run_id\": \"AutoML_9878cecf-275e-4b33-9afc-454388c7fa66_28\", \"run_number\": 150, \"metric\": null, \"status\": \"Completed\", \"run_type\": \"azureml.scriptrun\", \"training_percent\": \"100\", \"start_time\": \"2021-04-16T22:42:50.170642Z\", \"end_time\": \"2021-04-16T22:45:16.913767Z\", \"created_time\": \"2021-04-16T22:42:36.872574Z\", \"created_time_dt\": \"2021-04-16T22:42:36.872574Z\", \"duration\": \"0:02:40\", \"iteration\": \"28\", \"goal\": \"AUC_weighted_max\", \"run_name\": \"MaxAbsScaler, LightGBM\", \"run_properties\": \"copy=True\", \"primary_metric\": 0.92210438, \"best_metric\": 0.92359428}, {\"run_id\": \"AutoML_9878cecf-275e-4b33-9afc-454388c7fa66_29\", \"run_number\": 151, \"metric\": null, \"status\": \"Completed\", \"run_type\": \"azureml.scriptrun\", \"training_percent\": \"100\", \"start_time\": \"2021-04-16T22:42:49.864703Z\", \"end_time\": \"2021-04-16T22:45:19.319296Z\", \"created_time\": \"2021-04-16T22:42:36.993096Z\", \"created_time_dt\": \"2021-04-16T22:42:36.993096Z\", \"duration\": \"0:02:42\", \"iteration\": \"29\", \"goal\": \"AUC_weighted_max\", \"run_name\": \"MaxAbsScaler, LightGBM\", \"run_properties\": \"copy=True\", \"primary_metric\": 0.8937037, \"best_metric\": 0.92359428}, {\"run_id\": \"AutoML_9878cecf-275e-4b33-9afc-454388c7fa66_30\", \"run_number\": 152, \"metric\": null, \"status\": \"Completed\", \"run_type\": \"azureml.scriptrun\", \"training_percent\": \"100\", \"start_time\": \"2021-04-16T22:42:55.643066Z\", \"end_time\": \"2021-04-16T22:45:19.571157Z\", \"created_time\": \"2021-04-16T22:42:47.128828Z\", \"created_time_dt\": \"2021-04-16T22:42:47.128828Z\", \"duration\": \"0:02:32\", \"iteration\": \"30\", \"goal\": \"AUC_weighted_max\", \"run_name\": \"SparseNormalizer, RandomForest\", \"run_properties\": \"<azureml.automl.runtime.shared.model_wrappers.SparseNormalizer object at 0x7fafc5218ac8\", \"primary_metric\": 0.88830808, \"best_metric\": 0.92359428}, {\"run_id\": \"AutoML_9878cecf-275e-4b33-9afc-454388c7fa66_31\", \"run_number\": 153, \"metric\": null, \"status\": \"Completed\", \"run_type\": \"azureml.scriptrun\", \"training_percent\": \"100\", \"start_time\": \"2021-04-16T22:45:30.636995Z\", \"end_time\": \"2021-04-16T22:46:13.747825Z\", \"created_time\": \"2021-04-16T22:45:17.99244Z\", \"created_time_dt\": \"2021-04-16T22:45:17.99244Z\", \"duration\": \"0:00:55\", \"iteration\": \"31\", \"goal\": \"AUC_weighted_max\", \"run_name\": \"SparseNormalizer, XGBoostClassifier\", \"run_properties\": \"<azureml.automl.runtime.shared.model_wrappers.SparseNormalizer object at 0x7f3c2cc0cda0\", \"primary_metric\": 0.90179293, \"best_metric\": 0.92359428}, {\"run_id\": \"AutoML_9878cecf-275e-4b33-9afc-454388c7fa66_33\", \"run_number\": 154, \"metric\": null, \"status\": \"Canceled\", \"run_type\": \"azureml.scriptrun\", \"training_percent\": \"100\", \"start_time\": \"2021-04-16T22:45:37.986596Z\", \"end_time\": \"2021-04-16T22:46:22.928705Z\", \"created_time\": \"2021-04-16T22:45:23.980367Z\", \"created_time_dt\": \"2021-04-16T22:45:23.980367Z\", \"duration\": \"0:00:58\", \"iteration\": \"33\", \"goal\": \"AUC_weighted_max\", \"run_name\": \"SparseNormalizer, XGBoostClassifier\", \"run_properties\": \"<azureml.automl.runtime.shared.model_wrappers.SparseNormalizer object at 0x7f00ab754eb8\", \"primary_metric\": 0.90068182, \"best_metric\": 0.92359428}, {\"run_id\": \"AutoML_9878cecf-275e-4b33-9afc-454388c7fa66_34\", \"run_number\": 155, \"metric\": null, \"status\": \"Completed\", \"run_type\": \"azureml.scriptrun\", \"training_percent\": \"100\", \"start_time\": \"2021-04-16T22:45:32.346594Z\", \"end_time\": \"2021-04-16T22:46:11.032982Z\", \"created_time\": \"2021-04-16T22:45:23.994342Z\", \"created_time_dt\": \"2021-04-16T22:45:23.994342Z\", \"duration\": \"0:00:47\", \"iteration\": \"34\", \"goal\": \"AUC_weighted_max\", \"run_name\": \"SparseNormalizer, XGBoostClassifier\", \"run_properties\": \"<azureml.automl.runtime.shared.model_wrappers.SparseNormalizer object at 0x7f010f926a20\", \"primary_metric\": 0.89411616, \"best_metric\": 0.92359428}, {\"run_id\": \"AutoML_9878cecf-275e-4b33-9afc-454388c7fa66_35\", \"run_number\": 156, \"metric\": null, \"status\": \"Completed\", \"run_type\": \"azureml.scriptrun\", \"training_percent\": \"100\", \"start_time\": \"2021-04-16T22:45:36.251421Z\", \"end_time\": \"2021-04-16T22:46:22.355028Z\", \"created_time\": \"2021-04-16T22:45:24.014822Z\", \"created_time_dt\": \"2021-04-16T22:45:24.014822Z\", \"duration\": \"0:00:58\", \"iteration\": \"35\", \"goal\": \"AUC_weighted_max\", \"run_name\": \"StandardScalerWrapper, XGBoostClassifier\", \"run_properties\": \"<azureml.automl.runtime.shared.model_wrappers.StandardScalerWrapper object at 0x7fa70dd893c8\", \"primary_metric\": 0.89808081, \"best_metric\": 0.92359428}, {\"run_id\": \"AutoML_9878cecf-275e-4b33-9afc-454388c7fa66_32\", \"run_number\": 157, \"metric\": null, \"status\": \"Completed\", \"run_type\": \"azureml.scriptrun\", \"training_percent\": \"100\", \"start_time\": \"2021-04-16T22:45:33.369515Z\", \"end_time\": \"2021-04-16T22:46:21.37178Z\", \"created_time\": \"2021-04-16T22:45:23.981059Z\", \"created_time_dt\": \"2021-04-16T22:45:23.981059Z\", \"duration\": \"0:00:57\", \"iteration\": \"32\", \"goal\": \"AUC_weighted_max\", \"run_name\": \"SparseNormalizer, RandomForest\", \"run_properties\": \"<azureml.automl.runtime.shared.model_wrappers.SparseNormalizer object at 0x7fa1ff6c3940\", \"primary_metric\": 0.90267677, \"best_metric\": 0.92359428}, {\"run_id\": \"AutoML_9878cecf-275e-4b33-9afc-454388c7fa66_36\", \"run_number\": 158, \"metric\": null, \"status\": \"Canceled\", \"run_type\": \"azureml.scriptrun\", \"training_percent\": \"100\", \"start_time\": \"2021-04-16T22:46:12.996969Z\", \"end_time\": \"2021-04-16T22:46:30.66464Z\", \"created_time\": \"2021-04-16T22:46:12.996969Z\", \"created_time_dt\": \"2021-04-16T22:46:12.996969Z\", \"duration\": \"0:00:17\", \"iteration\": \"36\", \"goal\": null, \"run_name\": \"Canceled\", \"run_properties\": null}, {\"run_id\": \"AutoML_9878cecf-275e-4b33-9afc-454388c7fa66_37\", \"run_number\": 159, \"metric\": null, \"status\": \"Canceled\", \"run_type\": \"azureml.scriptrun\", \"training_percent\": \"100\", \"start_time\": \"2021-04-16T22:46:25.90531Z\", \"end_time\": \"2021-04-16T22:46:37.99692Z\", \"created_time\": \"2021-04-16T22:46:17.525209Z\", \"created_time_dt\": \"2021-04-16T22:46:17.525209Z\", \"duration\": \"0:00:20\", \"iteration\": \"37\", \"goal\": null, \"run_name\": \"Canceled\", \"run_properties\": null}, {\"run_id\": \"AutoML_9878cecf-275e-4b33-9afc-454388c7fa66_38\", \"run_number\": 160, \"metric\": null, \"status\": \"Completed\", \"run_type\": \"azureml.scriptrun\", \"training_percent\": \"100\", \"start_time\": \"2021-04-16T22:46:55.392406Z\", \"end_time\": \"2021-04-16T22:48:16.191987Z\", \"created_time\": \"2021-04-16T22:46:39.571836Z\", \"created_time_dt\": \"2021-04-16T22:46:39.571836Z\", \"duration\": \"0:01:36\", \"iteration\": \"38\", \"goal\": \"AUC_weighted_max\", \"run_name\": \"VotingEnsemble\", \"run_properties\": \"classification_labels=None,\\n                              estimators=[('12',\\n                                           Pipeline(memory=None,\\n                                                    steps=[('maxabsscaler',\\n                                                            MaxAbsScaler(copy=True\", \"primary_metric\": 0.93555556, \"best_metric\": 0.93555556}, {\"run_id\": \"AutoML_9878cecf-275e-4b33-9afc-454388c7fa66_39\", \"run_number\": 161, \"metric\": null, \"status\": \"Completed\", \"run_type\": \"azureml.scriptrun\", \"training_percent\": \"100\", \"start_time\": \"2021-04-16T22:46:55.159336Z\", \"end_time\": \"2021-04-16T22:48:16.048367Z\", \"created_time\": \"2021-04-16T22:46:39.603271Z\", \"created_time_dt\": \"2021-04-16T22:46:39.603271Z\", \"duration\": \"0:01:36\", \"iteration\": \"39\", \"goal\": \"AUC_weighted_max\", \"run_name\": \"StackEnsemble\", \"run_properties\": \"base_learners=[('12',\\n                                        Pipeline(memory=None,\\n                                                 steps=[('maxabsscaler',\\n                                                         MaxAbsScaler(copy=True\", \"primary_metric\": 0.91912458, \"best_metric\": 0.93555556}], \"children_metrics\": {\"categories\": [0], \"series\": {\"log_loss\": [{\"categories\": [\"0\", \"1\", \"2\", \"3\", \"4\", \"5\", \"6\", \"7\", \"8\", \"9\", \"10\", \"11\", \"12\", \"13\", \"14\", \"15\", \"16\", \"17\", \"18\", \"19\", \"20\", \"21\", \"22\", \"23\", \"24\", \"25\", \"26\", \"27\", \"28\", \"29\", \"30\", \"31\", \"32\", \"33\", \"34\", \"35\", \"38\", \"39\"], \"mode\": \"markers\", \"name\": \"log_loss\", \"stepped\": false, \"type\": \"scatter\", \"data\": [0.4940508040597023, 0.46066568376332534, 0.4293478573148106, 0.37576075600170217, 0.42424004290263734, 0.5814725605850332, 0.3975359490506635, 0.42569036521655523, 0.4900781606190214, 0.4516260486694986, 0.4751903629425621, 0.458354462390833, 0.5577968284473165, 0.5095554591421824, 0.6888642348300744, 1.0825559599852974, 0.4468454535250926, 0.3919620339825428, 0.46991745821833747, 0.4048653711760365, 0.4037504506049697, 0.39386614254081387, 0.3929867357489807, 0.42397362505348496, 0.46843971982302, 0.5494251794547261, 0.4802996252691779, 0.48250004097418486, 0.4156933651096952, 0.39036191094154704, 0.517347276991069, 0.41835240611313224, 0.5381550344670686, 0.4052206508587181, 0.42477438832848496, 0.42930943807651867, 0.4239411880050629, 0.5085599526446335]}, {\"categories\": [\"0\", \"1\", \"2\", \"3\", \"4\", \"5\", \"6\", \"7\", \"8\", \"9\", \"10\", \"11\", \"12\", \"13\", \"14\", \"15\", \"16\", \"17\", \"18\", \"19\", \"20\", \"21\", \"22\", \"23\", \"24\", \"25\", \"26\", \"27\", \"28\", \"29\", \"30\", \"31\", \"32\", \"33\", \"34\", \"35\", \"38\", \"39\"], \"mode\": \"lines\", \"name\": \"log_loss_min\", \"stepped\": true, \"type\": \"scatter\", \"data\": [0.4940508040597023, 0.46066568376332534, 0.4293478573148106, 0.37576075600170217, 0.37576075600170217, 0.37576075600170217, 0.37576075600170217, 0.37576075600170217, 0.37576075600170217, 0.37576075600170217, 0.37576075600170217, 0.37576075600170217, 0.37576075600170217, 0.37576075600170217, 0.37576075600170217, 0.37576075600170217, 0.37576075600170217, 0.37576075600170217, 0.37576075600170217, 0.37576075600170217, 0.37576075600170217, 0.37576075600170217, 0.37576075600170217, 0.37576075600170217, 0.37576075600170217, 0.37576075600170217, 0.37576075600170217, 0.37576075600170217, 0.37576075600170217, 0.37576075600170217, 0.37576075600170217, 0.37576075600170217, 0.37576075600170217, 0.37576075600170217, 0.37576075600170217, 0.37576075600170217, 0.37576075600170217, 0.37576075600170217]}], \"f1_score_weighted\": [{\"categories\": [\"0\", \"1\", \"2\", \"3\", \"4\", \"5\", \"6\", \"7\", \"8\", \"9\", \"10\", \"11\", \"12\", \"13\", \"14\", \"15\", \"16\", \"17\", \"18\", \"19\", \"20\", \"21\", \"22\", \"23\", \"24\", \"25\", \"26\", \"27\", \"28\", \"29\", \"30\", \"31\", \"32\", \"33\", \"34\", \"35\", \"38\", \"39\"], \"mode\": \"markers\", \"name\": \"f1_score_weighted\", \"stepped\": false, \"type\": \"scatter\", \"data\": [0.8021756769601888, 0.7971311486433492, 0.8049751522197169, 0.8445324874893643, 0.8284560373519184, 0.8097710452509599, 0.8492812248076937, 0.8447233302307818, 0.7988493076654721, 0.8302116998152611, 0.8114867498149092, 0.8183596815432864, 0.8436109219547097, 0.820657875442522, 0.8246177122030296, 0.8124921052048861, 0.8147801756580865, 0.8493435425541168, 0.8308745125964807, 0.8249867192479439, 0.8192786438166465, 0.8202602233862022, 0.8149948696279479, 0.800407778729741, 0.8007358716894128, 0.8206017291886857, 0.7960605470140882, 0.8006454065989477, 0.8248560745900226, 0.8192041063436944, 0.8054562019893827, 0.8093837850304585, 0.8099790875090761, 0.8430987709494607, 0.7991782822877368, 0.8157243941379273, 0.8440101782027529, 0.6476151199598686]}, {\"categories\": [\"0\", \"1\", \"2\", \"3\", \"4\", \"5\", \"6\", \"7\", \"8\", \"9\", \"10\", \"11\", \"12\", \"13\", \"14\", \"15\", \"16\", \"17\", \"18\", \"19\", \"20\", \"21\", \"22\", \"23\", \"24\", \"25\", \"26\", \"27\", \"28\", \"29\", \"30\", \"31\", \"32\", \"33\", \"34\", \"35\", \"38\", \"39\"], \"mode\": \"lines\", \"name\": \"f1_score_weighted_max\", \"stepped\": true, \"type\": \"scatter\", \"data\": [0.8021756769601888, 0.8021756769601888, 0.8049751522197169, 0.8445324874893643, 0.8445324874893643, 0.8445324874893643, 0.8492812248076937, 0.8492812248076937, 0.8492812248076937, 0.8492812248076937, 0.8492812248076937, 0.8492812248076937, 0.8492812248076937, 0.8492812248076937, 0.8492812248076937, 0.8492812248076937, 0.8492812248076937, 0.8493435425541168, 0.8493435425541168, 0.8493435425541168, 0.8493435425541168, 0.8493435425541168, 0.8493435425541168, 0.8493435425541168, 0.8493435425541168, 0.8493435425541168, 0.8493435425541168, 0.8493435425541168, 0.8493435425541168, 0.8493435425541168, 0.8493435425541168, 0.8493435425541168, 0.8493435425541168, 0.8493435425541168, 0.8493435425541168, 0.8493435425541168, 0.8493435425541168, 0.8493435425541168]}], \"recall_score_macro\": [{\"categories\": [\"0\", \"1\", \"2\", \"3\", \"4\", \"5\", \"6\", \"7\", \"8\", \"9\", \"10\", \"11\", \"12\", \"13\", \"14\", \"15\", \"16\", \"17\", \"18\", \"19\", \"20\", \"21\", \"22\", \"23\", \"24\", \"25\", \"26\", \"27\", \"28\", \"29\", \"30\", \"31\", \"32\", \"33\", \"34\", \"35\", \"38\", \"39\"], \"mode\": \"markers\", \"name\": \"recall_score_macro\", \"stepped\": false, \"type\": \"scatter\", \"data\": [0.8029040404040405, 0.7975252525252524, 0.7990909090909091, 0.8437373737373737, 0.8243686868686868, 0.8031060606060606, 0.8492929292929293, 0.8439393939393938, 0.7989141414141414, 0.830858585858586, 0.8100252525252525, 0.8108585858585858, 0.8418939393939393, 0.8198484848484847, 0.8230050505050505, 0.8028787878787877, 0.8116919191919191, 0.8481060606060605, 0.8273484848484849, 0.8249242424242424, 0.8143686868686869, 0.8174242424242424, 0.8129797979797979, 0.8008585858585858, 0.8000252525252526, 0.8195454545454546, 0.7950252525252525, 0.7991919191919192, 0.8193939393939393, 0.8106818181818181, 0.8013383838383838, 0.8115151515151515, 0.8115404040404041, 0.8390151515151516, 0.8010353535353534, 0.8161363636363637, 0.8437373737373737, 0.7165404040404041]}, {\"categories\": [\"0\", \"1\", \"2\", \"3\", \"4\", \"5\", \"6\", \"7\", \"8\", \"9\", \"10\", \"11\", \"12\", \"13\", \"14\", \"15\", \"16\", \"17\", \"18\", \"19\", \"20\", \"21\", \"22\", \"23\", \"24\", \"25\", \"26\", \"27\", \"28\", \"29\", \"30\", \"31\", \"32\", \"33\", \"34\", \"35\", \"38\", \"39\"], \"mode\": \"lines\", \"name\": \"recall_score_macro_max\", \"stepped\": true, \"type\": \"scatter\", \"data\": [0.8029040404040405, 0.8029040404040405, 0.8029040404040405, 0.8437373737373737, 0.8437373737373737, 0.8437373737373737, 0.8492929292929293, 0.8492929292929293, 0.8492929292929293, 0.8492929292929293, 0.8492929292929293, 0.8492929292929293, 0.8492929292929293, 0.8492929292929293, 0.8492929292929293, 0.8492929292929293, 0.8492929292929293, 0.8492929292929293, 0.8492929292929293, 0.8492929292929293, 0.8492929292929293, 0.8492929292929293, 0.8492929292929293, 0.8492929292929293, 0.8492929292929293, 0.8492929292929293, 0.8492929292929293, 0.8492929292929293, 0.8492929292929293, 0.8492929292929293, 0.8492929292929293, 0.8492929292929293, 0.8492929292929293, 0.8492929292929293, 0.8492929292929293, 0.8492929292929293, 0.8492929292929293, 0.8492929292929293]}], \"precision_score_macro\": [{\"categories\": [\"0\", \"1\", \"2\", \"3\", \"4\", \"5\", \"6\", \"7\", \"8\", \"9\", \"10\", \"11\", \"12\", \"13\", \"14\", \"15\", \"16\", \"17\", \"18\", \"19\", \"20\", \"21\", \"22\", \"23\", \"24\", \"25\", \"26\", \"27\", \"28\", \"29\", \"30\", \"31\", \"32\", \"33\", \"34\", \"35\", \"38\", \"39\"], \"mode\": \"markers\", \"name\": \"precision_score_macro\", \"stepped\": false, \"type\": \"scatter\", \"data\": [0.8038397713397712, 0.7986124986124985, 0.8093647324897326, 0.8498809523809523, 0.8356585081585081, 0.8185003885003885, 0.852858669108669, 0.845809052059052, 0.8120530164280163, 0.8342900155400155, 0.8191869241869242, 0.8285606142223789, 0.8504316516816518, 0.8289486901986901, 0.8343376068376068, 0.8149281845605376, 0.8204595404595404, 0.8524715562215561, 0.8319733044733045, 0.8313325563325563, 0.8283456820956822, 0.8231272893772894, 0.8250763125763125, 0.8100091575091575, 0.8069860694860695, 0.8247510822510822, 0.8014052614052615, 0.8092624042624044, 0.8302787490287489, 0.824872774284539, 0.8094932844932844, 0.8233837649278826, 0.8232151835093011, 0.8576281357531357, 0.819300348344466, 0.8208821733821733, 0.8511396936396937, 0.617867549117549]}, {\"categories\": [\"0\", \"1\", \"2\", \"3\", \"4\", \"5\", \"6\", \"7\", \"8\", \"9\", \"10\", \"11\", \"12\", \"13\", \"14\", \"15\", \"16\", \"17\", \"18\", \"19\", \"20\", \"21\", \"22\", \"23\", \"24\", \"25\", \"26\", \"27\", \"28\", \"29\", \"30\", \"31\", \"32\", \"33\", \"34\", \"35\", \"38\", \"39\"], \"mode\": \"lines\", \"name\": \"precision_score_macro_max\", \"stepped\": true, \"type\": \"scatter\", \"data\": [0.8038397713397712, 0.8038397713397712, 0.8093647324897326, 0.8498809523809523, 0.8498809523809523, 0.8498809523809523, 0.852858669108669, 0.852858669108669, 0.852858669108669, 0.852858669108669, 0.852858669108669, 0.852858669108669, 0.852858669108669, 0.852858669108669, 0.852858669108669, 0.852858669108669, 0.852858669108669, 0.852858669108669, 0.852858669108669, 0.852858669108669, 0.852858669108669, 0.852858669108669, 0.852858669108669, 0.852858669108669, 0.852858669108669, 0.852858669108669, 0.852858669108669, 0.852858669108669, 0.852858669108669, 0.852858669108669, 0.852858669108669, 0.852858669108669, 0.852858669108669, 0.8576281357531357, 0.8576281357531357, 0.8576281357531357, 0.8576281357531357, 0.8576281357531357]}], \"f1_score_macro\": [{\"categories\": [\"0\", \"1\", \"2\", \"3\", \"4\", \"5\", \"6\", \"7\", \"8\", \"9\", \"10\", \"11\", \"12\", \"13\", \"14\", \"15\", \"16\", \"17\", \"18\", \"19\", \"20\", \"21\", \"22\", \"23\", \"24\", \"25\", \"26\", \"27\", \"28\", \"29\", \"30\", \"31\", \"32\", \"33\", \"34\", \"35\", \"38\", \"39\"], \"mode\": \"markers\", \"name\": \"f1_score_macro\", \"stepped\": false, \"type\": \"scatter\", \"data\": [0.7983089069381837, 0.7930795621665047, 0.79752363379705, 0.8407891846770763, 0.8228678399530802, 0.803183166783113, 0.8458122033680515, 0.8403116488811737, 0.7933565678873259, 0.8259749920216335, 0.8063131991553485, 0.8114599227069277, 0.8385211217418108, 0.8167691687490309, 0.8204835882591605, 0.8023982360817568, 0.8092831252742412, 0.8449470124669007, 0.8257032260264527, 0.8212758839681233, 0.8142502480774085, 0.8145123587997901, 0.8105456019821207, 0.7956590496594534, 0.7957866413659925, 0.815801173464217, 0.791068026647378, 0.79570477878413, 0.8192128896103522, 0.812084763698036, 0.799455123865879, 0.8057285827166559, 0.8048475490374131, 0.8403828388613344, 0.7955006369737014, 0.8118094402213256, 0.8403555330248892, 0.6464433522105344]}, {\"categories\": [\"0\", \"1\", \"2\", \"3\", \"4\", \"5\", \"6\", \"7\", \"8\", \"9\", \"10\", \"11\", \"12\", \"13\", \"14\", \"15\", \"16\", \"17\", \"18\", \"19\", \"20\", \"21\", \"22\", \"23\", \"24\", \"25\", \"26\", \"27\", \"28\", \"29\", \"30\", \"31\", \"32\", \"33\", \"34\", \"35\", \"38\", \"39\"], \"mode\": \"lines\", \"name\": \"f1_score_macro_max\", \"stepped\": true, \"type\": \"scatter\", \"data\": [0.7983089069381837, 0.7983089069381837, 0.7983089069381837, 0.8407891846770763, 0.8407891846770763, 0.8407891846770763, 0.8458122033680515, 0.8458122033680515, 0.8458122033680515, 0.8458122033680515, 0.8458122033680515, 0.8458122033680515, 0.8458122033680515, 0.8458122033680515, 0.8458122033680515, 0.8458122033680515, 0.8458122033680515, 0.8458122033680515, 0.8458122033680515, 0.8458122033680515, 0.8458122033680515, 0.8458122033680515, 0.8458122033680515, 0.8458122033680515, 0.8458122033680515, 0.8458122033680515, 0.8458122033680515, 0.8458122033680515, 0.8458122033680515, 0.8458122033680515, 0.8458122033680515, 0.8458122033680515, 0.8458122033680515, 0.8458122033680515, 0.8458122033680515, 0.8458122033680515, 0.8458122033680515, 0.8458122033680515]}], \"precision_score_weighted\": [{\"categories\": [\"0\", \"1\", \"2\", \"3\", \"4\", \"5\", \"6\", \"7\", \"8\", \"9\", \"10\", \"11\", \"12\", \"13\", \"14\", \"15\", \"16\", \"17\", \"18\", \"19\", \"20\", \"21\", \"22\", \"23\", \"24\", \"25\", \"26\", \"27\", \"28\", \"29\", \"30\", \"31\", \"32\", \"33\", \"34\", \"35\", \"38\", \"39\"], \"mode\": \"markers\", \"name\": \"precision_score_weighted\", \"stepped\": false, \"type\": \"scatter\", \"data\": [0.8116793908352349, 0.8064224928510644, 0.8163307525807525, 0.8559042809042807, 0.8409840688412118, 0.8221917896917897, 0.8593624365052935, 0.8535110512383239, 0.8188109113109112, 0.84263616013616, 0.8272596451167878, 0.8311925084365879, 0.8577616827616827, 0.8343011341712641, 0.839551862279135, 0.8218787584964055, 0.8266424844996273, 0.8594308325152481, 0.8383446712018141, 0.837514613813315, 0.8312835829394271, 0.8309638113209541, 0.829786298357727, 0.8179988662131519, 0.8146462928605785, 0.8323705515263956, 0.8089079571222427, 0.815846732632447, 0.8346749150320578, 0.8273539407993189, 0.8154753832026559, 0.8302131699610691, 0.8331385118149823, 0.8567024179524179, 0.825002613321941, 0.8282135853564426, 0.8571978274251002, 0.6206328844315857]}, {\"categories\": [\"0\", \"1\", \"2\", \"3\", \"4\", \"5\", \"6\", \"7\", \"8\", \"9\", \"10\", \"11\", \"12\", \"13\", \"14\", \"15\", \"16\", \"17\", \"18\", \"19\", \"20\", \"21\", \"22\", \"23\", \"24\", \"25\", \"26\", \"27\", \"28\", \"29\", \"30\", \"31\", \"32\", \"33\", \"34\", \"35\", \"38\", \"39\"], \"mode\": \"lines\", \"name\": \"precision_score_weighted_max\", \"stepped\": true, \"type\": \"scatter\", \"data\": [0.8116793908352349, 0.8116793908352349, 0.8163307525807525, 0.8559042809042807, 0.8559042809042807, 0.8559042809042807, 0.8593624365052935, 0.8593624365052935, 0.8593624365052935, 0.8593624365052935, 0.8593624365052935, 0.8593624365052935, 0.8593624365052935, 0.8593624365052935, 0.8593624365052935, 0.8593624365052935, 0.8593624365052935, 0.8594308325152481, 0.8594308325152481, 0.8594308325152481, 0.8594308325152481, 0.8594308325152481, 0.8594308325152481, 0.8594308325152481, 0.8594308325152481, 0.8594308325152481, 0.8594308325152481, 0.8594308325152481, 0.8594308325152481, 0.8594308325152481, 0.8594308325152481, 0.8594308325152481, 0.8594308325152481, 0.8594308325152481, 0.8594308325152481, 0.8594308325152481, 0.8594308325152481, 0.8594308325152481]}], \"matthews_correlation\": [{\"categories\": [\"0\", \"1\", \"2\", \"3\", \"4\", \"5\", \"6\", \"7\", \"8\", \"9\", \"10\", \"11\", \"12\", \"13\", \"14\", \"15\", \"16\", \"17\", \"18\", \"19\", \"20\", \"21\", \"22\", \"23\", \"24\", \"25\", \"26\", \"27\", \"28\", \"29\", \"30\", \"31\", \"32\", \"33\", \"34\", \"35\", \"38\", \"39\"], \"mode\": \"markers\", \"name\": \"matthews_correlation\", \"stepped\": false, \"type\": \"scatter\", \"data\": [0.6065772073577929, 0.5959698393439418, 0.608279116669691, 0.6934079083643381, 0.6597707064709846, 0.6208229885963287, 0.7020347798641925, 0.6895501641749686, 0.6101386361309867, 0.6649074733211929, 0.6289498089738844, 0.638705078936033, 0.692217447974705, 0.6483584728304173, 0.6570401500698256, 0.6173650284724067, 0.6319510509067663, 0.7002796136394415, 0.6592094297886397, 0.6560063017485771, 0.6424052281557684, 0.6404344939213059, 0.6375645326515836, 0.6103914802995274, 0.6066348928188396, 0.6441149723902413, 0.5960567490513466, 0.6078491798157892, 0.6494984937344761, 0.6349424006103653, 0.6105548641327068, 0.6339969748856034, 0.6338697254912482, 0.6960949949050165, 0.6191688985220426, 0.6367982514303578, 0.694628188951357, 0.4363897471178567]}, {\"categories\": [\"0\", \"1\", \"2\", \"3\", \"4\", \"5\", \"6\", \"7\", \"8\", \"9\", \"10\", \"11\", \"12\", \"13\", \"14\", \"15\", \"16\", \"17\", \"18\", \"19\", \"20\", \"21\", \"22\", \"23\", \"24\", \"25\", \"26\", \"27\", \"28\", \"29\", \"30\", \"31\", \"32\", \"33\", \"34\", \"35\", \"38\", \"39\"], \"mode\": \"lines\", \"name\": \"matthews_correlation_max\", \"stepped\": true, \"type\": \"scatter\", \"data\": [0.6065772073577929, 0.6065772073577929, 0.608279116669691, 0.6934079083643381, 0.6934079083643381, 0.6934079083643381, 0.7020347798641925, 0.7020347798641925, 0.7020347798641925, 0.7020347798641925, 0.7020347798641925, 0.7020347798641925, 0.7020347798641925, 0.7020347798641925, 0.7020347798641925, 0.7020347798641925, 0.7020347798641925, 0.7020347798641925, 0.7020347798641925, 0.7020347798641925, 0.7020347798641925, 0.7020347798641925, 0.7020347798641925, 0.7020347798641925, 0.7020347798641925, 0.7020347798641925, 0.7020347798641925, 0.7020347798641925, 0.7020347798641925, 0.7020347798641925, 0.7020347798641925, 0.7020347798641925, 0.7020347798641925, 0.7020347798641925, 0.7020347798641925, 0.7020347798641925, 0.7020347798641925, 0.7020347798641925]}], \"AUC_macro\": [{\"categories\": [\"0\", \"1\", \"2\", \"3\", \"4\", \"5\", \"6\", \"7\", \"8\", \"9\", \"10\", \"11\", \"12\", \"13\", \"14\", \"15\", \"16\", \"17\", \"18\", \"19\", \"20\", \"21\", \"22\", \"23\", \"24\", \"25\", \"26\", \"27\", \"28\", \"29\", \"30\", \"31\", \"32\", \"33\", \"34\", \"35\", \"38\", \"39\"], \"mode\": \"markers\", \"name\": \"AUC_macro\", \"stepped\": false, \"type\": \"scatter\", \"data\": [0.8951262626262626, 0.898013468013468, 0.8901178451178451, 0.9192171717171718, 0.9118771043771045, 0.8906818181818181, 0.9142592592592594, 0.9033080808080808, 0.9117592592592592, 0.9138468013468014, 0.8778872053872053, 0.9009764309764311, 0.9235942760942762, 0.8856986531986533, 0.9076683501683501, 0.8376220538720538, 0.9024284511784513, 0.9151262626262625, 0.9013888888888889, 0.8914057239057239, 0.893905723905724, 0.9021127946127946, 0.9088552188552189, 0.908973063973064, 0.9036531986531987, 0.8892171717171717, 0.8988888888888891, 0.8979797979797981, 0.9221043771043771, 0.8937037037037037, 0.8883080808080805, 0.9017929292929294, 0.9026767676767676, 0.9006818181818183, 0.8941161616161617, 0.898080808080808, 0.9355555555555556, 0.9191245791245792]}, {\"categories\": [\"0\", \"1\", \"2\", \"3\", \"4\", \"5\", \"6\", \"7\", \"8\", \"9\", \"10\", \"11\", \"12\", \"13\", \"14\", \"15\", \"16\", \"17\", \"18\", \"19\", \"20\", \"21\", \"22\", \"23\", \"24\", \"25\", \"26\", \"27\", \"28\", \"29\", \"30\", \"31\", \"32\", \"33\", \"34\", \"35\", \"38\", \"39\"], \"mode\": \"lines\", \"name\": \"AUC_macro_max\", \"stepped\": true, \"type\": \"scatter\", \"data\": [0.8951262626262626, 0.898013468013468, 0.898013468013468, 0.9192171717171718, 0.9192171717171718, 0.9192171717171718, 0.9192171717171718, 0.9192171717171718, 0.9192171717171718, 0.9192171717171718, 0.9192171717171718, 0.9192171717171718, 0.9235942760942762, 0.9235942760942762, 0.9235942760942762, 0.9235942760942762, 0.9235942760942762, 0.9235942760942762, 0.9235942760942762, 0.9235942760942762, 0.9235942760942762, 0.9235942760942762, 0.9235942760942762, 0.9235942760942762, 0.9235942760942762, 0.9235942760942762, 0.9235942760942762, 0.9235942760942762, 0.9235942760942762, 0.9235942760942762, 0.9235942760942762, 0.9235942760942762, 0.9235942760942762, 0.9235942760942762, 0.9235942760942762, 0.9235942760942762, 0.9355555555555556, 0.9355555555555556]}], \"recall_score_weighted\": [{\"categories\": [\"0\", \"1\", \"2\", \"3\", \"4\", \"5\", \"6\", \"7\", \"8\", \"9\", \"10\", \"11\", \"12\", \"13\", \"14\", \"15\", \"16\", \"17\", \"18\", \"19\", \"20\", \"21\", \"22\", \"23\", \"24\", \"25\", \"26\", \"27\", \"28\", \"29\", \"30\", \"31\", \"32\", \"33\", \"34\", \"35\", \"38\", \"39\"], \"mode\": \"markers\", \"name\": \"recall_score_weighted\", \"stepped\": false, \"type\": \"scatter\", \"data\": [0.8025974025974026, 0.7976190476190476, 0.8069264069264068, 0.845021645021645, 0.83008658008658, 0.8119047619047619, 0.8495670995670996, 0.8445887445887446, 0.8021645021645021, 0.8305194805194803, 0.8123376623376624, 0.8209956709956711, 0.8448051948051948, 0.8218614718614718, 0.825974025974026, 0.8153679653679653, 0.8164502164502163, 0.8493506493506493, 0.8311688311688311, 0.825974025974026, 0.8212121212121213, 0.8209956709956711, 0.8166666666666667, 0.8019480519480519, 0.8017316017316019, 0.8214285714285714, 0.7969696969696971, 0.8017316017316019, 0.8261904761904761, 0.8214285714285714, 0.8071428571428572, 0.8123376623376624, 0.8121212121212121, 0.8448051948051948, 0.8028138528138526, 0.8166666666666667, 0.8448051948051948, 0.7147186147186148]}, {\"categories\": [\"0\", \"1\", \"2\", \"3\", \"4\", \"5\", \"6\", \"7\", \"8\", \"9\", \"10\", \"11\", \"12\", \"13\", \"14\", \"15\", \"16\", \"17\", \"18\", \"19\", \"20\", \"21\", \"22\", \"23\", \"24\", \"25\", \"26\", \"27\", \"28\", \"29\", \"30\", \"31\", \"32\", \"33\", \"34\", \"35\", \"38\", \"39\"], \"mode\": \"lines\", \"name\": \"recall_score_weighted_max\", \"stepped\": true, \"type\": \"scatter\", \"data\": [0.8025974025974026, 0.8025974025974026, 0.8069264069264068, 0.845021645021645, 0.845021645021645, 0.845021645021645, 0.8495670995670996, 0.8495670995670996, 0.8495670995670996, 0.8495670995670996, 0.8495670995670996, 0.8495670995670996, 0.8495670995670996, 0.8495670995670996, 0.8495670995670996, 0.8495670995670996, 0.8495670995670996, 0.8495670995670996, 0.8495670995670996, 0.8495670995670996, 0.8495670995670996, 0.8495670995670996, 0.8495670995670996, 0.8495670995670996, 0.8495670995670996, 0.8495670995670996, 0.8495670995670996, 0.8495670995670996, 0.8495670995670996, 0.8495670995670996, 0.8495670995670996, 0.8495670995670996, 0.8495670995670996, 0.8495670995670996, 0.8495670995670996, 0.8495670995670996, 0.8495670995670996, 0.8495670995670996]}], \"f1_score_micro\": [{\"categories\": [\"0\", \"1\", \"2\", \"3\", \"4\", \"5\", \"6\", \"7\", \"8\", \"9\", \"10\", \"11\", \"12\", \"13\", \"14\", \"15\", \"16\", \"17\", \"18\", \"19\", \"20\", \"21\", \"22\", \"23\", \"24\", \"25\", \"26\", \"27\", \"28\", \"29\", \"30\", \"31\", \"32\", \"33\", \"34\", \"35\", \"38\", \"39\"], \"mode\": \"markers\", \"name\": \"f1_score_micro\", \"stepped\": false, \"type\": \"scatter\", \"data\": [0.8025974025974026, 0.7976190476190476, 0.8069264069264068, 0.845021645021645, 0.83008658008658, 0.8119047619047619, 0.8495670995670996, 0.8445887445887446, 0.8021645021645021, 0.8305194805194803, 0.8123376623376624, 0.8209956709956711, 0.8448051948051948, 0.8218614718614718, 0.825974025974026, 0.8153679653679653, 0.8164502164502163, 0.8493506493506493, 0.8311688311688311, 0.825974025974026, 0.8212121212121213, 0.8209956709956711, 0.8166666666666667, 0.8019480519480519, 0.8017316017316019, 0.8214285714285714, 0.7969696969696971, 0.8017316017316019, 0.8261904761904761, 0.8214285714285714, 0.8071428571428572, 0.8123376623376624, 0.8121212121212121, 0.8448051948051948, 0.8028138528138526, 0.8166666666666667, 0.8448051948051948, 0.7147186147186148]}, {\"categories\": [\"0\", \"1\", \"2\", \"3\", \"4\", \"5\", \"6\", \"7\", \"8\", \"9\", \"10\", \"11\", \"12\", \"13\", \"14\", \"15\", \"16\", \"17\", \"18\", \"19\", \"20\", \"21\", \"22\", \"23\", \"24\", \"25\", \"26\", \"27\", \"28\", \"29\", \"30\", \"31\", \"32\", \"33\", \"34\", \"35\", \"38\", \"39\"], \"mode\": \"lines\", \"name\": \"f1_score_micro_max\", \"stepped\": true, \"type\": \"scatter\", \"data\": [0.8025974025974026, 0.8025974025974026, 0.8069264069264068, 0.845021645021645, 0.845021645021645, 0.845021645021645, 0.8495670995670996, 0.8495670995670996, 0.8495670995670996, 0.8495670995670996, 0.8495670995670996, 0.8495670995670996, 0.8495670995670996, 0.8495670995670996, 0.8495670995670996, 0.8495670995670996, 0.8495670995670996, 0.8495670995670996, 0.8495670995670996, 0.8495670995670996, 0.8495670995670996, 0.8495670995670996, 0.8495670995670996, 0.8495670995670996, 0.8495670995670996, 0.8495670995670996, 0.8495670995670996, 0.8495670995670996, 0.8495670995670996, 0.8495670995670996, 0.8495670995670996, 0.8495670995670996, 0.8495670995670996, 0.8495670995670996, 0.8495670995670996, 0.8495670995670996, 0.8495670995670996, 0.8495670995670996]}], \"average_precision_score_macro\": [{\"categories\": [\"0\", \"1\", \"2\", \"3\", \"4\", \"5\", \"6\", \"7\", \"8\", \"9\", \"10\", \"11\", \"12\", \"13\", \"14\", \"15\", \"16\", \"17\", \"18\", \"19\", \"20\", \"21\", \"22\", \"23\", \"24\", \"25\", \"26\", \"27\", \"28\", \"29\", \"30\", \"31\", \"32\", \"33\", \"34\", \"35\", \"38\", \"39\"], \"mode\": \"markers\", \"name\": \"average_precision_score_macro\", \"stepped\": false, \"type\": \"scatter\", \"data\": [0.900602452737538, 0.9036006570197219, 0.8939451972896715, 0.9230388048891894, 0.9137191935633922, 0.8985821240571218, 0.9187566180744129, 0.9052624670110774, 0.9164971849982464, 0.914788289621629, 0.8873220406649083, 0.9040914910665357, 0.9292834737078863, 0.891664211965964, 0.9123712336652986, 0.8384339699173818, 0.9075845349851648, 0.9177056530338088, 0.9083614479161494, 0.8979963185456754, 0.9021856474896305, 0.9080736795429338, 0.9150133024611693, 0.9171536047734271, 0.9132415747747803, 0.8961220154435983, 0.9087303712740493, 0.9079505954942734, 0.922499645504829, 0.9025706320049597, 0.8961835824479542, 0.9124949861157525, 0.9072935932633488, 0.9102095733435446, 0.9042906824740135, 0.9094199544637378, 0.9374136979866705, 0.9194748629781524]}, {\"categories\": [\"0\", \"1\", \"2\", \"3\", \"4\", \"5\", \"6\", \"7\", \"8\", \"9\", \"10\", \"11\", \"12\", \"13\", \"14\", \"15\", \"16\", \"17\", \"18\", \"19\", \"20\", \"21\", \"22\", \"23\", \"24\", \"25\", \"26\", \"27\", \"28\", \"29\", \"30\", \"31\", \"32\", \"33\", \"34\", \"35\", \"38\", \"39\"], \"mode\": \"lines\", \"name\": \"average_precision_score_macro_max\", \"stepped\": true, \"type\": \"scatter\", \"data\": [0.900602452737538, 0.9036006570197219, 0.9036006570197219, 0.9230388048891894, 0.9230388048891894, 0.9230388048891894, 0.9230388048891894, 0.9230388048891894, 0.9230388048891894, 0.9230388048891894, 0.9230388048891894, 0.9230388048891894, 0.9292834737078863, 0.9292834737078863, 0.9292834737078863, 0.9292834737078863, 0.9292834737078863, 0.9292834737078863, 0.9292834737078863, 0.9292834737078863, 0.9292834737078863, 0.9292834737078863, 0.9292834737078863, 0.9292834737078863, 0.9292834737078863, 0.9292834737078863, 0.9292834737078863, 0.9292834737078863, 0.9292834737078863, 0.9292834737078863, 0.9292834737078863, 0.9292834737078863, 0.9292834737078863, 0.9292834737078863, 0.9292834737078863, 0.9292834737078863, 0.9374136979866705, 0.9374136979866705]}], \"recall_score_micro\": [{\"categories\": [\"0\", \"1\", \"2\", \"3\", \"4\", \"5\", \"6\", \"7\", \"8\", \"9\", \"10\", \"11\", \"12\", \"13\", \"14\", \"15\", \"16\", \"17\", \"18\", \"19\", \"20\", \"21\", \"22\", \"23\", \"24\", \"25\", \"26\", \"27\", \"28\", \"29\", \"30\", \"31\", \"32\", \"33\", \"34\", \"35\", \"38\", \"39\"], \"mode\": \"markers\", \"name\": \"recall_score_micro\", \"stepped\": false, \"type\": \"scatter\", \"data\": [0.8025974025974026, 0.7976190476190476, 0.8069264069264068, 0.845021645021645, 0.83008658008658, 0.8119047619047619, 0.8495670995670996, 0.8445887445887446, 0.8021645021645021, 0.8305194805194803, 0.8123376623376624, 0.8209956709956711, 0.8448051948051948, 0.8218614718614718, 0.825974025974026, 0.8153679653679653, 0.8164502164502163, 0.8493506493506493, 0.8311688311688311, 0.825974025974026, 0.8212121212121213, 0.8209956709956711, 0.8166666666666667, 0.8019480519480519, 0.8017316017316019, 0.8214285714285714, 0.7969696969696971, 0.8017316017316019, 0.8261904761904761, 0.8214285714285714, 0.8071428571428572, 0.8123376623376624, 0.8121212121212121, 0.8448051948051948, 0.8028138528138526, 0.8166666666666667, 0.8448051948051948, 0.7147186147186148]}, {\"categories\": [\"0\", \"1\", \"2\", \"3\", \"4\", \"5\", \"6\", \"7\", \"8\", \"9\", \"10\", \"11\", \"12\", \"13\", \"14\", \"15\", \"16\", \"17\", \"18\", \"19\", \"20\", \"21\", \"22\", \"23\", \"24\", \"25\", \"26\", \"27\", \"28\", \"29\", \"30\", \"31\", \"32\", \"33\", \"34\", \"35\", \"38\", \"39\"], \"mode\": \"lines\", \"name\": \"recall_score_micro_max\", \"stepped\": true, \"type\": \"scatter\", \"data\": [0.8025974025974026, 0.8025974025974026, 0.8069264069264068, 0.845021645021645, 0.845021645021645, 0.845021645021645, 0.8495670995670996, 0.8495670995670996, 0.8495670995670996, 0.8495670995670996, 0.8495670995670996, 0.8495670995670996, 0.8495670995670996, 0.8495670995670996, 0.8495670995670996, 0.8495670995670996, 0.8495670995670996, 0.8495670995670996, 0.8495670995670996, 0.8495670995670996, 0.8495670995670996, 0.8495670995670996, 0.8495670995670996, 0.8495670995670996, 0.8495670995670996, 0.8495670995670996, 0.8495670995670996, 0.8495670995670996, 0.8495670995670996, 0.8495670995670996, 0.8495670995670996, 0.8495670995670996, 0.8495670995670996, 0.8495670995670996, 0.8495670995670996, 0.8495670995670996, 0.8495670995670996, 0.8495670995670996]}], \"precision_score_micro\": [{\"categories\": [\"0\", \"1\", \"2\", \"3\", \"4\", \"5\", \"6\", \"7\", \"8\", \"9\", \"10\", \"11\", \"12\", \"13\", \"14\", \"15\", \"16\", \"17\", \"18\", \"19\", \"20\", \"21\", \"22\", \"23\", \"24\", \"25\", \"26\", \"27\", \"28\", \"29\", \"30\", \"31\", \"32\", \"33\", \"34\", \"35\", \"38\", \"39\"], \"mode\": \"markers\", \"name\": \"precision_score_micro\", \"stepped\": false, \"type\": \"scatter\", \"data\": [0.8025974025974026, 0.7976190476190476, 0.8069264069264068, 0.845021645021645, 0.83008658008658, 0.8119047619047619, 0.8495670995670996, 0.8445887445887446, 0.8021645021645021, 0.8305194805194803, 0.8123376623376624, 0.8209956709956711, 0.8448051948051948, 0.8218614718614718, 0.825974025974026, 0.8153679653679653, 0.8164502164502163, 0.8493506493506493, 0.8311688311688311, 0.825974025974026, 0.8212121212121213, 0.8209956709956711, 0.8166666666666667, 0.8019480519480519, 0.8017316017316019, 0.8214285714285714, 0.7969696969696971, 0.8017316017316019, 0.8261904761904761, 0.8214285714285714, 0.8071428571428572, 0.8123376623376624, 0.8121212121212121, 0.8448051948051948, 0.8028138528138526, 0.8166666666666667, 0.8448051948051948, 0.7147186147186148]}, {\"categories\": [\"0\", \"1\", \"2\", \"3\", \"4\", \"5\", \"6\", \"7\", \"8\", \"9\", \"10\", \"11\", \"12\", \"13\", \"14\", \"15\", \"16\", \"17\", \"18\", \"19\", \"20\", \"21\", \"22\", \"23\", \"24\", \"25\", \"26\", \"27\", \"28\", \"29\", \"30\", \"31\", \"32\", \"33\", \"34\", \"35\", \"38\", \"39\"], \"mode\": \"lines\", \"name\": \"precision_score_micro_max\", \"stepped\": true, \"type\": \"scatter\", \"data\": [0.8025974025974026, 0.8025974025974026, 0.8069264069264068, 0.845021645021645, 0.845021645021645, 0.845021645021645, 0.8495670995670996, 0.8495670995670996, 0.8495670995670996, 0.8495670995670996, 0.8495670995670996, 0.8495670995670996, 0.8495670995670996, 0.8495670995670996, 0.8495670995670996, 0.8495670995670996, 0.8495670995670996, 0.8495670995670996, 0.8495670995670996, 0.8495670995670996, 0.8495670995670996, 0.8495670995670996, 0.8495670995670996, 0.8495670995670996, 0.8495670995670996, 0.8495670995670996, 0.8495670995670996, 0.8495670995670996, 0.8495670995670996, 0.8495670995670996, 0.8495670995670996, 0.8495670995670996, 0.8495670995670996, 0.8495670995670996, 0.8495670995670996, 0.8495670995670996, 0.8495670995670996, 0.8495670995670996]}], \"average_precision_score_micro\": [{\"categories\": [\"0\", \"1\", \"2\", \"3\", \"4\", \"5\", \"6\", \"7\", \"8\", \"9\", \"10\", \"11\", \"12\", \"13\", \"14\", \"15\", \"16\", \"17\", \"18\", \"19\", \"20\", \"21\", \"22\", \"23\", \"24\", \"25\", \"26\", \"27\", \"28\", \"29\", \"30\", \"31\", \"32\", \"33\", \"34\", \"35\", \"38\", \"39\"], \"mode\": \"markers\", \"name\": \"average_precision_score_micro\", \"stepped\": false, \"type\": \"scatter\", \"data\": [0.8911617909848036, 0.8973642991211076, 0.8876440283550222, 0.9257227357037381, 0.9087317837402897, 0.8873378928230202, 0.911402291087402, 0.9013266356083196, 0.9035823820230517, 0.9133201766675663, 0.8771222111204147, 0.9012957384847633, 0.9181861302965725, 0.8838507662058932, 0.8972960399096641, 0.8430074406518662, 0.8926362747479077, 0.9126506232855205, 0.9026354080504916, 0.8973812567673953, 0.9054349491730053, 0.9076982737174569, 0.9062467091290625, 0.9070730155757472, 0.9007664532707114, 0.8907380096019827, 0.8982594815883713, 0.8980626592620089, 0.9233191738437541, 0.9031110620659348, 0.8773584129535689, 0.9013076220853566, 0.8916640430337942, 0.9019667426479548, 0.8933282664582775, 0.8931343898781119, 0.9251713837937269, 0.8591281635448633]}, {\"categories\": [\"0\", \"1\", \"2\", \"3\", \"4\", \"5\", \"6\", \"7\", \"8\", \"9\", \"10\", \"11\", \"12\", \"13\", \"14\", \"15\", \"16\", \"17\", \"18\", \"19\", \"20\", \"21\", \"22\", \"23\", \"24\", \"25\", \"26\", \"27\", \"28\", \"29\", \"30\", \"31\", \"32\", \"33\", \"34\", \"35\", \"38\", \"39\"], \"mode\": \"lines\", \"name\": \"average_precision_score_micro_max\", \"stepped\": true, \"type\": \"scatter\", \"data\": [0.8911617909848036, 0.8973642991211076, 0.8973642991211076, 0.9257227357037381, 0.9257227357037381, 0.9257227357037381, 0.9257227357037381, 0.9257227357037381, 0.9257227357037381, 0.9257227357037381, 0.9257227357037381, 0.9257227357037381, 0.9257227357037381, 0.9257227357037381, 0.9257227357037381, 0.9257227357037381, 0.9257227357037381, 0.9257227357037381, 0.9257227357037381, 0.9257227357037381, 0.9257227357037381, 0.9257227357037381, 0.9257227357037381, 0.9257227357037381, 0.9257227357037381, 0.9257227357037381, 0.9257227357037381, 0.9257227357037381, 0.9257227357037381, 0.9257227357037381, 0.9257227357037381, 0.9257227357037381, 0.9257227357037381, 0.9257227357037381, 0.9257227357037381, 0.9257227357037381, 0.9257227357037381, 0.9257227357037381]}], \"balanced_accuracy\": [{\"categories\": [\"0\", \"1\", \"2\", \"3\", \"4\", \"5\", \"6\", \"7\", \"8\", \"9\", \"10\", \"11\", \"12\", \"13\", \"14\", \"15\", \"16\", \"17\", \"18\", \"19\", \"20\", \"21\", \"22\", \"23\", \"24\", \"25\", \"26\", \"27\", \"28\", \"29\", \"30\", \"31\", \"32\", \"33\", \"34\", \"35\", \"38\", \"39\"], \"mode\": \"markers\", \"name\": \"balanced_accuracy\", \"stepped\": false, \"type\": \"scatter\", \"data\": [0.8029040404040405, 0.7975252525252524, 0.7990909090909091, 0.8437373737373737, 0.8243686868686868, 0.8031060606060606, 0.8492929292929293, 0.8439393939393938, 0.7989141414141414, 0.830858585858586, 0.8100252525252525, 0.8108585858585858, 0.8418939393939393, 0.8198484848484847, 0.8230050505050505, 0.8028787878787877, 0.8116919191919191, 0.8481060606060605, 0.8273484848484849, 0.8249242424242424, 0.8143686868686869, 0.8174242424242424, 0.8129797979797979, 0.8008585858585858, 0.8000252525252526, 0.8195454545454546, 0.7950252525252525, 0.7991919191919192, 0.8193939393939393, 0.8106818181818181, 0.8013383838383838, 0.8115151515151515, 0.8115404040404041, 0.8390151515151516, 0.8010353535353534, 0.8161363636363637, 0.8437373737373737, 0.7165404040404041]}, {\"categories\": [\"0\", \"1\", \"2\", \"3\", \"4\", \"5\", \"6\", \"7\", \"8\", \"9\", \"10\", \"11\", \"12\", \"13\", \"14\", \"15\", \"16\", \"17\", \"18\", \"19\", \"20\", \"21\", \"22\", \"23\", \"24\", \"25\", \"26\", \"27\", \"28\", \"29\", \"30\", \"31\", \"32\", \"33\", \"34\", \"35\", \"38\", \"39\"], \"mode\": \"lines\", \"name\": \"balanced_accuracy_max\", \"stepped\": true, \"type\": \"scatter\", \"data\": [0.8029040404040405, 0.8029040404040405, 0.8029040404040405, 0.8437373737373737, 0.8437373737373737, 0.8437373737373737, 0.8492929292929293, 0.8492929292929293, 0.8492929292929293, 0.8492929292929293, 0.8492929292929293, 0.8492929292929293, 0.8492929292929293, 0.8492929292929293, 0.8492929292929293, 0.8492929292929293, 0.8492929292929293, 0.8492929292929293, 0.8492929292929293, 0.8492929292929293, 0.8492929292929293, 0.8492929292929293, 0.8492929292929293, 0.8492929292929293, 0.8492929292929293, 0.8492929292929293, 0.8492929292929293, 0.8492929292929293, 0.8492929292929293, 0.8492929292929293, 0.8492929292929293, 0.8492929292929293, 0.8492929292929293, 0.8492929292929293, 0.8492929292929293, 0.8492929292929293, 0.8492929292929293, 0.8492929292929293]}], \"weighted_accuracy\": [{\"categories\": [\"0\", \"1\", \"2\", \"3\", \"4\", \"5\", \"6\", \"7\", \"8\", \"9\", \"10\", \"11\", \"12\", \"13\", \"14\", \"15\", \"16\", \"17\", \"18\", \"19\", \"20\", \"21\", \"22\", \"23\", \"24\", \"25\", \"26\", \"27\", \"28\", \"29\", \"30\", \"31\", \"32\", \"33\", \"34\", \"35\", \"38\", \"39\"], \"mode\": \"markers\", \"name\": \"weighted_accuracy\", \"stepped\": false, \"type\": \"scatter\", \"data\": [0.8020951343184576, 0.7975109046619038, 0.812264290227114, 0.8460195217278981, 0.8343557872424963, 0.8191827288640378, 0.8495929955058077, 0.8453853196537997, 0.8054255738387018, 0.8303548323012293, 0.8137171839123092, 0.8282128359453536, 0.8464245259611868, 0.8235602086205619, 0.827242393935441, 0.8242561203635258, 0.8198465272963992, 0.850718652987133, 0.8336657296305485, 0.8267314372633429, 0.826179713125412, 0.823603493038734, 0.8199664099409386, 0.8031520530810925, 0.8035451989901496, 0.8220235171339484, 0.7990203121123216, 0.8043536454456548, 0.8315499123074023, 0.8292123661483553, 0.8115386866317602, 0.8128823162782528, 0.8122502542957435, 0.8493820336326904, 0.8042608984803643, 0.8169325598309072, 0.8455929955058077, 0.7127170960918177]}, {\"categories\": [\"0\", \"1\", \"2\", \"3\", \"4\", \"5\", \"6\", \"7\", \"8\", \"9\", \"10\", \"11\", \"12\", \"13\", \"14\", \"15\", \"16\", \"17\", \"18\", \"19\", \"20\", \"21\", \"22\", \"23\", \"24\", \"25\", \"26\", \"27\", \"28\", \"29\", \"30\", \"31\", \"32\", \"33\", \"34\", \"35\", \"38\", \"39\"], \"mode\": \"lines\", \"name\": \"weighted_accuracy_max\", \"stepped\": true, \"type\": \"scatter\", \"data\": [0.8020951343184576, 0.8020951343184576, 0.812264290227114, 0.8460195217278981, 0.8460195217278981, 0.8460195217278981, 0.8495929955058077, 0.8495929955058077, 0.8495929955058077, 0.8495929955058077, 0.8495929955058077, 0.8495929955058077, 0.8495929955058077, 0.8495929955058077, 0.8495929955058077, 0.8495929955058077, 0.8495929955058077, 0.850718652987133, 0.850718652987133, 0.850718652987133, 0.850718652987133, 0.850718652987133, 0.850718652987133, 0.850718652987133, 0.850718652987133, 0.850718652987133, 0.850718652987133, 0.850718652987133, 0.850718652987133, 0.850718652987133, 0.850718652987133, 0.850718652987133, 0.850718652987133, 0.850718652987133, 0.850718652987133, 0.850718652987133, 0.850718652987133, 0.850718652987133]}], \"AUC_micro\": [{\"categories\": [\"0\", \"1\", \"2\", \"3\", \"4\", \"5\", \"6\", \"7\", \"8\", \"9\", \"10\", \"11\", \"12\", \"13\", \"14\", \"15\", \"16\", \"17\", \"18\", \"19\", \"20\", \"21\", \"22\", \"23\", \"24\", \"25\", \"26\", \"27\", \"28\", \"29\", \"30\", \"31\", \"32\", \"33\", \"34\", \"35\", \"38\", \"39\"], \"mode\": \"markers\", \"name\": \"AUC_micro\", \"stepped\": false, \"type\": \"scatter\", \"data\": [0.8907619797230186, 0.8956349206349208, 0.8882170499053614, 0.9239847454133168, 0.9076530612244899, 0.8884236614756095, 0.9080559772118214, 0.9082728959352334, 0.8984820374430763, 0.9159072168812429, 0.8747273289481082, 0.9010517981297201, 0.9174945184685445, 0.883837915331422, 0.9002656434474616, 0.8505757950563145, 0.8941431944678697, 0.9150100260489872, 0.8961535578418698, 0.8934980603811773, 0.9004169711961918, 0.9027852738891701, 0.9077589437979048, 0.9025032326980378, 0.8944004047900151, 0.8930899908172634, 0.8925207548584172, 0.8922939974888028, 0.9202455913494875, 0.8987439328348419, 0.8809762748074436, 0.8958813552969396, 0.8901266842825285, 0.8991721481981223, 0.8891995090047038, 0.8888218923933211, 0.9247404471430446, 0.8387417777028168]}, {\"categories\": [\"0\", \"1\", \"2\", \"3\", \"4\", \"5\", \"6\", \"7\", \"8\", \"9\", \"10\", \"11\", \"12\", \"13\", \"14\", \"15\", \"16\", \"17\", \"18\", \"19\", \"20\", \"21\", \"22\", \"23\", \"24\", \"25\", \"26\", \"27\", \"28\", \"29\", \"30\", \"31\", \"32\", \"33\", \"34\", \"35\", \"38\", \"39\"], \"mode\": \"lines\", \"name\": \"AUC_micro_max\", \"stepped\": true, \"type\": \"scatter\", \"data\": [0.8907619797230186, 0.8956349206349208, 0.8956349206349208, 0.9239847454133168, 0.9239847454133168, 0.9239847454133168, 0.9239847454133168, 0.9239847454133168, 0.9239847454133168, 0.9239847454133168, 0.9239847454133168, 0.9239847454133168, 0.9239847454133168, 0.9239847454133168, 0.9239847454133168, 0.9239847454133168, 0.9239847454133168, 0.9239847454133168, 0.9239847454133168, 0.9239847454133168, 0.9239847454133168, 0.9239847454133168, 0.9239847454133168, 0.9239847454133168, 0.9239847454133168, 0.9239847454133168, 0.9239847454133168, 0.9239847454133168, 0.9239847454133168, 0.9239847454133168, 0.9239847454133168, 0.9239847454133168, 0.9239847454133168, 0.9239847454133168, 0.9239847454133168, 0.9239847454133168, 0.9247404471430446, 0.9247404471430446]}], \"norm_macro_recall\": [{\"categories\": [\"0\", \"1\", \"2\", \"3\", \"4\", \"5\", \"6\", \"7\", \"8\", \"9\", \"10\", \"11\", \"12\", \"13\", \"14\", \"15\", \"16\", \"17\", \"18\", \"19\", \"20\", \"21\", \"22\", \"23\", \"24\", \"25\", \"26\", \"27\", \"28\", \"29\", \"30\", \"31\", \"32\", \"33\", \"34\", \"35\", \"38\", \"39\"], \"mode\": \"markers\", \"name\": \"norm_macro_recall\", \"stepped\": false, \"type\": \"scatter\", \"data\": [0.6058080808080808, 0.595050505050505, 0.5981818181818181, 0.6874747474747475, 0.6487373737373736, 0.6062121212121212, 0.6985858585858585, 0.6878787878787879, 0.5978282828282827, 0.6617171717171717, 0.6200505050505051, 0.6217171717171717, 0.6837878787878788, 0.6396969696969698, 0.6460101010101009, 0.6057575757575757, 0.6233838383838384, 0.6962121212121213, 0.6546969696969697, 0.6498484848484848, 0.6287373737373738, 0.6348484848484848, 0.6259595959595958, 0.6017171717171718, 0.600050505050505, 0.639090909090909, 0.5900505050505049, 0.5983838383838382, 0.6387878787878788, 0.6213636363636363, 0.6026767676767677, 0.6230303030303028, 0.623080808080808, 0.678030303030303, 0.602070707070707, 0.6322727272727272, 0.6874747474747475, 0.43308080808080807]}, {\"categories\": [\"0\", \"1\", \"2\", \"3\", \"4\", \"5\", \"6\", \"7\", \"8\", \"9\", \"10\", \"11\", \"12\", \"13\", \"14\", \"15\", \"16\", \"17\", \"18\", \"19\", \"20\", \"21\", \"22\", \"23\", \"24\", \"25\", \"26\", \"27\", \"28\", \"29\", \"30\", \"31\", \"32\", \"33\", \"34\", \"35\", \"38\", \"39\"], \"mode\": \"lines\", \"name\": \"norm_macro_recall_max\", \"stepped\": true, \"type\": \"scatter\", \"data\": [0.6058080808080808, 0.6058080808080808, 0.6058080808080808, 0.6874747474747475, 0.6874747474747475, 0.6874747474747475, 0.6985858585858585, 0.6985858585858585, 0.6985858585858585, 0.6985858585858585, 0.6985858585858585, 0.6985858585858585, 0.6985858585858585, 0.6985858585858585, 0.6985858585858585, 0.6985858585858585, 0.6985858585858585, 0.6985858585858585, 0.6985858585858585, 0.6985858585858585, 0.6985858585858585, 0.6985858585858585, 0.6985858585858585, 0.6985858585858585, 0.6985858585858585, 0.6985858585858585, 0.6985858585858585, 0.6985858585858585, 0.6985858585858585, 0.6985858585858585, 0.6985858585858585, 0.6985858585858585, 0.6985858585858585, 0.6985858585858585, 0.6985858585858585, 0.6985858585858585, 0.6985858585858585, 0.6985858585858585]}], \"AUC_weighted\": [{\"categories\": [\"0\", \"1\", \"2\", \"3\", \"4\", \"5\", \"6\", \"7\", \"8\", \"9\", \"10\", \"11\", \"12\", \"13\", \"14\", \"15\", \"16\", \"17\", \"18\", \"19\", \"20\", \"21\", \"22\", \"23\", \"24\", \"25\", \"26\", \"27\", \"28\", \"29\", \"30\", \"31\", \"32\", \"33\", \"34\", \"35\", \"38\", \"39\"], \"mode\": \"markers\", \"name\": \"AUC_weighted\", \"stepped\": false, \"type\": \"scatter\", \"data\": [0.8951262626262626, 0.898013468013468, 0.8901178451178451, 0.9192171717171718, 0.9118771043771045, 0.8906818181818181, 0.9142592592592594, 0.9033080808080808, 0.9117592592592592, 0.9138468013468014, 0.8778872053872053, 0.9009764309764311, 0.9235942760942759, 0.8856986531986533, 0.9076683501683501, 0.837622053872054, 0.9024284511784512, 0.9151262626262625, 0.9013888888888889, 0.8914057239057238, 0.893905723905724, 0.9021127946127946, 0.9088552188552189, 0.908973063973064, 0.9036531986531988, 0.8892171717171717, 0.8988888888888891, 0.8979797979797981, 0.9221043771043771, 0.8937037037037037, 0.8883080808080808, 0.9017929292929294, 0.9026767676767676, 0.9006818181818183, 0.8941161616161617, 0.898080808080808, 0.9355555555555556, 0.9191245791245791]}, {\"categories\": [\"0\", \"1\", \"2\", \"3\", \"4\", \"5\", \"6\", \"7\", \"8\", \"9\", \"10\", \"11\", \"12\", \"13\", \"14\", \"15\", \"16\", \"17\", \"18\", \"19\", \"20\", \"21\", \"22\", \"23\", \"24\", \"25\", \"26\", \"27\", \"28\", \"29\", \"30\", \"31\", \"32\", \"33\", \"34\", \"35\", \"38\", \"39\"], \"mode\": \"lines\", \"name\": \"AUC_weighted_max\", \"stepped\": true, \"type\": \"scatter\", \"data\": [0.8951262626262626, 0.898013468013468, 0.898013468013468, 0.9192171717171718, 0.9192171717171718, 0.9192171717171718, 0.9192171717171718, 0.9192171717171718, 0.9192171717171718, 0.9192171717171718, 0.9192171717171718, 0.9192171717171718, 0.9235942760942759, 0.9235942760942759, 0.9235942760942759, 0.9235942760942759, 0.9235942760942759, 0.9235942760942759, 0.9235942760942759, 0.9235942760942759, 0.9235942760942759, 0.9235942760942759, 0.9235942760942759, 0.9235942760942759, 0.9235942760942759, 0.9235942760942759, 0.9235942760942759, 0.9235942760942759, 0.9235942760942759, 0.9235942760942759, 0.9235942760942759, 0.9235942760942759, 0.9235942760942759, 0.9235942760942759, 0.9235942760942759, 0.9235942760942759, 0.9355555555555556, 0.9355555555555556]}], \"average_precision_score_weighted\": [{\"categories\": [\"0\", \"1\", \"2\", \"3\", \"4\", \"5\", \"6\", \"7\", \"8\", \"9\", \"10\", \"11\", \"12\", \"13\", \"14\", \"15\", \"16\", \"17\", \"18\", \"19\", \"20\", \"21\", \"22\", \"23\", \"24\", \"25\", \"26\", \"27\", \"28\", \"29\", \"30\", \"31\", \"32\", \"33\", \"34\", \"35\", \"38\", \"39\"], \"mode\": \"markers\", \"name\": \"average_precision_score_weighted\", \"stepped\": false, \"type\": \"scatter\", \"data\": [0.9022461192200046, 0.9046875373002692, 0.896850939181917, 0.9262080932163558, 0.9166032298440021, 0.9008849942844606, 0.9229494394204298, 0.9077537904184402, 0.9203268727625409, 0.9183953222176957, 0.8912567388814825, 0.9069798769970656, 0.9317232442751623, 0.8944992343820045, 0.9150699089439742, 0.8448863761217004, 0.911424608241634, 0.920695463520541, 0.9120713783676923, 0.9007209262091204, 0.9046441825792526, 0.9112888157581024, 0.9154928921803493, 0.9186603432913895, 0.9148520916956544, 0.8975095662784136, 0.9097326670804315, 0.9089419234325449, 0.9271437041857412, 0.9065625916739665, 0.8976807483606567, 0.9139721899567201, 0.9109615263406828, 0.9103236852638767, 0.9066667835590978, 0.9107820206736363, 0.9394518940231318, 0.923646357977356]}, {\"categories\": [\"0\", \"1\", \"2\", \"3\", \"4\", \"5\", \"6\", \"7\", \"8\", \"9\", \"10\", \"11\", \"12\", \"13\", \"14\", \"15\", \"16\", \"17\", \"18\", \"19\", \"20\", \"21\", \"22\", \"23\", \"24\", \"25\", \"26\", \"27\", \"28\", \"29\", \"30\", \"31\", \"32\", \"33\", \"34\", \"35\", \"38\", \"39\"], \"mode\": \"lines\", \"name\": \"average_precision_score_weighted_max\", \"stepped\": true, \"type\": \"scatter\", \"data\": [0.9022461192200046, 0.9046875373002692, 0.9046875373002692, 0.9262080932163558, 0.9262080932163558, 0.9262080932163558, 0.9262080932163558, 0.9262080932163558, 0.9262080932163558, 0.9262080932163558, 0.9262080932163558, 0.9262080932163558, 0.9317232442751623, 0.9317232442751623, 0.9317232442751623, 0.9317232442751623, 0.9317232442751623, 0.9317232442751623, 0.9317232442751623, 0.9317232442751623, 0.9317232442751623, 0.9317232442751623, 0.9317232442751623, 0.9317232442751623, 0.9317232442751623, 0.9317232442751623, 0.9317232442751623, 0.9317232442751623, 0.9317232442751623, 0.9317232442751623, 0.9317232442751623, 0.9317232442751623, 0.9317232442751623, 0.9317232442751623, 0.9317232442751623, 0.9317232442751623, 0.9394518940231318, 0.9394518940231318]}], \"accuracy\": [{\"categories\": [\"0\", \"1\", \"2\", \"3\", \"4\", \"5\", \"6\", \"7\", \"8\", \"9\", \"10\", \"11\", \"12\", \"13\", \"14\", \"15\", \"16\", \"17\", \"18\", \"19\", \"20\", \"21\", \"22\", \"23\", \"24\", \"25\", \"26\", \"27\", \"28\", \"29\", \"30\", \"31\", \"32\", \"33\", \"34\", \"35\", \"38\", \"39\"], \"mode\": \"markers\", \"name\": \"accuracy\", \"stepped\": false, \"type\": \"scatter\", \"data\": [0.8025974025974026, 0.7976190476190476, 0.8069264069264068, 0.845021645021645, 0.83008658008658, 0.8119047619047619, 0.8495670995670996, 0.8445887445887446, 0.8021645021645021, 0.8305194805194803, 0.8123376623376624, 0.8209956709956711, 0.8448051948051948, 0.8218614718614718, 0.825974025974026, 0.8153679653679653, 0.8164502164502163, 0.8493506493506493, 0.8311688311688311, 0.825974025974026, 0.8212121212121213, 0.8209956709956711, 0.8166666666666667, 0.8019480519480519, 0.8017316017316019, 0.8214285714285714, 0.7969696969696971, 0.8017316017316019, 0.8261904761904761, 0.8214285714285714, 0.8071428571428572, 0.8123376623376624, 0.8121212121212121, 0.8448051948051948, 0.8028138528138526, 0.8166666666666667, 0.8448051948051948, 0.7147186147186148]}, {\"categories\": [\"0\", \"1\", \"2\", \"3\", \"4\", \"5\", \"6\", \"7\", \"8\", \"9\", \"10\", \"11\", \"12\", \"13\", \"14\", \"15\", \"16\", \"17\", \"18\", \"19\", \"20\", \"21\", \"22\", \"23\", \"24\", \"25\", \"26\", \"27\", \"28\", \"29\", \"30\", \"31\", \"32\", \"33\", \"34\", \"35\", \"38\", \"39\"], \"mode\": \"lines\", \"name\": \"accuracy_max\", \"stepped\": true, \"type\": \"scatter\", \"data\": [0.8025974025974026, 0.8025974025974026, 0.8069264069264068, 0.845021645021645, 0.845021645021645, 0.845021645021645, 0.8495670995670996, 0.8495670995670996, 0.8495670995670996, 0.8495670995670996, 0.8495670995670996, 0.8495670995670996, 0.8495670995670996, 0.8495670995670996, 0.8495670995670996, 0.8495670995670996, 0.8495670995670996, 0.8495670995670996, 0.8495670995670996, 0.8495670995670996, 0.8495670995670996, 0.8495670995670996, 0.8495670995670996, 0.8495670995670996, 0.8495670995670996, 0.8495670995670996, 0.8495670995670996, 0.8495670995670996, 0.8495670995670996, 0.8495670995670996, 0.8495670995670996, 0.8495670995670996, 0.8495670995670996, 0.8495670995670996, 0.8495670995670996, 0.8495670995670996, 0.8495670995670996, 0.8495670995670996]}]}, \"metricName\": null, \"primaryMetricName\": \"AUC_weighted\", \"showLegend\": false}, \"run_metrics\": [{\"name\": \"experiment_status\", \"run_id\": \"AutoML_9878cecf-275e-4b33-9afc-454388c7fa66\", \"categories\": [0, 1, 2, 3, 4, 5, 6, 7, 8, 9, 10, 11, 12, 13], \"series\": [{\"data\": [\"DatasetEvaluation\", \"FeaturesGeneration\", \"DatasetFeaturization\", \"DatasetFeaturizationCompleted\", \"DatasetCrossValidationSplit\", \"ModelSelection\", \"BestRunExplainModel\", \"ModelExplanationDataSetSetup\", \"PickSurrogateModel\", \"EngineeredFeatureExplanations\", \"EngineeredFeatureExplanations\", \"RawFeaturesExplanations\", \"RawFeaturesExplanations\", \"BestRunExplainModel\"]}]}, {\"name\": \"experiment_status_description\", \"run_id\": \"AutoML_9878cecf-275e-4b33-9afc-454388c7fa66\", \"categories\": [0, 1, 2, 3, 4, 5, 6, 7, 8, 9, 10, 11, 12, 13], \"series\": [{\"data\": [\"Gathering dataset statistics.\", \"Generating features for the dataset.\", \"Beginning to fit featurizers and featurize the dataset.\", \"Completed fit featurizers and featurizing the dataset.\", \"Generating individually featurized CV splits.\", \"Beginning model selection.\", \"Best run model explanations started\", \"Model explanations data setup completed\", \"Choosing LightGBM as the surrogate model for explanations\", \"Computation of engineered features started\", \"Computation of engineered features completed\", \"Computation of raw features started\", \"Computation of raw features completed\", \"Best run model explanations completed\"]}]}, {\"name\": \"average_precision_score_micro\", \"run_id\": \"AutoML_9878cecf-275e-4b33-9afc-454388c7fa66\", \"categories\": [0], \"series\": [{\"data\": [0.9251713837937269]}]}, {\"name\": \"precision_score_macro\", \"run_id\": \"AutoML_9878cecf-275e-4b33-9afc-454388c7fa66\", \"categories\": [0], \"series\": [{\"data\": [0.8511396936396937]}]}, {\"name\": \"matthews_correlation\", \"run_id\": \"AutoML_9878cecf-275e-4b33-9afc-454388c7fa66\", \"categories\": [0], \"series\": [{\"data\": [0.694628188951357]}]}, {\"name\": \"recall_score_weighted\", \"run_id\": \"AutoML_9878cecf-275e-4b33-9afc-454388c7fa66\", \"categories\": [0], \"series\": [{\"data\": [0.8448051948051948]}]}, {\"name\": \"f1_score_micro\", \"run_id\": \"AutoML_9878cecf-275e-4b33-9afc-454388c7fa66\", \"categories\": [0], \"series\": [{\"data\": [0.8448051948051948]}]}, {\"name\": \"AUC_macro\", \"run_id\": \"AutoML_9878cecf-275e-4b33-9afc-454388c7fa66\", \"categories\": [0], \"series\": [{\"data\": [0.9355555555555556]}]}, {\"name\": \"f1_score_macro\", \"run_id\": \"AutoML_9878cecf-275e-4b33-9afc-454388c7fa66\", \"categories\": [0], \"series\": [{\"data\": [0.8403555330248892]}]}, {\"name\": \"accuracy\", \"run_id\": \"AutoML_9878cecf-275e-4b33-9afc-454388c7fa66\", \"categories\": [0], \"series\": [{\"data\": [0.8448051948051948]}]}, {\"name\": \"AUC_micro\", \"run_id\": \"AutoML_9878cecf-275e-4b33-9afc-454388c7fa66\", \"categories\": [0], \"series\": [{\"data\": [0.9247404471430446]}]}, {\"name\": \"f1_score_weighted\", \"run_id\": \"AutoML_9878cecf-275e-4b33-9afc-454388c7fa66\", \"categories\": [0], \"series\": [{\"data\": [0.8440101782027529]}]}, {\"name\": \"recall_score_micro\", \"run_id\": \"AutoML_9878cecf-275e-4b33-9afc-454388c7fa66\", \"categories\": [0], \"series\": [{\"data\": [0.8448051948051948]}]}, {\"name\": \"balanced_accuracy\", \"run_id\": \"AutoML_9878cecf-275e-4b33-9afc-454388c7fa66\", \"categories\": [0], \"series\": [{\"data\": [0.8437373737373737]}]}, {\"name\": \"recall_score_macro\", \"run_id\": \"AutoML_9878cecf-275e-4b33-9afc-454388c7fa66\", \"categories\": [0], \"series\": [{\"data\": [0.8437373737373737]}]}, {\"name\": \"AUC_weighted\", \"run_id\": \"AutoML_9878cecf-275e-4b33-9afc-454388c7fa66\", \"categories\": [0], \"series\": [{\"data\": [0.9355555555555556]}]}, {\"name\": \"average_precision_score_macro\", \"run_id\": \"AutoML_9878cecf-275e-4b33-9afc-454388c7fa66\", \"categories\": [0], \"series\": [{\"data\": [0.9374136979866705]}]}, {\"name\": \"average_precision_score_weighted\", \"run_id\": \"AutoML_9878cecf-275e-4b33-9afc-454388c7fa66\", \"categories\": [0], \"series\": [{\"data\": [0.9394518940231318]}]}, {\"name\": \"precision_score_micro\", \"run_id\": \"AutoML_9878cecf-275e-4b33-9afc-454388c7fa66\", \"categories\": [0], \"series\": [{\"data\": [0.8448051948051948]}]}, {\"name\": \"precision_score_weighted\", \"run_id\": \"AutoML_9878cecf-275e-4b33-9afc-454388c7fa66\", \"categories\": [0], \"series\": [{\"data\": [0.8571978274251002]}]}, {\"name\": \"log_loss\", \"run_id\": \"AutoML_9878cecf-275e-4b33-9afc-454388c7fa66\", \"categories\": [0], \"series\": [{\"data\": [0.4239411880050629]}]}, {\"name\": \"weighted_accuracy\", \"run_id\": \"AutoML_9878cecf-275e-4b33-9afc-454388c7fa66\", \"categories\": [0], \"series\": [{\"data\": [0.8455929955058077]}]}, {\"name\": \"norm_macro_recall\", \"run_id\": \"AutoML_9878cecf-275e-4b33-9afc-454388c7fa66\", \"categories\": [0], \"series\": [{\"data\": [0.6874747474747475]}]}], \"run_logs\": \"\\nRun is completed.\", \"graph\": {}, \"widget_settings\": {\"childWidgetDisplay\": \"popup\", \"send_telemetry\": false, \"log_level\": \"INFO\", \"sdk_version\": \"1.26.0\"}, \"loading\": false}"
     },
     "metadata": {},
     "output_type": "display_data"
    },
    {
     "data": {
      "text/html": [
       "<table style=\"width:100%\"><tr><th>Experiment</th><th>Id</th><th>Type</th><th>Status</th><th>Details Page</th><th>Docs Page</th></tr><tr><td>automl-exp</td><td>AutoML_9878cecf-275e-4b33-9afc-454388c7fa66</td><td>automl</td><td>NotStarted</td><td><a href=\"https://ml.azure.com/runs/AutoML_9878cecf-275e-4b33-9afc-454388c7fa66?wsid=/subscriptions/6971f5ac-8af1-446e-8034-05acea24681f/resourcegroups/aml-quickstarts-142882/workspaces/quick-starts-ws-142882&amp;tid=660b3398-b80e-49d2-bc5b-ac1dc93b5254\" target=\"_blank\" rel=\"noopener\">Link to Azure Machine Learning studio</a></td><td><a href=\"https://docs.microsoft.com/en-us/python/api/overview/azure/ml/intro?view=azure-ml-py\" target=\"_blank\" rel=\"noopener\">Link to Documentation</a></td></tr></table>"
      ],
      "text/plain": [
       "<IPython.core.display.HTML object>"
      ]
     },
     "metadata": {},
     "output_type": "display_data"
    },
    {
     "name": "stdout",
     "output_type": "stream",
     "text": [
      "\n",
      "Current status: FeaturesGeneration. Generating features for the dataset.\n",
      "Current status: DatasetCrossValidationSplit. Generating individually featurized CV splits.\n",
      "Current status: ModelSelection. Beginning model selection.\n",
      "\n",
      "****************************************************************************************************\n",
      "DATA GUARDRAILS: \n",
      "\n",
      "TYPE:         Cross validation\n",
      "STATUS:       DONE\n",
      "DESCRIPTION:  Each iteration of the trained model was validated through cross-validation.\n",
      "              \n",
      "DETAILS:      \n",
      "+---------------------------------+\n",
      "|Number of folds                  |\n",
      "+=================================+\n",
      "|10                               |\n",
      "+---------------------------------+\n",
      "\n",
      "****************************************************************************************************\n",
      "\n",
      "TYPE:         Class balancing detection\n",
      "STATUS:       PASSED\n",
      "DESCRIPTION:  Your inputs were analyzed, and all classes are balanced in your training data.\n",
      "              Learn more about imbalanced data: https://aka.ms/AutomatedMLImbalancedData\n",
      "\n",
      "****************************************************************************************************\n",
      "\n",
      "TYPE:         Missing feature values imputation\n",
      "STATUS:       PASSED\n",
      "DESCRIPTION:  No feature missing values were detected in the training data.\n",
      "              Learn more about missing value imputation: https://aka.ms/AutomatedMLFeaturization\n",
      "\n",
      "****************************************************************************************************\n",
      "\n",
      "TYPE:         High cardinality feature detection\n",
      "STATUS:       PASSED\n",
      "DESCRIPTION:  Your inputs were analyzed, and no high cardinality features were detected.\n",
      "              Learn more about high cardinality feature handling: https://aka.ms/AutomatedMLFeaturization\n",
      "\n",
      "****************************************************************************************************\n",
      "\n",
      "****************************************************************************************************\n",
      "ITERATION: The iteration being evaluated.\n",
      "PIPELINE: A summary description of the pipeline being evaluated.\n",
      "DURATION: Time taken for the current iteration.\n",
      "METRIC: The result of computing score on the fitted pipeline.\n",
      "BEST: The best observed score thus far.\n",
      "****************************************************************************************************\n",
      "\n",
      " ITERATION   PIPELINE                                       DURATION      METRIC      BEST\n",
      "         1   MaxAbsScaler XGBoostClassifier                 0:02:36       0.8980    0.8980\n",
      "         0   MaxAbsScaler LightGBM                          0:02:41       0.8951    0.8980\n",
      "         2   MaxAbsScaler RandomForest                      0:02:42       0.8901    0.8980\n",
      "         3   MaxAbsScaler RandomForest                      0:02:37       0.9192    0.9192\n",
      "         4   MaxAbsScaler RandomForest                      0:02:43       0.9119    0.9192\n",
      "         5   MaxAbsScaler ExtremeRandomTrees                0:00:53       0.8907    0.9192\n",
      "         7   MaxAbsScaler ExtremeRandomTrees                0:01:24       0.9033    0.9192\n",
      "         9   MaxAbsScaler ExtremeRandomTrees                0:01:00       0.9138    0.9192\n",
      "         6   MaxAbsScaler ExtremeRandomTrees                0:01:27       0.9143    0.9192\n",
      "         8   MaxAbsScaler RandomForest                      0:01:31       0.9118    0.9192\n",
      "        10   MaxAbsScaler RandomForest                      0:00:43       0.8779    0.9192\n",
      "        12   MaxAbsScaler RandomForest                      0:00:45       0.9236    0.9236\n",
      "        14   MaxAbsScaler RandomForest                      0:00:42       0.9077    0.9236\n",
      "        13   StandardScalerWrapper XGBoostClassifier        0:00:59       0.8857    0.9236\n",
      "        15   StandardScalerWrapper ExtremeRandomTrees       0:00:44       0.8376    0.9236\n",
      "        11   MaxAbsScaler RandomForest                      0:01:51       0.9010    0.9236\n",
      "        16   MaxAbsScaler ExtremeRandomTrees                0:00:58       0.9024    0.9236\n",
      "        17   MaxAbsScaler ExtremeRandomTrees                0:00:55       0.9151    0.9236\n",
      "        18   MaxAbsScaler RandomForest                      0:01:00       0.9014    0.9236\n",
      "        19   MaxAbsScaler LightGBM                          0:00:54       0.8914    0.9236\n",
      "        20   MaxAbsScaler LightGBM                          0:00:41       0.8939    0.9236\n",
      "        21   MaxAbsScaler LightGBM                          0:00:53       0.9021    0.9236\n",
      "        22   MaxAbsScaler LightGBM                          0:00:52       0.9089    0.9236\n",
      "        23   MaxAbsScaler LogisticRegression                0:00:43       0.9090    0.9236\n",
      "        24   MaxAbsScaler LogisticRegression                0:00:43       0.9037    0.9236\n",
      "        25   MaxAbsScaler RandomForest                      0:00:44       0.8892    0.9236\n",
      "        26   MaxAbsScaler LogisticRegression                0:02:27       0.8989    0.9236\n",
      "        27   MaxAbsScaler LogisticRegression                0:02:27       0.8980    0.9236\n",
      "        28   MaxAbsScaler LightGBM                          0:02:27       0.9221    0.9236\n",
      "        29   MaxAbsScaler LightGBM                          0:02:29       0.8937    0.9236\n",
      "        30   SparseNormalizer RandomForest                  0:02:24       0.8883    0.9236\n",
      "        31   SparseNormalizer XGBoostClassifier             0:00:43       0.9018    0.9236\n",
      "        34   SparseNormalizer XGBoostClassifier             0:00:39       0.8941    0.9236\n",
      "        32   SparseNormalizer RandomForest                  0:00:48       0.9027    0.9236\n",
      "        33   SparseNormalizer XGBoostClassifier             0:00:45       0.9007    0.9236\n",
      "        35   StandardScalerWrapper XGBoostClassifier        0:00:46       0.8981    0.9236\n",
      "        36                                                  0:00:18          nan    0.9236\n",
      "        37                                                  0:00:12          nan    0.9236\n",
      "        38    VotingEnsemble                                0:01:21       0.9356    0.9356\n",
      "        39    StackEnsemble                                 0:01:21       0.9191    0.9356\n"
     ]
    }
   ],
   "source": [
    "RunDetails(remote_run).show()\n",
    "remote_run.wait_for_completion(show_output=True)\n",
    "assert(remote_run.get_status() == \"Completed\")"
   ]
  },
  {
   "cell_type": "code",
   "execution_count": 58,
   "metadata": {
    "scrolled": true
   },
   "outputs": [
    {
     "data": {
      "text/plain": [
       "(Run(Experiment: automl-exp,\n",
       " Id: AutoML_9878cecf-275e-4b33-9afc-454388c7fa66_38,\n",
       " Type: azureml.scriptrun,\n",
       " Status: Completed),\n",
       " Pipeline(memory=None,\n",
       "          steps=[('datatransformer',\n",
       "                  DataTransformer(enable_dnn=None, enable_feature_sweeping=None,\n",
       "                                  feature_sweeping_config=None,\n",
       "                                  feature_sweeping_timeout=None,\n",
       "                                  featurization_config=None, force_text_dnn=None,\n",
       "                                  is_cross_validation=None,\n",
       "                                  is_onnx_compatible=None, logger=None,\n",
       "                                  observer=None, task=None, working_dir=None)),\n",
       "                 ('prefittedsoftvotingclassifier',...\n",
       "                                                                                                scale_pos_weight=1,\n",
       "                                                                                                seed=None,\n",
       "                                                                                                silent=None,\n",
       "                                                                                                subsample=1,\n",
       "                                                                                                tree_method='auto',\n",
       "                                                                                                verbose=-10,\n",
       "                                                                                                verbosity=0))],\n",
       "                                                                      verbose=False))],\n",
       "                                                flatten_transform=None,\n",
       "                                                weights=[0.07692307692307693,\n",
       "                                                         0.07692307692307693,\n",
       "                                                         0.15384615384615385,\n",
       "                                                         0.07692307692307693,\n",
       "                                                         0.07692307692307693,\n",
       "                                                         0.07692307692307693,\n",
       "                                                         0.15384615384615385,\n",
       "                                                         0.07692307692307693,\n",
       "                                                         0.15384615384615385,\n",
       "                                                         0.07692307692307693]))],\n",
       "          verbose=False))"
      ]
     },
     "execution_count": 58,
     "metadata": {},
     "output_type": "execute_result"
    }
   ],
   "source": [
    "remote_run.get_output()"
   ]
  },
  {
   "cell_type": "markdown",
   "metadata": {},
   "source": [
    "## Best Model\n",
    "\n",
    "TODO: In the cell below, get the best model from the automl experiments and display all the properties of the model.\n",
    "\n"
   ]
  },
  {
   "cell_type": "code",
   "execution_count": 59,
   "metadata": {
    "gather": {
     "logged": 1598431425670
    },
    "jupyter": {
     "outputs_hidden": false,
     "source_hidden": false
    },
    "nteract": {
     "transient": {
      "deleting": false
     }
    }
   },
   "outputs": [],
   "source": [
    "automl_best_run = remote_run.get_best_child()"
   ]
  },
  {
   "cell_type": "code",
   "execution_count": 60,
   "metadata": {
    "gather": {
     "logged": 1598431426111
    },
    "jupyter": {
     "outputs_hidden": false,
     "source_hidden": false
    },
    "nteract": {
     "transient": {
      "deleting": false
     }
    }
   },
   "outputs": [],
   "source": [
    "#TODO: Save the best model\n",
    "amodel= automl_best_run.register_model(model_name='udacity-automl-project', model_path='./outputs/model.pkl')"
   ]
  },
  {
   "cell_type": "code",
   "execution_count": 61,
   "metadata": {},
   "outputs": [
    {
     "data": {
      "text/plain": [
       "Pipeline(memory=None,\n",
       "         steps=[('datatransformer',\n",
       "                 DataTransformer(enable_dnn=None, enable_feature_sweeping=None,\n",
       "                                 feature_sweeping_config=None,\n",
       "                                 feature_sweeping_timeout=None,\n",
       "                                 featurization_config=None, force_text_dnn=None,\n",
       "                                 is_cross_validation=None,\n",
       "                                 is_onnx_compatible=None, logger=None,\n",
       "                                 observer=None, task=None, working_dir=None)),\n",
       "                ('prefittedsoftvotingclassifier',...\n",
       "                                                                                               scale_pos_weight=1,\n",
       "                                                                                               seed=None,\n",
       "                                                                                               silent=None,\n",
       "                                                                                               subsample=1,\n",
       "                                                                                               tree_method='auto',\n",
       "                                                                                               verbose=-10,\n",
       "                                                                                               verbosity=0))],\n",
       "                                                                     verbose=False))],\n",
       "                                               flatten_transform=None,\n",
       "                                               weights=[0.07692307692307693,\n",
       "                                                        0.07692307692307693,\n",
       "                                                        0.15384615384615385,\n",
       "                                                        0.07692307692307693,\n",
       "                                                        0.07692307692307693,\n",
       "                                                        0.07692307692307693,\n",
       "                                                        0.15384615384615385,\n",
       "                                                        0.07692307692307693,\n",
       "                                                        0.15384615384615385,\n",
       "                                                        0.07692307692307693]))],\n",
       "         verbose=False)"
      ]
     },
     "execution_count": 61,
     "metadata": {},
     "output_type": "execute_result"
    }
   ],
   "source": [
    "temp_model = remote_run.get_output()\n",
    "temp_model[-1]"
   ]
  },
  {
   "cell_type": "markdown",
   "metadata": {},
   "source": [
    "## Model Deployment\n",
    "\n",
    "Remember you have to deploy only one of the two models you trained.. Perform the steps in the rest of this notebook only if you wish to deploy this model.\n",
    "\n",
    "TODO: In the cell below, register the model, create an inference config and deploy the model as a web service."
   ]
  },
  {
   "cell_type": "code",
   "execution_count": 80,
   "metadata": {},
   "outputs": [],
   "source": [
    "from azureml.core import Environment\n",
    "import sklearn\n",
    "from azureml.core.conda_dependencies import CondaDependencies\n",
    "\n",
    "\n",
    "environment = Environment('my-sklearn-environment')\n",
    "environment.python.conda_dependencies = CondaDependencies.create(pip_packages=[\n",
    "    'azureml-defaults',\n",
    "    'inference-schema[numpy-support]',\n",
    "    'joblib',\n",
    "    'numpy',\n",
    "    'azureml-automl-core',\n",
    "    'azureml-automl-runtime',\n",
    "    'packaging',\n",
    "    'xgboost==0.90',\n",
    "    'scikit-learn=={}'.format(sklearn.__version__)\n",
    "])"
   ]
  },
  {
   "cell_type": "code",
   "execution_count": 85,
   "metadata": {
    "scrolled": true
   },
   "outputs": [
    {
     "name": "stdout",
     "output_type": "stream",
     "text": [
      "import joblib\n",
      "import numpy as np\n",
      "import os\n",
      "import pickle\n",
      "import json\n",
      "\n",
      "from inference_schema.schema_decorators import input_schema, output_schema\n",
      "from inference_schema.parameter_types.numpy_parameter_type import NumpyParameterType\n",
      "\n",
      "\n",
      "# The init() method is called once, when the web service starts up.\n",
      "#\n",
      "# Typically you would deserialize the model file, as shown here using joblib,\n",
      "# and store it in a global variable so your run() method can access it later.\n",
      "def init():\n",
      "    global model\n",
      "    print(\"HHHHH1\")\n",
      "\n",
      "    # The AZUREML_MODEL_DIR environment variable indicates\n",
      "    # a directory containing the model file you registered.\n",
      "    model_filename = 'model.pkl'\n",
      "    print(\"HHHHH2\")\n",
      "    model_path = os.path.join(os.environ['AZUREML_MODEL_DIR'], model_filename)\n",
      "    print(\"Found model:\",os.path.isfile(model_path))\n",
      "    print(\"HHHHH3\")\n",
      "    print(model_path)\n",
      "    print(\"what\")\n",
      "    #with open(model_path,'rb') as f:\n",
      "     #   data = pickle.load(f)\n",
      "    #print(\"HHHHH4\")\n",
      "    #with open('model.json','w+') as g:\n",
      "     #   json.dump(data,g)\n",
      "    print(\"HHHHH5\")\n",
      "    model = joblib.load(model_path)\n",
      "    print(\"HHHHHH6\")\n",
      "\n",
      "# The run() method is called each time a request is made to the scoring API.\n",
      "#\n",
      "# Shown here are the optional input_schema and output_schema decorators\n",
      "# from the inference-schema pip package. Using these decorators on your\n",
      "# run() method parses and validates the incoming payload against\n",
      "# the example input you provide here. This will also generate a Swagger\n",
      "# API document for your web service.\n",
      "@input_schema('data', NumpyParameterType(np.array([[0.1, 1.2, 2.3, 3.4, 4.5, 5.6, 6.7, 7.8, 8.9, 9.0]])))\n",
      "@output_schema(NumpyParameterType(np.array([4429.929236457418])))\n",
      "def run(data):\n",
      "    # Use the model object loaded by init().\n",
      "    result = model.predict(data)\n",
      "\n",
      "    # You can return any JSON-serializable object.\n",
      "    return result.tolist()\n"
     ]
    }
   ],
   "source": [
    "with open('score.py') as f:\n",
    "    print(f.read())"
   ]
  },
  {
   "cell_type": "code",
   "execution_count": 86,
   "metadata": {
    "gather": {
     "logged": 1598431435189
    },
    "jupyter": {
     "outputs_hidden": false,
     "source_hidden": false
    },
    "nteract": {
     "transient": {
      "deleting": false
     }
    }
   },
   "outputs": [
    {
     "name": "stdout",
     "output_type": "stream",
     "text": [
      "Downloading model udacity-automl-project:2 to /tmp/azureml_f1a8ybow/udacity-automl-project/2\n",
      "Generating Docker build context.\n",
      "Package creation Succeeded\n",
      "Logging into Docker registry 5252a490f3754564adbddaca254ca3ff.azurecr.io\n",
      "Logging into Docker registry 5252a490f3754564adbddaca254ca3ff.azurecr.io\n",
      "Building Docker image from Dockerfile...\n",
      "Step 1/5 : FROM 5252a490f3754564adbddaca254ca3ff.azurecr.io/azureml/azureml_7a680eced81598d47e771ec2cb704900\n",
      " ---> 08ac69bd1298\n",
      "Step 2/5 : COPY azureml-app /var/azureml-app\n",
      " ---> 530f5af2034e\n",
      "Step 3/5 : RUN mkdir -p '/var/azureml-app' && echo eyJhY2NvdW50Q29udGV4dCI6eyJzdWJzY3JpcHRpb25JZCI6IjY5NzFmNWFjLThhZjEtNDQ2ZS04MDM0LTA1YWNlYTI0NjgxZiIsInJlc291cmNlR3JvdXBOYW1lIjoiYW1sLXF1aWNrc3RhcnRzLTE0Mjg4MiIsImFjY291bnROYW1lIjoicXVpY2stc3RhcnRzLXdzLTE0Mjg4MiIsIndvcmtzcGFjZUlkIjoiNTI1MmE0OTAtZjM3NS00NTY0LWFkYmQtZGFjYTI1NGNhM2ZmIn0sIm1vZGVscyI6e30sIm1vZGVsc0luZm8iOnt9fQ== | base64 --decode > /var/azureml-app/model_config_map.json\n",
      " ---> Running in b0a4a0025a63\n",
      " ---> d3d986b27954\n",
      "Step 4/5 : RUN mv '/var/azureml-app/tmpcpm3plvc.py' /var/azureml-app/main.py\n",
      " ---> Running in cbe5ae8c38b8\n",
      " ---> 17874d6c3edd\n",
      "Step 5/5 : CMD [\"runsvdir\",\"/var/runit\"]\n",
      " ---> Running in a5e09fd18438\n",
      " ---> 82b3503de21f\n",
      "Successfully built 82b3503de21f\n",
      "Successfully tagged my-custom-env-service14:latest\n",
      "Container (name:blissful_visvesvaraya, id:ec1c3b0d3fc28dd72325f839744b2fc580e4abac5b062411860701af5ade993f) cannot be killed.\n",
      "Container has been successfully cleaned up.\n",
      "Image sha256:190af8c5af7ebb3bb9033bd8b424618a75a6865474a14cfd29d95f43377c1a7b successfully removed.\n",
      "Starting Docker container...\n",
      "Docker container running.\n",
      "Checking container health...\n",
      "Local webservice is running at http://localhost:6789\n"
     ]
    }
   ],
   "source": [
    "from azureml.core.model import InferenceConfig\n",
    "from azureml.core.webservice import AciWebservice, LocalWebservice\n",
    "from azureml.core import Model\n",
    "\n",
    "service_name = 'my-custom-env-service14'\n",
    "\n",
    "inference_config = InferenceConfig(entry_script='score.py', environment=environment)\n",
    "aci_config = LocalWebservice.deploy_configuration(port=6789)\n",
    "\n",
    "service = Model.deploy(workspace=ws,\n",
    "                       name=service_name,\n",
    "                       models=[amodel],\n",
    "                       inference_config=inference_config,\n",
    "                       deployment_config=aci_config,\n",
    "                       overwrite=True)\n",
    "service.wait_for_deployment(show_output=True)"
   ]
  },
  {
   "cell_type": "code",
   "execution_count": 87,
   "metadata": {
    "scrolled": true
   },
   "outputs": [
    {
     "name": "stdout",
     "output_type": "stream",
     "text": [
      "2021-04-16T23:25:27,979674144+00:00 - rsyslog/run \n",
      "2021-04-16T23:25:27,980456448+00:00 - gunicorn/run \n",
      "2021-04-16T23:25:27,980770449+00:00 - iot-server/run \n",
      "2021-04-16T23:25:27,984466266+00:00 - nginx/run \n",
      "/usr/sbin/nginx: /azureml-envs/azureml_7e29e14852b8e63cc438037e59324eb8/lib/libcrypto.so.1.0.0: no version information available (required by /usr/sbin/nginx)\n",
      "/usr/sbin/nginx: /azureml-envs/azureml_7e29e14852b8e63cc438037e59324eb8/lib/libcrypto.so.1.0.0: no version information available (required by /usr/sbin/nginx)\n",
      "/usr/sbin/nginx: /azureml-envs/azureml_7e29e14852b8e63cc438037e59324eb8/lib/libssl.so.1.0.0: no version information available (required by /usr/sbin/nginx)\n",
      "/usr/sbin/nginx: /azureml-envs/azureml_7e29e14852b8e63cc438037e59324eb8/lib/libssl.so.1.0.0: no version information available (required by /usr/sbin/nginx)\n",
      "/usr/sbin/nginx: /azureml-envs/azureml_7e29e14852b8e63cc438037e59324eb8/lib/libssl.so.1.0.0: no version information available (required by /usr/sbin/nginx)\n",
      "EdgeHubConnectionString and IOTEDGE_IOTHUBHOSTNAME are not set. Exiting...\n",
      "2021-04-16T23:25:28,077871693+00:00 - iot-server/finish 1 0\n",
      "2021-04-16T23:25:28,079173499+00:00 - Exit code 1 is normal. Not restarting iot-server.\n",
      "Starting gunicorn 19.9.0\n",
      "Listening at: http://127.0.0.1:31311 (14)\n",
      "Using worker: sync\n",
      "worker timeout is set to 300\n",
      "Booting worker with pid: 45\n",
      "SPARK_HOME not set. Skipping PySpark Initialization.\n",
      "Initializing logger\n",
      "2021-04-16 23:25:28,583 | root | INFO | Starting up app insights client\n",
      "2021-04-16 23:25:28,583 | root | INFO | Starting up request id generator\n",
      "2021-04-16 23:25:28,583 | root | INFO | Starting up app insight hooks\n",
      "2021-04-16 23:25:28,583 | root | INFO | Invoking user's init function\n",
      "HHHHH1\n",
      "HHHHH2\n",
      "Found model:\n",
      "True\n",
      "HHHHH3\n",
      "azureml-models/udacity-automl-project/2/model.pkl\n",
      "what\n",
      "HHHHH5\n",
      "HHHHHH6\n",
      "2021-04-16 23:25:31,083 | root | INFO | Users's init has completed successfully\n",
      "2021-04-16 23:25:31,087 | root | INFO | Skipping middleware: dbg_model_info as it's not enabled.\n",
      "2021-04-16 23:25:31,087 | root | INFO | Skipping middleware: dbg_resource_usage as it's not enabled.\n",
      "2021-04-16 23:25:31,088 | root | INFO | Scoring timeout setting is not found. Use default timeout: 3600000 ms\n",
      "\n"
     ]
    }
   ],
   "source": [
    "print(service.get_logs())"
   ]
  },
  {
   "cell_type": "markdown",
   "metadata": {
    "gather": {
     "logged": 1598431657736
    },
    "jupyter": {
     "outputs_hidden": false,
     "source_hidden": false
    },
    "nteract": {
     "transient": {
      "deleting": false
     }
    }
   },
   "source": [
    "TODO: In the cell below, send a request to the web service you deployed to test it."
   ]
  },
  {
   "cell_type": "code",
   "execution_count": 22,
   "metadata": {
    "gather": {
     "logged": 1598432707604
    },
    "jupyter": {
     "outputs_hidden": false,
     "source_hidden": false
    },
    "nteract": {
     "transient": {
      "deleting": false
     }
    }
   },
   "outputs": [
    {
     "ename": "NameError",
     "evalue": "name 'rest_endpoint' is not defined",
     "output_type": "error",
     "traceback": [
      "\u001b[0;31m---------------------------------------------------------------------------\u001b[0m",
      "\u001b[0;31mNameError\u001b[0m                                 Traceback (most recent call last)",
      "\u001b[0;32m<ipython-input-22-581c895a149c>\u001b[0m in \u001b[0;36m<module>\u001b[0;34m\u001b[0m\n\u001b[1;32m      6\u001b[0m \u001b[0;32mtry\u001b[0m\u001b[0;34m:\u001b[0m\u001b[0;34m\u001b[0m\u001b[0;34m\u001b[0m\u001b[0m\n\u001b[0;32m----> 7\u001b[0;31m     \u001b[0mresponse\u001b[0m\u001b[0;34m.\u001b[0m\u001b[0mraise_for_status\u001b[0m\u001b[0;34m(\u001b[0m\u001b[0;34m)\u001b[0m\u001b[0;34m\u001b[0m\u001b[0;34m\u001b[0m\u001b[0m\n\u001b[0m\u001b[1;32m      8\u001b[0m \u001b[0;32mexcept\u001b[0m \u001b[0mException\u001b[0m\u001b[0;34m:\u001b[0m\u001b[0;34m\u001b[0m\u001b[0;34m\u001b[0m\u001b[0m\n",
      "\u001b[0;31mNameError\u001b[0m: name 'response' is not defined",
      "\nDuring handling of the above exception, another exception occurred:\n",
      "\u001b[0;31mNameError\u001b[0m                                 Traceback (most recent call last)",
      "\u001b[0;32m<ipython-input-22-581c895a149c>\u001b[0m in \u001b[0;36m<module>\u001b[0;34m\u001b[0m\n\u001b[1;32m     10\u001b[0m                     \u001b[0;34m\"Response Code: {}\\n\"\u001b[0m\u001b[0;34m\u001b[0m\u001b[0;34m\u001b[0m\u001b[0m\n\u001b[1;32m     11\u001b[0m                     \u001b[0;34m\"Headers: {}\\n\"\u001b[0m\u001b[0;34m\u001b[0m\u001b[0;34m\u001b[0m\u001b[0m\n\u001b[0;32m---> 12\u001b[0;31m                     \"Content: {}\".format(rest_endpoint, response.status_code, response.headers, response.content))\n\u001b[0m\u001b[1;32m     13\u001b[0m \u001b[0;34m\u001b[0m\u001b[0m\n\u001b[1;32m     14\u001b[0m \u001b[0mrun_id\u001b[0m \u001b[0;34m=\u001b[0m \u001b[0mresponse\u001b[0m\u001b[0;34m.\u001b[0m\u001b[0mjson\u001b[0m\u001b[0;34m(\u001b[0m\u001b[0;34m)\u001b[0m\u001b[0;34m.\u001b[0m\u001b[0mget\u001b[0m\u001b[0;34m(\u001b[0m\u001b[0;34m'Id'\u001b[0m\u001b[0;34m)\u001b[0m\u001b[0;34m\u001b[0m\u001b[0;34m\u001b[0m\u001b[0m\n",
      "\u001b[0;31mNameError\u001b[0m: name 'rest_endpoint' is not defined"
     ]
    }
   ],
   "source": [
    "import json\n",
    "\n",
    "\n",
    "input_payload = json.dumps({\n",
    "    'data': X_test,\n",
    "    'method': 'predict_prova'  # If you have a classification model, you can get probabilities by changing this to 'predict_proba'.\n",
    "})\n",
    "\n",
    "output = service.run(input_payload)\n"
   ]
  },
  {
   "cell_type": "markdown",
   "metadata": {
    "gather": {
     "logged": 1598432765711
    },
    "jupyter": {
     "outputs_hidden": false,
     "source_hidden": false
    },
    "nteract": {
     "transient": {
      "deleting": false
     }
    }
   },
   "source": [
    "TODO: In the cell below, print the logs of the web service and delete the service"
   ]
  },
  {
   "cell_type": "code",
   "execution_count": null,
   "metadata": {
    "jupyter": {
     "outputs_hidden": false,
     "source_hidden": false
    },
    "nteract": {
     "transient": {
      "deleting": false
     }
    }
   },
   "outputs": [],
   "source": [
    "print(output)"
   ]
  },
  {
   "cell_type": "code",
   "execution_count": null,
   "metadata": {},
   "outputs": [],
   "source": [
    "service.delete()"
   ]
  }
 ],
 "metadata": {
  "kernel_info": {
   "name": "python3"
  },
  "kernelspec": {
   "display_name": "Python 3",
   "language": "python",
   "name": "python3"
  },
  "language_info": {
   "codemirror_mode": {
    "name": "ipython",
    "version": 3
   },
   "file_extension": ".py",
   "mimetype": "text/x-python",
   "name": "python",
   "nbconvert_exporter": "python",
   "pygments_lexer": "ipython3",
   "version": "3.6.9"
  },
  "nteract": {
   "version": "nteract-front-end@1.0.0"
  }
 },
 "nbformat": 4,
 "nbformat_minor": 4
}
