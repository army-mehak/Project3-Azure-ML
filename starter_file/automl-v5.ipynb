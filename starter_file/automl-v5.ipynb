{
 "cells": [
  {
   "cell_type": "markdown",
   "metadata": {},
   "source": [
    "# Automated ML\n",
    "\n",
    "TODO: Import Dependencies. In the cell below, import all the dependencies that you will need to complete the project."
   ]
  },
  {
   "cell_type": "markdown",
   "metadata": {},
   "source": [
    "#### --Import Statements--"
   ]
  },
  {
   "cell_type": "code",
   "execution_count": 1,
   "metadata": {},
   "outputs": [],
   "source": [
    "from azureml.core import Workspace, Experiment\n",
    "from azureml.core.compute import ComputeTarget, AmlCompute\n",
    "from azureml.core.compute_target import ComputeTargetException\n",
    "\n",
    "import pandas as pd\n",
    "import numpy as np\n",
    "\n",
    "from sklearn.preprocessing import StandardScaler\n",
    "from sklearn.model_selection import train_test_split\n",
    "\n",
    "from azureml.train.automl import AutoMLConfig\n",
    "from azureml.pipeline.steps import AutoMLStep\n",
    "\n",
    "from azureml.data.dataset_factory import TabularDatasetFactory\n",
    "from azureml.core import Workspace, Datastore\n",
    "from azureml.core.dataset import Dataset\n",
    "\n",
    "from azureml.pipeline.core.run import PipelineRun\n",
    "from azureml.widgets import RunDetails"
   ]
  },
  {
   "cell_type": "markdown",
   "metadata": {},
   "source": [
    "#### --Worspace Initialization--"
   ]
  },
  {
   "cell_type": "code",
   "execution_count": 2,
   "metadata": {
    "collapsed": false,
    "gather": {
     "logged": 1598423888013
    },
    "jupyter": {
     "outputs_hidden": false,
     "source_hidden": false
    },
    "nteract": {
     "transient": {
      "deleting": false
     }
    }
   },
   "outputs": [],
   "source": [
    "#---------------------------------------------------------------------------------------------------\n",
    "#1. Initialize Workspace\n",
    "# from azureml.core import Workspace, Experiment\n",
    "\n",
    "# ws = Workspace.get(name=\"quick-starts-ws-135395\")\n",
    "# exp = Experiment(workspace=ws, name=\"udacity-project3\")\n",
    "\n",
    "# print('Workspace name: ' + ws.name, \n",
    "#       'Azure region: ' + ws.location, \n",
    "#       'Subscription id: ' + ws.subscription_id, \n",
    "#       'Resource group: ' + ws.resource_group, sep = '\\n')\n",
    "\n",
    "# run = exp.start_logging()"
   ]
  },
  {
   "cell_type": "markdown",
   "metadata": {},
   "source": [
    "## Dataset\n",
    "\n",
    "### Overview\n",
    "TODO: In this markdown cell, give an overview of the dataset you are using. Also mention the task you will be performing.\n",
    "\n",
    "\n",
    "TODO: Get data. In the cell below, write code to access the data you will be using in this project. Remember that the dataset needs to be external."
   ]
  },
  {
   "cell_type": "markdown",
   "metadata": {},
   "source": [
    "To perform AutoML, these are the steps involved:\n",
    "- Initialization workspace \n",
    "- Setting up compute target\n",
    "- Importing the dataset\n",
    "\n",
    "The dataset consist information of patient that might be having heart disease. The target column has values 0 and 1 which determines if the patients has heart disease.\n",
    "There are 14 attributes:\n",
    "1. age\n",
    "2. sex\n",
    "3. chest pain type\n",
    "4. resting blood pressure\n",
    "5. add more"
   ]
  },
  {
   "cell_type": "code",
   "execution_count": 3,
   "metadata": {
    "collapsed": false,
    "gather": {
     "logged": 1598423890461
    },
    "jupyter": {
     "outputs_hidden": false,
     "source_hidden": false
    },
    "nteract": {
     "transient": {
      "deleting": false
     }
    }
   },
   "outputs": [],
   "source": [
    "ws = Workspace.from_config()\n",
    "\n",
    "# choose a name for experiment\n",
    "experiment_name = 'udacity-project3'\n",
    "\n",
    "experiment=Experiment(ws, experiment_name)"
   ]
  },
  {
   "cell_type": "markdown",
   "metadata": {},
   "source": [
    "#### --Compute Target Object--"
   ]
  },
  {
   "cell_type": "code",
   "execution_count": 4,
   "metadata": {},
   "outputs": [
    {
     "name": "stdout",
     "output_type": "stream",
     "text": [
      "Found existing cluster, use it.\n",
      "\n",
      "Running\n"
     ]
    }
   ],
   "source": [
    "cpu_cluster_name = \"cpu-cluster2\"\n",
    "\n",
    "try: #--- Verify that cluster does not exist already\n",
    "    cpu_cluster = ComputeTarget(workspace=ws, name=cpu_cluster_name)\n",
    "    print('Found existing cluster, use it.')\n",
    "    \n",
    "except ComputeTargetException:\n",
    "    compute_config = AmlCompute.provisioning_configuration(vm_size='STANDARD_D2_V2', max_nodes=4)\n",
    "    cpu_cluster = ComputeTarget.create(ws, cpu_cluster_name, compute_config)\n",
    "\n",
    "cpu_cluster.wait_for_completion(show_output=True)"
   ]
  },
  {
   "cell_type": "markdown",
   "metadata": {},
   "source": [
    "#### --Dataset Object--"
   ]
  },
  {
   "cell_type": "code",
   "execution_count": 5,
   "metadata": {},
   "outputs": [
    {
     "data": {
      "text/html": [
       "<div>\n",
       "<style scoped>\n",
       "    .dataframe tbody tr th:only-of-type {\n",
       "        vertical-align: middle;\n",
       "    }\n",
       "\n",
       "    .dataframe tbody tr th {\n",
       "        vertical-align: top;\n",
       "    }\n",
       "\n",
       "    .dataframe thead th {\n",
       "        text-align: right;\n",
       "    }\n",
       "</style>\n",
       "<table border=\"1\" class=\"dataframe\">\n",
       "  <thead>\n",
       "    <tr style=\"text-align: right;\">\n",
       "      <th></th>\n",
       "      <th>age</th>\n",
       "      <th>sex</th>\n",
       "      <th>cp</th>\n",
       "      <th>trestbps</th>\n",
       "      <th>chol</th>\n",
       "      <th>fbs</th>\n",
       "      <th>restecg</th>\n",
       "      <th>thalach</th>\n",
       "      <th>exang</th>\n",
       "      <th>oldpeak</th>\n",
       "      <th>slope</th>\n",
       "      <th>ca</th>\n",
       "      <th>thal</th>\n",
       "      <th>target</th>\n",
       "    </tr>\n",
       "  </thead>\n",
       "  <tbody>\n",
       "    <tr>\n",
       "      <th>count</th>\n",
       "      <td>303.000000</td>\n",
       "      <td>303.000000</td>\n",
       "      <td>303.000000</td>\n",
       "      <td>303.000000</td>\n",
       "      <td>303.000000</td>\n",
       "      <td>303.000000</td>\n",
       "      <td>303.000000</td>\n",
       "      <td>303.000000</td>\n",
       "      <td>303.000000</td>\n",
       "      <td>303.000000</td>\n",
       "      <td>303.000000</td>\n",
       "      <td>303.000000</td>\n",
       "      <td>303.000000</td>\n",
       "      <td>303.000000</td>\n",
       "    </tr>\n",
       "    <tr>\n",
       "      <th>mean</th>\n",
       "      <td>54.366337</td>\n",
       "      <td>0.683168</td>\n",
       "      <td>0.966997</td>\n",
       "      <td>131.623762</td>\n",
       "      <td>246.264026</td>\n",
       "      <td>0.148515</td>\n",
       "      <td>0.528053</td>\n",
       "      <td>149.646865</td>\n",
       "      <td>0.326733</td>\n",
       "      <td>1.039604</td>\n",
       "      <td>1.399340</td>\n",
       "      <td>0.729373</td>\n",
       "      <td>2.313531</td>\n",
       "      <td>0.544554</td>\n",
       "    </tr>\n",
       "    <tr>\n",
       "      <th>std</th>\n",
       "      <td>9.082101</td>\n",
       "      <td>0.466011</td>\n",
       "      <td>1.032052</td>\n",
       "      <td>17.538143</td>\n",
       "      <td>51.830751</td>\n",
       "      <td>0.356198</td>\n",
       "      <td>0.525860</td>\n",
       "      <td>22.905161</td>\n",
       "      <td>0.469794</td>\n",
       "      <td>1.161075</td>\n",
       "      <td>0.616226</td>\n",
       "      <td>1.022606</td>\n",
       "      <td>0.612277</td>\n",
       "      <td>0.498835</td>\n",
       "    </tr>\n",
       "    <tr>\n",
       "      <th>min</th>\n",
       "      <td>29.000000</td>\n",
       "      <td>0.000000</td>\n",
       "      <td>0.000000</td>\n",
       "      <td>94.000000</td>\n",
       "      <td>126.000000</td>\n",
       "      <td>0.000000</td>\n",
       "      <td>0.000000</td>\n",
       "      <td>71.000000</td>\n",
       "      <td>0.000000</td>\n",
       "      <td>0.000000</td>\n",
       "      <td>0.000000</td>\n",
       "      <td>0.000000</td>\n",
       "      <td>0.000000</td>\n",
       "      <td>0.000000</td>\n",
       "    </tr>\n",
       "    <tr>\n",
       "      <th>25%</th>\n",
       "      <td>47.500000</td>\n",
       "      <td>0.000000</td>\n",
       "      <td>0.000000</td>\n",
       "      <td>120.000000</td>\n",
       "      <td>211.000000</td>\n",
       "      <td>0.000000</td>\n",
       "      <td>0.000000</td>\n",
       "      <td>133.500000</td>\n",
       "      <td>0.000000</td>\n",
       "      <td>0.000000</td>\n",
       "      <td>1.000000</td>\n",
       "      <td>0.000000</td>\n",
       "      <td>2.000000</td>\n",
       "      <td>0.000000</td>\n",
       "    </tr>\n",
       "    <tr>\n",
       "      <th>50%</th>\n",
       "      <td>55.000000</td>\n",
       "      <td>1.000000</td>\n",
       "      <td>1.000000</td>\n",
       "      <td>130.000000</td>\n",
       "      <td>240.000000</td>\n",
       "      <td>0.000000</td>\n",
       "      <td>1.000000</td>\n",
       "      <td>153.000000</td>\n",
       "      <td>0.000000</td>\n",
       "      <td>0.800000</td>\n",
       "      <td>1.000000</td>\n",
       "      <td>0.000000</td>\n",
       "      <td>2.000000</td>\n",
       "      <td>1.000000</td>\n",
       "    </tr>\n",
       "    <tr>\n",
       "      <th>75%</th>\n",
       "      <td>61.000000</td>\n",
       "      <td>1.000000</td>\n",
       "      <td>2.000000</td>\n",
       "      <td>140.000000</td>\n",
       "      <td>274.500000</td>\n",
       "      <td>0.000000</td>\n",
       "      <td>1.000000</td>\n",
       "      <td>166.000000</td>\n",
       "      <td>1.000000</td>\n",
       "      <td>1.600000</td>\n",
       "      <td>2.000000</td>\n",
       "      <td>1.000000</td>\n",
       "      <td>3.000000</td>\n",
       "      <td>1.000000</td>\n",
       "    </tr>\n",
       "    <tr>\n",
       "      <th>max</th>\n",
       "      <td>77.000000</td>\n",
       "      <td>1.000000</td>\n",
       "      <td>3.000000</td>\n",
       "      <td>200.000000</td>\n",
       "      <td>564.000000</td>\n",
       "      <td>1.000000</td>\n",
       "      <td>2.000000</td>\n",
       "      <td>202.000000</td>\n",
       "      <td>1.000000</td>\n",
       "      <td>6.200000</td>\n",
       "      <td>2.000000</td>\n",
       "      <td>4.000000</td>\n",
       "      <td>3.000000</td>\n",
       "      <td>1.000000</td>\n",
       "    </tr>\n",
       "  </tbody>\n",
       "</table>\n",
       "</div>"
      ],
      "text/plain": [
       "              age         sex          cp    trestbps        chol         fbs  \\\n",
       "count  303.000000  303.000000  303.000000  303.000000  303.000000  303.000000   \n",
       "mean    54.366337    0.683168    0.966997  131.623762  246.264026    0.148515   \n",
       "std      9.082101    0.466011    1.032052   17.538143   51.830751    0.356198   \n",
       "min     29.000000    0.000000    0.000000   94.000000  126.000000    0.000000   \n",
       "25%     47.500000    0.000000    0.000000  120.000000  211.000000    0.000000   \n",
       "50%     55.000000    1.000000    1.000000  130.000000  240.000000    0.000000   \n",
       "75%     61.000000    1.000000    2.000000  140.000000  274.500000    0.000000   \n",
       "max     77.000000    1.000000    3.000000  200.000000  564.000000    1.000000   \n",
       "\n",
       "          restecg     thalach       exang     oldpeak       slope          ca  \\\n",
       "count  303.000000  303.000000  303.000000  303.000000  303.000000  303.000000   \n",
       "mean     0.528053  149.646865    0.326733    1.039604    1.399340    0.729373   \n",
       "std      0.525860   22.905161    0.469794    1.161075    0.616226    1.022606   \n",
       "min      0.000000   71.000000    0.000000    0.000000    0.000000    0.000000   \n",
       "25%      0.000000  133.500000    0.000000    0.000000    1.000000    0.000000   \n",
       "50%      1.000000  153.000000    0.000000    0.800000    1.000000    0.000000   \n",
       "75%      1.000000  166.000000    1.000000    1.600000    2.000000    1.000000   \n",
       "max      2.000000  202.000000    1.000000    6.200000    2.000000    4.000000   \n",
       "\n",
       "             thal      target  \n",
       "count  303.000000  303.000000  \n",
       "mean     2.313531    0.544554  \n",
       "std      0.612277    0.498835  \n",
       "min      0.000000    0.000000  \n",
       "25%      2.000000    0.000000  \n",
       "50%      2.000000    1.000000  \n",
       "75%      3.000000    1.000000  \n",
       "max      3.000000    1.000000  "
      ]
     },
     "execution_count": 5,
     "metadata": {},
     "output_type": "execute_result"
    }
   ],
   "source": [
    "key = \"heart-dataset\"\n",
    "description_text = \"Heart Disease dataset\"\n",
    "\n",
    "#-- Dataset Call\n",
    "if key in ws.datasets.keys(): \n",
    "        found = True\n",
    "        dataset = ws.datasets[key] \n",
    "df = dataset.to_pandas_dataframe()\n",
    "df.describe()"
   ]
  },
  {
   "cell_type": "code",
   "execution_count": 6,
   "metadata": {},
   "outputs": [],
   "source": [
    "## --Preprocessing Data--"
   ]
  },
  {
   "cell_type": "code",
   "execution_count": 7,
   "metadata": {},
   "outputs": [],
   "source": [
    "#-- Preprocessing Data\n",
    "## Input is X, Output is Y\n",
    "## Performing Standardization on Bloodpressure, Cholestrol, Thalac\n",
    "## Binning Age grp into 7 groups\n",
    "##Drop null rows\n",
    "\n",
    "### standardization\n",
    "x_df = dataset.to_pandas_dataframe().dropna() #drop any rows with null values\n",
    "y_df = x_df.pop(\"target\")\n",
    "x_df[['trestbps', 'chol', 'thalach']] = StandardScaler().fit_transform(x_df[['trestbps', 'chol', 'thalach']])\n",
    "#print(x_df)\n",
    "#print(y_df)\n",
    "\n",
    "### binning\n",
    "min_value = df['age'].min()\n",
    "max_value = df['age'].max()\n",
    "bins = np.linspace(min_value,max_value,7)\n",
    "#print(bins)\n",
    "labels = ['29-37', '38-45', '46-53', '54-61', '62-69', '70-77']\n",
    "x_df['age_bins'] = pd.cut(x_df['age'], bins=bins, labels=labels, include_lowest=True)\n",
    "drop_age = x_df.pop(\"age\") #drop age column\n",
    "\n",
    "### rearrange columns\n",
    "x_df = x_df[['age_bins', 'sex', 'cp', 'trestbps', 'chol', 'fbs', 'restecg', 'thalach', 'exang', 'oldpeak', 'slope', 'ca', 'thal']]\n",
    "#pd.set_option('display.max_rows', x_df.shape[0]+1)\n",
    "#print(x_df)"
   ]
  },
  {
   "cell_type": "code",
   "execution_count": 8,
   "metadata": {},
   "outputs": [
    {
     "name": "stderr",
     "output_type": "stream",
     "text": [
      "Method register_pandas_dataframe: This is an experimental method, and may change at any time.<br/>For more information, see https://aka.ms/azuremlexperimental.\n"
     ]
    },
    {
     "name": "stdout",
     "output_type": "stream",
     "text": [
      "Validating arguments.\n",
      "Arguments validated.\n",
      "Successfully obtained datastore reference and path.\n",
      "Uploading file to managed-dataset/9296fd0c-2bb8-4bcf-a679-b85fb632d1ac/\n",
      "Successfully uploaded file to datastore.\n",
      "Creating and registering a new dataset.\n",
      "Successfully created and registered a new dataset.\n"
     ]
    }
   ],
   "source": [
    "### Train Test Split\n",
    "X_train, X_test, Y_train, Y_test = train_test_split(x_df, y_df, test_size=0.30)\n",
    "df_train = pd.concat([X_train,Y_train], axis=1)\n",
    "#print(df_train)\n",
    "ds_train = Dataset.Tabular.register_pandas_dataframe(dataframe= df_train, target= Datastore.get_default(ws), name=\"train_data\")\n",
    "#dataset_1 = pd.to_Tabular(df_train) #Dataset.Tabular.from_pandas_dataframe(df_train)"
   ]
  },
  {
   "cell_type": "markdown",
   "metadata": {},
   "source": [
    "## AutoML Configuration\n",
    "\n",
    "TODO: Explain why you chose the automl settings and cofiguration you used below."
   ]
  },
  {
   "cell_type": "markdown",
   "metadata": {},
   "source": [
    "The automl settings is configured as follows:\n",
    "- Experiment timeout minutes determines how long experiment should run. In this case, its 20 minutes the experiment will run.\n",
    "- Max concurrent iterations determines how many iterations should be running in parallel. We chose 5 iterations for this experiement.\n",
    "- The primary metric to determine the performance of the runs being used here is AUC weighted."
   ]
  },
  {
   "cell_type": "code",
   "execution_count": null,
   "metadata": {},
   "outputs": [],
   "source": [
    "automl_settings = {\n",
    "    \"experiment_timeout_minutes\": 20,\n",
    "    \"max_concurrent_iterations\": 5,\n",
    "    \"primary_metric\": 'AUC_weighted'\n",
    "}"
   ]
  },
  {
   "cell_type": "markdown",
   "metadata": {},
   "source": [
    "The automl config is configured as follows:\n",
    "- The compute target is set to the one created\n",
    "- The task is classification as the target column has values 0 and 1\n",
    "- Early stopping is enabled\n",
    "- The path and log path is assigned"
   ]
  },
  {
   "cell_type": "code",
   "execution_count": 9,
   "metadata": {
    "collapsed": false,
    "gather": {
     "logged": 1598429217746
    },
    "jupyter": {
     "outputs_hidden": false,
     "source_hidden": false
    },
    "nteract": {
     "transient": {
      "deleting": false
     }
    }
   },
   "outputs": [],
   "source": [
    "automl_config = AutoMLConfig(compute_target=cpu_cluster,\n",
    "                             task = 'classification',\n",
    "                             training_data = ds_train,\n",
    "                             label_column_name = \"target\",\n",
    "                             path = './pipeline-project3',\n",
    "                             enable_early_stopping = True,\n",
    "                             featurization = 'auto',\n",
    "                             debug_log = 'automl_errors.log',\n",
    "                             **automl_settings\n",
    "                            )"
   ]
  },
  {
   "cell_type": "code",
   "execution_count": 10,
   "metadata": {
    "collapsed": false,
    "gather": {
     "logged": 1598431107951
    },
    "jupyter": {
     "outputs_hidden": false,
     "source_hidden": false
    },
    "nteract": {
     "transient": {
      "deleting": false
     }
    }
   },
   "outputs": [
    {
     "name": "stdout",
     "output_type": "stream",
     "text": [
      "Submitting remote run.\n"
     ]
    },
    {
     "data": {
      "text/html": [
       "<table style=\"width:100%\"><tr><th>Experiment</th><th>Id</th><th>Type</th><th>Status</th><th>Details Page</th><th>Docs Page</th></tr><tr><td>udacity-project3</td><td>AutoML_b4607043-df0e-46a3-9dee-8754edce5acb</td><td>automl</td><td>NotStarted</td><td><a href=\"https://ml.azure.com/runs/AutoML_b4607043-df0e-46a3-9dee-8754edce5acb?wsid=/subscriptions/9e65f93e-bdd8-437b-b1e8-0647cd6098f7/resourcegroups/aml-quickstarts-142390/workspaces/quick-starts-ws-142390&amp;tid=660b3398-b80e-49d2-bc5b-ac1dc93b5254\" target=\"_blank\" rel=\"noopener\">Link to Azure Machine Learning studio</a></td><td><a href=\"https://docs.microsoft.com/en-us/python/api/overview/azure/ml/intro?view=azure-ml-py\" target=\"_blank\" rel=\"noopener\">Link to Documentation</a></td></tr></table>"
      ],
      "text/plain": [
       "<IPython.core.display.HTML object>"
      ]
     },
     "metadata": {},
     "output_type": "display_data"
    }
   ],
   "source": [
    "remote_run = experiment.submit(automl_config)"
   ]
  },
  {
   "cell_type": "markdown",
   "metadata": {},
   "source": [
    "## Run Details\n",
    "\n",
    "OPTIONAL: Write about the different models trained and their performance. Why do you think some models did better than others?\n",
    "\n",
    "TODO: In the cell below, use the `RunDetails` widget to show the different experiments."
   ]
  },
  {
   "cell_type": "code",
   "execution_count": 11,
   "metadata": {
    "collapsed": false,
    "gather": {
     "logged": 1598431121770
    },
    "jupyter": {
     "outputs_hidden": false,
     "source_hidden": false
    },
    "nteract": {
     "transient": {
      "deleting": false
     }
    }
   },
   "outputs": [
    {
     "data": {
      "application/vnd.jupyter.widget-view+json": {
       "model_id": "63e2be09e539493aba97e794a6279497",
       "version_major": 2,
       "version_minor": 0
      },
      "text/plain": [
       "_AutoMLWidget(widget_settings={'childWidgetDisplay': 'popup', 'send_telemetry': False, 'log_level': 'INFO', 's…"
      ]
     },
     "metadata": {},
     "output_type": "display_data"
    },
    {
     "data": {
      "application/aml.mini.widget.v1": "{\"status\": \"Completed\", \"workbench_run_details_uri\": \"https://ml.azure.com/runs/AutoML_b4607043-df0e-46a3-9dee-8754edce5acb?wsid=/subscriptions/9e65f93e-bdd8-437b-b1e8-0647cd6098f7/resourcegroups/aml-quickstarts-142390/workspaces/quick-starts-ws-142390&tid=660b3398-b80e-49d2-bc5b-ac1dc93b5254\", \"run_id\": \"AutoML_b4607043-df0e-46a3-9dee-8754edce5acb\", \"run_properties\": {\"run_id\": \"AutoML_b4607043-df0e-46a3-9dee-8754edce5acb\", \"created_utc\": \"2021-04-11T07:58:11.587964Z\", \"properties\": {\"num_iterations\": \"1000\", \"training_type\": \"TrainFull\", \"acquisition_function\": \"EI\", \"primary_metric\": \"AUC_weighted\", \"train_split\": \"0\", \"acquisition_parameter\": \"0\", \"num_cross_validation\": null, \"target\": \"cpu-cluster2\", \"AMLSettingsJsonString\": \"{\\\"path\\\":null,\\\"name\\\":\\\"udacity-project3\\\",\\\"subscription_id\\\":\\\"9e65f93e-bdd8-437b-b1e8-0647cd6098f7\\\",\\\"resource_group\\\":\\\"aml-quickstarts-142390\\\",\\\"workspace_name\\\":\\\"quick-starts-ws-142390\\\",\\\"region\\\":\\\"southcentralus\\\",\\\"compute_target\\\":\\\"cpu-cluster2\\\",\\\"spark_service\\\":null,\\\"azure_service\\\":\\\"remote\\\",\\\"many_models\\\":false,\\\"pipeline_fetch_max_batch_size\\\":1,\\\"enable_batch_run\\\":false,\\\"enable_run_restructure\\\":false,\\\"iterations\\\":1000,\\\"primary_metric\\\":\\\"AUC_weighted\\\",\\\"task_type\\\":\\\"classification\\\",\\\"data_script\\\":null,\\\"test_size\\\":0.0,\\\"validation_size\\\":0.0,\\\"n_cross_validations\\\":null,\\\"y_min\\\":null,\\\"y_max\\\":null,\\\"num_classes\\\":null,\\\"featurization\\\":\\\"auto\\\",\\\"_ignore_package_version_incompatibilities\\\":false,\\\"is_timeseries\\\":false,\\\"max_cores_per_iteration\\\":1,\\\"max_concurrent_iterations\\\":5,\\\"iteration_timeout_minutes\\\":null,\\\"mem_in_mb\\\":null,\\\"enforce_time_on_windows\\\":false,\\\"experiment_timeout_minutes\\\":20,\\\"experiment_exit_score\\\":null,\\\"whitelist_models\\\":null,\\\"blacklist_algos\\\":[\\\"TensorFlowLinearClassifier\\\",\\\"TensorFlowDNN\\\"],\\\"supported_models\\\":[\\\"XGBoostClassifier\\\",\\\"LogisticRegression\\\",\\\"TensorFlowDNN\\\",\\\"SVM\\\",\\\"LinearSVM\\\",\\\"SGD\\\",\\\"KNN\\\",\\\"LightGBM\\\",\\\"DecisionTree\\\",\\\"BernoulliNaiveBayes\\\",\\\"GradientBoosting\\\",\\\"MultinomialNaiveBayes\\\",\\\"AveragedPerceptronClassifier\\\",\\\"RandomForest\\\",\\\"TensorFlowLinearClassifier\\\",\\\"ExtremeRandomTrees\\\"],\\\"private_models\\\":[],\\\"auto_blacklist\\\":true,\\\"blacklist_samples_reached\\\":false,\\\"exclude_nan_labels\\\":true,\\\"verbosity\\\":20,\\\"_debug_log\\\":\\\"azureml_automl.log\\\",\\\"show_warnings\\\":false,\\\"model_explainability\\\":true,\\\"service_url\\\":null,\\\"sdk_url\\\":null,\\\"sdk_packages\\\":null,\\\"enable_onnx_compatible_models\\\":false,\\\"enable_split_onnx_featurizer_estimator_models\\\":false,\\\"vm_type\\\":\\\"STANDARD_DS3_V2\\\",\\\"telemetry_verbosity\\\":20,\\\"send_telemetry\\\":true,\\\"enable_dnn\\\":false,\\\"scenario\\\":\\\"SDK-1.13.0\\\",\\\"environment_label\\\":null,\\\"save_mlflow\\\":false,\\\"force_text_dnn\\\":false,\\\"enable_feature_sweeping\\\":true,\\\"enable_early_stopping\\\":true,\\\"early_stopping_n_iters\\\":10,\\\"metrics\\\":null,\\\"enable_metric_confidence\\\":false,\\\"enable_ensembling\\\":true,\\\"enable_stack_ensembling\\\":true,\\\"ensemble_iterations\\\":15,\\\"enable_tf\\\":false,\\\"enable_subsampling\\\":null,\\\"subsample_seed\\\":null,\\\"enable_nimbusml\\\":false,\\\"enable_streaming\\\":false,\\\"force_streaming\\\":false,\\\"track_child_runs\\\":true,\\\"allowed_private_models\\\":[],\\\"label_column_name\\\":\\\"target\\\",\\\"weight_column_name\\\":null,\\\"cv_split_column_names\\\":null,\\\"enable_local_managed\\\":false,\\\"_local_managed_run_id\\\":null,\\\"cost_mode\\\":1,\\\"lag_length\\\":0,\\\"metric_operation\\\":\\\"maximize\\\",\\\"preprocess\\\":true}\", \"DataPrepJsonString\": \"{\\\\\\\"training_data\\\\\\\": {\\\\\\\"datasetId\\\\\\\": \\\\\\\"66a9794b-4413-4a73-a246-1d96f8379082\\\\\\\"}, \\\\\\\"datasets\\\\\\\": 0}\", \"EnableSubsampling\": null, \"runTemplate\": \"AutoML\", \"azureml.runsource\": \"automl\", \"display_task_type\": \"classification\", \"dependencies_versions\": \"{\\\"azureml-widgets\\\": \\\"1.26.0\\\", \\\"azureml-train\\\": \\\"1.26.0\\\", \\\"azureml-train-restclients-hyperdrive\\\": \\\"1.26.0\\\", \\\"azureml-train-core\\\": \\\"1.26.0\\\", \\\"azureml-train-automl\\\": \\\"1.26.0\\\", \\\"azureml-train-automl-runtime\\\": \\\"1.26.0\\\", \\\"azureml-train-automl-client\\\": \\\"1.26.0\\\", \\\"azureml-tensorboard\\\": \\\"1.26.0\\\", \\\"azureml-telemetry\\\": \\\"1.26.0\\\", \\\"azureml-sdk\\\": \\\"1.26.0\\\", \\\"azureml-samples\\\": \\\"0+unknown\\\", \\\"azureml-pipeline\\\": \\\"1.26.0\\\", \\\"azureml-pipeline-steps\\\": \\\"1.26.0\\\", \\\"azureml-pipeline-core\\\": \\\"1.26.0\\\", \\\"azureml-opendatasets\\\": \\\"1.26.0\\\", \\\"azureml-model-management-sdk\\\": \\\"1.0.1b6.post1\\\", \\\"azureml-mlflow\\\": \\\"1.26.0\\\", \\\"azureml-interpret\\\": \\\"1.26.0\\\", \\\"azureml-explain-model\\\": \\\"1.26.0\\\", \\\"azureml-defaults\\\": \\\"1.26.0\\\", \\\"azureml-dataset-runtime\\\": \\\"1.26.0\\\", \\\"azureml-dataprep\\\": \\\"2.13.2\\\", \\\"azureml-dataprep-rslex\\\": \\\"1.11.2\\\", \\\"azureml-dataprep-native\\\": \\\"32.0.0\\\", \\\"azureml-datadrift\\\": \\\"1.26.0\\\", \\\"azureml-core\\\": \\\"1.26.0\\\", \\\"azureml-contrib-services\\\": \\\"1.26.0\\\", \\\"azureml-contrib-server\\\": \\\"1.26.0\\\", \\\"azureml-contrib-reinforcementlearning\\\": \\\"1.26.0\\\", \\\"azureml-contrib-pipeline-steps\\\": \\\"1.26.0\\\", \\\"azureml-contrib-notebook\\\": \\\"1.26.0\\\", \\\"azureml-contrib-gbdt\\\": \\\"1.26.0\\\", \\\"azureml-contrib-fairness\\\": \\\"1.26.0\\\", \\\"azureml-contrib-dataset\\\": \\\"1.26.0\\\", \\\"azureml-cli-common\\\": \\\"1.26.0\\\", \\\"azureml-automl-runtime\\\": \\\"1.26.0\\\", \\\"azureml-automl-dnn-nlp\\\": \\\"1.26.0\\\", \\\"azureml-automl-core\\\": \\\"1.26.0\\\", \\\"azureml-accel-models\\\": \\\"1.26.0\\\"}\", \"_aml_system_scenario_identification\": \"Remote.Parent\", \"ClientType\": \"SDK\", \"environment_cpu_name\": \"AzureML-AutoML\", \"environment_cpu_label\": \"prod\", \"environment_gpu_name\": \"AzureML-AutoML-GPU\", \"environment_gpu_label\": \"prod\", \"root_attribution\": \"automl\", \"attribution\": \"AutoML\", \"Orchestrator\": \"AutoML\", \"CancelUri\": \"https://southcentralus.experiments.azureml.net/jasmine/v1.0/subscriptions/9e65f93e-bdd8-437b-b1e8-0647cd6098f7/resourceGroups/aml-quickstarts-142390/providers/Microsoft.MachineLearningServices/workspaces/quick-starts-ws-142390/experimentids/e15e9f7b-839b-4293-ae79-d1100b54db6c/cancel/AutoML_b4607043-df0e-46a3-9dee-8754edce5acb\", \"ClientSdkVersion\": \"1.25.0\", \"snapshotId\": \"00000000-0000-0000-0000-000000000000\", \"SetupRunId\": \"AutoML_b4607043-df0e-46a3-9dee-8754edce5acb_setup\", \"SetupRunContainerId\": \"dcid.AutoML_b4607043-df0e-46a3-9dee-8754edce5acb_setup\", \"FeaturizationRunJsonPath\": \"featurizer_container.json\", \"FeaturizationRunId\": \"AutoML_b4607043-df0e-46a3-9dee-8754edce5acb_featurize\", \"ProblemInfoJsonString\": \"{\\\"dataset_num_categorical\\\": 0, \\\"is_sparse\\\": true, \\\"subsampling\\\": false, \\\"dataset_classes\\\": 2, \\\"dataset_features\\\": 31, \\\"dataset_samples\\\": 212, \\\"single_frequency_class_detected\\\": false}\", \"ModelExplainRunId\": \"AutoML_b4607043-df0e-46a3-9dee-8754edce5acb_ModelExplain\"}, \"tags\": {\"model_explain_run\": \"best_run\", \"_aml_system_azureml.automlComponent\": \"AutoML\", \"pipeline_id\": \"\", \"score\": \"\", \"predicted_cost\": \"\", \"fit_time\": \"\", \"training_percent\": \"\", \"iteration\": \"\", \"run_preprocessor\": \"\", \"run_algorithm\": \"\", \"dynamic_whitelisting_iterations\": \"<25>;<30>;<35>;<40>;<45>;\", \"automl_best_child_run_id\": \"AutoML_b4607043-df0e-46a3-9dee-8754edce5acb_46\", \"model_explain_best_run_child_id\": \"AutoML_b4607043-df0e-46a3-9dee-8754edce5acb_46\"}, \"end_time_utc\": \"2021-04-11T08:15:28.467311Z\", \"status\": \"Completed\", \"log_files\": {}, \"log_groups\": [], \"run_duration\": \"0:17:16\", \"run_number\": \"1\", \"run_queued_details\": {\"status\": \"Completed\", \"details\": null}}, \"child_runs\": [{\"run_id\": \"AutoML_b4607043-df0e-46a3-9dee-8754edce5acb_0\", \"run_number\": 5, \"metric\": null, \"status\": \"Completed\", \"run_type\": \"azureml.scriptrun\", \"training_percent\": \"100\", \"start_time\": \"2021-04-11T08:03:38.189841Z\", \"end_time\": \"2021-04-11T08:04:27.815532Z\", \"created_time\": \"2021-04-11T08:03:22.847874Z\", \"created_time_dt\": \"2021-04-11T08:03:22.847874Z\", \"duration\": \"0:01:04\", \"iteration\": \"0\", \"goal\": \"AUC_weighted_max\", \"run_name\": \"MaxAbsScaler, LightGBM\", \"run_properties\": \"copy=True\", \"primary_metric\": 0.89122909, \"best_metric\": 0.89122909}, {\"run_id\": \"AutoML_b4607043-df0e-46a3-9dee-8754edce5acb_1\", \"run_number\": 6, \"metric\": null, \"status\": \"Completed\", \"run_type\": \"azureml.scriptrun\", \"training_percent\": \"100\", \"start_time\": \"2021-04-11T08:03:38.460674Z\", \"end_time\": \"2021-04-11T08:04:27.331233Z\", \"created_time\": \"2021-04-11T08:03:22.864676Z\", \"created_time_dt\": \"2021-04-11T08:03:22.864676Z\", \"duration\": \"0:01:04\", \"iteration\": \"1\", \"goal\": \"AUC_weighted_max\", \"run_name\": \"MaxAbsScaler, XGBoostClassifier\", \"run_properties\": \"copy=True\", \"primary_metric\": 0.89663129, \"best_metric\": 0.89663129}, {\"run_id\": \"AutoML_b4607043-df0e-46a3-9dee-8754edce5acb_2\", \"run_number\": 7, \"metric\": null, \"status\": \"Completed\", \"run_type\": \"azureml.scriptrun\", \"training_percent\": \"100\", \"start_time\": \"2021-04-11T08:03:37.405176Z\", \"end_time\": \"2021-04-11T08:04:29.308839Z\", \"created_time\": \"2021-04-11T08:03:22.865913Z\", \"created_time_dt\": \"2021-04-11T08:03:22.865913Z\", \"duration\": \"0:01:06\", \"iteration\": \"2\", \"goal\": \"AUC_weighted_max\", \"run_name\": \"MaxAbsScaler, RandomForest\", \"run_properties\": \"copy=True\", \"primary_metric\": 0.91055387, \"best_metric\": 0.91055387}, {\"run_id\": \"AutoML_b4607043-df0e-46a3-9dee-8754edce5acb_4\", \"run_number\": 8, \"metric\": null, \"status\": \"Completed\", \"run_type\": \"azureml.scriptrun\", \"training_percent\": \"100\", \"start_time\": \"2021-04-11T08:03:36.330121Z\", \"end_time\": \"2021-04-11T08:04:28.371186Z\", \"created_time\": \"2021-04-11T08:03:22.870617Z\", \"created_time_dt\": \"2021-04-11T08:03:22.870617Z\", \"duration\": \"0:01:05\", \"iteration\": \"4\", \"goal\": \"AUC_weighted_max\", \"run_name\": \"MaxAbsScaler, RandomForest\", \"run_properties\": \"copy=True\", \"primary_metric\": 0.9217411, \"best_metric\": 0.9217411}, {\"run_id\": \"AutoML_b4607043-df0e-46a3-9dee-8754edce5acb_3\", \"run_number\": 9, \"metric\": null, \"status\": \"Completed\", \"run_type\": \"azureml.scriptrun\", \"training_percent\": \"100\", \"start_time\": \"2021-04-11T08:03:38.026767Z\", \"end_time\": \"2021-04-11T08:04:28.925663Z\", \"created_time\": \"2021-04-11T08:03:22.868621Z\", \"created_time_dt\": \"2021-04-11T08:03:22.868621Z\", \"duration\": \"0:01:06\", \"iteration\": \"3\", \"goal\": \"AUC_weighted_max\", \"run_name\": \"MaxAbsScaler, RandomForest\", \"run_properties\": \"copy=True\", \"primary_metric\": 0.91506286, \"best_metric\": 0.91506286}, {\"run_id\": \"AutoML_b4607043-df0e-46a3-9dee-8754edce5acb_5\", \"run_number\": 10, \"metric\": null, \"status\": \"Completed\", \"run_type\": \"azureml.scriptrun\", \"training_percent\": \"100\", \"start_time\": \"2021-04-11T08:04:45.15825Z\", \"end_time\": \"2021-04-11T08:05:43.482316Z\", \"created_time\": \"2021-04-11T08:04:30.452807Z\", \"created_time_dt\": \"2021-04-11T08:04:30.452807Z\", \"duration\": \"0:01:13\", \"iteration\": \"5\", \"goal\": \"AUC_weighted_max\", \"run_name\": \"MaxAbsScaler, ExtremeRandomTrees\", \"run_properties\": \"copy=True\", \"primary_metric\": 0.89801248, \"best_metric\": 0.9217411}, {\"run_id\": \"AutoML_b4607043-df0e-46a3-9dee-8754edce5acb_6\", \"run_number\": 11, \"metric\": null, \"status\": \"Completed\", \"run_type\": \"azureml.scriptrun\", \"training_percent\": \"100\", \"start_time\": \"2021-04-11T08:04:45.394517Z\", \"end_time\": \"2021-04-11T08:05:37.277979Z\", \"created_time\": \"2021-04-11T08:04:30.623214Z\", \"created_time_dt\": \"2021-04-11T08:04:30.623214Z\", \"duration\": \"0:01:06\", \"iteration\": \"6\", \"goal\": \"AUC_weighted_max\", \"run_name\": \"MaxAbsScaler, ExtremeRandomTrees\", \"run_properties\": \"copy=True\", \"primary_metric\": 0.90916344, \"best_metric\": 0.9217411}, {\"run_id\": \"AutoML_b4607043-df0e-46a3-9dee-8754edce5acb_7\", \"run_number\": 12, \"metric\": null, \"status\": \"Completed\", \"run_type\": \"azureml.scriptrun\", \"training_percent\": \"100\", \"start_time\": \"2021-04-11T08:04:48.543219Z\", \"end_time\": \"2021-04-11T08:05:39.871072Z\", \"created_time\": \"2021-04-11T08:04:37.433665Z\", \"created_time_dt\": \"2021-04-11T08:04:37.433665Z\", \"duration\": \"0:01:02\", \"iteration\": \"7\", \"goal\": \"AUC_weighted_max\", \"run_name\": \"MaxAbsScaler, ExtremeRandomTrees\", \"run_properties\": \"copy=True\", \"primary_metric\": 0.92408504, \"best_metric\": 0.92408504}, {\"run_id\": \"AutoML_b4607043-df0e-46a3-9dee-8754edce5acb_9\", \"run_number\": 13, \"metric\": null, \"status\": \"Completed\", \"run_type\": \"azureml.scriptrun\", \"training_percent\": \"100\", \"start_time\": \"2021-04-11T08:04:46.377758Z\", \"end_time\": \"2021-04-11T08:05:36.214152Z\", \"created_time\": \"2021-04-11T08:04:37.567479Z\", \"created_time_dt\": \"2021-04-11T08:04:37.567479Z\", \"duration\": \"0:00:58\", \"iteration\": \"9\", \"goal\": \"AUC_weighted_max\", \"run_name\": \"MaxAbsScaler, ExtremeRandomTrees\", \"run_properties\": \"copy=True\", \"primary_metric\": 0.92907249, \"best_metric\": 0.92907249}, {\"run_id\": \"AutoML_b4607043-df0e-46a3-9dee-8754edce5acb_8\", \"run_number\": 14, \"metric\": null, \"status\": \"Completed\", \"run_type\": \"azureml.scriptrun\", \"training_percent\": \"100\", \"start_time\": \"2021-04-11T08:04:48.6569Z\", \"end_time\": \"2021-04-11T08:05:37.052239Z\", \"created_time\": \"2021-04-11T08:04:37.605714Z\", \"created_time_dt\": \"2021-04-11T08:04:37.605714Z\", \"duration\": \"0:00:59\", \"iteration\": \"8\", \"goal\": \"AUC_weighted_max\", \"run_name\": \"MaxAbsScaler, RandomForest\", \"run_properties\": \"copy=True\", \"primary_metric\": 0.91646291, \"best_metric\": 0.92408504}, {\"run_id\": \"AutoML_b4607043-df0e-46a3-9dee-8754edce5acb_10\", \"run_number\": 15, \"metric\": null, \"status\": \"Completed\", \"run_type\": \"azureml.scriptrun\", \"training_percent\": \"100\", \"start_time\": \"2021-04-11T08:05:56.637977Z\", \"end_time\": \"2021-04-11T08:06:49.669667Z\", \"created_time\": \"2021-04-11T08:05:39.631011Z\", \"created_time_dt\": \"2021-04-11T08:05:39.631011Z\", \"duration\": \"0:01:10\", \"iteration\": \"10\", \"goal\": \"AUC_weighted_max\", \"run_name\": \"MaxAbsScaler, RandomForest\", \"run_properties\": \"copy=True\", \"primary_metric\": 0.92971813, \"best_metric\": 0.92971813}, {\"run_id\": \"AutoML_b4607043-df0e-46a3-9dee-8754edce5acb_12\", \"run_number\": 16, \"metric\": null, \"status\": \"Completed\", \"run_type\": \"azureml.scriptrun\", \"training_percent\": \"100\", \"start_time\": \"2021-04-11T08:05:56.792595Z\", \"end_time\": \"2021-04-11T08:06:53.120119Z\", \"created_time\": \"2021-04-11T08:05:45.252746Z\", \"created_time_dt\": \"2021-04-11T08:05:45.252746Z\", \"duration\": \"0:01:07\", \"iteration\": \"12\", \"goal\": \"AUC_weighted_max\", \"run_name\": \"MaxAbsScaler, RandomForest\", \"run_properties\": \"copy=True\", \"primary_metric\": 0.92249381, \"best_metric\": 0.92971813}, {\"run_id\": \"AutoML_b4607043-df0e-46a3-9dee-8754edce5acb_13\", \"run_number\": 17, \"metric\": null, \"status\": \"Completed\", \"run_type\": \"azureml.scriptrun\", \"training_percent\": \"100\", \"start_time\": \"2021-04-11T08:05:56.058338Z\", \"end_time\": \"2021-04-11T08:06:46.305709Z\", \"created_time\": \"2021-04-11T08:05:45.282014Z\", \"created_time_dt\": \"2021-04-11T08:05:45.282014Z\", \"duration\": \"0:01:01\", \"iteration\": \"13\", \"goal\": \"AUC_weighted_max\", \"run_name\": \"StandardScalerWrapper, XGBoostClassifier\", \"run_properties\": \"<azureml.automl.runtime.shared.model_wrappers.StandardScalerWrapper object at 0x7f422fc69b38\", \"primary_metric\": 0.89639329, \"best_metric\": 0.92971813}, {\"run_id\": \"AutoML_b4607043-df0e-46a3-9dee-8754edce5acb_11\", \"run_number\": 18, \"metric\": null, \"status\": \"Completed\", \"run_type\": \"azureml.scriptrun\", \"training_percent\": \"100\", \"start_time\": \"2021-04-11T08:05:56.269486Z\", \"end_time\": \"2021-04-11T08:06:49.670962Z\", \"created_time\": \"2021-04-11T08:05:45.307924Z\", \"created_time_dt\": \"2021-04-11T08:05:45.307924Z\", \"duration\": \"0:01:04\", \"iteration\": \"11\", \"goal\": \"AUC_weighted_max\", \"run_name\": \"MaxAbsScaler, RandomForest\", \"run_properties\": \"copy=True\", \"primary_metric\": 0.91933953, \"best_metric\": 0.92971813}, {\"run_id\": \"AutoML_b4607043-df0e-46a3-9dee-8754edce5acb_14\", \"run_number\": 19, \"metric\": null, \"status\": \"Completed\", \"run_type\": \"azureml.scriptrun\", \"training_percent\": \"100\", \"start_time\": \"2021-04-11T08:05:59.957213Z\", \"end_time\": \"2021-04-11T08:06:50.481455Z\", \"created_time\": \"2021-04-11T08:05:51.938238Z\", \"created_time_dt\": \"2021-04-11T08:05:51.938238Z\", \"duration\": \"0:00:58\", \"iteration\": \"14\", \"goal\": \"AUC_weighted_max\", \"run_name\": \"MaxAbsScaler, RandomForest\", \"run_properties\": \"copy=True\", \"primary_metric\": 0.90645792, \"best_metric\": 0.92971813}, {\"run_id\": \"AutoML_b4607043-df0e-46a3-9dee-8754edce5acb_15\", \"run_number\": 20, \"metric\": null, \"status\": \"Completed\", \"run_type\": \"azureml.scriptrun\", \"training_percent\": \"100\", \"start_time\": \"2021-04-11T08:07:06.017571Z\", \"end_time\": \"2021-04-11T08:07:55.51117Z\", \"created_time\": \"2021-04-11T08:06:50.865199Z\", \"created_time_dt\": \"2021-04-11T08:06:50.865199Z\", \"duration\": \"0:01:04\", \"iteration\": \"15\", \"goal\": \"AUC_weighted_max\", \"run_name\": \"StandardScalerWrapper, ExtremeRandomTrees\", \"run_properties\": \"<azureml.automl.runtime.shared.model_wrappers.StandardScalerWrapper object at 0x7f9be29a8390\", \"primary_metric\": 0.88703166, \"best_metric\": 0.92971813}, {\"run_id\": \"AutoML_b4607043-df0e-46a3-9dee-8754edce5acb_16\", \"run_number\": 21, \"metric\": null, \"status\": \"Completed\", \"run_type\": \"azureml.scriptrun\", \"training_percent\": \"100\", \"start_time\": \"2021-04-11T08:07:07.990252Z\", \"end_time\": \"2021-04-11T08:07:54.751217Z\", \"created_time\": \"2021-04-11T08:06:56.89764Z\", \"created_time_dt\": \"2021-04-11T08:06:56.89764Z\", \"duration\": \"0:00:57\", \"iteration\": \"16\", \"goal\": \"AUC_weighted_max\", \"run_name\": \"MaxAbsScaler, ExtremeRandomTrees\", \"run_properties\": \"copy=True\", \"primary_metric\": 0.92647025, \"best_metric\": 0.92971813}, {\"run_id\": \"AutoML_b4607043-df0e-46a3-9dee-8754edce5acb_19\", \"run_number\": 22, \"metric\": null, \"status\": \"Completed\", \"run_type\": \"azureml.scriptrun\", \"training_percent\": \"100\", \"start_time\": \"2021-04-11T08:07:44.105918Z\", \"end_time\": \"2021-04-11T08:08:42.427415Z\", \"created_time\": \"2021-04-11T08:06:57.015169Z\", \"created_time_dt\": \"2021-04-11T08:06:57.015169Z\", \"duration\": \"0:01:45\", \"iteration\": \"19\", \"goal\": \"AUC_weighted_max\", \"run_name\": \"StandardScalerWrapper, LogisticRegression\", \"run_properties\": \"<azureml.automl.runtime.shared.model_wrappers.StandardScalerWrapper object at 0x7fbca17f6f60\", \"primary_metric\": 0.92568831, \"best_metric\": 0.92971813}, {\"run_id\": \"AutoML_b4607043-df0e-46a3-9dee-8754edce5acb_18\", \"run_number\": 23, \"metric\": null, \"status\": \"Completed\", \"run_type\": \"azureml.scriptrun\", \"training_percent\": \"100\", \"start_time\": \"2021-04-11T08:07:07.57743Z\", \"end_time\": \"2021-04-11T08:07:55.608042Z\", \"created_time\": \"2021-04-11T08:06:57.128451Z\", \"created_time_dt\": \"2021-04-11T08:06:57.128451Z\", \"duration\": \"0:00:58\", \"iteration\": \"18\", \"goal\": \"AUC_weighted_max\", \"run_name\": \"MaxAbsScaler, RandomForest\", \"run_properties\": \"copy=True\", \"primary_metric\": 0.92785435, \"best_metric\": 0.92971813}, {\"run_id\": \"AutoML_b4607043-df0e-46a3-9dee-8754edce5acb_17\", \"run_number\": 24, \"metric\": null, \"status\": \"Completed\", \"run_type\": \"azureml.scriptrun\", \"training_percent\": \"100\", \"start_time\": \"2021-04-11T08:07:06.484408Z\", \"end_time\": \"2021-04-11T08:07:57.872456Z\", \"created_time\": \"2021-04-11T08:06:57.012102Z\", \"created_time_dt\": \"2021-04-11T08:06:57.012102Z\", \"duration\": \"0:01:00\", \"iteration\": \"17\", \"goal\": \"AUC_weighted_max\", \"run_name\": \"MaxAbsScaler, ExtremeRandomTrees\", \"run_properties\": \"copy=True\", \"primary_metric\": 0.91273017, \"best_metric\": 0.92971813}, {\"run_id\": \"AutoML_b4607043-df0e-46a3-9dee-8754edce5acb_21\", \"run_number\": 25, \"metric\": null, \"status\": \"Completed\", \"run_type\": \"azureml.scriptrun\", \"training_percent\": \"100\", \"start_time\": \"2021-04-11T08:08:07.64001Z\", \"end_time\": \"2021-04-11T08:09:00.134779Z\", \"created_time\": \"2021-04-11T08:07:58.195865Z\", \"created_time_dt\": \"2021-04-11T08:07:58.195865Z\", \"duration\": \"0:01:01\", \"iteration\": \"21\", \"goal\": \"AUC_weighted_max\", \"run_name\": \"StandardScalerWrapper, LogisticRegression\", \"run_properties\": \"<azureml.automl.runtime.shared.model_wrappers.StandardScalerWrapper object at 0x7faff3ff4438\", \"primary_metric\": 0.93042193, \"best_metric\": 0.93042193}, {\"run_id\": \"AutoML_b4607043-df0e-46a3-9dee-8754edce5acb_22\", \"run_number\": 26, \"metric\": null, \"status\": \"Completed\", \"run_type\": \"azureml.scriptrun\", \"training_percent\": \"100\", \"start_time\": \"2021-04-11T08:08:07.775116Z\", \"end_time\": \"2021-04-11T08:09:06.867038Z\", \"created_time\": \"2021-04-11T08:07:58.426737Z\", \"created_time_dt\": \"2021-04-11T08:07:58.426737Z\", \"duration\": \"0:01:08\", \"iteration\": \"22\", \"goal\": \"AUC_weighted_max\", \"run_name\": \"StandardScalerWrapper, LogisticRegression\", \"run_properties\": \"<azureml.automl.runtime.shared.model_wrappers.StandardScalerWrapper object at 0x7f3410103208\", \"primary_metric\": 0.93517858, \"best_metric\": 0.93517858}, {\"run_id\": \"AutoML_b4607043-df0e-46a3-9dee-8754edce5acb_20\", \"run_number\": 27, \"metric\": null, \"status\": \"Completed\", \"run_type\": \"azureml.scriptrun\", \"training_percent\": \"100\", \"start_time\": \"2021-04-11T08:08:10.248538Z\", \"end_time\": \"2021-04-11T08:08:58.172151Z\", \"created_time\": \"2021-04-11T08:07:58.43244Z\", \"created_time_dt\": \"2021-04-11T08:07:58.43244Z\", \"duration\": \"0:00:59\", \"iteration\": \"20\", \"goal\": \"AUC_weighted_max\", \"run_name\": \"MaxAbsScaler, LightGBM\", \"run_properties\": \"copy=True\", \"primary_metric\": 0.91761364, \"best_metric\": 0.92971813}, {\"run_id\": \"AutoML_b4607043-df0e-46a3-9dee-8754edce5acb_23\", \"run_number\": 28, \"metric\": null, \"status\": \"Completed\", \"run_type\": \"azureml.scriptrun\", \"training_percent\": \"100\", \"start_time\": \"2021-04-11T08:08:17.789178Z\", \"end_time\": \"2021-04-11T08:09:06.570737Z\", \"created_time\": \"2021-04-11T08:08:05.03646Z\", \"created_time_dt\": \"2021-04-11T08:08:05.03646Z\", \"duration\": \"0:01:01\", \"iteration\": \"23\", \"goal\": \"AUC_weighted_max\", \"run_name\": \"StandardScalerWrapper, XGBoostClassifier\", \"run_properties\": \"<azureml.automl.runtime.shared.model_wrappers.StandardScalerWrapper object at 0x7f02c0f8a978\", \"primary_metric\": 0.90954433, \"best_metric\": 0.93517858}, {\"run_id\": \"AutoML_b4607043-df0e-46a3-9dee-8754edce5acb_24\", \"run_number\": 29, \"metric\": null, \"status\": \"Completed\", \"run_type\": \"azureml.scriptrun\", \"training_percent\": \"100\", \"start_time\": \"2021-04-11T08:08:55.559907Z\", \"end_time\": \"2021-04-11T08:09:43.6799Z\", \"created_time\": \"2021-04-11T08:08:44.863311Z\", \"created_time_dt\": \"2021-04-11T08:08:44.863311Z\", \"duration\": \"0:00:58\", \"iteration\": \"24\", \"goal\": \"AUC_weighted_max\", \"run_name\": \"MaxAbsScaler, LightGBM\", \"run_properties\": \"copy=True\", \"primary_metric\": 0.92075627, \"best_metric\": 0.93517858}, {\"run_id\": \"AutoML_b4607043-df0e-46a3-9dee-8754edce5acb_25\", \"run_number\": 30, \"metric\": null, \"status\": \"Completed\", \"run_type\": \"azureml.scriptrun\", \"training_percent\": \"100\", \"start_time\": \"2021-04-11T08:09:14.134929Z\", \"end_time\": \"2021-04-11T08:10:10.339184Z\", \"created_time\": \"2021-04-11T08:09:01.388277Z\", \"created_time_dt\": \"2021-04-11T08:09:01.388277Z\", \"duration\": \"0:01:08\", \"iteration\": \"25\", \"goal\": \"AUC_weighted_max\", \"run_name\": \"MaxAbsScaler, RandomForest\", \"run_properties\": \"copy=True\", \"primary_metric\": 0.88473026, \"best_metric\": 0.93517858}, {\"run_id\": \"AutoML_b4607043-df0e-46a3-9dee-8754edce5acb_26\", \"run_number\": 31, \"metric\": null, \"status\": \"Completed\", \"run_type\": \"azureml.scriptrun\", \"training_percent\": \"100\", \"start_time\": \"2021-04-11T08:09:16.020351Z\", \"end_time\": \"2021-04-11T08:10:06.401358Z\", \"created_time\": \"2021-04-11T08:09:06.018393Z\", \"created_time_dt\": \"2021-04-11T08:09:06.018393Z\", \"duration\": \"0:01:00\", \"iteration\": \"26\", \"goal\": \"AUC_weighted_max\", \"run_name\": \"MaxAbsScaler, ExtremeRandomTrees\", \"run_properties\": \"copy=True\", \"primary_metric\": 0.92517972, \"best_metric\": 0.93517858}, {\"run_id\": \"AutoML_b4607043-df0e-46a3-9dee-8754edce5acb_27\", \"run_number\": 32, \"metric\": null, \"status\": \"Completed\", \"run_type\": \"azureml.scriptrun\", \"training_percent\": \"100\", \"start_time\": \"2021-04-11T08:09:18.940155Z\", \"end_time\": \"2021-04-11T08:10:08.277713Z\", \"created_time\": \"2021-04-11T08:09:10.514785Z\", \"created_time_dt\": \"2021-04-11T08:09:10.514785Z\", \"duration\": \"0:00:57\", \"iteration\": \"27\", \"goal\": \"AUC_weighted_max\", \"run_name\": \"MaxAbsScaler, SGD\", \"run_properties\": \"copy=True\", \"primary_metric\": 0.93955021, \"best_metric\": 0.93955021}, {\"run_id\": \"AutoML_b4607043-df0e-46a3-9dee-8754edce5acb_28\", \"run_number\": 33, \"metric\": null, \"status\": \"Completed\", \"run_type\": \"azureml.scriptrun\", \"training_percent\": \"100\", \"start_time\": \"2021-04-11T08:09:20.587126Z\", \"end_time\": \"2021-04-11T08:10:10.626498Z\", \"created_time\": \"2021-04-11T08:09:10.731373Z\", \"created_time_dt\": \"2021-04-11T08:09:10.731373Z\", \"duration\": \"0:00:59\", \"iteration\": \"28\", \"goal\": \"AUC_weighted_max\", \"run_name\": \"MaxAbsScaler, LightGBM\", \"run_properties\": \"copy=True\", \"primary_metric\": 0.91741223, \"best_metric\": 0.93955021}, {\"run_id\": \"AutoML_b4607043-df0e-46a3-9dee-8754edce5acb_29\", \"run_number\": 34, \"metric\": null, \"status\": \"Completed\", \"run_type\": \"azureml.scriptrun\", \"training_percent\": \"100\", \"start_time\": \"2021-04-11T08:09:59.561557Z\", \"end_time\": \"2021-04-11T08:10:51.046738Z\", \"created_time\": \"2021-04-11T08:09:46.847088Z\", \"created_time_dt\": \"2021-04-11T08:09:46.847088Z\", \"duration\": \"0:01:04\", \"iteration\": \"29\", \"goal\": \"AUC_weighted_max\", \"run_name\": \"StandardScalerWrapper, LightGBM\", \"run_properties\": \"<azureml.automl.runtime.shared.model_wrappers.StandardScalerWrapper object at 0x7f4d94cea358\", \"primary_metric\": 0.92259936, \"best_metric\": 0.93955021}, {\"run_id\": \"AutoML_b4607043-df0e-46a3-9dee-8754edce5acb_30\", \"run_number\": 35, \"metric\": null, \"status\": \"Completed\", \"run_type\": \"azureml.scriptrun\", \"training_percent\": \"100\", \"start_time\": \"2021-04-11T08:10:18.992272Z\", \"end_time\": \"2021-04-11T08:11:08.967953Z\", \"created_time\": \"2021-04-11T08:10:09.798049Z\", \"created_time_dt\": \"2021-04-11T08:10:09.798049Z\", \"duration\": \"0:00:59\", \"iteration\": \"30\", \"goal\": \"AUC_weighted_max\", \"run_name\": \"StandardScalerWrapper, LogisticRegression\", \"run_properties\": \"<azureml.automl.runtime.shared.model_wrappers.StandardScalerWrapper object at 0x7f74c900b048\", \"primary_metric\": 0.89567868, \"best_metric\": 0.93955021}, {\"run_id\": \"AutoML_b4607043-df0e-46a3-9dee-8754edce5acb_31\", \"run_number\": 36, \"metric\": null, \"status\": \"Completed\", \"run_type\": \"azureml.scriptrun\", \"training_percent\": \"100\", \"start_time\": \"2021-04-11T08:10:22.668788Z\", \"end_time\": \"2021-04-11T08:11:12.421267Z\", \"created_time\": \"2021-04-11T08:10:14.297888Z\", \"created_time_dt\": \"2021-04-11T08:10:14.297888Z\", \"duration\": \"0:00:58\", \"iteration\": \"31\", \"goal\": \"AUC_weighted_max\", \"run_name\": \"TruncatedSVDWrapper, XGBoostClassifier\", \"run_properties\": \"n_components=0.9005263157894737, random_state=None\", \"primary_metric\": 0.91471925, \"best_metric\": 0.93955021}, {\"run_id\": \"AutoML_b4607043-df0e-46a3-9dee-8754edce5acb_32\", \"run_number\": 37, \"metric\": null, \"status\": \"Completed\", \"run_type\": \"azureml.scriptrun\", \"training_percent\": \"100\", \"start_time\": \"2021-04-11T08:10:25.313126Z\", \"end_time\": \"2021-04-11T08:11:16.154974Z\", \"created_time\": \"2021-04-11T08:10:14.316262Z\", \"created_time_dt\": \"2021-04-11T08:10:14.316262Z\", \"duration\": \"0:01:01\", \"iteration\": \"32\", \"goal\": \"AUC_weighted_max\", \"run_name\": \"TruncatedSVDWrapper, XGBoostClassifier\", \"run_properties\": \"n_components=0.6036842105263158, random_state=None\", \"primary_metric\": 0.91214359, \"best_metric\": 0.93955021}, {\"run_id\": \"AutoML_b4607043-df0e-46a3-9dee-8754edce5acb_33\", \"run_number\": 38, \"metric\": null, \"status\": \"Completed\", \"run_type\": \"azureml.scriptrun\", \"training_percent\": \"100\", \"start_time\": \"2021-04-11T08:10:22.906907Z\", \"end_time\": \"2021-04-11T08:11:15.593046Z\", \"created_time\": \"2021-04-11T08:10:14.421161Z\", \"created_time_dt\": \"2021-04-11T08:10:14.421161Z\", \"duration\": \"0:01:01\", \"iteration\": \"33\", \"goal\": \"AUC_weighted_max\", \"run_name\": \"TruncatedSVDWrapper, XGBoostClassifier\", \"run_properties\": \"n_components=0.6531578947368422, random_state=None\", \"primary_metric\": 0.91350436, \"best_metric\": 0.93955021}, {\"run_id\": \"AutoML_b4607043-df0e-46a3-9dee-8754edce5acb_34\", \"run_number\": 39, \"metric\": null, \"status\": \"Completed\", \"run_type\": \"azureml.scriptrun\", \"training_percent\": \"100\", \"start_time\": \"2021-04-11T08:11:06.835936Z\", \"end_time\": \"2021-04-11T08:12:01.387561Z\", \"created_time\": \"2021-04-11T08:10:53.341687Z\", \"created_time_dt\": \"2021-04-11T08:10:53.341687Z\", \"duration\": \"0:01:08\", \"iteration\": \"34\", \"goal\": \"AUC_weighted_max\", \"run_name\": \"TruncatedSVDWrapper, XGBoostClassifier\", \"run_properties\": \"n_components=0.7026315789473684, random_state=None\", \"primary_metric\": 0.91503716, \"best_metric\": 0.93955021}, {\"run_id\": \"AutoML_b4607043-df0e-46a3-9dee-8754edce5acb_35\", \"run_number\": 40, \"metric\": null, \"status\": \"Completed\", \"run_type\": \"azureml.scriptrun\", \"training_percent\": \"100\", \"start_time\": \"2021-04-11T08:11:22.554947Z\", \"end_time\": \"2021-04-11T08:12:13.017744Z\", \"created_time\": \"2021-04-11T08:11:12.264998Z\", \"created_time_dt\": \"2021-04-11T08:11:12.264998Z\", \"duration\": \"0:01:00\", \"iteration\": \"35\", \"goal\": \"AUC_weighted_max\", \"run_name\": \"TruncatedSVDWrapper, SGD\", \"run_properties\": \"n_components=0.5542105263157895, random_state=None\", \"primary_metric\": 0.5, \"best_metric\": 0.93955021}, {\"run_id\": \"AutoML_b4607043-df0e-46a3-9dee-8754edce5acb_36\", \"run_number\": 41, \"metric\": null, \"status\": \"Completed\", \"run_type\": \"azureml.scriptrun\", \"training_percent\": \"100\", \"start_time\": \"2021-04-11T08:11:31.48902Z\", \"end_time\": \"2021-04-11T08:12:25.526781Z\", \"created_time\": \"2021-04-11T08:11:18.521056Z\", \"created_time_dt\": \"2021-04-11T08:11:18.521056Z\", \"duration\": \"0:01:07\", \"iteration\": \"36\", \"goal\": \"AUC_weighted_max\", \"run_name\": \"MaxAbsScaler, RandomForest\", \"run_properties\": \"copy=True\", \"primary_metric\": 0.92411125, \"best_metric\": 0.93955021}, {\"run_id\": \"AutoML_b4607043-df0e-46a3-9dee-8754edce5acb_38\", \"run_number\": 42, \"metric\": null, \"status\": \"Completed\", \"run_type\": \"azureml.scriptrun\", \"training_percent\": \"100\", \"start_time\": \"2021-04-11T08:11:31.684104Z\", \"end_time\": \"2021-04-11T08:12:20.111534Z\", \"created_time\": \"2021-04-11T08:11:18.655338Z\", \"created_time_dt\": \"2021-04-11T08:11:18.655338Z\", \"duration\": \"0:01:01\", \"iteration\": \"38\", \"goal\": \"AUC_weighted_max\", \"run_name\": \"StandardScalerWrapper, RandomForest\", \"run_properties\": \"<azureml.automl.runtime.shared.model_wrappers.StandardScalerWrapper object at 0x7fd8aadaa390\", \"primary_metric\": 0.90879906, \"best_metric\": 0.93955021}, {\"run_id\": \"AutoML_b4607043-df0e-46a3-9dee-8754edce5acb_37\", \"run_number\": 43, \"metric\": null, \"status\": \"Completed\", \"run_type\": \"azureml.scriptrun\", \"training_percent\": \"100\", \"start_time\": \"2021-04-11T08:11:33.228341Z\", \"end_time\": \"2021-04-11T08:12:22.232388Z\", \"created_time\": \"2021-04-11T08:11:18.671316Z\", \"created_time_dt\": \"2021-04-11T08:11:18.671316Z\", \"duration\": \"0:01:03\", \"iteration\": \"37\", \"goal\": \"AUC_weighted_max\", \"run_name\": \"MaxAbsScaler, RandomForest\", \"run_properties\": \"copy=True\", \"primary_metric\": 0.88808447, \"best_metric\": 0.93955021}, {\"run_id\": \"AutoML_b4607043-df0e-46a3-9dee-8754edce5acb_39\", \"run_number\": 44, \"metric\": null, \"status\": \"Completed\", \"run_type\": \"azureml.scriptrun\", \"training_percent\": \"100\", \"start_time\": \"2021-04-11T08:12:11.683804Z\", \"end_time\": \"2021-04-11T08:13:07.167295Z\", \"created_time\": \"2021-04-11T08:12:03.712411Z\", \"created_time_dt\": \"2021-04-11T08:12:03.712411Z\", \"duration\": \"0:01:03\", \"iteration\": \"39\", \"goal\": \"AUC_weighted_max\", \"run_name\": \"MaxAbsScaler, LogisticRegression\", \"run_properties\": \"copy=True\", \"primary_metric\": 0.92942437, \"best_metric\": 0.93955021}, {\"run_id\": \"AutoML_b4607043-df0e-46a3-9dee-8754edce5acb_40\", \"run_number\": 45, \"metric\": null, \"status\": \"Completed\", \"run_type\": \"azureml.scriptrun\", \"training_percent\": \"100\", \"start_time\": \"2021-04-11T08:12:25.274578Z\", \"end_time\": \"2021-04-11T08:13:14.558259Z\", \"created_time\": \"2021-04-11T08:12:17.308625Z\", \"created_time_dt\": \"2021-04-11T08:12:17.308625Z\", \"duration\": \"0:00:57\", \"iteration\": \"40\", \"goal\": \"AUC_weighted_max\", \"run_name\": \"MaxAbsScaler, SGD\", \"run_properties\": \"copy=True\", \"primary_metric\": 0.93613649, \"best_metric\": 0.93955021}, {\"run_id\": \"AutoML_b4607043-df0e-46a3-9dee-8754edce5acb_41\", \"run_number\": 46, \"metric\": null, \"status\": \"Canceled\", \"run_type\": \"azureml.scriptrun\", \"training_percent\": \"100\", \"start_time\": \"2021-04-11T08:12:36.52986Z\", \"end_time\": \"2021-04-11T08:13:26.937684Z\", \"created_time\": \"2021-04-11T08:12:23.044807Z\", \"created_time_dt\": \"2021-04-11T08:12:23.044807Z\", \"duration\": \"0:01:03\", \"iteration\": \"41\", \"goal\": \"AUC_weighted_max\", \"run_name\": \"MaxAbsScaler, LogisticRegression\", \"run_properties\": \"copy=True\", \"primary_metric\": 0.92470352, \"best_metric\": 0.93955021}, {\"run_id\": \"AutoML_b4607043-df0e-46a3-9dee-8754edce5acb_42\", \"run_number\": 47, \"metric\": null, \"status\": \"Completed\", \"run_type\": \"azureml.scriptrun\", \"training_percent\": \"100\", \"start_time\": \"2021-04-11T08:12:39.821583Z\", \"end_time\": \"2021-04-11T08:13:25.230875Z\", \"created_time\": \"2021-04-11T08:12:28.597962Z\", \"created_time_dt\": \"2021-04-11T08:12:28.597962Z\", \"duration\": \"0:00:56\", \"iteration\": \"42\", \"goal\": \"AUC_weighted_max\", \"run_name\": \"MaxAbsScaler, LogisticRegression\", \"run_properties\": \"copy=True\", \"primary_metric\": 0.92748508, \"best_metric\": 0.93955021}, {\"run_id\": \"AutoML_b4607043-df0e-46a3-9dee-8754edce5acb_43\", \"run_number\": 48, \"metric\": null, \"status\": \"Canceled\", \"run_type\": \"azureml.scriptrun\", \"training_percent\": \"100\", \"start_time\": \"2021-04-11T08:12:39.040191Z\", \"end_time\": \"2021-04-11T08:13:26.951613Z\", \"created_time\": \"2021-04-11T08:12:28.735527Z\", \"created_time_dt\": \"2021-04-11T08:12:28.735527Z\", \"duration\": \"0:00:58\", \"iteration\": \"43\", \"goal\": \"AUC_weighted_max\", \"run_name\": \"MaxAbsScaler, LogisticRegression\", \"run_properties\": \"copy=True\", \"primary_metric\": 0.91331986, \"best_metric\": 0.93955021}, {\"run_id\": \"AutoML_b4607043-df0e-46a3-9dee-8754edce5acb_44\", \"run_number\": 49, \"metric\": null, \"status\": \"Canceled\", \"run_type\": \"azureml.scriptrun\", \"training_percent\": \"100\", \"start_time\": \"2021-04-11T08:13:22.268724Z\", \"end_time\": \"2021-04-11T08:13:32.04523Z\", \"created_time\": \"2021-04-11T08:13:09.390511Z\", \"created_time_dt\": \"2021-04-11T08:13:09.390511Z\", \"duration\": \"0:00:22\", \"iteration\": \"44\", \"goal\": null, \"run_name\": \"Canceled\", \"run_properties\": null}, {\"run_id\": \"AutoML_b4607043-df0e-46a3-9dee-8754edce5acb_45\", \"run_number\": 50, \"metric\": null, \"status\": \"Canceled\", \"run_type\": \"azureml.scriptrun\", \"training_percent\": \"100\", \"start_time\": \"2021-04-11T08:13:29.387552Z\", \"end_time\": \"2021-04-11T08:13:35.85685Z\", \"created_time\": \"2021-04-11T08:13:18.885699Z\", \"created_time_dt\": \"2021-04-11T08:13:18.885699Z\", \"duration\": \"0:00:16\", \"iteration\": \"45\", \"goal\": null, \"run_name\": \"Canceled\", \"run_properties\": null}, {\"run_id\": \"AutoML_b4607043-df0e-46a3-9dee-8754edce5acb_46\", \"run_number\": 51, \"metric\": null, \"status\": \"Completed\", \"run_type\": \"azureml.scriptrun\", \"training_percent\": \"100\", \"start_time\": \"2021-04-11T08:13:49.016578Z\", \"end_time\": \"2021-04-11T08:15:17.914991Z\", \"created_time\": \"2021-04-11T08:13:37.743871Z\", \"created_time_dt\": \"2021-04-11T08:13:37.743871Z\", \"duration\": \"0:01:40\", \"iteration\": \"46\", \"goal\": \"AUC_weighted_max\", \"run_name\": \"VotingEnsemble\", \"run_properties\": \"classification_labels=None,\\n                              estimators=[('27',\\n                                           Pipeline(memory=None,\\n                                                    steps=[('maxabsscaler',\\n                                                            MaxAbsScaler(copy=True\", \"primary_metric\": 0.94402434, \"best_metric\": 0.94402434}, {\"run_id\": \"AutoML_b4607043-df0e-46a3-9dee-8754edce5acb_47\", \"run_number\": 52, \"metric\": null, \"status\": \"Completed\", \"run_type\": \"azureml.scriptrun\", \"training_percent\": \"100\", \"start_time\": \"2021-04-11T08:13:50.78064Z\", \"end_time\": \"2021-04-11T08:15:25.008165Z\", \"created_time\": \"2021-04-11T08:13:37.865759Z\", \"created_time_dt\": \"2021-04-11T08:13:37.865759Z\", \"duration\": \"0:01:47\", \"iteration\": \"47\", \"goal\": \"AUC_weighted_max\", \"run_name\": \"StackEnsemble\", \"run_properties\": \"base_learners=[('27',\\n                                        Pipeline(memory=None,\\n                                                 steps=[('maxabsscaler',\\n                                                         MaxAbsScaler(copy=True\", \"primary_metric\": 0.93998474, \"best_metric\": 0.94402434}], \"children_metrics\": {\"categories\": [0], \"series\": {\"recall_score_micro\": [{\"categories\": [\"0\", \"1\", \"2\", \"3\", \"4\", \"5\", \"6\", \"7\", \"8\", \"9\", \"10\", \"11\", \"12\", \"13\", \"14\", \"15\", \"16\", \"17\", \"18\", \"19\", \"20\", \"21\", \"22\", \"23\", \"24\", \"25\", \"26\", \"27\", \"28\", \"29\", \"30\", \"31\", \"32\", \"33\", \"34\", \"35\", \"36\", \"37\", \"38\", \"39\", \"40\", \"41\", \"42\", \"43\", \"46\", \"47\"], \"mode\": \"markers\", \"name\": \"recall_score_micro\", \"stepped\": false, \"type\": \"scatter\", \"data\": [0.8073593073593074, 0.7926406926406926, 0.8212121212121211, 0.825974025974026, 0.8307359307359308, 0.825974025974026, 0.8261904761904763, 0.8448051948051948, 0.8261904761904761, 0.84004329004329, 0.8636363636363636, 0.8261904761904763, 0.8495670995670996, 0.8354978354978355, 0.7974025974025974, 0.811904761904762, 0.8352813852813853, 0.825974025974026, 0.8493506493506494, 0.84004329004329, 0.8212121212121213, 0.8541125541125542, 0.8681818181818184, 0.8116883116883116, 0.8445887445887447, 0.603030303030303, 0.8350649350649352, 0.8543290043290044, 0.8116883116883118, 0.8307359307359308, 0.8264069264069264, 0.8305194805194803, 0.84004329004329, 0.8398268398268398, 0.8493506493506494, 0.5326839826839825, 0.8493506493506494, 0.8019480519480519, 0.8212121212121213, 0.8257575757575758, 0.8538961038961039, 0.8350649350649351, 0.8448051948051948, 0.8350649350649351, 0.8683982683982684, 0.585064935064935]}, {\"categories\": [\"0\", \"1\", \"2\", \"3\", \"4\", \"5\", \"6\", \"7\", \"8\", \"9\", \"10\", \"11\", \"12\", \"13\", \"14\", \"15\", \"16\", \"17\", \"18\", \"19\", \"20\", \"21\", \"22\", \"23\", \"24\", \"25\", \"26\", \"27\", \"28\", \"29\", \"30\", \"31\", \"32\", \"33\", \"34\", \"35\", \"36\", \"37\", \"38\", \"39\", \"40\", \"41\", \"42\", \"43\", \"46\", \"47\"], \"mode\": \"lines\", \"name\": \"recall_score_micro_max\", \"stepped\": true, \"type\": \"scatter\", \"data\": [0.8073593073593074, 0.8073593073593074, 0.8212121212121211, 0.825974025974026, 0.8307359307359308, 0.8307359307359308, 0.8307359307359308, 0.8448051948051948, 0.8448051948051948, 0.8448051948051948, 0.8636363636363636, 0.8636363636363636, 0.8636363636363636, 0.8636363636363636, 0.8636363636363636, 0.8636363636363636, 0.8636363636363636, 0.8636363636363636, 0.8636363636363636, 0.8636363636363636, 0.8636363636363636, 0.8636363636363636, 0.8681818181818184, 0.8681818181818184, 0.8681818181818184, 0.8681818181818184, 0.8681818181818184, 0.8681818181818184, 0.8681818181818184, 0.8681818181818184, 0.8681818181818184, 0.8681818181818184, 0.8681818181818184, 0.8681818181818184, 0.8681818181818184, 0.8681818181818184, 0.8681818181818184, 0.8681818181818184, 0.8681818181818184, 0.8681818181818184, 0.8681818181818184, 0.8681818181818184, 0.8681818181818184, 0.8681818181818184, 0.8683982683982684, 0.8683982683982684]}], \"recall_score_weighted\": [{\"categories\": [\"0\", \"1\", \"2\", \"3\", \"4\", \"5\", \"6\", \"7\", \"8\", \"9\", \"10\", \"11\", \"12\", \"13\", \"14\", \"15\", \"16\", \"17\", \"18\", \"19\", \"20\", \"21\", \"22\", \"23\", \"24\", \"25\", \"26\", \"27\", \"28\", \"29\", \"30\", \"31\", \"32\", \"33\", \"34\", \"35\", \"36\", \"37\", \"38\", \"39\", \"40\", \"41\", \"42\", \"43\", \"46\", \"47\"], \"mode\": \"markers\", \"name\": \"recall_score_weighted\", \"stepped\": false, \"type\": \"scatter\", \"data\": [0.8073593073593074, 0.7926406926406926, 0.8212121212121211, 0.825974025974026, 0.8307359307359308, 0.825974025974026, 0.8261904761904763, 0.8448051948051948, 0.8261904761904761, 0.84004329004329, 0.8636363636363636, 0.8261904761904763, 0.8495670995670996, 0.8354978354978355, 0.7974025974025974, 0.811904761904762, 0.8352813852813853, 0.825974025974026, 0.8493506493506494, 0.84004329004329, 0.8212121212121213, 0.8541125541125542, 0.8681818181818184, 0.8116883116883116, 0.8445887445887447, 0.603030303030303, 0.8350649350649352, 0.8543290043290044, 0.8116883116883118, 0.8307359307359308, 0.8264069264069264, 0.8305194805194803, 0.84004329004329, 0.8398268398268398, 0.8493506493506494, 0.5326839826839825, 0.8493506493506494, 0.8019480519480519, 0.8212121212121213, 0.8257575757575758, 0.8538961038961039, 0.8350649350649351, 0.8448051948051948, 0.8350649350649351, 0.8683982683982684, 0.585064935064935]}, {\"categories\": [\"0\", \"1\", \"2\", \"3\", \"4\", \"5\", \"6\", \"7\", \"8\", \"9\", \"10\", \"11\", \"12\", \"13\", \"14\", \"15\", \"16\", \"17\", \"18\", \"19\", \"20\", \"21\", \"22\", \"23\", \"24\", \"25\", \"26\", \"27\", \"28\", \"29\", \"30\", \"31\", \"32\", \"33\", \"34\", \"35\", \"36\", \"37\", \"38\", \"39\", \"40\", \"41\", \"42\", \"43\", \"46\", \"47\"], \"mode\": \"lines\", \"name\": \"recall_score_weighted_max\", \"stepped\": true, \"type\": \"scatter\", \"data\": [0.8073593073593074, 0.8073593073593074, 0.8212121212121211, 0.825974025974026, 0.8307359307359308, 0.8307359307359308, 0.8307359307359308, 0.8448051948051948, 0.8448051948051948, 0.8448051948051948, 0.8636363636363636, 0.8636363636363636, 0.8636363636363636, 0.8636363636363636, 0.8636363636363636, 0.8636363636363636, 0.8636363636363636, 0.8636363636363636, 0.8636363636363636, 0.8636363636363636, 0.8636363636363636, 0.8636363636363636, 0.8681818181818184, 0.8681818181818184, 0.8681818181818184, 0.8681818181818184, 0.8681818181818184, 0.8681818181818184, 0.8681818181818184, 0.8681818181818184, 0.8681818181818184, 0.8681818181818184, 0.8681818181818184, 0.8681818181818184, 0.8681818181818184, 0.8681818181818184, 0.8681818181818184, 0.8681818181818184, 0.8681818181818184, 0.8681818181818184, 0.8681818181818184, 0.8681818181818184, 0.8681818181818184, 0.8681818181818184, 0.8683982683982684, 0.8683982683982684]}], \"average_precision_score_macro\": [{\"categories\": [\"0\", \"1\", \"2\", \"3\", \"4\", \"5\", \"6\", \"7\", \"8\", \"9\", \"10\", \"11\", \"12\", \"13\", \"14\", \"15\", \"16\", \"17\", \"18\", \"19\", \"20\", \"21\", \"22\", \"23\", \"24\", \"25\", \"26\", \"27\", \"28\", \"29\", \"30\", \"31\", \"32\", \"33\", \"34\", \"35\", \"36\", \"37\", \"38\", \"39\", \"40\", \"41\", \"42\", \"43\", \"46\", \"47\"], \"mode\": \"markers\", \"name\": \"average_precision_score_macro\", \"stepped\": false, \"type\": \"scatter\", \"data\": [0.8941386395667186, 0.8988797353569131, 0.9051154914061266, 0.9152230367042226, 0.9230316124687908, 0.8955564075875998, 0.9113493169649921, 0.9208420802456226, 0.9136319625271382, 0.9239401162285074, 0.9277195264138569, 0.9159313523075967, 0.9195001028520682, 0.8917942406031256, 0.9020659572607386, 0.868947228478447, 0.9271696085452004, 0.9143941133133107, 0.9242702802082288, 0.9221020099311643, 0.9152082426277213, 0.9260030522385403, 0.9294367413458401, 0.9163077946659051, 0.9188935740115303, 0.8911857405726747, 0.9212160299282125, 0.9334709118383998, 0.914810014449893, 0.9193922081331154, 0.9022867923280937, 0.9070716831282416, 0.9099056613329519, 0.9092790315112896, 0.9104136530342499, 0.5, 0.9238270417870332, 0.8911225058529755, 0.9083264760491628, 0.9243635363945796, 0.9301155459396562, 0.9215441845656466, 0.9238860094074713, 0.9126744234179249, 0.9395986917375408, 0.9346623562191823]}, {\"categories\": [\"0\", \"1\", \"2\", \"3\", \"4\", \"5\", \"6\", \"7\", \"8\", \"9\", \"10\", \"11\", \"12\", \"13\", \"14\", \"15\", \"16\", \"17\", \"18\", \"19\", \"20\", \"21\", \"22\", \"23\", \"24\", \"25\", \"26\", \"27\", \"28\", \"29\", \"30\", \"31\", \"32\", \"33\", \"34\", \"35\", \"36\", \"37\", \"38\", \"39\", \"40\", \"41\", \"42\", \"43\", \"46\", \"47\"], \"mode\": \"lines\", \"name\": \"average_precision_score_macro_max\", \"stepped\": true, \"type\": \"scatter\", \"data\": [0.8941386395667186, 0.8988797353569131, 0.9051154914061266, 0.9152230367042226, 0.9230316124687908, 0.9230316124687908, 0.9230316124687908, 0.9230316124687908, 0.9230316124687908, 0.9239401162285074, 0.9277195264138569, 0.9277195264138569, 0.9277195264138569, 0.9277195264138569, 0.9277195264138569, 0.9277195264138569, 0.9277195264138569, 0.9277195264138569, 0.9277195264138569, 0.9277195264138569, 0.9277195264138569, 0.9277195264138569, 0.9294367413458401, 0.9294367413458401, 0.9294367413458401, 0.9294367413458401, 0.9294367413458401, 0.9334709118383998, 0.9334709118383998, 0.9334709118383998, 0.9334709118383998, 0.9334709118383998, 0.9334709118383998, 0.9334709118383998, 0.9334709118383998, 0.9334709118383998, 0.9334709118383998, 0.9334709118383998, 0.9334709118383998, 0.9334709118383998, 0.9334709118383998, 0.9334709118383998, 0.9334709118383998, 0.9334709118383998, 0.9395986917375408, 0.9395986917375408]}], \"norm_macro_recall\": [{\"categories\": [\"0\", \"1\", \"2\", \"3\", \"4\", \"5\", \"6\", \"7\", \"8\", \"9\", \"10\", \"11\", \"12\", \"13\", \"14\", \"15\", \"16\", \"17\", \"18\", \"19\", \"20\", \"21\", \"22\", \"23\", \"24\", \"25\", \"26\", \"27\", \"28\", \"29\", \"30\", \"31\", \"32\", \"33\", \"34\", \"35\", \"36\", \"37\", \"38\", \"39\", \"40\", \"41\", \"42\", \"43\", \"46\", \"47\"], \"mode\": \"markers\", \"name\": \"norm_macro_recall\", \"stepped\": false, \"type\": \"scatter\", \"data\": [0.6432339882339883, 0.6115623265623266, 0.6515104340104341, 0.6634476634476634, 0.667062382062382, 0.6671381396381396, 0.6618267843267844, 0.7098112998112998, 0.6502095127095128, 0.7014346764346764, 0.7418026418026418, 0.6699483849483848, 0.7121489621489622, 0.6767846042846043, 0.6165587190587191, 0.6177766677766677, 0.7017160617160617, 0.6707528582528582, 0.7146922521922523, 0.7007264957264956, 0.64757104007104, 0.7203632478632479, 0.7562398712398711, 0.6401612276612277, 0.6996814296814298, 0.19536435786435785, 0.6825890775890776, 0.7371489621489621, 0.628493450993451, 0.6700385725385726, 0.6448029748029749, 0.6833552558552559, 0.7000951825951826, 0.7015695415695415, 0.713441835941836, 0.0, 0.7103632478632478, 0.6111918636918637, 0.6511641136641136, 0.6707528582528582, 0.7415212565212566, 0.6844927294927295, 0.7084188034188035, 0.6844927294927295, 0.7562398712398712, 0.07333333333333333]}, {\"categories\": [\"0\", \"1\", \"2\", \"3\", \"4\", \"5\", \"6\", \"7\", \"8\", \"9\", \"10\", \"11\", \"12\", \"13\", \"14\", \"15\", \"16\", \"17\", \"18\", \"19\", \"20\", \"21\", \"22\", \"23\", \"24\", \"25\", \"26\", \"27\", \"28\", \"29\", \"30\", \"31\", \"32\", \"33\", \"34\", \"35\", \"36\", \"37\", \"38\", \"39\", \"40\", \"41\", \"42\", \"43\", \"46\", \"47\"], \"mode\": \"lines\", \"name\": \"norm_macro_recall_max\", \"stepped\": true, \"type\": \"scatter\", \"data\": [0.6432339882339883, 0.6432339882339883, 0.6515104340104341, 0.6634476634476634, 0.667062382062382, 0.6671381396381396, 0.6671381396381396, 0.7098112998112998, 0.7098112998112998, 0.7098112998112998, 0.7418026418026418, 0.7418026418026418, 0.7418026418026418, 0.7418026418026418, 0.7418026418026418, 0.7418026418026418, 0.7418026418026418, 0.7418026418026418, 0.7418026418026418, 0.7418026418026418, 0.7418026418026418, 0.7418026418026418, 0.7562398712398711, 0.7562398712398711, 0.7562398712398711, 0.7562398712398711, 0.7562398712398711, 0.7562398712398711, 0.7562398712398711, 0.7562398712398711, 0.7562398712398711, 0.7562398712398711, 0.7562398712398711, 0.7562398712398711, 0.7562398712398711, 0.7562398712398711, 0.7562398712398711, 0.7562398712398711, 0.7562398712398711, 0.7562398712398711, 0.7562398712398711, 0.7562398712398711, 0.7562398712398711, 0.7562398712398711, 0.7562398712398712, 0.7562398712398712]}], \"precision_score_weighted\": [{\"categories\": [\"0\", \"1\", \"2\", \"3\", \"4\", \"5\", \"6\", \"7\", \"8\", \"9\", \"10\", \"11\", \"12\", \"13\", \"14\", \"15\", \"16\", \"17\", \"18\", \"19\", \"20\", \"21\", \"22\", \"23\", \"24\", \"25\", \"26\", \"27\", \"28\", \"29\", \"30\", \"31\", \"32\", \"33\", \"34\", \"35\", \"36\", \"37\", \"38\", \"39\", \"40\", \"41\", \"42\", \"43\", \"46\", \"47\"], \"mode\": \"markers\", \"name\": \"precision_score_weighted\", \"stepped\": false, \"type\": \"scatter\", \"data\": [0.8402417952417951, 0.8181387131387131, 0.8437443112443113, 0.8451395562109848, 0.8463747363747365, 0.8470185105899392, 0.8434123977873978, 0.8668673918673919, 0.8385026085026086, 0.8611745661745662, 0.8813208484637055, 0.8468151755651755, 0.8670021645021645, 0.8497987197987198, 0.8192107892107894, 0.8267554667554669, 0.8636479681934228, 0.8472266622266623, 0.865048285048285, 0.8609795759795761, 0.8394272394272395, 0.869541847041847, 0.8830088430088431, 0.8349109644564191, 0.8624403374403375, 0.5623942447792514, 0.8550437921866495, 0.8744815790270335, 0.8276509337223622, 0.8489158064158063, 0.8366246253746255, 0.8562226662226662, 0.8640559440559441, 0.8624212824212825, 0.8677852702852704, 0.29950947321077187, 0.8661183261183261, 0.8242248360105503, 0.8399097199097201, 0.8452122877122878, 0.8783321308321309, 0.8550696525696526, 0.8643658193658194, 0.8550696525696526, 0.8823691123691123, 0.379917636476078]}, {\"categories\": [\"0\", \"1\", \"2\", \"3\", \"4\", \"5\", \"6\", \"7\", \"8\", \"9\", \"10\", \"11\", \"12\", \"13\", \"14\", \"15\", \"16\", \"17\", \"18\", \"19\", \"20\", \"21\", \"22\", \"23\", \"24\", \"25\", \"26\", \"27\", \"28\", \"29\", \"30\", \"31\", \"32\", \"33\", \"34\", \"35\", \"36\", \"37\", \"38\", \"39\", \"40\", \"41\", \"42\", \"43\", \"46\", \"47\"], \"mode\": \"lines\", \"name\": \"precision_score_weighted_max\", \"stepped\": true, \"type\": \"scatter\", \"data\": [0.8402417952417951, 0.8402417952417951, 0.8437443112443113, 0.8451395562109848, 0.8463747363747365, 0.8470185105899392, 0.8470185105899392, 0.8668673918673919, 0.8668673918673919, 0.8668673918673919, 0.8813208484637055, 0.8813208484637055, 0.8813208484637055, 0.8813208484637055, 0.8813208484637055, 0.8813208484637055, 0.8813208484637055, 0.8813208484637055, 0.8813208484637055, 0.8813208484637055, 0.8813208484637055, 0.8813208484637055, 0.8830088430088431, 0.8830088430088431, 0.8830088430088431, 0.8830088430088431, 0.8830088430088431, 0.8830088430088431, 0.8830088430088431, 0.8830088430088431, 0.8830088430088431, 0.8830088430088431, 0.8830088430088431, 0.8830088430088431, 0.8830088430088431, 0.8830088430088431, 0.8830088430088431, 0.8830088430088431, 0.8830088430088431, 0.8830088430088431, 0.8830088430088431, 0.8830088430088431, 0.8830088430088431, 0.8830088430088431, 0.8830088430088431, 0.8830088430088431]}], \"log_loss\": [{\"categories\": [\"0\", \"1\", \"2\", \"3\", \"4\", \"5\", \"6\", \"7\", \"8\", \"9\", \"10\", \"11\", \"12\", \"13\", \"14\", \"15\", \"16\", \"17\", \"18\", \"19\", \"20\", \"21\", \"22\", \"23\", \"24\", \"25\", \"26\", \"27\", \"28\", \"29\", \"30\", \"31\", \"32\", \"33\", \"34\", \"35\", \"36\", \"37\", \"38\", \"39\", \"40\", \"41\", \"42\", \"43\", \"46\", \"47\"], \"mode\": \"markers\", \"name\": \"log_loss\", \"stepped\": false, \"type\": \"scatter\", \"data\": [0.5227792258069489, 0.4605256164228771, 0.40757266610144177, 0.40023839063726596, 0.4001740726032523, 0.4361229768416345, 0.39429594325615736, 0.40094214806279344, 0.48749107473302616, 0.4344550422924226, 0.4293950679797255, 0.43117115913792414, 0.5458896703984433, 0.5008454405047541, 0.5503472449234369, 0.5837876563237232, 0.40768218704700415, 0.3996872016429933, 0.4231400243392671, 0.40815579518214384, 0.3691728923764389, 0.35896090549772686, 0.34400388141320326, 0.4044600860874109, 0.36649153578796645, 0.6701303490428498, 0.47420020796609774, 0.3519328991969614, 0.36735514862395746, 0.3689088313407953, 0.6864974397489872, 0.44560000989191495, 0.3902649730354183, 0.3932998418989702, 0.3986063433622016, 0.6984619814430706, 0.40982501153692297, 0.4239905234447393, 0.41999108803726354, 0.36345986604910774, 0.3522594276611895, 0.428621538068411, 0.4166003765722127, 0.4665593881446658, 0.36621457058164897, 0.6695163552457147]}, {\"categories\": [\"0\", \"1\", \"2\", \"3\", \"4\", \"5\", \"6\", \"7\", \"8\", \"9\", \"10\", \"11\", \"12\", \"13\", \"14\", \"15\", \"16\", \"17\", \"18\", \"19\", \"20\", \"21\", \"22\", \"23\", \"24\", \"25\", \"26\", \"27\", \"28\", \"29\", \"30\", \"31\", \"32\", \"33\", \"34\", \"35\", \"36\", \"37\", \"38\", \"39\", \"40\", \"41\", \"42\", \"43\", \"46\", \"47\"], \"mode\": \"lines\", \"name\": \"log_loss_min\", \"stepped\": true, \"type\": \"scatter\", \"data\": [0.5227792258069489, 0.4605256164228771, 0.40757266610144177, 0.40023839063726596, 0.4001740726032523, 0.4001740726032523, 0.39429594325615736, 0.39429594325615736, 0.39429594325615736, 0.39429594325615736, 0.39429594325615736, 0.39429594325615736, 0.39429594325615736, 0.39429594325615736, 0.39429594325615736, 0.39429594325615736, 0.39429594325615736, 0.39429594325615736, 0.39429594325615736, 0.39429594325615736, 0.3691728923764389, 0.35896090549772686, 0.34400388141320326, 0.34400388141320326, 0.34400388141320326, 0.34400388141320326, 0.34400388141320326, 0.34400388141320326, 0.34400388141320326, 0.34400388141320326, 0.34400388141320326, 0.34400388141320326, 0.34400388141320326, 0.34400388141320326, 0.34400388141320326, 0.34400388141320326, 0.34400388141320326, 0.34400388141320326, 0.34400388141320326, 0.34400388141320326, 0.34400388141320326, 0.34400388141320326, 0.34400388141320326, 0.34400388141320326, 0.34400388141320326, 0.34400388141320326]}], \"recall_score_macro\": [{\"categories\": [\"0\", \"1\", \"2\", \"3\", \"4\", \"5\", \"6\", \"7\", \"8\", \"9\", \"10\", \"11\", \"12\", \"13\", \"14\", \"15\", \"16\", \"17\", \"18\", \"19\", \"20\", \"21\", \"22\", \"23\", \"24\", \"25\", \"26\", \"27\", \"28\", \"29\", \"30\", \"31\", \"32\", \"33\", \"34\", \"35\", \"36\", \"37\", \"38\", \"39\", \"40\", \"41\", \"42\", \"43\", \"46\", \"47\"], \"mode\": \"markers\", \"name\": \"recall_score_macro\", \"stepped\": false, \"type\": \"scatter\", \"data\": [0.8216169941169941, 0.8057811632811633, 0.825755217005217, 0.8317238317238317, 0.833531191031191, 0.8335690698190698, 0.8309133921633922, 0.85490564990565, 0.8251047563547564, 0.8507173382173383, 0.8709013209013209, 0.8349741924741924, 0.8560744810744809, 0.8383923021423021, 0.8082793595293595, 0.808888333888334, 0.8508580308580308, 0.8353764291264291, 0.8573461260961261, 0.8503632478632479, 0.8237855200355201, 0.8601816239316239, 0.8781199356199355, 0.8200806138306138, 0.8498407148407148, 0.5976821789321789, 0.8412945387945389, 0.8685744810744811, 0.8142467254967254, 0.8350192862692862, 0.8224014874014873, 0.8416776279276281, 0.8500475912975913, 0.8507847707847708, 0.8567209179709179, 0.5, 0.8551816239316239, 0.8055959318459319, 0.8255820568320568, 0.8353764291264291, 0.8707606282606282, 0.8422463647463647, 0.8542094017094017, 0.8422463647463647, 0.8781199356199355, 0.5366666666666667]}, {\"categories\": [\"0\", \"1\", \"2\", \"3\", \"4\", \"5\", \"6\", \"7\", \"8\", \"9\", \"10\", \"11\", \"12\", \"13\", \"14\", \"15\", \"16\", \"17\", \"18\", \"19\", \"20\", \"21\", \"22\", \"23\", \"24\", \"25\", \"26\", \"27\", \"28\", \"29\", \"30\", \"31\", \"32\", \"33\", \"34\", \"35\", \"36\", \"37\", \"38\", \"39\", \"40\", \"41\", \"42\", \"43\", \"46\", \"47\"], \"mode\": \"lines\", \"name\": \"recall_score_macro_max\", \"stepped\": true, \"type\": \"scatter\", \"data\": [0.8216169941169941, 0.8216169941169941, 0.825755217005217, 0.8317238317238317, 0.833531191031191, 0.8335690698190698, 0.8335690698190698, 0.85490564990565, 0.85490564990565, 0.85490564990565, 0.8709013209013209, 0.8709013209013209, 0.8709013209013209, 0.8709013209013209, 0.8709013209013209, 0.8709013209013209, 0.8709013209013209, 0.8709013209013209, 0.8709013209013209, 0.8709013209013209, 0.8709013209013209, 0.8709013209013209, 0.8781199356199355, 0.8781199356199355, 0.8781199356199355, 0.8781199356199355, 0.8781199356199355, 0.8781199356199355, 0.8781199356199355, 0.8781199356199355, 0.8781199356199355, 0.8781199356199355, 0.8781199356199355, 0.8781199356199355, 0.8781199356199355, 0.8781199356199355, 0.8781199356199355, 0.8781199356199355, 0.8781199356199355, 0.8781199356199355, 0.8781199356199355, 0.8781199356199355, 0.8781199356199355, 0.8781199356199355, 0.8781199356199355, 0.8781199356199355]}], \"balanced_accuracy\": [{\"categories\": [\"0\", \"1\", \"2\", \"3\", \"4\", \"5\", \"6\", \"7\", \"8\", \"9\", \"10\", \"11\", \"12\", \"13\", \"14\", \"15\", \"16\", \"17\", \"18\", \"19\", \"20\", \"21\", \"22\", \"23\", \"24\", \"25\", \"26\", \"27\", \"28\", \"29\", \"30\", \"31\", \"32\", \"33\", \"34\", \"35\", \"36\", \"37\", \"38\", \"39\", \"40\", \"41\", \"42\", \"43\", \"46\", \"47\"], \"mode\": \"markers\", \"name\": \"balanced_accuracy\", \"stepped\": false, \"type\": \"scatter\", \"data\": [0.8216169941169941, 0.8057811632811633, 0.825755217005217, 0.8317238317238317, 0.833531191031191, 0.8335690698190698, 0.8309133921633922, 0.85490564990565, 0.8251047563547564, 0.8507173382173383, 0.8709013209013209, 0.8349741924741924, 0.8560744810744809, 0.8383923021423021, 0.8082793595293595, 0.808888333888334, 0.8508580308580308, 0.8353764291264291, 0.8573461260961261, 0.8503632478632479, 0.8237855200355201, 0.8601816239316239, 0.8781199356199355, 0.8200806138306138, 0.8498407148407148, 0.5976821789321789, 0.8412945387945389, 0.8685744810744811, 0.8142467254967254, 0.8350192862692862, 0.8224014874014873, 0.8416776279276281, 0.8500475912975913, 0.8507847707847708, 0.8567209179709179, 0.5, 0.8551816239316239, 0.8055959318459319, 0.8255820568320568, 0.8353764291264291, 0.8707606282606282, 0.8422463647463647, 0.8542094017094017, 0.8422463647463647, 0.8781199356199355, 0.5366666666666667]}, {\"categories\": [\"0\", \"1\", \"2\", \"3\", \"4\", \"5\", \"6\", \"7\", \"8\", \"9\", \"10\", \"11\", \"12\", \"13\", \"14\", \"15\", \"16\", \"17\", \"18\", \"19\", \"20\", \"21\", \"22\", \"23\", \"24\", \"25\", \"26\", \"27\", \"28\", \"29\", \"30\", \"31\", \"32\", \"33\", \"34\", \"35\", \"36\", \"37\", \"38\", \"39\", \"40\", \"41\", \"42\", \"43\", \"46\", \"47\"], \"mode\": \"lines\", \"name\": \"balanced_accuracy_max\", \"stepped\": true, \"type\": \"scatter\", \"data\": [0.8216169941169941, 0.8216169941169941, 0.825755217005217, 0.8317238317238317, 0.833531191031191, 0.8335690698190698, 0.8335690698190698, 0.85490564990565, 0.85490564990565, 0.85490564990565, 0.8709013209013209, 0.8709013209013209, 0.8709013209013209, 0.8709013209013209, 0.8709013209013209, 0.8709013209013209, 0.8709013209013209, 0.8709013209013209, 0.8709013209013209, 0.8709013209013209, 0.8709013209013209, 0.8709013209013209, 0.8781199356199355, 0.8781199356199355, 0.8781199356199355, 0.8781199356199355, 0.8781199356199355, 0.8781199356199355, 0.8781199356199355, 0.8781199356199355, 0.8781199356199355, 0.8781199356199355, 0.8781199356199355, 0.8781199356199355, 0.8781199356199355, 0.8781199356199355, 0.8781199356199355, 0.8781199356199355, 0.8781199356199355, 0.8781199356199355, 0.8781199356199355, 0.8781199356199355, 0.8781199356199355, 0.8781199356199355, 0.8781199356199355, 0.8781199356199355]}], \"precision_score_micro\": [{\"categories\": [\"0\", \"1\", \"2\", \"3\", \"4\", \"5\", \"6\", \"7\", \"8\", \"9\", \"10\", \"11\", \"12\", \"13\", \"14\", \"15\", \"16\", \"17\", \"18\", \"19\", \"20\", \"21\", \"22\", \"23\", \"24\", \"25\", \"26\", \"27\", \"28\", \"29\", \"30\", \"31\", \"32\", \"33\", \"34\", \"35\", \"36\", \"37\", \"38\", \"39\", \"40\", \"41\", \"42\", \"43\", \"46\", \"47\"], \"mode\": \"markers\", \"name\": \"precision_score_micro\", \"stepped\": false, \"type\": \"scatter\", \"data\": [0.8073593073593074, 0.7926406926406926, 0.8212121212121211, 0.825974025974026, 0.8307359307359308, 0.825974025974026, 0.8261904761904763, 0.8448051948051948, 0.8261904761904761, 0.84004329004329, 0.8636363636363636, 0.8261904761904763, 0.8495670995670996, 0.8354978354978355, 0.7974025974025974, 0.811904761904762, 0.8352813852813853, 0.825974025974026, 0.8493506493506494, 0.84004329004329, 0.8212121212121213, 0.8541125541125542, 0.8681818181818184, 0.8116883116883116, 0.8445887445887447, 0.603030303030303, 0.8350649350649352, 0.8543290043290044, 0.8116883116883118, 0.8307359307359308, 0.8264069264069264, 0.8305194805194803, 0.84004329004329, 0.8398268398268398, 0.8493506493506494, 0.5326839826839825, 0.8493506493506494, 0.8019480519480519, 0.8212121212121213, 0.8257575757575758, 0.8538961038961039, 0.8350649350649351, 0.8448051948051948, 0.8350649350649351, 0.8683982683982684, 0.585064935064935]}, {\"categories\": [\"0\", \"1\", \"2\", \"3\", \"4\", \"5\", \"6\", \"7\", \"8\", \"9\", \"10\", \"11\", \"12\", \"13\", \"14\", \"15\", \"16\", \"17\", \"18\", \"19\", \"20\", \"21\", \"22\", \"23\", \"24\", \"25\", \"26\", \"27\", \"28\", \"29\", \"30\", \"31\", \"32\", \"33\", \"34\", \"35\", \"36\", \"37\", \"38\", \"39\", \"40\", \"41\", \"42\", \"43\", \"46\", \"47\"], \"mode\": \"lines\", \"name\": \"precision_score_micro_max\", \"stepped\": true, \"type\": \"scatter\", \"data\": [0.8073593073593074, 0.8073593073593074, 0.8212121212121211, 0.825974025974026, 0.8307359307359308, 0.8307359307359308, 0.8307359307359308, 0.8448051948051948, 0.8448051948051948, 0.8448051948051948, 0.8636363636363636, 0.8636363636363636, 0.8636363636363636, 0.8636363636363636, 0.8636363636363636, 0.8636363636363636, 0.8636363636363636, 0.8636363636363636, 0.8636363636363636, 0.8636363636363636, 0.8636363636363636, 0.8636363636363636, 0.8681818181818184, 0.8681818181818184, 0.8681818181818184, 0.8681818181818184, 0.8681818181818184, 0.8681818181818184, 0.8681818181818184, 0.8681818181818184, 0.8681818181818184, 0.8681818181818184, 0.8681818181818184, 0.8681818181818184, 0.8681818181818184, 0.8681818181818184, 0.8681818181818184, 0.8681818181818184, 0.8681818181818184, 0.8681818181818184, 0.8681818181818184, 0.8681818181818184, 0.8681818181818184, 0.8681818181818184, 0.8683982683982684, 0.8683982683982684]}], \"average_precision_score_micro\": [{\"categories\": [\"0\", \"1\", \"2\", \"3\", \"4\", \"5\", \"6\", \"7\", \"8\", \"9\", \"10\", \"11\", \"12\", \"13\", \"14\", \"15\", \"16\", \"17\", \"18\", \"19\", \"20\", \"21\", \"22\", \"23\", \"24\", \"25\", \"26\", \"27\", \"28\", \"29\", \"30\", \"31\", \"32\", \"33\", \"34\", \"35\", \"36\", \"37\", \"38\", \"39\", \"40\", \"41\", \"42\", \"43\", \"46\", \"47\"], \"mode\": \"markers\", \"name\": \"average_precision_score_micro\", \"stepped\": false, \"type\": \"scatter\", \"data\": [0.8855329578584765, 0.8899655737424974, 0.9007290776166966, 0.9052102309536482, 0.9198863610250776, 0.8834996647673133, 0.9036467298686357, 0.91407367480552, 0.907019981153771, 0.9131037729053928, 0.9207042795872054, 0.9007010964177242, 0.9118932303062994, 0.8898850432818433, 0.9007855888755442, 0.8668152069057717, 0.9134142326763335, 0.9005356075015755, 0.9223728563060881, 0.9154466438724651, 0.9157492658879349, 0.925791928006418, 0.9287302361439265, 0.9095324090309738, 0.9148382133994726, 0.7680290903202821, 0.914259909528576, 0.9244139461079716, 0.9137137894704729, 0.9152732557787318, 0.9044796867356641, 0.9007660880317649, 0.9047667463526619, 0.9050294405196027, 0.9076445334296348, 0.5331674818687805, 0.9082994451599082, 0.8864849435644881, 0.9024327671271756, 0.916092710270026, 0.9204148159953698, 0.9124051907304856, 0.9167537820148152, 0.9042607893011452, 0.9340751414852958, 0.8128566800853452]}, {\"categories\": [\"0\", \"1\", \"2\", \"3\", \"4\", \"5\", \"6\", \"7\", \"8\", \"9\", \"10\", \"11\", \"12\", \"13\", \"14\", \"15\", \"16\", \"17\", \"18\", \"19\", \"20\", \"21\", \"22\", \"23\", \"24\", \"25\", \"26\", \"27\", \"28\", \"29\", \"30\", \"31\", \"32\", \"33\", \"34\", \"35\", \"36\", \"37\", \"38\", \"39\", \"40\", \"41\", \"42\", \"43\", \"46\", \"47\"], \"mode\": \"lines\", \"name\": \"average_precision_score_micro_max\", \"stepped\": true, \"type\": \"scatter\", \"data\": [0.8855329578584765, 0.8899655737424974, 0.9007290776166966, 0.9052102309536482, 0.9198863610250776, 0.9198863610250776, 0.9198863610250776, 0.9198863610250776, 0.9198863610250776, 0.9198863610250776, 0.9207042795872054, 0.9207042795872054, 0.9207042795872054, 0.9207042795872054, 0.9207042795872054, 0.9207042795872054, 0.9207042795872054, 0.9207042795872054, 0.9223728563060881, 0.9223728563060881, 0.9223728563060881, 0.925791928006418, 0.9287302361439265, 0.9287302361439265, 0.9287302361439265, 0.9287302361439265, 0.9287302361439265, 0.9287302361439265, 0.9287302361439265, 0.9287302361439265, 0.9287302361439265, 0.9287302361439265, 0.9287302361439265, 0.9287302361439265, 0.9287302361439265, 0.9287302361439265, 0.9287302361439265, 0.9287302361439265, 0.9287302361439265, 0.9287302361439265, 0.9287302361439265, 0.9287302361439265, 0.9287302361439265, 0.9287302361439265, 0.9340751414852958, 0.9340751414852958]}], \"average_precision_score_weighted\": [{\"categories\": [\"0\", \"1\", \"2\", \"3\", \"4\", \"5\", \"6\", \"7\", \"8\", \"9\", \"10\", \"11\", \"12\", \"13\", \"14\", \"15\", \"16\", \"17\", \"18\", \"19\", \"20\", \"21\", \"22\", \"23\", \"24\", \"25\", \"26\", \"27\", \"28\", \"29\", \"30\", \"31\", \"32\", \"33\", \"34\", \"35\", \"36\", \"37\", \"38\", \"39\", \"40\", \"41\", \"42\", \"43\", \"46\", \"47\"], \"mode\": \"markers\", \"name\": \"average_precision_score_weighted\", \"stepped\": false, \"type\": \"scatter\", \"data\": [0.9047921453112237, 0.9085346056155181, 0.9178477411698331, 0.9244032813547006, 0.9308939813466421, 0.9068951344734886, 0.9205470143969299, 0.930609896479383, 0.9224101496608131, 0.933047164516647, 0.9367463878031407, 0.9249151082651194, 0.9276442970759644, 0.903558767526893, 0.9134366475275565, 0.8834158185214133, 0.9344642112290427, 0.9228612062540632, 0.9329257250211626, 0.9329310353441368, 0.9247577513948739, 0.9347227213483847, 0.938649044805462, 0.9218422965878336, 0.9274299879413516, 0.8993292660710536, 0.9296283885529393, 0.9420272646213249, 0.9235332809396979, 0.9284006042236511, 0.9106876046435423, 0.9198346455370195, 0.9213567082048947, 0.9216080323267409, 0.9229326325960209, 0.5336509810535783, 0.9315523675908762, 0.902402219391082, 0.9203258621550507, 0.9339481177086218, 0.9387372264368062, 0.932243786085459, 0.9345516369647386, 0.9232926724538943, 0.9474618468517739, 0.9433893949435394]}, {\"categories\": [\"0\", \"1\", \"2\", \"3\", \"4\", \"5\", \"6\", \"7\", \"8\", \"9\", \"10\", \"11\", \"12\", \"13\", \"14\", \"15\", \"16\", \"17\", \"18\", \"19\", \"20\", \"21\", \"22\", \"23\", \"24\", \"25\", \"26\", \"27\", \"28\", \"29\", \"30\", \"31\", \"32\", \"33\", \"34\", \"35\", \"36\", \"37\", \"38\", \"39\", \"40\", \"41\", \"42\", \"43\", \"46\", \"47\"], \"mode\": \"lines\", \"name\": \"average_precision_score_weighted_max\", \"stepped\": true, \"type\": \"scatter\", \"data\": [0.9047921453112237, 0.9085346056155181, 0.9178477411698331, 0.9244032813547006, 0.9308939813466421, 0.9308939813466421, 0.9308939813466421, 0.9308939813466421, 0.9308939813466421, 0.933047164516647, 0.9367463878031407, 0.9367463878031407, 0.9367463878031407, 0.9367463878031407, 0.9367463878031407, 0.9367463878031407, 0.9367463878031407, 0.9367463878031407, 0.9367463878031407, 0.9367463878031407, 0.9367463878031407, 0.9367463878031407, 0.938649044805462, 0.938649044805462, 0.938649044805462, 0.938649044805462, 0.938649044805462, 0.9420272646213249, 0.9420272646213249, 0.9420272646213249, 0.9420272646213249, 0.9420272646213249, 0.9420272646213249, 0.9420272646213249, 0.9420272646213249, 0.9420272646213249, 0.9420272646213249, 0.9420272646213249, 0.9420272646213249, 0.9420272646213249, 0.9420272646213249, 0.9420272646213249, 0.9420272646213249, 0.9420272646213249, 0.9474618468517739, 0.9474618468517739]}], \"precision_score_macro\": [{\"categories\": [\"0\", \"1\", \"2\", \"3\", \"4\", \"5\", \"6\", \"7\", \"8\", \"9\", \"10\", \"11\", \"12\", \"13\", \"14\", \"15\", \"16\", \"17\", \"18\", \"19\", \"20\", \"21\", \"22\", \"23\", \"24\", \"25\", \"26\", \"27\", \"28\", \"29\", \"30\", \"31\", \"32\", \"33\", \"34\", \"35\", \"36\", \"37\", \"38\", \"39\", \"40\", \"41\", \"42\", \"43\", \"46\", \"47\"], \"mode\": \"markers\", \"name\": \"precision_score_macro\", \"stepped\": false, \"type\": \"scatter\", \"data\": [0.81491008991009, 0.7906687756687757, 0.8217582417582419, 0.825180513930514, 0.8289019314019314, 0.8260470085470086, 0.8244407675657677, 0.844253663003663, 0.8232421744921744, 0.8377640415140416, 0.860849705849706, 0.8248502886002885, 0.8490434565434566, 0.8321865634365635, 0.7933775946275945, 0.8106410256410257, 0.837937617937618, 0.8257488344988346, 0.8444867632367632, 0.8376552614052615, 0.8203431290931291, 0.8514658952158951, 0.8620324120324121, 0.8111852036852036, 0.8431200743700744, 0.5926474273920095, 0.8340455377955379, 0.8507697857697858, 0.8097458097458098, 0.8303280053280053, 0.820688061938062, 0.8315345765345766, 0.8414879564879565, 0.8398504273504275, 0.8462296037296037, 0.26634199134199127, 0.8478006715506716, 0.8046796259296259, 0.8193358030858031, 0.8214620102120103, 0.851962481962482, 0.8332856032856034, 0.842099705849706, 0.8332856032856034, 0.8614768564768565, 0.332056277056277]}, {\"categories\": [\"0\", \"1\", \"2\", \"3\", \"4\", \"5\", \"6\", \"7\", \"8\", \"9\", \"10\", \"11\", \"12\", \"13\", \"14\", \"15\", \"16\", \"17\", \"18\", \"19\", \"20\", \"21\", \"22\", \"23\", \"24\", \"25\", \"26\", \"27\", \"28\", \"29\", \"30\", \"31\", \"32\", \"33\", \"34\", \"35\", \"36\", \"37\", \"38\", \"39\", \"40\", \"41\", \"42\", \"43\", \"46\", \"47\"], \"mode\": \"lines\", \"name\": \"precision_score_macro_max\", \"stepped\": true, \"type\": \"scatter\", \"data\": [0.81491008991009, 0.81491008991009, 0.8217582417582419, 0.825180513930514, 0.8289019314019314, 0.8289019314019314, 0.8289019314019314, 0.844253663003663, 0.844253663003663, 0.844253663003663, 0.860849705849706, 0.860849705849706, 0.860849705849706, 0.860849705849706, 0.860849705849706, 0.860849705849706, 0.860849705849706, 0.860849705849706, 0.860849705849706, 0.860849705849706, 0.860849705849706, 0.860849705849706, 0.8620324120324121, 0.8620324120324121, 0.8620324120324121, 0.8620324120324121, 0.8620324120324121, 0.8620324120324121, 0.8620324120324121, 0.8620324120324121, 0.8620324120324121, 0.8620324120324121, 0.8620324120324121, 0.8620324120324121, 0.8620324120324121, 0.8620324120324121, 0.8620324120324121, 0.8620324120324121, 0.8620324120324121, 0.8620324120324121, 0.8620324120324121, 0.8620324120324121, 0.8620324120324121, 0.8620324120324121, 0.8620324120324121, 0.8620324120324121]}], \"AUC_micro\": [{\"categories\": [\"0\", \"1\", \"2\", \"3\", \"4\", \"5\", \"6\", \"7\", \"8\", \"9\", \"10\", \"11\", \"12\", \"13\", \"14\", \"15\", \"16\", \"17\", \"18\", \"19\", \"20\", \"21\", \"22\", \"23\", \"24\", \"25\", \"26\", \"27\", \"28\", \"29\", \"30\", \"31\", \"32\", \"33\", \"34\", \"35\", \"36\", \"37\", \"38\", \"39\", \"40\", \"41\", \"42\", \"43\", \"46\", \"47\"], \"mode\": \"markers\", \"name\": \"AUC_micro\", \"stepped\": false, \"type\": \"scatter\", \"data\": [0.8795196866625437, 0.8828910627611926, 0.9021148404265288, 0.8993637675455858, 0.9160079458780757, 0.8799380633796219, 0.8989303986057232, 0.9101876838889824, 0.9024273345701918, 0.9150807706002511, 0.9183308033957385, 0.8957754727235245, 0.9111097055902249, 0.8889024755907874, 0.8989050992297747, 0.867864170461573, 0.9066602949719831, 0.8963503307659151, 0.9215307059462903, 0.9134784767901649, 0.9117548396769175, 0.9246500252993759, 0.9278700736492944, 0.9014045838721163, 0.9128886265249901, 0.7275510204081632, 0.9129289181237233, 0.9260710069151628, 0.9105957534528961, 0.9121680628174135, 0.897700567830438, 0.9052243211334121, 0.9018379528119788, 0.9045089110024174, 0.9080161541200502, 0.5326839826839828, 0.9056173984745411, 0.8809359832087106, 0.8984717302899121, 0.9167486553850189, 0.9193488690241937, 0.9113772230655346, 0.9150657783774667, 0.9027604430201832, 0.9325059500384176, 0.778722756320159]}, {\"categories\": [\"0\", \"1\", \"2\", \"3\", \"4\", \"5\", \"6\", \"7\", \"8\", \"9\", \"10\", \"11\", \"12\", \"13\", \"14\", \"15\", \"16\", \"17\", \"18\", \"19\", \"20\", \"21\", \"22\", \"23\", \"24\", \"25\", \"26\", \"27\", \"28\", \"29\", \"30\", \"31\", \"32\", \"33\", \"34\", \"35\", \"36\", \"37\", \"38\", \"39\", \"40\", \"41\", \"42\", \"43\", \"46\", \"47\"], \"mode\": \"lines\", \"name\": \"AUC_micro_max\", \"stepped\": true, \"type\": \"scatter\", \"data\": [0.8795196866625437, 0.8828910627611926, 0.9021148404265288, 0.9021148404265288, 0.9160079458780757, 0.9160079458780757, 0.9160079458780757, 0.9160079458780757, 0.9160079458780757, 0.9160079458780757, 0.9183308033957385, 0.9183308033957385, 0.9183308033957385, 0.9183308033957385, 0.9183308033957385, 0.9183308033957385, 0.9183308033957385, 0.9183308033957385, 0.9215307059462903, 0.9215307059462903, 0.9215307059462903, 0.9246500252993759, 0.9278700736492944, 0.9278700736492944, 0.9278700736492944, 0.9278700736492944, 0.9278700736492944, 0.9278700736492944, 0.9278700736492944, 0.9278700736492944, 0.9278700736492944, 0.9278700736492944, 0.9278700736492944, 0.9278700736492944, 0.9278700736492944, 0.9278700736492944, 0.9278700736492944, 0.9278700736492944, 0.9278700736492944, 0.9278700736492944, 0.9278700736492944, 0.9278700736492944, 0.9278700736492944, 0.9278700736492944, 0.9325059500384176, 0.9325059500384176]}], \"f1_score_weighted\": [{\"categories\": [\"0\", \"1\", \"2\", \"3\", \"4\", \"5\", \"6\", \"7\", \"8\", \"9\", \"10\", \"11\", \"12\", \"13\", \"14\", \"15\", \"16\", \"17\", \"18\", \"19\", \"20\", \"21\", \"22\", \"23\", \"24\", \"25\", \"26\", \"27\", \"28\", \"29\", \"30\", \"31\", \"32\", \"33\", \"34\", \"35\", \"36\", \"37\", \"38\", \"39\", \"40\", \"41\", \"42\", \"43\", \"46\", \"47\"], \"mode\": \"markers\", \"name\": \"f1_score_weighted\", \"stepped\": false, \"type\": \"scatter\", \"data\": [0.8080296033208432, 0.79528821831763, 0.8214943187468566, 0.8253885479438493, 0.8314275650439148, 0.8255083010671246, 0.8249488499949434, 0.846102579425032, 0.8262185224652647, 0.8410211710652327, 0.8647860230909279, 0.8254973122478843, 0.8503331160686957, 0.8359714502811763, 0.799636637871932, 0.8111891828902873, 0.8369439048485354, 0.8275053415464132, 0.8508271490414347, 0.8413403145415529, 0.8208941562385274, 0.8551799246347128, 0.8695017455311573, 0.81277278935192, 0.8446175752227711, 0.5034369165196941, 0.8357794429239627, 0.8557113015410229, 0.8120385041193426, 0.8311587662331981, 0.8255310889506535, 0.8331615535460765, 0.8417844910274741, 0.8416800479391165, 0.8515777857188034, 0.3795471318941842, 0.8500589428891843, 0.8015247335211377, 0.8224971262715239, 0.8267115959442428, 0.8560232195577464, 0.835998079904438, 0.8460147620983534, 0.835998079904438, 0.8696496575320106, 0.44871685106390335]}, {\"categories\": [\"0\", \"1\", \"2\", \"3\", \"4\", \"5\", \"6\", \"7\", \"8\", \"9\", \"10\", \"11\", \"12\", \"13\", \"14\", \"15\", \"16\", \"17\", \"18\", \"19\", \"20\", \"21\", \"22\", \"23\", \"24\", \"25\", \"26\", \"27\", \"28\", \"29\", \"30\", \"31\", \"32\", \"33\", \"34\", \"35\", \"36\", \"37\", \"38\", \"39\", \"40\", \"41\", \"42\", \"43\", \"46\", \"47\"], \"mode\": \"lines\", \"name\": \"f1_score_weighted_max\", \"stepped\": true, \"type\": \"scatter\", \"data\": [0.8080296033208432, 0.8080296033208432, 0.8214943187468566, 0.8253885479438493, 0.8314275650439148, 0.8314275650439148, 0.8314275650439148, 0.846102579425032, 0.846102579425032, 0.846102579425032, 0.8647860230909279, 0.8647860230909279, 0.8647860230909279, 0.8647860230909279, 0.8647860230909279, 0.8647860230909279, 0.8647860230909279, 0.8647860230909279, 0.8647860230909279, 0.8647860230909279, 0.8647860230909279, 0.8647860230909279, 0.8695017455311573, 0.8695017455311573, 0.8695017455311573, 0.8695017455311573, 0.8695017455311573, 0.8695017455311573, 0.8695017455311573, 0.8695017455311573, 0.8695017455311573, 0.8695017455311573, 0.8695017455311573, 0.8695017455311573, 0.8695017455311573, 0.8695017455311573, 0.8695017455311573, 0.8695017455311573, 0.8695017455311573, 0.8695017455311573, 0.8695017455311573, 0.8695017455311573, 0.8695017455311573, 0.8695017455311573, 0.8696496575320106, 0.8696496575320106]}], \"f1_score_macro\": [{\"categories\": [\"0\", \"1\", \"2\", \"3\", \"4\", \"5\", \"6\", \"7\", \"8\", \"9\", \"10\", \"11\", \"12\", \"13\", \"14\", \"15\", \"16\", \"17\", \"18\", \"19\", \"20\", \"21\", \"22\", \"23\", \"24\", \"25\", \"26\", \"27\", \"28\", \"29\", \"30\", \"31\", \"32\", \"33\", \"34\", \"35\", \"36\", \"37\", \"38\", \"39\", \"40\", \"41\", \"42\", \"43\", \"46\", \"47\"], \"mode\": \"markers\", \"name\": \"f1_score_macro\", \"stepped\": false, \"type\": \"scatter\", \"data\": [0.8013998094337259, 0.786967986262104, 0.8116986281622609, 0.8175300034739393, 0.8233445066116888, 0.8179611793435324, 0.8172285843633939, 0.8389799781028412, 0.8175366599749377, 0.8337832270604514, 0.8576920575591185, 0.8181686424058885, 0.8436691581956712, 0.8278779013278227, 0.7910465596495009, 0.8006855596411588, 0.8308848231755084, 0.8204896608559908, 0.8438560051060051, 0.8338270913812711, 0.8119483705684741, 0.8483071419632486, 0.8631215309744722, 0.8040869367933435, 0.8367923696256581, 0.49911633816102824, 0.8278169982695351, 0.8499496067228265, 0.8037488353461184, 0.823112692680261, 0.8151003234909175, 0.8252801379638728, 0.8343315283332735, 0.8347883326751904, 0.8434503345132589, 0.34291041673689066, 0.8429889760190805, 0.7926022284581936, 0.8134955715228969, 0.8187590113717116, 0.8499884591112211, 0.8278311327998367, 0.8386081371329048, 0.8278311327998367, 0.8632402254608136, 0.4004958868223607]}, {\"categories\": [\"0\", \"1\", \"2\", \"3\", \"4\", \"5\", \"6\", \"7\", \"8\", \"9\", \"10\", \"11\", \"12\", \"13\", \"14\", \"15\", \"16\", \"17\", \"18\", \"19\", \"20\", \"21\", \"22\", \"23\", \"24\", \"25\", \"26\", \"27\", \"28\", \"29\", \"30\", \"31\", \"32\", \"33\", \"34\", \"35\", \"36\", \"37\", \"38\", \"39\", \"40\", \"41\", \"42\", \"43\", \"46\", \"47\"], \"mode\": \"lines\", \"name\": \"f1_score_macro_max\", \"stepped\": true, \"type\": \"scatter\", \"data\": [0.8013998094337259, 0.8013998094337259, 0.8116986281622609, 0.8175300034739393, 0.8233445066116888, 0.8233445066116888, 0.8233445066116888, 0.8389799781028412, 0.8389799781028412, 0.8389799781028412, 0.8576920575591185, 0.8576920575591185, 0.8576920575591185, 0.8576920575591185, 0.8576920575591185, 0.8576920575591185, 0.8576920575591185, 0.8576920575591185, 0.8576920575591185, 0.8576920575591185, 0.8576920575591185, 0.8576920575591185, 0.8631215309744722, 0.8631215309744722, 0.8631215309744722, 0.8631215309744722, 0.8631215309744722, 0.8631215309744722, 0.8631215309744722, 0.8631215309744722, 0.8631215309744722, 0.8631215309744722, 0.8631215309744722, 0.8631215309744722, 0.8631215309744722, 0.8631215309744722, 0.8631215309744722, 0.8631215309744722, 0.8631215309744722, 0.8631215309744722, 0.8631215309744722, 0.8631215309744722, 0.8631215309744722, 0.8631215309744722, 0.8632402254608136, 0.8632402254608136]}], \"f1_score_micro\": [{\"categories\": [\"0\", \"1\", \"2\", \"3\", \"4\", \"5\", \"6\", \"7\", \"8\", \"9\", \"10\", \"11\", \"12\", \"13\", \"14\", \"15\", \"16\", \"17\", \"18\", \"19\", \"20\", \"21\", \"22\", \"23\", \"24\", \"25\", \"26\", \"27\", \"28\", \"29\", \"30\", \"31\", \"32\", \"33\", \"34\", \"35\", \"36\", \"37\", \"38\", \"39\", \"40\", \"41\", \"42\", \"43\", \"46\", \"47\"], \"mode\": \"markers\", \"name\": \"f1_score_micro\", \"stepped\": false, \"type\": \"scatter\", \"data\": [0.8073593073593074, 0.7926406926406926, 0.8212121212121211, 0.825974025974026, 0.8307359307359308, 0.825974025974026, 0.8261904761904763, 0.8448051948051948, 0.8261904761904761, 0.84004329004329, 0.8636363636363636, 0.8261904761904763, 0.8495670995670996, 0.8354978354978355, 0.7974025974025974, 0.811904761904762, 0.8352813852813853, 0.825974025974026, 0.8493506493506494, 0.84004329004329, 0.8212121212121213, 0.8541125541125542, 0.8681818181818184, 0.8116883116883116, 0.8445887445887447, 0.603030303030303, 0.8350649350649352, 0.8543290043290044, 0.8116883116883118, 0.8307359307359308, 0.8264069264069264, 0.8305194805194803, 0.84004329004329, 0.8398268398268398, 0.8493506493506494, 0.5326839826839825, 0.8493506493506494, 0.8019480519480519, 0.8212121212121213, 0.8257575757575758, 0.8538961038961039, 0.8350649350649351, 0.8448051948051948, 0.8350649350649351, 0.8683982683982684, 0.585064935064935]}, {\"categories\": [\"0\", \"1\", \"2\", \"3\", \"4\", \"5\", \"6\", \"7\", \"8\", \"9\", \"10\", \"11\", \"12\", \"13\", \"14\", \"15\", \"16\", \"17\", \"18\", \"19\", \"20\", \"21\", \"22\", \"23\", \"24\", \"25\", \"26\", \"27\", \"28\", \"29\", \"30\", \"31\", \"32\", \"33\", \"34\", \"35\", \"36\", \"37\", \"38\", \"39\", \"40\", \"41\", \"42\", \"43\", \"46\", \"47\"], \"mode\": \"lines\", \"name\": \"f1_score_micro_max\", \"stepped\": true, \"type\": \"scatter\", \"data\": [0.8073593073593074, 0.8073593073593074, 0.8212121212121211, 0.825974025974026, 0.8307359307359308, 0.8307359307359308, 0.8307359307359308, 0.8448051948051948, 0.8448051948051948, 0.8448051948051948, 0.8636363636363636, 0.8636363636363636, 0.8636363636363636, 0.8636363636363636, 0.8636363636363636, 0.8636363636363636, 0.8636363636363636, 0.8636363636363636, 0.8636363636363636, 0.8636363636363636, 0.8636363636363636, 0.8636363636363636, 0.8681818181818184, 0.8681818181818184, 0.8681818181818184, 0.8681818181818184, 0.8681818181818184, 0.8681818181818184, 0.8681818181818184, 0.8681818181818184, 0.8681818181818184, 0.8681818181818184, 0.8681818181818184, 0.8681818181818184, 0.8681818181818184, 0.8681818181818184, 0.8681818181818184, 0.8681818181818184, 0.8681818181818184, 0.8681818181818184, 0.8681818181818184, 0.8681818181818184, 0.8681818181818184, 0.8681818181818184, 0.8683982683982684, 0.8683982683982684]}], \"matthews_correlation\": [{\"categories\": [\"0\", \"1\", \"2\", \"3\", \"4\", \"5\", \"6\", \"7\", \"8\", \"9\", \"10\", \"11\", \"12\", \"13\", \"14\", \"15\", \"16\", \"17\", \"18\", \"19\", \"20\", \"21\", \"22\", \"23\", \"24\", \"25\", \"26\", \"27\", \"28\", \"29\", \"30\", \"31\", \"32\", \"33\", \"34\", \"35\", \"36\", \"37\", \"38\", \"39\", \"40\", \"41\", \"42\", \"43\", \"46\", \"47\"], \"mode\": \"markers\", \"name\": \"matthews_correlation\", \"stepped\": false, \"type\": \"scatter\", \"data\": [0.6357608385686306, 0.5958752330030093, 0.6469513088627894, 0.6563113843359696, 0.6619535633310398, 0.6588980798745857, 0.6548251297232911, 0.6986550553698477, 0.6478879252031753, 0.6879847075818454, 0.7314830735397857, 0.6591612802509713, 0.70451452249921, 0.670004680244507, 0.6011008677044538, 0.6188204491140799, 0.6882792654026023, 0.6605641891585188, 0.7014118355355121, 0.68748589396416, 0.6435582158127012, 0.7110471378833816, 0.7396048827037709, 0.6306835896649339, 0.6924389809901396, 0.27883005859587545, 0.6750175102467291, 0.7187499747985661, 0.6234384714648922, 0.6647310256393559, 0.6426794595467176, 0.6725717937015216, 0.6908647939592909, 0.6899572072789776, 0.702342895785883, 0.0, 0.7025178845741615, 0.6094974680425447, 0.6444628642341554, 0.6562710687921414, 0.7220981016662709, 0.6750518797753047, 0.6957927215749835, 0.6750518797753047, 0.7390490705307697, 0.066332495807108]}, {\"categories\": [\"0\", \"1\", \"2\", \"3\", \"4\", \"5\", \"6\", \"7\", \"8\", \"9\", \"10\", \"11\", \"12\", \"13\", \"14\", \"15\", \"16\", \"17\", \"18\", \"19\", \"20\", \"21\", \"22\", \"23\", \"24\", \"25\", \"26\", \"27\", \"28\", \"29\", \"30\", \"31\", \"32\", \"33\", \"34\", \"35\", \"36\", \"37\", \"38\", \"39\", \"40\", \"41\", \"42\", \"43\", \"46\", \"47\"], \"mode\": \"lines\", \"name\": \"matthews_correlation_max\", \"stepped\": true, \"type\": \"scatter\", \"data\": [0.6357608385686306, 0.6357608385686306, 0.6469513088627894, 0.6563113843359696, 0.6619535633310398, 0.6619535633310398, 0.6619535633310398, 0.6986550553698477, 0.6986550553698477, 0.6986550553698477, 0.7314830735397857, 0.7314830735397857, 0.7314830735397857, 0.7314830735397857, 0.7314830735397857, 0.7314830735397857, 0.7314830735397857, 0.7314830735397857, 0.7314830735397857, 0.7314830735397857, 0.7314830735397857, 0.7314830735397857, 0.7396048827037709, 0.7396048827037709, 0.7396048827037709, 0.7396048827037709, 0.7396048827037709, 0.7396048827037709, 0.7396048827037709, 0.7396048827037709, 0.7396048827037709, 0.7396048827037709, 0.7396048827037709, 0.7396048827037709, 0.7396048827037709, 0.7396048827037709, 0.7396048827037709, 0.7396048827037709, 0.7396048827037709, 0.7396048827037709, 0.7396048827037709, 0.7396048827037709, 0.7396048827037709, 0.7396048827037709, 0.7396048827037709, 0.7396048827037709]}], \"weighted_accuracy\": [{\"categories\": [\"0\", \"1\", \"2\", \"3\", \"4\", \"5\", \"6\", \"7\", \"8\", \"9\", \"10\", \"11\", \"12\", \"13\", \"14\", \"15\", \"16\", \"17\", \"18\", \"19\", \"20\", \"21\", \"22\", \"23\", \"24\", \"25\", \"26\", \"27\", \"28\", \"29\", \"30\", \"31\", \"32\", \"33\", \"34\", \"35\", \"36\", \"37\", \"38\", \"39\", \"40\", \"41\", \"42\", \"43\", \"46\", \"47\"], \"mode\": \"markers\", \"name\": \"weighted_accuracy\", \"stepped\": false, \"type\": \"scatter\", \"data\": [0.795874251503342, 0.7825164575215329, 0.8184551238748107, 0.8218626086818027, 0.8288886806490512, 0.8203633628296159, 0.8226307551656079, 0.8371913975400034, 0.827345454082781, 0.8317743127313507, 0.8574857763860194, 0.81913330667858, 0.8449342429299076, 0.8335532396867483, 0.7893308430014068, 0.8153640218061081, 0.8231721697762667, 0.8188180062254355, 0.8431583041965652, 0.8323684047368418, 0.8196443876198554, 0.8496789100275158, 0.860514983824963, 0.8054074168148462, 0.8408155693792724, 0.6091792315842146, 0.8299000129951561, 0.8431006334694363, 0.8099231803201891, 0.8278291440399059, 0.8299074705397734, 0.8217211039228468, 0.8326705681588548, 0.8313903316531006, 0.8439960288632603, 0.5611432675482506, 0.8451540231496878, 0.7997866598429849, 0.8186560318241973, 0.8183860852052792, 0.840832381099764, 0.8299185016987035, 0.8379478038784727, 0.8299185016987035, 0.8608446541546334, 0.6243616583528483]}, {\"categories\": [\"0\", \"1\", \"2\", \"3\", \"4\", \"5\", \"6\", \"7\", \"8\", \"9\", \"10\", \"11\", \"12\", \"13\", \"14\", \"15\", \"16\", \"17\", \"18\", \"19\", \"20\", \"21\", \"22\", \"23\", \"24\", \"25\", \"26\", \"27\", \"28\", \"29\", \"30\", \"31\", \"32\", \"33\", \"34\", \"35\", \"36\", \"37\", \"38\", \"39\", \"40\", \"41\", \"42\", \"43\", \"46\", \"47\"], \"mode\": \"lines\", \"name\": \"weighted_accuracy_max\", \"stepped\": true, \"type\": \"scatter\", \"data\": [0.795874251503342, 0.795874251503342, 0.8184551238748107, 0.8218626086818027, 0.8288886806490512, 0.8288886806490512, 0.8288886806490512, 0.8371913975400034, 0.8371913975400034, 0.8371913975400034, 0.8574857763860194, 0.8574857763860194, 0.8574857763860194, 0.8574857763860194, 0.8574857763860194, 0.8574857763860194, 0.8574857763860194, 0.8574857763860194, 0.8574857763860194, 0.8574857763860194, 0.8574857763860194, 0.8574857763860194, 0.860514983824963, 0.860514983824963, 0.860514983824963, 0.860514983824963, 0.860514983824963, 0.860514983824963, 0.860514983824963, 0.860514983824963, 0.860514983824963, 0.860514983824963, 0.860514983824963, 0.860514983824963, 0.860514983824963, 0.860514983824963, 0.860514983824963, 0.860514983824963, 0.860514983824963, 0.860514983824963, 0.860514983824963, 0.860514983824963, 0.860514983824963, 0.860514983824963, 0.8608446541546334, 0.8608446541546334]}], \"AUC_macro\": [{\"categories\": [\"0\", \"1\", \"2\", \"3\", \"4\", \"5\", \"6\", \"7\", \"8\", \"9\", \"10\", \"11\", \"12\", \"13\", \"14\", \"15\", \"16\", \"17\", \"18\", \"19\", \"20\", \"21\", \"22\", \"23\", \"24\", \"25\", \"26\", \"27\", \"28\", \"29\", \"30\", \"31\", \"32\", \"33\", \"34\", \"35\", \"36\", \"37\", \"38\", \"39\", \"40\", \"41\", \"42\", \"43\", \"46\", \"47\"], \"mode\": \"markers\", \"name\": \"AUC_macro\", \"stepped\": false, \"type\": \"scatter\", \"data\": [0.891229094378445, 0.8966312943910347, 0.9105538707324422, 0.9150628610206534, 0.9217411016112316, 0.8980124793436481, 0.9091634363712287, 0.924085040140235, 0.9164629075830375, 0.9290724859556029, 0.9297181335980037, 0.9193395253135513, 0.9224938127048518, 0.8963932898510819, 0.9064579239903916, 0.8870316567150983, 0.9264702481260922, 0.9127301744671875, 0.927854352237469, 0.9256883136103916, 0.9176136369642863, 0.9304219265582901, 0.9351785840422204, 0.9095443325313456, 0.9207562705452317, 0.8847302571166207, 0.925179724075828, 0.9395502068878694, 0.9174122294252165, 0.9225993631188437, 0.8956786779838728, 0.9147192496056131, 0.9121435911370976, 0.9135043617998164, 0.915037160410537, 0.5, 0.92411124890021, 0.8880844738474607, 0.9087990556821726, 0.9294243737263219, 0.9361364933767533, 0.9247035179827388, 0.9274850750500102, 0.9133198619562256, 0.9440243372548567, 0.9399847392866875]}, {\"categories\": [\"0\", \"1\", \"2\", \"3\", \"4\", \"5\", \"6\", \"7\", \"8\", \"9\", \"10\", \"11\", \"12\", \"13\", \"14\", \"15\", \"16\", \"17\", \"18\", \"19\", \"20\", \"21\", \"22\", \"23\", \"24\", \"25\", \"26\", \"27\", \"28\", \"29\", \"30\", \"31\", \"32\", \"33\", \"34\", \"35\", \"36\", \"37\", \"38\", \"39\", \"40\", \"41\", \"42\", \"43\", \"46\", \"47\"], \"mode\": \"lines\", \"name\": \"AUC_macro_max\", \"stepped\": true, \"type\": \"scatter\", \"data\": [0.891229094378445, 0.8966312943910347, 0.9105538707324422, 0.9150628610206534, 0.9217411016112316, 0.9217411016112316, 0.9217411016112316, 0.924085040140235, 0.924085040140235, 0.9290724859556029, 0.9297181335980037, 0.9297181335980037, 0.9297181335980037, 0.9297181335980037, 0.9297181335980037, 0.9297181335980037, 0.9297181335980037, 0.9297181335980037, 0.9297181335980037, 0.9297181335980037, 0.9297181335980037, 0.9304219265582901, 0.9351785840422204, 0.9351785840422204, 0.9351785840422204, 0.9351785840422204, 0.9351785840422204, 0.9395502068878694, 0.9395502068878694, 0.9395502068878694, 0.9395502068878694, 0.9395502068878694, 0.9395502068878694, 0.9395502068878694, 0.9395502068878694, 0.9395502068878694, 0.9395502068878694, 0.9395502068878694, 0.9395502068878694, 0.9395502068878694, 0.9395502068878694, 0.9395502068878694, 0.9395502068878694, 0.9395502068878694, 0.9440243372548567, 0.9440243372548567]}], \"AUC_weighted\": [{\"categories\": [\"0\", \"1\", \"2\", \"3\", \"4\", \"5\", \"6\", \"7\", \"8\", \"9\", \"10\", \"11\", \"12\", \"13\", \"14\", \"15\", \"16\", \"17\", \"18\", \"19\", \"20\", \"21\", \"22\", \"23\", \"24\", \"25\", \"26\", \"27\", \"28\", \"29\", \"30\", \"31\", \"32\", \"33\", \"34\", \"35\", \"36\", \"37\", \"38\", \"39\", \"40\", \"41\", \"42\", \"43\", \"46\", \"47\"], \"mode\": \"markers\", \"name\": \"AUC_weighted\", \"stepped\": false, \"type\": \"scatter\", \"data\": [0.891229094378445, 0.8966312943910347, 0.9105538707324422, 0.9150628610206532, 0.9217411016112314, 0.8980124793436481, 0.9091634363712287, 0.924085040140235, 0.9164629075830375, 0.9290724859556028, 0.9297181335980037, 0.9193395253135513, 0.9224938127048518, 0.8963932898510819, 0.9064579239903916, 0.8870316567150983, 0.9264702481260922, 0.9127301744671875, 0.9278543522374691, 0.9256883136103916, 0.9176136369642863, 0.9304219265582901, 0.9351785840422204, 0.9095443325313456, 0.9207562705452317, 0.8847302571166207, 0.925179724075828, 0.9395502068878694, 0.9174122294252165, 0.9225993631188437, 0.8956786779838728, 0.9147192496056133, 0.9121435911370976, 0.9135043617998164, 0.915037160410537, 0.5, 0.92411124890021, 0.8880844738474607, 0.9087990556821726, 0.9294243737263219, 0.9361364933767531, 0.9247035179827388, 0.9274850750500102, 0.9133198619562256, 0.9440243372548569, 0.9399847392866875]}, {\"categories\": [\"0\", \"1\", \"2\", \"3\", \"4\", \"5\", \"6\", \"7\", \"8\", \"9\", \"10\", \"11\", \"12\", \"13\", \"14\", \"15\", \"16\", \"17\", \"18\", \"19\", \"20\", \"21\", \"22\", \"23\", \"24\", \"25\", \"26\", \"27\", \"28\", \"29\", \"30\", \"31\", \"32\", \"33\", \"34\", \"35\", \"36\", \"37\", \"38\", \"39\", \"40\", \"41\", \"42\", \"43\", \"46\", \"47\"], \"mode\": \"lines\", \"name\": \"AUC_weighted_max\", \"stepped\": true, \"type\": \"scatter\", \"data\": [0.891229094378445, 0.8966312943910347, 0.9105538707324422, 0.9150628610206532, 0.9217411016112314, 0.9217411016112314, 0.9217411016112314, 0.924085040140235, 0.924085040140235, 0.9290724859556028, 0.9297181335980037, 0.9297181335980037, 0.9297181335980037, 0.9297181335980037, 0.9297181335980037, 0.9297181335980037, 0.9297181335980037, 0.9297181335980037, 0.9297181335980037, 0.9297181335980037, 0.9297181335980037, 0.9304219265582901, 0.9351785840422204, 0.9351785840422204, 0.9351785840422204, 0.9351785840422204, 0.9351785840422204, 0.9395502068878694, 0.9395502068878694, 0.9395502068878694, 0.9395502068878694, 0.9395502068878694, 0.9395502068878694, 0.9395502068878694, 0.9395502068878694, 0.9395502068878694, 0.9395502068878694, 0.9395502068878694, 0.9395502068878694, 0.9395502068878694, 0.9395502068878694, 0.9395502068878694, 0.9395502068878694, 0.9395502068878694, 0.9440243372548569, 0.9440243372548569]}], \"accuracy\": [{\"categories\": [\"0\", \"1\", \"2\", \"3\", \"4\", \"5\", \"6\", \"7\", \"8\", \"9\", \"10\", \"11\", \"12\", \"13\", \"14\", \"15\", \"16\", \"17\", \"18\", \"19\", \"20\", \"21\", \"22\", \"23\", \"24\", \"25\", \"26\", \"27\", \"28\", \"29\", \"30\", \"31\", \"32\", \"33\", \"34\", \"35\", \"36\", \"37\", \"38\", \"39\", \"40\", \"41\", \"42\", \"43\", \"46\", \"47\"], \"mode\": \"markers\", \"name\": \"accuracy\", \"stepped\": false, \"type\": \"scatter\", \"data\": [0.8073593073593074, 0.7926406926406926, 0.8212121212121211, 0.825974025974026, 0.8307359307359308, 0.825974025974026, 0.8261904761904763, 0.8448051948051948, 0.8261904761904761, 0.84004329004329, 0.8636363636363636, 0.8261904761904763, 0.8495670995670996, 0.8354978354978355, 0.7974025974025974, 0.811904761904762, 0.8352813852813853, 0.825974025974026, 0.8493506493506494, 0.84004329004329, 0.8212121212121213, 0.8541125541125542, 0.8681818181818184, 0.8116883116883116, 0.8445887445887447, 0.603030303030303, 0.8350649350649352, 0.8543290043290044, 0.8116883116883118, 0.8307359307359308, 0.8264069264069264, 0.8305194805194803, 0.84004329004329, 0.8398268398268398, 0.8493506493506494, 0.5326839826839825, 0.8493506493506494, 0.8019480519480519, 0.8212121212121213, 0.8257575757575758, 0.8538961038961039, 0.8350649350649351, 0.8448051948051948, 0.8350649350649351, 0.8683982683982684, 0.585064935064935]}, {\"categories\": [\"0\", \"1\", \"2\", \"3\", \"4\", \"5\", \"6\", \"7\", \"8\", \"9\", \"10\", \"11\", \"12\", \"13\", \"14\", \"15\", \"16\", \"17\", \"18\", \"19\", \"20\", \"21\", \"22\", \"23\", \"24\", \"25\", \"26\", \"27\", \"28\", \"29\", \"30\", \"31\", \"32\", \"33\", \"34\", \"35\", \"36\", \"37\", \"38\", \"39\", \"40\", \"41\", \"42\", \"43\", \"46\", \"47\"], \"mode\": \"lines\", \"name\": \"accuracy_max\", \"stepped\": true, \"type\": \"scatter\", \"data\": [0.8073593073593074, 0.8073593073593074, 0.8212121212121211, 0.825974025974026, 0.8307359307359308, 0.8307359307359308, 0.8307359307359308, 0.8448051948051948, 0.8448051948051948, 0.8448051948051948, 0.8636363636363636, 0.8636363636363636, 0.8636363636363636, 0.8636363636363636, 0.8636363636363636, 0.8636363636363636, 0.8636363636363636, 0.8636363636363636, 0.8636363636363636, 0.8636363636363636, 0.8636363636363636, 0.8636363636363636, 0.8681818181818184, 0.8681818181818184, 0.8681818181818184, 0.8681818181818184, 0.8681818181818184, 0.8681818181818184, 0.8681818181818184, 0.8681818181818184, 0.8681818181818184, 0.8681818181818184, 0.8681818181818184, 0.8681818181818184, 0.8681818181818184, 0.8681818181818184, 0.8681818181818184, 0.8681818181818184, 0.8681818181818184, 0.8681818181818184, 0.8681818181818184, 0.8681818181818184, 0.8681818181818184, 0.8681818181818184, 0.8683982683982684, 0.8683982683982684]}]}, \"metricName\": null, \"primaryMetricName\": \"AUC_weighted\", \"showLegend\": false}, \"run_metrics\": [{\"name\": \"experiment_status\", \"run_id\": \"AutoML_b4607043-df0e-46a3-9dee-8754edce5acb\", \"categories\": [0, 1, 2, 3, 4, 5, 6, 7, 8, 9, 10, 11, 12, 13], \"series\": [{\"data\": [\"DatasetEvaluation\", \"FeaturesGeneration\", \"DatasetFeaturization\", \"DatasetFeaturizationCompleted\", \"DatasetCrossValidationSplit\", \"ModelSelection\", \"BestRunExplainModel\", \"ModelExplanationDataSetSetup\", \"PickSurrogateModel\", \"EngineeredFeatureExplanations\", \"EngineeredFeatureExplanations\", \"RawFeaturesExplanations\", \"RawFeaturesExplanations\", \"BestRunExplainModel\"]}]}, {\"name\": \"experiment_status_description\", \"run_id\": \"AutoML_b4607043-df0e-46a3-9dee-8754edce5acb\", \"categories\": [0, 1, 2, 3, 4, 5, 6, 7, 8, 9, 10, 11, 12, 13], \"series\": [{\"data\": [\"Gathering dataset statistics.\", \"Generating features for the dataset.\", \"Beginning to fit featurizers and featurize the dataset.\", \"Completed fit featurizers and featurizing the dataset.\", \"Generating individually featurized CV splits.\", \"Beginning model selection.\", \"Best run model explanations started\", \"Model explanations data setup completed\", \"Choosing LightGBM as the surrogate model for explanations\", \"Computation of engineered features started\", \"Computation of engineered features completed\", \"Computation of raw features started\", \"Computation of raw features completed\", \"Best run model explanations completed\"]}]}, {\"name\": \"precision_score_macro\", \"run_id\": \"AutoML_b4607043-df0e-46a3-9dee-8754edce5acb\", \"categories\": [0], \"series\": [{\"data\": [0.8614768564768565]}]}, {\"name\": \"precision_score_weighted\", \"run_id\": \"AutoML_b4607043-df0e-46a3-9dee-8754edce5acb\", \"categories\": [0], \"series\": [{\"data\": [0.8823691123691123]}]}, {\"name\": \"average_precision_score_macro\", \"run_id\": \"AutoML_b4607043-df0e-46a3-9dee-8754edce5acb\", \"categories\": [0], \"series\": [{\"data\": [0.9395986917375408]}]}, {\"name\": \"accuracy\", \"run_id\": \"AutoML_b4607043-df0e-46a3-9dee-8754edce5acb\", \"categories\": [0], \"series\": [{\"data\": [0.8683982683982684]}]}, {\"name\": \"f1_score_micro\", \"run_id\": \"AutoML_b4607043-df0e-46a3-9dee-8754edce5acb\", \"categories\": [0], \"series\": [{\"data\": [0.8683982683982684]}]}, {\"name\": \"precision_score_micro\", \"run_id\": \"AutoML_b4607043-df0e-46a3-9dee-8754edce5acb\", \"categories\": [0], \"series\": [{\"data\": [0.8683982683982684]}]}, {\"name\": \"AUC_micro\", \"run_id\": \"AutoML_b4607043-df0e-46a3-9dee-8754edce5acb\", \"categories\": [0], \"series\": [{\"data\": [0.9325059500384176]}]}, {\"name\": \"recall_score_micro\", \"run_id\": \"AutoML_b4607043-df0e-46a3-9dee-8754edce5acb\", \"categories\": [0], \"series\": [{\"data\": [0.8683982683982684]}]}, {\"name\": \"matthews_correlation\", \"run_id\": \"AutoML_b4607043-df0e-46a3-9dee-8754edce5acb\", \"categories\": [0], \"series\": [{\"data\": [0.7390490705307697]}]}, {\"name\": \"log_loss\", \"run_id\": \"AutoML_b4607043-df0e-46a3-9dee-8754edce5acb\", \"categories\": [0], \"series\": [{\"data\": [0.36621457058164897]}]}, {\"name\": \"recall_score_weighted\", \"run_id\": \"AutoML_b4607043-df0e-46a3-9dee-8754edce5acb\", \"categories\": [0], \"series\": [{\"data\": [0.8683982683982684]}]}, {\"name\": \"average_precision_score_micro\", \"run_id\": \"AutoML_b4607043-df0e-46a3-9dee-8754edce5acb\", \"categories\": [0], \"series\": [{\"data\": [0.9340751414852958]}]}, {\"name\": \"recall_score_macro\", \"run_id\": \"AutoML_b4607043-df0e-46a3-9dee-8754edce5acb\", \"categories\": [0], \"series\": [{\"data\": [0.8781199356199355]}]}, {\"name\": \"balanced_accuracy\", \"run_id\": \"AutoML_b4607043-df0e-46a3-9dee-8754edce5acb\", \"categories\": [0], \"series\": [{\"data\": [0.8781199356199355]}]}, {\"name\": \"weighted_accuracy\", \"run_id\": \"AutoML_b4607043-df0e-46a3-9dee-8754edce5acb\", \"categories\": [0], \"series\": [{\"data\": [0.8608446541546334]}]}, {\"name\": \"AUC_weighted\", \"run_id\": \"AutoML_b4607043-df0e-46a3-9dee-8754edce5acb\", \"categories\": [0], \"series\": [{\"data\": [0.9440243372548569]}]}, {\"name\": \"norm_macro_recall\", \"run_id\": \"AutoML_b4607043-df0e-46a3-9dee-8754edce5acb\", \"categories\": [0], \"series\": [{\"data\": [0.7562398712398712]}]}, {\"name\": \"AUC_macro\", \"run_id\": \"AutoML_b4607043-df0e-46a3-9dee-8754edce5acb\", \"categories\": [0], \"series\": [{\"data\": [0.9440243372548567]}]}, {\"name\": \"average_precision_score_weighted\", \"run_id\": \"AutoML_b4607043-df0e-46a3-9dee-8754edce5acb\", \"categories\": [0], \"series\": [{\"data\": [0.9474618468517739]}]}, {\"name\": \"f1_score_macro\", \"run_id\": \"AutoML_b4607043-df0e-46a3-9dee-8754edce5acb\", \"categories\": [0], \"series\": [{\"data\": [0.8632402254608136]}]}, {\"name\": \"f1_score_weighted\", \"run_id\": \"AutoML_b4607043-df0e-46a3-9dee-8754edce5acb\", \"categories\": [0], \"series\": [{\"data\": [0.8696496575320106]}]}], \"run_logs\": \"\\nRun is completed.\", \"graph\": {}, \"widget_settings\": {\"childWidgetDisplay\": \"popup\", \"send_telemetry\": false, \"log_level\": \"INFO\", \"sdk_version\": \"1.26.0\"}, \"loading\": false}"
     },
     "metadata": {},
     "output_type": "display_data"
    },
    {
     "data": {
      "text/html": [
       "<table style=\"width:100%\"><tr><th>Experiment</th><th>Id</th><th>Type</th><th>Status</th><th>Details Page</th><th>Docs Page</th></tr><tr><td>udacity-project3</td><td>AutoML_b4607043-df0e-46a3-9dee-8754edce5acb</td><td>automl</td><td>NotStarted</td><td><a href=\"https://ml.azure.com/runs/AutoML_b4607043-df0e-46a3-9dee-8754edce5acb?wsid=/subscriptions/9e65f93e-bdd8-437b-b1e8-0647cd6098f7/resourcegroups/aml-quickstarts-142390/workspaces/quick-starts-ws-142390&amp;tid=660b3398-b80e-49d2-bc5b-ac1dc93b5254\" target=\"_blank\" rel=\"noopener\">Link to Azure Machine Learning studio</a></td><td><a href=\"https://docs.microsoft.com/en-us/python/api/overview/azure/ml/intro?view=azure-ml-py\" target=\"_blank\" rel=\"noopener\">Link to Documentation</a></td></tr></table>"
      ],
      "text/plain": [
       "<IPython.core.display.HTML object>"
      ]
     },
     "metadata": {},
     "output_type": "display_data"
    },
    {
     "name": "stdout",
     "output_type": "stream",
     "text": [
      "\n",
      "Current status: FeaturesGeneration. Generating features for the dataset.\n",
      "Current status: DatasetFeaturization. Beginning to fit featurizers and featurize the dataset.\n",
      "Current status: DatasetCrossValidationSplit. Generating individually featurized CV splits.\n",
      "Current status: ModelSelection. Beginning model selection.\n",
      "\n",
      "****************************************************************************************************\n",
      "DATA GUARDRAILS: \n",
      "\n",
      "TYPE:         Cross validation\n",
      "STATUS:       DONE\n",
      "DESCRIPTION:  Each iteration of the trained model was validated through cross-validation.\n",
      "              \n",
      "DETAILS:      \n",
      "+---------------------------------+\n",
      "|Number of folds                  |\n",
      "+=================================+\n",
      "|10                               |\n",
      "+---------------------------------+\n",
      "\n",
      "****************************************************************************************************\n",
      "\n",
      "TYPE:         Class balancing detection\n",
      "STATUS:       PASSED\n",
      "DESCRIPTION:  Your inputs were analyzed, and all classes are balanced in your training data.\n",
      "              Learn more about imbalanced data: https://aka.ms/AutomatedMLImbalancedData\n",
      "\n",
      "****************************************************************************************************\n",
      "\n",
      "TYPE:         Missing feature values imputation\n",
      "STATUS:       PASSED\n",
      "DESCRIPTION:  No feature missing values were detected in the training data.\n",
      "              Learn more about missing value imputation: https://aka.ms/AutomatedMLFeaturization\n",
      "\n",
      "****************************************************************************************************\n",
      "\n",
      "TYPE:         High cardinality feature detection\n",
      "STATUS:       PASSED\n",
      "DESCRIPTION:  Your inputs were analyzed, and no high cardinality features were detected.\n",
      "              Learn more about high cardinality feature handling: https://aka.ms/AutomatedMLFeaturization\n",
      "\n",
      "****************************************************************************************************\n",
      "\n",
      "****************************************************************************************************\n",
      "ITERATION: The iteration being evaluated.\n",
      "PIPELINE: A summary description of the pipeline being evaluated.\n",
      "DURATION: Time taken for the current iteration.\n",
      "METRIC: The result of computing score on the fitted pipeline.\n",
      "BEST: The best observed score thus far.\n",
      "****************************************************************************************************\n",
      "\n",
      " ITERATION   PIPELINE                                       DURATION      METRIC      BEST\n",
      "         0   MaxAbsScaler LightGBM                          0:00:50       0.8912    0.8912\n",
      "         1   MaxAbsScaler XGBoostClassifier                 0:00:49       0.8966    0.8966\n",
      "         2   MaxAbsScaler RandomForest                      0:00:52       0.9106    0.9106\n",
      "         3   MaxAbsScaler RandomForest                      0:00:51       0.9151    0.9151\n",
      "         4   MaxAbsScaler RandomForest                      0:00:52       0.9217    0.9217\n",
      "         5   MaxAbsScaler ExtremeRandomTrees                0:00:58       0.8980    0.9217\n",
      "         6   MaxAbsScaler ExtremeRandomTrees                0:00:52       0.9092    0.9217\n",
      "         7   MaxAbsScaler ExtremeRandomTrees                0:00:51       0.9241    0.9241\n",
      "         8   MaxAbsScaler RandomForest                      0:00:48       0.9165    0.9241\n",
      "         9   MaxAbsScaler ExtremeRandomTrees                0:00:50       0.9291    0.9291\n",
      "        10   MaxAbsScaler RandomForest                      0:00:53       0.9297    0.9297\n",
      "        11   MaxAbsScaler RandomForest                      0:00:53       0.9193    0.9297\n",
      "        13   StandardScalerWrapper XGBoostClassifier        0:00:50       0.8964    0.9297\n",
      "        14   MaxAbsScaler RandomForest                      0:00:51       0.9065    0.9297\n",
      "        12   MaxAbsScaler RandomForest                      0:00:56       0.9225    0.9297\n",
      "        15   StandardScalerWrapper ExtremeRandomTrees       0:00:49       0.8870    0.9297\n",
      "        16   MaxAbsScaler ExtremeRandomTrees                0:00:47       0.9265    0.9297\n",
      "        17   MaxAbsScaler ExtremeRandomTrees                0:00:51       0.9127    0.9297\n",
      "        18   MaxAbsScaler RandomForest                      0:00:48       0.9279    0.9297\n",
      "        19   StandardScalerWrapper LogisticRegression       0:00:58       0.9257    0.9297\n",
      "        20   MaxAbsScaler LightGBM                          0:00:48       0.9176    0.9297\n",
      "        21   StandardScalerWrapper LogisticRegression       0:00:52       0.9304    0.9304\n",
      "        22   StandardScalerWrapper LogisticRegression       0:00:59       0.9352    0.9352\n",
      "        23   StandardScalerWrapper XGBoostClassifier        0:00:49       0.9095    0.9352\n",
      "        24   MaxAbsScaler LightGBM                          0:00:48       0.9208    0.9352\n",
      "        25   MaxAbsScaler RandomForest                      0:00:56       0.8847    0.9352\n",
      "        26   MaxAbsScaler ExtremeRandomTrees                0:00:50       0.9252    0.9352\n",
      "        27   MaxAbsScaler SGD                               0:00:49       0.9396    0.9396\n",
      "        28   MaxAbsScaler LightGBM                          0:00:50       0.9174    0.9396\n",
      "        29   StandardScalerWrapper LightGBM                 0:00:51       0.9226    0.9396\n",
      "        30   StandardScalerWrapper LogisticRegression       0:00:50       0.8957    0.9396\n",
      "        31   TruncatedSVDWrapper XGBoostClassifier          0:00:50       0.9147    0.9396\n",
      "        32   TruncatedSVDWrapper XGBoostClassifier          0:00:51       0.9121    0.9396\n",
      "        33   TruncatedSVDWrapper XGBoostClassifier          0:00:53       0.9135    0.9396\n",
      "        34   TruncatedSVDWrapper XGBoostClassifier          0:00:55       0.9150    0.9396\n",
      "        35   TruncatedSVDWrapper SGD                        0:00:50       0.5000    0.9396\n",
      "        36   MaxAbsScaler RandomForest                      0:00:54       0.9241    0.9396\n",
      "        37   MaxAbsScaler RandomForest                      0:00:49       0.8881    0.9396\n",
      "        38   StandardScalerWrapper RandomForest             0:00:48       0.9088    0.9396\n",
      "        39   MaxAbsScaler LogisticRegression                0:00:55       0.9294    0.9396\n",
      "        40   MaxAbsScaler SGD                               0:00:49       0.9361    0.9396\n",
      "        41   MaxAbsScaler LogisticRegression                0:00:50       0.9247    0.9396\n",
      "        42   MaxAbsScaler LogisticRegression                0:00:45       0.9275    0.9396\n",
      "        43   MaxAbsScaler LogisticRegression                0:00:48       0.9133    0.9396\n",
      "        44                                                  0:00:10          nan    0.9396\n",
      "        45                                                  0:00:06          nan    0.9396\n",
      "        46    VotingEnsemble                                0:01:29       0.9440    0.9440\n",
      "        47    StackEnsemble                                 0:01:34       0.9400    0.9440\n"
     ]
    }
   ],
   "source": [
    "RunDetails(remote_run).show()\n",
    "remote_run.wait_for_completion(show_output=True)\n",
    "assert(remote_run.get_status() == \"Completed\")"
   ]
  },
  {
   "cell_type": "code",
   "execution_count": 13,
   "metadata": {},
   "outputs": [
    {
     "data": {
      "text/plain": [
       "(Run(Experiment: udacity-project3,\n",
       " Id: AutoML_b4607043-df0e-46a3-9dee-8754edce5acb_46,\n",
       " Type: azureml.scriptrun,\n",
       " Status: Completed),\n",
       " Pipeline(memory=None,\n",
       "          steps=[('datatransformer',\n",
       "                  DataTransformer(enable_dnn=None, enable_feature_sweeping=None,\n",
       "                                  feature_sweeping_config=None,\n",
       "                                  feature_sweeping_timeout=None,\n",
       "                                  featurization_config=None, force_text_dnn=None,\n",
       "                                  is_cross_validation=None,\n",
       "                                  is_onnx_compatible=None, logger=None,\n",
       "                                  observer=None, task=None, working_dir=None)),\n",
       "                 ('prefittedsoftvotingclassifier',...\n",
       "                                                                                                     max_samples=None,\n",
       "                                                                                                     min_impurity_decrease=0.0,\n",
       "                                                                                                     min_impurity_split=None,\n",
       "                                                                                                     min_samples_leaf=0.01,\n",
       "                                                                                                     min_samples_split=0.10368421052631578,\n",
       "                                                                                                     min_weight_fraction_leaf=0.0,\n",
       "                                                                                                     n_estimators=25,\n",
       "                                                                                                     n_jobs=1,\n",
       "                                                                                                     oob_score=False,\n",
       "                                                                                                     random_state=None,\n",
       "                                                                                                     verbose=0,\n",
       "                                                                                                     warm_start=False))],\n",
       "                                                                      verbose=False))],\n",
       "                                                flatten_transform=None,\n",
       "                                                weights=[0.125, 0.125, 0.125,\n",
       "                                                         0.125, 0.25, 0.125,\n",
       "                                                         0.125]))],\n",
       "          verbose=False))"
      ]
     },
     "execution_count": 13,
     "metadata": {},
     "output_type": "execute_result"
    }
   ],
   "source": [
    "remote_run.get_output()"
   ]
  },
  {
   "cell_type": "markdown",
   "metadata": {},
   "source": [
    "## Best Model\n",
    "\n",
    "TODO: In the cell below, get the best model from the automl experiments and display all the properties of the model.\n",
    "\n"
   ]
  },
  {
   "cell_type": "code",
   "execution_count": 12,
   "metadata": {
    "collapsed": false,
    "gather": {
     "logged": 1598431425670
    },
    "jupyter": {
     "outputs_hidden": false,
     "source_hidden": false
    },
    "nteract": {
     "transient": {
      "deleting": false
     }
    }
   },
   "outputs": [],
   "source": [
    "automl_best_run = remote_run.get_best_child()"
   ]
  },
  {
   "cell_type": "code",
   "execution_count": 14,
   "metadata": {
    "collapsed": false,
    "gather": {
     "logged": 1598431426111
    },
    "jupyter": {
     "outputs_hidden": false,
     "source_hidden": false
    },
    "nteract": {
     "transient": {
      "deleting": false
     }
    }
   },
   "outputs": [],
   "source": [
    "#TODO: Save the best model\n",
    "model= automl_best_run.register_model(model_name='udacity-automl-project', model_path='./outputs/model.pkl')"
   ]
  },
  {
   "cell_type": "code",
   "execution_count": 19,
   "metadata": {},
   "outputs": [
    {
     "data": {
      "text/plain": [
       "Pipeline(memory=None,\n",
       "         steps=[('datatransformer',\n",
       "                 DataTransformer(enable_dnn=None, enable_feature_sweeping=None,\n",
       "                                 feature_sweeping_config=None,\n",
       "                                 feature_sweeping_timeout=None,\n",
       "                                 featurization_config=None, force_text_dnn=None,\n",
       "                                 is_cross_validation=None,\n",
       "                                 is_onnx_compatible=None, logger=None,\n",
       "                                 observer=None, task=None, working_dir=None)),\n",
       "                ('prefittedsoftvotingclassifier',...\n",
       "                                                                                                    max_samples=None,\n",
       "                                                                                                    min_impurity_decrease=0.0,\n",
       "                                                                                                    min_impurity_split=None,\n",
       "                                                                                                    min_samples_leaf=0.01,\n",
       "                                                                                                    min_samples_split=0.10368421052631578,\n",
       "                                                                                                    min_weight_fraction_leaf=0.0,\n",
       "                                                                                                    n_estimators=25,\n",
       "                                                                                                    n_jobs=1,\n",
       "                                                                                                    oob_score=False,\n",
       "                                                                                                    random_state=None,\n",
       "                                                                                                    verbose=0,\n",
       "                                                                                                    warm_start=False))],\n",
       "                                                                     verbose=False))],\n",
       "                                               flatten_transform=None,\n",
       "                                               weights=[0.125, 0.125, 0.125,\n",
       "                                                        0.125, 0.25, 0.125,\n",
       "                                                        0.125]))],\n",
       "         verbose=False)"
      ]
     },
     "execution_count": 19,
     "metadata": {},
     "output_type": "execute_result"
    }
   ],
   "source": [
    "temp_model = remote_run.get_output()\n",
    "temp_model[-1]"
   ]
  },
  {
   "cell_type": "code",
   "execution_count": 22,
   "metadata": {},
   "outputs": [
    {
     "ename": "AttributeError",
     "evalue": "'Model' object has no attribute 'steps'",
     "output_type": "error",
     "traceback": [
      "\u001b[0;31m---------------------------------------------------------------------------\u001b[0m",
      "\u001b[0;31mAttributeError\u001b[0m                            Traceback (most recent call last)",
      "\u001b[0;32m<ipython-input-22-712378673453>\u001b[0m in \u001b[0;36m<module>\u001b[0;34m\u001b[0m\n\u001b[1;32m      1\u001b[0m \u001b[0;32mfrom\u001b[0m \u001b[0mazureml\u001b[0m\u001b[0;34m.\u001b[0m\u001b[0mpipeline\u001b[0m\u001b[0;34m.\u001b[0m\u001b[0msteps\u001b[0m \u001b[0;32mimport\u001b[0m \u001b[0mAutoMLStep\u001b[0m\u001b[0;34m\u001b[0m\u001b[0;34m\u001b[0m\u001b[0m\n\u001b[0;32m----> 2\u001b[0;31m \u001b[0mmodel\u001b[0m\u001b[0;34m.\u001b[0m\u001b[0msteps\u001b[0m\u001b[0;34m[\u001b[0m\u001b[0;36m0\u001b[0m\u001b[0;34m]\u001b[0m\u001b[0;34m\u001b[0m\u001b[0;34m\u001b[0m\u001b[0m\n\u001b[0m",
      "\u001b[0;31mAttributeError\u001b[0m: 'Model' object has no attribute 'steps'"
     ]
    }
   ],
   "source": [
    "from azureml.pipeline.steps import AutoMLStep\n",
    "model.steps[0]"
   ]
  },
  {
   "cell_type": "markdown",
   "metadata": {},
   "source": [
    "## Model Deployment\n",
    "\n",
    "Remember you have to deploy only one of the two models you trained.. Perform the steps in the rest of this notebook only if you wish to deploy this model.\n",
    "\n",
    "TODO: In the cell below, register the model, create an inference config and deploy the model as a web service."
   ]
  },
  {
   "cell_type": "code",
   "execution_count": 25,
   "metadata": {
    "collapsed": false,
    "gather": {
     "logged": 1598431435189
    },
    "jupyter": {
     "outputs_hidden": false,
     "source_hidden": false
    },
    "nteract": {
     "transient": {
      "deleting": false
     }
    }
   },
   "outputs": [
    {
     "ename": "UserErrorException",
     "evalue": "UserErrorException:\n\tMessage: You must provide an InferenceConfig when deploying a model with model_framework set to Custom. Default environments are only provided for these frameworks: ['Onnx', 'ScikitLearn', 'TensorFlow', 'Multi'].\n\tInnerException None\n\tErrorResponse \n{\n    \"error\": {\n        \"code\": \"UserError\",\n        \"message\": \"You must provide an InferenceConfig when deploying a model with model_framework set to Custom. Default environments are only provided for these frameworks: ['Onnx', 'ScikitLearn', 'TensorFlow', 'Multi'].\"\n    }\n}",
     "output_type": "error",
     "traceback": [
      "\u001b[0;31m---------------------------------------------------------------------------\u001b[0m",
      "\u001b[0;31mUserErrorException\u001b[0m                        Traceback (most recent call last)",
      "\u001b[0;32m<ipython-input-25-d6018cd24109>\u001b[0m in \u001b[0;36m<module>\u001b[0;34m\u001b[0m\n\u001b[1;32m      2\u001b[0m \u001b[0mservice_name\u001b[0m \u001b[0;34m=\u001b[0m \u001b[0;34m'heart-sklearn-service'\u001b[0m\u001b[0;34m\u001b[0m\u001b[0;34m\u001b[0m\u001b[0m\n\u001b[1;32m      3\u001b[0m \u001b[0;34m\u001b[0m\u001b[0m\n\u001b[0;32m----> 4\u001b[0;31m \u001b[0mservice\u001b[0m \u001b[0;34m=\u001b[0m \u001b[0mModel\u001b[0m\u001b[0;34m.\u001b[0m\u001b[0mdeploy\u001b[0m\u001b[0;34m(\u001b[0m\u001b[0mws\u001b[0m\u001b[0;34m,\u001b[0m \u001b[0mservice_name\u001b[0m\u001b[0;34m,\u001b[0m \u001b[0;34m[\u001b[0m\u001b[0mmodel\u001b[0m\u001b[0;34m]\u001b[0m\u001b[0;34m,\u001b[0m \u001b[0moverwrite\u001b[0m\u001b[0;34m=\u001b[0m\u001b[0;32mTrue\u001b[0m\u001b[0;34m)\u001b[0m\u001b[0;34m\u001b[0m\u001b[0;34m\u001b[0m\u001b[0m\n\u001b[0m\u001b[1;32m      5\u001b[0m \u001b[0mservice\u001b[0m\u001b[0;34m.\u001b[0m\u001b[0mwait_for_deployment\u001b[0m\u001b[0;34m(\u001b[0m\u001b[0mshow_output\u001b[0m\u001b[0;34m=\u001b[0m\u001b[0;32mTrue\u001b[0m\u001b[0;34m)\u001b[0m\u001b[0;34m\u001b[0m\u001b[0;34m\u001b[0m\u001b[0m\n",
      "\u001b[0;32m/anaconda/envs/azureml_py36/lib/python3.6/site-packages/azureml/core/model.py\u001b[0m in \u001b[0;36mdeploy\u001b[0;34m(workspace, name, models, inference_config, deployment_config, deployment_target, overwrite, show_output)\u001b[0m\n\u001b[1;32m   1656\u001b[0m \u001b[0;34m\u001b[0m\u001b[0m\n\u001b[1;32m   1657\u001b[0m             return Model._deploy_no_code(workspace, name, models, deployment_config, deployment_target,\n\u001b[0;32m-> 1658\u001b[0;31m                                          overwrite, show_output)\n\u001b[0m\u001b[1;32m   1659\u001b[0m \u001b[0;34m\u001b[0m\u001b[0m\n\u001b[1;32m   1660\u001b[0m         \u001b[0;31m# Environment-based webservice.\u001b[0m\u001b[0;34m\u001b[0m\u001b[0;34m\u001b[0m\u001b[0;34m\u001b[0m\u001b[0m\n",
      "\u001b[0;32m/anaconda/envs/azureml_py36/lib/python3.6/site-packages/azureml/core/model.py\u001b[0m in \u001b[0;36m_deploy_no_code\u001b[0;34m(workspace, name, models, deployment_config, deployment_target, overwrite, show_output)\u001b[0m\n\u001b[1;32m   1839\u001b[0m         \u001b[0;34m:\u001b[0m\u001b[0mrtype\u001b[0m\u001b[0;34m:\u001b[0m \u001b[0mazureml\u001b[0m\u001b[0;34m.\u001b[0m\u001b[0mcore\u001b[0m\u001b[0;34m.\u001b[0m\u001b[0mWebservice\u001b[0m\u001b[0;34m\u001b[0m\u001b[0;34m\u001b[0m\u001b[0m\n\u001b[1;32m   1840\u001b[0m         \"\"\"\n\u001b[0;32m-> 1841\u001b[0;31m         \u001b[0menvironment_image_request\u001b[0m \u001b[0;34m=\u001b[0m \u001b[0mbuild_and_validate_no_code_environment_image_request\u001b[0m\u001b[0;34m(\u001b[0m\u001b[0mmodels\u001b[0m\u001b[0;34m)\u001b[0m\u001b[0;34m\u001b[0m\u001b[0;34m\u001b[0m\u001b[0m\n\u001b[0m\u001b[1;32m   1842\u001b[0m \u001b[0;34m\u001b[0m\u001b[0m\n\u001b[1;32m   1843\u001b[0m         return Model._deploy_with_environment_image_request(workspace, name, environment_image_request,\n",
      "\u001b[0;32m/anaconda/envs/azureml_py36/lib/python3.6/site-packages/azureml/_model_management/_util.py\u001b[0m in \u001b[0;36mbuild_and_validate_no_code_environment_image_request\u001b[0;34m(models)\u001b[0m\n\u001b[1;32m   1186\u001b[0m         raise UserErrorException('You must provide an InferenceConfig when deploying a model with model_framework '\n\u001b[1;32m   1187\u001b[0m                                  \u001b[0;34m'set to {}. Default environments are only provided for these frameworks: {}.'\u001b[0m\u001b[0;34m\u001b[0m\u001b[0;34m\u001b[0m\u001b[0m\n\u001b[0;32m-> 1188\u001b[0;31m                                  .format(model.model_framework, Model._SUPPORTED_FRAMEWORKS_FOR_NO_CODE_DEPLOY))\n\u001b[0m\u001b[1;32m   1189\u001b[0m \u001b[0;34m\u001b[0m\u001b[0m\n\u001b[1;32m   1190\u001b[0m     \u001b[0;31m# Only specify the model IDs; MMS will provide the environment, driver program, etc.\u001b[0m\u001b[0;34m\u001b[0m\u001b[0;34m\u001b[0m\u001b[0;34m\u001b[0m\u001b[0m\n",
      "\u001b[0;31mUserErrorException\u001b[0m: UserErrorException:\n\tMessage: You must provide an InferenceConfig when deploying a model with model_framework set to Custom. Default environments are only provided for these frameworks: ['Onnx', 'ScikitLearn', 'TensorFlow', 'Multi'].\n\tInnerException None\n\tErrorResponse \n{\n    \"error\": {\n        \"code\": \"UserError\",\n        \"message\": \"You must provide an InferenceConfig when deploying a model with model_framework set to Custom. Default environments are only provided for these frameworks: ['Onnx', 'ScikitLearn', 'TensorFlow', 'Multi'].\"\n    }\n}"
     ]
    }
   ],
   "source": [
    "from azureml.core import Model\n",
    "service_name = 'heart-sklearn-service'\n",
    "\n",
    "service = Model.deploy(ws, service_name, [model], overwrite=True)\n",
    "service.wait_for_deployment(show_output=True)"
   ]
  },
  {
   "cell_type": "markdown",
   "metadata": {
    "gather": {
     "logged": 1598431657736
    },
    "jupyter": {
     "outputs_hidden": false,
     "source_hidden": false
    },
    "nteract": {
     "transient": {
      "deleting": false
     }
    }
   },
   "source": [
    "TODO: In the cell below, send a request to the web service you deployed to test it."
   ]
  },
  {
   "cell_type": "code",
   "execution_count": 22,
   "metadata": {
    "collapsed": false,
    "gather": {
     "logged": 1598432707604
    },
    "jupyter": {
     "outputs_hidden": false,
     "source_hidden": false
    },
    "nteract": {
     "transient": {
      "deleting": false
     }
    }
   },
   "outputs": [
    {
     "ename": "NameError",
     "evalue": "name 'rest_endpoint' is not defined",
     "output_type": "error",
     "traceback": [
      "\u001b[0;31m---------------------------------------------------------------------------\u001b[0m",
      "\u001b[0;31mNameError\u001b[0m                                 Traceback (most recent call last)",
      "\u001b[0;32m<ipython-input-22-581c895a149c>\u001b[0m in \u001b[0;36m<module>\u001b[0;34m\u001b[0m\n\u001b[1;32m      6\u001b[0m \u001b[0;32mtry\u001b[0m\u001b[0;34m:\u001b[0m\u001b[0;34m\u001b[0m\u001b[0;34m\u001b[0m\u001b[0m\n\u001b[0;32m----> 7\u001b[0;31m     \u001b[0mresponse\u001b[0m\u001b[0;34m.\u001b[0m\u001b[0mraise_for_status\u001b[0m\u001b[0;34m(\u001b[0m\u001b[0;34m)\u001b[0m\u001b[0;34m\u001b[0m\u001b[0;34m\u001b[0m\u001b[0m\n\u001b[0m\u001b[1;32m      8\u001b[0m \u001b[0;32mexcept\u001b[0m \u001b[0mException\u001b[0m\u001b[0;34m:\u001b[0m\u001b[0;34m\u001b[0m\u001b[0;34m\u001b[0m\u001b[0m\n",
      "\u001b[0;31mNameError\u001b[0m: name 'response' is not defined",
      "\nDuring handling of the above exception, another exception occurred:\n",
      "\u001b[0;31mNameError\u001b[0m                                 Traceback (most recent call last)",
      "\u001b[0;32m<ipython-input-22-581c895a149c>\u001b[0m in \u001b[0;36m<module>\u001b[0;34m\u001b[0m\n\u001b[1;32m     10\u001b[0m                     \u001b[0;34m\"Response Code: {}\\n\"\u001b[0m\u001b[0;34m\u001b[0m\u001b[0;34m\u001b[0m\u001b[0m\n\u001b[1;32m     11\u001b[0m                     \u001b[0;34m\"Headers: {}\\n\"\u001b[0m\u001b[0;34m\u001b[0m\u001b[0;34m\u001b[0m\u001b[0m\n\u001b[0;32m---> 12\u001b[0;31m                     \"Content: {}\".format(rest_endpoint, response.status_code, response.headers, response.content))\n\u001b[0m\u001b[1;32m     13\u001b[0m \u001b[0;34m\u001b[0m\u001b[0m\n\u001b[1;32m     14\u001b[0m \u001b[0mrun_id\u001b[0m \u001b[0;34m=\u001b[0m \u001b[0mresponse\u001b[0m\u001b[0;34m.\u001b[0m\u001b[0mjson\u001b[0m\u001b[0;34m(\u001b[0m\u001b[0;34m)\u001b[0m\u001b[0;34m.\u001b[0m\u001b[0mget\u001b[0m\u001b[0;34m(\u001b[0m\u001b[0;34m'Id'\u001b[0m\u001b[0;34m)\u001b[0m\u001b[0;34m\u001b[0m\u001b[0;34m\u001b[0m\u001b[0m\n",
      "\u001b[0;31mNameError\u001b[0m: name 'rest_endpoint' is not defined"
     ]
    }
   ],
   "source": [
    "import json\n",
    "\n",
    "\n",
    "input_payload = json.dumps({\n",
    "    'data': X_test,\n",
    "    'method': 'predict_prova'  # If you have a classification model, you can get probabilities by changing this to 'predict_proba'.\n",
    "})\n",
    "\n",
    "output = service.run(input_payload)\n"
   ]
  },
  {
   "cell_type": "markdown",
   "metadata": {
    "gather": {
     "logged": 1598432765711
    },
    "jupyter": {
     "outputs_hidden": false,
     "source_hidden": false
    },
    "nteract": {
     "transient": {
      "deleting": false
     }
    }
   },
   "source": [
    "TODO: In the cell below, print the logs of the web service and delete the service"
   ]
  },
  {
   "cell_type": "code",
   "execution_count": null,
   "metadata": {
    "collapsed": false,
    "jupyter": {
     "outputs_hidden": false,
     "source_hidden": false
    },
    "nteract": {
     "transient": {
      "deleting": false
     }
    }
   },
   "outputs": [],
   "source": [
    "print(output)"
   ]
  },
  {
   "cell_type": "code",
   "execution_count": null,
   "metadata": {},
   "outputs": [],
   "source": [
    "service.delete()"
   ]
  }
 ],
 "metadata": {
  "kernel_info": {
   "name": "python3"
  },
  "kernelspec": {
   "display_name": "Python 3",
   "language": "python",
   "name": "python3"
  },
  "language_info": {
   "codemirror_mode": {
    "name": "ipython",
    "version": 3
   },
   "file_extension": ".py",
   "mimetype": "text/x-python",
   "name": "python",
   "nbconvert_exporter": "python",
   "pygments_lexer": "ipython3",
   "version": "3.6.9"
  },
  "nteract": {
   "version": "nteract-front-end@1.0.0"
  }
 },
 "nbformat": 4,
 "nbformat_minor": 4
}
