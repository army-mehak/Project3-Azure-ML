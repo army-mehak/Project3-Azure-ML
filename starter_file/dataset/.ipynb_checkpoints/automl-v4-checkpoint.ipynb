{
 "cells": [
  {
   "cell_type": "markdown",
   "metadata": {},
   "source": [
    "# Automated ML\n",
    "\n",
    "TODO: Import Dependencies. In the cell below, import all the dependencies that you will need to complete the project."
   ]
  },
  {
   "cell_type": "markdown",
   "metadata": {},
   "source": [
    "#### --Import Statements--"
   ]
  },
  {
   "cell_type": "code",
   "execution_count": 12,
   "metadata": {},
   "outputs": [],
   "source": [
    "from azureml.core import Workspace, Experiment\n",
    "from azureml.core.compute import ComputeTarget, AmlCompute\n",
    "from azureml.core.compute_target import ComputeTargetException\n",
    "\n",
    "import pandas as pd\n",
    "import numpy as np\n",
    "\n",
    "from sklearn.preprocessing import StandardScaler\n",
    "from sklearn.model_selection import train_test_split\n",
    "\n",
    "from azureml.train.automl import AutoMLConfig\n",
    "from azureml.pipeline.steps import AutoMLStep\n",
    "\n",
    "from azureml.data.dataset_factory import TabularDatasetFactory\n",
    "from azureml.core import Workspace, Datastore\n",
    "from azureml.core.dataset import Dataset\n",
    "\n",
    "from azureml.pipeline.core.run import PipelineRun\n",
    "from azureml.widgets import RunDetails"
   ]
  },
  {
   "cell_type": "markdown",
   "metadata": {},
   "source": [
    "#### --Worspace Initialization--"
   ]
  },
  {
   "cell_type": "code",
   "execution_count": 2,
   "metadata": {
    "gather": {
     "logged": 1598423888013
    },
    "jupyter": {
     "outputs_hidden": false,
     "source_hidden": false
    },
    "nteract": {
     "transient": {
      "deleting": false
     }
    }
   },
   "outputs": [],
   "source": [
    "#---------------------------------------------------------------------------------------------------\n",
    "#1. Initialize Workspace\n",
    "# from azureml.core import Workspace, Experiment\n",
    "\n",
    "# ws = Workspace.get(name=\"quick-starts-ws-135395\")\n",
    "# exp = Experiment(workspace=ws, name=\"udacity-project3\")\n",
    "\n",
    "# print('Workspace name: ' + ws.name, \n",
    "#       'Azure region: ' + ws.location, \n",
    "#       'Subscription id: ' + ws.subscription_id, \n",
    "#       'Resource group: ' + ws.resource_group, sep = '\\n')\n",
    "\n",
    "# run = exp.start_logging()"
   ]
  },
  {
   "cell_type": "markdown",
   "metadata": {},
   "source": [
    "## Dataset\n",
    "\n",
    "### Overview\n",
    "TODO: In this markdown cell, give an overview of the dataset you are using. Also mention the task you will be performing.\n",
    "\n",
    "\n",
    "TODO: Get data. In the cell below, write code to access the data you will be using in this project. Remember that the dataset needs to be external."
   ]
  },
  {
   "cell_type": "code",
   "execution_count": 3,
   "metadata": {
    "gather": {
     "logged": 1598423890461
    },
    "jupyter": {
     "outputs_hidden": false,
     "source_hidden": false
    },
    "nteract": {
     "transient": {
      "deleting": false
     }
    }
   },
   "outputs": [],
   "source": [
    "ws = Workspace.from_config()\n",
    "\n",
    "# choose a name for experiment\n",
    "experiment_name = 'udacity-project3'\n",
    "\n",
    "experiment=Experiment(ws, experiment_name)"
   ]
  },
  {
   "cell_type": "markdown",
   "metadata": {},
   "source": [
    "#### --Compute Target Object--"
   ]
  },
  {
   "cell_type": "code",
   "execution_count": 4,
   "metadata": {},
   "outputs": [
    {
     "name": "stdout",
     "output_type": "stream",
     "text": [
      "Found existing cluster, use it.\n",
      "\n",
      "Running\n"
     ]
    }
   ],
   "source": [
    "cpu_cluster_name = \"cpu-cluster2\"\n",
    "\n",
    "try: #--- Verify that cluster does not exist already\n",
    "    cpu_cluster = ComputeTarget(workspace=ws, name=cpu_cluster_name)\n",
    "    print('Found existing cluster, use it.')\n",
    "    \n",
    "except ComputeTargetException:\n",
    "    compute_config = AmlCompute.provisioning_configuration(vm_size='STANDARD_D2_V2', max_nodes=4)\n",
    "    cpu_cluster = ComputeTarget.create(ws, cpu_cluster_name, compute_config)\n",
    "\n",
    "cpu_cluster.wait_for_completion(show_output=True)"
   ]
  },
  {
   "cell_type": "markdown",
   "metadata": {},
   "source": [
    "#### --Dataset Object--"
   ]
  },
  {
   "cell_type": "code",
   "execution_count": 5,
   "metadata": {},
   "outputs": [
    {
     "data": {
      "text/html": [
       "<div>\n",
       "<style scoped>\n",
       "    .dataframe tbody tr th:only-of-type {\n",
       "        vertical-align: middle;\n",
       "    }\n",
       "\n",
       "    .dataframe tbody tr th {\n",
       "        vertical-align: top;\n",
       "    }\n",
       "\n",
       "    .dataframe thead th {\n",
       "        text-align: right;\n",
       "    }\n",
       "</style>\n",
       "<table border=\"1\" class=\"dataframe\">\n",
       "  <thead>\n",
       "    <tr style=\"text-align: right;\">\n",
       "      <th></th>\n",
       "      <th>age</th>\n",
       "      <th>sex</th>\n",
       "      <th>cp</th>\n",
       "      <th>trestbps</th>\n",
       "      <th>chol</th>\n",
       "      <th>fbs</th>\n",
       "      <th>restecg</th>\n",
       "      <th>thalach</th>\n",
       "      <th>exang</th>\n",
       "      <th>oldpeak</th>\n",
       "      <th>slope</th>\n",
       "      <th>ca</th>\n",
       "      <th>thal</th>\n",
       "      <th>target</th>\n",
       "    </tr>\n",
       "  </thead>\n",
       "  <tbody>\n",
       "    <tr>\n",
       "      <th>count</th>\n",
       "      <td>303.000000</td>\n",
       "      <td>303.000000</td>\n",
       "      <td>303.000000</td>\n",
       "      <td>303.000000</td>\n",
       "      <td>303.000000</td>\n",
       "      <td>303.000000</td>\n",
       "      <td>303.000000</td>\n",
       "      <td>303.000000</td>\n",
       "      <td>303.000000</td>\n",
       "      <td>303.000000</td>\n",
       "      <td>303.000000</td>\n",
       "      <td>303.000000</td>\n",
       "      <td>303.000000</td>\n",
       "      <td>303.000000</td>\n",
       "    </tr>\n",
       "    <tr>\n",
       "      <th>mean</th>\n",
       "      <td>54.366337</td>\n",
       "      <td>0.683168</td>\n",
       "      <td>0.966997</td>\n",
       "      <td>131.623762</td>\n",
       "      <td>246.264026</td>\n",
       "      <td>0.148515</td>\n",
       "      <td>0.528053</td>\n",
       "      <td>149.646865</td>\n",
       "      <td>0.326733</td>\n",
       "      <td>1.039604</td>\n",
       "      <td>1.399340</td>\n",
       "      <td>0.729373</td>\n",
       "      <td>2.313531</td>\n",
       "      <td>0.544554</td>\n",
       "    </tr>\n",
       "    <tr>\n",
       "      <th>std</th>\n",
       "      <td>9.082101</td>\n",
       "      <td>0.466011</td>\n",
       "      <td>1.032052</td>\n",
       "      <td>17.538143</td>\n",
       "      <td>51.830751</td>\n",
       "      <td>0.356198</td>\n",
       "      <td>0.525860</td>\n",
       "      <td>22.905161</td>\n",
       "      <td>0.469794</td>\n",
       "      <td>1.161075</td>\n",
       "      <td>0.616226</td>\n",
       "      <td>1.022606</td>\n",
       "      <td>0.612277</td>\n",
       "      <td>0.498835</td>\n",
       "    </tr>\n",
       "    <tr>\n",
       "      <th>min</th>\n",
       "      <td>29.000000</td>\n",
       "      <td>0.000000</td>\n",
       "      <td>0.000000</td>\n",
       "      <td>94.000000</td>\n",
       "      <td>126.000000</td>\n",
       "      <td>0.000000</td>\n",
       "      <td>0.000000</td>\n",
       "      <td>71.000000</td>\n",
       "      <td>0.000000</td>\n",
       "      <td>0.000000</td>\n",
       "      <td>0.000000</td>\n",
       "      <td>0.000000</td>\n",
       "      <td>0.000000</td>\n",
       "      <td>0.000000</td>\n",
       "    </tr>\n",
       "    <tr>\n",
       "      <th>25%</th>\n",
       "      <td>47.500000</td>\n",
       "      <td>0.000000</td>\n",
       "      <td>0.000000</td>\n",
       "      <td>120.000000</td>\n",
       "      <td>211.000000</td>\n",
       "      <td>0.000000</td>\n",
       "      <td>0.000000</td>\n",
       "      <td>133.500000</td>\n",
       "      <td>0.000000</td>\n",
       "      <td>0.000000</td>\n",
       "      <td>1.000000</td>\n",
       "      <td>0.000000</td>\n",
       "      <td>2.000000</td>\n",
       "      <td>0.000000</td>\n",
       "    </tr>\n",
       "    <tr>\n",
       "      <th>50%</th>\n",
       "      <td>55.000000</td>\n",
       "      <td>1.000000</td>\n",
       "      <td>1.000000</td>\n",
       "      <td>130.000000</td>\n",
       "      <td>240.000000</td>\n",
       "      <td>0.000000</td>\n",
       "      <td>1.000000</td>\n",
       "      <td>153.000000</td>\n",
       "      <td>0.000000</td>\n",
       "      <td>0.800000</td>\n",
       "      <td>1.000000</td>\n",
       "      <td>0.000000</td>\n",
       "      <td>2.000000</td>\n",
       "      <td>1.000000</td>\n",
       "    </tr>\n",
       "    <tr>\n",
       "      <th>75%</th>\n",
       "      <td>61.000000</td>\n",
       "      <td>1.000000</td>\n",
       "      <td>2.000000</td>\n",
       "      <td>140.000000</td>\n",
       "      <td>274.500000</td>\n",
       "      <td>0.000000</td>\n",
       "      <td>1.000000</td>\n",
       "      <td>166.000000</td>\n",
       "      <td>1.000000</td>\n",
       "      <td>1.600000</td>\n",
       "      <td>2.000000</td>\n",
       "      <td>1.000000</td>\n",
       "      <td>3.000000</td>\n",
       "      <td>1.000000</td>\n",
       "    </tr>\n",
       "    <tr>\n",
       "      <th>max</th>\n",
       "      <td>77.000000</td>\n",
       "      <td>1.000000</td>\n",
       "      <td>3.000000</td>\n",
       "      <td>200.000000</td>\n",
       "      <td>564.000000</td>\n",
       "      <td>1.000000</td>\n",
       "      <td>2.000000</td>\n",
       "      <td>202.000000</td>\n",
       "      <td>1.000000</td>\n",
       "      <td>6.200000</td>\n",
       "      <td>2.000000</td>\n",
       "      <td>4.000000</td>\n",
       "      <td>3.000000</td>\n",
       "      <td>1.000000</td>\n",
       "    </tr>\n",
       "  </tbody>\n",
       "</table>\n",
       "</div>"
      ],
      "text/plain": [
       "              age         sex          cp    trestbps        chol         fbs  \\\n",
       "count  303.000000  303.000000  303.000000  303.000000  303.000000  303.000000   \n",
       "mean    54.366337    0.683168    0.966997  131.623762  246.264026    0.148515   \n",
       "std      9.082101    0.466011    1.032052   17.538143   51.830751    0.356198   \n",
       "min     29.000000    0.000000    0.000000   94.000000  126.000000    0.000000   \n",
       "25%     47.500000    0.000000    0.000000  120.000000  211.000000    0.000000   \n",
       "50%     55.000000    1.000000    1.000000  130.000000  240.000000    0.000000   \n",
       "75%     61.000000    1.000000    2.000000  140.000000  274.500000    0.000000   \n",
       "max     77.000000    1.000000    3.000000  200.000000  564.000000    1.000000   \n",
       "\n",
       "          restecg     thalach       exang     oldpeak       slope          ca  \\\n",
       "count  303.000000  303.000000  303.000000  303.000000  303.000000  303.000000   \n",
       "mean     0.528053  149.646865    0.326733    1.039604    1.399340    0.729373   \n",
       "std      0.525860   22.905161    0.469794    1.161075    0.616226    1.022606   \n",
       "min      0.000000   71.000000    0.000000    0.000000    0.000000    0.000000   \n",
       "25%      0.000000  133.500000    0.000000    0.000000    1.000000    0.000000   \n",
       "50%      1.000000  153.000000    0.000000    0.800000    1.000000    0.000000   \n",
       "75%      1.000000  166.000000    1.000000    1.600000    2.000000    1.000000   \n",
       "max      2.000000  202.000000    1.000000    6.200000    2.000000    4.000000   \n",
       "\n",
       "             thal      target  \n",
       "count  303.000000  303.000000  \n",
       "mean     2.313531    0.544554  \n",
       "std      0.612277    0.498835  \n",
       "min      0.000000    0.000000  \n",
       "25%      2.000000    0.000000  \n",
       "50%      2.000000    1.000000  \n",
       "75%      3.000000    1.000000  \n",
       "max      3.000000    1.000000  "
      ]
     },
     "execution_count": 5,
     "metadata": {},
     "output_type": "execute_result"
    }
   ],
   "source": [
    "key = \"heart-dataset\"\n",
    "description_text = \"Heart Disease dataset\"\n",
    "\n",
    "#-- Dataset Call\n",
    "if key in ws.datasets.keys(): \n",
    "        found = True\n",
    "        dataset = ws.datasets[key] \n",
    "df = dataset.to_pandas_dataframe()\n",
    "df.describe()"
   ]
  },
  {
   "cell_type": "code",
   "execution_count": 6,
   "metadata": {},
   "outputs": [],
   "source": [
    "## --Preprocessing Data--"
   ]
  },
  {
   "cell_type": "code",
   "execution_count": 7,
   "metadata": {},
   "outputs": [],
   "source": [
    "#-- Preprocessing Data\n",
    "## Input is X, Output is Y\n",
    "## Performing Standardization on Bloodpressure, Cholestrol, Thalac\n",
    "## Binning Age grp into 7 groups\n",
    "##Drop null rows\n",
    "\n",
    "### standardization\n",
    "x_df = dataset.to_pandas_dataframe().dropna() #drop any rows with null values\n",
    "y_df = x_df.pop(\"target\")\n",
    "x_df[['trestbps', 'chol', 'thalach']] = StandardScaler().fit_transform(x_df[['trestbps', 'chol', 'thalach']])\n",
    "#print(x_df)\n",
    "#print(y_df)\n",
    "\n",
    "### binning\n",
    "min_value = df['age'].min()\n",
    "max_value = df['age'].max()\n",
    "bins = np.linspace(min_value,max_value,7)\n",
    "#print(bins)\n",
    "labels = ['29-37', '38-45', '46-53', '54-61', '62-69', '70-77']\n",
    "x_df['age_bins'] = pd.cut(x_df['age'], bins=bins, labels=labels, include_lowest=True)\n",
    "drop_age = x_df.pop(\"age\") #drop age column\n",
    "\n",
    "### rearrange columns\n",
    "x_df = x_df[['age_bins', 'sex', 'cp', 'trestbps', 'chol', 'fbs', 'restecg', 'thalach', 'exang', 'oldpeak', 'slope', 'ca', 'thal']]\n",
    "#pd.set_option('display.max_rows', x_df.shape[0]+1)\n",
    "#print(x_df)"
   ]
  },
  {
   "cell_type": "code",
   "execution_count": 8,
   "metadata": {},
   "outputs": [
    {
     "name": "stderr",
     "output_type": "stream",
     "text": [
      "Method register_pandas_dataframe: This is an experimental method, and may change at any time.<br/>For more information, see https://aka.ms/azuremlexperimental.\n"
     ]
    },
    {
     "name": "stdout",
     "output_type": "stream",
     "text": [
      "Validating arguments.\n",
      "Arguments validated.\n",
      "Successfully obtained datastore reference and path.\n",
      "Uploading file to managed-dataset/24d7b6f7-9fb8-4464-ba5d-b9779d0de0a4/\n",
      "Successfully uploaded file to datastore.\n",
      "Creating and registering a new dataset.\n",
      "Successfully created and registered a new dataset.\n"
     ]
    }
   ],
   "source": [
    "### Train Test Split\n",
    "X_train, X_test, Y_train, Y_test = train_test_split(x_df, y_df, test_size=0.30)\n",
    "df_train = pd.concat([X_train,Y_train], axis=1)\n",
    "#print(df_train)\n",
    "ds_train = Dataset.Tabular.register_pandas_dataframe(dataframe= df_train, target= Datastore.get_default(ws), name=\"train_data\")\n",
    "#dataset_1 = pd.to_Tabular(df_train) #Dataset.Tabular.from_pandas_dataframe(df_train)"
   ]
  },
  {
   "cell_type": "markdown",
   "metadata": {},
   "source": [
    "## AutoML Configuration\n",
    "\n",
    "TODO: Explain why you chose the automl settings and cofiguration you used below."
   ]
  },
  {
   "cell_type": "code",
   "execution_count": 9,
   "metadata": {
    "gather": {
     "logged": 1598429217746
    },
    "jupyter": {
     "outputs_hidden": false,
     "source_hidden": false
    },
    "nteract": {
     "transient": {
      "deleting": false
     }
    }
   },
   "outputs": [],
   "source": [
    "# TODO: Put your automl settings here\n",
    "automl_settings = {\n",
    "    \"experiment_timeout_minutes\": 20,\n",
    "    \"max_concurrent_iterations\": 5,\n",
    "    \"primary_metric\": 'AUC_weighted'\n",
    "}\n",
    "\n",
    "# TODO: Put your automl config here\n",
    "automl_config = AutoMLConfig(compute_target=cpu_cluster,\n",
    "                             task = 'classification',\n",
    "                             training_data = ds_train,\n",
    "                             label_column_name = \"target\",\n",
    "                             path = './pipeline-project3',\n",
    "                             enable_early_stopping = True,\n",
    "                             featurization = 'auto',\n",
    "                             debug_log = 'automl_errors.log',\n",
    "                             **automl_settings\n",
    "                            )"
   ]
  },
  {
   "cell_type": "code",
   "execution_count": 10,
   "metadata": {
    "gather": {
     "logged": 1598431107951
    },
    "jupyter": {
     "outputs_hidden": false,
     "source_hidden": false
    },
    "nteract": {
     "transient": {
      "deleting": false
     }
    }
   },
   "outputs": [
    {
     "name": "stdout",
     "output_type": "stream",
     "text": [
      "Submitting remote run.\n"
     ]
    },
    {
     "data": {
      "text/html": [
       "<table style=\"width:100%\"><tr><th>Experiment</th><th>Id</th><th>Type</th><th>Status</th><th>Details Page</th><th>Docs Page</th></tr><tr><td>udacity-project3</td><td>AutoML_a8fe52b8-dfff-4eec-952a-0ccab169da31</td><td>automl</td><td>NotStarted</td><td><a href=\"https://ml.azure.com/runs/AutoML_a8fe52b8-dfff-4eec-952a-0ccab169da31?wsid=/subscriptions/3e42d11f-d64d-4173-af9b-12ecaa1030b3/resourcegroups/aml-quickstarts-142342/workspaces/quick-starts-ws-142342&amp;tid=660b3398-b80e-49d2-bc5b-ac1dc93b5254\" target=\"_blank\" rel=\"noopener\">Link to Azure Machine Learning studio</a></td><td><a href=\"https://docs.microsoft.com/en-us/python/api/overview/azure/ml/intro?view=azure-ml-py\" target=\"_blank\" rel=\"noopener\">Link to Documentation</a></td></tr></table>"
      ],
      "text/plain": [
       "<IPython.core.display.HTML object>"
      ]
     },
     "metadata": {},
     "output_type": "display_data"
    }
   ],
   "source": [
    "# TODO: Submit your experiment\n",
    "remote_run = experiment.submit(automl_config)"
   ]
  },
  {
   "cell_type": "markdown",
   "metadata": {},
   "source": [
    "## Run Details\n",
    "\n",
    "OPTIONAL: Write about the different models trained and their performance. Why do you think some models did better than others?\n",
    "\n",
    "TODO: In the cell below, use the `RunDetails` widget to show the different experiments."
   ]
  },
  {
   "cell_type": "code",
   "execution_count": 13,
   "metadata": {
    "gather": {
     "logged": 1598431121770
    },
    "jupyter": {
     "outputs_hidden": false,
     "source_hidden": false
    },
    "nteract": {
     "transient": {
      "deleting": false
     }
    }
   },
   "outputs": [
    {
     "data": {
      "application/vnd.jupyter.widget-view+json": {
       "model_id": "ea0bf68cb76b485f9c863648952924b1",
       "version_major": 2,
       "version_minor": 0
      },
      "text/plain": [
       "_AutoMLWidget(widget_settings={'childWidgetDisplay': 'popup', 'send_telemetry': False, 'log_level': 'INFO', 's…"
      ]
     },
     "metadata": {},
     "output_type": "display_data"
    },
    {
     "data": {
      "application/aml.mini.widget.v1": "{\"status\": \"Completed\", \"workbench_run_details_uri\": \"https://ml.azure.com/runs/AutoML_a8fe52b8-dfff-4eec-952a-0ccab169da31?wsid=/subscriptions/3e42d11f-d64d-4173-af9b-12ecaa1030b3/resourcegroups/aml-quickstarts-142342/workspaces/quick-starts-ws-142342&tid=660b3398-b80e-49d2-bc5b-ac1dc93b5254\", \"run_id\": \"AutoML_a8fe52b8-dfff-4eec-952a-0ccab169da31\", \"run_properties\": {\"run_id\": \"AutoML_a8fe52b8-dfff-4eec-952a-0ccab169da31\", \"created_utc\": \"2021-04-10T21:11:48.965088Z\", \"properties\": {\"num_iterations\": \"1000\", \"training_type\": \"TrainFull\", \"acquisition_function\": \"EI\", \"primary_metric\": \"AUC_weighted\", \"train_split\": \"0\", \"acquisition_parameter\": \"0\", \"num_cross_validation\": null, \"target\": \"cpu-cluster2\", \"AMLSettingsJsonString\": \"{\\\"path\\\":null,\\\"name\\\":\\\"udacity-project3\\\",\\\"subscription_id\\\":\\\"3e42d11f-d64d-4173-af9b-12ecaa1030b3\\\",\\\"resource_group\\\":\\\"aml-quickstarts-142342\\\",\\\"workspace_name\\\":\\\"quick-starts-ws-142342\\\",\\\"region\\\":\\\"northcentralus\\\",\\\"compute_target\\\":\\\"cpu-cluster2\\\",\\\"spark_service\\\":null,\\\"azure_service\\\":\\\"remote\\\",\\\"many_models\\\":false,\\\"pipeline_fetch_max_batch_size\\\":1,\\\"enable_batch_run\\\":false,\\\"enable_run_restructure\\\":false,\\\"iterations\\\":1000,\\\"primary_metric\\\":\\\"AUC_weighted\\\",\\\"task_type\\\":\\\"classification\\\",\\\"data_script\\\":null,\\\"test_size\\\":0.0,\\\"validation_size\\\":0.0,\\\"n_cross_validations\\\":null,\\\"y_min\\\":null,\\\"y_max\\\":null,\\\"num_classes\\\":null,\\\"featurization\\\":\\\"auto\\\",\\\"_ignore_package_version_incompatibilities\\\":false,\\\"is_timeseries\\\":false,\\\"max_cores_per_iteration\\\":1,\\\"max_concurrent_iterations\\\":5,\\\"iteration_timeout_minutes\\\":null,\\\"mem_in_mb\\\":null,\\\"enforce_time_on_windows\\\":false,\\\"experiment_timeout_minutes\\\":20,\\\"experiment_exit_score\\\":null,\\\"whitelist_models\\\":null,\\\"blacklist_algos\\\":[\\\"TensorFlowLinearClassifier\\\",\\\"TensorFlowDNN\\\"],\\\"supported_models\\\":[\\\"AveragedPerceptronClassifier\\\",\\\"GradientBoosting\\\",\\\"TensorFlowDNN\\\",\\\"LightGBM\\\",\\\"LinearSVM\\\",\\\"DecisionTree\\\",\\\"ExtremeRandomTrees\\\",\\\"SGD\\\",\\\"SVM\\\",\\\"TensorFlowLinearClassifier\\\",\\\"MultinomialNaiveBayes\\\",\\\"BernoulliNaiveBayes\\\",\\\"KNN\\\",\\\"XGBoostClassifier\\\",\\\"RandomForest\\\",\\\"LogisticRegression\\\"],\\\"private_models\\\":[],\\\"auto_blacklist\\\":true,\\\"blacklist_samples_reached\\\":false,\\\"exclude_nan_labels\\\":true,\\\"verbosity\\\":20,\\\"_debug_log\\\":\\\"azureml_automl.log\\\",\\\"show_warnings\\\":false,\\\"model_explainability\\\":true,\\\"service_url\\\":null,\\\"sdk_url\\\":null,\\\"sdk_packages\\\":null,\\\"enable_onnx_compatible_models\\\":false,\\\"enable_split_onnx_featurizer_estimator_models\\\":false,\\\"vm_type\\\":\\\"STANDARD_DS3_V2\\\",\\\"telemetry_verbosity\\\":20,\\\"send_telemetry\\\":true,\\\"enable_dnn\\\":false,\\\"scenario\\\":\\\"SDK-1.13.0\\\",\\\"environment_label\\\":null,\\\"save_mlflow\\\":false,\\\"force_text_dnn\\\":false,\\\"enable_feature_sweeping\\\":true,\\\"enable_early_stopping\\\":true,\\\"early_stopping_n_iters\\\":10,\\\"metrics\\\":null,\\\"enable_metric_confidence\\\":false,\\\"enable_ensembling\\\":true,\\\"enable_stack_ensembling\\\":true,\\\"ensemble_iterations\\\":15,\\\"enable_tf\\\":false,\\\"enable_subsampling\\\":null,\\\"subsample_seed\\\":null,\\\"enable_nimbusml\\\":false,\\\"enable_streaming\\\":false,\\\"force_streaming\\\":false,\\\"track_child_runs\\\":true,\\\"allowed_private_models\\\":[],\\\"label_column_name\\\":\\\"target\\\",\\\"weight_column_name\\\":null,\\\"cv_split_column_names\\\":null,\\\"enable_local_managed\\\":false,\\\"_local_managed_run_id\\\":null,\\\"cost_mode\\\":1,\\\"lag_length\\\":0,\\\"metric_operation\\\":\\\"maximize\\\",\\\"preprocess\\\":true}\", \"DataPrepJsonString\": \"{\\\\\\\"training_data\\\\\\\": {\\\\\\\"datasetId\\\\\\\": \\\\\\\"b2f5a9c1-ab51-446c-9b7e-a3578c0981e9\\\\\\\"}, \\\\\\\"datasets\\\\\\\": 0}\", \"EnableSubsampling\": null, \"runTemplate\": \"AutoML\", \"azureml.runsource\": \"automl\", \"display_task_type\": \"classification\", \"dependencies_versions\": \"{\\\"azureml-widgets\\\": \\\"1.26.0\\\", \\\"azureml-train\\\": \\\"1.26.0\\\", \\\"azureml-train-restclients-hyperdrive\\\": \\\"1.26.0\\\", \\\"azureml-train-core\\\": \\\"1.26.0\\\", \\\"azureml-train-automl\\\": \\\"1.26.0\\\", \\\"azureml-train-automl-runtime\\\": \\\"1.26.0\\\", \\\"azureml-train-automl-client\\\": \\\"1.26.0\\\", \\\"azureml-tensorboard\\\": \\\"1.26.0\\\", \\\"azureml-telemetry\\\": \\\"1.26.0\\\", \\\"azureml-sdk\\\": \\\"1.26.0\\\", \\\"azureml-samples\\\": \\\"0+unknown\\\", \\\"azureml-pipeline\\\": \\\"1.26.0\\\", \\\"azureml-pipeline-steps\\\": \\\"1.26.0\\\", \\\"azureml-pipeline-core\\\": \\\"1.26.0\\\", \\\"azureml-opendatasets\\\": \\\"1.26.0\\\", \\\"azureml-model-management-sdk\\\": \\\"1.0.1b6.post1\\\", \\\"azureml-mlflow\\\": \\\"1.26.0\\\", \\\"azureml-interpret\\\": \\\"1.26.0\\\", \\\"azureml-explain-model\\\": \\\"1.26.0\\\", \\\"azureml-defaults\\\": \\\"1.26.0\\\", \\\"azureml-dataset-runtime\\\": \\\"1.26.0\\\", \\\"azureml-dataprep\\\": \\\"2.13.2\\\", \\\"azureml-dataprep-rslex\\\": \\\"1.11.2\\\", \\\"azureml-dataprep-native\\\": \\\"32.0.0\\\", \\\"azureml-datadrift\\\": \\\"1.26.0\\\", \\\"azureml-core\\\": \\\"1.26.0\\\", \\\"azureml-contrib-services\\\": \\\"1.26.0\\\", \\\"azureml-contrib-server\\\": \\\"1.26.0\\\", \\\"azureml-contrib-reinforcementlearning\\\": \\\"1.26.0\\\", \\\"azureml-contrib-pipeline-steps\\\": \\\"1.26.0\\\", \\\"azureml-contrib-notebook\\\": \\\"1.26.0\\\", \\\"azureml-contrib-gbdt\\\": \\\"1.26.0\\\", \\\"azureml-contrib-fairness\\\": \\\"1.26.0\\\", \\\"azureml-contrib-dataset\\\": \\\"1.26.0\\\", \\\"azureml-cli-common\\\": \\\"1.26.0\\\", \\\"azureml-automl-runtime\\\": \\\"1.26.0\\\", \\\"azureml-automl-dnn-nlp\\\": \\\"1.26.0\\\", \\\"azureml-automl-core\\\": \\\"1.26.0\\\", \\\"azureml-accel-models\\\": \\\"1.26.0\\\"}\", \"_aml_system_scenario_identification\": \"Remote.Parent\", \"ClientType\": \"SDK\", \"environment_cpu_name\": \"AzureML-AutoML\", \"environment_cpu_label\": \"prod\", \"environment_gpu_name\": \"AzureML-AutoML-GPU\", \"environment_gpu_label\": \"prod\", \"root_attribution\": \"automl\", \"attribution\": \"AutoML\", \"Orchestrator\": \"AutoML\", \"CancelUri\": \"https://northcentralus.experiments.azureml.net/jasmine/v1.0/subscriptions/3e42d11f-d64d-4173-af9b-12ecaa1030b3/resourceGroups/aml-quickstarts-142342/providers/Microsoft.MachineLearningServices/workspaces/quick-starts-ws-142342/experimentids/c9b97193-e456-42dc-b16b-b06a9a4b470b/cancel/AutoML_a8fe52b8-dfff-4eec-952a-0ccab169da31\", \"ClientSdkVersion\": \"1.25.0\", \"snapshotId\": \"00000000-0000-0000-0000-000000000000\", \"SetupRunId\": \"AutoML_a8fe52b8-dfff-4eec-952a-0ccab169da31_setup\", \"SetupRunContainerId\": \"dcid.AutoML_a8fe52b8-dfff-4eec-952a-0ccab169da31_setup\", \"FeaturizationRunJsonPath\": \"featurizer_container.json\", \"FeaturizationRunId\": \"AutoML_a8fe52b8-dfff-4eec-952a-0ccab169da31_featurize\", \"ProblemInfoJsonString\": \"{\\\"dataset_num_categorical\\\": 0, \\\"is_sparse\\\": true, \\\"subsampling\\\": false, \\\"dataset_classes\\\": 2, \\\"dataset_features\\\": 32, \\\"dataset_samples\\\": 212, \\\"single_frequency_class_detected\\\": false}\", \"ModelExplainRunId\": \"AutoML_a8fe52b8-dfff-4eec-952a-0ccab169da31_ModelExplain\"}, \"tags\": {\"model_explain_run\": \"best_run\", \"_aml_system_azureml.automlComponent\": \"AutoML\", \"pipeline_id\": \"\", \"score\": \"\", \"predicted_cost\": \"\", \"fit_time\": \"\", \"training_percent\": \"\", \"iteration\": \"\", \"run_preprocessor\": \"\", \"run_algorithm\": \"\", \"dynamic_whitelisting_iterations\": \"<25>;<30>;<35>;\", \"automl_best_child_run_id\": \"AutoML_a8fe52b8-dfff-4eec-952a-0ccab169da31_38\", \"model_explain_best_run_child_id\": \"AutoML_a8fe52b8-dfff-4eec-952a-0ccab169da31_38\"}, \"end_time_utc\": \"2021-04-10T21:33:46.553696Z\", \"status\": \"Completed\", \"log_files\": {}, \"log_groups\": [], \"run_duration\": \"0:21:57\", \"run_number\": \"1\", \"run_queued_details\": {\"status\": \"Completed\", \"details\": null}}, \"child_runs\": [{\"run_id\": \"AutoML_a8fe52b8-dfff-4eec-952a-0ccab169da31_3\", \"run_number\": 5, \"metric\": null, \"status\": \"Completed\", \"run_type\": \"azureml.scriptrun\", \"training_percent\": \"100\", \"start_time\": \"2021-04-10T21:17:42.475484Z\", \"end_time\": \"2021-04-10T21:18:29.606784Z\", \"created_time\": \"2021-04-10T21:17:26.693649Z\", \"created_time_dt\": \"2021-04-10T21:17:26.693649Z\", \"duration\": \"0:01:02\", \"iteration\": \"3\", \"goal\": \"AUC_weighted_max\", \"run_name\": \"MaxAbsScaler, RandomForest\", \"run_properties\": \"copy=True\", \"primary_metric\": 0.91316775, \"best_metric\": 0.91316775}, {\"run_id\": \"AutoML_a8fe52b8-dfff-4eec-952a-0ccab169da31_1\", \"run_number\": 6, \"metric\": null, \"status\": \"Completed\", \"run_type\": \"azureml.scriptrun\", \"training_percent\": \"100\", \"start_time\": \"2021-04-10T21:17:41.729995Z\", \"end_time\": \"2021-04-10T21:18:23.713764Z\", \"created_time\": \"2021-04-10T21:17:26.699696Z\", \"created_time_dt\": \"2021-04-10T21:17:26.699696Z\", \"duration\": \"0:00:57\", \"iteration\": \"1\", \"goal\": \"AUC_weighted_max\", \"run_name\": \"MaxAbsScaler, XGBoostClassifier\", \"run_properties\": \"copy=True\", \"primary_metric\": 0.89793096, \"best_metric\": 0.89793096}, {\"run_id\": \"AutoML_a8fe52b8-dfff-4eec-952a-0ccab169da31_2\", \"run_number\": 7, \"metric\": null, \"status\": \"Completed\", \"run_type\": \"azureml.scriptrun\", \"training_percent\": \"100\", \"start_time\": \"2021-04-10T21:17:39.39295Z\", \"end_time\": \"2021-04-10T21:18:25.338918Z\", \"created_time\": \"2021-04-10T21:17:26.714677Z\", \"created_time_dt\": \"2021-04-10T21:17:26.714677Z\", \"duration\": \"0:00:58\", \"iteration\": \"2\", \"goal\": \"AUC_weighted_max\", \"run_name\": \"MaxAbsScaler, RandomForest\", \"run_properties\": \"copy=True\", \"primary_metric\": 0.90021726, \"best_metric\": 0.90021726}, {\"run_id\": \"AutoML_a8fe52b8-dfff-4eec-952a-0ccab169da31_0\", \"run_number\": 8, \"metric\": null, \"status\": \"Completed\", \"run_type\": \"azureml.scriptrun\", \"training_percent\": \"100\", \"start_time\": \"2021-04-10T21:17:41.486615Z\", \"end_time\": \"2021-04-10T21:18:21.99017Z\", \"created_time\": \"2021-04-10T21:17:26.970254Z\", \"created_time_dt\": \"2021-04-10T21:17:26.970254Z\", \"duration\": \"0:00:55\", \"iteration\": \"0\", \"goal\": \"AUC_weighted_max\", \"run_name\": \"MaxAbsScaler, LightGBM\", \"run_properties\": \"copy=True\", \"primary_metric\": 0.8925926, \"best_metric\": 0.8925926}, {\"run_id\": \"AutoML_a8fe52b8-dfff-4eec-952a-0ccab169da31_4\", \"run_number\": 9, \"metric\": null, \"status\": \"Completed\", \"run_type\": \"azureml.scriptrun\", \"training_percent\": \"100\", \"start_time\": \"2021-04-10T21:17:41.259389Z\", \"end_time\": \"2021-04-10T21:18:22.656564Z\", \"created_time\": \"2021-04-10T21:17:26.722718Z\", \"created_time_dt\": \"2021-04-10T21:17:26.722718Z\", \"duration\": \"0:00:55\", \"iteration\": \"4\", \"goal\": \"AUC_weighted_max\", \"run_name\": \"MaxAbsScaler, RandomForest\", \"run_properties\": \"copy=True\", \"primary_metric\": 0.90155144, \"best_metric\": 0.91316775}, {\"run_id\": \"AutoML_a8fe52b8-dfff-4eec-952a-0ccab169da31_5\", \"run_number\": 10, \"metric\": null, \"status\": \"Completed\", \"run_type\": \"azureml.scriptrun\", \"training_percent\": \"100\", \"start_time\": \"2021-04-10T21:18:34.023781Z\", \"end_time\": \"2021-04-10T21:19:15.566667Z\", \"created_time\": \"2021-04-10T21:18:24.417297Z\", \"created_time_dt\": \"2021-04-10T21:18:24.417297Z\", \"duration\": \"0:00:51\", \"iteration\": \"5\", \"goal\": \"AUC_weighted_max\", \"run_name\": \"MaxAbsScaler, ExtremeRandomTrees\", \"run_properties\": \"copy=True\", \"primary_metric\": 0.89341743, \"best_metric\": 0.91316775}, {\"run_id\": \"AutoML_a8fe52b8-dfff-4eec-952a-0ccab169da31_8\", \"run_number\": 11, \"metric\": null, \"status\": \"Completed\", \"run_type\": \"azureml.scriptrun\", \"training_percent\": \"100\", \"start_time\": \"2021-04-10T21:18:40.304947Z\", \"end_time\": \"2021-04-10T21:19:23.305485Z\", \"created_time\": \"2021-04-10T21:18:30.081679Z\", \"created_time_dt\": \"2021-04-10T21:18:30.081679Z\", \"duration\": \"0:00:53\", \"iteration\": \"8\", \"goal\": \"AUC_weighted_max\", \"run_name\": \"MaxAbsScaler, RandomForest\", \"run_properties\": \"copy=True\", \"primary_metric\": 0.90704352, \"best_metric\": 0.92491684}, {\"run_id\": \"AutoML_a8fe52b8-dfff-4eec-952a-0ccab169da31_6\", \"run_number\": 12, \"metric\": null, \"status\": \"Completed\", \"run_type\": \"azureml.scriptrun\", \"training_percent\": \"100\", \"start_time\": \"2021-04-10T21:18:38.276919Z\", \"end_time\": \"2021-04-10T21:19:29.423772Z\", \"created_time\": \"2021-04-10T21:18:30.09201Z\", \"created_time_dt\": \"2021-04-10T21:18:30.09201Z\", \"duration\": \"0:00:59\", \"iteration\": \"6\", \"goal\": \"AUC_weighted_max\", \"run_name\": \"MaxAbsScaler, ExtremeRandomTrees\", \"run_properties\": \"copy=True\", \"primary_metric\": 0.92491684, \"best_metric\": 0.92491684}, {\"run_id\": \"AutoML_a8fe52b8-dfff-4eec-952a-0ccab169da31_7\", \"run_number\": 13, \"metric\": null, \"status\": \"Completed\", \"run_type\": \"azureml.scriptrun\", \"training_percent\": \"100\", \"start_time\": \"2021-04-10T21:18:40.349652Z\", \"end_time\": \"2021-04-10T21:19:29.061914Z\", \"created_time\": \"2021-04-10T21:18:30.095369Z\", \"created_time_dt\": \"2021-04-10T21:18:30.095369Z\", \"duration\": \"0:00:58\", \"iteration\": \"7\", \"goal\": \"AUC_weighted_max\", \"run_name\": \"MaxAbsScaler, ExtremeRandomTrees\", \"run_properties\": \"copy=True\", \"primary_metric\": 0.92129549, \"best_metric\": 0.92491684}, {\"run_id\": \"AutoML_a8fe52b8-dfff-4eec-952a-0ccab169da31_9\", \"run_number\": 14, \"metric\": null, \"status\": \"Completed\", \"run_type\": \"azureml.scriptrun\", \"training_percent\": \"100\", \"start_time\": \"2021-04-10T21:18:48.97672Z\", \"end_time\": \"2021-04-10T21:19:29.929138Z\", \"created_time\": \"2021-04-10T21:18:35.794142Z\", \"created_time_dt\": \"2021-04-10T21:18:35.794142Z\", \"duration\": \"0:00:54\", \"iteration\": \"9\", \"goal\": \"AUC_weighted_max\", \"run_name\": \"MaxAbsScaler, ExtremeRandomTrees\", \"run_properties\": \"copy=True\", \"primary_metric\": 0.91748914, \"best_metric\": 0.92491684}, {\"run_id\": \"AutoML_a8fe52b8-dfff-4eec-952a-0ccab169da31_10\", \"run_number\": 15, \"metric\": null, \"status\": \"Completed\", \"run_type\": \"azureml.scriptrun\", \"training_percent\": \"100\", \"start_time\": \"2021-04-10T21:19:34.194727Z\", \"end_time\": \"2021-04-10T21:22:27.281001Z\", \"created_time\": \"2021-04-10T21:19:18.738331Z\", \"created_time_dt\": \"2021-04-10T21:19:18.738331Z\", \"duration\": \"0:03:08\", \"iteration\": \"10\", \"goal\": \"AUC_weighted_max\", \"run_name\": \"MaxAbsScaler, RandomForest\", \"run_properties\": \"copy=True\", \"primary_metric\": 0.88831241, \"best_metric\": 0.92491684}, {\"run_id\": \"AutoML_a8fe52b8-dfff-4eec-952a-0ccab169da31_11\", \"run_number\": 16, \"metric\": null, \"status\": \"Completed\", \"run_type\": \"azureml.scriptrun\", \"training_percent\": \"100\", \"start_time\": \"2021-04-10T21:19:34.460445Z\", \"end_time\": \"2021-04-10T21:22:25.674049Z\", \"created_time\": \"2021-04-10T21:19:26.408871Z\", \"created_time_dt\": \"2021-04-10T21:19:26.408871Z\", \"duration\": \"0:02:59\", \"iteration\": \"11\", \"goal\": \"AUC_weighted_max\", \"run_name\": \"MaxAbsScaler, RandomForest\", \"run_properties\": \"copy=True\", \"primary_metric\": 0.90994132, \"best_metric\": 0.92491684}, {\"run_id\": \"AutoML_a8fe52b8-dfff-4eec-952a-0ccab169da31_12\", \"run_number\": 17, \"metric\": null, \"status\": \"Completed\", \"run_type\": \"azureml.scriptrun\", \"training_percent\": \"100\", \"start_time\": \"2021-04-10T21:19:42.805199Z\", \"end_time\": \"2021-04-10T21:23:12.085301Z\", \"created_time\": \"2021-04-10T21:19:32.060412Z\", \"created_time_dt\": \"2021-04-10T21:19:32.060412Z\", \"duration\": \"0:03:40\", \"iteration\": \"12\", \"goal\": \"AUC_weighted_max\", \"run_name\": \"MaxAbsScaler, RandomForest\", \"run_properties\": \"copy=True\", \"primary_metric\": 0.91221185, \"best_metric\": 0.92491684}, {\"run_id\": \"AutoML_a8fe52b8-dfff-4eec-952a-0ccab169da31_13\", \"run_number\": 18, \"metric\": null, \"status\": \"Completed\", \"run_type\": \"azureml.scriptrun\", \"training_percent\": \"100\", \"start_time\": \"2021-04-10T21:19:50.216952Z\", \"end_time\": \"2021-04-10T21:22:27.215044Z\", \"created_time\": \"2021-04-10T21:19:38.186276Z\", \"created_time_dt\": \"2021-04-10T21:19:38.186276Z\", \"duration\": \"0:02:49\", \"iteration\": \"13\", \"goal\": \"AUC_weighted_max\", \"run_name\": \"StandardScalerWrapper, XGBoostClassifier\", \"run_properties\": \"<azureml.automl.runtime.shared.model_wrappers.StandardScalerWrapper object at 0x7f1a4cf7d278\", \"primary_metric\": 0.89996413, \"best_metric\": 0.92491684}, {\"run_id\": \"AutoML_a8fe52b8-dfff-4eec-952a-0ccab169da31_14\", \"run_number\": 19, \"metric\": null, \"status\": \"Completed\", \"run_type\": \"azureml.scriptrun\", \"training_percent\": \"100\", \"start_time\": \"2021-04-10T21:19:46.492581Z\", \"end_time\": \"2021-04-10T21:22:28.580166Z\", \"created_time\": \"2021-04-10T21:19:38.210545Z\", \"created_time_dt\": \"2021-04-10T21:19:38.210545Z\", \"duration\": \"0:02:50\", \"iteration\": \"14\", \"goal\": \"AUC_weighted_max\", \"run_name\": \"MaxAbsScaler, RandomForest\", \"run_properties\": \"copy=True\", \"primary_metric\": 0.89050406, \"best_metric\": 0.92491684}, {\"run_id\": \"AutoML_a8fe52b8-dfff-4eec-952a-0ccab169da31_15\", \"run_number\": 20, \"metric\": null, \"status\": \"Completed\", \"run_type\": \"azureml.scriptrun\", \"training_percent\": \"100\", \"start_time\": \"2021-04-10T21:22:38.145542Z\", \"end_time\": \"2021-04-10T21:23:21.209766Z\", \"created_time\": \"2021-04-10T21:22:29.030308Z\", \"created_time_dt\": \"2021-04-10T21:22:29.030308Z\", \"duration\": \"0:00:52\", \"iteration\": \"15\", \"goal\": \"AUC_weighted_max\", \"run_name\": \"StandardScalerWrapper, ExtremeRandomTrees\", \"run_properties\": \"<azureml.automl.runtime.shared.model_wrappers.StandardScalerWrapper object at 0x7f7f1c53ada0\", \"primary_metric\": 0.89600178, \"best_metric\": 0.92491684}, {\"run_id\": \"AutoML_a8fe52b8-dfff-4eec-952a-0ccab169da31_17\", \"run_number\": 21, \"metric\": null, \"status\": \"Completed\", \"run_type\": \"azureml.scriptrun\", \"training_percent\": \"100\", \"start_time\": \"2021-04-10T21:22:44.976317Z\", \"end_time\": \"2021-04-10T21:23:30.933014Z\", \"created_time\": \"2021-04-10T21:22:33.944976Z\", \"created_time_dt\": \"2021-04-10T21:22:33.944976Z\", \"duration\": \"0:00:56\", \"iteration\": \"17\", \"goal\": \"AUC_weighted_max\", \"run_name\": \"MaxAbsScaler, ExtremeRandomTrees\", \"run_properties\": \"copy=True\", \"primary_metric\": 0.91745029, \"best_metric\": 0.92491684}, {\"run_id\": \"AutoML_a8fe52b8-dfff-4eec-952a-0ccab169da31_18\", \"run_number\": 22, \"metric\": null, \"status\": \"Completed\", \"run_type\": \"azureml.scriptrun\", \"training_percent\": \"100\", \"start_time\": \"2021-04-10T21:22:44.753864Z\", \"end_time\": \"2021-04-10T21:23:31.41255Z\", \"created_time\": \"2021-04-10T21:22:33.966506Z\", \"created_time_dt\": \"2021-04-10T21:22:33.966506Z\", \"duration\": \"0:00:57\", \"iteration\": \"18\", \"goal\": \"AUC_weighted_max\", \"run_name\": \"MaxAbsScaler, RandomForest\", \"run_properties\": \"copy=True\", \"primary_metric\": 0.90769558, \"best_metric\": 0.92491684}, {\"run_id\": \"AutoML_a8fe52b8-dfff-4eec-952a-0ccab169da31_16\", \"run_number\": 23, \"metric\": null, \"status\": \"Completed\", \"run_type\": \"azureml.scriptrun\", \"training_percent\": \"100\", \"start_time\": \"2021-04-10T21:22:42.429646Z\", \"end_time\": \"2021-04-10T21:23:18.439093Z\", \"created_time\": \"2021-04-10T21:22:33.987084Z\", \"created_time_dt\": \"2021-04-10T21:22:33.987084Z\", \"duration\": \"0:00:44\", \"iteration\": \"16\", \"goal\": \"AUC_weighted_max\", \"run_name\": \"MaxAbsScaler, ExtremeRandomTrees\", \"run_properties\": \"copy=True\", \"primary_metric\": 0.89790708, \"best_metric\": 0.92491684}, {\"run_id\": \"AutoML_a8fe52b8-dfff-4eec-952a-0ccab169da31_19\", \"run_number\": 24, \"metric\": null, \"status\": \"Completed\", \"run_type\": \"azureml.scriptrun\", \"training_percent\": \"100\", \"start_time\": \"2021-04-10T21:23:32.429753Z\", \"end_time\": \"2021-04-10T21:25:08.579624Z\", \"created_time\": \"2021-04-10T21:23:15.019379Z\", \"created_time_dt\": \"2021-04-10T21:23:15.019379Z\", \"duration\": \"0:01:53\", \"iteration\": \"19\", \"goal\": \"AUC_weighted_max\", \"run_name\": \"StandardScalerWrapper, LogisticRegression\", \"run_properties\": \"<azureml.automl.runtime.shared.model_wrappers.StandardScalerWrapper object at 0x7fd436039e80\", \"primary_metric\": 0.90173735, \"best_metric\": 0.92491684}, {\"run_id\": \"AutoML_a8fe52b8-dfff-4eec-952a-0ccab169da31_20\", \"run_number\": 25, \"metric\": null, \"status\": \"Completed\", \"run_type\": \"azureml.scriptrun\", \"training_percent\": \"100\", \"start_time\": \"2021-04-10T21:23:30.937484Z\", \"end_time\": \"2021-04-10T21:26:02.618235Z\", \"created_time\": \"2021-04-10T21:23:20.917894Z\", \"created_time_dt\": \"2021-04-10T21:23:20.917894Z\", \"duration\": \"0:02:41\", \"iteration\": \"20\", \"goal\": \"AUC_weighted_max\", \"run_name\": \"MaxAbsScaler, LogisticRegression\", \"run_properties\": \"copy=True\", \"primary_metric\": 0.91173403, \"best_metric\": 0.92491684}, {\"run_id\": \"AutoML_a8fe52b8-dfff-4eec-952a-0ccab169da31_21\", \"run_number\": 26, \"metric\": null, \"status\": \"Completed\", \"run_type\": \"azureml.scriptrun\", \"training_percent\": \"100\", \"start_time\": \"2021-04-10T21:23:35.404616Z\", \"end_time\": \"2021-04-10T21:25:15.409086Z\", \"created_time\": \"2021-04-10T21:23:25.323975Z\", \"created_time_dt\": \"2021-04-10T21:23:25.323975Z\", \"duration\": \"0:01:50\", \"iteration\": \"21\", \"goal\": \"AUC_weighted_max\", \"run_name\": \"MaxAbsScaler, LightGBM\", \"run_properties\": \"copy=True\", \"primary_metric\": 0.90739709, \"best_metric\": 0.92491684}, {\"run_id\": \"AutoML_a8fe52b8-dfff-4eec-952a-0ccab169da31_22\", \"run_number\": 27, \"metric\": null, \"status\": \"Completed\", \"run_type\": \"azureml.scriptrun\", \"training_percent\": \"100\", \"start_time\": \"2021-04-10T21:23:41.071376Z\", \"end_time\": \"2021-04-10T21:26:29.017577Z\", \"created_time\": \"2021-04-10T21:23:32.93801Z\", \"created_time_dt\": \"2021-04-10T21:23:32.93801Z\", \"duration\": \"0:02:56\", \"iteration\": \"22\", \"goal\": \"AUC_weighted_max\", \"run_name\": \"MaxAbsScaler, LightGBM\", \"run_properties\": \"copy=True\", \"primary_metric\": 0.9201357, \"best_metric\": 0.92491684}, {\"run_id\": \"AutoML_a8fe52b8-dfff-4eec-952a-0ccab169da31_23\", \"run_number\": 28, \"metric\": null, \"status\": \"Completed\", \"run_type\": \"azureml.scriptrun\", \"training_percent\": \"100\", \"start_time\": \"2021-04-10T21:23:46.307604Z\", \"end_time\": \"2021-04-10T21:26:47.771454Z\", \"created_time\": \"2021-04-10T21:23:36.358129Z\", \"created_time_dt\": \"2021-04-10T21:23:36.358129Z\", \"duration\": \"0:03:11\", \"iteration\": \"23\", \"goal\": \"AUC_weighted_max\", \"run_name\": \"MaxAbsScaler, LightGBM\", \"run_properties\": \"copy=True\", \"primary_metric\": 0.91658939, \"best_metric\": 0.92491684}, {\"run_id\": \"AutoML_a8fe52b8-dfff-4eec-952a-0ccab169da31_24\", \"run_number\": 29, \"metric\": null, \"status\": \"Completed\", \"run_type\": \"azureml.scriptrun\", \"training_percent\": \"100\", \"start_time\": \"2021-04-10T21:25:34.730129Z\", \"end_time\": \"2021-04-10T21:26:57.38389Z\", \"created_time\": \"2021-04-10T21:25:10.418295Z\", \"created_time_dt\": \"2021-04-10T21:25:10.418295Z\", \"duration\": \"0:01:46\", \"iteration\": \"24\", \"goal\": \"AUC_weighted_max\", \"run_name\": \"MaxAbsScaler, LightGBM\", \"run_properties\": \"copy=True\", \"primary_metric\": 0.91162266, \"best_metric\": 0.92491684}, {\"run_id\": \"AutoML_a8fe52b8-dfff-4eec-952a-0ccab169da31_25\", \"run_number\": 30, \"metric\": null, \"status\": \"Completed\", \"run_type\": \"azureml.scriptrun\", \"training_percent\": \"100\", \"start_time\": \"2021-04-10T21:26:27.814603Z\", \"end_time\": \"2021-04-10T21:27:34.815717Z\", \"created_time\": \"2021-04-10T21:25:19.15586Z\", \"created_time_dt\": \"2021-04-10T21:25:19.15586Z\", \"duration\": \"0:02:15\", \"iteration\": \"25\", \"goal\": \"AUC_weighted_max\", \"run_name\": \"StandardScalerWrapper, ExtremeRandomTrees\", \"run_properties\": \"<azureml.automl.runtime.shared.model_wrappers.StandardScalerWrapper object at 0x7fd4cefea390\", \"primary_metric\": 0.91092126, \"best_metric\": 0.92491684}, {\"run_id\": \"AutoML_a8fe52b8-dfff-4eec-952a-0ccab169da31_26\", \"run_number\": 31, \"metric\": null, \"status\": \"Completed\", \"run_type\": \"azureml.scriptrun\", \"training_percent\": \"100\", \"start_time\": \"2021-04-10T21:26:17.434439Z\", \"end_time\": \"2021-04-10T21:27:28.700145Z\", \"created_time\": \"2021-04-10T21:26:04.841825Z\", \"created_time_dt\": \"2021-04-10T21:26:04.841825Z\", \"duration\": \"0:01:23\", \"iteration\": \"26\", \"goal\": \"AUC_weighted_max\", \"run_name\": \"StandardScalerWrapper, ExtremeRandomTrees\", \"run_properties\": \"<azureml.automl.runtime.shared.model_wrappers.StandardScalerWrapper object at 0x7f4cac0ae780\", \"primary_metric\": 0.90934575, \"best_metric\": 0.92491684}, {\"run_id\": \"AutoML_a8fe52b8-dfff-4eec-952a-0ccab169da31_27\", \"run_number\": 32, \"metric\": null, \"status\": \"Completed\", \"run_type\": \"azureml.scriptrun\", \"training_percent\": \"100\", \"start_time\": \"2021-04-10T21:26:45.926329Z\", \"end_time\": \"2021-04-10T21:27:40.055291Z\", \"created_time\": \"2021-04-10T21:26:30.940711Z\", \"created_time_dt\": \"2021-04-10T21:26:30.940711Z\", \"duration\": \"0:01:09\", \"iteration\": \"27\", \"goal\": \"AUC_weighted_max\", \"run_name\": \"StandardScalerWrapper, LogisticRegression\", \"run_properties\": \"<azureml.automl.runtime.shared.model_wrappers.StandardScalerWrapper object at 0x7f911385fcf8\", \"primary_metric\": 0.9135245, \"best_metric\": 0.92491684}, {\"run_id\": \"AutoML_a8fe52b8-dfff-4eec-952a-0ccab169da31_28\", \"run_number\": 33, \"metric\": null, \"status\": \"Completed\", \"run_type\": \"azureml.scriptrun\", \"training_percent\": \"100\", \"start_time\": \"2021-04-10T21:27:00.992554Z\", \"end_time\": \"2021-04-10T21:27:57.957083Z\", \"created_time\": \"2021-04-10T21:26:49.443871Z\", \"created_time_dt\": \"2021-04-10T21:26:49.443871Z\", \"duration\": \"0:01:08\", \"iteration\": \"28\", \"goal\": \"AUC_weighted_max\", \"run_name\": \"SparseNormalizer, RandomForest\", \"run_properties\": \"<azureml.automl.runtime.shared.model_wrappers.SparseNormalizer object at 0x7f2925665278\", \"primary_metric\": 0.90335393, \"best_metric\": 0.92491684}, {\"run_id\": \"AutoML_a8fe52b8-dfff-4eec-952a-0ccab169da31_29\", \"run_number\": 34, \"metric\": null, \"status\": \"Completed\", \"run_type\": \"azureml.scriptrun\", \"training_percent\": \"100\", \"start_time\": \"2021-04-10T21:27:11.436172Z\", \"end_time\": \"2021-04-10T21:28:03.717886Z\", \"created_time\": \"2021-04-10T21:26:59.041649Z\", \"created_time_dt\": \"2021-04-10T21:26:59.041649Z\", \"duration\": \"0:01:04\", \"iteration\": \"29\", \"goal\": \"AUC_weighted_max\", \"run_name\": \"MaxAbsScaler, ExtremeRandomTrees\", \"run_properties\": \"copy=True\", \"primary_metric\": 0.91457224, \"best_metric\": 0.92491684}, {\"run_id\": \"AutoML_a8fe52b8-dfff-4eec-952a-0ccab169da31_30\", \"run_number\": 35, \"metric\": null, \"status\": \"Completed\", \"run_type\": \"azureml.scriptrun\", \"training_percent\": \"100\", \"start_time\": \"2021-04-10T21:27:44.930428Z\", \"end_time\": \"2021-04-10T21:28:36.444379Z\", \"created_time\": \"2021-04-10T21:27:32.133977Z\", \"created_time_dt\": \"2021-04-10T21:27:32.133977Z\", \"duration\": \"0:01:04\", \"iteration\": \"30\", \"goal\": \"AUC_weighted_max\", \"run_name\": \"MaxAbsScaler, ExtremeRandomTrees\", \"run_properties\": \"copy=True\", \"primary_metric\": 0.88036321, \"best_metric\": 0.92491684}, {\"run_id\": \"AutoML_a8fe52b8-dfff-4eec-952a-0ccab169da31_31\", \"run_number\": 36, \"metric\": null, \"status\": \"Completed\", \"run_type\": \"azureml.scriptrun\", \"training_percent\": \"100\", \"start_time\": \"2021-04-10T21:27:47.695106Z\", \"end_time\": \"2021-04-10T21:28:34.790181Z\", \"created_time\": \"2021-04-10T21:27:37.783351Z\", \"created_time_dt\": \"2021-04-10T21:27:37.783351Z\", \"duration\": \"0:00:57\", \"iteration\": \"31\", \"goal\": \"AUC_weighted_max\", \"run_name\": \"StandardScalerWrapper, GradientBoosting\", \"run_properties\": \"<azureml.automl.runtime.shared.model_wrappers.StandardScalerWrapper object at 0x7f1871eceef0\", \"primary_metric\": 0.90667683, \"best_metric\": 0.92491684}, {\"run_id\": \"AutoML_a8fe52b8-dfff-4eec-952a-0ccab169da31_32\", \"run_number\": 37, \"metric\": null, \"status\": \"Completed\", \"run_type\": \"azureml.scriptrun\", \"training_percent\": \"100\", \"start_time\": \"2021-04-10T21:27:52.240323Z\", \"end_time\": \"2021-04-10T21:28:42.137624Z\", \"created_time\": \"2021-04-10T21:27:44.637233Z\", \"created_time_dt\": \"2021-04-10T21:27:44.637233Z\", \"duration\": \"0:00:57\", \"iteration\": \"32\", \"goal\": \"AUC_weighted_max\", \"run_name\": \"SparseNormalizer, XGBoostClassifier\", \"run_properties\": \"<azureml.automl.runtime.shared.model_wrappers.SparseNormalizer object at 0x7fe3d26086d8\", \"primary_metric\": 0.8976471, \"best_metric\": 0.92491684}, {\"run_id\": \"AutoML_a8fe52b8-dfff-4eec-952a-0ccab169da31_33\", \"run_number\": 38, \"metric\": null, \"status\": \"Canceled\", \"run_type\": \"azureml.scriptrun\", \"training_percent\": \"100\", \"start_time\": \"2021-04-10T21:28:09.613116Z\", \"end_time\": \"2021-04-10T21:29:10.096004Z\", \"created_time\": \"2021-04-10T21:28:01.624359Z\", \"created_time_dt\": \"2021-04-10T21:28:01.624359Z\", \"duration\": \"0:01:08\", \"iteration\": \"33\", \"goal\": \"AUC_weighted_max\", \"run_name\": \"StandardScalerWrapper, XGBoostClassifier\", \"run_properties\": \"<azureml.automl.runtime.shared.model_wrappers.StandardScalerWrapper object at 0x7ff84ac5fe48\", \"primary_metric\": 0.91481235, \"best_metric\": 0.92491684}, {\"run_id\": \"AutoML_a8fe52b8-dfff-4eec-952a-0ccab169da31_34\", \"run_number\": 39, \"metric\": null, \"status\": \"Completed\", \"run_type\": \"azureml.scriptrun\", \"training_percent\": \"100\", \"start_time\": \"2021-04-10T21:28:17.768308Z\", \"end_time\": \"2021-04-10T21:29:08.622541Z\", \"created_time\": \"2021-04-10T21:28:06.120115Z\", \"created_time_dt\": \"2021-04-10T21:28:06.120115Z\", \"duration\": \"0:01:02\", \"iteration\": \"34\", \"goal\": \"AUC_weighted_max\", \"run_name\": \"StandardScalerWrapper, XGBoostClassifier\", \"run_properties\": \"<azureml.automl.runtime.shared.model_wrappers.StandardScalerWrapper object at 0x7efc3872eb38\", \"primary_metric\": 0.9144386, \"best_metric\": 0.92491684}, {\"run_id\": \"AutoML_a8fe52b8-dfff-4eec-952a-0ccab169da31_35\", \"run_number\": 40, \"metric\": null, \"status\": \"Canceled\", \"run_type\": \"azureml.scriptrun\", \"training_percent\": \"100\", \"start_time\": \"2021-04-10T21:28:47.626336Z\", \"end_time\": \"2021-04-10T21:29:15.198826Z\", \"created_time\": \"2021-04-10T21:28:37.72638Z\", \"created_time_dt\": \"2021-04-10T21:28:37.72638Z\", \"duration\": \"0:00:37\", \"iteration\": \"35\", \"goal\": null, \"run_name\": \"Canceled\", \"run_properties\": null}, {\"run_id\": \"AutoML_a8fe52b8-dfff-4eec-952a-0ccab169da31_36\", \"run_number\": 41, \"metric\": null, \"status\": \"Canceled\", \"run_type\": \"azureml.scriptrun\", \"training_percent\": \"100\", \"start_time\": \"2021-04-10T21:28:50.754572Z\", \"end_time\": \"2021-04-10T21:29:15.022606Z\", \"created_time\": \"2021-04-10T21:28:41.089161Z\", \"created_time_dt\": \"2021-04-10T21:28:41.089161Z\", \"duration\": \"0:00:33\", \"iteration\": \"36\", \"goal\": null, \"run_name\": \"Canceled\", \"run_properties\": null}, {\"run_id\": \"AutoML_a8fe52b8-dfff-4eec-952a-0ccab169da31_37\", \"run_number\": 42, \"metric\": null, \"status\": \"Canceled\", \"run_type\": \"azureml.scriptrun\", \"training_percent\": \"100\", \"start_time\": \"2021-04-10T21:29:00.294304Z\", \"end_time\": \"2021-04-10T21:29:15.493108Z\", \"created_time\": \"2021-04-10T21:28:46.690288Z\", \"created_time_dt\": \"2021-04-10T21:28:46.690288Z\", \"duration\": \"0:00:28\", \"iteration\": \"37\", \"goal\": null, \"run_name\": \"Canceled\", \"run_properties\": null}, {\"run_id\": \"AutoML_a8fe52b8-dfff-4eec-952a-0ccab169da31_39\", \"run_number\": 43, \"metric\": null, \"status\": \"Completed\", \"run_type\": \"azureml.scriptrun\", \"training_percent\": \"100\", \"start_time\": \"2021-04-10T21:29:31.562819Z\", \"end_time\": \"2021-04-10T21:33:43.261703Z\", \"created_time\": \"2021-04-10T21:29:16.951746Z\", \"created_time_dt\": \"2021-04-10T21:29:16.951746Z\", \"duration\": \"0:04:26\", \"iteration\": \"39\", \"goal\": \"AUC_weighted_max\", \"run_name\": \"StackEnsemble\", \"run_properties\": \"base_learners=[('6',\\n                                        Pipeline(memory=None,\\n                                                 steps=[('maxabsscaler',\\n                                                         MaxAbsScaler(copy=True\", \"primary_metric\": 0.92675377, \"best_metric\": 0.93426198}, {\"run_id\": \"AutoML_a8fe52b8-dfff-4eec-952a-0ccab169da31_38\", \"run_number\": 44, \"metric\": null, \"status\": \"Completed\", \"run_type\": \"azureml.scriptrun\", \"training_percent\": \"100\", \"start_time\": \"2021-04-10T21:29:24.643463Z\", \"end_time\": \"2021-04-10T21:33:25.866968Z\", \"created_time\": \"2021-04-10T21:29:17.004471Z\", \"created_time_dt\": \"2021-04-10T21:29:17.004471Z\", \"duration\": \"0:04:08\", \"iteration\": \"38\", \"goal\": \"AUC_weighted_max\", \"run_name\": \"VotingEnsemble\", \"run_properties\": \"classification_labels=None,\\n                              estimators=[('6',\\n                                           Pipeline(memory=None,\\n                                                    steps=[('maxabsscaler',\\n                                                            MaxAbsScaler(copy=True\", \"primary_metric\": 0.93426198, \"best_metric\": 0.93426198}], \"children_metrics\": {\"categories\": [0], \"series\": {\"log_loss\": [{\"categories\": [\"0\", \"1\", \"2\", \"3\", \"4\", \"5\", \"6\", \"7\", \"8\", \"9\", \"10\", \"11\", \"12\", \"13\", \"14\", \"15\", \"16\", \"17\", \"18\", \"19\", \"20\", \"21\", \"22\", \"23\", \"24\", \"25\", \"26\", \"27\", \"28\", \"29\", \"30\", \"31\", \"32\", \"33\", \"34\", \"38\", \"39\"], \"mode\": \"markers\", \"name\": \"log_loss\", \"stepped\": false, \"type\": \"scatter\", \"data\": [0.5138875469663109, 0.44055836078358335, 0.4089658680926683, 0.39370599245196664, 0.4328777809887264, 0.5946993217262866, 0.5399632113016242, 0.4201138135900778, 0.5018812279188897, 0.45683426225968005, 0.46758704774218246, 0.4443614038159298, 0.5651603659655764, 0.5095352688859458, 0.5779929997414526, 1.0019126768060365, 0.4510759690814516, 0.394071266683473, 0.4688684373827955, 0.4715555188803167, 0.4238340141932911, 0.39702851476896217, 0.3867248937057889, 0.39034285256927703, 0.3943758413342398, 0.6537916775061525, 0.45344909564885605, 0.40453818129640107, 0.5737700962519762, 0.5249373368621753, 0.6677851258484251, 0.3976369743017796, 0.3961908460039218, 0.3933623734763331, 0.44501711479998535, 0.4575662825511072, 0.3780960779695597]}, {\"categories\": [\"0\", \"1\", \"2\", \"3\", \"4\", \"5\", \"6\", \"7\", \"8\", \"9\", \"10\", \"11\", \"12\", \"13\", \"14\", \"15\", \"16\", \"17\", \"18\", \"19\", \"20\", \"21\", \"22\", \"23\", \"24\", \"25\", \"26\", \"27\", \"28\", \"29\", \"30\", \"31\", \"32\", \"33\", \"34\", \"38\", \"39\"], \"mode\": \"lines\", \"name\": \"log_loss_min\", \"stepped\": true, \"type\": \"scatter\", \"data\": [0.5138875469663109, 0.44055836078358335, 0.4089658680926683, 0.39370599245196664, 0.39370599245196664, 0.39370599245196664, 0.39370599245196664, 0.39370599245196664, 0.39370599245196664, 0.39370599245196664, 0.39370599245196664, 0.39370599245196664, 0.39370599245196664, 0.39370599245196664, 0.39370599245196664, 0.39370599245196664, 0.39370599245196664, 0.39370599245196664, 0.39370599245196664, 0.39370599245196664, 0.39370599245196664, 0.39370599245196664, 0.3867248937057889, 0.3867248937057889, 0.3867248937057889, 0.3867248937057889, 0.3867248937057889, 0.3867248937057889, 0.3867248937057889, 0.3867248937057889, 0.3867248937057889, 0.3867248937057889, 0.3867248937057889, 0.3867248937057889, 0.3867248937057889, 0.3867248937057889, 0.3780960779695597]}], \"accuracy\": [{\"categories\": [\"0\", \"1\", \"2\", \"3\", \"4\", \"5\", \"6\", \"7\", \"8\", \"9\", \"10\", \"11\", \"12\", \"13\", \"14\", \"15\", \"16\", \"17\", \"18\", \"19\", \"20\", \"21\", \"22\", \"23\", \"24\", \"25\", \"26\", \"27\", \"28\", \"29\", \"30\", \"31\", \"32\", \"33\", \"34\", \"38\", \"39\"], \"mode\": \"markers\", \"name\": \"accuracy\", \"stepped\": false, \"type\": \"scatter\", \"data\": [0.798051948051948, 0.8123376623376624, 0.8123376623376624, 0.84025974025974, 0.8175324675324676, 0.8023809523809524, 0.8354978354978355, 0.8311688311688311, 0.8028138528138529, 0.8307359307359308, 0.8025974025974026, 0.8119047619047619, 0.8166666666666667, 0.8168831168831169, 0.803030303030303, 0.854112554112554, 0.798051948051948, 0.8497835497835498, 0.8354978354978355, 0.8025974025974024, 0.8259740259740258, 0.8170995670995671, 0.8311688311688311, 0.8311688311688311, 0.8170995670995669, 0.7969696969696969, 0.8303030303030303, 0.8259740259740258, 0.8448051948051948, 0.8307359307359308, 0.5746753246753247, 0.8266233766233766, 0.8307359307359306, 0.8218614718614718, 0.8497835497835498, 0.8404761904761904, 0.854112554112554]}, {\"categories\": [\"0\", \"1\", \"2\", \"3\", \"4\", \"5\", \"6\", \"7\", \"8\", \"9\", \"10\", \"11\", \"12\", \"13\", \"14\", \"15\", \"16\", \"17\", \"18\", \"19\", \"20\", \"21\", \"22\", \"23\", \"24\", \"25\", \"26\", \"27\", \"28\", \"29\", \"30\", \"31\", \"32\", \"33\", \"34\", \"38\", \"39\"], \"mode\": \"lines\", \"name\": \"accuracy_max\", \"stepped\": true, \"type\": \"scatter\", \"data\": [0.798051948051948, 0.8123376623376624, 0.8123376623376624, 0.84025974025974, 0.84025974025974, 0.84025974025974, 0.84025974025974, 0.84025974025974, 0.84025974025974, 0.84025974025974, 0.84025974025974, 0.84025974025974, 0.84025974025974, 0.84025974025974, 0.84025974025974, 0.854112554112554, 0.854112554112554, 0.854112554112554, 0.854112554112554, 0.854112554112554, 0.854112554112554, 0.854112554112554, 0.854112554112554, 0.854112554112554, 0.854112554112554, 0.854112554112554, 0.854112554112554, 0.854112554112554, 0.854112554112554, 0.854112554112554, 0.854112554112554, 0.854112554112554, 0.854112554112554, 0.854112554112554, 0.854112554112554, 0.854112554112554, 0.854112554112554]}], \"recall_score_weighted\": [{\"categories\": [\"0\", \"1\", \"2\", \"3\", \"4\", \"5\", \"6\", \"7\", \"8\", \"9\", \"10\", \"11\", \"12\", \"13\", \"14\", \"15\", \"16\", \"17\", \"18\", \"19\", \"20\", \"21\", \"22\", \"23\", \"24\", \"25\", \"26\", \"27\", \"28\", \"29\", \"30\", \"31\", \"32\", \"33\", \"34\", \"38\", \"39\"], \"mode\": \"markers\", \"name\": \"recall_score_weighted\", \"stepped\": false, \"type\": \"scatter\", \"data\": [0.798051948051948, 0.8123376623376624, 0.8123376623376624, 0.84025974025974, 0.8175324675324676, 0.8023809523809524, 0.8354978354978355, 0.8311688311688311, 0.8028138528138529, 0.8307359307359308, 0.8025974025974026, 0.8119047619047619, 0.8166666666666667, 0.8168831168831169, 0.803030303030303, 0.854112554112554, 0.798051948051948, 0.8497835497835498, 0.8354978354978355, 0.8025974025974024, 0.8259740259740258, 0.8170995670995671, 0.8311688311688311, 0.8311688311688311, 0.8170995670995669, 0.7969696969696969, 0.8303030303030303, 0.8259740259740258, 0.8448051948051948, 0.8307359307359308, 0.5746753246753247, 0.8266233766233766, 0.8307359307359306, 0.8218614718614718, 0.8497835497835498, 0.8404761904761904, 0.854112554112554]}, {\"categories\": [\"0\", \"1\", \"2\", \"3\", \"4\", \"5\", \"6\", \"7\", \"8\", \"9\", \"10\", \"11\", \"12\", \"13\", \"14\", \"15\", \"16\", \"17\", \"18\", \"19\", \"20\", \"21\", \"22\", \"23\", \"24\", \"25\", \"26\", \"27\", \"28\", \"29\", \"30\", \"31\", \"32\", \"33\", \"34\", \"38\", \"39\"], \"mode\": \"lines\", \"name\": \"recall_score_weighted_max\", \"stepped\": true, \"type\": \"scatter\", \"data\": [0.798051948051948, 0.8123376623376624, 0.8123376623376624, 0.84025974025974, 0.84025974025974, 0.84025974025974, 0.84025974025974, 0.84025974025974, 0.84025974025974, 0.84025974025974, 0.84025974025974, 0.84025974025974, 0.84025974025974, 0.84025974025974, 0.84025974025974, 0.854112554112554, 0.854112554112554, 0.854112554112554, 0.854112554112554, 0.854112554112554, 0.854112554112554, 0.854112554112554, 0.854112554112554, 0.854112554112554, 0.854112554112554, 0.854112554112554, 0.854112554112554, 0.854112554112554, 0.854112554112554, 0.854112554112554, 0.854112554112554, 0.854112554112554, 0.854112554112554, 0.854112554112554, 0.854112554112554, 0.854112554112554, 0.854112554112554]}], \"precision_score_macro\": [{\"categories\": [\"0\", \"1\", \"2\", \"3\", \"4\", \"5\", \"6\", \"7\", \"8\", \"9\", \"10\", \"11\", \"12\", \"13\", \"14\", \"15\", \"16\", \"17\", \"18\", \"19\", \"20\", \"21\", \"22\", \"23\", \"24\", \"25\", \"26\", \"27\", \"28\", \"29\", \"30\", \"31\", \"32\", \"33\", \"34\", \"38\", \"39\"], \"mode\": \"markers\", \"name\": \"precision_score_macro\", \"stepped\": false, \"type\": \"scatter\", \"data\": [0.7907287157287156, 0.7966450216450216, 0.8055461205461206, 0.8345543345543346, 0.8173391885891886, 0.7925792957042956, 0.8282081807081807, 0.8255845543345541, 0.8004373077902491, 0.8284670884670884, 0.8016052003552003, 0.8061398323898323, 0.8092654567654568, 0.8053518009768009, 0.7957814407814408, 0.8571964146964147, 0.7964022089022089, 0.839765651015651, 0.8229979742479742, 0.7973716561216561, 0.8248847067964714, 0.8108660783660785, 0.8224557387057386, 0.8258592796092795, 0.8092149517149517, 0.7896085858585858, 0.8247957597957598, 0.8248840742590744, 0.8364758158508158, 0.8206242368742368, 0.28733766233766234, 0.8245421245421245, 0.8193475274725275, 0.8152869352869352, 0.850455586080586, 0.8366254578754578, 0.8542452686202686]}, {\"categories\": [\"0\", \"1\", \"2\", \"3\", \"4\", \"5\", \"6\", \"7\", \"8\", \"9\", \"10\", \"11\", \"12\", \"13\", \"14\", \"15\", \"16\", \"17\", \"18\", \"19\", \"20\", \"21\", \"22\", \"23\", \"24\", \"25\", \"26\", \"27\", \"28\", \"29\", \"30\", \"31\", \"32\", \"33\", \"34\", \"38\", \"39\"], \"mode\": \"lines\", \"name\": \"precision_score_macro_max\", \"stepped\": true, \"type\": \"scatter\", \"data\": [0.7907287157287156, 0.7966450216450216, 0.8055461205461206, 0.8345543345543346, 0.8345543345543346, 0.8345543345543346, 0.8345543345543346, 0.8345543345543346, 0.8345543345543346, 0.8345543345543346, 0.8345543345543346, 0.8345543345543346, 0.8345543345543346, 0.8345543345543346, 0.8345543345543346, 0.8571964146964147, 0.8571964146964147, 0.8571964146964147, 0.8571964146964147, 0.8571964146964147, 0.8571964146964147, 0.8571964146964147, 0.8571964146964147, 0.8571964146964147, 0.8571964146964147, 0.8571964146964147, 0.8571964146964147, 0.8571964146964147, 0.8571964146964147, 0.8571964146964147, 0.8571964146964147, 0.8571964146964147, 0.8571964146964147, 0.8571964146964147, 0.8571964146964147, 0.8571964146964147, 0.8571964146964147]}], \"AUC_weighted\": [{\"categories\": [\"0\", \"1\", \"2\", \"3\", \"4\", \"5\", \"6\", \"7\", \"8\", \"9\", \"10\", \"11\", \"12\", \"13\", \"14\", \"15\", \"16\", \"17\", \"18\", \"19\", \"20\", \"21\", \"22\", \"23\", \"24\", \"25\", \"26\", \"27\", \"28\", \"29\", \"30\", \"31\", \"32\", \"33\", \"34\", \"38\", \"39\"], \"mode\": \"markers\", \"name\": \"AUC_weighted\", \"stepped\": false, \"type\": \"scatter\", \"data\": [0.892592601920333, 0.8979309594855813, 0.9002172590092758, 0.9131677457307708, 0.9015514379800095, 0.893417428743059, 0.9249168424168422, 0.9212954948879319, 0.907043517484694, 0.9174891444534301, 0.8883124127661943, 0.9099413219056075, 0.9122118489975634, 0.8999641344494286, 0.8905040582666632, 0.8960017839692209, 0.8979070777495146, 0.91745029441458, 0.9076955782312925, 0.901737346065077, 0.9117340312193253, 0.907397085096665, 0.9201356976356976, 0.916589387503253, 0.9116226564440849, 0.9109212612784041, 0.9093457534528964, 0.9135245026526538, 0.9033539278182134, 0.9145722379861034, 0.8803632105522862, 0.9066768311831337, 0.8976470965231469, 0.9148123484047854, 0.914438603724318, 0.9342619814048385, 0.9267537687180545]}, {\"categories\": [\"0\", \"1\", \"2\", \"3\", \"4\", \"5\", \"6\", \"7\", \"8\", \"9\", \"10\", \"11\", \"12\", \"13\", \"14\", \"15\", \"16\", \"17\", \"18\", \"19\", \"20\", \"21\", \"22\", \"23\", \"24\", \"25\", \"26\", \"27\", \"28\", \"29\", \"30\", \"31\", \"32\", \"33\", \"34\", \"38\", \"39\"], \"mode\": \"lines\", \"name\": \"AUC_weighted_max\", \"stepped\": true, \"type\": \"scatter\", \"data\": [0.892592601920333, 0.8979309594855813, 0.9002172590092758, 0.9131677457307708, 0.9131677457307708, 0.9131677457307708, 0.9249168424168422, 0.9249168424168422, 0.9249168424168422, 0.9249168424168422, 0.9249168424168422, 0.9249168424168422, 0.9249168424168422, 0.9249168424168422, 0.9249168424168422, 0.9249168424168422, 0.9249168424168422, 0.9249168424168422, 0.9249168424168422, 0.9249168424168422, 0.9249168424168422, 0.9249168424168422, 0.9249168424168422, 0.9249168424168422, 0.9249168424168422, 0.9249168424168422, 0.9249168424168422, 0.9249168424168422, 0.9249168424168422, 0.9249168424168422, 0.9249168424168422, 0.9249168424168422, 0.9249168424168422, 0.9249168424168422, 0.9249168424168422, 0.9342619814048385, 0.9342619814048385]}], \"average_precision_score_micro\": [{\"categories\": [\"0\", \"1\", \"2\", \"3\", \"4\", \"5\", \"6\", \"7\", \"8\", \"9\", \"10\", \"11\", \"12\", \"13\", \"14\", \"15\", \"16\", \"17\", \"18\", \"19\", \"20\", \"21\", \"22\", \"23\", \"24\", \"25\", \"26\", \"27\", \"28\", \"29\", \"30\", \"31\", \"32\", \"33\", \"34\", \"38\", \"39\"], \"mode\": \"markers\", \"name\": \"average_precision_score_micro\", \"stepped\": false, \"type\": \"scatter\", \"data\": [0.882458441036291, 0.8965641021564767, 0.9029693304947864, 0.9116328524689876, 0.9024362655175538, 0.88246327329744, 0.9116168519223347, 0.9113287041871819, 0.8934348471374225, 0.9098379728227665, 0.8818989290904357, 0.9069506182109661, 0.8970164892431391, 0.8968543731356855, 0.8912608297869025, 0.873859986148207, 0.8885450526036769, 0.9086592776752088, 0.9042913722610386, 0.8932740621642598, 0.9063877989104527, 0.9057929533862031, 0.9180679436274556, 0.915839671387101, 0.9103045662463212, 0.9047467562685002, 0.8995166200661997, 0.9043898134850004, 0.8956343447042304, 0.9082974058580902, 0.7829176356581853, 0.9023333180768734, 0.9010310594845423, 0.9125246979421553, 0.9085990703082496, 0.9203223580658813, 0.9132514695985128]}, {\"categories\": [\"0\", \"1\", \"2\", \"3\", \"4\", \"5\", \"6\", \"7\", \"8\", \"9\", \"10\", \"11\", \"12\", \"13\", \"14\", \"15\", \"16\", \"17\", \"18\", \"19\", \"20\", \"21\", \"22\", \"23\", \"24\", \"25\", \"26\", \"27\", \"28\", \"29\", \"30\", \"31\", \"32\", \"33\", \"34\", \"38\", \"39\"], \"mode\": \"lines\", \"name\": \"average_precision_score_micro_max\", \"stepped\": true, \"type\": \"scatter\", \"data\": [0.882458441036291, 0.8965641021564767, 0.9029693304947864, 0.9116328524689876, 0.9116328524689876, 0.9116328524689876, 0.9116328524689876, 0.9116328524689876, 0.9116328524689876, 0.9116328524689876, 0.9116328524689876, 0.9116328524689876, 0.9116328524689876, 0.9116328524689876, 0.9116328524689876, 0.9116328524689876, 0.9116328524689876, 0.9116328524689876, 0.9116328524689876, 0.9116328524689876, 0.9116328524689876, 0.9116328524689876, 0.9180679436274556, 0.9180679436274556, 0.9180679436274556, 0.9180679436274556, 0.9180679436274556, 0.9180679436274556, 0.9180679436274556, 0.9180679436274556, 0.9180679436274556, 0.9180679436274556, 0.9180679436274556, 0.9180679436274556, 0.9180679436274556, 0.9203223580658813, 0.9203223580658813]}], \"recall_score_macro\": [{\"categories\": [\"0\", \"1\", \"2\", \"3\", \"4\", \"5\", \"6\", \"7\", \"8\", \"9\", \"10\", \"11\", \"12\", \"13\", \"14\", \"15\", \"16\", \"17\", \"18\", \"19\", \"20\", \"21\", \"22\", \"23\", \"24\", \"25\", \"26\", \"27\", \"28\", \"29\", \"30\", \"31\", \"32\", \"33\", \"34\", \"38\", \"39\"], \"mode\": \"markers\", \"name\": \"recall_score_macro\", \"stepped\": false, \"type\": \"scatter\", \"data\": [0.7984408728526374, 0.8025083331700978, 0.8133542437954201, 0.8482888027005673, 0.8156922734128618, 0.7949749433572962, 0.838653666594843, 0.8324799791711556, 0.8028777839807251, 0.8465496676526089, 0.8223020198755492, 0.8206464940288469, 0.8254612625936154, 0.8154513133924898, 0.7897509516627164, 0.8550881553087436, 0.8143124604154016, 0.8587510691922455, 0.845049452181805, 0.8141167247784896, 0.8317527488851016, 0.8220983265100912, 0.8302559531971296, 0.8387404833728362, 0.8231481100598748, 0.8070040253863784, 0.8427934647052295, 0.8367527488851019, 0.856301255933609, 0.8421773243096773, 0.5, 0.834754004165769, 0.827514805455982, 0.8225516232133879, 0.8450808015513898, 0.8460712490124255, 0.8608133125044889]}, {\"categories\": [\"0\", \"1\", \"2\", \"3\", \"4\", \"5\", \"6\", \"7\", \"8\", \"9\", \"10\", \"11\", \"12\", \"13\", \"14\", \"15\", \"16\", \"17\", \"18\", \"19\", \"20\", \"21\", \"22\", \"23\", \"24\", \"25\", \"26\", \"27\", \"28\", \"29\", \"30\", \"31\", \"32\", \"33\", \"34\", \"38\", \"39\"], \"mode\": \"lines\", \"name\": \"recall_score_macro_max\", \"stepped\": true, \"type\": \"scatter\", \"data\": [0.7984408728526374, 0.8025083331700978, 0.8133542437954201, 0.8482888027005673, 0.8482888027005673, 0.8482888027005673, 0.8482888027005673, 0.8482888027005673, 0.8482888027005673, 0.8482888027005673, 0.8482888027005673, 0.8482888027005673, 0.8482888027005673, 0.8482888027005673, 0.8482888027005673, 0.8550881553087436, 0.8550881553087436, 0.8587510691922455, 0.8587510691922455, 0.8587510691922455, 0.8587510691922455, 0.8587510691922455, 0.8587510691922455, 0.8587510691922455, 0.8587510691922455, 0.8587510691922455, 0.8587510691922455, 0.8587510691922455, 0.8587510691922455, 0.8587510691922455, 0.8587510691922455, 0.8587510691922455, 0.8587510691922455, 0.8587510691922455, 0.8587510691922455, 0.8587510691922455, 0.8608133125044889]}], \"average_precision_score_weighted\": [{\"categories\": [\"0\", \"1\", \"2\", \"3\", \"4\", \"5\", \"6\", \"7\", \"8\", \"9\", \"10\", \"11\", \"12\", \"13\", \"14\", \"15\", \"16\", \"17\", \"18\", \"19\", \"20\", \"21\", \"22\", \"23\", \"24\", \"25\", \"26\", \"27\", \"28\", \"29\", \"30\", \"31\", \"32\", \"33\", \"34\", \"38\", \"39\"], \"mode\": \"markers\", \"name\": \"average_precision_score_weighted\", \"stepped\": false, \"type\": \"scatter\", \"data\": [0.9081350977931834, 0.9113051158887172, 0.9159709051428575, 0.9229063657450134, 0.917044446905882, 0.9032123894726173, 0.9297453007061336, 0.9306699467344142, 0.9176353568589004, 0.9284807735705117, 0.9003357395924543, 0.9241680002508879, 0.9217001322896742, 0.9127953600375547, 0.9065744421785846, 0.8872855365318225, 0.909697699945981, 0.9258990945857679, 0.9217744742804047, 0.9102792806067453, 0.9186720897506049, 0.9194647015435031, 0.9303954229600816, 0.9278885448384564, 0.9241960899015551, 0.92253403888016, 0.920559140899271, 0.9202178269089281, 0.9150206541221679, 0.9237457246089791, 0.8923124608639366, 0.9182128030740369, 0.910018189584753, 0.928030013681601, 0.9223484341465626, 0.940834235856375, 0.9346224314341047]}, {\"categories\": [\"0\", \"1\", \"2\", \"3\", \"4\", \"5\", \"6\", \"7\", \"8\", \"9\", \"10\", \"11\", \"12\", \"13\", \"14\", \"15\", \"16\", \"17\", \"18\", \"19\", \"20\", \"21\", \"22\", \"23\", \"24\", \"25\", \"26\", \"27\", \"28\", \"29\", \"30\", \"31\", \"32\", \"33\", \"34\", \"38\", \"39\"], \"mode\": \"lines\", \"name\": \"average_precision_score_weighted_max\", \"stepped\": true, \"type\": \"scatter\", \"data\": [0.9081350977931834, 0.9113051158887172, 0.9159709051428575, 0.9229063657450134, 0.9229063657450134, 0.9229063657450134, 0.9297453007061336, 0.9306699467344142, 0.9306699467344142, 0.9306699467344142, 0.9306699467344142, 0.9306699467344142, 0.9306699467344142, 0.9306699467344142, 0.9306699467344142, 0.9306699467344142, 0.9306699467344142, 0.9306699467344142, 0.9306699467344142, 0.9306699467344142, 0.9306699467344142, 0.9306699467344142, 0.9306699467344142, 0.9306699467344142, 0.9306699467344142, 0.9306699467344142, 0.9306699467344142, 0.9306699467344142, 0.9306699467344142, 0.9306699467344142, 0.9306699467344142, 0.9306699467344142, 0.9306699467344142, 0.9306699467344142, 0.9306699467344142, 0.940834235856375, 0.940834235856375]}], \"average_precision_score_macro\": [{\"categories\": [\"0\", \"1\", \"2\", \"3\", \"4\", \"5\", \"6\", \"7\", \"8\", \"9\", \"10\", \"11\", \"12\", \"13\", \"14\", \"15\", \"16\", \"17\", \"18\", \"19\", \"20\", \"21\", \"22\", \"23\", \"24\", \"25\", \"26\", \"27\", \"28\", \"29\", \"30\", \"31\", \"32\", \"33\", \"34\", \"38\", \"39\"], \"mode\": \"markers\", \"name\": \"average_precision_score_macro\", \"stepped\": false, \"type\": \"scatter\", \"data\": [0.89202839273572, 0.8906305346477928, 0.9009391116351478, 0.906084819175204, 0.9042022663054432, 0.8796825884708804, 0.9159776484076184, 0.9175191797479691, 0.8987453125092149, 0.9179060020591386, 0.8793516365105072, 0.9160558420794886, 0.9088500391631487, 0.8974049420445791, 0.8895859447493107, 0.8636666801876484, 0.8947509402109807, 0.9131413990368177, 0.9109905731495853, 0.8925128207816572, 0.902222866823122, 0.9053625455005168, 0.9191545104549237, 0.9150227209180013, 0.9125632859187707, 0.912074257060941, 0.9073863049876127, 0.9037607146898946, 0.9028721242648808, 0.9100427572812786, 0.8775695596282466, 0.9017721117741553, 0.8907939475205234, 0.9144760012697049, 0.9103283174066498, 0.9295166561231959, 0.9227576966536273]}, {\"categories\": [\"0\", \"1\", \"2\", \"3\", \"4\", \"5\", \"6\", \"7\", \"8\", \"9\", \"10\", \"11\", \"12\", \"13\", \"14\", \"15\", \"16\", \"17\", \"18\", \"19\", \"20\", \"21\", \"22\", \"23\", \"24\", \"25\", \"26\", \"27\", \"28\", \"29\", \"30\", \"31\", \"32\", \"33\", \"34\", \"38\", \"39\"], \"mode\": \"lines\", \"name\": \"average_precision_score_macro_max\", \"stepped\": true, \"type\": \"scatter\", \"data\": [0.89202839273572, 0.89202839273572, 0.9009391116351478, 0.906084819175204, 0.906084819175204, 0.906084819175204, 0.9159776484076184, 0.9175191797479691, 0.9175191797479691, 0.9179060020591386, 0.9179060020591386, 0.9179060020591386, 0.9179060020591386, 0.9179060020591386, 0.9179060020591386, 0.9179060020591386, 0.9179060020591386, 0.9179060020591386, 0.9179060020591386, 0.9179060020591386, 0.9179060020591386, 0.9179060020591386, 0.9191545104549237, 0.9191545104549237, 0.9191545104549237, 0.9191545104549237, 0.9191545104549237, 0.9191545104549237, 0.9191545104549237, 0.9191545104549237, 0.9191545104549237, 0.9191545104549237, 0.9191545104549237, 0.9191545104549237, 0.9191545104549237, 0.9295166561231959, 0.9295166561231959]}], \"AUC_macro\": [{\"categories\": [\"0\", \"1\", \"2\", \"3\", \"4\", \"5\", \"6\", \"7\", \"8\", \"9\", \"10\", \"11\", \"12\", \"13\", \"14\", \"15\", \"16\", \"17\", \"18\", \"19\", \"20\", \"21\", \"22\", \"23\", \"24\", \"25\", \"26\", \"27\", \"28\", \"29\", \"30\", \"31\", \"32\", \"33\", \"34\", \"38\", \"39\"], \"mode\": \"markers\", \"name\": \"AUC_macro\", \"stepped\": false, \"type\": \"scatter\", \"data\": [0.892592601920333, 0.8979309594855813, 0.9002172590092758, 0.913167745730771, 0.9015514379800095, 0.893417428743059, 0.9249168424168424, 0.9212954948879319, 0.9070435174846938, 0.9174891444534301, 0.8883124127661943, 0.9099413219056075, 0.9122118489975632, 0.8999641344494286, 0.8905040582666632, 0.8960017839692209, 0.8979070777495147, 0.91745029441458, 0.9076955782312925, 0.9017373460650772, 0.9117340312193253, 0.907397085096665, 0.9201356976356976, 0.916589387503253, 0.9116226564440849, 0.9109212612784041, 0.9093457534528964, 0.9135245026526538, 0.9033539278182137, 0.9145722379861037, 0.8803632105522862, 0.9066768311831337, 0.8976470965231471, 0.9148123484047854, 0.914438603724318, 0.9342619814048385, 0.9267537687180545]}, {\"categories\": [\"0\", \"1\", \"2\", \"3\", \"4\", \"5\", \"6\", \"7\", \"8\", \"9\", \"10\", \"11\", \"12\", \"13\", \"14\", \"15\", \"16\", \"17\", \"18\", \"19\", \"20\", \"21\", \"22\", \"23\", \"24\", \"25\", \"26\", \"27\", \"28\", \"29\", \"30\", \"31\", \"32\", \"33\", \"34\", \"38\", \"39\"], \"mode\": \"lines\", \"name\": \"AUC_macro_max\", \"stepped\": true, \"type\": \"scatter\", \"data\": [0.892592601920333, 0.8979309594855813, 0.9002172590092758, 0.913167745730771, 0.913167745730771, 0.913167745730771, 0.9249168424168424, 0.9249168424168424, 0.9249168424168424, 0.9249168424168424, 0.9249168424168424, 0.9249168424168424, 0.9249168424168424, 0.9249168424168424, 0.9249168424168424, 0.9249168424168424, 0.9249168424168424, 0.9249168424168424, 0.9249168424168424, 0.9249168424168424, 0.9249168424168424, 0.9249168424168424, 0.9249168424168424, 0.9249168424168424, 0.9249168424168424, 0.9249168424168424, 0.9249168424168424, 0.9249168424168424, 0.9249168424168424, 0.9249168424168424, 0.9249168424168424, 0.9249168424168424, 0.9249168424168424, 0.9249168424168424, 0.9249168424168424, 0.9342619814048385, 0.9342619814048385]}], \"balanced_accuracy\": [{\"categories\": [\"0\", \"1\", \"2\", \"3\", \"4\", \"5\", \"6\", \"7\", \"8\", \"9\", \"10\", \"11\", \"12\", \"13\", \"14\", \"15\", \"16\", \"17\", \"18\", \"19\", \"20\", \"21\", \"22\", \"23\", \"24\", \"25\", \"26\", \"27\", \"28\", \"29\", \"30\", \"31\", \"32\", \"33\", \"34\", \"38\", \"39\"], \"mode\": \"markers\", \"name\": \"balanced_accuracy\", \"stepped\": false, \"type\": \"scatter\", \"data\": [0.7984408728526374, 0.8025083331700978, 0.8133542437954201, 0.8482888027005673, 0.8156922734128618, 0.7949749433572962, 0.838653666594843, 0.8324799791711556, 0.8028777839807251, 0.8465496676526089, 0.8223020198755492, 0.8206464940288469, 0.8254612625936154, 0.8154513133924898, 0.7897509516627164, 0.8550881553087436, 0.8143124604154016, 0.8587510691922455, 0.845049452181805, 0.8141167247784896, 0.8317527488851016, 0.8220983265100912, 0.8302559531971296, 0.8387404833728362, 0.8231481100598748, 0.8070040253863784, 0.8427934647052295, 0.8367527488851019, 0.856301255933609, 0.8421773243096773, 0.5, 0.834754004165769, 0.827514805455982, 0.8225516232133879, 0.8450808015513898, 0.8460712490124255, 0.8608133125044889]}, {\"categories\": [\"0\", \"1\", \"2\", \"3\", \"4\", \"5\", \"6\", \"7\", \"8\", \"9\", \"10\", \"11\", \"12\", \"13\", \"14\", \"15\", \"16\", \"17\", \"18\", \"19\", \"20\", \"21\", \"22\", \"23\", \"24\", \"25\", \"26\", \"27\", \"28\", \"29\", \"30\", \"31\", \"32\", \"33\", \"34\", \"38\", \"39\"], \"mode\": \"lines\", \"name\": \"balanced_accuracy_max\", \"stepped\": true, \"type\": \"scatter\", \"data\": [0.7984408728526374, 0.8025083331700978, 0.8133542437954201, 0.8482888027005673, 0.8482888027005673, 0.8482888027005673, 0.8482888027005673, 0.8482888027005673, 0.8482888027005673, 0.8482888027005673, 0.8482888027005673, 0.8482888027005673, 0.8482888027005673, 0.8482888027005673, 0.8482888027005673, 0.8550881553087436, 0.8550881553087436, 0.8587510691922455, 0.8587510691922455, 0.8587510691922455, 0.8587510691922455, 0.8587510691922455, 0.8587510691922455, 0.8587510691922455, 0.8587510691922455, 0.8587510691922455, 0.8587510691922455, 0.8587510691922455, 0.8587510691922455, 0.8587510691922455, 0.8587510691922455, 0.8587510691922455, 0.8587510691922455, 0.8587510691922455, 0.8587510691922455, 0.8587510691922455, 0.8608133125044889]}], \"f1_score_micro\": [{\"categories\": [\"0\", \"1\", \"2\", \"3\", \"4\", \"5\", \"6\", \"7\", \"8\", \"9\", \"10\", \"11\", \"12\", \"13\", \"14\", \"15\", \"16\", \"17\", \"18\", \"19\", \"20\", \"21\", \"22\", \"23\", \"24\", \"25\", \"26\", \"27\", \"28\", \"29\", \"30\", \"31\", \"32\", \"33\", \"34\", \"38\", \"39\"], \"mode\": \"markers\", \"name\": \"f1_score_micro\", \"stepped\": false, \"type\": \"scatter\", \"data\": [0.798051948051948, 0.8123376623376624, 0.8123376623376624, 0.84025974025974, 0.8175324675324676, 0.8023809523809524, 0.8354978354978355, 0.8311688311688311, 0.8028138528138529, 0.8307359307359308, 0.8025974025974026, 0.8119047619047619, 0.8166666666666667, 0.8168831168831169, 0.803030303030303, 0.854112554112554, 0.798051948051948, 0.8497835497835498, 0.8354978354978355, 0.8025974025974024, 0.8259740259740258, 0.8170995670995671, 0.8311688311688311, 0.8311688311688311, 0.8170995670995669, 0.7969696969696969, 0.8303030303030303, 0.8259740259740258, 0.8448051948051948, 0.8307359307359308, 0.5746753246753247, 0.8266233766233766, 0.8307359307359306, 0.8218614718614718, 0.8497835497835498, 0.8404761904761904, 0.854112554112554]}, {\"categories\": [\"0\", \"1\", \"2\", \"3\", \"4\", \"5\", \"6\", \"7\", \"8\", \"9\", \"10\", \"11\", \"12\", \"13\", \"14\", \"15\", \"16\", \"17\", \"18\", \"19\", \"20\", \"21\", \"22\", \"23\", \"24\", \"25\", \"26\", \"27\", \"28\", \"29\", \"30\", \"31\", \"32\", \"33\", \"34\", \"38\", \"39\"], \"mode\": \"lines\", \"name\": \"f1_score_micro_max\", \"stepped\": true, \"type\": \"scatter\", \"data\": [0.798051948051948, 0.8123376623376624, 0.8123376623376624, 0.84025974025974, 0.84025974025974, 0.84025974025974, 0.84025974025974, 0.84025974025974, 0.84025974025974, 0.84025974025974, 0.84025974025974, 0.84025974025974, 0.84025974025974, 0.84025974025974, 0.84025974025974, 0.854112554112554, 0.854112554112554, 0.854112554112554, 0.854112554112554, 0.854112554112554, 0.854112554112554, 0.854112554112554, 0.854112554112554, 0.854112554112554, 0.854112554112554, 0.854112554112554, 0.854112554112554, 0.854112554112554, 0.854112554112554, 0.854112554112554, 0.854112554112554, 0.854112554112554, 0.854112554112554, 0.854112554112554, 0.854112554112554, 0.854112554112554, 0.854112554112554]}], \"weighted_accuracy\": [{\"categories\": [\"0\", \"1\", \"2\", \"3\", \"4\", \"5\", \"6\", \"7\", \"8\", \"9\", \"10\", \"11\", \"12\", \"13\", \"14\", \"15\", \"16\", \"17\", \"18\", \"19\", \"20\", \"21\", \"22\", \"23\", \"24\", \"25\", \"26\", \"27\", \"28\", \"29\", \"30\", \"31\", \"32\", \"33\", \"34\", \"38\", \"39\"], \"mode\": \"markers\", \"name\": \"weighted_accuracy\", \"stepped\": false, \"type\": \"scatter\", \"data\": [0.8003128441199181, 0.8199586546287412, 0.8131381146705048, 0.8364248047907619, 0.8199363511784933, 0.8085986084127862, 0.8346507354403174, 0.8317242510666352, 0.8065834879284765, 0.8214855522597382, 0.7906376538929487, 0.8078271398686768, 0.8127878295388719, 0.8200745418597435, 0.813677987115973, 0.8542728728330593, 0.7883054346723909, 0.8438954594111205, 0.8304323045622917, 0.7952183538779993, 0.82407712608323, 0.8152098787020539, 0.8335252997002135, 0.8279587398179995, 0.8143764376333186, 0.7915457312999671, 0.8222918488489288, 0.8200578563877043, 0.8379826447717296, 0.8241159952719859, 0.6247876909076406, 0.8227321135967396, 0.8324028852357281, 0.8238860892517719, 0.854874440816008, 0.837675390056401, 0.8505226789161581]}, {\"categories\": [\"0\", \"1\", \"2\", \"3\", \"4\", \"5\", \"6\", \"7\", \"8\", \"9\", \"10\", \"11\", \"12\", \"13\", \"14\", \"15\", \"16\", \"17\", \"18\", \"19\", \"20\", \"21\", \"22\", \"23\", \"24\", \"25\", \"26\", \"27\", \"28\", \"29\", \"30\", \"31\", \"32\", \"33\", \"34\", \"38\", \"39\"], \"mode\": \"lines\", \"name\": \"weighted_accuracy_max\", \"stepped\": true, \"type\": \"scatter\", \"data\": [0.8003128441199181, 0.8199586546287412, 0.8199586546287412, 0.8364248047907619, 0.8364248047907619, 0.8364248047907619, 0.8364248047907619, 0.8364248047907619, 0.8364248047907619, 0.8364248047907619, 0.8364248047907619, 0.8364248047907619, 0.8364248047907619, 0.8364248047907619, 0.8364248047907619, 0.8542728728330593, 0.8542728728330593, 0.8542728728330593, 0.8542728728330593, 0.8542728728330593, 0.8542728728330593, 0.8542728728330593, 0.8542728728330593, 0.8542728728330593, 0.8542728728330593, 0.8542728728330593, 0.8542728728330593, 0.8542728728330593, 0.8542728728330593, 0.8542728728330593, 0.8542728728330593, 0.8542728728330593, 0.8542728728330593, 0.8542728728330593, 0.854874440816008, 0.854874440816008, 0.854874440816008]}], \"norm_macro_recall\": [{\"categories\": [\"0\", \"1\", \"2\", \"3\", \"4\", \"5\", \"6\", \"7\", \"8\", \"9\", \"10\", \"11\", \"12\", \"13\", \"14\", \"15\", \"16\", \"17\", \"18\", \"19\", \"20\", \"21\", \"22\", \"23\", \"24\", \"25\", \"26\", \"27\", \"28\", \"29\", \"30\", \"31\", \"32\", \"33\", \"34\", \"38\", \"39\"], \"mode\": \"markers\", \"name\": \"norm_macro_recall\", \"stepped\": false, \"type\": \"scatter\", \"data\": [0.5968817457052751, 0.6050166663401957, 0.6267084875908405, 0.6965776054011348, 0.6313845468257233, 0.5899498867145926, 0.6773073331896862, 0.6649599583423111, 0.6057555679614504, 0.6930993353052177, 0.6446040397510985, 0.641292988057694, 0.650922525187231, 0.6309026267849797, 0.5795019033254326, 0.7101763106174871, 0.6286249208308032, 0.7175021383844913, 0.6900989043636102, 0.6282334495569788, 0.6635054977702036, 0.6441966530201824, 0.6605119063942593, 0.6774809667456726, 0.6462962201197495, 0.6140080507727567, 0.6855869294104588, 0.6735054977702036, 0.7126025118672178, 0.6843546486193544, 0.0, 0.6695080083315377, 0.6550296109119638, 0.6451032464267757, 0.6901616031027796, 0.692142498024851, 0.7216266250089779]}, {\"categories\": [\"0\", \"1\", \"2\", \"3\", \"4\", \"5\", \"6\", \"7\", \"8\", \"9\", \"10\", \"11\", \"12\", \"13\", \"14\", \"15\", \"16\", \"17\", \"18\", \"19\", \"20\", \"21\", \"22\", \"23\", \"24\", \"25\", \"26\", \"27\", \"28\", \"29\", \"30\", \"31\", \"32\", \"33\", \"34\", \"38\", \"39\"], \"mode\": \"lines\", \"name\": \"norm_macro_recall_max\", \"stepped\": true, \"type\": \"scatter\", \"data\": [0.5968817457052751, 0.6050166663401957, 0.6267084875908405, 0.6965776054011348, 0.6965776054011348, 0.6965776054011348, 0.6965776054011348, 0.6965776054011348, 0.6965776054011348, 0.6965776054011348, 0.6965776054011348, 0.6965776054011348, 0.6965776054011348, 0.6965776054011348, 0.6965776054011348, 0.7101763106174871, 0.7101763106174871, 0.7175021383844913, 0.7175021383844913, 0.7175021383844913, 0.7175021383844913, 0.7175021383844913, 0.7175021383844913, 0.7175021383844913, 0.7175021383844913, 0.7175021383844913, 0.7175021383844913, 0.7175021383844913, 0.7175021383844913, 0.7175021383844913, 0.7175021383844913, 0.7175021383844913, 0.7175021383844913, 0.7175021383844913, 0.7175021383844913, 0.7175021383844913, 0.7216266250089779]}], \"precision_score_weighted\": [{\"categories\": [\"0\", \"1\", \"2\", \"3\", \"4\", \"5\", \"6\", \"7\", \"8\", \"9\", \"10\", \"11\", \"12\", \"13\", \"14\", \"15\", \"16\", \"17\", \"18\", \"19\", \"20\", \"21\", \"22\", \"23\", \"24\", \"25\", \"26\", \"27\", \"28\", \"29\", \"30\", \"31\", \"32\", \"33\", \"34\", \"38\", \"39\"], \"mode\": \"markers\", \"name\": \"precision_score_weighted\", \"stepped\": false, \"type\": \"scatter\", \"data\": [0.8215745894317322, 0.8268508211365354, 0.8358038258038258, 0.8665453594025022, 0.8400284239569954, 0.8234513006834435, 0.8572083934583935, 0.854032079032079, 0.8351476192652664, 0.8662464849964848, 0.8433284770784771, 0.8417273467273467, 0.8444445831945832, 0.8347773985273985, 0.824007104007104, 0.8772951122951123, 0.8355352079378052, 0.8704480241980243, 0.8573696211196211, 0.8338217866789295, 0.8576610698669521, 0.844742070099213, 0.8509391534391535, 0.8601370851370851, 0.8443206396777825, 0.8253645296502441, 0.8573530305673163, 0.8605468142968142, 0.8709011127761126, 0.8556596644096643, 0.347527688761455, 0.8581493902922475, 0.8488574851074852, 0.8478385106956535, 0.8695748596641455, 0.866918081918082, 0.8814509102009103]}, {\"categories\": [\"0\", \"1\", \"2\", \"3\", \"4\", \"5\", \"6\", \"7\", \"8\", \"9\", \"10\", \"11\", \"12\", \"13\", \"14\", \"15\", \"16\", \"17\", \"18\", \"19\", \"20\", \"21\", \"22\", \"23\", \"24\", \"25\", \"26\", \"27\", \"28\", \"29\", \"30\", \"31\", \"32\", \"33\", \"34\", \"38\", \"39\"], \"mode\": \"lines\", \"name\": \"precision_score_weighted_max\", \"stepped\": true, \"type\": \"scatter\", \"data\": [0.8215745894317322, 0.8268508211365354, 0.8358038258038258, 0.8665453594025022, 0.8665453594025022, 0.8665453594025022, 0.8665453594025022, 0.8665453594025022, 0.8665453594025022, 0.8665453594025022, 0.8665453594025022, 0.8665453594025022, 0.8665453594025022, 0.8665453594025022, 0.8665453594025022, 0.8772951122951123, 0.8772951122951123, 0.8772951122951123, 0.8772951122951123, 0.8772951122951123, 0.8772951122951123, 0.8772951122951123, 0.8772951122951123, 0.8772951122951123, 0.8772951122951123, 0.8772951122951123, 0.8772951122951123, 0.8772951122951123, 0.8772951122951123, 0.8772951122951123, 0.8772951122951123, 0.8772951122951123, 0.8772951122951123, 0.8772951122951123, 0.8772951122951123, 0.8772951122951123, 0.8814509102009103]}], \"matthews_correlation\": [{\"categories\": [\"0\", \"1\", \"2\", \"3\", \"4\", \"5\", \"6\", \"7\", \"8\", \"9\", \"10\", \"11\", \"12\", \"13\", \"14\", \"15\", \"16\", \"17\", \"18\", \"19\", \"20\", \"21\", \"22\", \"23\", \"24\", \"25\", \"26\", \"27\", \"28\", \"29\", \"30\", \"31\", \"32\", \"33\", \"34\", \"38\", \"39\"], \"mode\": \"markers\", \"name\": \"matthews_correlation\", \"stepped\": false, \"type\": \"scatter\", \"data\": [0.5877886350796124, 0.5984362209436943, 0.618035318080381, 0.6813307409324161, 0.6325194864082402, 0.586575368068232, 0.6659479235451531, 0.6572486723091788, 0.6012469729282476, 0.6733530461741888, 0.6222112156470186, 0.6251584408991937, 0.6329808402724324, 0.6197189807690084, 0.5845328230070385, 0.7102360005067232, 0.6088659067093494, 0.6975385644524128, 0.6663834206783679, 0.6101747370151616, 0.654346477437174, 0.6316405948009719, 0.6518575357085161, 0.663135710552003, 0.6310439056059503, 0.595028680156493, 0.6660401128765269, 0.6598605339535767, 0.6910847705711394, 0.6611548061051755, 0.0, 0.6578912487090158, 0.646326636821669, 0.6364461277672131, 0.6950039379618358, 0.6817364370853131, 0.7139413005285414]}, {\"categories\": [\"0\", \"1\", \"2\", \"3\", \"4\", \"5\", \"6\", \"7\", \"8\", \"9\", \"10\", \"11\", \"12\", \"13\", \"14\", \"15\", \"16\", \"17\", \"18\", \"19\", \"20\", \"21\", \"22\", \"23\", \"24\", \"25\", \"26\", \"27\", \"28\", \"29\", \"30\", \"31\", \"32\", \"33\", \"34\", \"38\", \"39\"], \"mode\": \"lines\", \"name\": \"matthews_correlation_max\", \"stepped\": true, \"type\": \"scatter\", \"data\": [0.5877886350796124, 0.5984362209436943, 0.618035318080381, 0.6813307409324161, 0.6813307409324161, 0.6813307409324161, 0.6813307409324161, 0.6813307409324161, 0.6813307409324161, 0.6813307409324161, 0.6813307409324161, 0.6813307409324161, 0.6813307409324161, 0.6813307409324161, 0.6813307409324161, 0.7102360005067232, 0.7102360005067232, 0.7102360005067232, 0.7102360005067232, 0.7102360005067232, 0.7102360005067232, 0.7102360005067232, 0.7102360005067232, 0.7102360005067232, 0.7102360005067232, 0.7102360005067232, 0.7102360005067232, 0.7102360005067232, 0.7102360005067232, 0.7102360005067232, 0.7102360005067232, 0.7102360005067232, 0.7102360005067232, 0.7102360005067232, 0.7102360005067232, 0.7102360005067232, 0.7139413005285414]}], \"f1_score_macro\": [{\"categories\": [\"0\", \"1\", \"2\", \"3\", \"4\", \"5\", \"6\", \"7\", \"8\", \"9\", \"10\", \"11\", \"12\", \"13\", \"14\", \"15\", \"16\", \"17\", \"18\", \"19\", \"20\", \"21\", \"22\", \"23\", \"24\", \"25\", \"26\", \"27\", \"28\", \"29\", \"30\", \"31\", \"32\", \"33\", \"34\", \"38\", \"39\"], \"mode\": \"markers\", \"name\": \"f1_score_macro\", \"stepped\": false, \"type\": \"scatter\", \"data\": [0.7807919675221443, 0.7921307974496841, 0.7973360096912329, 0.8277278315272966, 0.8047224046331551, 0.7837395920955511, 0.8228753798254107, 0.8173232428364174, 0.7808665117093108, 0.8203402197240743, 0.7932690339110218, 0.7982950216955907, 0.8029119584859359, 0.7991992014816262, 0.7815364993511447, 0.8423881882202989, 0.7883365335967405, 0.8401384527550168, 0.8242322590418334, 0.7903924885712442, 0.8105907375848714, 0.8015694929756944, 0.8151170190817378, 0.8179046556074756, 0.80169331820522, 0.7844108225658568, 0.8210439541164231, 0.8130044563279857, 0.8335035536207241, 0.8204248817785738, 0.36039826653210505, 0.8136779545017603, 0.8146516987335065, 0.8042786893760854, 0.8357848709799895, 0.8274393652915262, 0.8429163800913196]}, {\"categories\": [\"0\", \"1\", \"2\", \"3\", \"4\", \"5\", \"6\", \"7\", \"8\", \"9\", \"10\", \"11\", \"12\", \"13\", \"14\", \"15\", \"16\", \"17\", \"18\", \"19\", \"20\", \"21\", \"22\", \"23\", \"24\", \"25\", \"26\", \"27\", \"28\", \"29\", \"30\", \"31\", \"32\", \"33\", \"34\", \"38\", \"39\"], \"mode\": \"lines\", \"name\": \"f1_score_macro_max\", \"stepped\": true, \"type\": \"scatter\", \"data\": [0.7807919675221443, 0.7921307974496841, 0.7973360096912329, 0.8277278315272966, 0.8277278315272966, 0.8277278315272966, 0.8277278315272966, 0.8277278315272966, 0.8277278315272966, 0.8277278315272966, 0.8277278315272966, 0.8277278315272966, 0.8277278315272966, 0.8277278315272966, 0.8277278315272966, 0.8423881882202989, 0.8423881882202989, 0.8423881882202989, 0.8423881882202989, 0.8423881882202989, 0.8423881882202989, 0.8423881882202989, 0.8423881882202989, 0.8423881882202989, 0.8423881882202989, 0.8423881882202989, 0.8423881882202989, 0.8423881882202989, 0.8423881882202989, 0.8423881882202989, 0.8423881882202989, 0.8423881882202989, 0.8423881882202989, 0.8423881882202989, 0.8423881882202989, 0.8423881882202989, 0.8429163800913196]}], \"AUC_micro\": [{\"categories\": [\"0\", \"1\", \"2\", \"3\", \"4\", \"5\", \"6\", \"7\", \"8\", \"9\", \"10\", \"11\", \"12\", \"13\", \"14\", \"15\", \"16\", \"17\", \"18\", \"19\", \"20\", \"21\", \"22\", \"23\", \"24\", \"25\", \"26\", \"27\", \"28\", \"29\", \"30\", \"31\", \"32\", \"33\", \"34\", \"38\", \"39\"], \"mode\": \"markers\", \"name\": \"AUC_micro\", \"stepped\": false, \"type\": \"scatter\", \"data\": [0.878380746237889, 0.8915176814527463, 0.8947578756020313, 0.9063932460036355, 0.8943746369071045, 0.8829107400535973, 0.9139821217743295, 0.9099810723187346, 0.8874360487996851, 0.9028457112872698, 0.8807340567080827, 0.9003462266449279, 0.8916132568729971, 0.892273383182474, 0.8888645265268643, 0.8900966998369595, 0.882729427859298, 0.9090234440883792, 0.8977914581810685, 0.8894417271040647, 0.9028710106632184, 0.899585371338618, 0.91246041116171, 0.9099004891212683, 0.9044934502726709, 0.8977614737354997, 0.8952465283634113, 0.9009660613556717, 0.8896483386743128, 0.9062320796087031, 0.7460350255804802, 0.8995347725867207, 0.8982299806975131, 0.9049619572346845, 0.9064335376023687, 0.91845683176852, 0.9127677517287905]}, {\"categories\": [\"0\", \"1\", \"2\", \"3\", \"4\", \"5\", \"6\", \"7\", \"8\", \"9\", \"10\", \"11\", \"12\", \"13\", \"14\", \"15\", \"16\", \"17\", \"18\", \"19\", \"20\", \"21\", \"22\", \"23\", \"24\", \"25\", \"26\", \"27\", \"28\", \"29\", \"30\", \"31\", \"32\", \"33\", \"34\", \"38\", \"39\"], \"mode\": \"lines\", \"name\": \"AUC_micro_max\", \"stepped\": true, \"type\": \"scatter\", \"data\": [0.878380746237889, 0.8915176814527463, 0.8947578756020313, 0.9063932460036355, 0.9063932460036355, 0.9063932460036355, 0.9139821217743295, 0.9139821217743295, 0.9139821217743295, 0.9139821217743295, 0.9139821217743295, 0.9139821217743295, 0.9139821217743295, 0.9139821217743295, 0.9139821217743295, 0.9139821217743295, 0.9139821217743295, 0.9139821217743295, 0.9139821217743295, 0.9139821217743295, 0.9139821217743295, 0.9139821217743295, 0.9139821217743295, 0.9139821217743295, 0.9139821217743295, 0.9139821217743295, 0.9139821217743295, 0.9139821217743295, 0.9139821217743295, 0.9139821217743295, 0.9139821217743295, 0.9139821217743295, 0.9139821217743295, 0.9139821217743295, 0.9139821217743295, 0.91845683176852, 0.91845683176852]}], \"recall_score_micro\": [{\"categories\": [\"0\", \"1\", \"2\", \"3\", \"4\", \"5\", \"6\", \"7\", \"8\", \"9\", \"10\", \"11\", \"12\", \"13\", \"14\", \"15\", \"16\", \"17\", \"18\", \"19\", \"20\", \"21\", \"22\", \"23\", \"24\", \"25\", \"26\", \"27\", \"28\", \"29\", \"30\", \"31\", \"32\", \"33\", \"34\", \"38\", \"39\"], \"mode\": \"markers\", \"name\": \"recall_score_micro\", \"stepped\": false, \"type\": \"scatter\", \"data\": [0.798051948051948, 0.8123376623376624, 0.8123376623376624, 0.84025974025974, 0.8175324675324676, 0.8023809523809524, 0.8354978354978355, 0.8311688311688311, 0.8028138528138529, 0.8307359307359308, 0.8025974025974026, 0.8119047619047619, 0.8166666666666667, 0.8168831168831169, 0.803030303030303, 0.854112554112554, 0.798051948051948, 0.8497835497835498, 0.8354978354978355, 0.8025974025974024, 0.8259740259740258, 0.8170995670995671, 0.8311688311688311, 0.8311688311688311, 0.8170995670995669, 0.7969696969696969, 0.8303030303030303, 0.8259740259740258, 0.8448051948051948, 0.8307359307359308, 0.5746753246753247, 0.8266233766233766, 0.8307359307359306, 0.8218614718614718, 0.8497835497835498, 0.8404761904761904, 0.854112554112554]}, {\"categories\": [\"0\", \"1\", \"2\", \"3\", \"4\", \"5\", \"6\", \"7\", \"8\", \"9\", \"10\", \"11\", \"12\", \"13\", \"14\", \"15\", \"16\", \"17\", \"18\", \"19\", \"20\", \"21\", \"22\", \"23\", \"24\", \"25\", \"26\", \"27\", \"28\", \"29\", \"30\", \"31\", \"32\", \"33\", \"34\", \"38\", \"39\"], \"mode\": \"lines\", \"name\": \"recall_score_micro_max\", \"stepped\": true, \"type\": \"scatter\", \"data\": [0.798051948051948, 0.8123376623376624, 0.8123376623376624, 0.84025974025974, 0.84025974025974, 0.84025974025974, 0.84025974025974, 0.84025974025974, 0.84025974025974, 0.84025974025974, 0.84025974025974, 0.84025974025974, 0.84025974025974, 0.84025974025974, 0.84025974025974, 0.854112554112554, 0.854112554112554, 0.854112554112554, 0.854112554112554, 0.854112554112554, 0.854112554112554, 0.854112554112554, 0.854112554112554, 0.854112554112554, 0.854112554112554, 0.854112554112554, 0.854112554112554, 0.854112554112554, 0.854112554112554, 0.854112554112554, 0.854112554112554, 0.854112554112554, 0.854112554112554, 0.854112554112554, 0.854112554112554, 0.854112554112554, 0.854112554112554]}], \"precision_score_micro\": [{\"categories\": [\"0\", \"1\", \"2\", \"3\", \"4\", \"5\", \"6\", \"7\", \"8\", \"9\", \"10\", \"11\", \"12\", \"13\", \"14\", \"15\", \"16\", \"17\", \"18\", \"19\", \"20\", \"21\", \"22\", \"23\", \"24\", \"25\", \"26\", \"27\", \"28\", \"29\", \"30\", \"31\", \"32\", \"33\", \"34\", \"38\", \"39\"], \"mode\": \"markers\", \"name\": \"precision_score_micro\", \"stepped\": false, \"type\": \"scatter\", \"data\": [0.798051948051948, 0.8123376623376624, 0.8123376623376624, 0.84025974025974, 0.8175324675324676, 0.8023809523809524, 0.8354978354978355, 0.8311688311688311, 0.8028138528138529, 0.8307359307359308, 0.8025974025974026, 0.8119047619047619, 0.8166666666666667, 0.8168831168831169, 0.803030303030303, 0.854112554112554, 0.798051948051948, 0.8497835497835498, 0.8354978354978355, 0.8025974025974024, 0.8259740259740258, 0.8170995670995671, 0.8311688311688311, 0.8311688311688311, 0.8170995670995669, 0.7969696969696969, 0.8303030303030303, 0.8259740259740258, 0.8448051948051948, 0.8307359307359308, 0.5746753246753247, 0.8266233766233766, 0.8307359307359306, 0.8218614718614718, 0.8497835497835498, 0.8404761904761904, 0.854112554112554]}, {\"categories\": [\"0\", \"1\", \"2\", \"3\", \"4\", \"5\", \"6\", \"7\", \"8\", \"9\", \"10\", \"11\", \"12\", \"13\", \"14\", \"15\", \"16\", \"17\", \"18\", \"19\", \"20\", \"21\", \"22\", \"23\", \"24\", \"25\", \"26\", \"27\", \"28\", \"29\", \"30\", \"31\", \"32\", \"33\", \"34\", \"38\", \"39\"], \"mode\": \"lines\", \"name\": \"precision_score_micro_max\", \"stepped\": true, \"type\": \"scatter\", \"data\": [0.798051948051948, 0.8123376623376624, 0.8123376623376624, 0.84025974025974, 0.84025974025974, 0.84025974025974, 0.84025974025974, 0.84025974025974, 0.84025974025974, 0.84025974025974, 0.84025974025974, 0.84025974025974, 0.84025974025974, 0.84025974025974, 0.84025974025974, 0.854112554112554, 0.854112554112554, 0.854112554112554, 0.854112554112554, 0.854112554112554, 0.854112554112554, 0.854112554112554, 0.854112554112554, 0.854112554112554, 0.854112554112554, 0.854112554112554, 0.854112554112554, 0.854112554112554, 0.854112554112554, 0.854112554112554, 0.854112554112554, 0.854112554112554, 0.854112554112554, 0.854112554112554, 0.854112554112554, 0.854112554112554, 0.854112554112554]}], \"f1_score_weighted\": [{\"categories\": [\"0\", \"1\", \"2\", \"3\", \"4\", \"5\", \"6\", \"7\", \"8\", \"9\", \"10\", \"11\", \"12\", \"13\", \"14\", \"15\", \"16\", \"17\", \"18\", \"19\", \"20\", \"21\", \"22\", \"23\", \"24\", \"25\", \"26\", \"27\", \"28\", \"29\", \"30\", \"31\", \"32\", \"33\", \"34\", \"38\", \"39\"], \"mode\": \"markers\", \"name\": \"f1_score_weighted\", \"stepped\": false, \"type\": \"scatter\", \"data\": [0.7978049905059975, 0.8132469676594324, 0.8129749706570193, 0.8418372887256359, 0.8174326075096866, 0.8044140740516907, 0.8370315739090248, 0.8318487960355304, 0.8010803304915639, 0.8340595599652394, 0.8076025158931565, 0.8142847138432936, 0.8189055231094955, 0.8160635140953196, 0.803390045868797, 0.8537401322223641, 0.8029008753074216, 0.8524063349823964, 0.8391675382016357, 0.8048868120898047, 0.8271393774087403, 0.8177624262067507, 0.8308487285440165, 0.8334209177649748, 0.8180479257114588, 0.7998829015152432, 0.8332555262338703, 0.8281951447245565, 0.8476389856219534, 0.8347823601988106, 0.42855411628643925, 0.8283402250625818, 0.8318500960888178, 0.8220129275772614, 0.8481673000496965, 0.840991494438249, 0.8545032396311505]}, {\"categories\": [\"0\", \"1\", \"2\", \"3\", \"4\", \"5\", \"6\", \"7\", \"8\", \"9\", \"10\", \"11\", \"12\", \"13\", \"14\", \"15\", \"16\", \"17\", \"18\", \"19\", \"20\", \"21\", \"22\", \"23\", \"24\", \"25\", \"26\", \"27\", \"28\", \"29\", \"30\", \"31\", \"32\", \"33\", \"34\", \"38\", \"39\"], \"mode\": \"lines\", \"name\": \"f1_score_weighted_max\", \"stepped\": true, \"type\": \"scatter\", \"data\": [0.7978049905059975, 0.8132469676594324, 0.8132469676594324, 0.8418372887256359, 0.8418372887256359, 0.8418372887256359, 0.8418372887256359, 0.8418372887256359, 0.8418372887256359, 0.8418372887256359, 0.8418372887256359, 0.8418372887256359, 0.8418372887256359, 0.8418372887256359, 0.8418372887256359, 0.8537401322223641, 0.8537401322223641, 0.8537401322223641, 0.8537401322223641, 0.8537401322223641, 0.8537401322223641, 0.8537401322223641, 0.8537401322223641, 0.8537401322223641, 0.8537401322223641, 0.8537401322223641, 0.8537401322223641, 0.8537401322223641, 0.8537401322223641, 0.8537401322223641, 0.8537401322223641, 0.8537401322223641, 0.8537401322223641, 0.8537401322223641, 0.8537401322223641, 0.8537401322223641, 0.8545032396311505]}]}, \"metricName\": null, \"primaryMetricName\": \"AUC_weighted\", \"showLegend\": false}, \"run_metrics\": [{\"name\": \"experiment_status\", \"run_id\": \"AutoML_a8fe52b8-dfff-4eec-952a-0ccab169da31\", \"categories\": [0, 1, 2, 3, 4, 5, 6, 7, 8, 9, 10, 11, 12, 13], \"series\": [{\"data\": [\"DatasetEvaluation\", \"FeaturesGeneration\", \"DatasetFeaturization\", \"DatasetFeaturizationCompleted\", \"DatasetCrossValidationSplit\", \"ModelSelection\", \"BestRunExplainModel\", \"ModelExplanationDataSetSetup\", \"PickSurrogateModel\", \"EngineeredFeatureExplanations\", \"EngineeredFeatureExplanations\", \"RawFeaturesExplanations\", \"RawFeaturesExplanations\", \"BestRunExplainModel\"]}]}, {\"name\": \"experiment_status_description\", \"run_id\": \"AutoML_a8fe52b8-dfff-4eec-952a-0ccab169da31\", \"categories\": [0, 1, 2, 3, 4, 5, 6, 7, 8, 9, 10, 11, 12, 13], \"series\": [{\"data\": [\"Gathering dataset statistics.\", \"Generating features for the dataset.\", \"Beginning to fit featurizers and featurize the dataset.\", \"Completed fit featurizers and featurizing the dataset.\", \"Generating individually featurized CV splits.\", \"Beginning model selection.\", \"Best run model explanations started\", \"Model explanations data setup completed\", \"Choosing LightGBM as the surrogate model for explanations\", \"Computation of engineered features started\", \"Computation of engineered features completed\", \"Computation of raw features started\", \"Computation of raw features completed\", \"Best run model explanations completed\"]}]}, {\"name\": \"AUC_micro\", \"run_id\": \"AutoML_a8fe52b8-dfff-4eec-952a-0ccab169da31\", \"categories\": [0], \"series\": [{\"data\": [0.91845683176852]}]}, {\"name\": \"f1_score_micro\", \"run_id\": \"AutoML_a8fe52b8-dfff-4eec-952a-0ccab169da31\", \"categories\": [0], \"series\": [{\"data\": [0.8404761904761904]}]}, {\"name\": \"recall_score_micro\", \"run_id\": \"AutoML_a8fe52b8-dfff-4eec-952a-0ccab169da31\", \"categories\": [0], \"series\": [{\"data\": [0.8404761904761904]}]}, {\"name\": \"recall_score_macro\", \"run_id\": \"AutoML_a8fe52b8-dfff-4eec-952a-0ccab169da31\", \"categories\": [0], \"series\": [{\"data\": [0.8460712490124255]}]}, {\"name\": \"accuracy\", \"run_id\": \"AutoML_a8fe52b8-dfff-4eec-952a-0ccab169da31\", \"categories\": [0], \"series\": [{\"data\": [0.8404761904761904]}]}, {\"name\": \"average_precision_score_micro\", \"run_id\": \"AutoML_a8fe52b8-dfff-4eec-952a-0ccab169da31\", \"categories\": [0], \"series\": [{\"data\": [0.9203223580658813]}]}, {\"name\": \"matthews_correlation\", \"run_id\": \"AutoML_a8fe52b8-dfff-4eec-952a-0ccab169da31\", \"categories\": [0], \"series\": [{\"data\": [0.6817364370853131]}]}, {\"name\": \"f1_score_macro\", \"run_id\": \"AutoML_a8fe52b8-dfff-4eec-952a-0ccab169da31\", \"categories\": [0], \"series\": [{\"data\": [0.8274393652915262]}]}, {\"name\": \"recall_score_weighted\", \"run_id\": \"AutoML_a8fe52b8-dfff-4eec-952a-0ccab169da31\", \"categories\": [0], \"series\": [{\"data\": [0.8404761904761904]}]}, {\"name\": \"weighted_accuracy\", \"run_id\": \"AutoML_a8fe52b8-dfff-4eec-952a-0ccab169da31\", \"categories\": [0], \"series\": [{\"data\": [0.837675390056401]}]}, {\"name\": \"log_loss\", \"run_id\": \"AutoML_a8fe52b8-dfff-4eec-952a-0ccab169da31\", \"categories\": [0], \"series\": [{\"data\": [0.4575662825511072]}]}, {\"name\": \"f1_score_weighted\", \"run_id\": \"AutoML_a8fe52b8-dfff-4eec-952a-0ccab169da31\", \"categories\": [0], \"series\": [{\"data\": [0.840991494438249]}]}, {\"name\": \"AUC_weighted\", \"run_id\": \"AutoML_a8fe52b8-dfff-4eec-952a-0ccab169da31\", \"categories\": [0], \"series\": [{\"data\": [0.9342619814048385]}]}, {\"name\": \"precision_score_weighted\", \"run_id\": \"AutoML_a8fe52b8-dfff-4eec-952a-0ccab169da31\", \"categories\": [0], \"series\": [{\"data\": [0.866918081918082]}]}, {\"name\": \"precision_score_macro\", \"run_id\": \"AutoML_a8fe52b8-dfff-4eec-952a-0ccab169da31\", \"categories\": [0], \"series\": [{\"data\": [0.8366254578754578]}]}, {\"name\": \"average_precision_score_macro\", \"run_id\": \"AutoML_a8fe52b8-dfff-4eec-952a-0ccab169da31\", \"categories\": [0], \"series\": [{\"data\": [0.9295166561231959]}]}, {\"name\": \"AUC_macro\", \"run_id\": \"AutoML_a8fe52b8-dfff-4eec-952a-0ccab169da31\", \"categories\": [0], \"series\": [{\"data\": [0.9342619814048385]}]}, {\"name\": \"average_precision_score_weighted\", \"run_id\": \"AutoML_a8fe52b8-dfff-4eec-952a-0ccab169da31\", \"categories\": [0], \"series\": [{\"data\": [0.940834235856375]}]}, {\"name\": \"precision_score_micro\", \"run_id\": \"AutoML_a8fe52b8-dfff-4eec-952a-0ccab169da31\", \"categories\": [0], \"series\": [{\"data\": [0.8404761904761904]}]}, {\"name\": \"norm_macro_recall\", \"run_id\": \"AutoML_a8fe52b8-dfff-4eec-952a-0ccab169da31\", \"categories\": [0], \"series\": [{\"data\": [0.692142498024851]}]}, {\"name\": \"balanced_accuracy\", \"run_id\": \"AutoML_a8fe52b8-dfff-4eec-952a-0ccab169da31\", \"categories\": [0], \"series\": [{\"data\": [0.8460712490124255]}]}], \"run_logs\": \"\\nRun is completed.\", \"graph\": {}, \"widget_settings\": {\"childWidgetDisplay\": \"popup\", \"send_telemetry\": false, \"log_level\": \"INFO\", \"sdk_version\": \"1.26.0\"}, \"loading\": false}"
     },
     "metadata": {},
     "output_type": "display_data"
    },
    {
     "data": {
      "text/html": [
       "<table style=\"width:100%\"><tr><th>Experiment</th><th>Id</th><th>Type</th><th>Status</th><th>Details Page</th><th>Docs Page</th></tr><tr><td>udacity-project3</td><td>AutoML_a8fe52b8-dfff-4eec-952a-0ccab169da31</td><td>automl</td><td>NotStarted</td><td><a href=\"https://ml.azure.com/runs/AutoML_a8fe52b8-dfff-4eec-952a-0ccab169da31?wsid=/subscriptions/3e42d11f-d64d-4173-af9b-12ecaa1030b3/resourcegroups/aml-quickstarts-142342/workspaces/quick-starts-ws-142342&amp;tid=660b3398-b80e-49d2-bc5b-ac1dc93b5254\" target=\"_blank\" rel=\"noopener\">Link to Azure Machine Learning studio</a></td><td><a href=\"https://docs.microsoft.com/en-us/python/api/overview/azure/ml/intro?view=azure-ml-py\" target=\"_blank\" rel=\"noopener\">Link to Documentation</a></td></tr></table>"
      ],
      "text/plain": [
       "<IPython.core.display.HTML object>"
      ]
     },
     "metadata": {},
     "output_type": "display_data"
    },
    {
     "name": "stdout",
     "output_type": "stream",
     "text": [
      "\n",
      "Current status: FeaturesGeneration. Generating features for the dataset.\n",
      "Current status: DatasetFeaturization. Beginning to fit featurizers and featurize the dataset.\n",
      "Current status: DatasetCrossValidationSplit. Generating individually featurized CV splits.\n",
      "Current status: ModelSelection. Beginning model selection.\n",
      "\n",
      "****************************************************************************************************\n",
      "DATA GUARDRAILS: \n",
      "\n",
      "TYPE:         Cross validation\n",
      "STATUS:       DONE\n",
      "DESCRIPTION:  Each iteration of the trained model was validated through cross-validation.\n",
      "              \n",
      "DETAILS:      \n",
      "+---------------------------------+\n",
      "|Number of folds                  |\n",
      "+=================================+\n",
      "|10                               |\n",
      "+---------------------------------+\n",
      "\n",
      "****************************************************************************************************\n",
      "\n",
      "TYPE:         Class balancing detection\n",
      "STATUS:       PASSED\n",
      "DESCRIPTION:  Your inputs were analyzed, and all classes are balanced in your training data.\n",
      "              Learn more about imbalanced data: https://aka.ms/AutomatedMLImbalancedData\n",
      "\n",
      "****************************************************************************************************\n",
      "\n",
      "TYPE:         Missing feature values imputation\n",
      "STATUS:       PASSED\n",
      "DESCRIPTION:  No feature missing values were detected in the training data.\n",
      "              Learn more about missing value imputation: https://aka.ms/AutomatedMLFeaturization\n",
      "\n",
      "****************************************************************************************************\n",
      "\n",
      "TYPE:         High cardinality feature detection\n",
      "STATUS:       PASSED\n",
      "DESCRIPTION:  Your inputs were analyzed, and no high cardinality features were detected.\n",
      "              Learn more about high cardinality feature handling: https://aka.ms/AutomatedMLFeaturization\n",
      "\n",
      "****************************************************************************************************\n",
      "\n",
      "****************************************************************************************************\n",
      "ITERATION: The iteration being evaluated.\n",
      "PIPELINE: A summary description of the pipeline being evaluated.\n",
      "DURATION: Time taken for the current iteration.\n",
      "METRIC: The result of computing score on the fitted pipeline.\n",
      "BEST: The best observed score thus far.\n",
      "****************************************************************************************************\n",
      "\n",
      " ITERATION   PIPELINE                                       DURATION      METRIC      BEST\n",
      "         0   MaxAbsScaler LightGBM                          0:00:41       0.8926    0.8926\n",
      "         4   MaxAbsScaler RandomForest                      0:00:41       0.9016    0.9016\n",
      "         1   MaxAbsScaler XGBoostClassifier                 0:00:42       0.8979    0.9016\n",
      "         2   MaxAbsScaler RandomForest                      0:00:46       0.9002    0.9016\n",
      "         3   MaxAbsScaler RandomForest                      0:00:47       0.9132    0.9132\n",
      "         5   MaxAbsScaler ExtremeRandomTrees                0:00:42       0.8934    0.9132\n",
      "         8   MaxAbsScaler RandomForest                      0:00:43       0.9070    0.9132\n",
      "         6   MaxAbsScaler ExtremeRandomTrees                0:00:51       0.9249    0.9249\n",
      "         7   MaxAbsScaler ExtremeRandomTrees                0:00:49       0.9213    0.9249\n",
      "         9   MaxAbsScaler ExtremeRandomTrees                0:00:41       0.9175    0.9249\n",
      "        10   MaxAbsScaler RandomForest                      0:02:53       0.8883    0.9249\n",
      "        11   MaxAbsScaler RandomForest                      0:02:51       0.9099    0.9249\n",
      "        13   StandardScalerWrapper XGBoostClassifier        0:02:37       0.9000    0.9249\n",
      "        14   MaxAbsScaler RandomForest                      0:02:42       0.8905    0.9249\n",
      "        12   MaxAbsScaler RandomForest                      0:03:29       0.9122    0.9249\n",
      "        15   StandardScalerWrapper ExtremeRandomTrees       0:00:43       0.8960    0.9249\n",
      "        16   MaxAbsScaler ExtremeRandomTrees                0:00:36       0.8979    0.9249\n",
      "        17   MaxAbsScaler ExtremeRandomTrees                0:00:46       0.9175    0.9249\n",
      "        18   MaxAbsScaler RandomForest                      0:00:47       0.9077    0.9249\n",
      "        19   StandardScalerWrapper LogisticRegression       0:01:36       0.9017    0.9249\n",
      "        21   MaxAbsScaler LightGBM                          0:01:40       0.9074    0.9249\n",
      "        20   MaxAbsScaler LogisticRegression                0:02:32       0.9117    0.9249\n",
      "        22   MaxAbsScaler LightGBM                          0:02:48       0.9201    0.9249\n",
      "        23   MaxAbsScaler LightGBM                          0:03:01       0.9166    0.9249\n",
      "        24   MaxAbsScaler LightGBM                          0:01:23       0.9116    0.9249\n",
      "        25   StandardScalerWrapper ExtremeRandomTrees       0:01:07       0.9109    0.9249\n",
      "        26   StandardScalerWrapper ExtremeRandomTrees       0:01:11       0.9093    0.9249\n",
      "        27   StandardScalerWrapper LogisticRegression       0:00:54       0.9135    0.9249\n",
      "        28   SparseNormalizer RandomForest                  0:00:57       0.9034    0.9249\n",
      "        29   MaxAbsScaler ExtremeRandomTrees                0:00:52       0.9146    0.9249\n",
      "        30   MaxAbsScaler ExtremeRandomTrees                0:00:52       0.8804    0.9249\n",
      "        31   StandardScalerWrapper GradientBoosting         0:00:47       0.9067    0.9249\n",
      "        32   SparseNormalizer XGBoostClassifier             0:00:50       0.8976    0.9249\n",
      "        33   StandardScalerWrapper XGBoostClassifier        0:01:00       0.9148    0.9249\n",
      "        34   StandardScalerWrapper XGBoostClassifier        0:00:51       0.9144    0.9249\n",
      "        35                                                  0:00:28          nan    0.9249\n",
      "        36                                                  0:00:24          nan    0.9249\n",
      "        37                                                  0:00:15          nan    0.9249\n",
      "        38    VotingEnsemble                                0:04:01       0.9343    0.9343\n",
      "        39    StackEnsemble                                 0:04:12       0.9268    0.9343\n"
     ]
    }
   ],
   "source": [
    "RunDetails(remote_run).show()\n",
    "remote_run.wait_for_completion(show_output=True)\n",
    "assert(remote_run.get_status() == \"Completed\")"
   ]
  },
  {
   "cell_type": "markdown",
   "metadata": {},
   "source": [
    "## Best Model\n",
    "\n",
    "TODO: In the cell below, get the best model from the automl experiments and display all the properties of the model.\n",
    "\n"
   ]
  },
  {
   "cell_type": "code",
   "execution_count": 15,
   "metadata": {
    "gather": {
     "logged": 1598431425670
    },
    "jupyter": {
     "outputs_hidden": false,
     "source_hidden": false
    },
    "nteract": {
     "transient": {
      "deleting": false
     }
    }
   },
   "outputs": [],
   "source": [
    "automl_best_run = remote_run.get_best_child()"
   ]
  },
  {
   "cell_type": "code",
   "execution_count": 18,
   "metadata": {
    "gather": {
     "logged": 1598431426111
    },
    "jupyter": {
     "outputs_hidden": false,
     "source_hidden": false
    },
    "nteract": {
     "transient": {
      "deleting": false
     }
    }
   },
   "outputs": [],
   "source": [
    "#TODO: Save the best model\n",
    "model= automl_best_run.register_model(model_name='udacity-automl-project', model_path='./outputs/model.pkl')"
   ]
  },
  {
   "cell_type": "code",
   "execution_count": 25,
   "metadata": {},
   "outputs": [
    {
     "ename": "AttributeError",
     "evalue": "'Run' object has no attribute 'steps'",
     "output_type": "error",
     "traceback": [
      "\u001b[0;31m---------------------------------------------------------------------------\u001b[0m",
      "\u001b[0;31mAttributeError\u001b[0m                            Traceback (most recent call last)",
      "\u001b[0;32m<ipython-input-25-c2893fc69523>\u001b[0m in \u001b[0;36m<module>\u001b[0;34m\u001b[0m\n\u001b[1;32m      1\u001b[0m \u001b[0;32mfrom\u001b[0m \u001b[0mazureml\u001b[0m\u001b[0;34m.\u001b[0m\u001b[0mpipeline\u001b[0m\u001b[0;34m.\u001b[0m\u001b[0msteps\u001b[0m \u001b[0;32mimport\u001b[0m \u001b[0mAutoMLStep\u001b[0m\u001b[0;34m\u001b[0m\u001b[0;34m\u001b[0m\u001b[0m\n\u001b[0;32m----> 2\u001b[0;31m \u001b[0mautoml_best_run\u001b[0m\u001b[0;34m.\u001b[0m\u001b[0msteps\u001b[0m\u001b[0;34m\u001b[0m\u001b[0;34m\u001b[0m\u001b[0m\n\u001b[0m",
      "\u001b[0;31mAttributeError\u001b[0m: 'Run' object has no attribute 'steps'"
     ]
    }
   ],
   "source": [
    "from azureml.pipeline.steps import AutoMLStep\n",
    "automl_best_run.steps"
   ]
  },
  {
   "cell_type": "markdown",
   "metadata": {},
   "source": [
    "## Model Deployment\n",
    "\n",
    "Remember you have to deploy only one of the two models you trained.. Perform the steps in the rest of this notebook only if you wish to deploy this model.\n",
    "\n",
    "TODO: In the cell below, register the model, create an inference config and deploy the model as a web service."
   ]
  },
  {
   "cell_type": "code",
   "execution_count": 23,
   "metadata": {
    "gather": {
     "logged": 1598431435189
    },
    "jupyter": {
     "outputs_hidden": false,
     "source_hidden": false
    },
    "nteract": {
     "transient": {
      "deleting": false
     }
    }
   },
   "outputs": [
    {
     "ename": "AttributeError",
     "evalue": "'AutoMLRun' object has no attribute 'publish_pipeline'",
     "output_type": "error",
     "traceback": [
      "\u001b[0;31m---------------------------------------------------------------------------\u001b[0m",
      "\u001b[0;31mAttributeError\u001b[0m                            Traceback (most recent call last)",
      "\u001b[0;32m<ipython-input-23-e8df6f038c04>\u001b[0m in \u001b[0;36m<module>\u001b[0;34m\u001b[0m\n\u001b[0;32m----> 1\u001b[0;31m \u001b[0mremote_run\u001b[0m\u001b[0;34m.\u001b[0m\u001b[0mpublish_pipeline\u001b[0m\u001b[0;34m(\u001b[0m\u001b[0mname\u001b[0m\u001b[0;34m=\u001b[0m\u001b[0;34m\"Heart Disease\"\u001b[0m\u001b[0;34m,\u001b[0m \u001b[0mdescription\u001b[0m\u001b[0;34m=\u001b[0m\u001b[0;34m\"Predicting Heart disease\"\u001b[0m\u001b[0;34m,\u001b[0m \u001b[0mversion\u001b[0m\u001b[0;34m=\u001b[0m\u001b[0;34m\"1.0\"\u001b[0m\u001b[0;34m)\u001b[0m\u001b[0;34m\u001b[0m\u001b[0;34m\u001b[0m\u001b[0m\n\u001b[0m",
      "\u001b[0;31mAttributeError\u001b[0m: 'AutoMLRun' object has no attribute 'publish_pipeline'"
     ]
    }
   ],
   "source": [
    "service_name = 'heart-sklearn-service'\n",
    "\n",
    "service = Model.deploy(ws, service_name, [model], overwrite=True)\n",
    "service.wait_for_deployment(show_output=True)"
   ]
  },
  {
   "cell_type": "markdown",
   "metadata": {
    "gather": {
     "logged": 1598431657736
    },
    "jupyter": {
     "outputs_hidden": false,
     "source_hidden": false
    },
    "nteract": {
     "transient": {
      "deleting": false
     }
    }
   },
   "source": [
    "TODO: In the cell below, send a request to the web service you deployed to test it."
   ]
  },
  {
   "cell_type": "code",
   "execution_count": 22,
   "metadata": {
    "gather": {
     "logged": 1598432707604
    },
    "jupyter": {
     "outputs_hidden": false,
     "source_hidden": false
    },
    "nteract": {
     "transient": {
      "deleting": false
     }
    }
   },
   "outputs": [
    {
     "ename": "NameError",
     "evalue": "name 'rest_endpoint' is not defined",
     "output_type": "error",
     "traceback": [
      "\u001b[0;31m---------------------------------------------------------------------------\u001b[0m",
      "\u001b[0;31mNameError\u001b[0m                                 Traceback (most recent call last)",
      "\u001b[0;32m<ipython-input-22-581c895a149c>\u001b[0m in \u001b[0;36m<module>\u001b[0;34m\u001b[0m\n\u001b[1;32m      6\u001b[0m \u001b[0;32mtry\u001b[0m\u001b[0;34m:\u001b[0m\u001b[0;34m\u001b[0m\u001b[0;34m\u001b[0m\u001b[0m\n\u001b[0;32m----> 7\u001b[0;31m     \u001b[0mresponse\u001b[0m\u001b[0;34m.\u001b[0m\u001b[0mraise_for_status\u001b[0m\u001b[0;34m(\u001b[0m\u001b[0;34m)\u001b[0m\u001b[0;34m\u001b[0m\u001b[0;34m\u001b[0m\u001b[0m\n\u001b[0m\u001b[1;32m      8\u001b[0m \u001b[0;32mexcept\u001b[0m \u001b[0mException\u001b[0m\u001b[0;34m:\u001b[0m\u001b[0;34m\u001b[0m\u001b[0;34m\u001b[0m\u001b[0m\n",
      "\u001b[0;31mNameError\u001b[0m: name 'response' is not defined",
      "\nDuring handling of the above exception, another exception occurred:\n",
      "\u001b[0;31mNameError\u001b[0m                                 Traceback (most recent call last)",
      "\u001b[0;32m<ipython-input-22-581c895a149c>\u001b[0m in \u001b[0;36m<module>\u001b[0;34m\u001b[0m\n\u001b[1;32m     10\u001b[0m                     \u001b[0;34m\"Response Code: {}\\n\"\u001b[0m\u001b[0;34m\u001b[0m\u001b[0;34m\u001b[0m\u001b[0m\n\u001b[1;32m     11\u001b[0m                     \u001b[0;34m\"Headers: {}\\n\"\u001b[0m\u001b[0;34m\u001b[0m\u001b[0;34m\u001b[0m\u001b[0m\n\u001b[0;32m---> 12\u001b[0;31m                     \"Content: {}\".format(rest_endpoint, response.status_code, response.headers, response.content))\n\u001b[0m\u001b[1;32m     13\u001b[0m \u001b[0;34m\u001b[0m\u001b[0m\n\u001b[1;32m     14\u001b[0m \u001b[0mrun_id\u001b[0m \u001b[0;34m=\u001b[0m \u001b[0mresponse\u001b[0m\u001b[0;34m.\u001b[0m\u001b[0mjson\u001b[0m\u001b[0;34m(\u001b[0m\u001b[0;34m)\u001b[0m\u001b[0;34m.\u001b[0m\u001b[0mget\u001b[0m\u001b[0;34m(\u001b[0m\u001b[0;34m'Id'\u001b[0m\u001b[0;34m)\u001b[0m\u001b[0;34m\u001b[0m\u001b[0;34m\u001b[0m\u001b[0m\n",
      "\u001b[0;31mNameError\u001b[0m: name 'rest_endpoint' is not defined"
     ]
    }
   ],
   "source": [
    "import json\n",
    "\n",
    "\n",
    "input_payload = json.dumps({\n",
    "    'data': X_test,\n",
    "    'method': 'predict_prova'  # If you have a classification model, you can get probabilities by changing this to 'predict_proba'.\n",
    "})\n",
    "\n",
    "output = service.run(input_payload)\n"
   ]
  },
  {
   "cell_type": "markdown",
   "metadata": {
    "gather": {
     "logged": 1598432765711
    },
    "jupyter": {
     "outputs_hidden": false,
     "source_hidden": false
    },
    "nteract": {
     "transient": {
      "deleting": false
     }
    }
   },
   "source": [
    "TODO: In the cell below, print the logs of the web service and delete the service"
   ]
  },
  {
   "cell_type": "code",
   "execution_count": null,
   "metadata": {
    "jupyter": {
     "outputs_hidden": false,
     "source_hidden": false
    },
    "nteract": {
     "transient": {
      "deleting": false
     }
    }
   },
   "outputs": [],
   "source": [
    "print(output)"
   ]
  },
  {
   "cell_type": "code",
   "execution_count": null,
   "metadata": {},
   "outputs": [],
   "source": [
    "service.delete()"
   ]
  }
 ],
 "metadata": {
  "kernel_info": {
   "name": "python3"
  },
  "kernelspec": {
   "display_name": "Python 3",
   "language": "python",
   "name": "python3"
  },
  "language_info": {
   "codemirror_mode": {
    "name": "ipython",
    "version": 3
   },
   "file_extension": ".py",
   "mimetype": "text/x-python",
   "name": "python",
   "nbconvert_exporter": "python",
   "pygments_lexer": "ipython3",
   "version": "3.7.5"
  },
  "nteract": {
   "version": "nteract-front-end@1.0.0"
  }
 },
 "nbformat": 4,
 "nbformat_minor": 4
}
