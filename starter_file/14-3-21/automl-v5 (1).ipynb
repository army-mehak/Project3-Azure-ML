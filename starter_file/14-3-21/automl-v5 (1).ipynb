{
 "cells": [
  {
   "cell_type": "markdown",
   "metadata": {},
   "source": [
    "# Automated ML\n",
    "\n",
    "TODO: Import Dependencies. In the cell below, import all the dependencies that you will need to complete the project."
   ]
  },
  {
   "cell_type": "markdown",
   "metadata": {},
   "source": [
    "#### --Import Statements--"
   ]
  },
  {
   "cell_type": "code",
   "execution_count": 2,
   "metadata": {},
   "outputs": [],
   "source": [
    "from azureml.core import Workspace, Experiment\n",
    "from azureml.core.compute import ComputeTarget, AmlCompute\n",
    "from azureml.core.compute_target import ComputeTargetException\n",
    "\n",
    "import pandas as pd\n",
    "import numpy as np\n",
    "\n",
    "from sklearn.preprocessing import StandardScaler\n",
    "from sklearn.model_selection import train_test_split\n",
    "\n",
    "from azureml.train.automl import AutoMLConfig\n",
    "from azureml.pipeline.steps import AutoMLStep\n",
    "\n",
    "from azureml.data.dataset_factory import TabularDatasetFactory\n",
    "from azureml.core import Workspace, Datastore\n",
    "from azureml.core.dataset import Dataset\n",
    "\n",
    "from azureml.pipeline.core.run import PipelineRun\n",
    "from azureml.widgets import RunDetails\n",
    "from dataprocess import clean_data"
   ]
  },
  {
   "cell_type": "markdown",
   "metadata": {},
   "source": [
    "#### --Worspace Initialization--"
   ]
  },
  {
   "cell_type": "code",
   "execution_count": 3,
   "metadata": {
    "gather": {
     "logged": 1598423888013
    },
    "jupyter": {
     "outputs_hidden": false,
     "source_hidden": false
    },
    "nteract": {
     "transient": {
      "deleting": false
     }
    }
   },
   "outputs": [],
   "source": [
    "#---------------------------------------------------------------------------------------------------\n",
    "#1. Initialize Workspace\n",
    "# from azureml.core import Workspace, Experiment\n",
    "\n",
    "# ws = Workspace.get(name=\"quick-starts-ws-135395\")\n",
    "# exp = Experiment(workspace=ws, name=\"udacity-project3\")\n",
    "\n",
    "# print('Workspace name: ' + ws.name, \n",
    "#       'Azure region: ' + ws.location, \n",
    "#       'Subscription id: ' + ws.subscription_id, \n",
    "#       'Resource group: ' + ws.resource_group, sep = '\\n')\n",
    "\n",
    "# run = exp.start_logging()"
   ]
  },
  {
   "cell_type": "markdown",
   "metadata": {},
   "source": [
    "## Dataset\n",
    "\n",
    "### Overview\n",
    "TODO: In this markdown cell, give an overview of the dataset you are using. Also mention the task you will be performing.\n",
    "\n",
    "\n",
    "TODO: Get data. In the cell below, write code to access the data you will be using in this project. Remember that the dataset needs to be external."
   ]
  },
  {
   "cell_type": "markdown",
   "metadata": {},
   "source": [
    "The dataset consist information of patient that might be having heart disease. The target column has values 0 and 1 which determines if the patients has heart disease.\n",
    "There are 14 attributes in the dataset as follows:\n",
    "1. age\n",
    "2. sex\n",
    "3. chest pain type\n",
    "4. resting blood pressure\n",
    "5. serum cholestoral in mg/dl\n",
    "6. fasting blood sugar > 120 mg/dl\n",
    "7. resting electrocardiographic results (values 0,1,2)\n",
    "8. maximum heart rate achieved\n",
    "9. exercise induced angina\n",
    "10. oldpeak = ST depression induced by exercise relative to rest\n",
    "11. the slope of the peak exercise ST segment\n",
    "12. number of major vessels (0-3) colored by flourosopy\n",
    "13. thal: 3 = normal; 6 = fixed defect; 7 = reversable defect\n",
    "14. target column, 0 = heart disease not present, 1 = heart disease present"
   ]
  },
  {
   "cell_type": "markdown",
   "metadata": {},
   "source": [
    "After data is pulled, the data is processed for training in the following way:\n",
    "- Standardization was performed on the column bloodpressure, thalac and cholestrol to save on computational cost.\n",
    "- Rows with null values were dropped\n",
    "- The age column was binned into 7 groups of '29-37', '38-45', '46-53', '54-61', '62-69' and '70-77'\n",
    "\n",
    "After processing the data, the test input output and train input output data was set and fed to training."
   ]
  },
  {
   "cell_type": "code",
   "execution_count": 4,
   "metadata": {
    "gather": {
     "logged": 1598423890461
    },
    "jupyter": {
     "outputs_hidden": false,
     "source_hidden": false
    },
    "nteract": {
     "transient": {
      "deleting": false
     }
    }
   },
   "outputs": [],
   "source": [
    "ws = Workspace.from_config()\n",
    "\n",
    "# choose a name for experiment\n",
    "experiment_name = 'automl-exp'\n",
    "\n",
    "experiment=Experiment(ws, experiment_name)"
   ]
  },
  {
   "cell_type": "code",
   "execution_count": 5,
   "metadata": {},
   "outputs": [
    {
     "name": "stdout",
     "output_type": "stream",
     "text": [
      "Found existing cluster, use it.\n",
      "\n",
      "Running\n"
     ]
    }
   ],
   "source": [
    "cpu_cluster_name = \"cpu-cluster2\"\n",
    "\n",
    "try: #--- Verify that cluster does not exist already\n",
    "    cpu_cluster = ComputeTarget(workspace=ws, name=cpu_cluster_name)\n",
    "    print('Found existing cluster, use it.')\n",
    "    \n",
    "except ComputeTargetException:\n",
    "    compute_config = AmlCompute.provisioning_configuration(vm_size='STANDARD_D2_V2', max_nodes=4)\n",
    "    cpu_cluster = ComputeTarget.create(ws, cpu_cluster_name, compute_config)\n",
    "\n",
    "cpu_cluster.wait_for_completion(show_output=True)"
   ]
  },
  {
   "cell_type": "markdown",
   "metadata": {},
   "source": [
    "#### --Dataset Object--"
   ]
  },
  {
   "cell_type": "code",
   "execution_count": 6,
   "metadata": {},
   "outputs": [
    {
     "data": {
      "text/html": [
       "<div>\n",
       "<style scoped>\n",
       "    .dataframe tbody tr th:only-of-type {\n",
       "        vertical-align: middle;\n",
       "    }\n",
       "\n",
       "    .dataframe tbody tr th {\n",
       "        vertical-align: top;\n",
       "    }\n",
       "\n",
       "    .dataframe thead th {\n",
       "        text-align: right;\n",
       "    }\n",
       "</style>\n",
       "<table border=\"1\" class=\"dataframe\">\n",
       "  <thead>\n",
       "    <tr style=\"text-align: right;\">\n",
       "      <th></th>\n",
       "      <th>age</th>\n",
       "      <th>sex</th>\n",
       "      <th>cp</th>\n",
       "      <th>trestbps</th>\n",
       "      <th>chol</th>\n",
       "      <th>fbs</th>\n",
       "      <th>restecg</th>\n",
       "      <th>thalach</th>\n",
       "      <th>exang</th>\n",
       "      <th>oldpeak</th>\n",
       "      <th>slope</th>\n",
       "      <th>ca</th>\n",
       "      <th>thal</th>\n",
       "      <th>target</th>\n",
       "    </tr>\n",
       "  </thead>\n",
       "  <tbody>\n",
       "    <tr>\n",
       "      <th>count</th>\n",
       "      <td>303.000000</td>\n",
       "      <td>303.000000</td>\n",
       "      <td>303.000000</td>\n",
       "      <td>303.000000</td>\n",
       "      <td>303.000000</td>\n",
       "      <td>303.000000</td>\n",
       "      <td>303.000000</td>\n",
       "      <td>303.000000</td>\n",
       "      <td>303.000000</td>\n",
       "      <td>303.000000</td>\n",
       "      <td>303.000000</td>\n",
       "      <td>303.000000</td>\n",
       "      <td>303.000000</td>\n",
       "      <td>303.000000</td>\n",
       "    </tr>\n",
       "    <tr>\n",
       "      <th>mean</th>\n",
       "      <td>54.366337</td>\n",
       "      <td>0.683168</td>\n",
       "      <td>0.966997</td>\n",
       "      <td>131.623762</td>\n",
       "      <td>246.264026</td>\n",
       "      <td>0.148515</td>\n",
       "      <td>0.528053</td>\n",
       "      <td>149.646865</td>\n",
       "      <td>0.326733</td>\n",
       "      <td>1.039604</td>\n",
       "      <td>1.399340</td>\n",
       "      <td>0.729373</td>\n",
       "      <td>2.313531</td>\n",
       "      <td>0.544554</td>\n",
       "    </tr>\n",
       "    <tr>\n",
       "      <th>std</th>\n",
       "      <td>9.082101</td>\n",
       "      <td>0.466011</td>\n",
       "      <td>1.032052</td>\n",
       "      <td>17.538143</td>\n",
       "      <td>51.830751</td>\n",
       "      <td>0.356198</td>\n",
       "      <td>0.525860</td>\n",
       "      <td>22.905161</td>\n",
       "      <td>0.469794</td>\n",
       "      <td>1.161075</td>\n",
       "      <td>0.616226</td>\n",
       "      <td>1.022606</td>\n",
       "      <td>0.612277</td>\n",
       "      <td>0.498835</td>\n",
       "    </tr>\n",
       "    <tr>\n",
       "      <th>min</th>\n",
       "      <td>29.000000</td>\n",
       "      <td>0.000000</td>\n",
       "      <td>0.000000</td>\n",
       "      <td>94.000000</td>\n",
       "      <td>126.000000</td>\n",
       "      <td>0.000000</td>\n",
       "      <td>0.000000</td>\n",
       "      <td>71.000000</td>\n",
       "      <td>0.000000</td>\n",
       "      <td>0.000000</td>\n",
       "      <td>0.000000</td>\n",
       "      <td>0.000000</td>\n",
       "      <td>0.000000</td>\n",
       "      <td>0.000000</td>\n",
       "    </tr>\n",
       "    <tr>\n",
       "      <th>25%</th>\n",
       "      <td>47.500000</td>\n",
       "      <td>0.000000</td>\n",
       "      <td>0.000000</td>\n",
       "      <td>120.000000</td>\n",
       "      <td>211.000000</td>\n",
       "      <td>0.000000</td>\n",
       "      <td>0.000000</td>\n",
       "      <td>133.500000</td>\n",
       "      <td>0.000000</td>\n",
       "      <td>0.000000</td>\n",
       "      <td>1.000000</td>\n",
       "      <td>0.000000</td>\n",
       "      <td>2.000000</td>\n",
       "      <td>0.000000</td>\n",
       "    </tr>\n",
       "    <tr>\n",
       "      <th>50%</th>\n",
       "      <td>55.000000</td>\n",
       "      <td>1.000000</td>\n",
       "      <td>1.000000</td>\n",
       "      <td>130.000000</td>\n",
       "      <td>240.000000</td>\n",
       "      <td>0.000000</td>\n",
       "      <td>1.000000</td>\n",
       "      <td>153.000000</td>\n",
       "      <td>0.000000</td>\n",
       "      <td>0.800000</td>\n",
       "      <td>1.000000</td>\n",
       "      <td>0.000000</td>\n",
       "      <td>2.000000</td>\n",
       "      <td>1.000000</td>\n",
       "    </tr>\n",
       "    <tr>\n",
       "      <th>75%</th>\n",
       "      <td>61.000000</td>\n",
       "      <td>1.000000</td>\n",
       "      <td>2.000000</td>\n",
       "      <td>140.000000</td>\n",
       "      <td>274.500000</td>\n",
       "      <td>0.000000</td>\n",
       "      <td>1.000000</td>\n",
       "      <td>166.000000</td>\n",
       "      <td>1.000000</td>\n",
       "      <td>1.600000</td>\n",
       "      <td>2.000000</td>\n",
       "      <td>1.000000</td>\n",
       "      <td>3.000000</td>\n",
       "      <td>1.000000</td>\n",
       "    </tr>\n",
       "    <tr>\n",
       "      <th>max</th>\n",
       "      <td>77.000000</td>\n",
       "      <td>1.000000</td>\n",
       "      <td>3.000000</td>\n",
       "      <td>200.000000</td>\n",
       "      <td>564.000000</td>\n",
       "      <td>1.000000</td>\n",
       "      <td>2.000000</td>\n",
       "      <td>202.000000</td>\n",
       "      <td>1.000000</td>\n",
       "      <td>6.200000</td>\n",
       "      <td>2.000000</td>\n",
       "      <td>4.000000</td>\n",
       "      <td>3.000000</td>\n",
       "      <td>1.000000</td>\n",
       "    </tr>\n",
       "  </tbody>\n",
       "</table>\n",
       "</div>"
      ],
      "text/plain": [
       "              age         sex          cp    trestbps        chol         fbs  \\\n",
       "count  303.000000  303.000000  303.000000  303.000000  303.000000  303.000000   \n",
       "mean    54.366337    0.683168    0.966997  131.623762  246.264026    0.148515   \n",
       "std      9.082101    0.466011    1.032052   17.538143   51.830751    0.356198   \n",
       "min     29.000000    0.000000    0.000000   94.000000  126.000000    0.000000   \n",
       "25%     47.500000    0.000000    0.000000  120.000000  211.000000    0.000000   \n",
       "50%     55.000000    1.000000    1.000000  130.000000  240.000000    0.000000   \n",
       "75%     61.000000    1.000000    2.000000  140.000000  274.500000    0.000000   \n",
       "max     77.000000    1.000000    3.000000  200.000000  564.000000    1.000000   \n",
       "\n",
       "          restecg     thalach       exang     oldpeak       slope          ca  \\\n",
       "count  303.000000  303.000000  303.000000  303.000000  303.000000  303.000000   \n",
       "mean     0.528053  149.646865    0.326733    1.039604    1.399340    0.729373   \n",
       "std      0.525860   22.905161    0.469794    1.161075    0.616226    1.022606   \n",
       "min      0.000000   71.000000    0.000000    0.000000    0.000000    0.000000   \n",
       "25%      0.000000  133.500000    0.000000    0.000000    1.000000    0.000000   \n",
       "50%      1.000000  153.000000    0.000000    0.800000    1.000000    0.000000   \n",
       "75%      1.000000  166.000000    1.000000    1.600000    2.000000    1.000000   \n",
       "max      2.000000  202.000000    1.000000    6.200000    2.000000    4.000000   \n",
       "\n",
       "             thal      target  \n",
       "count  303.000000  303.000000  \n",
       "mean     2.313531    0.544554  \n",
       "std      0.612277    0.498835  \n",
       "min      0.000000    0.000000  \n",
       "25%      2.000000    0.000000  \n",
       "50%      2.000000    1.000000  \n",
       "75%      3.000000    1.000000  \n",
       "max      3.000000    1.000000  "
      ]
     },
     "execution_count": 6,
     "metadata": {},
     "output_type": "execute_result"
    }
   ],
   "source": [
    "key = \"heart-dataset\"\n",
    "description_text = \"Heart Disease dataset\"\n",
    "\n",
    "#-- Dataset Call\n",
    "if key in ws.datasets.keys(): \n",
    "        found = True\n",
    "        dataset = ws.datasets[key] \n",
    "df = dataset.to_pandas_dataframe()\n",
    "df.describe()"
   ]
  },
  {
   "cell_type": "markdown",
   "metadata": {},
   "source": [
    "## --Preprocessing Data--"
   ]
  },
  {
   "cell_type": "code",
   "execution_count": 7,
   "metadata": {},
   "outputs": [
    {
     "name": "stdout",
     "output_type": "stream",
     "text": [
      "   age_bins  sex  cp  trestbps      chol  fbs  restecg   thalach  exang  \\\n",
      "0         4    1   3  0.763956 -0.256334    1        0  0.015443      0   \n",
      "1         1    1   2 -0.092738  0.072199    0        1  1.633471      0   \n",
      "2         1    0   1 -0.092738 -0.816773    0        0  0.977514      0   \n",
      "3         3    1   1 -0.663867 -0.198357    0        1  1.239897      0   \n",
      "4         4    0   0 -0.663867  2.082050    0        1  0.583939      1   \n",
      "\n",
      "   oldpeak  slope  ca  thal  \n",
      "0      2.3      0   0     1  \n",
      "1      3.5      0   0     2  \n",
      "2      1.4      2   0     2  \n",
      "3      0.8      2   0     2  \n",
      "4      0.6      2   0     2  \n",
      "0    1\n",
      "1    1\n",
      "2    1\n",
      "3    1\n",
      "4    1\n",
      "Name: target, dtype: int64\n"
     ]
    }
   ],
   "source": [
    "x_df, y_df = clean_data(df)"
   ]
  },
  {
   "cell_type": "code",
   "execution_count": 8,
   "metadata": {},
   "outputs": [
    {
     "name": "stderr",
     "output_type": "stream",
     "text": [
      "Method register_pandas_dataframe: This is an experimental method, and may change at any time.<br/>For more information, see https://aka.ms/azuremlexperimental.\n"
     ]
    },
    {
     "name": "stdout",
     "output_type": "stream",
     "text": [
      "Validating arguments.\n",
      "Arguments validated.\n",
      "Successfully obtained datastore reference and path.\n",
      "Uploading file to managed-dataset/1f2a81a5-a8cb-433c-be2d-c3ae3b12d663/\n",
      "Successfully uploaded file to datastore.\n",
      "Creating and registering a new dataset.\n",
      "Successfully created and registered a new dataset.\n"
     ]
    }
   ],
   "source": [
    "### Train Test Split\n",
    "X_train, X_test, Y_train, Y_test = train_test_split(x_df, y_df, test_size=0.30)\n",
    "df_train = pd.concat([X_train,Y_train], axis=1)\n",
    "#print(df_train)\n",
    "ds_train = Dataset.Tabular.register_pandas_dataframe(dataframe= df_train, target= Datastore.get_default(ws), name=\"train_data\")\n",
    "#dataset_1 = pd.to_Tabular(df_train) #Dataset.Tabular.from_pandas_dataframe(df_train)"
   ]
  },
  {
   "cell_type": "markdown",
   "metadata": {},
   "source": [
    "## AutoML Configuration\n",
    "\n",
    "TODO: Explain why you chose the automl settings and cofiguration you used below."
   ]
  },
  {
   "cell_type": "markdown",
   "metadata": {},
   "source": [
    "The automl settings is configured as follows:\n",
    "- Experiment timeout minutes determines how long experiment should run. In this case, its 20 minutes the experiment will run.\n",
    "- Max concurrent iterations determines how many iterations should be running in parallel. We chose 5 iterations for this experiement.\n",
    "- The primary metric to determine the performance of the runs being used here is AUC weighted."
   ]
  },
  {
   "cell_type": "code",
   "execution_count": 9,
   "metadata": {},
   "outputs": [],
   "source": [
    "automl_settings = {\n",
    "    \"experiment_timeout_minutes\": 20,\n",
    "    \"max_concurrent_iterations\": 5,\n",
    "    \"primary_metric\": 'AUC_weighted'\n",
    "}"
   ]
  },
  {
   "cell_type": "markdown",
   "metadata": {},
   "source": [
    "The automl config is configured as follows:\n",
    "- The compute target is set to the one created\n",
    "- The task is classification as the target column has values 0 and 1\n",
    "- Early stopping is enabled\n",
    "- The path and log path is assigned"
   ]
  },
  {
   "cell_type": "code",
   "execution_count": 10,
   "metadata": {
    "gather": {
     "logged": 1598429217746
    },
    "jupyter": {
     "outputs_hidden": false,
     "source_hidden": false
    },
    "nteract": {
     "transient": {
      "deleting": false
     }
    }
   },
   "outputs": [],
   "source": [
    "automl_config = AutoMLConfig(compute_target=cpu_cluster,\n",
    "                             task = 'classification',\n",
    "                             training_data = ds_train,\n",
    "                             label_column_name = \"target\",\n",
    "                             path = './pipeline-project3',\n",
    "                             enable_early_stopping = True,\n",
    "                             featurization = 'auto',\n",
    "                             debug_log = 'automl_errors.log',\n",
    "                             **automl_settings\n",
    "                            )"
   ]
  },
  {
   "cell_type": "code",
   "execution_count": 11,
   "metadata": {
    "gather": {
     "logged": 1598431107951
    },
    "jupyter": {
     "outputs_hidden": false,
     "source_hidden": false
    },
    "nteract": {
     "transient": {
      "deleting": false
     }
    }
   },
   "outputs": [
    {
     "name": "stdout",
     "output_type": "stream",
     "text": [
      "Submitting remote run.\n"
     ]
    },
    {
     "data": {
      "text/html": [
       "<table style=\"width:100%\"><tr><th>Experiment</th><th>Id</th><th>Type</th><th>Status</th><th>Details Page</th><th>Docs Page</th></tr><tr><td>automl-exp</td><td>AutoML_f4a84f04-fd89-406f-9114-0cecc0be773c</td><td>automl</td><td>NotStarted</td><td><a href=\"https://ml.azure.com/runs/AutoML_f4a84f04-fd89-406f-9114-0cecc0be773c?wsid=/subscriptions/f5091c60-1c3c-430f-8d81-d802f6bf2414/resourcegroups/aml-quickstarts-142610/workspaces/quick-starts-ws-142610&amp;tid=660b3398-b80e-49d2-bc5b-ac1dc93b5254\" target=\"_blank\" rel=\"noopener\">Link to Azure Machine Learning studio</a></td><td><a href=\"https://docs.microsoft.com/en-us/python/api/overview/azure/ml/intro?view=azure-ml-py\" target=\"_blank\" rel=\"noopener\">Link to Documentation</a></td></tr></table>"
      ],
      "text/plain": [
       "<IPython.core.display.HTML object>"
      ]
     },
     "metadata": {},
     "output_type": "display_data"
    }
   ],
   "source": [
    "remote_run = experiment.submit(automl_config)"
   ]
  },
  {
   "cell_type": "markdown",
   "metadata": {},
   "source": [
    "## Run Details\n",
    "\n",
    "OPTIONAL: Write about the different models trained and their performance. Why do you think some models did better than others?\n",
    "\n",
    "TODO: In the cell below, use the `RunDetails` widget to show the different experiments."
   ]
  },
  {
   "cell_type": "code",
   "execution_count": 12,
   "metadata": {
    "gather": {
     "logged": 1598431121770
    },
    "jupyter": {
     "outputs_hidden": false,
     "source_hidden": false
    },
    "nteract": {
     "transient": {
      "deleting": false
     }
    }
   },
   "outputs": [
    {
     "data": {
      "application/vnd.jupyter.widget-view+json": {
       "model_id": "01d0ed61cf5247cfad90495725a0f003",
       "version_major": 2,
       "version_minor": 0
      },
      "text/plain": [
       "_AutoMLWidget(widget_settings={'childWidgetDisplay': 'popup', 'send_telemetry': False, 'log_level': 'INFO', 's…"
      ]
     },
     "metadata": {},
     "output_type": "display_data"
    },
    {
     "data": {
      "application/aml.mini.widget.v1": "{\"status\": \"Completed\", \"workbench_run_details_uri\": \"https://ml.azure.com/runs/AutoML_f4a84f04-fd89-406f-9114-0cecc0be773c?wsid=/subscriptions/f5091c60-1c3c-430f-8d81-d802f6bf2414/resourcegroups/aml-quickstarts-142610/workspaces/quick-starts-ws-142610&tid=660b3398-b80e-49d2-bc5b-ac1dc93b5254\", \"run_id\": \"AutoML_f4a84f04-fd89-406f-9114-0cecc0be773c\", \"run_properties\": {\"run_id\": \"AutoML_f4a84f04-fd89-406f-9114-0cecc0be773c\", \"created_utc\": \"2021-04-13T19:23:01.032543Z\", \"properties\": {\"num_iterations\": \"1000\", \"training_type\": \"TrainFull\", \"acquisition_function\": \"EI\", \"primary_metric\": \"AUC_weighted\", \"train_split\": \"0\", \"acquisition_parameter\": \"0\", \"num_cross_validation\": null, \"target\": \"cpu-cluster2\", \"AMLSettingsJsonString\": \"{\\\"path\\\":null,\\\"name\\\":\\\"automl-exp\\\",\\\"subscription_id\\\":\\\"f5091c60-1c3c-430f-8d81-d802f6bf2414\\\",\\\"resource_group\\\":\\\"aml-quickstarts-142610\\\",\\\"workspace_name\\\":\\\"quick-starts-ws-142610\\\",\\\"region\\\":\\\"southcentralus\\\",\\\"compute_target\\\":\\\"cpu-cluster2\\\",\\\"spark_service\\\":null,\\\"azure_service\\\":\\\"remote\\\",\\\"many_models\\\":false,\\\"pipeline_fetch_max_batch_size\\\":1,\\\"enable_batch_run\\\":false,\\\"enable_run_restructure\\\":false,\\\"iterations\\\":1000,\\\"primary_metric\\\":\\\"AUC_weighted\\\",\\\"task_type\\\":\\\"classification\\\",\\\"data_script\\\":null,\\\"test_size\\\":0.0,\\\"validation_size\\\":0.0,\\\"n_cross_validations\\\":null,\\\"y_min\\\":null,\\\"y_max\\\":null,\\\"num_classes\\\":null,\\\"featurization\\\":\\\"auto\\\",\\\"_ignore_package_version_incompatibilities\\\":false,\\\"is_timeseries\\\":false,\\\"max_cores_per_iteration\\\":1,\\\"max_concurrent_iterations\\\":5,\\\"iteration_timeout_minutes\\\":null,\\\"mem_in_mb\\\":null,\\\"enforce_time_on_windows\\\":false,\\\"experiment_timeout_minutes\\\":20,\\\"experiment_exit_score\\\":null,\\\"whitelist_models\\\":null,\\\"blacklist_algos\\\":[\\\"TensorFlowLinearClassifier\\\",\\\"TensorFlowDNN\\\"],\\\"supported_models\\\":[\\\"ExtremeRandomTrees\\\",\\\"KNN\\\",\\\"RandomForest\\\",\\\"LogisticRegression\\\",\\\"GradientBoosting\\\",\\\"DecisionTree\\\",\\\"LightGBM\\\",\\\"AveragedPerceptronClassifier\\\",\\\"TensorFlowDNN\\\",\\\"TensorFlowLinearClassifier\\\",\\\"MultinomialNaiveBayes\\\",\\\"XGBoostClassifier\\\",\\\"LinearSVM\\\",\\\"SVM\\\",\\\"SGD\\\",\\\"BernoulliNaiveBayes\\\"],\\\"private_models\\\":[],\\\"auto_blacklist\\\":true,\\\"blacklist_samples_reached\\\":false,\\\"exclude_nan_labels\\\":true,\\\"verbosity\\\":20,\\\"_debug_log\\\":\\\"azureml_automl.log\\\",\\\"show_warnings\\\":false,\\\"model_explainability\\\":true,\\\"service_url\\\":null,\\\"sdk_url\\\":null,\\\"sdk_packages\\\":null,\\\"enable_onnx_compatible_models\\\":false,\\\"enable_split_onnx_featurizer_estimator_models\\\":false,\\\"vm_type\\\":\\\"STANDARD_DS3_V2\\\",\\\"telemetry_verbosity\\\":20,\\\"send_telemetry\\\":true,\\\"enable_dnn\\\":false,\\\"scenario\\\":\\\"SDK-1.13.0\\\",\\\"environment_label\\\":null,\\\"save_mlflow\\\":false,\\\"force_text_dnn\\\":false,\\\"enable_feature_sweeping\\\":true,\\\"enable_early_stopping\\\":true,\\\"early_stopping_n_iters\\\":10,\\\"metrics\\\":null,\\\"enable_metric_confidence\\\":false,\\\"enable_ensembling\\\":true,\\\"enable_stack_ensembling\\\":true,\\\"ensemble_iterations\\\":15,\\\"enable_tf\\\":false,\\\"enable_subsampling\\\":null,\\\"subsample_seed\\\":null,\\\"enable_nimbusml\\\":false,\\\"enable_streaming\\\":false,\\\"force_streaming\\\":false,\\\"track_child_runs\\\":true,\\\"allowed_private_models\\\":[],\\\"label_column_name\\\":\\\"target\\\",\\\"weight_column_name\\\":null,\\\"cv_split_column_names\\\":null,\\\"enable_local_managed\\\":false,\\\"_local_managed_run_id\\\":null,\\\"cost_mode\\\":1,\\\"lag_length\\\":0,\\\"metric_operation\\\":\\\"maximize\\\",\\\"preprocess\\\":true}\", \"DataPrepJsonString\": \"{\\\\\\\"training_data\\\\\\\": {\\\\\\\"datasetId\\\\\\\": \\\\\\\"77efc2b5-4641-47bd-a636-11557c55f5a5\\\\\\\"}, \\\\\\\"datasets\\\\\\\": 0}\", \"EnableSubsampling\": null, \"runTemplate\": \"AutoML\", \"azureml.runsource\": \"automl\", \"display_task_type\": \"classification\", \"dependencies_versions\": \"{\\\"azureml-widgets\\\": \\\"1.26.0\\\", \\\"azureml-train\\\": \\\"1.26.0\\\", \\\"azureml-train-restclients-hyperdrive\\\": \\\"1.26.0\\\", \\\"azureml-train-core\\\": \\\"1.26.0\\\", \\\"azureml-train-automl\\\": \\\"1.26.0\\\", \\\"azureml-train-automl-runtime\\\": \\\"1.26.0\\\", \\\"azureml-train-automl-client\\\": \\\"1.26.0\\\", \\\"azureml-tensorboard\\\": \\\"1.26.0\\\", \\\"azureml-telemetry\\\": \\\"1.26.0\\\", \\\"azureml-sdk\\\": \\\"1.26.0\\\", \\\"azureml-samples\\\": \\\"0+unknown\\\", \\\"azureml-pipeline\\\": \\\"1.26.0\\\", \\\"azureml-pipeline-steps\\\": \\\"1.26.0\\\", \\\"azureml-pipeline-core\\\": \\\"1.26.0\\\", \\\"azureml-opendatasets\\\": \\\"1.26.0\\\", \\\"azureml-model-management-sdk\\\": \\\"1.0.1b6.post1\\\", \\\"azureml-mlflow\\\": \\\"1.26.0\\\", \\\"azureml-interpret\\\": \\\"1.26.0\\\", \\\"azureml-explain-model\\\": \\\"1.26.0\\\", \\\"azureml-defaults\\\": \\\"1.26.0\\\", \\\"azureml-dataset-runtime\\\": \\\"1.26.0\\\", \\\"azureml-dataprep\\\": \\\"2.13.2\\\", \\\"azureml-dataprep-rslex\\\": \\\"1.11.2\\\", \\\"azureml-dataprep-native\\\": \\\"32.0.0\\\", \\\"azureml-datadrift\\\": \\\"1.26.0\\\", \\\"azureml-core\\\": \\\"1.26.0\\\", \\\"azureml-contrib-services\\\": \\\"1.26.0\\\", \\\"azureml-contrib-server\\\": \\\"1.26.0\\\", \\\"azureml-contrib-reinforcementlearning\\\": \\\"1.26.0\\\", \\\"azureml-contrib-pipeline-steps\\\": \\\"1.26.0\\\", \\\"azureml-contrib-notebook\\\": \\\"1.26.0\\\", \\\"azureml-contrib-gbdt\\\": \\\"1.26.0\\\", \\\"azureml-contrib-fairness\\\": \\\"1.26.0\\\", \\\"azureml-contrib-dataset\\\": \\\"1.26.0\\\", \\\"azureml-cli-common\\\": \\\"1.26.0\\\", \\\"azureml-automl-runtime\\\": \\\"1.26.0\\\", \\\"azureml-automl-dnn-nlp\\\": \\\"1.26.0\\\", \\\"azureml-automl-core\\\": \\\"1.26.0\\\", \\\"azureml-accel-models\\\": \\\"1.26.0\\\"}\", \"_aml_system_scenario_identification\": \"Remote.Parent\", \"ClientType\": \"SDK\", \"environment_cpu_name\": \"AzureML-AutoML\", \"environment_cpu_label\": \"prod\", \"environment_gpu_name\": \"AzureML-AutoML-GPU\", \"environment_gpu_label\": \"prod\", \"root_attribution\": \"automl\", \"attribution\": \"AutoML\", \"Orchestrator\": \"AutoML\", \"CancelUri\": \"https://southcentralus.experiments.azureml.net/jasmine/v1.0/subscriptions/f5091c60-1c3c-430f-8d81-d802f6bf2414/resourceGroups/aml-quickstarts-142610/providers/Microsoft.MachineLearningServices/workspaces/quick-starts-ws-142610/experimentids/caa982cb-257b-4ba0-acb4-8d33385e236e/cancel/AutoML_f4a84f04-fd89-406f-9114-0cecc0be773c\", \"ClientSdkVersion\": \"1.25.0\", \"snapshotId\": \"00000000-0000-0000-0000-000000000000\", \"SetupRunId\": \"AutoML_f4a84f04-fd89-406f-9114-0cecc0be773c_setup\", \"SetupRunContainerId\": \"dcid.AutoML_f4a84f04-fd89-406f-9114-0cecc0be773c_setup\", \"FeaturizationRunJsonPath\": \"featurizer_container.json\", \"FeaturizationRunId\": \"AutoML_f4a84f04-fd89-406f-9114-0cecc0be773c_featurize\", \"ProblemInfoJsonString\": \"{\\\"dataset_num_categorical\\\": 0, \\\"is_sparse\\\": true, \\\"subsampling\\\": false, \\\"dataset_classes\\\": 2, \\\"dataset_features\\\": 33, \\\"dataset_samples\\\": 212, \\\"single_frequency_class_detected\\\": false}\", \"ModelExplainRunId\": \"AutoML_f4a84f04-fd89-406f-9114-0cecc0be773c_ModelExplain\"}, \"tags\": {\"model_explain_run\": \"best_run\", \"_aml_system_azureml.automlComponent\": \"AutoML\", \"pipeline_id\": \"\", \"score\": \"\", \"predicted_cost\": \"\", \"fit_time\": \"\", \"training_percent\": \"\", \"iteration\": \"\", \"run_preprocessor\": \"\", \"run_algorithm\": \"\", \"dynamic_whitelisting_iterations\": \"<25>;<30>;<35>;<40>;<45>;<50>;<55>;<60>;<65>;<69>;\", \"automl_best_child_run_id\": \"AutoML_f4a84f04-fd89-406f-9114-0cecc0be773c_71\", \"model_explain_best_run_child_id\": \"AutoML_f4a84f04-fd89-406f-9114-0cecc0be773c_71\"}, \"end_time_utc\": \"2021-04-13T19:49:00.53354Z\", \"status\": \"Completed\", \"log_files\": {}, \"log_groups\": [], \"run_duration\": \"0:25:59\", \"run_number\": \"1\", \"run_queued_details\": {\"status\": \"Completed\", \"details\": null}}, \"child_runs\": [{\"run_id\": \"AutoML_f4a84f04-fd89-406f-9114-0cecc0be773c_0\", \"run_number\": 5, \"metric\": null, \"status\": \"Completed\", \"run_type\": \"azureml.scriptrun\", \"training_percent\": \"100\", \"start_time\": \"2021-04-13T19:27:59.655725Z\", \"end_time\": \"2021-04-13T19:28:50.675441Z\", \"created_time\": \"2021-04-13T19:27:47.913878Z\", \"created_time_dt\": \"2021-04-13T19:27:47.913878Z\", \"duration\": \"0:01:02\", \"iteration\": \"0\", \"goal\": \"AUC_weighted_max\", \"run_name\": \"MaxAbsScaler, LightGBM\", \"run_properties\": \"copy=True\", \"primary_metric\": 0.87294996, \"best_metric\": 0.87294996}, {\"run_id\": \"AutoML_f4a84f04-fd89-406f-9114-0cecc0be773c_2\", \"run_number\": 6, \"metric\": null, \"status\": \"Completed\", \"run_type\": \"azureml.scriptrun\", \"training_percent\": \"100\", \"start_time\": \"2021-04-13T19:27:59.755577Z\", \"end_time\": \"2021-04-13T19:28:54.58094Z\", \"created_time\": \"2021-04-13T19:27:48.034444Z\", \"created_time_dt\": \"2021-04-13T19:27:48.034444Z\", \"duration\": \"0:01:06\", \"iteration\": \"2\", \"goal\": \"AUC_weighted_max\", \"run_name\": \"MaxAbsScaler, RandomForest\", \"run_properties\": \"copy=True\", \"primary_metric\": 0.88054756, \"best_metric\": 0.88054756}, {\"run_id\": \"AutoML_f4a84f04-fd89-406f-9114-0cecc0be773c_1\", \"run_number\": 7, \"metric\": null, \"status\": \"Completed\", \"run_type\": \"azureml.scriptrun\", \"training_percent\": \"100\", \"start_time\": \"2021-04-13T19:27:58.976448Z\", \"end_time\": \"2021-04-13T19:28:56.272894Z\", \"created_time\": \"2021-04-13T19:27:48.049199Z\", \"created_time_dt\": \"2021-04-13T19:27:48.049199Z\", \"duration\": \"0:01:08\", \"iteration\": \"1\", \"goal\": \"AUC_weighted_max\", \"run_name\": \"MaxAbsScaler, XGBoostClassifier\", \"run_properties\": \"copy=True\", \"primary_metric\": 0.86512019, \"best_metric\": 0.87294996}, {\"run_id\": \"AutoML_f4a84f04-fd89-406f-9114-0cecc0be773c_4\", \"run_number\": 8, \"metric\": null, \"status\": \"Completed\", \"run_type\": \"azureml.scriptrun\", \"training_percent\": \"100\", \"start_time\": \"2021-04-13T19:28:00.027237Z\", \"end_time\": \"2021-04-13T19:28:58.618596Z\", \"created_time\": \"2021-04-13T19:27:48.090184Z\", \"created_time_dt\": \"2021-04-13T19:27:48.090184Z\", \"duration\": \"0:01:10\", \"iteration\": \"4\", \"goal\": \"AUC_weighted_max\", \"run_name\": \"MaxAbsScaler, RandomForest\", \"run_properties\": \"copy=True\", \"primary_metric\": 0.87309293, \"best_metric\": 0.88219696}, {\"run_id\": \"AutoML_f4a84f04-fd89-406f-9114-0cecc0be773c_3\", \"run_number\": 9, \"metric\": null, \"status\": \"Completed\", \"run_type\": \"azureml.scriptrun\", \"training_percent\": \"100\", \"start_time\": \"2021-04-13T19:27:59.698096Z\", \"end_time\": \"2021-04-13T19:28:51.72804Z\", \"created_time\": \"2021-04-13T19:27:48.08379Z\", \"created_time_dt\": \"2021-04-13T19:27:48.08379Z\", \"duration\": \"0:01:03\", \"iteration\": \"3\", \"goal\": \"AUC_weighted_max\", \"run_name\": \"MaxAbsScaler, RandomForest\", \"run_properties\": \"copy=True\", \"primary_metric\": 0.88219696, \"best_metric\": 0.88219696}, {\"run_id\": \"AutoML_f4a84f04-fd89-406f-9114-0cecc0be773c_5\", \"run_number\": 10, \"metric\": null, \"status\": \"Completed\", \"run_type\": \"azureml.scriptrun\", \"training_percent\": \"100\", \"start_time\": \"2021-04-13T19:29:00.491971Z\", \"end_time\": \"2021-04-13T19:29:42.04936Z\", \"created_time\": \"2021-04-13T19:28:52.685151Z\", \"created_time_dt\": \"2021-04-13T19:28:52.685151Z\", \"duration\": \"0:00:49\", \"iteration\": \"5\", \"goal\": \"AUC_weighted_max\", \"run_name\": \"MaxAbsScaler, ExtremeRandomTrees\", \"run_properties\": \"copy=True\", \"primary_metric\": 0.88089886, \"best_metric\": 0.88219696}, {\"run_id\": \"AutoML_f4a84f04-fd89-406f-9114-0cecc0be773c_6\", \"run_number\": 11, \"metric\": null, \"status\": \"Completed\", \"run_type\": \"azureml.scriptrun\", \"training_percent\": \"100\", \"start_time\": \"2021-04-13T19:29:08.268968Z\", \"end_time\": \"2021-04-13T19:29:51.126026Z\", \"created_time\": \"2021-04-13T19:28:57.589361Z\", \"created_time_dt\": \"2021-04-13T19:28:57.589361Z\", \"duration\": \"0:00:53\", \"iteration\": \"6\", \"goal\": \"AUC_weighted_max\", \"run_name\": \"MaxAbsScaler, ExtremeRandomTrees\", \"run_properties\": \"copy=True\", \"primary_metric\": 0.89075294, \"best_metric\": 0.89075294}, {\"run_id\": \"AutoML_f4a84f04-fd89-406f-9114-0cecc0be773c_7\", \"run_number\": 12, \"metric\": null, \"status\": \"Completed\", \"run_type\": \"azureml.scriptrun\", \"training_percent\": \"100\", \"start_time\": \"2021-04-13T19:29:05.876887Z\", \"end_time\": \"2021-04-13T19:29:47.337233Z\", \"created_time\": \"2021-04-13T19:28:57.616443Z\", \"created_time_dt\": \"2021-04-13T19:28:57.616443Z\", \"duration\": \"0:00:49\", \"iteration\": \"7\", \"goal\": \"AUC_weighted_max\", \"run_name\": \"MaxAbsScaler, ExtremeRandomTrees\", \"run_properties\": \"copy=True\", \"primary_metric\": 0.89084025, \"best_metric\": 0.89084025}, {\"run_id\": \"AutoML_f4a84f04-fd89-406f-9114-0cecc0be773c_8\", \"run_number\": 13, \"metric\": null, \"status\": \"Completed\", \"run_type\": \"azureml.scriptrun\", \"training_percent\": \"100\", \"start_time\": \"2021-04-13T19:29:11.512176Z\", \"end_time\": \"2021-04-13T19:29:58.799121Z\", \"created_time\": \"2021-04-13T19:29:03.69447Z\", \"created_time_dt\": \"2021-04-13T19:29:03.69447Z\", \"duration\": \"0:00:55\", \"iteration\": \"8\", \"goal\": \"AUC_weighted_max\", \"run_name\": \"MaxAbsScaler, RandomForest\", \"run_properties\": \"copy=True\", \"primary_metric\": 0.90568064, \"best_metric\": 0.90568064}, {\"run_id\": \"AutoML_f4a84f04-fd89-406f-9114-0cecc0be773c_9\", \"run_number\": 14, \"metric\": null, \"status\": \"Completed\", \"run_type\": \"azureml.scriptrun\", \"training_percent\": \"100\", \"start_time\": \"2021-04-13T19:29:11.554566Z\", \"end_time\": \"2021-04-13T19:29:56.139629Z\", \"created_time\": \"2021-04-13T19:29:03.710095Z\", \"created_time_dt\": \"2021-04-13T19:29:03.710095Z\", \"duration\": \"0:00:52\", \"iteration\": \"9\", \"goal\": \"AUC_weighted_max\", \"run_name\": \"MaxAbsScaler, ExtremeRandomTrees\", \"run_properties\": \"copy=True\", \"primary_metric\": 0.90499903, \"best_metric\": 0.90568064}, {\"run_id\": \"AutoML_f4a84f04-fd89-406f-9114-0cecc0be773c_10\", \"run_number\": 15, \"metric\": null, \"status\": \"Completed\", \"run_type\": \"azureml.scriptrun\", \"training_percent\": \"100\", \"start_time\": \"2021-04-13T19:29:58.573552Z\", \"end_time\": \"2021-04-13T19:30:38.933328Z\", \"created_time\": \"2021-04-13T19:29:45.904327Z\", \"created_time_dt\": \"2021-04-13T19:29:45.904327Z\", \"duration\": \"0:00:53\", \"iteration\": \"10\", \"goal\": \"AUC_weighted_max\", \"run_name\": \"MaxAbsScaler, RandomForest\", \"run_properties\": \"copy=True\", \"primary_metric\": 0.86529918, \"best_metric\": 0.90568064}, {\"run_id\": \"AutoML_f4a84f04-fd89-406f-9114-0cecc0be773c_11\", \"run_number\": 16, \"metric\": null, \"status\": \"Completed\", \"run_type\": \"azureml.scriptrun\", \"training_percent\": \"100\", \"start_time\": \"2021-04-13T19:30:01.468957Z\", \"end_time\": \"2021-04-13T19:30:44.828283Z\", \"created_time\": \"2021-04-13T19:29:50.862784Z\", \"created_time_dt\": \"2021-04-13T19:29:50.862784Z\", \"duration\": \"0:00:53\", \"iteration\": \"11\", \"goal\": \"AUC_weighted_max\", \"run_name\": \"MaxAbsScaler, RandomForest\", \"run_properties\": \"copy=True\", \"primary_metric\": 0.86860931, \"best_metric\": 0.90568064}, {\"run_id\": \"AutoML_f4a84f04-fd89-406f-9114-0cecc0be773c_12\", \"run_number\": 17, \"metric\": null, \"status\": \"Completed\", \"run_type\": \"azureml.scriptrun\", \"training_percent\": \"100\", \"start_time\": \"2021-04-13T19:30:04.812085Z\", \"end_time\": \"2021-04-13T19:30:49.167522Z\", \"created_time\": \"2021-04-13T19:29:56.762508Z\", \"created_time_dt\": \"2021-04-13T19:29:56.762508Z\", \"duration\": \"0:00:52\", \"iteration\": \"12\", \"goal\": \"AUC_weighted_max\", \"run_name\": \"MaxAbsScaler, RandomForest\", \"run_properties\": \"copy=True\", \"primary_metric\": 0.88661852, \"best_metric\": 0.90568064}, {\"run_id\": \"AutoML_f4a84f04-fd89-406f-9114-0cecc0be773c_13\", \"run_number\": 18, \"metric\": null, \"status\": \"Completed\", \"run_type\": \"azureml.scriptrun\", \"training_percent\": \"100\", \"start_time\": \"2021-04-13T19:30:12.570517Z\", \"end_time\": \"2021-04-13T19:31:03.882272Z\", \"created_time\": \"2021-04-13T19:30:02.000959Z\", \"created_time_dt\": \"2021-04-13T19:30:02.000959Z\", \"duration\": \"0:01:01\", \"iteration\": \"13\", \"goal\": \"AUC_weighted_max\", \"run_name\": \"StandardScalerWrapper, XGBoostClassifier\", \"run_properties\": \"<azureml.automl.runtime.shared.model_wrappers.StandardScalerWrapper object at 0x7f5a5b988f28\", \"primary_metric\": 0.86821194, \"best_metric\": 0.90568064}, {\"run_id\": \"AutoML_f4a84f04-fd89-406f-9114-0cecc0be773c_14\", \"run_number\": 19, \"metric\": null, \"status\": \"Completed\", \"run_type\": \"azureml.scriptrun\", \"training_percent\": \"100\", \"start_time\": \"2021-04-13T19:30:10.700298Z\", \"end_time\": \"2021-04-13T19:30:55.160315Z\", \"created_time\": \"2021-04-13T19:30:02.262868Z\", \"created_time_dt\": \"2021-04-13T19:30:02.262868Z\", \"duration\": \"0:00:52\", \"iteration\": \"14\", \"goal\": \"AUC_weighted_max\", \"run_name\": \"MaxAbsScaler, RandomForest\", \"run_properties\": \"copy=True\", \"primary_metric\": 0.87069546, \"best_metric\": 0.90568064}, {\"run_id\": \"AutoML_f4a84f04-fd89-406f-9114-0cecc0be773c_15\", \"run_number\": 20, \"metric\": null, \"status\": \"Completed\", \"run_type\": \"azureml.scriptrun\", \"training_percent\": \"100\", \"start_time\": \"2021-04-13T19:30:57.412057Z\", \"end_time\": \"2021-04-13T19:33:20.667413Z\", \"created_time\": \"2021-04-13T19:30:42.853319Z\", \"created_time_dt\": \"2021-04-13T19:30:42.853319Z\", \"duration\": \"0:02:37\", \"iteration\": \"15\", \"goal\": \"AUC_weighted_max\", \"run_name\": \"StandardScalerWrapper, ExtremeRandomTrees\", \"run_properties\": \"<azureml.automl.runtime.shared.model_wrappers.StandardScalerWrapper object at 0x7f03e3dbab00\", \"primary_metric\": 0.8142658, \"best_metric\": 0.90568064}, {\"run_id\": \"AutoML_f4a84f04-fd89-406f-9114-0cecc0be773c_16\", \"run_number\": 21, \"metric\": null, \"status\": \"Completed\", \"run_type\": \"azureml.scriptrun\", \"training_percent\": \"100\", \"start_time\": \"2021-04-13T19:30:58.744292Z\", \"end_time\": \"2021-04-13T19:33:25.848621Z\", \"created_time\": \"2021-04-13T19:30:48.52129Z\", \"created_time_dt\": \"2021-04-13T19:30:48.52129Z\", \"duration\": \"0:02:37\", \"iteration\": \"16\", \"goal\": \"AUC_weighted_max\", \"run_name\": \"MaxAbsScaler, ExtremeRandomTrees\", \"run_properties\": \"copy=True\", \"primary_metric\": 0.86684892, \"best_metric\": 0.90568064}, {\"run_id\": \"AutoML_f4a84f04-fd89-406f-9114-0cecc0be773c_17\", \"run_number\": 22, \"metric\": null, \"status\": \"Completed\", \"run_type\": \"azureml.scriptrun\", \"training_percent\": \"100\", \"start_time\": \"2021-04-13T19:31:03.103795Z\", \"end_time\": \"2021-04-13T19:33:26.748097Z\", \"created_time\": \"2021-04-13T19:30:54.717681Z\", \"created_time_dt\": \"2021-04-13T19:30:54.717681Z\", \"duration\": \"0:02:32\", \"iteration\": \"17\", \"goal\": \"AUC_weighted_max\", \"run_name\": \"MaxAbsScaler, ExtremeRandomTrees\", \"run_properties\": \"copy=True\", \"primary_metric\": 0.89512626, \"best_metric\": 0.90568064}, {\"run_id\": \"AutoML_f4a84f04-fd89-406f-9114-0cecc0be773c_18\", \"run_number\": 23, \"metric\": null, \"status\": \"Completed\", \"run_type\": \"azureml.scriptrun\", \"training_percent\": \"100\", \"start_time\": \"2021-04-13T19:31:11.146375Z\", \"end_time\": \"2021-04-13T19:33:39.210482Z\", \"created_time\": \"2021-04-13T19:31:00.389218Z\", \"created_time_dt\": \"2021-04-13T19:31:00.389218Z\", \"duration\": \"0:02:38\", \"iteration\": \"18\", \"goal\": \"AUC_weighted_max\", \"run_name\": \"MaxAbsScaler, RandomForest\", \"run_properties\": \"copy=True\", \"primary_metric\": 0.88268229, \"best_metric\": 0.90568064}, {\"run_id\": \"AutoML_f4a84f04-fd89-406f-9114-0cecc0be773c_19\", \"run_number\": 24, \"metric\": null, \"status\": \"Completed\", \"run_type\": \"azureml.scriptrun\", \"training_percent\": \"100\", \"start_time\": \"2021-04-13T19:31:15.666594Z\", \"end_time\": \"2021-04-13T19:33:39.508667Z\", \"created_time\": \"2021-04-13T19:31:07.687045Z\", \"created_time_dt\": \"2021-04-13T19:31:07.687045Z\", \"duration\": \"0:02:31\", \"iteration\": \"19\", \"goal\": \"AUC_weighted_max\", \"run_name\": \"MaxAbsScaler, LightGBM\", \"run_properties\": \"copy=True\", \"primary_metric\": 0.89397658, \"best_metric\": 0.90568064}, {\"run_id\": \"AutoML_f4a84f04-fd89-406f-9114-0cecc0be773c_20\", \"run_number\": 25, \"metric\": null, \"status\": \"Completed\", \"run_type\": \"azureml.scriptrun\", \"training_percent\": \"100\", \"start_time\": \"2021-04-13T19:33:42.96431Z\", \"end_time\": \"2021-04-13T19:34:31.319461Z\", \"created_time\": \"2021-04-13T19:33:24.284898Z\", \"created_time_dt\": \"2021-04-13T19:33:24.284898Z\", \"duration\": \"0:01:07\", \"iteration\": \"20\", \"goal\": \"AUC_weighted_max\", \"run_name\": \"MaxAbsScaler, LightGBM\", \"run_properties\": \"copy=True\", \"primary_metric\": 0.89720181, \"best_metric\": 0.90568064}, {\"run_id\": \"AutoML_f4a84f04-fd89-406f-9114-0cecc0be773c_22\", \"run_number\": 26, \"metric\": null, \"status\": \"Completed\", \"run_type\": \"azureml.scriptrun\", \"training_percent\": \"100\", \"start_time\": \"2021-04-13T19:33:42.901013Z\", \"end_time\": \"2021-04-13T19:34:25.893814Z\", \"created_time\": \"2021-04-13T19:33:31.046454Z\", \"created_time_dt\": \"2021-04-13T19:33:31.046454Z\", \"duration\": \"0:00:54\", \"iteration\": \"22\", \"goal\": \"AUC_weighted_max\", \"run_name\": \"MaxAbsScaler, LightGBM\", \"run_properties\": \"copy=True\", \"primary_metric\": 0.89108804, \"best_metric\": 0.90568064}, {\"run_id\": \"AutoML_f4a84f04-fd89-406f-9114-0cecc0be773c_21\", \"run_number\": 27, \"metric\": null, \"status\": \"Completed\", \"run_type\": \"azureml.scriptrun\", \"training_percent\": \"100\", \"start_time\": \"2021-04-13T19:33:44.079088Z\", \"end_time\": \"2021-04-13T19:34:29.83464Z\", \"created_time\": \"2021-04-13T19:33:31.134704Z\", \"created_time_dt\": \"2021-04-13T19:33:31.134704Z\", \"duration\": \"0:00:58\", \"iteration\": \"21\", \"goal\": \"AUC_weighted_max\", \"run_name\": \"MaxAbsScaler, LightGBM\", \"run_properties\": \"copy=True\", \"primary_metric\": 0.87798603, \"best_metric\": 0.90568064}, {\"run_id\": \"AutoML_f4a84f04-fd89-406f-9114-0cecc0be773c_23\", \"run_number\": 28, \"metric\": null, \"status\": \"Completed\", \"run_type\": \"azureml.scriptrun\", \"training_percent\": \"100\", \"start_time\": \"2021-04-13T19:33:54.385306Z\", \"end_time\": \"2021-04-13T19:34:42.673436Z\", \"created_time\": \"2021-04-13T19:33:42.126966Z\", \"created_time_dt\": \"2021-04-13T19:33:42.126966Z\", \"duration\": \"0:01:00\", \"iteration\": \"23\", \"goal\": \"AUC_weighted_max\", \"run_name\": \"MaxAbsScaler, LogisticRegression\", \"run_properties\": \"copy=True\", \"primary_metric\": 0.90561481, \"best_metric\": 0.90568064}, {\"run_id\": \"AutoML_f4a84f04-fd89-406f-9114-0cecc0be773c_24\", \"run_number\": 29, \"metric\": null, \"status\": \"Completed\", \"run_type\": \"azureml.scriptrun\", \"training_percent\": \"100\", \"start_time\": \"2021-04-13T19:33:53.968114Z\", \"end_time\": \"2021-04-13T19:34:38.19508Z\", \"created_time\": \"2021-04-13T19:33:42.124671Z\", \"created_time_dt\": \"2021-04-13T19:33:42.124671Z\", \"duration\": \"0:00:56\", \"iteration\": \"24\", \"goal\": \"AUC_weighted_max\", \"run_name\": \"StandardScalerWrapper, LinearSVM\", \"run_properties\": \"<azureml.automl.runtime.shared.model_wrappers.StandardScalerWrapper object at 0x7fd607501208\", \"primary_metric\": 0.91243835, \"best_metric\": 0.91243835}, {\"run_id\": \"AutoML_f4a84f04-fd89-406f-9114-0cecc0be773c_25\", \"run_number\": 30, \"metric\": null, \"status\": \"Completed\", \"run_type\": \"azureml.scriptrun\", \"training_percent\": \"100\", \"start_time\": \"2021-04-13T19:34:46.194409Z\", \"end_time\": \"2021-04-13T19:35:33.079385Z\", \"created_time\": \"2021-04-13T19:34:29.647409Z\", \"created_time_dt\": \"2021-04-13T19:34:29.647409Z\", \"duration\": \"0:01:03\", \"iteration\": \"25\", \"goal\": \"AUC_weighted_max\", \"run_name\": \"MaxAbsScaler, RandomForest\", \"run_properties\": \"copy=True\", \"primary_metric\": 0.89068303, \"best_metric\": 0.91243835}, {\"run_id\": \"AutoML_f4a84f04-fd89-406f-9114-0cecc0be773c_26\", \"run_number\": 31, \"metric\": null, \"status\": \"Completed\", \"run_type\": \"azureml.scriptrun\", \"training_percent\": \"100\", \"start_time\": \"2021-04-13T19:34:47.984277Z\", \"end_time\": \"2021-04-13T19:35:40.684096Z\", \"created_time\": \"2021-04-13T19:34:36.219713Z\", \"created_time_dt\": \"2021-04-13T19:34:36.219713Z\", \"duration\": \"0:01:04\", \"iteration\": \"26\", \"goal\": \"AUC_weighted_max\", \"run_name\": \"MaxAbsScaler, ExtremeRandomTrees\", \"run_properties\": \"copy=True\", \"primary_metric\": 0.89459554, \"best_metric\": 0.91243835}, {\"run_id\": \"AutoML_f4a84f04-fd89-406f-9114-0cecc0be773c_27\", \"run_number\": 32, \"metric\": null, \"status\": \"Completed\", \"run_type\": \"azureml.scriptrun\", \"training_percent\": \"100\", \"start_time\": \"2021-04-13T19:34:46.121118Z\", \"end_time\": \"2021-04-13T19:35:33.600455Z\", \"created_time\": \"2021-04-13T19:34:36.288707Z\", \"created_time_dt\": \"2021-04-13T19:34:36.288707Z\", \"duration\": \"0:00:57\", \"iteration\": \"27\", \"goal\": \"AUC_weighted_max\", \"run_name\": \"StandardScalerWrapper, ExtremeRandomTrees\", \"run_properties\": \"<azureml.automl.runtime.shared.model_wrappers.StandardScalerWrapper object at 0x7fa093691630\", \"primary_metric\": 0.88024799, \"best_metric\": 0.91243835}, {\"run_id\": \"AutoML_f4a84f04-fd89-406f-9114-0cecc0be773c_28\", \"run_number\": 33, \"metric\": null, \"status\": \"Completed\", \"run_type\": \"azureml.scriptrun\", \"training_percent\": \"100\", \"start_time\": \"2021-04-13T19:34:52.293945Z\", \"end_time\": \"2021-04-13T19:35:37.107327Z\", \"created_time\": \"2021-04-13T19:34:42.557612Z\", \"created_time_dt\": \"2021-04-13T19:34:42.557612Z\", \"duration\": \"0:00:54\", \"iteration\": \"28\", \"goal\": \"AUC_weighted_max\", \"run_name\": \"MaxAbsScaler, ExtremeRandomTrees\", \"run_properties\": \"copy=True\", \"primary_metric\": 0.89747349, \"best_metric\": 0.91243835}, {\"run_id\": \"AutoML_f4a84f04-fd89-406f-9114-0cecc0be773c_29\", \"run_number\": 34, \"metric\": null, \"status\": \"Completed\", \"run_type\": \"azureml.scriptrun\", \"training_percent\": \"100\", \"start_time\": \"2021-04-13T19:35:00.513355Z\", \"end_time\": \"2021-04-13T19:35:41.88443Z\", \"created_time\": \"2021-04-13T19:34:48.833269Z\", \"created_time_dt\": \"2021-04-13T19:34:48.833269Z\", \"duration\": \"0:00:53\", \"iteration\": \"29\", \"goal\": \"AUC_weighted_max\", \"run_name\": \"MaxAbsScaler, ExtremeRandomTrees\", \"run_properties\": \"copy=True\", \"primary_metric\": 0.88928212, \"best_metric\": 0.91243835}, {\"run_id\": \"AutoML_f4a84f04-fd89-406f-9114-0cecc0be773c_31\", \"run_number\": 35, \"metric\": null, \"status\": \"Completed\", \"run_type\": \"azureml.scriptrun\", \"training_percent\": \"100\", \"start_time\": \"2021-04-13T19:35:50.157143Z\", \"end_time\": \"2021-04-13T19:36:41.701765Z\", \"created_time\": \"2021-04-13T19:35:37.570325Z\", \"created_time_dt\": \"2021-04-13T19:35:37.570325Z\", \"duration\": \"0:01:04\", \"iteration\": \"31\", \"goal\": \"AUC_weighted_max\", \"run_name\": \"StandardScalerWrapper, LogisticRegression\", \"run_properties\": \"<azureml.automl.runtime.shared.model_wrappers.StandardScalerWrapper object at 0x7ff221ed1278\", \"primary_metric\": 0.90264016, \"best_metric\": 0.91243835}, {\"run_id\": \"AutoML_f4a84f04-fd89-406f-9114-0cecc0be773c_30\", \"run_number\": 36, \"metric\": null, \"status\": \"Completed\", \"run_type\": \"azureml.scriptrun\", \"training_percent\": \"100\", \"start_time\": \"2021-04-13T19:35:49.601437Z\", \"end_time\": \"2021-04-13T19:36:43.87138Z\", \"created_time\": \"2021-04-13T19:35:37.629992Z\", \"created_time_dt\": \"2021-04-13T19:35:37.629992Z\", \"duration\": \"0:01:06\", \"iteration\": \"30\", \"goal\": \"AUC_weighted_max\", \"run_name\": \"TruncatedSVDWrapper, LinearSVM\", \"run_properties\": \"n_components=0.9005263157894737, random_state=None\", \"primary_metric\": 0.8535328, \"best_metric\": 0.91243835}, {\"run_id\": \"AutoML_f4a84f04-fd89-406f-9114-0cecc0be773c_33\", \"run_number\": 37, \"metric\": null, \"status\": \"Completed\", \"run_type\": \"azureml.scriptrun\", \"training_percent\": \"100\", \"start_time\": \"2021-04-13T19:35:59.251406Z\", \"end_time\": \"2021-04-13T19:36:47.725586Z\", \"created_time\": \"2021-04-13T19:35:45.054515Z\", \"created_time_dt\": \"2021-04-13T19:35:45.054515Z\", \"duration\": \"0:01:02\", \"iteration\": \"33\", \"goal\": \"AUC_weighted_max\", \"run_name\": \"SparseNormalizer, ExtremeRandomTrees\", \"run_properties\": \"<azureml.automl.runtime.shared.model_wrappers.SparseNormalizer object at 0x7f1ff498d5c0\", \"primary_metric\": 0.9040324, \"best_metric\": 0.91243835}, {\"run_id\": \"AutoML_f4a84f04-fd89-406f-9114-0cecc0be773c_32\", \"run_number\": 38, \"metric\": null, \"status\": \"Completed\", \"run_type\": \"azureml.scriptrun\", \"training_percent\": \"100\", \"start_time\": \"2021-04-13T19:35:54.267304Z\", \"end_time\": \"2021-04-13T19:36:48.721929Z\", \"created_time\": \"2021-04-13T19:35:45.067574Z\", \"created_time_dt\": \"2021-04-13T19:35:45.067574Z\", \"duration\": \"0:01:03\", \"iteration\": \"32\", \"goal\": \"AUC_weighted_max\", \"run_name\": \"StandardScalerWrapper, LogisticRegression\", \"run_properties\": \"<azureml.automl.runtime.shared.model_wrappers.StandardScalerWrapper object at 0x7fedefb74ac8\", \"primary_metric\": 0.88332778, \"best_metric\": 0.91243835}, {\"run_id\": \"AutoML_f4a84f04-fd89-406f-9114-0cecc0be773c_34\", \"run_number\": 39, \"metric\": null, \"status\": \"Completed\", \"run_type\": \"azureml.scriptrun\", \"training_percent\": \"100\", \"start_time\": \"2021-04-13T19:35:53.201168Z\", \"end_time\": \"2021-04-13T19:36:50.683869Z\", \"created_time\": \"2021-04-13T19:35:45.196867Z\", \"created_time_dt\": \"2021-04-13T19:35:45.196867Z\", \"duration\": \"0:01:05\", \"iteration\": \"34\", \"goal\": \"AUC_weighted_max\", \"run_name\": \"StandardScalerWrapper, LogisticRegression\", \"run_properties\": \"<azureml.automl.runtime.shared.model_wrappers.StandardScalerWrapper object at 0x7fd771eefcc0\", \"primary_metric\": 0.91166703, \"best_metric\": 0.91243835}, {\"run_id\": \"AutoML_f4a84f04-fd89-406f-9114-0cecc0be773c_35\", \"run_number\": 40, \"metric\": null, \"status\": \"Completed\", \"run_type\": \"azureml.scriptrun\", \"training_percent\": \"100\", \"start_time\": \"2021-04-13T19:37:02.035058Z\", \"end_time\": \"2021-04-13T19:37:55.467399Z\", \"created_time\": \"2021-04-13T19:36:45.363689Z\", \"created_time_dt\": \"2021-04-13T19:36:45.363689Z\", \"duration\": \"0:01:10\", \"iteration\": \"35\", \"goal\": \"AUC_weighted_max\", \"run_name\": \"StandardScalerWrapper, LinearSVM\", \"run_properties\": \"<azureml.automl.runtime.shared.model_wrappers.StandardScalerWrapper object at 0x7f271834c518\", \"primary_metric\": 0.88649778, \"best_metric\": 0.91243835}, {\"run_id\": \"AutoML_f4a84f04-fd89-406f-9114-0cecc0be773c_36\", \"run_number\": 41, \"metric\": null, \"status\": \"Completed\", \"run_type\": \"azureml.scriptrun\", \"training_percent\": \"100\", \"start_time\": \"2021-04-13T19:37:37.319918Z\", \"end_time\": \"2021-04-13T19:38:39.102804Z\", \"created_time\": \"2021-04-13T19:36:52.09361Z\", \"created_time_dt\": \"2021-04-13T19:36:52.09361Z\", \"duration\": \"0:01:47\", \"iteration\": \"36\", \"goal\": \"AUC_weighted_max\", \"run_name\": \"SparseNormalizer, XGBoostClassifier\", \"run_properties\": \"<azureml.automl.runtime.shared.model_wrappers.SparseNormalizer object at 0x7fa1474a3cc0\", \"primary_metric\": 0.88460369, \"best_metric\": 0.91243835}, {\"run_id\": \"AutoML_f4a84f04-fd89-406f-9114-0cecc0be773c_37\", \"run_number\": 42, \"metric\": null, \"status\": \"Completed\", \"run_type\": \"azureml.scriptrun\", \"training_percent\": \"100\", \"start_time\": \"2021-04-13T19:37:03.883629Z\", \"end_time\": \"2021-04-13T19:37:49.818533Z\", \"created_time\": \"2021-04-13T19:36:52.215333Z\", \"created_time_dt\": \"2021-04-13T19:36:52.215333Z\", \"duration\": \"0:00:57\", \"iteration\": \"37\", \"goal\": \"AUC_weighted_max\", \"run_name\": \"SparseNormalizer, XGBoostClassifier\", \"run_properties\": \"<azureml.automl.runtime.shared.model_wrappers.SparseNormalizer object at 0x7f807cc3a240\", \"primary_metric\": 0.88469634, \"best_metric\": 0.91243835}, {\"run_id\": \"AutoML_f4a84f04-fd89-406f-9114-0cecc0be773c_38\", \"run_number\": 43, \"metric\": null, \"status\": \"Completed\", \"run_type\": \"azureml.scriptrun\", \"training_percent\": \"100\", \"start_time\": \"2021-04-13T19:37:01.91496Z\", \"end_time\": \"2021-04-13T19:37:47.34189Z\", \"created_time\": \"2021-04-13T19:36:52.251386Z\", \"created_time_dt\": \"2021-04-13T19:36:52.251386Z\", \"duration\": \"0:00:55\", \"iteration\": \"38\", \"goal\": \"AUC_weighted_max\", \"run_name\": \"SparseNormalizer, XGBoostClassifier\", \"run_properties\": \"<azureml.automl.runtime.shared.model_wrappers.SparseNormalizer object at 0x7f54b89b3748\", \"primary_metric\": 0.86880771, \"best_metric\": 0.91243835}, {\"run_id\": \"AutoML_f4a84f04-fd89-406f-9114-0cecc0be773c_39\", \"run_number\": 44, \"metric\": null, \"status\": \"Completed\", \"run_type\": \"azureml.scriptrun\", \"training_percent\": \"100\", \"start_time\": \"2021-04-13T19:37:09.298997Z\", \"end_time\": \"2021-04-13T19:37:49.260669Z\", \"created_time\": \"2021-04-13T19:36:57.639115Z\", \"created_time_dt\": \"2021-04-13T19:36:57.639115Z\", \"duration\": \"0:00:51\", \"iteration\": \"39\", \"goal\": \"AUC_weighted_max\", \"run_name\": \"StandardScalerWrapper, LogisticRegression\", \"run_properties\": \"<azureml.automl.runtime.shared.model_wrappers.StandardScalerWrapper object at 0x7f059a1e3358\", \"primary_metric\": 0.9134496, \"best_metric\": 0.9134496}, {\"run_id\": \"AutoML_f4a84f04-fd89-406f-9114-0cecc0be773c_40\", \"run_number\": 45, \"metric\": null, \"status\": \"Completed\", \"run_type\": \"azureml.scriptrun\", \"training_percent\": \"100\", \"start_time\": \"2021-04-13T19:38:07.837878Z\", \"end_time\": \"2021-04-13T19:38:58.117832Z\", \"created_time\": \"2021-04-13T19:37:52.382096Z\", \"created_time_dt\": \"2021-04-13T19:37:52.382096Z\", \"duration\": \"0:01:05\", \"iteration\": \"40\", \"goal\": \"AUC_weighted_max\", \"run_name\": \"SparseNormalizer, LinearSVM\", \"run_properties\": \"<azureml.automl.runtime.shared.model_wrappers.SparseNormalizer object at 0x7f4da2b1a438\", \"primary_metric\": 0.89743699, \"best_metric\": 0.9134496}, {\"run_id\": \"AutoML_f4a84f04-fd89-406f-9114-0cecc0be773c_41\", \"run_number\": 46, \"metric\": null, \"status\": \"Completed\", \"run_type\": \"azureml.scriptrun\", \"training_percent\": \"100\", \"start_time\": \"2021-04-13T19:38:11.026526Z\", \"end_time\": \"2021-04-13T19:38:55.018248Z\", \"created_time\": \"2021-04-13T19:37:57.696331Z\", \"created_time_dt\": \"2021-04-13T19:37:57.696331Z\", \"duration\": \"0:00:57\", \"iteration\": \"41\", \"goal\": \"AUC_weighted_max\", \"run_name\": \"MaxAbsScaler, LogisticRegression\", \"run_properties\": \"copy=True\", \"primary_metric\": 0.89296119, \"best_metric\": 0.9134496}, {\"run_id\": \"AutoML_f4a84f04-fd89-406f-9114-0cecc0be773c_43\", \"run_number\": 47, \"metric\": null, \"status\": \"Completed\", \"run_type\": \"azureml.scriptrun\", \"training_percent\": \"100\", \"start_time\": \"2021-04-13T19:38:09.157317Z\", \"end_time\": \"2021-04-13T19:38:57.912696Z\", \"created_time\": \"2021-04-13T19:37:57.838268Z\", \"created_time_dt\": \"2021-04-13T19:37:57.838268Z\", \"duration\": \"0:01:00\", \"iteration\": \"43\", \"goal\": \"AUC_weighted_max\", \"run_name\": \"MaxAbsScaler, SGD\", \"run_properties\": \"copy=True\", \"primary_metric\": 0.90818462, \"best_metric\": 0.9134496}, {\"run_id\": \"AutoML_f4a84f04-fd89-406f-9114-0cecc0be773c_42\", \"run_number\": 48, \"metric\": null, \"status\": \"Completed\", \"run_type\": \"azureml.scriptrun\", \"training_percent\": \"100\", \"start_time\": \"2021-04-13T19:38:09.721186Z\", \"end_time\": \"2021-04-13T19:38:55.629036Z\", \"created_time\": \"2021-04-13T19:37:57.848738Z\", \"created_time_dt\": \"2021-04-13T19:37:57.848738Z\", \"duration\": \"0:00:57\", \"iteration\": \"42\", \"goal\": \"AUC_weighted_max\", \"run_name\": \"MaxAbsScaler, LogisticRegression\", \"run_properties\": \"copy=True\", \"primary_metric\": 0.88814071, \"best_metric\": 0.9134496}, {\"run_id\": \"AutoML_f4a84f04-fd89-406f-9114-0cecc0be773c_44\", \"run_number\": 49, \"metric\": null, \"status\": \"Completed\", \"run_type\": \"azureml.scriptrun\", \"training_percent\": \"100\", \"start_time\": \"2021-04-13T19:38:49.732261Z\", \"end_time\": \"2021-04-13T19:39:34.053283Z\", \"created_time\": \"2021-04-13T19:38:41.21106Z\", \"created_time_dt\": \"2021-04-13T19:38:41.21106Z\", \"duration\": \"0:00:52\", \"iteration\": \"44\", \"goal\": \"AUC_weighted_max\", \"run_name\": \"MaxAbsScaler, LogisticRegression\", \"run_properties\": \"copy=True\", \"primary_metric\": 0.88999445, \"best_metric\": 0.9134496}, {\"run_id\": \"AutoML_f4a84f04-fd89-406f-9114-0cecc0be773c_45\", \"run_number\": 50, \"metric\": null, \"status\": \"Completed\", \"run_type\": \"azureml.scriptrun\", \"training_percent\": \"100\", \"start_time\": \"2021-04-13T19:39:06.017389Z\", \"end_time\": \"2021-04-13T19:39:53.053762Z\", \"created_time\": \"2021-04-13T19:38:57.805159Z\", \"created_time_dt\": \"2021-04-13T19:38:57.805159Z\", \"duration\": \"0:00:55\", \"iteration\": \"45\", \"goal\": \"AUC_weighted_max\", \"run_name\": \"TruncatedSVDWrapper, LogisticRegression\", \"run_properties\": \"n_components=0.01, random_state=None\", \"primary_metric\": 0.84514712, \"best_metric\": 0.9134496}, {\"run_id\": \"AutoML_f4a84f04-fd89-406f-9114-0cecc0be773c_46\", \"run_number\": 51, \"metric\": null, \"status\": \"Completed\", \"run_type\": \"azureml.scriptrun\", \"training_percent\": \"100\", \"start_time\": \"2021-04-13T19:39:10.19792Z\", \"end_time\": \"2021-04-13T19:39:51.677418Z\", \"created_time\": \"2021-04-13T19:39:01.916925Z\", \"created_time_dt\": \"2021-04-13T19:39:01.916925Z\", \"duration\": \"0:00:49\", \"iteration\": \"46\", \"goal\": \"AUC_weighted_max\", \"run_name\": \"MaxAbsScaler, LightGBM\", \"run_properties\": \"copy=True\", \"primary_metric\": 0.89150422, \"best_metric\": 0.9134496}, {\"run_id\": \"AutoML_f4a84f04-fd89-406f-9114-0cecc0be773c_48\", \"run_number\": 52, \"metric\": null, \"status\": \"Completed\", \"run_type\": \"azureml.scriptrun\", \"training_percent\": \"100\", \"start_time\": \"2021-04-13T19:39:10.075412Z\", \"end_time\": \"2021-04-13T19:39:57.148919Z\", \"created_time\": \"2021-04-13T19:39:02.055251Z\", \"created_time_dt\": \"2021-04-13T19:39:02.055251Z\", \"duration\": \"0:00:55\", \"iteration\": \"48\", \"goal\": \"AUC_weighted_max\", \"run_name\": \"MaxAbsScaler, LightGBM\", \"run_properties\": \"copy=True\", \"primary_metric\": 0.87541692, \"best_metric\": 0.9134496}, {\"run_id\": \"AutoML_f4a84f04-fd89-406f-9114-0cecc0be773c_47\", \"run_number\": 53, \"metric\": null, \"status\": \"Completed\", \"run_type\": \"azureml.scriptrun\", \"training_percent\": \"100\", \"start_time\": \"2021-04-13T19:39:10.194991Z\", \"end_time\": \"2021-04-13T19:39:51.820287Z\", \"created_time\": \"2021-04-13T19:39:02.056312Z\", \"created_time_dt\": \"2021-04-13T19:39:02.056312Z\", \"duration\": \"0:00:49\", \"iteration\": \"47\", \"goal\": \"AUC_weighted_max\", \"run_name\": \"StandardScalerWrapper, LightGBM\", \"run_properties\": \"<azureml.automl.runtime.shared.model_wrappers.StandardScalerWrapper object at 0x7f14d635fef0\", \"primary_metric\": 0.88720591, \"best_metric\": 0.9134496}, {\"run_id\": \"AutoML_f4a84f04-fd89-406f-9114-0cecc0be773c_49\", \"run_number\": 54, \"metric\": null, \"status\": \"Completed\", \"run_type\": \"azureml.scriptrun\", \"training_percent\": \"100\", \"start_time\": \"2021-04-13T19:39:49.591949Z\", \"end_time\": \"2021-04-13T19:40:51.331794Z\", \"created_time\": \"2021-04-13T19:39:36.382595Z\", \"created_time_dt\": \"2021-04-13T19:39:36.382595Z\", \"duration\": \"0:01:14\", \"iteration\": \"49\", \"goal\": \"AUC_weighted_max\", \"run_name\": \"MaxAbsScaler, LightGBM\", \"run_properties\": \"copy=True\", \"primary_metric\": 0.89160401, \"best_metric\": 0.9134496}, {\"run_id\": \"AutoML_f4a84f04-fd89-406f-9114-0cecc0be773c_50\", \"run_number\": 55, \"metric\": null, \"status\": \"Completed\", \"run_type\": \"azureml.scriptrun\", \"training_percent\": \"100\", \"start_time\": \"2021-04-13T19:40:06.062745Z\", \"end_time\": \"2021-04-13T19:40:46.337664Z\", \"created_time\": \"2021-04-13T19:39:55.027545Z\", \"created_time_dt\": \"2021-04-13T19:39:55.027545Z\", \"duration\": \"0:00:51\", \"iteration\": \"50\", \"goal\": \"AUC_weighted_max\", \"run_name\": \"TruncatedSVDWrapper, LogisticRegression\", \"run_properties\": \"n_components=0.10894736842105263, random_state=None\", \"primary_metric\": 0.84514712, \"best_metric\": 0.9134496}, {\"run_id\": \"AutoML_f4a84f04-fd89-406f-9114-0cecc0be773c_51\", \"run_number\": 56, \"metric\": null, \"status\": \"Completed\", \"run_type\": \"azureml.scriptrun\", \"training_percent\": \"100\", \"start_time\": \"2021-04-13T19:40:03.85083Z\", \"end_time\": \"2021-04-13T19:40:51.271467Z\", \"created_time\": \"2021-04-13T19:39:55.148206Z\", \"created_time_dt\": \"2021-04-13T19:39:55.148206Z\", \"duration\": \"0:00:56\", \"iteration\": \"51\", \"goal\": \"AUC_weighted_max\", \"run_name\": \"MaxAbsScaler, SGD\", \"run_properties\": \"copy=True\", \"primary_metric\": 0.91472011, \"best_metric\": 0.91472011}, {\"run_id\": \"AutoML_f4a84f04-fd89-406f-9114-0cecc0be773c_52\", \"run_number\": 57, \"metric\": null, \"status\": \"Completed\", \"run_type\": \"azureml.scriptrun\", \"training_percent\": \"100\", \"start_time\": \"2021-04-13T19:40:10.951491Z\", \"end_time\": \"2021-04-13T19:40:54.4971Z\", \"created_time\": \"2021-04-13T19:39:59.656724Z\", \"created_time_dt\": \"2021-04-13T19:39:59.656724Z\", \"duration\": \"0:00:54\", \"iteration\": \"52\", \"goal\": \"AUC_weighted_max\", \"run_name\": \"StandardScalerWrapper, LinearSVM\", \"run_properties\": \"<azureml.automl.runtime.shared.model_wrappers.StandardScalerWrapper object at 0x7fce65da7f60\", \"primary_metric\": 0.91548228, \"best_metric\": 0.91548228}, {\"run_id\": \"AutoML_f4a84f04-fd89-406f-9114-0cecc0be773c_53\", \"run_number\": 58, \"metric\": null, \"status\": \"Completed\", \"run_type\": \"azureml.scriptrun\", \"training_percent\": \"100\", \"start_time\": \"2021-04-13T19:40:10.365432Z\", \"end_time\": \"2021-04-13T19:40:53.786765Z\", \"created_time\": \"2021-04-13T19:39:59.660795Z\", \"created_time_dt\": \"2021-04-13T19:39:59.660795Z\", \"duration\": \"0:00:54\", \"iteration\": \"53\", \"goal\": \"AUC_weighted_max\", \"run_name\": \"StandardScalerWrapper, LogisticRegression\", \"run_properties\": \"<azureml.automl.runtime.shared.model_wrappers.StandardScalerWrapper object at 0x7fccdcba5240\", \"primary_metric\": 0.90560987, \"best_metric\": 0.91548228}, {\"run_id\": \"AutoML_f4a84f04-fd89-406f-9114-0cecc0be773c_54\", \"run_number\": 59, \"metric\": null, \"status\": \"Completed\", \"run_type\": \"azureml.scriptrun\", \"training_percent\": \"100\", \"start_time\": \"2021-04-13T19:41:01.393081Z\", \"end_time\": \"2021-04-13T19:41:41.366145Z\", \"created_time\": \"2021-04-13T19:40:48.935716Z\", \"created_time_dt\": \"2021-04-13T19:40:48.935716Z\", \"duration\": \"0:00:52\", \"iteration\": \"54\", \"goal\": \"AUC_weighted_max\", \"run_name\": \"StandardScalerWrapper, LogisticRegression\", \"run_properties\": \"<azureml.automl.runtime.shared.model_wrappers.StandardScalerWrapper object at 0x7f1b377fca58\", \"primary_metric\": 0.89203338, \"best_metric\": 0.91548228}, {\"run_id\": \"AutoML_f4a84f04-fd89-406f-9114-0cecc0be773c_55\", \"run_number\": 60, \"metric\": null, \"status\": \"Completed\", \"run_type\": \"azureml.scriptrun\", \"training_percent\": \"100\", \"start_time\": \"2021-04-13T19:41:03.212396Z\", \"end_time\": \"2021-04-13T19:41:47.675265Z\", \"created_time\": \"2021-04-13T19:40:55.375692Z\", \"created_time_dt\": \"2021-04-13T19:40:55.375692Z\", \"duration\": \"0:00:52\", \"iteration\": \"55\", \"goal\": \"AUC_weighted_max\", \"run_name\": \"MaxAbsScaler, SGD\", \"run_properties\": \"copy=True\", \"primary_metric\": 0.90567368, \"best_metric\": 0.91548228}, {\"run_id\": \"AutoML_f4a84f04-fd89-406f-9114-0cecc0be773c_56\", \"run_number\": 61, \"metric\": null, \"status\": \"Completed\", \"run_type\": \"azureml.scriptrun\", \"training_percent\": \"100\", \"start_time\": \"2021-04-13T19:41:06.7669Z\", \"end_time\": \"2021-04-13T19:41:52.62377Z\", \"created_time\": \"2021-04-13T19:40:55.516002Z\", \"created_time_dt\": \"2021-04-13T19:40:55.516002Z\", \"duration\": \"0:00:57\", \"iteration\": \"56\", \"goal\": \"AUC_weighted_max\", \"run_name\": \"StandardScalerWrapper, LogisticRegression\", \"run_properties\": \"<azureml.automl.runtime.shared.model_wrappers.StandardScalerWrapper object at 0x7fdfe0b2bac8\", \"primary_metric\": 0.89407419, \"best_metric\": 0.91548228}, {\"run_id\": \"AutoML_f4a84f04-fd89-406f-9114-0cecc0be773c_57\", \"run_number\": 62, \"metric\": null, \"status\": \"Completed\", \"run_type\": \"azureml.scriptrun\", \"training_percent\": \"100\", \"start_time\": \"2021-04-13T19:41:09.61994Z\", \"end_time\": \"2021-04-13T19:41:57.988778Z\", \"created_time\": \"2021-04-13T19:41:00.38635Z\", \"created_time_dt\": \"2021-04-13T19:41:00.38635Z\", \"duration\": \"0:00:57\", \"iteration\": \"57\", \"goal\": \"AUC_weighted_max\", \"run_name\": \"StandardScalerWrapper, LogisticRegression\", \"run_properties\": \"<azureml.automl.runtime.shared.model_wrappers.StandardScalerWrapper object at 0x7fe736c79198\", \"primary_metric\": 0.91435227, \"best_metric\": 0.91548228}, {\"run_id\": \"AutoML_f4a84f04-fd89-406f-9114-0cecc0be773c_58\", \"run_number\": 63, \"metric\": null, \"status\": \"Completed\", \"run_type\": \"azureml.scriptrun\", \"training_percent\": \"100\", \"start_time\": \"2021-04-13T19:41:13.662253Z\", \"end_time\": \"2021-04-13T19:41:54.053796Z\", \"created_time\": \"2021-04-13T19:41:00.398823Z\", \"created_time_dt\": \"2021-04-13T19:41:00.398823Z\", \"duration\": \"0:00:53\", \"iteration\": \"58\", \"goal\": \"AUC_weighted_max\", \"run_name\": \"MaxAbsScaler, LogisticRegression\", \"run_properties\": \"copy=True\", \"primary_metric\": 0.89296119, \"best_metric\": 0.91548228}, {\"run_id\": \"AutoML_f4a84f04-fd89-406f-9114-0cecc0be773c_59\", \"run_number\": 64, \"metric\": null, \"status\": \"Completed\", \"run_type\": \"azureml.scriptrun\", \"training_percent\": \"100\", \"start_time\": \"2021-04-13T19:41:51.698306Z\", \"end_time\": \"2021-04-13T19:44:20.676035Z\", \"created_time\": \"2021-04-13T19:41:43.566828Z\", \"created_time_dt\": \"2021-04-13T19:41:43.566828Z\", \"duration\": \"0:02:37\", \"iteration\": \"59\", \"goal\": \"AUC_weighted_max\", \"run_name\": \"StandardScalerWrapper, LogisticRegression\", \"run_properties\": \"<azureml.automl.runtime.shared.model_wrappers.StandardScalerWrapper object at 0x7f4afaf1fac8\", \"primary_metric\": 0.91362252, \"best_metric\": 0.91548228}, {\"run_id\": \"AutoML_f4a84f04-fd89-406f-9114-0cecc0be773c_60\", \"run_number\": 65, \"metric\": null, \"status\": \"Completed\", \"run_type\": \"azureml.scriptrun\", \"training_percent\": \"100\", \"start_time\": \"2021-04-13T19:42:07.417734Z\", \"end_time\": \"2021-04-13T19:44:29.843038Z\", \"created_time\": \"2021-04-13T19:41:51.182542Z\", \"created_time_dt\": \"2021-04-13T19:41:51.182542Z\", \"duration\": \"0:02:38\", \"iteration\": \"60\", \"goal\": \"AUC_weighted_max\", \"run_name\": \"SparseNormalizer, LinearSVM\", \"run_properties\": \"<azureml.automl.runtime.shared.model_wrappers.SparseNormalizer object at 0x7f1b7fc044e0\", \"primary_metric\": 0.90668186, \"best_metric\": 0.91548228}, {\"run_id\": \"AutoML_f4a84f04-fd89-406f-9114-0cecc0be773c_61\", \"run_number\": 66, \"metric\": null, \"status\": \"Completed\", \"run_type\": \"azureml.scriptrun\", \"training_percent\": \"100\", \"start_time\": \"2021-04-13T19:42:07.653197Z\", \"end_time\": \"2021-04-13T19:44:31.237196Z\", \"created_time\": \"2021-04-13T19:41:56.524902Z\", \"created_time_dt\": \"2021-04-13T19:41:56.524902Z\", \"duration\": \"0:02:34\", \"iteration\": \"61\", \"goal\": \"AUC_weighted_max\", \"run_name\": \"MaxAbsScaler, LogisticRegression\", \"run_properties\": \"copy=True\", \"primary_metric\": 0.91304666, \"best_metric\": 0.91548228}, {\"run_id\": \"AutoML_f4a84f04-fd89-406f-9114-0cecc0be773c_62\", \"run_number\": 67, \"metric\": null, \"status\": \"Completed\", \"run_type\": \"azureml.scriptrun\", \"training_percent\": \"100\", \"start_time\": \"2021-04-13T19:42:07.632221Z\", \"end_time\": \"2021-04-13T19:44:31.267586Z\", \"created_time\": \"2021-04-13T19:41:56.650701Z\", \"created_time_dt\": \"2021-04-13T19:41:56.650701Z\", \"duration\": \"0:02:34\", \"iteration\": \"62\", \"goal\": \"AUC_weighted_max\", \"run_name\": \"MaxAbsScaler, LogisticRegression\", \"run_properties\": \"copy=True\", \"primary_metric\": 0.90963757, \"best_metric\": 0.91548228}, {\"run_id\": \"AutoML_f4a84f04-fd89-406f-9114-0cecc0be773c_63\", \"run_number\": 68, \"metric\": null, \"status\": \"Completed\", \"run_type\": \"azureml.scriptrun\", \"training_percent\": \"100\", \"start_time\": \"2021-04-13T19:42:10.419655Z\", \"end_time\": \"2021-04-13T19:44:33.703889Z\", \"created_time\": \"2021-04-13T19:42:01.829544Z\", \"created_time_dt\": \"2021-04-13T19:42:01.829544Z\", \"duration\": \"0:02:31\", \"iteration\": \"63\", \"goal\": \"AUC_weighted_max\", \"run_name\": \"StandardScalerWrapper, LogisticRegression\", \"run_properties\": \"<azureml.automl.runtime.shared.model_wrappers.StandardScalerWrapper object at 0x7fc645402f60\", \"primary_metric\": 0.88044317, \"best_metric\": 0.91548228}, {\"run_id\": \"AutoML_f4a84f04-fd89-406f-9114-0cecc0be773c_64\", \"run_number\": 69, \"metric\": null, \"status\": \"Completed\", \"run_type\": \"azureml.scriptrun\", \"training_percent\": \"100\", \"start_time\": \"2021-04-13T19:44:39.918402Z\", \"end_time\": \"2021-04-13T19:45:23.534527Z\", \"created_time\": \"2021-04-13T19:44:23.944632Z\", \"created_time_dt\": \"2021-04-13T19:44:23.944632Z\", \"duration\": \"0:00:59\", \"iteration\": \"64\", \"goal\": \"AUC_weighted_max\", \"run_name\": \"StandardScalerWrapper, LogisticRegression\", \"run_properties\": \"<azureml.automl.runtime.shared.model_wrappers.StandardScalerWrapper object at 0x7fa29e1a0b70\", \"primary_metric\": 0.89515395, \"best_metric\": 0.91548228}, {\"run_id\": \"AutoML_f4a84f04-fd89-406f-9114-0cecc0be773c_65\", \"run_number\": 70, \"metric\": null, \"status\": \"Completed\", \"run_type\": \"azureml.scriptrun\", \"training_percent\": \"100\", \"start_time\": \"2021-04-13T19:44:42.323574Z\", \"end_time\": \"2021-04-13T19:45:23.799006Z\", \"created_time\": \"2021-04-13T19:44:33.944012Z\", \"created_time_dt\": \"2021-04-13T19:44:33.944012Z\", \"duration\": \"0:00:49\", \"iteration\": \"65\", \"goal\": \"AUC_weighted_max\", \"run_name\": \"TruncatedSVDWrapper, LinearSVM\", \"run_properties\": \"n_components=0.95, random_state=None\", \"primary_metric\": 0.88131667, \"best_metric\": 0.91548228}, {\"run_id\": \"AutoML_f4a84f04-fd89-406f-9114-0cecc0be773c_66\", \"run_number\": 71, \"metric\": null, \"status\": \"Completed\", \"run_type\": \"azureml.scriptrun\", \"training_percent\": \"100\", \"start_time\": \"2021-04-13T19:44:47.402437Z\", \"end_time\": \"2021-04-13T19:45:28.838016Z\", \"created_time\": \"2021-04-13T19:44:38.639892Z\", \"created_time_dt\": \"2021-04-13T19:44:38.639892Z\", \"duration\": \"0:00:50\", \"iteration\": \"66\", \"goal\": \"AUC_weighted_max\", \"run_name\": \"MaxAbsScaler, LogisticRegression\", \"run_properties\": \"copy=True\", \"primary_metric\": 0.89350524, \"best_metric\": 0.91548228}, {\"run_id\": \"AutoML_f4a84f04-fd89-406f-9114-0cecc0be773c_68\", \"run_number\": 72, \"metric\": null, \"status\": \"Completed\", \"run_type\": \"azureml.scriptrun\", \"training_percent\": \"100\", \"start_time\": \"2021-04-13T19:44:48.671328Z\", \"end_time\": \"2021-04-13T19:45:30.855293Z\", \"created_time\": \"2021-04-13T19:44:38.65545Z\", \"created_time_dt\": \"2021-04-13T19:44:38.65545Z\", \"duration\": \"0:00:52\", \"iteration\": \"68\", \"goal\": \"AUC_weighted_max\", \"run_name\": \"StandardScalerWrapper, LogisticRegression\", \"run_properties\": \"<azureml.automl.runtime.shared.model_wrappers.StandardScalerWrapper object at 0x7fa386cb7470\", \"primary_metric\": 0.89110745, \"best_metric\": 0.91548228}, {\"run_id\": \"AutoML_f4a84f04-fd89-406f-9114-0cecc0be773c_67\", \"run_number\": 73, \"metric\": null, \"status\": \"Completed\", \"run_type\": \"azureml.scriptrun\", \"training_percent\": \"100\", \"start_time\": \"2021-04-13T19:44:49.732003Z\", \"end_time\": \"2021-04-13T19:45:30.22791Z\", \"created_time\": \"2021-04-13T19:44:38.820179Z\", \"created_time_dt\": \"2021-04-13T19:44:38.820179Z\", \"duration\": \"0:00:51\", \"iteration\": \"67\", \"goal\": \"AUC_weighted_max\", \"run_name\": \"MaxAbsScaler, SGD\", \"run_properties\": \"copy=True\", \"primary_metric\": 0.90742371, \"best_metric\": 0.91548228}, {\"run_id\": \"AutoML_f4a84f04-fd89-406f-9114-0cecc0be773c_69\", \"run_number\": 74, \"metric\": null, \"status\": \"Canceled\", \"run_type\": \"azureml.scriptrun\", \"training_percent\": \"100\", \"start_time\": \"2021-04-13T19:45:26.742511Z\", \"end_time\": \"2021-04-13T19:45:42.58538Z\", \"created_time\": \"2021-04-13T19:45:26.742511Z\", \"created_time_dt\": \"2021-04-13T19:45:26.742511Z\", \"duration\": \"0:00:15\", \"iteration\": \"69\", \"goal\": null, \"run_name\": \"Canceled\", \"run_properties\": null}, {\"run_id\": \"AutoML_f4a84f04-fd89-406f-9114-0cecc0be773c_70\", \"run_number\": 75, \"metric\": null, \"status\": \"Canceled\", \"run_type\": \"azureml.scriptrun\", \"training_percent\": \"100\", \"start_time\": \"2021-04-13T19:45:26.765997Z\", \"end_time\": \"2021-04-13T19:45:42.016828Z\", \"created_time\": \"2021-04-13T19:45:26.765997Z\", \"created_time_dt\": \"2021-04-13T19:45:26.765997Z\", \"duration\": \"0:00:15\", \"iteration\": \"70\", \"goal\": null, \"run_name\": \"Canceled\", \"run_properties\": null}, {\"run_id\": \"AutoML_f4a84f04-fd89-406f-9114-0cecc0be773c_71\", \"run_number\": 76, \"metric\": null, \"status\": \"Completed\", \"run_type\": \"azureml.scriptrun\", \"training_percent\": \"100\", \"start_time\": \"2021-04-13T19:45:55.351649Z\", \"end_time\": \"2021-04-13T19:47:18.19429Z\", \"created_time\": \"2021-04-13T19:45:43.563006Z\", \"created_time_dt\": \"2021-04-13T19:45:43.563006Z\", \"duration\": \"0:01:34\", \"iteration\": \"71\", \"goal\": \"AUC_weighted_max\", \"run_name\": \"VotingEnsemble\", \"run_properties\": \"classification_labels=None,\\n                              estimators=[('52',\\n                                           Pipeline(memory=None,\\n                                                    steps=[('standardscalerwrapper',\\n                                                            <azureml.automl.runtime.shared.model_wrappers.StandardScalerWrapper object at 0x7fdf04737748>\", \"primary_metric\": 0.91941375, \"best_metric\": 0.91941375}, {\"run_id\": \"AutoML_f4a84f04-fd89-406f-9114-0cecc0be773c_72\", \"run_number\": 77, \"metric\": null, \"status\": \"Completed\", \"run_type\": \"azureml.scriptrun\", \"training_percent\": \"100\", \"start_time\": \"2021-04-13T19:46:14.926988Z\", \"end_time\": \"2021-04-13T19:48:51.159637Z\", \"created_time\": \"2021-04-13T19:45:43.871004Z\", \"created_time_dt\": \"2021-04-13T19:45:43.871004Z\", \"duration\": \"0:03:07\", \"iteration\": \"72\", \"goal\": \"AUC_weighted_max\", \"run_name\": \"StackEnsemble\", \"run_properties\": \"base_learners=[('52',\\n                                        Pipeline(memory=None,\\n                                                 steps=[('standardscalerwrapper',\\n                                                         <azureml.automl.runtime.shared.model_wrappers.StandardScalerWrapper object at 0x7f23580688d0>\", \"primary_metric\": 0.91203613, \"best_metric\": 0.91941375}], \"children_metrics\": {\"categories\": [0], \"series\": {\"recall_score_micro\": [{\"categories\": [\"0\", \"1\", \"2\", \"3\", \"4\", \"5\", \"6\", \"7\", \"8\", \"9\", \"10\", \"11\", \"12\", \"13\", \"14\", \"15\", \"16\", \"17\", \"18\", \"19\", \"20\", \"21\", \"22\", \"23\", \"24\", \"25\", \"26\", \"27\", \"28\", \"29\", \"30\", \"31\", \"32\", \"33\", \"34\", \"35\", \"36\", \"37\", \"38\", \"39\", \"40\", \"41\", \"42\", \"43\", \"44\", \"45\", \"46\", \"47\", \"48\", \"49\", \"50\", \"51\", \"52\", \"53\", \"54\", \"55\", \"56\", \"57\", \"58\", \"59\", \"60\", \"61\", \"62\", \"63\", \"64\", \"65\", \"66\", \"67\", \"68\", \"71\", \"72\"], \"mode\": \"markers\", \"name\": \"recall_score_micro\", \"stepped\": false, \"type\": \"scatter\", \"data\": [0.7922077922077922, 0.7829004329004329, 0.7967532467532467, 0.8158008658008657, 0.7922077922077922, 0.8015151515151514, 0.8067099567099566, 0.8158008658008657, 0.7872294372294372, 0.806060606060606, 0.7777056277056278, 0.7876623376623375, 0.8067099567099566, 0.7829004329004329, 0.7694805194805195, 0.7502164502164502, 0.7729437229437229, 0.82012987012987, 0.7967532467532467, 0.811038961038961, 0.8255411255411256, 0.798051948051948, 0.8067099567099566, 0.811038961038961, 0.8251082251082252, 0.8064935064935064, 0.8062770562770563, 0.7865800865800866, 0.8062770562770563, 0.8015151515151514, 0.7209956709956711, 0.8064935064935064, 0.7878787878787878, 0.8251082251082252, 0.8108225108225108, 0.8015151515151515, 0.7829004329004328, 0.8064935064935064, 0.7870129870129869, 0.824891774891775, 0.793073593073593, 0.7735930735930735, 0.7878787878787878, 0.8012987012987013, 0.7924242424242424, 0.7363636363636363, 0.8019480519480519, 0.8155844155844155, 0.7971861471861472, 0.8017316017316016, 0.7690476190476191, 0.843939393939394, 0.8010822510822511, 0.796969696969697, 0.769047619047619, 0.7965367965367964, 0.769047619047619, 0.8012987012987013, 0.7783549783549782, 0.8155844155844157, 0.7874458874458874, 0.8062770562770561, 0.8203463203463203, 0.7878787878787878, 0.778138528138528, 0.764069264069264, 0.7783549783549784, 0.806060606060606, 0.769047619047619, 0.8062770562770563, 0.8160173160173161]}, {\"categories\": [\"0\", \"1\", \"2\", \"3\", \"4\", \"5\", \"6\", \"7\", \"8\", \"9\", \"10\", \"11\", \"12\", \"13\", \"14\", \"15\", \"16\", \"17\", \"18\", \"19\", \"20\", \"21\", \"22\", \"23\", \"24\", \"25\", \"26\", \"27\", \"28\", \"29\", \"30\", \"31\", \"32\", \"33\", \"34\", \"35\", \"36\", \"37\", \"38\", \"39\", \"40\", \"41\", \"42\", \"43\", \"44\", \"45\", \"46\", \"47\", \"48\", \"49\", \"50\", \"51\", \"52\", \"53\", \"54\", \"55\", \"56\", \"57\", \"58\", \"59\", \"60\", \"61\", \"62\", \"63\", \"64\", \"65\", \"66\", \"67\", \"68\", \"71\", \"72\"], \"mode\": \"lines\", \"name\": \"recall_score_micro_max\", \"stepped\": true, \"type\": \"scatter\", \"data\": [0.7922077922077922, 0.7922077922077922, 0.7967532467532467, 0.8158008658008657, 0.8158008658008657, 0.8158008658008657, 0.8158008658008657, 0.8158008658008657, 0.8158008658008657, 0.8158008658008657, 0.8158008658008657, 0.8158008658008657, 0.8158008658008657, 0.8158008658008657, 0.8158008658008657, 0.8158008658008657, 0.8158008658008657, 0.82012987012987, 0.82012987012987, 0.82012987012987, 0.8255411255411256, 0.8255411255411256, 0.8255411255411256, 0.8255411255411256, 0.8255411255411256, 0.8255411255411256, 0.8255411255411256, 0.8255411255411256, 0.8255411255411256, 0.8255411255411256, 0.8255411255411256, 0.8255411255411256, 0.8255411255411256, 0.8255411255411256, 0.8255411255411256, 0.8255411255411256, 0.8255411255411256, 0.8255411255411256, 0.8255411255411256, 0.8255411255411256, 0.8255411255411256, 0.8255411255411256, 0.8255411255411256, 0.8255411255411256, 0.8255411255411256, 0.8255411255411256, 0.8255411255411256, 0.8255411255411256, 0.8255411255411256, 0.8255411255411256, 0.8255411255411256, 0.843939393939394, 0.843939393939394, 0.843939393939394, 0.843939393939394, 0.843939393939394, 0.843939393939394, 0.843939393939394, 0.843939393939394, 0.843939393939394, 0.843939393939394, 0.843939393939394, 0.843939393939394, 0.843939393939394, 0.843939393939394, 0.843939393939394, 0.843939393939394, 0.843939393939394, 0.843939393939394, 0.843939393939394, 0.843939393939394]}], \"AUC_macro\": [{\"categories\": [\"0\", \"1\", \"2\", \"3\", \"4\", \"5\", \"6\", \"7\", \"8\", \"9\", \"10\", \"11\", \"12\", \"13\", \"14\", \"15\", \"16\", \"17\", \"18\", \"19\", \"20\", \"21\", \"22\", \"23\", \"24\", \"25\", \"26\", \"27\", \"28\", \"29\", \"30\", \"31\", \"32\", \"33\", \"34\", \"35\", \"36\", \"37\", \"38\", \"39\", \"40\", \"41\", \"42\", \"43\", \"44\", \"45\", \"46\", \"47\", \"48\", \"49\", \"50\", \"51\", \"52\", \"53\", \"54\", \"55\", \"56\", \"57\", \"58\", \"59\", \"60\", \"61\", \"62\", \"63\", \"64\", \"65\", \"66\", \"67\", \"68\", \"71\", \"72\"], \"mode\": \"markers\", \"name\": \"AUC_macro\", \"stepped\": false, \"type\": \"scatter\", \"data\": [0.8729499600928172, 0.8651201906559048, 0.8805475609047038, 0.8821969630898202, 0.8730929255929256, 0.8808988564345708, 0.8907529375386518, 0.8908402510188225, 0.905680635502064, 0.9049990287490288, 0.865299184942042, 0.8686093139664568, 0.8866185203685204, 0.868211940176226, 0.8710228362906933, 0.8142657970336542, 0.8668489182774897, 0.8951262560191132, 0.8826822912537198, 0.893976578976579, 0.8972018127375272, 0.8779860285217428, 0.8910880389451817, 0.9056148084719512, 0.9124383486883486, 0.8906830338973197, 0.8945955433455435, 0.8802479861408432, 0.8974734921163494, 0.8892821199964057, 0.8535328031756603, 0.9026401640687356, 0.8833277833277833, 0.9040324027824027, 0.9116670300598871, 0.8864977813192099, 0.8846036899608329, 0.8846963354106212, 0.8688077134505706, 0.9134495993424565, 0.8974369876155592, 0.8929611922469066, 0.8881407084978514, 0.9081846196131911, 0.88999444999445, 0.8451471213971213, 0.8915042232899376, 0.8872059091701949, 0.8754169177383464, 0.8916040110682968, 0.8451471213971213, 0.9147201145415431, 0.9154822756608472, 0.9056098729313016, 0.8920333766762336, 0.9056736781736783, 0.8940741930027645, 0.9143522681022681, 0.8929611922469066, 0.9136225216582359, 0.9066818565032853, 0.9130466623323766, 0.9096375714232858, 0.880443167943168, 0.8951539531896673, 0.8813166661380947, 0.8935052381480955, 0.9074237138522852, 0.8911074507503078, 0.9194137542351829, 0.9120361318575604]}, {\"categories\": [\"0\", \"1\", \"2\", \"3\", \"4\", \"5\", \"6\", \"7\", \"8\", \"9\", \"10\", \"11\", \"12\", \"13\", \"14\", \"15\", \"16\", \"17\", \"18\", \"19\", \"20\", \"21\", \"22\", \"23\", \"24\", \"25\", \"26\", \"27\", \"28\", \"29\", \"30\", \"31\", \"32\", \"33\", \"34\", \"35\", \"36\", \"37\", \"38\", \"39\", \"40\", \"41\", \"42\", \"43\", \"44\", \"45\", \"46\", \"47\", \"48\", \"49\", \"50\", \"51\", \"52\", \"53\", \"54\", \"55\", \"56\", \"57\", \"58\", \"59\", \"60\", \"61\", \"62\", \"63\", \"64\", \"65\", \"66\", \"67\", \"68\", \"71\", \"72\"], \"mode\": \"lines\", \"name\": \"AUC_macro_max\", \"stepped\": true, \"type\": \"scatter\", \"data\": [0.8729499600928172, 0.8729499600928172, 0.8805475609047038, 0.8821969630898202, 0.8821969630898202, 0.8821969630898202, 0.8907529375386518, 0.8908402510188225, 0.905680635502064, 0.905680635502064, 0.905680635502064, 0.905680635502064, 0.905680635502064, 0.905680635502064, 0.905680635502064, 0.905680635502064, 0.905680635502064, 0.905680635502064, 0.905680635502064, 0.905680635502064, 0.905680635502064, 0.905680635502064, 0.905680635502064, 0.905680635502064, 0.9124383486883486, 0.9124383486883486, 0.9124383486883486, 0.9124383486883486, 0.9124383486883486, 0.9124383486883486, 0.9124383486883486, 0.9124383486883486, 0.9124383486883486, 0.9124383486883486, 0.9124383486883486, 0.9124383486883486, 0.9124383486883486, 0.9124383486883486, 0.9124383486883486, 0.9134495993424565, 0.9134495993424565, 0.9134495993424565, 0.9134495993424565, 0.9134495993424565, 0.9134495993424565, 0.9134495993424565, 0.9134495993424565, 0.9134495993424565, 0.9134495993424565, 0.9134495993424565, 0.9134495993424565, 0.9147201145415431, 0.9154822756608472, 0.9154822756608472, 0.9154822756608472, 0.9154822756608472, 0.9154822756608472, 0.9154822756608472, 0.9154822756608472, 0.9154822756608472, 0.9154822756608472, 0.9154822756608472, 0.9154822756608472, 0.9154822756608472, 0.9154822756608472, 0.9154822756608472, 0.9154822756608472, 0.9154822756608472, 0.9154822756608472, 0.9194137542351829, 0.9194137542351829]}], \"balanced_accuracy\": [{\"categories\": [\"0\", \"1\", \"2\", \"3\", \"4\", \"5\", \"6\", \"7\", \"8\", \"9\", \"10\", \"11\", \"12\", \"13\", \"14\", \"15\", \"16\", \"17\", \"18\", \"19\", \"20\", \"21\", \"22\", \"23\", \"24\", \"25\", \"26\", \"27\", \"28\", \"29\", \"30\", \"31\", \"32\", \"33\", \"34\", \"35\", \"36\", \"37\", \"38\", \"39\", \"40\", \"41\", \"42\", \"43\", \"44\", \"45\", \"46\", \"47\", \"48\", \"49\", \"50\", \"51\", \"52\", \"53\", \"54\", \"55\", \"56\", \"57\", \"58\", \"59\", \"60\", \"61\", \"62\", \"63\", \"64\", \"65\", \"66\", \"67\", \"68\", \"71\", \"72\"], \"mode\": \"markers\", \"name\": \"balanced_accuracy\", \"stepped\": false, \"type\": \"scatter\", \"data\": [0.7868856837606837, 0.7762173937173937, 0.79498778998779, 0.815766663891664, 0.7921140664890665, 0.7949549755799756, 0.7982455738705739, 0.8182387057387055, 0.7813809801309801, 0.8099254218004217, 0.7711173548673549, 0.7873427960927961, 0.8015938922188921, 0.7744284188034187, 0.7685126678876679, 0.7408480408480408, 0.765090465090465, 0.8193070818070817, 0.7959142246642246, 0.8173440448440449, 0.8299023199023198, 0.7956315906315906, 0.8037049755799754, 0.8173608336108336, 0.8281277750027749, 0.8075754800754801, 0.8051624764124764, 0.7842939699189699, 0.8006682206682207, 0.8020684870684871, 0.7202724358974357, 0.8079263098013097, 0.7898974636474636, 0.8285551254301253, 0.8163855588855589, 0.7976068376068376, 0.7822875735375735, 0.8041910866910866, 0.7798916361416361, 0.828410409035409, 0.8094131562881562, 0.7794212731712731, 0.7898974636474636, 0.8070563464313464, 0.7940641303141304, 0.7137461843711843, 0.8068368437118437, 0.8110958485958484, 0.79945714008214, 0.8028599178599178, 0.7653028915528916, 0.8509745115995117, 0.8085889804639803, 0.8036713980463981, 0.7752546065046064, 0.8020723720723721, 0.7752546065046064, 0.809414405039405, 0.783267427017427, 0.8222565628815628, 0.7960752442002442, 0.8135146797646797, 0.8248448079698079, 0.7898974636474636, 0.7835879398379398, 0.7661764624264623, 0.7797417859917859, 0.8109025002775002, 0.7752546065046064, 0.8130898962148961, 0.7655666555666555]}, {\"categories\": [\"0\", \"1\", \"2\", \"3\", \"4\", \"5\", \"6\", \"7\", \"8\", \"9\", \"10\", \"11\", \"12\", \"13\", \"14\", \"15\", \"16\", \"17\", \"18\", \"19\", \"20\", \"21\", \"22\", \"23\", \"24\", \"25\", \"26\", \"27\", \"28\", \"29\", \"30\", \"31\", \"32\", \"33\", \"34\", \"35\", \"36\", \"37\", \"38\", \"39\", \"40\", \"41\", \"42\", \"43\", \"44\", \"45\", \"46\", \"47\", \"48\", \"49\", \"50\", \"51\", \"52\", \"53\", \"54\", \"55\", \"56\", \"57\", \"58\", \"59\", \"60\", \"61\", \"62\", \"63\", \"64\", \"65\", \"66\", \"67\", \"68\", \"71\", \"72\"], \"mode\": \"lines\", \"name\": \"balanced_accuracy_max\", \"stepped\": true, \"type\": \"scatter\", \"data\": [0.7868856837606837, 0.7868856837606837, 0.79498778998779, 0.815766663891664, 0.815766663891664, 0.815766663891664, 0.815766663891664, 0.8182387057387055, 0.8182387057387055, 0.8182387057387055, 0.8182387057387055, 0.8182387057387055, 0.8182387057387055, 0.8182387057387055, 0.8182387057387055, 0.8182387057387055, 0.8182387057387055, 0.8193070818070817, 0.8193070818070817, 0.8193070818070817, 0.8299023199023198, 0.8299023199023198, 0.8299023199023198, 0.8299023199023198, 0.8299023199023198, 0.8299023199023198, 0.8299023199023198, 0.8299023199023198, 0.8299023199023198, 0.8299023199023198, 0.8299023199023198, 0.8299023199023198, 0.8299023199023198, 0.8299023199023198, 0.8299023199023198, 0.8299023199023198, 0.8299023199023198, 0.8299023199023198, 0.8299023199023198, 0.8299023199023198, 0.8299023199023198, 0.8299023199023198, 0.8299023199023198, 0.8299023199023198, 0.8299023199023198, 0.8299023199023198, 0.8299023199023198, 0.8299023199023198, 0.8299023199023198, 0.8299023199023198, 0.8299023199023198, 0.8509745115995117, 0.8509745115995117, 0.8509745115995117, 0.8509745115995117, 0.8509745115995117, 0.8509745115995117, 0.8509745115995117, 0.8509745115995117, 0.8509745115995117, 0.8509745115995117, 0.8509745115995117, 0.8509745115995117, 0.8509745115995117, 0.8509745115995117, 0.8509745115995117, 0.8509745115995117, 0.8509745115995117, 0.8509745115995117, 0.8509745115995117, 0.8509745115995117]}], \"f1_score_macro\": [{\"categories\": [\"0\", \"1\", \"2\", \"3\", \"4\", \"5\", \"6\", \"7\", \"8\", \"9\", \"10\", \"11\", \"12\", \"13\", \"14\", \"15\", \"16\", \"17\", \"18\", \"19\", \"20\", \"21\", \"22\", \"23\", \"24\", \"25\", \"26\", \"27\", \"28\", \"29\", \"30\", \"31\", \"32\", \"33\", \"34\", \"35\", \"36\", \"37\", \"38\", \"39\", \"40\", \"41\", \"42\", \"43\", \"44\", \"45\", \"46\", \"47\", \"48\", \"49\", \"50\", \"51\", \"52\", \"53\", \"54\", \"55\", \"56\", \"57\", \"58\", \"59\", \"60\", \"61\", \"62\", \"63\", \"64\", \"65\", \"66\", \"67\", \"68\", \"71\", \"72\"], \"mode\": \"markers\", \"name\": \"f1_score_macro\", \"stepped\": false, \"type\": \"scatter\", \"data\": [0.7768392925742839, 0.7665456777113847, 0.7806419171654806, 0.8029595830955136, 0.776567564776706, 0.7826018945343833, 0.787174155388989, 0.8021548708643926, 0.7677726706844353, 0.7940448148539957, 0.7622848862504035, 0.7742470343483949, 0.7909334269368699, 0.7638384390337494, 0.7511143554948109, 0.7303404033702537, 0.7508616866327913, 0.8064279575766082, 0.7819724519606346, 0.7985490393908521, 0.81281910209314, 0.7821386500426851, 0.7920583735825406, 0.7999425100021748, 0.813216085828359, 0.7931033020008087, 0.7919533638875743, 0.7678414856818747, 0.7876616011647476, 0.7856553966015651, 0.691065589068703, 0.7928408543264629, 0.7751398277455284, 0.8132051372763552, 0.7996320417055711, 0.7872107909358853, 0.7684206678055446, 0.7911870321474783, 0.7690660664176665, 0.8124307438502253, 0.78419924722055, 0.7619945319836972, 0.7751398277455284, 0.7904424154277094, 0.7795784242367564, 0.6994325360100532, 0.7899886336546593, 0.7985241422432602, 0.7854466413332555, 0.7886081976181701, 0.7536690614140344, 0.8332669163155979, 0.7901753651293293, 0.7857146636435909, 0.7575559354924691, 0.7845574827990467, 0.7575559354924691, 0.7909228075845722, 0.766615447016377, 0.8051153173158259, 0.7759866485989217, 0.7954707327329147, 0.8092463369963371, 0.7751398277455284, 0.7664875594240931, 0.7511293081142993, 0.7652970883012623, 0.7947430690224808, 0.7575559354924691, 0.7954591447018526, 0.7452819282334304]}, {\"categories\": [\"0\", \"1\", \"2\", \"3\", \"4\", \"5\", \"6\", \"7\", \"8\", \"9\", \"10\", \"11\", \"12\", \"13\", \"14\", \"15\", \"16\", \"17\", \"18\", \"19\", \"20\", \"21\", \"22\", \"23\", \"24\", \"25\", \"26\", \"27\", \"28\", \"29\", \"30\", \"31\", \"32\", \"33\", \"34\", \"35\", \"36\", \"37\", \"38\", \"39\", \"40\", \"41\", \"42\", \"43\", \"44\", \"45\", \"46\", \"47\", \"48\", \"49\", \"50\", \"51\", \"52\", \"53\", \"54\", \"55\", \"56\", \"57\", \"58\", \"59\", \"60\", \"61\", \"62\", \"63\", \"64\", \"65\", \"66\", \"67\", \"68\", \"71\", \"72\"], \"mode\": \"lines\", \"name\": \"f1_score_macro_max\", \"stepped\": true, \"type\": \"scatter\", \"data\": [0.7768392925742839, 0.7768392925742839, 0.7806419171654806, 0.8029595830955136, 0.8029595830955136, 0.8029595830955136, 0.8029595830955136, 0.8029595830955136, 0.8029595830955136, 0.8029595830955136, 0.8029595830955136, 0.8029595830955136, 0.8029595830955136, 0.8029595830955136, 0.8029595830955136, 0.8029595830955136, 0.8029595830955136, 0.8064279575766082, 0.8064279575766082, 0.8064279575766082, 0.81281910209314, 0.81281910209314, 0.81281910209314, 0.81281910209314, 0.813216085828359, 0.813216085828359, 0.813216085828359, 0.813216085828359, 0.813216085828359, 0.813216085828359, 0.813216085828359, 0.813216085828359, 0.813216085828359, 0.813216085828359, 0.813216085828359, 0.813216085828359, 0.813216085828359, 0.813216085828359, 0.813216085828359, 0.813216085828359, 0.813216085828359, 0.813216085828359, 0.813216085828359, 0.813216085828359, 0.813216085828359, 0.813216085828359, 0.813216085828359, 0.813216085828359, 0.813216085828359, 0.813216085828359, 0.813216085828359, 0.8332669163155979, 0.8332669163155979, 0.8332669163155979, 0.8332669163155979, 0.8332669163155979, 0.8332669163155979, 0.8332669163155979, 0.8332669163155979, 0.8332669163155979, 0.8332669163155979, 0.8332669163155979, 0.8332669163155979, 0.8332669163155979, 0.8332669163155979, 0.8332669163155979, 0.8332669163155979, 0.8332669163155979, 0.8332669163155979, 0.8332669163155979, 0.8332669163155979]}], \"precision_score_micro\": [{\"categories\": [\"0\", \"1\", \"2\", \"3\", \"4\", \"5\", \"6\", \"7\", \"8\", \"9\", \"10\", \"11\", \"12\", \"13\", \"14\", \"15\", \"16\", \"17\", \"18\", \"19\", \"20\", \"21\", \"22\", \"23\", \"24\", \"25\", \"26\", \"27\", \"28\", \"29\", \"30\", \"31\", \"32\", \"33\", \"34\", \"35\", \"36\", \"37\", \"38\", \"39\", \"40\", \"41\", \"42\", \"43\", \"44\", \"45\", \"46\", \"47\", \"48\", \"49\", \"50\", \"51\", \"52\", \"53\", \"54\", \"55\", \"56\", \"57\", \"58\", \"59\", \"60\", \"61\", \"62\", \"63\", \"64\", \"65\", \"66\", \"67\", \"68\", \"71\", \"72\"], \"mode\": \"markers\", \"name\": \"precision_score_micro\", \"stepped\": false, \"type\": \"scatter\", \"data\": [0.7922077922077922, 0.7829004329004329, 0.7967532467532467, 0.8158008658008657, 0.7922077922077922, 0.8015151515151514, 0.8067099567099566, 0.8158008658008657, 0.7872294372294372, 0.806060606060606, 0.7777056277056278, 0.7876623376623375, 0.8067099567099566, 0.7829004329004329, 0.7694805194805195, 0.7502164502164502, 0.7729437229437229, 0.82012987012987, 0.7967532467532467, 0.811038961038961, 0.8255411255411256, 0.798051948051948, 0.8067099567099566, 0.811038961038961, 0.8251082251082252, 0.8064935064935064, 0.8062770562770563, 0.7865800865800866, 0.8062770562770563, 0.8015151515151514, 0.7209956709956711, 0.8064935064935064, 0.7878787878787878, 0.8251082251082252, 0.8108225108225108, 0.8015151515151515, 0.7829004329004328, 0.8064935064935064, 0.7870129870129869, 0.824891774891775, 0.793073593073593, 0.7735930735930735, 0.7878787878787878, 0.8012987012987013, 0.7924242424242424, 0.7363636363636363, 0.8019480519480519, 0.8155844155844155, 0.7971861471861472, 0.8017316017316016, 0.7690476190476191, 0.843939393939394, 0.8010822510822511, 0.796969696969697, 0.769047619047619, 0.7965367965367964, 0.769047619047619, 0.8012987012987013, 0.7783549783549782, 0.8155844155844157, 0.7874458874458874, 0.8062770562770561, 0.8203463203463203, 0.7878787878787878, 0.778138528138528, 0.764069264069264, 0.7783549783549784, 0.806060606060606, 0.769047619047619, 0.8062770562770563, 0.8160173160173161]}, {\"categories\": [\"0\", \"1\", \"2\", \"3\", \"4\", \"5\", \"6\", \"7\", \"8\", \"9\", \"10\", \"11\", \"12\", \"13\", \"14\", \"15\", \"16\", \"17\", \"18\", \"19\", \"20\", \"21\", \"22\", \"23\", \"24\", \"25\", \"26\", \"27\", \"28\", \"29\", \"30\", \"31\", \"32\", \"33\", \"34\", \"35\", \"36\", \"37\", \"38\", \"39\", \"40\", \"41\", \"42\", \"43\", \"44\", \"45\", \"46\", \"47\", \"48\", \"49\", \"50\", \"51\", \"52\", \"53\", \"54\", \"55\", \"56\", \"57\", \"58\", \"59\", \"60\", \"61\", \"62\", \"63\", \"64\", \"65\", \"66\", \"67\", \"68\", \"71\", \"72\"], \"mode\": \"lines\", \"name\": \"precision_score_micro_max\", \"stepped\": true, \"type\": \"scatter\", \"data\": [0.7922077922077922, 0.7922077922077922, 0.7967532467532467, 0.8158008658008657, 0.8158008658008657, 0.8158008658008657, 0.8158008658008657, 0.8158008658008657, 0.8158008658008657, 0.8158008658008657, 0.8158008658008657, 0.8158008658008657, 0.8158008658008657, 0.8158008658008657, 0.8158008658008657, 0.8158008658008657, 0.8158008658008657, 0.82012987012987, 0.82012987012987, 0.82012987012987, 0.8255411255411256, 0.8255411255411256, 0.8255411255411256, 0.8255411255411256, 0.8255411255411256, 0.8255411255411256, 0.8255411255411256, 0.8255411255411256, 0.8255411255411256, 0.8255411255411256, 0.8255411255411256, 0.8255411255411256, 0.8255411255411256, 0.8255411255411256, 0.8255411255411256, 0.8255411255411256, 0.8255411255411256, 0.8255411255411256, 0.8255411255411256, 0.8255411255411256, 0.8255411255411256, 0.8255411255411256, 0.8255411255411256, 0.8255411255411256, 0.8255411255411256, 0.8255411255411256, 0.8255411255411256, 0.8255411255411256, 0.8255411255411256, 0.8255411255411256, 0.8255411255411256, 0.843939393939394, 0.843939393939394, 0.843939393939394, 0.843939393939394, 0.843939393939394, 0.843939393939394, 0.843939393939394, 0.843939393939394, 0.843939393939394, 0.843939393939394, 0.843939393939394, 0.843939393939394, 0.843939393939394, 0.843939393939394, 0.843939393939394, 0.843939393939394, 0.843939393939394, 0.843939393939394, 0.843939393939394, 0.843939393939394]}], \"norm_macro_recall\": [{\"categories\": [\"0\", \"1\", \"2\", \"3\", \"4\", \"5\", \"6\", \"7\", \"8\", \"9\", \"10\", \"11\", \"12\", \"13\", \"14\", \"15\", \"16\", \"17\", \"18\", \"19\", \"20\", \"21\", \"22\", \"23\", \"24\", \"25\", \"26\", \"27\", \"28\", \"29\", \"30\", \"31\", \"32\", \"33\", \"34\", \"35\", \"36\", \"37\", \"38\", \"39\", \"40\", \"41\", \"42\", \"43\", \"44\", \"45\", \"46\", \"47\", \"48\", \"49\", \"50\", \"51\", \"52\", \"53\", \"54\", \"55\", \"56\", \"57\", \"58\", \"59\", \"60\", \"61\", \"62\", \"63\", \"64\", \"65\", \"66\", \"67\", \"68\", \"71\", \"72\"], \"mode\": \"markers\", \"name\": \"norm_macro_recall\", \"stepped\": false, \"type\": \"scatter\", \"data\": [0.5737713675213676, 0.5524347874347874, 0.58997557997558, 0.6315333277833278, 0.5842281329781329, 0.5899099511599512, 0.5964911477411478, 0.6364774114774115, 0.5627619602619603, 0.6198508436008436, 0.5422347097347098, 0.5746855921855921, 0.6031877844377844, 0.5488568376068376, 0.5370253357753357, 0.4816960816960817, 0.5301809301809302, 0.6386141636141636, 0.5918284493284494, 0.6346880896880898, 0.6598046398046398, 0.5912631812631812, 0.6074099511599511, 0.6347216672216672, 0.65625555000555, 0.6151509601509602, 0.6103249528249529, 0.56858793983794, 0.6013364413364413, 0.6041369741369741, 0.4405448717948718, 0.6158526196026196, 0.5797949272949273, 0.6571102508602509, 0.6327711177711178, 0.5952136752136752, 0.564575147075147, 0.6083821733821735, 0.5597832722832723, 0.6568208180708182, 0.6188263125763125, 0.5588425463425464, 0.5797949272949273, 0.6141126928626929, 0.5881282606282607, 0.4274923687423688, 0.6136736874236874, 0.6221916971916972, 0.5989142801642802, 0.6057198357198357, 0.5306057831057831, 0.7019490231990233, 0.6171779609279611, 0.6073427960927962, 0.5505092130092131, 0.6041447441447442, 0.5505092130092131, 0.6188288100788102, 0.566534854034854, 0.6445131257631257, 0.5921504884004885, 0.6270293595293596, 0.6496896159396159, 0.5797949272949273, 0.5671758796758797, 0.5323529248529248, 0.559483571983572, 0.6218050005550005, 0.5505092130092131, 0.6261797924297923, 0.5311333111333112]}, {\"categories\": [\"0\", \"1\", \"2\", \"3\", \"4\", \"5\", \"6\", \"7\", \"8\", \"9\", \"10\", \"11\", \"12\", \"13\", \"14\", \"15\", \"16\", \"17\", \"18\", \"19\", \"20\", \"21\", \"22\", \"23\", \"24\", \"25\", \"26\", \"27\", \"28\", \"29\", \"30\", \"31\", \"32\", \"33\", \"34\", \"35\", \"36\", \"37\", \"38\", \"39\", \"40\", \"41\", \"42\", \"43\", \"44\", \"45\", \"46\", \"47\", \"48\", \"49\", \"50\", \"51\", \"52\", \"53\", \"54\", \"55\", \"56\", \"57\", \"58\", \"59\", \"60\", \"61\", \"62\", \"63\", \"64\", \"65\", \"66\", \"67\", \"68\", \"71\", \"72\"], \"mode\": \"lines\", \"name\": \"norm_macro_recall_max\", \"stepped\": true, \"type\": \"scatter\", \"data\": [0.5737713675213676, 0.5737713675213676, 0.58997557997558, 0.6315333277833278, 0.6315333277833278, 0.6315333277833278, 0.6315333277833278, 0.6364774114774115, 0.6364774114774115, 0.6364774114774115, 0.6364774114774115, 0.6364774114774115, 0.6364774114774115, 0.6364774114774115, 0.6364774114774115, 0.6364774114774115, 0.6364774114774115, 0.6386141636141636, 0.6386141636141636, 0.6386141636141636, 0.6598046398046398, 0.6598046398046398, 0.6598046398046398, 0.6598046398046398, 0.6598046398046398, 0.6598046398046398, 0.6598046398046398, 0.6598046398046398, 0.6598046398046398, 0.6598046398046398, 0.6598046398046398, 0.6598046398046398, 0.6598046398046398, 0.6598046398046398, 0.6598046398046398, 0.6598046398046398, 0.6598046398046398, 0.6598046398046398, 0.6598046398046398, 0.6598046398046398, 0.6598046398046398, 0.6598046398046398, 0.6598046398046398, 0.6598046398046398, 0.6598046398046398, 0.6598046398046398, 0.6598046398046398, 0.6598046398046398, 0.6598046398046398, 0.6598046398046398, 0.6598046398046398, 0.7019490231990233, 0.7019490231990233, 0.7019490231990233, 0.7019490231990233, 0.7019490231990233, 0.7019490231990233, 0.7019490231990233, 0.7019490231990233, 0.7019490231990233, 0.7019490231990233, 0.7019490231990233, 0.7019490231990233, 0.7019490231990233, 0.7019490231990233, 0.7019490231990233, 0.7019490231990233, 0.7019490231990233, 0.7019490231990233, 0.7019490231990233, 0.7019490231990233]}], \"recall_score_weighted\": [{\"categories\": [\"0\", \"1\", \"2\", \"3\", \"4\", \"5\", \"6\", \"7\", \"8\", \"9\", \"10\", \"11\", \"12\", \"13\", \"14\", \"15\", \"16\", \"17\", \"18\", \"19\", \"20\", \"21\", \"22\", \"23\", \"24\", \"25\", \"26\", \"27\", \"28\", \"29\", \"30\", \"31\", \"32\", \"33\", \"34\", \"35\", \"36\", \"37\", \"38\", \"39\", \"40\", \"41\", \"42\", \"43\", \"44\", \"45\", \"46\", \"47\", \"48\", \"49\", \"50\", \"51\", \"52\", \"53\", \"54\", \"55\", \"56\", \"57\", \"58\", \"59\", \"60\", \"61\", \"62\", \"63\", \"64\", \"65\", \"66\", \"67\", \"68\", \"71\", \"72\"], \"mode\": \"markers\", \"name\": \"recall_score_weighted\", \"stepped\": false, \"type\": \"scatter\", \"data\": [0.7922077922077922, 0.7829004329004329, 0.7967532467532467, 0.8158008658008657, 0.7922077922077922, 0.8015151515151514, 0.8067099567099566, 0.8158008658008657, 0.7872294372294372, 0.806060606060606, 0.7777056277056278, 0.7876623376623375, 0.8067099567099566, 0.7829004329004329, 0.7694805194805195, 0.7502164502164502, 0.7729437229437229, 0.82012987012987, 0.7967532467532467, 0.811038961038961, 0.8255411255411256, 0.798051948051948, 0.8067099567099566, 0.811038961038961, 0.8251082251082252, 0.8064935064935064, 0.8062770562770563, 0.7865800865800866, 0.8062770562770563, 0.8015151515151514, 0.7209956709956711, 0.8064935064935064, 0.7878787878787878, 0.8251082251082252, 0.8108225108225108, 0.8015151515151515, 0.7829004329004328, 0.8064935064935064, 0.7870129870129869, 0.824891774891775, 0.793073593073593, 0.7735930735930735, 0.7878787878787878, 0.8012987012987013, 0.7924242424242424, 0.7363636363636363, 0.8019480519480519, 0.8155844155844155, 0.7971861471861472, 0.8017316017316016, 0.7690476190476191, 0.843939393939394, 0.8010822510822511, 0.796969696969697, 0.769047619047619, 0.7965367965367964, 0.769047619047619, 0.8012987012987013, 0.7783549783549782, 0.8155844155844157, 0.7874458874458874, 0.8062770562770561, 0.8203463203463203, 0.7878787878787878, 0.778138528138528, 0.764069264069264, 0.7783549783549784, 0.806060606060606, 0.769047619047619, 0.8062770562770563, 0.8160173160173161]}, {\"categories\": [\"0\", \"1\", \"2\", \"3\", \"4\", \"5\", \"6\", \"7\", \"8\", \"9\", \"10\", \"11\", \"12\", \"13\", \"14\", \"15\", \"16\", \"17\", \"18\", \"19\", \"20\", \"21\", \"22\", \"23\", \"24\", \"25\", \"26\", \"27\", \"28\", \"29\", \"30\", \"31\", \"32\", \"33\", \"34\", \"35\", \"36\", \"37\", \"38\", \"39\", \"40\", \"41\", \"42\", \"43\", \"44\", \"45\", \"46\", \"47\", \"48\", \"49\", \"50\", \"51\", \"52\", \"53\", \"54\", \"55\", \"56\", \"57\", \"58\", \"59\", \"60\", \"61\", \"62\", \"63\", \"64\", \"65\", \"66\", \"67\", \"68\", \"71\", \"72\"], \"mode\": \"lines\", \"name\": \"recall_score_weighted_max\", \"stepped\": true, \"type\": \"scatter\", \"data\": [0.7922077922077922, 0.7922077922077922, 0.7967532467532467, 0.8158008658008657, 0.8158008658008657, 0.8158008658008657, 0.8158008658008657, 0.8158008658008657, 0.8158008658008657, 0.8158008658008657, 0.8158008658008657, 0.8158008658008657, 0.8158008658008657, 0.8158008658008657, 0.8158008658008657, 0.8158008658008657, 0.8158008658008657, 0.82012987012987, 0.82012987012987, 0.82012987012987, 0.8255411255411256, 0.8255411255411256, 0.8255411255411256, 0.8255411255411256, 0.8255411255411256, 0.8255411255411256, 0.8255411255411256, 0.8255411255411256, 0.8255411255411256, 0.8255411255411256, 0.8255411255411256, 0.8255411255411256, 0.8255411255411256, 0.8255411255411256, 0.8255411255411256, 0.8255411255411256, 0.8255411255411256, 0.8255411255411256, 0.8255411255411256, 0.8255411255411256, 0.8255411255411256, 0.8255411255411256, 0.8255411255411256, 0.8255411255411256, 0.8255411255411256, 0.8255411255411256, 0.8255411255411256, 0.8255411255411256, 0.8255411255411256, 0.8255411255411256, 0.8255411255411256, 0.843939393939394, 0.843939393939394, 0.843939393939394, 0.843939393939394, 0.843939393939394, 0.843939393939394, 0.843939393939394, 0.843939393939394, 0.843939393939394, 0.843939393939394, 0.843939393939394, 0.843939393939394, 0.843939393939394, 0.843939393939394, 0.843939393939394, 0.843939393939394, 0.843939393939394, 0.843939393939394, 0.843939393939394, 0.843939393939394]}], \"matthews_correlation\": [{\"categories\": [\"0\", \"1\", \"2\", \"3\", \"4\", \"5\", \"6\", \"7\", \"8\", \"9\", \"10\", \"11\", \"12\", \"13\", \"14\", \"15\", \"16\", \"17\", \"18\", \"19\", \"20\", \"21\", \"22\", \"23\", \"24\", \"25\", \"26\", \"27\", \"28\", \"29\", \"30\", \"31\", \"32\", \"33\", \"34\", \"35\", \"36\", \"37\", \"38\", \"39\", \"40\", \"41\", \"42\", \"43\", \"44\", \"45\", \"46\", \"47\", \"48\", \"49\", \"50\", \"51\", \"52\", \"53\", \"54\", \"55\", \"56\", \"57\", \"58\", \"59\", \"60\", \"61\", \"62\", \"63\", \"64\", \"65\", \"66\", \"67\", \"68\", \"71\", \"72\"], \"mode\": \"markers\", \"name\": \"matthews_correlation\", \"stepped\": false, \"type\": \"scatter\", \"data\": [0.5751797625991678, 0.5527402336171087, 0.5945560167792564, 0.6220050488689924, 0.5850609690097777, 0.6011271201173842, 0.5966168617528144, 0.6345810253108042, 0.5697713938127315, 0.6111752020974519, 0.5352467181705843, 0.5673736286512913, 0.5984660914564477, 0.5533649287474917, 0.544212413675216, 0.47930500171670287, 0.5265808821077682, 0.635235995538036, 0.590507075486087, 0.6312941918496348, 0.6574011605813987, 0.5819810197060502, 0.6051748569984576, 0.6234535334586343, 0.6453661756398865, 0.604798384484855, 0.6045309006086601, 0.5628628895761808, 0.5973947782392506, 0.5931706850015673, 0.47277898514102257, 0.6071907286784585, 0.574403940499941, 0.6481265715760987, 0.6217397938269087, 0.6024061730338047, 0.5562331704568851, 0.6070672927858387, 0.5615295445926167, 0.6500421140785502, 0.6089359734119866, 0.5518359271485751, 0.574403940499941, 0.6050482249719288, 0.5836502618076038, 0.4901669064194798, 0.6071534395934955, 0.6240469552894229, 0.5938242129524992, 0.5997902781464417, 0.5264012741877325, 0.6908602818953462, 0.6122671596512342, 0.6011201750562376, 0.5425896058409123, 0.5954997901388064, 0.5425896058409123, 0.6082839096145479, 0.5599617934520456, 0.6337576654955193, 0.5890369484082302, 0.6159739575385667, 0.6407528830616948, 0.574403940499941, 0.5620641396286614, 0.5311659003943558, 0.554640571488054, 0.6128121686606938, 0.5425896058409123, 0.6169314081632594, 0.5356564213366768]}, {\"categories\": [\"0\", \"1\", \"2\", \"3\", \"4\", \"5\", \"6\", \"7\", \"8\", \"9\", \"10\", \"11\", \"12\", \"13\", \"14\", \"15\", \"16\", \"17\", \"18\", \"19\", \"20\", \"21\", \"22\", \"23\", \"24\", \"25\", \"26\", \"27\", \"28\", \"29\", \"30\", \"31\", \"32\", \"33\", \"34\", \"35\", \"36\", \"37\", \"38\", \"39\", \"40\", \"41\", \"42\", \"43\", \"44\", \"45\", \"46\", \"47\", \"48\", \"49\", \"50\", \"51\", \"52\", \"53\", \"54\", \"55\", \"56\", \"57\", \"58\", \"59\", \"60\", \"61\", \"62\", \"63\", \"64\", \"65\", \"66\", \"67\", \"68\", \"71\", \"72\"], \"mode\": \"lines\", \"name\": \"matthews_correlation_max\", \"stepped\": true, \"type\": \"scatter\", \"data\": [0.5751797625991678, 0.5751797625991678, 0.5945560167792564, 0.6220050488689924, 0.6220050488689924, 0.6220050488689924, 0.6220050488689924, 0.6345810253108042, 0.6345810253108042, 0.6345810253108042, 0.6345810253108042, 0.6345810253108042, 0.6345810253108042, 0.6345810253108042, 0.6345810253108042, 0.6345810253108042, 0.6345810253108042, 0.635235995538036, 0.635235995538036, 0.635235995538036, 0.6574011605813987, 0.6574011605813987, 0.6574011605813987, 0.6574011605813987, 0.6574011605813987, 0.6574011605813987, 0.6574011605813987, 0.6574011605813987, 0.6574011605813987, 0.6574011605813987, 0.6574011605813987, 0.6574011605813987, 0.6574011605813987, 0.6574011605813987, 0.6574011605813987, 0.6574011605813987, 0.6574011605813987, 0.6574011605813987, 0.6574011605813987, 0.6574011605813987, 0.6574011605813987, 0.6574011605813987, 0.6574011605813987, 0.6574011605813987, 0.6574011605813987, 0.6574011605813987, 0.6574011605813987, 0.6574011605813987, 0.6574011605813987, 0.6574011605813987, 0.6574011605813987, 0.6908602818953462, 0.6908602818953462, 0.6908602818953462, 0.6908602818953462, 0.6908602818953462, 0.6908602818953462, 0.6908602818953462, 0.6908602818953462, 0.6908602818953462, 0.6908602818953462, 0.6908602818953462, 0.6908602818953462, 0.6908602818953462, 0.6908602818953462, 0.6908602818953462, 0.6908602818953462, 0.6908602818953462, 0.6908602818953462, 0.6908602818953462, 0.6908602818953462]}], \"f1_score_weighted\": [{\"categories\": [\"0\", \"1\", \"2\", \"3\", \"4\", \"5\", \"6\", \"7\", \"8\", \"9\", \"10\", \"11\", \"12\", \"13\", \"14\", \"15\", \"16\", \"17\", \"18\", \"19\", \"20\", \"21\", \"22\", \"23\", \"24\", \"25\", \"26\", \"27\", \"28\", \"29\", \"30\", \"31\", \"32\", \"33\", \"34\", \"35\", \"36\", \"37\", \"38\", \"39\", \"40\", \"41\", \"42\", \"43\", \"44\", \"45\", \"46\", \"47\", \"48\", \"49\", \"50\", \"51\", \"52\", \"53\", \"54\", \"55\", \"56\", \"57\", \"58\", \"59\", \"60\", \"61\", \"62\", \"63\", \"64\", \"65\", \"66\", \"67\", \"68\", \"71\", \"72\"], \"mode\": \"markers\", \"name\": \"f1_score_weighted\", \"stepped\": false, \"type\": \"scatter\", \"data\": [0.7941572588919569, 0.7833962142001795, 0.796198045766934, 0.8182763887992957, 0.7937655006642713, 0.8002037503308783, 0.8065906617953871, 0.8174905382360496, 0.7862305672804781, 0.8092341163896439, 0.7807653090083304, 0.7913372869004898, 0.8082895032330588, 0.7835403540618837, 0.7690263666335773, 0.7512558521320596, 0.7712149746208711, 0.8221333738748514, 0.7987946380381837, 0.8124119599055464, 0.8267812686303537, 0.7989628791363639, 0.8086639998280385, 0.8147065413464771, 0.8282346810753628, 0.809174115360673, 0.8086725905673273, 0.7856764246009097, 0.8068711026093476, 0.8026767568348774, 0.708726319086064, 0.8092272415708557, 0.7911307077448325, 0.8283290390856038, 0.8146791844684002, 0.801802927583126, 0.7857920013564224, 0.8077302585477029, 0.7875904875337716, 0.8268335856095549, 0.796514578752749, 0.7776354728399915, 0.7911307077448325, 0.8054356705386118, 0.7955900378883732, 0.7199026712126717, 0.8050084324401748, 0.8160590868967355, 0.8005273100766995, 0.8047680800668378, 0.7708354867948748, 0.8464014967077848, 0.8041034649730301, 0.8003334467815316, 0.7731761426964507, 0.7989761573103126, 0.7731761426964507, 0.8055635883724118, 0.7822672811188583, 0.8195517617537881, 0.7899330518181541, 0.8100054770916373, 0.824048182209947, 0.7911307077448325, 0.7821116516319597, 0.7674005654090729, 0.7821535300018991, 0.809982200261612, 0.7731761426964507, 0.8099827271131422, 0.7909960006372866]}, {\"categories\": [\"0\", \"1\", \"2\", \"3\", \"4\", \"5\", \"6\", \"7\", \"8\", \"9\", \"10\", \"11\", \"12\", \"13\", \"14\", \"15\", \"16\", \"17\", \"18\", \"19\", \"20\", \"21\", \"22\", \"23\", \"24\", \"25\", \"26\", \"27\", \"28\", \"29\", \"30\", \"31\", \"32\", \"33\", \"34\", \"35\", \"36\", \"37\", \"38\", \"39\", \"40\", \"41\", \"42\", \"43\", \"44\", \"45\", \"46\", \"47\", \"48\", \"49\", \"50\", \"51\", \"52\", \"53\", \"54\", \"55\", \"56\", \"57\", \"58\", \"59\", \"60\", \"61\", \"62\", \"63\", \"64\", \"65\", \"66\", \"67\", \"68\", \"71\", \"72\"], \"mode\": \"lines\", \"name\": \"f1_score_weighted_max\", \"stepped\": true, \"type\": \"scatter\", \"data\": [0.7941572588919569, 0.7941572588919569, 0.796198045766934, 0.8182763887992957, 0.8182763887992957, 0.8182763887992957, 0.8182763887992957, 0.8182763887992957, 0.8182763887992957, 0.8182763887992957, 0.8182763887992957, 0.8182763887992957, 0.8182763887992957, 0.8182763887992957, 0.8182763887992957, 0.8182763887992957, 0.8182763887992957, 0.8221333738748514, 0.8221333738748514, 0.8221333738748514, 0.8267812686303537, 0.8267812686303537, 0.8267812686303537, 0.8267812686303537, 0.8282346810753628, 0.8282346810753628, 0.8282346810753628, 0.8282346810753628, 0.8282346810753628, 0.8282346810753628, 0.8282346810753628, 0.8282346810753628, 0.8282346810753628, 0.8283290390856038, 0.8283290390856038, 0.8283290390856038, 0.8283290390856038, 0.8283290390856038, 0.8283290390856038, 0.8283290390856038, 0.8283290390856038, 0.8283290390856038, 0.8283290390856038, 0.8283290390856038, 0.8283290390856038, 0.8283290390856038, 0.8283290390856038, 0.8283290390856038, 0.8283290390856038, 0.8283290390856038, 0.8283290390856038, 0.8464014967077848, 0.8464014967077848, 0.8464014967077848, 0.8464014967077848, 0.8464014967077848, 0.8464014967077848, 0.8464014967077848, 0.8464014967077848, 0.8464014967077848, 0.8464014967077848, 0.8464014967077848, 0.8464014967077848, 0.8464014967077848, 0.8464014967077848, 0.8464014967077848, 0.8464014967077848, 0.8464014967077848, 0.8464014967077848, 0.8464014967077848, 0.8464014967077848]}], \"average_precision_score_macro\": [{\"categories\": [\"0\", \"1\", \"2\", \"3\", \"4\", \"5\", \"6\", \"7\", \"8\", \"9\", \"10\", \"11\", \"12\", \"13\", \"14\", \"15\", \"16\", \"17\", \"18\", \"19\", \"20\", \"21\", \"22\", \"23\", \"24\", \"25\", \"26\", \"27\", \"28\", \"29\", \"30\", \"31\", \"32\", \"33\", \"34\", \"35\", \"36\", \"37\", \"38\", \"39\", \"40\", \"41\", \"42\", \"43\", \"44\", \"45\", \"46\", \"47\", \"48\", \"49\", \"50\", \"51\", \"52\", \"53\", \"54\", \"55\", \"56\", \"57\", \"58\", \"59\", \"60\", \"61\", \"62\", \"63\", \"64\", \"65\", \"66\", \"67\", \"68\", \"71\", \"72\"], \"mode\": \"markers\", \"name\": \"average_precision_score_macro\", \"stepped\": false, \"type\": \"scatter\", \"data\": [0.8879515619591041, 0.8767797474852108, 0.8823957862836906, 0.8859745581166031, 0.8871232532933107, 0.8833652236796056, 0.8935411609178111, 0.8988043457922528, 0.9084988673484926, 0.91180211465137, 0.8698617207174058, 0.8791211399780947, 0.8962391376490698, 0.8825653087113139, 0.8796816515244531, 0.8104379848586806, 0.874035614625288, 0.8983290902122519, 0.8946432959559498, 0.9013871307002713, 0.9050767224057001, 0.8838997162219961, 0.9005866857800582, 0.9104135477848632, 0.919578486282943, 0.8975723418615462, 0.899942154380845, 0.887564936647745, 0.9002031975921024, 0.895843286780545, 0.8645318369185038, 0.9123570995313232, 0.8937869046036422, 0.9110467312984373, 0.919065039361937, 0.8968775688659119, 0.8963202338131107, 0.8943483587260912, 0.8764091687965887, 0.9201491535702393, 0.9045246333819283, 0.9043896338072116, 0.9006358275061365, 0.9042642127215634, 0.9019624770470717, 0.8559879708903718, 0.8981058631625496, 0.8916740982637046, 0.8847494429052414, 0.8993629355490406, 0.8559879708903718, 0.9178932030046054, 0.9214300614799621, 0.9145751031167245, 0.9038863666495327, 0.9105977982377785, 0.9054688119819779, 0.9221035186496044, 0.9043896338072116, 0.920989731519297, 0.9135022845290305, 0.9203477201717665, 0.9134063282303744, 0.890440878693278, 0.9038374232427829, 0.8935161677701412, 0.9023350093207263, 0.902249675373637, 0.9030080986756766, 0.925369923913222, 0.9176675332926871]}, {\"categories\": [\"0\", \"1\", \"2\", \"3\", \"4\", \"5\", \"6\", \"7\", \"8\", \"9\", \"10\", \"11\", \"12\", \"13\", \"14\", \"15\", \"16\", \"17\", \"18\", \"19\", \"20\", \"21\", \"22\", \"23\", \"24\", \"25\", \"26\", \"27\", \"28\", \"29\", \"30\", \"31\", \"32\", \"33\", \"34\", \"35\", \"36\", \"37\", \"38\", \"39\", \"40\", \"41\", \"42\", \"43\", \"44\", \"45\", \"46\", \"47\", \"48\", \"49\", \"50\", \"51\", \"52\", \"53\", \"54\", \"55\", \"56\", \"57\", \"58\", \"59\", \"60\", \"61\", \"62\", \"63\", \"64\", \"65\", \"66\", \"67\", \"68\", \"71\", \"72\"], \"mode\": \"lines\", \"name\": \"average_precision_score_macro_max\", \"stepped\": true, \"type\": \"scatter\", \"data\": [0.8879515619591041, 0.8879515619591041, 0.8879515619591041, 0.8879515619591041, 0.8879515619591041, 0.8879515619591041, 0.8935411609178111, 0.8988043457922528, 0.9084988673484926, 0.91180211465137, 0.91180211465137, 0.91180211465137, 0.91180211465137, 0.91180211465137, 0.91180211465137, 0.91180211465137, 0.91180211465137, 0.91180211465137, 0.91180211465137, 0.91180211465137, 0.91180211465137, 0.91180211465137, 0.91180211465137, 0.91180211465137, 0.919578486282943, 0.919578486282943, 0.919578486282943, 0.919578486282943, 0.919578486282943, 0.919578486282943, 0.919578486282943, 0.919578486282943, 0.919578486282943, 0.919578486282943, 0.919578486282943, 0.919578486282943, 0.919578486282943, 0.919578486282943, 0.919578486282943, 0.9201491535702393, 0.9201491535702393, 0.9201491535702393, 0.9201491535702393, 0.9201491535702393, 0.9201491535702393, 0.9201491535702393, 0.9201491535702393, 0.9201491535702393, 0.9201491535702393, 0.9201491535702393, 0.9201491535702393, 0.9201491535702393, 0.9214300614799621, 0.9214300614799621, 0.9214300614799621, 0.9214300614799621, 0.9214300614799621, 0.9221035186496044, 0.9221035186496044, 0.9221035186496044, 0.9221035186496044, 0.9221035186496044, 0.9221035186496044, 0.9221035186496044, 0.9221035186496044, 0.9221035186496044, 0.9221035186496044, 0.9221035186496044, 0.9221035186496044, 0.925369923913222, 0.925369923913222]}], \"accuracy\": [{\"categories\": [\"0\", \"1\", \"2\", \"3\", \"4\", \"5\", \"6\", \"7\", \"8\", \"9\", \"10\", \"11\", \"12\", \"13\", \"14\", \"15\", \"16\", \"17\", \"18\", \"19\", \"20\", \"21\", \"22\", \"23\", \"24\", \"25\", \"26\", \"27\", \"28\", \"29\", \"30\", \"31\", \"32\", \"33\", \"34\", \"35\", \"36\", \"37\", \"38\", \"39\", \"40\", \"41\", \"42\", \"43\", \"44\", \"45\", \"46\", \"47\", \"48\", \"49\", \"50\", \"51\", \"52\", \"53\", \"54\", \"55\", \"56\", \"57\", \"58\", \"59\", \"60\", \"61\", \"62\", \"63\", \"64\", \"65\", \"66\", \"67\", \"68\", \"71\", \"72\"], \"mode\": \"markers\", \"name\": \"accuracy\", \"stepped\": false, \"type\": \"scatter\", \"data\": [0.7922077922077922, 0.7829004329004329, 0.7967532467532467, 0.8158008658008657, 0.7922077922077922, 0.8015151515151514, 0.8067099567099566, 0.8158008658008657, 0.7872294372294372, 0.806060606060606, 0.7777056277056278, 0.7876623376623375, 0.8067099567099566, 0.7829004329004329, 0.7694805194805195, 0.7502164502164502, 0.7729437229437229, 0.82012987012987, 0.7967532467532467, 0.811038961038961, 0.8255411255411256, 0.798051948051948, 0.8067099567099566, 0.811038961038961, 0.8251082251082252, 0.8064935064935064, 0.8062770562770563, 0.7865800865800866, 0.8062770562770563, 0.8015151515151514, 0.7209956709956711, 0.8064935064935064, 0.7878787878787878, 0.8251082251082252, 0.8108225108225108, 0.8015151515151515, 0.7829004329004328, 0.8064935064935064, 0.7870129870129869, 0.824891774891775, 0.793073593073593, 0.7735930735930735, 0.7878787878787878, 0.8012987012987013, 0.7924242424242424, 0.7363636363636363, 0.8019480519480519, 0.8155844155844155, 0.7971861471861472, 0.8017316017316016, 0.7690476190476191, 0.843939393939394, 0.8010822510822511, 0.796969696969697, 0.769047619047619, 0.7965367965367964, 0.769047619047619, 0.8012987012987013, 0.7783549783549782, 0.8155844155844157, 0.7874458874458874, 0.8062770562770561, 0.8203463203463203, 0.7878787878787878, 0.778138528138528, 0.764069264069264, 0.7783549783549784, 0.806060606060606, 0.769047619047619, 0.8062770562770563, 0.8160173160173161]}, {\"categories\": [\"0\", \"1\", \"2\", \"3\", \"4\", \"5\", \"6\", \"7\", \"8\", \"9\", \"10\", \"11\", \"12\", \"13\", \"14\", \"15\", \"16\", \"17\", \"18\", \"19\", \"20\", \"21\", \"22\", \"23\", \"24\", \"25\", \"26\", \"27\", \"28\", \"29\", \"30\", \"31\", \"32\", \"33\", \"34\", \"35\", \"36\", \"37\", \"38\", \"39\", \"40\", \"41\", \"42\", \"43\", \"44\", \"45\", \"46\", \"47\", \"48\", \"49\", \"50\", \"51\", \"52\", \"53\", \"54\", \"55\", \"56\", \"57\", \"58\", \"59\", \"60\", \"61\", \"62\", \"63\", \"64\", \"65\", \"66\", \"67\", \"68\", \"71\", \"72\"], \"mode\": \"lines\", \"name\": \"accuracy_max\", \"stepped\": true, \"type\": \"scatter\", \"data\": [0.7922077922077922, 0.7922077922077922, 0.7967532467532467, 0.8158008658008657, 0.8158008658008657, 0.8158008658008657, 0.8158008658008657, 0.8158008658008657, 0.8158008658008657, 0.8158008658008657, 0.8158008658008657, 0.8158008658008657, 0.8158008658008657, 0.8158008658008657, 0.8158008658008657, 0.8158008658008657, 0.8158008658008657, 0.82012987012987, 0.82012987012987, 0.82012987012987, 0.8255411255411256, 0.8255411255411256, 0.8255411255411256, 0.8255411255411256, 0.8255411255411256, 0.8255411255411256, 0.8255411255411256, 0.8255411255411256, 0.8255411255411256, 0.8255411255411256, 0.8255411255411256, 0.8255411255411256, 0.8255411255411256, 0.8255411255411256, 0.8255411255411256, 0.8255411255411256, 0.8255411255411256, 0.8255411255411256, 0.8255411255411256, 0.8255411255411256, 0.8255411255411256, 0.8255411255411256, 0.8255411255411256, 0.8255411255411256, 0.8255411255411256, 0.8255411255411256, 0.8255411255411256, 0.8255411255411256, 0.8255411255411256, 0.8255411255411256, 0.8255411255411256, 0.843939393939394, 0.843939393939394, 0.843939393939394, 0.843939393939394, 0.843939393939394, 0.843939393939394, 0.843939393939394, 0.843939393939394, 0.843939393939394, 0.843939393939394, 0.843939393939394, 0.843939393939394, 0.843939393939394, 0.843939393939394, 0.843939393939394, 0.843939393939394, 0.843939393939394, 0.843939393939394, 0.843939393939394, 0.843939393939394]}], \"weighted_accuracy\": [{\"categories\": [\"0\", \"1\", \"2\", \"3\", \"4\", \"5\", \"6\", \"7\", \"8\", \"9\", \"10\", \"11\", \"12\", \"13\", \"14\", \"15\", \"16\", \"17\", \"18\", \"19\", \"20\", \"21\", \"22\", \"23\", \"24\", \"25\", \"26\", \"27\", \"28\", \"29\", \"30\", \"31\", \"32\", \"33\", \"34\", \"35\", \"36\", \"37\", \"38\", \"39\", \"40\", \"41\", \"42\", \"43\", \"44\", \"45\", \"46\", \"47\", \"48\", \"49\", \"50\", \"51\", \"52\", \"53\", \"54\", \"55\", \"56\", \"57\", \"58\", \"59\", \"60\", \"61\", \"62\", \"63\", \"64\", \"65\", \"66\", \"67\", \"68\", \"71\", \"72\"], \"mode\": \"markers\", \"name\": \"weighted_accuracy\", \"stepped\": false, \"type\": \"scatter\", \"data\": [0.7970709071490749, 0.7882531120200087, 0.7982050669786253, 0.8163607439018913, 0.7933829560856184, 0.8068722273106056, 0.8140686493976934, 0.8144384408486497, 0.7922090994924934, 0.8044682602350772, 0.7830136204830277, 0.7888749694671227, 0.8117851303581805, 0.7884179612118128, 0.7712421601375267, 0.757356089530234, 0.7805266756045831, 0.8217665216558709, 0.7985948503061217, 0.807740492855346, 0.8240571271180113, 0.8016879625659785, 0.8095358364339958, 0.806941461396306, 0.8233046282945884, 0.8061862597612548, 0.8083206686991286, 0.7903301668313458, 0.8119361865147692, 0.8021950762521707, 0.7233112503776465, 0.8058387441983393, 0.7876958795631503, 0.8238881156354261, 0.8074826847601813, 0.8040952851264324, 0.7844242037585497, 0.8083469836834987, 0.7927186229184454, 0.8223087332248605, 0.7824156144063896, 0.7703775550333865, 0.7876958795631503, 0.7982440789517529, 0.7926139123500356, 0.7515246922109063, 0.7994228471973457, 0.8199341157528603, 0.7967848103287494, 0.801907799179711, 0.7719004591087072, 0.841132178722867, 0.7961567733990467, 0.7921421281522727, 0.7654595222465012, 0.792126090025181, 0.7654595222465012, 0.7962093354406145, 0.7759569541750173, 0.8115607701709939, 0.7809576573254776, 0.801362062254675, 0.8184157527714954, 0.7876958795631503, 0.7752955878202716, 0.7637431888557411, 0.7787029177965173, 0.8038234780933837, 0.7654595222465012, 0.8021178505062807, 0.8497139588270258]}, {\"categories\": [\"0\", \"1\", \"2\", \"3\", \"4\", \"5\", \"6\", \"7\", \"8\", \"9\", \"10\", \"11\", \"12\", \"13\", \"14\", \"15\", \"16\", \"17\", \"18\", \"19\", \"20\", \"21\", \"22\", \"23\", \"24\", \"25\", \"26\", \"27\", \"28\", \"29\", \"30\", \"31\", \"32\", \"33\", \"34\", \"35\", \"36\", \"37\", \"38\", \"39\", \"40\", \"41\", \"42\", \"43\", \"44\", \"45\", \"46\", \"47\", \"48\", \"49\", \"50\", \"51\", \"52\", \"53\", \"54\", \"55\", \"56\", \"57\", \"58\", \"59\", \"60\", \"61\", \"62\", \"63\", \"64\", \"65\", \"66\", \"67\", \"68\", \"71\", \"72\"], \"mode\": \"lines\", \"name\": \"weighted_accuracy_max\", \"stepped\": true, \"type\": \"scatter\", \"data\": [0.7970709071490749, 0.7970709071490749, 0.7982050669786253, 0.8163607439018913, 0.8163607439018913, 0.8163607439018913, 0.8163607439018913, 0.8163607439018913, 0.8163607439018913, 0.8163607439018913, 0.8163607439018913, 0.8163607439018913, 0.8163607439018913, 0.8163607439018913, 0.8163607439018913, 0.8163607439018913, 0.8163607439018913, 0.8217665216558709, 0.8217665216558709, 0.8217665216558709, 0.8240571271180113, 0.8240571271180113, 0.8240571271180113, 0.8240571271180113, 0.8240571271180113, 0.8240571271180113, 0.8240571271180113, 0.8240571271180113, 0.8240571271180113, 0.8240571271180113, 0.8240571271180113, 0.8240571271180113, 0.8240571271180113, 0.8240571271180113, 0.8240571271180113, 0.8240571271180113, 0.8240571271180113, 0.8240571271180113, 0.8240571271180113, 0.8240571271180113, 0.8240571271180113, 0.8240571271180113, 0.8240571271180113, 0.8240571271180113, 0.8240571271180113, 0.8240571271180113, 0.8240571271180113, 0.8240571271180113, 0.8240571271180113, 0.8240571271180113, 0.8240571271180113, 0.841132178722867, 0.841132178722867, 0.841132178722867, 0.841132178722867, 0.841132178722867, 0.841132178722867, 0.841132178722867, 0.841132178722867, 0.841132178722867, 0.841132178722867, 0.841132178722867, 0.841132178722867, 0.841132178722867, 0.841132178722867, 0.841132178722867, 0.841132178722867, 0.841132178722867, 0.841132178722867, 0.841132178722867, 0.8497139588270258]}], \"recall_score_macro\": [{\"categories\": [\"0\", \"1\", \"2\", \"3\", \"4\", \"5\", \"6\", \"7\", \"8\", \"9\", \"10\", \"11\", \"12\", \"13\", \"14\", \"15\", \"16\", \"17\", \"18\", \"19\", \"20\", \"21\", \"22\", \"23\", \"24\", \"25\", \"26\", \"27\", \"28\", \"29\", \"30\", \"31\", \"32\", \"33\", \"34\", \"35\", \"36\", \"37\", \"38\", \"39\", \"40\", \"41\", \"42\", \"43\", \"44\", \"45\", \"46\", \"47\", \"48\", \"49\", \"50\", \"51\", \"52\", \"53\", \"54\", \"55\", \"56\", \"57\", \"58\", \"59\", \"60\", \"61\", \"62\", \"63\", \"64\", \"65\", \"66\", \"67\", \"68\", \"71\", \"72\"], \"mode\": \"markers\", \"name\": \"recall_score_macro\", \"stepped\": false, \"type\": \"scatter\", \"data\": [0.7868856837606837, 0.7762173937173937, 0.79498778998779, 0.815766663891664, 0.7921140664890665, 0.7949549755799756, 0.7982455738705739, 0.8182387057387055, 0.7813809801309801, 0.8099254218004217, 0.7711173548673549, 0.7873427960927961, 0.8015938922188921, 0.7744284188034187, 0.7685126678876679, 0.7408480408480408, 0.765090465090465, 0.8193070818070817, 0.7959142246642246, 0.8173440448440449, 0.8299023199023198, 0.7956315906315906, 0.8037049755799754, 0.8173608336108336, 0.8281277750027749, 0.8075754800754801, 0.8051624764124764, 0.7842939699189699, 0.8006682206682207, 0.8020684870684871, 0.7202724358974357, 0.8079263098013097, 0.7898974636474636, 0.8285551254301253, 0.8163855588855589, 0.7976068376068376, 0.7822875735375735, 0.8041910866910866, 0.7798916361416361, 0.828410409035409, 0.8094131562881562, 0.7794212731712731, 0.7898974636474636, 0.8070563464313464, 0.7940641303141304, 0.7137461843711843, 0.8068368437118437, 0.8110958485958484, 0.79945714008214, 0.8028599178599178, 0.7653028915528916, 0.8509745115995117, 0.8085889804639803, 0.8036713980463981, 0.7752546065046064, 0.8020723720723721, 0.7752546065046064, 0.809414405039405, 0.783267427017427, 0.8222565628815628, 0.7960752442002442, 0.8135146797646797, 0.8248448079698079, 0.7898974636474636, 0.7835879398379398, 0.7661764624264623, 0.7797417859917859, 0.8109025002775002, 0.7752546065046064, 0.8130898962148961, 0.7655666555666555]}, {\"categories\": [\"0\", \"1\", \"2\", \"3\", \"4\", \"5\", \"6\", \"7\", \"8\", \"9\", \"10\", \"11\", \"12\", \"13\", \"14\", \"15\", \"16\", \"17\", \"18\", \"19\", \"20\", \"21\", \"22\", \"23\", \"24\", \"25\", \"26\", \"27\", \"28\", \"29\", \"30\", \"31\", \"32\", \"33\", \"34\", \"35\", \"36\", \"37\", \"38\", \"39\", \"40\", \"41\", \"42\", \"43\", \"44\", \"45\", \"46\", \"47\", \"48\", \"49\", \"50\", \"51\", \"52\", \"53\", \"54\", \"55\", \"56\", \"57\", \"58\", \"59\", \"60\", \"61\", \"62\", \"63\", \"64\", \"65\", \"66\", \"67\", \"68\", \"71\", \"72\"], \"mode\": \"lines\", \"name\": \"recall_score_macro_max\", \"stepped\": true, \"type\": \"scatter\", \"data\": [0.7868856837606837, 0.7868856837606837, 0.79498778998779, 0.815766663891664, 0.815766663891664, 0.815766663891664, 0.815766663891664, 0.8182387057387055, 0.8182387057387055, 0.8182387057387055, 0.8182387057387055, 0.8182387057387055, 0.8182387057387055, 0.8182387057387055, 0.8182387057387055, 0.8182387057387055, 0.8182387057387055, 0.8193070818070817, 0.8193070818070817, 0.8193070818070817, 0.8299023199023198, 0.8299023199023198, 0.8299023199023198, 0.8299023199023198, 0.8299023199023198, 0.8299023199023198, 0.8299023199023198, 0.8299023199023198, 0.8299023199023198, 0.8299023199023198, 0.8299023199023198, 0.8299023199023198, 0.8299023199023198, 0.8299023199023198, 0.8299023199023198, 0.8299023199023198, 0.8299023199023198, 0.8299023199023198, 0.8299023199023198, 0.8299023199023198, 0.8299023199023198, 0.8299023199023198, 0.8299023199023198, 0.8299023199023198, 0.8299023199023198, 0.8299023199023198, 0.8299023199023198, 0.8299023199023198, 0.8299023199023198, 0.8299023199023198, 0.8299023199023198, 0.8509745115995117, 0.8509745115995117, 0.8509745115995117, 0.8509745115995117, 0.8509745115995117, 0.8509745115995117, 0.8509745115995117, 0.8509745115995117, 0.8509745115995117, 0.8509745115995117, 0.8509745115995117, 0.8509745115995117, 0.8509745115995117, 0.8509745115995117, 0.8509745115995117, 0.8509745115995117, 0.8509745115995117, 0.8509745115995117, 0.8509745115995117, 0.8509745115995117]}], \"average_precision_score_micro\": [{\"categories\": [\"0\", \"1\", \"2\", \"3\", \"4\", \"5\", \"6\", \"7\", \"8\", \"9\", \"10\", \"11\", \"12\", \"13\", \"14\", \"15\", \"16\", \"17\", \"18\", \"19\", \"20\", \"21\", \"22\", \"23\", \"24\", \"25\", \"26\", \"27\", \"28\", \"29\", \"30\", \"31\", \"32\", \"33\", \"34\", \"35\", \"36\", \"37\", \"38\", \"39\", \"40\", \"41\", \"42\", \"43\", \"44\", \"45\", \"46\", \"47\", \"48\", \"49\", \"50\", \"51\", \"52\", \"53\", \"54\", \"55\", \"56\", \"57\", \"58\", \"59\", \"60\", \"61\", \"62\", \"63\", \"64\", \"65\", \"66\", \"67\", \"68\", \"71\", \"72\"], \"mode\": \"markers\", \"name\": \"average_precision_score_micro\", \"stepped\": false, \"type\": \"scatter\", \"data\": [0.8827020614282233, 0.8765545505648487, 0.8821488603974412, 0.8913879328005132, 0.8833456599950675, 0.8731159642475002, 0.8936952676654191, 0.8904510194341541, 0.8958009395128403, 0.9159538491132825, 0.8710268914659528, 0.8803211860884597, 0.9000081766700117, 0.8771356349835789, 0.8768089041501073, 0.8233746704491794, 0.8739250106240599, 0.9021941621876499, 0.886387800013062, 0.8987146347800594, 0.9013269614533893, 0.881661743948133, 0.8992923897039045, 0.9134649306879472, 0.9228843437273582, 0.8950278606050311, 0.8974052141695923, 0.8789459569381817, 0.9033582701985221, 0.8931819142366966, 0.818492419673318, 0.9089313570313526, 0.8848646328955271, 0.9075748508300567, 0.9162892326496441, 0.8888281270697135, 0.8881343888260724, 0.895327713505232, 0.880437380023046, 0.9178610367020161, 0.8861168982280553, 0.8983551730948947, 0.8946722791841356, 0.9027028324446912, 0.8976684081025035, 0.8170027033304124, 0.895414480894108, 0.8897871986179602, 0.8893769353703224, 0.89913312569741, 0.8566190147995894, 0.9210185589990949, 0.9085910011950974, 0.911536586692424, 0.8961989232743033, 0.9114077301525872, 0.8983611656213283, 0.9164601733966183, 0.8985407018518519, 0.9179572296089082, 0.8907835473804038, 0.9178615501966035, 0.9161677041114306, 0.8883827203795616, 0.9021261541392107, 0.8851637453456871, 0.9025931527598317, 0.9008807647114361, 0.8952922942230543, 0.917806434922426, 0.9200079446848786]}, {\"categories\": [\"0\", \"1\", \"2\", \"3\", \"4\", \"5\", \"6\", \"7\", \"8\", \"9\", \"10\", \"11\", \"12\", \"13\", \"14\", \"15\", \"16\", \"17\", \"18\", \"19\", \"20\", \"21\", \"22\", \"23\", \"24\", \"25\", \"26\", \"27\", \"28\", \"29\", \"30\", \"31\", \"32\", \"33\", \"34\", \"35\", \"36\", \"37\", \"38\", \"39\", \"40\", \"41\", \"42\", \"43\", \"44\", \"45\", \"46\", \"47\", \"48\", \"49\", \"50\", \"51\", \"52\", \"53\", \"54\", \"55\", \"56\", \"57\", \"58\", \"59\", \"60\", \"61\", \"62\", \"63\", \"64\", \"65\", \"66\", \"67\", \"68\", \"71\", \"72\"], \"mode\": \"lines\", \"name\": \"average_precision_score_micro_max\", \"stepped\": true, \"type\": \"scatter\", \"data\": [0.8827020614282233, 0.8827020614282233, 0.8827020614282233, 0.8913879328005132, 0.8913879328005132, 0.8913879328005132, 0.8936952676654191, 0.8936952676654191, 0.8958009395128403, 0.9159538491132825, 0.9159538491132825, 0.9159538491132825, 0.9159538491132825, 0.9159538491132825, 0.9159538491132825, 0.9159538491132825, 0.9159538491132825, 0.9159538491132825, 0.9159538491132825, 0.9159538491132825, 0.9159538491132825, 0.9159538491132825, 0.9159538491132825, 0.9159538491132825, 0.9228843437273582, 0.9228843437273582, 0.9228843437273582, 0.9228843437273582, 0.9228843437273582, 0.9228843437273582, 0.9228843437273582, 0.9228843437273582, 0.9228843437273582, 0.9228843437273582, 0.9228843437273582, 0.9228843437273582, 0.9228843437273582, 0.9228843437273582, 0.9228843437273582, 0.9228843437273582, 0.9228843437273582, 0.9228843437273582, 0.9228843437273582, 0.9228843437273582, 0.9228843437273582, 0.9228843437273582, 0.9228843437273582, 0.9228843437273582, 0.9228843437273582, 0.9228843437273582, 0.9228843437273582, 0.9228843437273582, 0.9228843437273582, 0.9228843437273582, 0.9228843437273582, 0.9228843437273582, 0.9228843437273582, 0.9228843437273582, 0.9228843437273582, 0.9228843437273582, 0.9228843437273582, 0.9228843437273582, 0.9228843437273582, 0.9228843437273582, 0.9228843437273582, 0.9228843437273582, 0.9228843437273582, 0.9228843437273582, 0.9228843437273582, 0.9228843437273582, 0.9228843437273582]}], \"average_precision_score_weighted\": [{\"categories\": [\"0\", \"1\", \"2\", \"3\", \"4\", \"5\", \"6\", \"7\", \"8\", \"9\", \"10\", \"11\", \"12\", \"13\", \"14\", \"15\", \"16\", \"17\", \"18\", \"19\", \"20\", \"21\", \"22\", \"23\", \"24\", \"25\", \"26\", \"27\", \"28\", \"29\", \"30\", \"31\", \"32\", \"33\", \"34\", \"35\", \"36\", \"37\", \"38\", \"39\", \"40\", \"41\", \"42\", \"43\", \"44\", \"45\", \"46\", \"47\", \"48\", \"49\", \"50\", \"51\", \"52\", \"53\", \"54\", \"55\", \"56\", \"57\", \"58\", \"59\", \"60\", \"61\", \"62\", \"63\", \"64\", \"65\", \"66\", \"67\", \"68\", \"71\", \"72\"], \"mode\": \"markers\", \"name\": \"average_precision_score_weighted\", \"stepped\": false, \"type\": \"scatter\", \"data\": [0.9009018472268846, 0.8920912084520554, 0.8982956990546149, 0.9003379453845609, 0.8992385432152883, 0.8967238611361534, 0.907292475876042, 0.9119010666876655, 0.9218166853694928, 0.9241108312058163, 0.8890253148981939, 0.8962224637162315, 0.9090422871328595, 0.8968827678013577, 0.8930196770993784, 0.8320849883154876, 0.8900523800332563, 0.9123779454826659, 0.9050277146117182, 0.9116829055551614, 0.9156888540000899, 0.8974430930158986, 0.9122967866979718, 0.9235940576538813, 0.9306885497978538, 0.9096339369118155, 0.9136025090627589, 0.901770797702053, 0.9138288446970748, 0.9102509059709213, 0.8798030826837971, 0.9233462253900715, 0.9054753189396196, 0.9220076517648991, 0.9299766700576126, 0.910418939084428, 0.9066132769427018, 0.9078523917411326, 0.8932702585714878, 0.9310611564939899, 0.9170504028317847, 0.9157635973505107, 0.9120097963669542, 0.9184446930058536, 0.9132335041166361, 0.8719284545207054, 0.9096565451946719, 0.9051324390139426, 0.9002606229855082, 0.91098263087779, 0.8719284545207054, 0.9292165520305222, 0.9321949752527535, 0.9257983021292449, 0.915380816880832, 0.9238904388326153, 0.9168173433173583, 0.9324831141659476, 0.9157635973505107, 0.9316292636902483, 0.924739810911557, 0.930470697198588, 0.9264527310377648, 0.9026258458170373, 0.9168028251245401, 0.9059786136053927, 0.9153096183553595, 0.9168910097609938, 0.914429603061971, 0.9357464847822594, 0.9290140175140778]}, {\"categories\": [\"0\", \"1\", \"2\", \"3\", \"4\", \"5\", \"6\", \"7\", \"8\", \"9\", \"10\", \"11\", \"12\", \"13\", \"14\", \"15\", \"16\", \"17\", \"18\", \"19\", \"20\", \"21\", \"22\", \"23\", \"24\", \"25\", \"26\", \"27\", \"28\", \"29\", \"30\", \"31\", \"32\", \"33\", \"34\", \"35\", \"36\", \"37\", \"38\", \"39\", \"40\", \"41\", \"42\", \"43\", \"44\", \"45\", \"46\", \"47\", \"48\", \"49\", \"50\", \"51\", \"52\", \"53\", \"54\", \"55\", \"56\", \"57\", \"58\", \"59\", \"60\", \"61\", \"62\", \"63\", \"64\", \"65\", \"66\", \"67\", \"68\", \"71\", \"72\"], \"mode\": \"lines\", \"name\": \"average_precision_score_weighted_max\", \"stepped\": true, \"type\": \"scatter\", \"data\": [0.9009018472268846, 0.9009018472268846, 0.9009018472268846, 0.9009018472268846, 0.9009018472268846, 0.9009018472268846, 0.907292475876042, 0.9119010666876655, 0.9218166853694928, 0.9241108312058163, 0.9241108312058163, 0.9241108312058163, 0.9241108312058163, 0.9241108312058163, 0.9241108312058163, 0.9241108312058163, 0.9241108312058163, 0.9241108312058163, 0.9241108312058163, 0.9241108312058163, 0.9241108312058163, 0.9241108312058163, 0.9241108312058163, 0.9241108312058163, 0.9306885497978538, 0.9306885497978538, 0.9306885497978538, 0.9306885497978538, 0.9306885497978538, 0.9306885497978538, 0.9306885497978538, 0.9306885497978538, 0.9306885497978538, 0.9306885497978538, 0.9306885497978538, 0.9306885497978538, 0.9306885497978538, 0.9306885497978538, 0.9306885497978538, 0.9310611564939899, 0.9310611564939899, 0.9310611564939899, 0.9310611564939899, 0.9310611564939899, 0.9310611564939899, 0.9310611564939899, 0.9310611564939899, 0.9310611564939899, 0.9310611564939899, 0.9310611564939899, 0.9310611564939899, 0.9310611564939899, 0.9321949752527535, 0.9321949752527535, 0.9321949752527535, 0.9321949752527535, 0.9321949752527535, 0.9324831141659476, 0.9324831141659476, 0.9324831141659476, 0.9324831141659476, 0.9324831141659476, 0.9324831141659476, 0.9324831141659476, 0.9324831141659476, 0.9324831141659476, 0.9324831141659476, 0.9324831141659476, 0.9324831141659476, 0.9357464847822594, 0.9357464847822594]}], \"precision_score_macro\": [{\"categories\": [\"0\", \"1\", \"2\", \"3\", \"4\", \"5\", \"6\", \"7\", \"8\", \"9\", \"10\", \"11\", \"12\", \"13\", \"14\", \"15\", \"16\", \"17\", \"18\", \"19\", \"20\", \"21\", \"22\", \"23\", \"24\", \"25\", \"26\", \"27\", \"28\", \"29\", \"30\", \"31\", \"32\", \"33\", \"34\", \"35\", \"36\", \"37\", \"38\", \"39\", \"40\", \"41\", \"42\", \"43\", \"44\", \"45\", \"46\", \"47\", \"48\", \"49\", \"50\", \"51\", \"52\", \"53\", \"54\", \"55\", \"56\", \"57\", \"58\", \"59\", \"60\", \"61\", \"62\", \"63\", \"64\", \"65\", \"66\", \"67\", \"68\", \"71\", \"72\"], \"mode\": \"markers\", \"name\": \"precision_score_macro\", \"stepped\": false, \"type\": \"scatter\", \"data\": [0.7890465090465091, 0.77746225996226, 0.8008280608280609, 0.8069361194361194, 0.7938442807192807, 0.8082448760389938, 0.799204822954823, 0.8172154928404929, 0.78989898989899, 0.8018810356310357, 0.7645089632589632, 0.780701381951382, 0.7976764901764902, 0.7796257092580622, 0.777246838129191, 0.7391197691197692, 0.76244181064034, 0.8168759018759019, 0.7956322150072149, 0.8152621071738718, 0.8288130007247654, 0.7873974636474637, 0.8023019341769342, 0.8069223831723832, 0.8180215617715618, 0.7978643578643578, 0.8000008325008325, 0.7793703681938976, 0.7976396397719927, 0.7919705988455988, 0.7600288215826141, 0.8000613275613275, 0.785375319125319, 0.8202719502719503, 0.8061424686424686, 0.8056877925995574, 0.7747542735042735, 0.8036001498501498, 0.7825107531357531, 0.8224106449106449, 0.8002220002220002, 0.7731887556887557, 0.785375319125319, 0.798740564990565, 0.7904607892107892, 0.7853954432650253, 0.8010336885336884, 0.8145353257853257, 0.7950770063270063, 0.7977526640026641, 0.7616677766677767, 0.840666971916972, 0.8043684093684094, 0.7983430458430458, 0.7681032856032857, 0.7941912254412253, 0.7681032856032857, 0.7996020646020645, 0.7774564324564326, 0.8121911421911422, 0.7937835775335775, 0.8032860195360195, 0.8166446053946055, 0.785375319125319, 0.7792937617937618, 0.7664642302142302, 0.7757584082584084, 0.8026547064047064, 0.7681032856032857, 0.8046237096237097, 0.7431574552898081]}, {\"categories\": [\"0\", \"1\", \"2\", \"3\", \"4\", \"5\", \"6\", \"7\", \"8\", \"9\", \"10\", \"11\", \"12\", \"13\", \"14\", \"15\", \"16\", \"17\", \"18\", \"19\", \"20\", \"21\", \"22\", \"23\", \"24\", \"25\", \"26\", \"27\", \"28\", \"29\", \"30\", \"31\", \"32\", \"33\", \"34\", \"35\", \"36\", \"37\", \"38\", \"39\", \"40\", \"41\", \"42\", \"43\", \"44\", \"45\", \"46\", \"47\", \"48\", \"49\", \"50\", \"51\", \"52\", \"53\", \"54\", \"55\", \"56\", \"57\", \"58\", \"59\", \"60\", \"61\", \"62\", \"63\", \"64\", \"65\", \"66\", \"67\", \"68\", \"71\", \"72\"], \"mode\": \"lines\", \"name\": \"precision_score_macro_max\", \"stepped\": true, \"type\": \"scatter\", \"data\": [0.7890465090465091, 0.7890465090465091, 0.8008280608280609, 0.8069361194361194, 0.8069361194361194, 0.8082448760389938, 0.8082448760389938, 0.8172154928404929, 0.8172154928404929, 0.8172154928404929, 0.8172154928404929, 0.8172154928404929, 0.8172154928404929, 0.8172154928404929, 0.8172154928404929, 0.8172154928404929, 0.8172154928404929, 0.8172154928404929, 0.8172154928404929, 0.8172154928404929, 0.8288130007247654, 0.8288130007247654, 0.8288130007247654, 0.8288130007247654, 0.8288130007247654, 0.8288130007247654, 0.8288130007247654, 0.8288130007247654, 0.8288130007247654, 0.8288130007247654, 0.8288130007247654, 0.8288130007247654, 0.8288130007247654, 0.8288130007247654, 0.8288130007247654, 0.8288130007247654, 0.8288130007247654, 0.8288130007247654, 0.8288130007247654, 0.8288130007247654, 0.8288130007247654, 0.8288130007247654, 0.8288130007247654, 0.8288130007247654, 0.8288130007247654, 0.8288130007247654, 0.8288130007247654, 0.8288130007247654, 0.8288130007247654, 0.8288130007247654, 0.8288130007247654, 0.840666971916972, 0.840666971916972, 0.840666971916972, 0.840666971916972, 0.840666971916972, 0.840666971916972, 0.840666971916972, 0.840666971916972, 0.840666971916972, 0.840666971916972, 0.840666971916972, 0.840666971916972, 0.840666971916972, 0.840666971916972, 0.840666971916972, 0.840666971916972, 0.840666971916972, 0.840666971916972, 0.840666971916972, 0.840666971916972]}], \"AUC_micro\": [{\"categories\": [\"0\", \"1\", \"2\", \"3\", \"4\", \"5\", \"6\", \"7\", \"8\", \"9\", \"10\", \"11\", \"12\", \"13\", \"14\", \"15\", \"16\", \"17\", \"18\", \"19\", \"20\", \"21\", \"22\", \"23\", \"24\", \"25\", \"26\", \"27\", \"28\", \"29\", \"30\", \"31\", \"32\", \"33\", \"34\", \"35\", \"36\", \"37\", \"38\", \"39\", \"40\", \"41\", \"42\", \"43\", \"44\", \"45\", \"46\", \"47\", \"48\", \"49\", \"50\", \"51\", \"52\", \"53\", \"54\", \"55\", \"56\", \"57\", \"58\", \"59\", \"60\", \"61\", \"62\", \"63\", \"64\", \"65\", \"66\", \"67\", \"68\", \"71\", \"72\"], \"mode\": \"markers\", \"name\": \"AUC_micro\", \"stepped\": false, \"type\": \"scatter\", \"data\": [0.8728940612057494, 0.8638439122205355, 0.8776761117670209, 0.8865852401566687, 0.8747783962069675, 0.8741890144487549, 0.8896741065572235, 0.8858393770731434, 0.8873610876857629, 0.9080011618972659, 0.8681523022432114, 0.8687969678229418, 0.8906162740578324, 0.8708326305728903, 0.8712809917355372, 0.8325759918292386, 0.8636574464496543, 0.8953481943741686, 0.8790769475834409, 0.8917097693071719, 0.893942204981166, 0.8774540394670265, 0.8909086224021289, 0.9047914207005116, 0.9139474522591404, 0.8884494293585201, 0.8911152339723767, 0.8719265943291917, 0.8951617286032871, 0.8853708701111298, 0.8041654953992616, 0.899969078540507, 0.8784215063435843, 0.9030527913644797, 0.9078652948782817, 0.8774896459961395, 0.880331609227713, 0.8863533292104722, 0.8718005659564101, 0.909432450666217, 0.8778621090309402, 0.8887267854800323, 0.8846198534510222, 0.9023575270328518, 0.8878399018009407, 0.8020839189670358, 0.8906818650325142, 0.8847913269991192, 0.8787845992391448, 0.8911152339723767, 0.8503837072018889, 0.9131814433762486, 0.9002562733082214, 0.9022769438353853, 0.8859602518693428, 0.9018234290961562, 0.8886007571072506, 0.908318809617511, 0.8889535428496467, 0.9094928880643167, 0.8818181818181816, 0.9086462959839583, 0.9079458780757481, 0.8786332714904143, 0.8933073780476379, 0.8744560634171025, 0.8934483986432038, 0.9005031764772025, 0.8850935139896178, 0.9090998107231874, 0.9144712430426717]}, {\"categories\": [\"0\", \"1\", \"2\", \"3\", \"4\", \"5\", \"6\", \"7\", \"8\", \"9\", \"10\", \"11\", \"12\", \"13\", \"14\", \"15\", \"16\", \"17\", \"18\", \"19\", \"20\", \"21\", \"22\", \"23\", \"24\", \"25\", \"26\", \"27\", \"28\", \"29\", \"30\", \"31\", \"32\", \"33\", \"34\", \"35\", \"36\", \"37\", \"38\", \"39\", \"40\", \"41\", \"42\", \"43\", \"44\", \"45\", \"46\", \"47\", \"48\", \"49\", \"50\", \"51\", \"52\", \"53\", \"54\", \"55\", \"56\", \"57\", \"58\", \"59\", \"60\", \"61\", \"62\", \"63\", \"64\", \"65\", \"66\", \"67\", \"68\", \"71\", \"72\"], \"mode\": \"lines\", \"name\": \"AUC_micro_max\", \"stepped\": true, \"type\": \"scatter\", \"data\": [0.8728940612057494, 0.8728940612057494, 0.8776761117670209, 0.8865852401566687, 0.8865852401566687, 0.8865852401566687, 0.8896741065572235, 0.8896741065572235, 0.8896741065572235, 0.9080011618972659, 0.9080011618972659, 0.9080011618972659, 0.9080011618972659, 0.9080011618972659, 0.9080011618972659, 0.9080011618972659, 0.9080011618972659, 0.9080011618972659, 0.9080011618972659, 0.9080011618972659, 0.9080011618972659, 0.9080011618972659, 0.9080011618972659, 0.9080011618972659, 0.9139474522591404, 0.9139474522591404, 0.9139474522591404, 0.9139474522591404, 0.9139474522591404, 0.9139474522591404, 0.9139474522591404, 0.9139474522591404, 0.9139474522591404, 0.9139474522591404, 0.9139474522591404, 0.9139474522591404, 0.9139474522591404, 0.9139474522591404, 0.9139474522591404, 0.9139474522591404, 0.9139474522591404, 0.9139474522591404, 0.9139474522591404, 0.9139474522591404, 0.9139474522591404, 0.9139474522591404, 0.9139474522591404, 0.9139474522591404, 0.9139474522591404, 0.9139474522591404, 0.9139474522591404, 0.9139474522591404, 0.9139474522591404, 0.9139474522591404, 0.9139474522591404, 0.9139474522591404, 0.9139474522591404, 0.9139474522591404, 0.9139474522591404, 0.9139474522591404, 0.9139474522591404, 0.9139474522591404, 0.9139474522591404, 0.9139474522591404, 0.9139474522591404, 0.9139474522591404, 0.9139474522591404, 0.9139474522591404, 0.9139474522591404, 0.9139474522591404, 0.9144712430426717]}], \"AUC_weighted\": [{\"categories\": [\"0\", \"1\", \"2\", \"3\", \"4\", \"5\", \"6\", \"7\", \"8\", \"9\", \"10\", \"11\", \"12\", \"13\", \"14\", \"15\", \"16\", \"17\", \"18\", \"19\", \"20\", \"21\", \"22\", \"23\", \"24\", \"25\", \"26\", \"27\", \"28\", \"29\", \"30\", \"31\", \"32\", \"33\", \"34\", \"35\", \"36\", \"37\", \"38\", \"39\", \"40\", \"41\", \"42\", \"43\", \"44\", \"45\", \"46\", \"47\", \"48\", \"49\", \"50\", \"51\", \"52\", \"53\", \"54\", \"55\", \"56\", \"57\", \"58\", \"59\", \"60\", \"61\", \"62\", \"63\", \"64\", \"65\", \"66\", \"67\", \"68\", \"71\", \"72\"], \"mode\": \"markers\", \"name\": \"AUC_weighted\", \"stepped\": false, \"type\": \"scatter\", \"data\": [0.8729499600928172, 0.8651201906559048, 0.8805475609047038, 0.8821969630898202, 0.8730929255929256, 0.8808988564345708, 0.8907529375386517, 0.8908402510188225, 0.905680635502064, 0.9049990287490287, 0.865299184942042, 0.8686093139664568, 0.8866185203685204, 0.868211940176226, 0.8706954553383124, 0.8142657970336542, 0.8668489182774897, 0.8951262560191132, 0.8826822912537198, 0.8939765789765788, 0.897201812737527, 0.8779860285217428, 0.8910880389451817, 0.9056148084719512, 0.9124383486883486, 0.8906830338973195, 0.8945955433455433, 0.8802479861408432, 0.8974734921163492, 0.8892821199964057, 0.8535328031756603, 0.9026401640687354, 0.8833277833277833, 0.9040324027824027, 0.9116670300598871, 0.8864977813192099, 0.8846036899608329, 0.8846963354106212, 0.8688077134505706, 0.9134495993424565, 0.8974369876155592, 0.8929611922469066, 0.8881407084978514, 0.908184619613191, 0.88999444999445, 0.8451471213971213, 0.8915042232899376, 0.8872059091701949, 0.8754169177383464, 0.8916040110682968, 0.8451471213971213, 0.9147201145415431, 0.9154822756608472, 0.9056098729313014, 0.8920333766762336, 0.905673678173678, 0.8940741930027645, 0.9143522681022681, 0.8929611922469066, 0.9136225216582359, 0.906681856503285, 0.9130466623323766, 0.9096375714232856, 0.880443167943168, 0.8951539531896673, 0.8813166661380947, 0.8935052381480955, 0.9074237138522852, 0.8911074507503078, 0.9194137542351829, 0.9120361318575604]}, {\"categories\": [\"0\", \"1\", \"2\", \"3\", \"4\", \"5\", \"6\", \"7\", \"8\", \"9\", \"10\", \"11\", \"12\", \"13\", \"14\", \"15\", \"16\", \"17\", \"18\", \"19\", \"20\", \"21\", \"22\", \"23\", \"24\", \"25\", \"26\", \"27\", \"28\", \"29\", \"30\", \"31\", \"32\", \"33\", \"34\", \"35\", \"36\", \"37\", \"38\", \"39\", \"40\", \"41\", \"42\", \"43\", \"44\", \"45\", \"46\", \"47\", \"48\", \"49\", \"50\", \"51\", \"52\", \"53\", \"54\", \"55\", \"56\", \"57\", \"58\", \"59\", \"60\", \"61\", \"62\", \"63\", \"64\", \"65\", \"66\", \"67\", \"68\", \"71\", \"72\"], \"mode\": \"lines\", \"name\": \"AUC_weighted_max\", \"stepped\": true, \"type\": \"scatter\", \"data\": [0.8729499600928172, 0.8729499600928172, 0.8805475609047038, 0.8821969630898202, 0.8821969630898202, 0.8821969630898202, 0.8907529375386517, 0.8908402510188225, 0.905680635502064, 0.905680635502064, 0.905680635502064, 0.905680635502064, 0.905680635502064, 0.905680635502064, 0.905680635502064, 0.905680635502064, 0.905680635502064, 0.905680635502064, 0.905680635502064, 0.905680635502064, 0.905680635502064, 0.905680635502064, 0.905680635502064, 0.905680635502064, 0.9124383486883486, 0.9124383486883486, 0.9124383486883486, 0.9124383486883486, 0.9124383486883486, 0.9124383486883486, 0.9124383486883486, 0.9124383486883486, 0.9124383486883486, 0.9124383486883486, 0.9124383486883486, 0.9124383486883486, 0.9124383486883486, 0.9124383486883486, 0.9124383486883486, 0.9134495993424565, 0.9134495993424565, 0.9134495993424565, 0.9134495993424565, 0.9134495993424565, 0.9134495993424565, 0.9134495993424565, 0.9134495993424565, 0.9134495993424565, 0.9134495993424565, 0.9134495993424565, 0.9134495993424565, 0.9147201145415431, 0.9154822756608472, 0.9154822756608472, 0.9154822756608472, 0.9154822756608472, 0.9154822756608472, 0.9154822756608472, 0.9154822756608472, 0.9154822756608472, 0.9154822756608472, 0.9154822756608472, 0.9154822756608472, 0.9154822756608472, 0.9154822756608472, 0.9154822756608472, 0.9154822756608472, 0.9154822756608472, 0.9154822756608472, 0.9194137542351829, 0.9194137542351829]}], \"precision_score_weighted\": [{\"categories\": [\"0\", \"1\", \"2\", \"3\", \"4\", \"5\", \"6\", \"7\", \"8\", \"9\", \"10\", \"11\", \"12\", \"13\", \"14\", \"15\", \"16\", \"17\", \"18\", \"19\", \"20\", \"21\", \"22\", \"23\", \"24\", \"25\", \"26\", \"27\", \"28\", \"29\", \"30\", \"31\", \"32\", \"33\", \"34\", \"35\", \"36\", \"37\", \"38\", \"39\", \"40\", \"41\", \"42\", \"43\", \"44\", \"45\", \"46\", \"47\", \"48\", \"49\", \"50\", \"51\", \"52\", \"53\", \"54\", \"55\", \"56\", \"57\", \"58\", \"59\", \"60\", \"61\", \"62\", \"63\", \"64\", \"65\", \"66\", \"67\", \"68\", \"71\", \"72\"], \"mode\": \"markers\", \"name\": \"precision_score_weighted\", \"stepped\": false, \"type\": \"scatter\", \"data\": [0.8161467104324247, 0.8020698382305526, 0.8273335725121438, 0.8350169527442256, 0.8246849479885194, 0.8327008767765071, 0.8271146446146446, 0.8472043730079444, 0.8169410219410219, 0.8330326617826618, 0.7932125612482757, 0.8120577834863549, 0.82473963866821, 0.8086642978869868, 0.8081897304376296, 0.7700653567212009, 0.7918040660320073, 0.8447085574358301, 0.8253496272246272, 0.8447531926523523, 0.8565541694533291, 0.8155243169528884, 0.8298545931581645, 0.8396735263293704, 0.8482751507751509, 0.8284151034151034, 0.829573838859553, 0.8092916941446354, 0.8270602273543449, 0.8233862433862434, 0.7883349623945599, 0.8315456357014799, 0.8162495705352848, 0.8507942850799994, 0.8387453551739265, 0.8290725889847357, 0.8057585259857987, 0.8324482263767978, 0.8100444285752726, 0.8522471564030006, 0.8374264624264625, 0.8071278060563774, 0.8162495705352848, 0.8313382252667966, 0.8209892752749894, 0.7976639052750285, 0.8328105029890744, 0.840830424986269, 0.8245837297623012, 0.8281947021232735, 0.7905314382587111, 0.8702164039664041, 0.8368677210235651, 0.831322830608545, 0.8023881013166727, 0.8263706927992642, 0.8023881013166727, 0.8337549751835466, 0.8105597444883159, 0.8445110445110446, 0.8274804164089877, 0.8364700631259072, 0.847685026613598, 0.8162495705352848, 0.8127777117062831, 0.7976483965769681, 0.8077811870669013, 0.8348615537901252, 0.8023881013166727, 0.8372129313687754, 0.7845105560766371]}, {\"categories\": [\"0\", \"1\", \"2\", \"3\", \"4\", \"5\", \"6\", \"7\", \"8\", \"9\", \"10\", \"11\", \"12\", \"13\", \"14\", \"15\", \"16\", \"17\", \"18\", \"19\", \"20\", \"21\", \"22\", \"23\", \"24\", \"25\", \"26\", \"27\", \"28\", \"29\", \"30\", \"31\", \"32\", \"33\", \"34\", \"35\", \"36\", \"37\", \"38\", \"39\", \"40\", \"41\", \"42\", \"43\", \"44\", \"45\", \"46\", \"47\", \"48\", \"49\", \"50\", \"51\", \"52\", \"53\", \"54\", \"55\", \"56\", \"57\", \"58\", \"59\", \"60\", \"61\", \"62\", \"63\", \"64\", \"65\", \"66\", \"67\", \"68\", \"71\", \"72\"], \"mode\": \"lines\", \"name\": \"precision_score_weighted_max\", \"stepped\": true, \"type\": \"scatter\", \"data\": [0.8161467104324247, 0.8161467104324247, 0.8273335725121438, 0.8350169527442256, 0.8350169527442256, 0.8350169527442256, 0.8350169527442256, 0.8472043730079444, 0.8472043730079444, 0.8472043730079444, 0.8472043730079444, 0.8472043730079444, 0.8472043730079444, 0.8472043730079444, 0.8472043730079444, 0.8472043730079444, 0.8472043730079444, 0.8472043730079444, 0.8472043730079444, 0.8472043730079444, 0.8565541694533291, 0.8565541694533291, 0.8565541694533291, 0.8565541694533291, 0.8565541694533291, 0.8565541694533291, 0.8565541694533291, 0.8565541694533291, 0.8565541694533291, 0.8565541694533291, 0.8565541694533291, 0.8565541694533291, 0.8565541694533291, 0.8565541694533291, 0.8565541694533291, 0.8565541694533291, 0.8565541694533291, 0.8565541694533291, 0.8565541694533291, 0.8565541694533291, 0.8565541694533291, 0.8565541694533291, 0.8565541694533291, 0.8565541694533291, 0.8565541694533291, 0.8565541694533291, 0.8565541694533291, 0.8565541694533291, 0.8565541694533291, 0.8565541694533291, 0.8565541694533291, 0.8702164039664041, 0.8702164039664041, 0.8702164039664041, 0.8702164039664041, 0.8702164039664041, 0.8702164039664041, 0.8702164039664041, 0.8702164039664041, 0.8702164039664041, 0.8702164039664041, 0.8702164039664041, 0.8702164039664041, 0.8702164039664041, 0.8702164039664041, 0.8702164039664041, 0.8702164039664041, 0.8702164039664041, 0.8702164039664041, 0.8702164039664041, 0.8702164039664041]}], \"log_loss\": [{\"categories\": [\"0\", \"1\", \"2\", \"3\", \"4\", \"5\", \"6\", \"7\", \"8\", \"9\", \"10\", \"11\", \"12\", \"13\", \"14\", \"15\", \"16\", \"17\", \"18\", \"19\", \"20\", \"21\", \"22\", \"23\", \"24\", \"25\", \"26\", \"27\", \"28\", \"29\", \"30\", \"31\", \"32\", \"33\", \"34\", \"35\", \"36\", \"37\", \"38\", \"39\", \"40\", \"41\", \"42\", \"43\", \"44\", \"45\", \"46\", \"47\", \"48\", \"49\", \"50\", \"51\", \"52\", \"53\", \"54\", \"55\", \"56\", \"57\", \"58\", \"59\", \"60\", \"61\", \"62\", \"63\", \"64\", \"65\", \"66\", \"67\", \"68\", \"71\", \"72\"], \"mode\": \"markers\", \"name\": \"log_loss\", \"stepped\": false, \"type\": \"scatter\", \"data\": [0.49343792777022416, 0.4699971523571021, 0.4531576160351599, 0.42871164667532324, 0.4572932852096295, 0.5961749558226372, 0.42417814977213225, 0.44113189211650317, 0.5084345336876901, 0.4647785760938727, 0.49031112511640507, 0.47284906162857965, 0.565560843617994, 0.5257303548995657, 0.5959517979340736, 0.9896234452463935, 0.4619977659470934, 0.41629542899295136, 0.488133369852146, 0.4155714496587609, 0.41615924696108053, 0.4377493577063962, 0.42164945588492675, 0.3878620865611336, 0.38583379989166033, 0.5555762310872684, 0.5128441283901786, 0.4855819559078728, 0.5457622181848562, 0.44412818233948803, 0.571757607737613, 0.3850170916037863, 0.5114047022076474, 0.5150621605614374, 0.381939815326167, 0.4358337548950453, 0.4555045796071324, 0.4437733332315818, 0.43671177076791967, 0.39006449042575925, 0.4185255924225911, 0.4628573332961078, 0.47981727911334116, 0.8088208752983203, 0.4692196925122577, 0.6076403139136274, 0.42481044964536785, 0.4238987156963757, 0.4282170155446482, 0.42016924628660224, 0.5201059888338445, 0.3800895233479204, 0.3988524742095726, 0.38647915824701334, 0.465993149272682, 0.4125253979947394, 0.4583242216817151, 0.38553371232769207, 0.46676715290768656, 0.39365896284639856, 0.44060098801522074, 0.38172502489583926, 0.38183232786444915, 0.5084802312350378, 0.4281258615871672, 0.46498753549310406, 0.43778442890059577, 0.8091158280403352, 0.47430810020781455, 0.3841225330125645, 0.42504524020150775]}, {\"categories\": [\"0\", \"1\", \"2\", \"3\", \"4\", \"5\", \"6\", \"7\", \"8\", \"9\", \"10\", \"11\", \"12\", \"13\", \"14\", \"15\", \"16\", \"17\", \"18\", \"19\", \"20\", \"21\", \"22\", \"23\", \"24\", \"25\", \"26\", \"27\", \"28\", \"29\", \"30\", \"31\", \"32\", \"33\", \"34\", \"35\", \"36\", \"37\", \"38\", \"39\", \"40\", \"41\", \"42\", \"43\", \"44\", \"45\", \"46\", \"47\", \"48\", \"49\", \"50\", \"51\", \"52\", \"53\", \"54\", \"55\", \"56\", \"57\", \"58\", \"59\", \"60\", \"61\", \"62\", \"63\", \"64\", \"65\", \"66\", \"67\", \"68\", \"71\", \"72\"], \"mode\": \"lines\", \"name\": \"log_loss_min\", \"stepped\": true, \"type\": \"scatter\", \"data\": [0.49343792777022416, 0.4699971523571021, 0.4531576160351599, 0.42871164667532324, 0.42871164667532324, 0.42871164667532324, 0.42417814977213225, 0.42417814977213225, 0.42417814977213225, 0.42417814977213225, 0.42417814977213225, 0.42417814977213225, 0.42417814977213225, 0.42417814977213225, 0.42417814977213225, 0.42417814977213225, 0.42417814977213225, 0.41629542899295136, 0.41629542899295136, 0.4155714496587609, 0.4155714496587609, 0.4155714496587609, 0.4155714496587609, 0.3878620865611336, 0.38583379989166033, 0.38583379989166033, 0.38583379989166033, 0.38583379989166033, 0.38583379989166033, 0.38583379989166033, 0.38583379989166033, 0.3850170916037863, 0.3850170916037863, 0.3850170916037863, 0.381939815326167, 0.381939815326167, 0.381939815326167, 0.381939815326167, 0.381939815326167, 0.381939815326167, 0.381939815326167, 0.381939815326167, 0.381939815326167, 0.381939815326167, 0.381939815326167, 0.381939815326167, 0.381939815326167, 0.381939815326167, 0.381939815326167, 0.381939815326167, 0.381939815326167, 0.3800895233479204, 0.3800895233479204, 0.3800895233479204, 0.3800895233479204, 0.3800895233479204, 0.3800895233479204, 0.3800895233479204, 0.3800895233479204, 0.3800895233479204, 0.3800895233479204, 0.3800895233479204, 0.3800895233479204, 0.3800895233479204, 0.3800895233479204, 0.3800895233479204, 0.3800895233479204, 0.3800895233479204, 0.3800895233479204, 0.3800895233479204, 0.3800895233479204]}], \"f1_score_micro\": [{\"categories\": [\"0\", \"1\", \"2\", \"3\", \"4\", \"5\", \"6\", \"7\", \"8\", \"9\", \"10\", \"11\", \"12\", \"13\", \"14\", \"15\", \"16\", \"17\", \"18\", \"19\", \"20\", \"21\", \"22\", \"23\", \"24\", \"25\", \"26\", \"27\", \"28\", \"29\", \"30\", \"31\", \"32\", \"33\", \"34\", \"35\", \"36\", \"37\", \"38\", \"39\", \"40\", \"41\", \"42\", \"43\", \"44\", \"45\", \"46\", \"47\", \"48\", \"49\", \"50\", \"51\", \"52\", \"53\", \"54\", \"55\", \"56\", \"57\", \"58\", \"59\", \"60\", \"61\", \"62\", \"63\", \"64\", \"65\", \"66\", \"67\", \"68\", \"71\", \"72\"], \"mode\": \"markers\", \"name\": \"f1_score_micro\", \"stepped\": false, \"type\": \"scatter\", \"data\": [0.7922077922077922, 0.7829004329004329, 0.7967532467532467, 0.8158008658008657, 0.7922077922077922, 0.8015151515151514, 0.8067099567099566, 0.8158008658008657, 0.7872294372294372, 0.806060606060606, 0.7777056277056278, 0.7876623376623375, 0.8067099567099566, 0.7829004329004329, 0.7694805194805195, 0.7502164502164502, 0.7729437229437229, 0.82012987012987, 0.7967532467532467, 0.811038961038961, 0.8255411255411256, 0.798051948051948, 0.8067099567099566, 0.811038961038961, 0.8251082251082252, 0.8064935064935064, 0.8062770562770563, 0.7865800865800866, 0.8062770562770563, 0.8015151515151514, 0.7209956709956711, 0.8064935064935064, 0.7878787878787878, 0.8251082251082252, 0.8108225108225108, 0.8015151515151515, 0.7829004329004328, 0.8064935064935064, 0.7870129870129869, 0.824891774891775, 0.793073593073593, 0.7735930735930735, 0.7878787878787878, 0.8012987012987013, 0.7924242424242424, 0.7363636363636363, 0.8019480519480519, 0.8155844155844155, 0.7971861471861472, 0.8017316017316016, 0.7690476190476191, 0.843939393939394, 0.8010822510822511, 0.796969696969697, 0.769047619047619, 0.7965367965367964, 0.769047619047619, 0.8012987012987013, 0.7783549783549782, 0.8155844155844157, 0.7874458874458874, 0.8062770562770561, 0.8203463203463203, 0.7878787878787878, 0.778138528138528, 0.764069264069264, 0.7783549783549784, 0.806060606060606, 0.769047619047619, 0.8062770562770563, 0.8160173160173161]}, {\"categories\": [\"0\", \"1\", \"2\", \"3\", \"4\", \"5\", \"6\", \"7\", \"8\", \"9\", \"10\", \"11\", \"12\", \"13\", \"14\", \"15\", \"16\", \"17\", \"18\", \"19\", \"20\", \"21\", \"22\", \"23\", \"24\", \"25\", \"26\", \"27\", \"28\", \"29\", \"30\", \"31\", \"32\", \"33\", \"34\", \"35\", \"36\", \"37\", \"38\", \"39\", \"40\", \"41\", \"42\", \"43\", \"44\", \"45\", \"46\", \"47\", \"48\", \"49\", \"50\", \"51\", \"52\", \"53\", \"54\", \"55\", \"56\", \"57\", \"58\", \"59\", \"60\", \"61\", \"62\", \"63\", \"64\", \"65\", \"66\", \"67\", \"68\", \"71\", \"72\"], \"mode\": \"lines\", \"name\": \"f1_score_micro_max\", \"stepped\": true, \"type\": \"scatter\", \"data\": [0.7922077922077922, 0.7922077922077922, 0.7967532467532467, 0.8158008658008657, 0.8158008658008657, 0.8158008658008657, 0.8158008658008657, 0.8158008658008657, 0.8158008658008657, 0.8158008658008657, 0.8158008658008657, 0.8158008658008657, 0.8158008658008657, 0.8158008658008657, 0.8158008658008657, 0.8158008658008657, 0.8158008658008657, 0.82012987012987, 0.82012987012987, 0.82012987012987, 0.8255411255411256, 0.8255411255411256, 0.8255411255411256, 0.8255411255411256, 0.8255411255411256, 0.8255411255411256, 0.8255411255411256, 0.8255411255411256, 0.8255411255411256, 0.8255411255411256, 0.8255411255411256, 0.8255411255411256, 0.8255411255411256, 0.8255411255411256, 0.8255411255411256, 0.8255411255411256, 0.8255411255411256, 0.8255411255411256, 0.8255411255411256, 0.8255411255411256, 0.8255411255411256, 0.8255411255411256, 0.8255411255411256, 0.8255411255411256, 0.8255411255411256, 0.8255411255411256, 0.8255411255411256, 0.8255411255411256, 0.8255411255411256, 0.8255411255411256, 0.8255411255411256, 0.843939393939394, 0.843939393939394, 0.843939393939394, 0.843939393939394, 0.843939393939394, 0.843939393939394, 0.843939393939394, 0.843939393939394, 0.843939393939394, 0.843939393939394, 0.843939393939394, 0.843939393939394, 0.843939393939394, 0.843939393939394, 0.843939393939394, 0.843939393939394, 0.843939393939394, 0.843939393939394, 0.843939393939394, 0.843939393939394]}]}, \"metricName\": null, \"primaryMetricName\": \"AUC_weighted\", \"showLegend\": false}, \"run_metrics\": [{\"name\": \"experiment_status\", \"run_id\": \"AutoML_f4a84f04-fd89-406f-9114-0cecc0be773c\", \"categories\": [0, 1, 2, 3, 4, 5, 6, 7, 8, 9, 10, 11, 12, 13], \"series\": [{\"data\": [\"DatasetEvaluation\", \"FeaturesGeneration\", \"DatasetFeaturization\", \"DatasetFeaturizationCompleted\", \"DatasetCrossValidationSplit\", \"ModelSelection\", \"BestRunExplainModel\", \"ModelExplanationDataSetSetup\", \"PickSurrogateModel\", \"EngineeredFeatureExplanations\", \"EngineeredFeatureExplanations\", \"RawFeaturesExplanations\", \"RawFeaturesExplanations\", \"BestRunExplainModel\"]}]}, {\"name\": \"experiment_status_description\", \"run_id\": \"AutoML_f4a84f04-fd89-406f-9114-0cecc0be773c\", \"categories\": [0, 1, 2, 3, 4, 5, 6, 7, 8, 9, 10, 11, 12, 13], \"series\": [{\"data\": [\"Gathering dataset statistics.\", \"Generating features for the dataset.\", \"Beginning to fit featurizers and featurize the dataset.\", \"Completed fit featurizers and featurizing the dataset.\", \"Generating individually featurized CV splits.\", \"Beginning model selection.\", \"Best run model explanations started\", \"Model explanations data setup completed\", \"Choosing LightGBM as the surrogate model for explanations\", \"Computation of engineered features started\", \"Computation of engineered features completed\", \"Computation of raw features started\", \"Computation of raw features completed\", \"Best run model explanations completed\"]}]}, {\"name\": \"average_precision_score_weighted\", \"run_id\": \"AutoML_f4a84f04-fd89-406f-9114-0cecc0be773c\", \"categories\": [0], \"series\": [{\"data\": [0.9357464847822594]}]}, {\"name\": \"precision_score_weighted\", \"run_id\": \"AutoML_f4a84f04-fd89-406f-9114-0cecc0be773c\", \"categories\": [0], \"series\": [{\"data\": [0.8372129313687754]}]}, {\"name\": \"accuracy\", \"run_id\": \"AutoML_f4a84f04-fd89-406f-9114-0cecc0be773c\", \"categories\": [0], \"series\": [{\"data\": [0.8062770562770563]}]}, {\"name\": \"average_precision_score_micro\", \"run_id\": \"AutoML_f4a84f04-fd89-406f-9114-0cecc0be773c\", \"categories\": [0], \"series\": [{\"data\": [0.917806434922426]}]}, {\"name\": \"f1_score_weighted\", \"run_id\": \"AutoML_f4a84f04-fd89-406f-9114-0cecc0be773c\", \"categories\": [0], \"series\": [{\"data\": [0.8099827271131422]}]}, {\"name\": \"recall_score_micro\", \"run_id\": \"AutoML_f4a84f04-fd89-406f-9114-0cecc0be773c\", \"categories\": [0], \"series\": [{\"data\": [0.8062770562770563]}]}, {\"name\": \"balanced_accuracy\", \"run_id\": \"AutoML_f4a84f04-fd89-406f-9114-0cecc0be773c\", \"categories\": [0], \"series\": [{\"data\": [0.8130898962148961]}]}, {\"name\": \"precision_score_macro\", \"run_id\": \"AutoML_f4a84f04-fd89-406f-9114-0cecc0be773c\", \"categories\": [0], \"series\": [{\"data\": [0.8046237096237097]}]}, {\"name\": \"f1_score_macro\", \"run_id\": \"AutoML_f4a84f04-fd89-406f-9114-0cecc0be773c\", \"categories\": [0], \"series\": [{\"data\": [0.7954591447018526]}]}, {\"name\": \"recall_score_macro\", \"run_id\": \"AutoML_f4a84f04-fd89-406f-9114-0cecc0be773c\", \"categories\": [0], \"series\": [{\"data\": [0.8130898962148961]}]}, {\"name\": \"recall_score_weighted\", \"run_id\": \"AutoML_f4a84f04-fd89-406f-9114-0cecc0be773c\", \"categories\": [0], \"series\": [{\"data\": [0.8062770562770563]}]}, {\"name\": \"f1_score_micro\", \"run_id\": \"AutoML_f4a84f04-fd89-406f-9114-0cecc0be773c\", \"categories\": [0], \"series\": [{\"data\": [0.8062770562770563]}]}, {\"name\": \"AUC_macro\", \"run_id\": \"AutoML_f4a84f04-fd89-406f-9114-0cecc0be773c\", \"categories\": [0], \"series\": [{\"data\": [0.9194137542351829]}]}, {\"name\": \"log_loss\", \"run_id\": \"AutoML_f4a84f04-fd89-406f-9114-0cecc0be773c\", \"categories\": [0], \"series\": [{\"data\": [0.3841225330125645]}]}, {\"name\": \"weighted_accuracy\", \"run_id\": \"AutoML_f4a84f04-fd89-406f-9114-0cecc0be773c\", \"categories\": [0], \"series\": [{\"data\": [0.8021178505062807]}]}, {\"name\": \"norm_macro_recall\", \"run_id\": \"AutoML_f4a84f04-fd89-406f-9114-0cecc0be773c\", \"categories\": [0], \"series\": [{\"data\": [0.6261797924297923]}]}, {\"name\": \"matthews_correlation\", \"run_id\": \"AutoML_f4a84f04-fd89-406f-9114-0cecc0be773c\", \"categories\": [0], \"series\": [{\"data\": [0.6169314081632594]}]}, {\"name\": \"average_precision_score_macro\", \"run_id\": \"AutoML_f4a84f04-fd89-406f-9114-0cecc0be773c\", \"categories\": [0], \"series\": [{\"data\": [0.925369923913222]}]}, {\"name\": \"AUC_weighted\", \"run_id\": \"AutoML_f4a84f04-fd89-406f-9114-0cecc0be773c\", \"categories\": [0], \"series\": [{\"data\": [0.9194137542351829]}]}, {\"name\": \"precision_score_micro\", \"run_id\": \"AutoML_f4a84f04-fd89-406f-9114-0cecc0be773c\", \"categories\": [0], \"series\": [{\"data\": [0.8062770562770563]}]}, {\"name\": \"AUC_micro\", \"run_id\": \"AutoML_f4a84f04-fd89-406f-9114-0cecc0be773c\", \"categories\": [0], \"series\": [{\"data\": [0.9090998107231874]}]}], \"run_logs\": \"\\nRun is completed.\", \"graph\": {}, \"widget_settings\": {\"childWidgetDisplay\": \"popup\", \"send_telemetry\": false, \"log_level\": \"INFO\", \"sdk_version\": \"1.26.0\"}, \"loading\": false}"
     },
     "metadata": {},
     "output_type": "display_data"
    },
    {
     "data": {
      "text/html": [
       "<table style=\"width:100%\"><tr><th>Experiment</th><th>Id</th><th>Type</th><th>Status</th><th>Details Page</th><th>Docs Page</th></tr><tr><td>automl-exp</td><td>AutoML_f4a84f04-fd89-406f-9114-0cecc0be773c</td><td>automl</td><td>NotStarted</td><td><a href=\"https://ml.azure.com/runs/AutoML_f4a84f04-fd89-406f-9114-0cecc0be773c?wsid=/subscriptions/f5091c60-1c3c-430f-8d81-d802f6bf2414/resourcegroups/aml-quickstarts-142610/workspaces/quick-starts-ws-142610&amp;tid=660b3398-b80e-49d2-bc5b-ac1dc93b5254\" target=\"_blank\" rel=\"noopener\">Link to Azure Machine Learning studio</a></td><td><a href=\"https://docs.microsoft.com/en-us/python/api/overview/azure/ml/intro?view=azure-ml-py\" target=\"_blank\" rel=\"noopener\">Link to Documentation</a></td></tr></table>"
      ],
      "text/plain": [
       "<IPython.core.display.HTML object>"
      ]
     },
     "metadata": {},
     "output_type": "display_data"
    },
    {
     "name": "stdout",
     "output_type": "stream",
     "text": [
      "\n",
      "Current status: FeaturesGeneration. Generating features for the dataset.\n",
      "Current status: DatasetCrossValidationSplit. Generating individually featurized CV splits.\n",
      "Current status: ModelSelection. Beginning model selection.\n",
      "\n",
      "****************************************************************************************************\n",
      "DATA GUARDRAILS: \n",
      "\n",
      "TYPE:         Cross validation\n",
      "STATUS:       DONE\n",
      "DESCRIPTION:  Each iteration of the trained model was validated through cross-validation.\n",
      "              \n",
      "DETAILS:      \n",
      "+---------------------------------+\n",
      "|Number of folds                  |\n",
      "+=================================+\n",
      "|10                               |\n",
      "+---------------------------------+\n",
      "\n",
      "****************************************************************************************************\n",
      "\n",
      "TYPE:         Class balancing detection\n",
      "STATUS:       PASSED\n",
      "DESCRIPTION:  Your inputs were analyzed, and all classes are balanced in your training data.\n",
      "              Learn more about imbalanced data: https://aka.ms/AutomatedMLImbalancedData\n",
      "\n",
      "****************************************************************************************************\n",
      "\n",
      "TYPE:         Missing feature values imputation\n",
      "STATUS:       PASSED\n",
      "DESCRIPTION:  No feature missing values were detected in the training data.\n",
      "              Learn more about missing value imputation: https://aka.ms/AutomatedMLFeaturization\n",
      "\n",
      "****************************************************************************************************\n",
      "\n",
      "TYPE:         High cardinality feature detection\n",
      "STATUS:       PASSED\n",
      "DESCRIPTION:  Your inputs were analyzed, and no high cardinality features were detected.\n",
      "              Learn more about high cardinality feature handling: https://aka.ms/AutomatedMLFeaturization\n",
      "\n",
      "****************************************************************************************************\n",
      "\n",
      "****************************************************************************************************\n",
      "ITERATION: The iteration being evaluated.\n",
      "PIPELINE: A summary description of the pipeline being evaluated.\n",
      "DURATION: Time taken for the current iteration.\n",
      "METRIC: The result of computing score on the fitted pipeline.\n",
      "BEST: The best observed score thus far.\n",
      "****************************************************************************************************\n",
      "\n",
      " ITERATION   PIPELINE                                       DURATION      METRIC      BEST\n",
      "         0   MaxAbsScaler LightGBM                          0:00:51       0.8729    0.8729\n",
      "         2   MaxAbsScaler RandomForest                      0:00:55       0.8805    0.8805\n",
      "         3   MaxAbsScaler RandomForest                      0:00:52       0.8822    0.8822\n",
      "         1   MaxAbsScaler XGBoostClassifier                 0:00:57       0.8651    0.8822\n",
      "         4   MaxAbsScaler RandomForest                      0:00:59       0.8731    0.8822\n",
      "         5   MaxAbsScaler ExtremeRandomTrees                0:00:42       0.8809    0.8822\n",
      "         7   MaxAbsScaler ExtremeRandomTrees                0:00:41       0.8908    0.8908\n",
      "         6   MaxAbsScaler ExtremeRandomTrees                0:00:43       0.8908    0.8908\n",
      "         8   MaxAbsScaler RandomForest                      0:00:47       0.9057    0.9057\n",
      "         9   MaxAbsScaler ExtremeRandomTrees                0:00:45       0.9050    0.9057\n",
      "        10   MaxAbsScaler RandomForest                      0:00:40       0.8653    0.9057\n",
      "        11   MaxAbsScaler RandomForest                      0:00:43       0.8686    0.9057\n",
      "        12   MaxAbsScaler RandomForest                      0:00:44       0.8866    0.9057\n",
      "        13   StandardScalerWrapper XGBoostClassifier        0:00:51       0.8682    0.9057\n",
      "        14   MaxAbsScaler RandomForest                      0:00:44       0.8707    0.9057\n",
      "        15   StandardScalerWrapper ExtremeRandomTrees       0:02:23       0.8143    0.9057\n",
      "        16   MaxAbsScaler ExtremeRandomTrees                0:02:27       0.8668    0.9057\n",
      "        17   MaxAbsScaler ExtremeRandomTrees                0:02:24       0.8951    0.9057\n",
      "        18   MaxAbsScaler RandomForest                      0:02:28       0.8827    0.9057\n",
      "        19   MaxAbsScaler LightGBM                          0:02:24       0.8940    0.9057\n",
      "        22   MaxAbsScaler LightGBM                          0:00:43       0.8911    0.9057\n",
      "        20   MaxAbsScaler LightGBM                          0:00:48       0.8972    0.9057\n",
      "        21   MaxAbsScaler LightGBM                          0:00:46       0.8780    0.9057\n",
      "        24   StandardScalerWrapper LinearSVM                0:00:44       0.9124    0.9124\n",
      "        23   MaxAbsScaler LogisticRegression                0:00:48       0.9056    0.9124\n",
      "        25   MaxAbsScaler RandomForest                      0:00:47       0.8907    0.9124\n",
      "        27   StandardScalerWrapper ExtremeRandomTrees       0:00:47       0.8802    0.9124\n",
      "        28   MaxAbsScaler ExtremeRandomTrees                0:00:45       0.8975    0.9124\n",
      "        26   MaxAbsScaler ExtremeRandomTrees                0:00:53       0.8946    0.9124\n",
      "        29   MaxAbsScaler ExtremeRandomTrees                0:00:41       0.8893    0.9124\n",
      "        30   TruncatedSVDWrapper LinearSVM                  0:00:54       0.8535    0.9124\n",
      "        31   StandardScalerWrapper LogisticRegression       0:00:52       0.9026    0.9124\n",
      "        32   StandardScalerWrapper LogisticRegression       0:00:54       0.8833    0.9124\n",
      "        33   SparseNormalizer ExtremeRandomTrees            0:00:48       0.9040    0.9124\n",
      "        34   StandardScalerWrapper LogisticRegression       0:00:57       0.9117    0.9124\n",
      "        35   StandardScalerWrapper LinearSVM                0:00:53       0.8865    0.9124\n",
      "        37   SparseNormalizer XGBoostClassifier             0:00:46       0.8847    0.9124\n",
      "        38   SparseNormalizer XGBoostClassifier             0:00:45       0.8688    0.9124\n",
      "        39   StandardScalerWrapper LogisticRegression       0:00:40       0.9134    0.9134\n",
      "        36   SparseNormalizer XGBoostClassifier             0:01:02       0.8846    0.9134\n",
      "        41   MaxAbsScaler LogisticRegression                0:00:44       0.8930    0.9134\n",
      "        42   MaxAbsScaler LogisticRegression                0:00:46       0.8881    0.9134\n",
      "        40   SparseNormalizer LinearSVM                     0:00:50       0.8974    0.9134\n",
      "        43   MaxAbsScaler SGD                               0:00:49       0.9082    0.9134\n",
      "        44   MaxAbsScaler LogisticRegression                0:00:44       0.8900    0.9134\n",
      "        45   TruncatedSVDWrapper LogisticRegression         0:00:47       0.8451    0.9134\n",
      "        46   MaxAbsScaler LightGBM                          0:00:41       0.8915    0.9134\n",
      "        47   StandardScalerWrapper LightGBM                 0:00:42       0.8872    0.9134\n",
      "        48   MaxAbsScaler LightGBM                          0:00:47       0.8754    0.9134\n",
      "        49   MaxAbsScaler LightGBM                          0:01:02       0.8916    0.9134\n",
      "        50   TruncatedSVDWrapper LogisticRegression         0:00:40       0.8451    0.9134\n",
      "        51   MaxAbsScaler SGD                               0:00:47       0.9147    0.9147\n",
      "        52   StandardScalerWrapper LinearSVM                0:00:44       0.9155    0.9155\n",
      "        53   StandardScalerWrapper LogisticRegression       0:00:43       0.9056    0.9155\n",
      "        54   StandardScalerWrapper LogisticRegression       0:00:40       0.8920    0.9155\n",
      "        55   MaxAbsScaler SGD                               0:00:44       0.9057    0.9155\n",
      "        56   StandardScalerWrapper LogisticRegression       0:00:46       0.8941    0.9155\n",
      "        57   StandardScalerWrapper LogisticRegression       0:00:48       0.9144    0.9155\n",
      "        58   MaxAbsScaler LogisticRegression                0:00:40       0.8930    0.9155\n",
      "        59   StandardScalerWrapper LogisticRegression       0:02:29       0.9136    0.9155\n",
      "        60   SparseNormalizer LinearSVM                     0:02:22       0.9067    0.9155\n",
      "        61   MaxAbsScaler LogisticRegression                0:02:24       0.9130    0.9155\n",
      "        62   MaxAbsScaler LogisticRegression                0:02:24       0.9096    0.9155\n"
     ]
    },
    {
     "name": "stdout",
     "output_type": "stream",
     "text": [
      "        63   StandardScalerWrapper LogisticRegression       0:02:23       0.8804    0.9155\n",
      "        64   StandardScalerWrapper LogisticRegression       0:00:44       0.8952    0.9155\n",
      "        65   TruncatedSVDWrapper LinearSVM                  0:00:41       0.8813    0.9155\n",
      "        66   MaxAbsScaler LogisticRegression                0:00:41       0.8935    0.9155\n",
      "        67   MaxAbsScaler SGD                               0:00:40       0.9074    0.9155\n",
      "        68   StandardScalerWrapper LogisticRegression       0:00:42       0.8911    0.9155\n",
      "        69                                                  0:00:16          nan    0.9155\n",
      "        70                                                  0:00:15          nan    0.9155\n",
      "        71    VotingEnsemble                                0:01:23       0.9194    0.9194\n",
      "        72    StackEnsemble                                 0:02:36       0.9120    0.9194\n"
     ]
    }
   ],
   "source": [
    "RunDetails(remote_run).show()\n",
    "remote_run.wait_for_completion(show_output=True)\n",
    "assert(remote_run.get_status() == \"Completed\")"
   ]
  },
  {
   "cell_type": "code",
   "execution_count": 13,
   "metadata": {},
   "outputs": [
    {
     "data": {
      "text/plain": [
       "(Run(Experiment: automl-exp,\n",
       " Id: AutoML_f4a84f04-fd89-406f-9114-0cecc0be773c_71,\n",
       " Type: azureml.scriptrun,\n",
       " Status: Completed),\n",
       " Pipeline(memory=None,\n",
       "          steps=[('datatransformer',\n",
       "                  DataTransformer(enable_dnn=None, enable_feature_sweeping=None,\n",
       "                                  feature_sweeping_config=None,\n",
       "                                  feature_sweeping_timeout=None,\n",
       "                                  featurization_config=None, force_text_dnn=None,\n",
       "                                  is_cross_validation=None,\n",
       "                                  is_onnx_compatible=None, logger=None,\n",
       "                                  observer=None, task=None, working_dir=None)),\n",
       "                 ('prefittedsoftvotingclassifier',...\n",
       "                                                                              <azureml.automl.runtime.shared.model_wrappers.SparseNormalizer object at 0x7f5b7c3cba20>),\n",
       "                                                                             ('linearsvmwrapper',\n",
       "                                                                              LinearSVMWrapper(C=0.2682695795279725,\n",
       "                                                                                               class_weight=None,\n",
       "                                                                                               dual=True,\n",
       "                                                                                               fit_intercept=True,\n",
       "                                                                                               intercept_scaling=1,\n",
       "                                                                                               loss='squared_hinge',\n",
       "                                                                                               max_iter=1000,\n",
       "                                                                                               multi_class='ovr',\n",
       "                                                                                               penalty='l2',\n",
       "                                                                                               random_state=None,\n",
       "                                                                                               tol=0.0001,\n",
       "                                                                                               verbose=0))],\n",
       "                                                                      verbose=False))],\n",
       "                                                flatten_transform=None,\n",
       "                                                weights=[0.125, 0.125, 0.125,\n",
       "                                                         0.125, 0.125, 0.125,\n",
       "                                                         0.125, 0.125]))],\n",
       "          verbose=False))"
      ]
     },
     "execution_count": 13,
     "metadata": {},
     "output_type": "execute_result"
    }
   ],
   "source": [
    "remote_run.get_output()"
   ]
  },
  {
   "cell_type": "markdown",
   "metadata": {},
   "source": [
    "## Best Model\n",
    "\n",
    "TODO: In the cell below, get the best model from the automl experiments and display all the properties of the model.\n",
    "\n"
   ]
  },
  {
   "cell_type": "code",
   "execution_count": 14,
   "metadata": {
    "gather": {
     "logged": 1598431425670
    },
    "jupyter": {
     "outputs_hidden": false,
     "source_hidden": false
    },
    "nteract": {
     "transient": {
      "deleting": false
     }
    }
   },
   "outputs": [],
   "source": [
    "automl_best_run = remote_run.get_best_child()"
   ]
  },
  {
   "cell_type": "code",
   "execution_count": 15,
   "metadata": {
    "gather": {
     "logged": 1598431426111
    },
    "jupyter": {
     "outputs_hidden": false,
     "source_hidden": false
    },
    "nteract": {
     "transient": {
      "deleting": false
     }
    }
   },
   "outputs": [],
   "source": [
    "#TODO: Save the best model\n",
    "model= automl_best_run.register_model(model_name='udacity-automl-project', model_path='./outputs/model.pkl')"
   ]
  },
  {
   "cell_type": "code",
   "execution_count": 16,
   "metadata": {},
   "outputs": [
    {
     "data": {
      "text/plain": [
       "Pipeline(memory=None,\n",
       "         steps=[('datatransformer',\n",
       "                 DataTransformer(enable_dnn=None, enable_feature_sweeping=None,\n",
       "                                 feature_sweeping_config=None,\n",
       "                                 feature_sweeping_timeout=None,\n",
       "                                 featurization_config=None, force_text_dnn=None,\n",
       "                                 is_cross_validation=None,\n",
       "                                 is_onnx_compatible=None, logger=None,\n",
       "                                 observer=None, task=None, working_dir=None)),\n",
       "                ('prefittedsoftvotingclassifier',...\n",
       "                                                                             <azureml.automl.runtime.shared.model_wrappers.SparseNormalizer object at 0x7f5bf21e58d0>),\n",
       "                                                                            ('linearsvmwrapper',\n",
       "                                                                             LinearSVMWrapper(C=0.2682695795279725,\n",
       "                                                                                              class_weight=None,\n",
       "                                                                                              dual=True,\n",
       "                                                                                              fit_intercept=True,\n",
       "                                                                                              intercept_scaling=1,\n",
       "                                                                                              loss='squared_hinge',\n",
       "                                                                                              max_iter=1000,\n",
       "                                                                                              multi_class='ovr',\n",
       "                                                                                              penalty='l2',\n",
       "                                                                                              random_state=None,\n",
       "                                                                                              tol=0.0001,\n",
       "                                                                                              verbose=0))],\n",
       "                                                                     verbose=False))],\n",
       "                                               flatten_transform=None,\n",
       "                                               weights=[0.125, 0.125, 0.125,\n",
       "                                                        0.125, 0.125, 0.125,\n",
       "                                                        0.125, 0.125]))],\n",
       "         verbose=False)"
      ]
     },
     "execution_count": 16,
     "metadata": {},
     "output_type": "execute_result"
    }
   ],
   "source": [
    "temp_model = remote_run.get_output()\n",
    "temp_model[-1]"
   ]
  },
  {
   "cell_type": "code",
   "execution_count": 22,
   "metadata": {},
   "outputs": [
    {
     "ename": "AttributeError",
     "evalue": "'Model' object has no attribute 'steps'",
     "output_type": "error",
     "traceback": [
      "\u001b[0;31m---------------------------------------------------------------------------\u001b[0m",
      "\u001b[0;31mAttributeError\u001b[0m                            Traceback (most recent call last)",
      "\u001b[0;32m<ipython-input-22-712378673453>\u001b[0m in \u001b[0;36m<module>\u001b[0;34m\u001b[0m\n\u001b[1;32m      1\u001b[0m \u001b[0;32mfrom\u001b[0m \u001b[0mazureml\u001b[0m\u001b[0;34m.\u001b[0m\u001b[0mpipeline\u001b[0m\u001b[0;34m.\u001b[0m\u001b[0msteps\u001b[0m \u001b[0;32mimport\u001b[0m \u001b[0mAutoMLStep\u001b[0m\u001b[0;34m\u001b[0m\u001b[0;34m\u001b[0m\u001b[0m\n\u001b[0;32m----> 2\u001b[0;31m \u001b[0mmodel\u001b[0m\u001b[0;34m.\u001b[0m\u001b[0msteps\u001b[0m\u001b[0;34m[\u001b[0m\u001b[0;36m0\u001b[0m\u001b[0;34m]\u001b[0m\u001b[0;34m\u001b[0m\u001b[0;34m\u001b[0m\u001b[0m\n\u001b[0m",
      "\u001b[0;31mAttributeError\u001b[0m: 'Model' object has no attribute 'steps'"
     ]
    }
   ],
   "source": [
    "from azureml.pipeline.steps import AutoMLStep\n",
    "model.steps[0]"
   ]
  },
  {
   "cell_type": "markdown",
   "metadata": {},
   "source": [
    "## Model Deployment\n",
    "\n",
    "Remember you have to deploy only one of the two models you trained.. Perform the steps in the rest of this notebook only if you wish to deploy this model.\n",
    "\n",
    "TODO: In the cell below, register the model, create an inference config and deploy the model as a web service."
   ]
  },
  {
   "cell_type": "code",
   "execution_count": 25,
   "metadata": {
    "gather": {
     "logged": 1598431435189
    },
    "jupyter": {
     "outputs_hidden": false,
     "source_hidden": false
    },
    "nteract": {
     "transient": {
      "deleting": false
     }
    }
   },
   "outputs": [
    {
     "ename": "UserErrorException",
     "evalue": "UserErrorException:\n\tMessage: You must provide an InferenceConfig when deploying a model with model_framework set to Custom. Default environments are only provided for these frameworks: ['Onnx', 'ScikitLearn', 'TensorFlow', 'Multi'].\n\tInnerException None\n\tErrorResponse \n{\n    \"error\": {\n        \"code\": \"UserError\",\n        \"message\": \"You must provide an InferenceConfig when deploying a model with model_framework set to Custom. Default environments are only provided for these frameworks: ['Onnx', 'ScikitLearn', 'TensorFlow', 'Multi'].\"\n    }\n}",
     "output_type": "error",
     "traceback": [
      "\u001b[0;31m---------------------------------------------------------------------------\u001b[0m",
      "\u001b[0;31mUserErrorException\u001b[0m                        Traceback (most recent call last)",
      "\u001b[0;32m<ipython-input-25-d6018cd24109>\u001b[0m in \u001b[0;36m<module>\u001b[0;34m\u001b[0m\n\u001b[1;32m      2\u001b[0m \u001b[0mservice_name\u001b[0m \u001b[0;34m=\u001b[0m \u001b[0;34m'heart-sklearn-service'\u001b[0m\u001b[0;34m\u001b[0m\u001b[0;34m\u001b[0m\u001b[0m\n\u001b[1;32m      3\u001b[0m \u001b[0;34m\u001b[0m\u001b[0m\n\u001b[0;32m----> 4\u001b[0;31m \u001b[0mservice\u001b[0m \u001b[0;34m=\u001b[0m \u001b[0mModel\u001b[0m\u001b[0;34m.\u001b[0m\u001b[0mdeploy\u001b[0m\u001b[0;34m(\u001b[0m\u001b[0mws\u001b[0m\u001b[0;34m,\u001b[0m \u001b[0mservice_name\u001b[0m\u001b[0;34m,\u001b[0m \u001b[0;34m[\u001b[0m\u001b[0mmodel\u001b[0m\u001b[0;34m]\u001b[0m\u001b[0;34m,\u001b[0m \u001b[0moverwrite\u001b[0m\u001b[0;34m=\u001b[0m\u001b[0;32mTrue\u001b[0m\u001b[0;34m)\u001b[0m\u001b[0;34m\u001b[0m\u001b[0;34m\u001b[0m\u001b[0m\n\u001b[0m\u001b[1;32m      5\u001b[0m \u001b[0mservice\u001b[0m\u001b[0;34m.\u001b[0m\u001b[0mwait_for_deployment\u001b[0m\u001b[0;34m(\u001b[0m\u001b[0mshow_output\u001b[0m\u001b[0;34m=\u001b[0m\u001b[0;32mTrue\u001b[0m\u001b[0;34m)\u001b[0m\u001b[0;34m\u001b[0m\u001b[0;34m\u001b[0m\u001b[0m\n",
      "\u001b[0;32m/anaconda/envs/azureml_py36/lib/python3.6/site-packages/azureml/core/model.py\u001b[0m in \u001b[0;36mdeploy\u001b[0;34m(workspace, name, models, inference_config, deployment_config, deployment_target, overwrite, show_output)\u001b[0m\n\u001b[1;32m   1656\u001b[0m \u001b[0;34m\u001b[0m\u001b[0m\n\u001b[1;32m   1657\u001b[0m             return Model._deploy_no_code(workspace, name, models, deployment_config, deployment_target,\n\u001b[0;32m-> 1658\u001b[0;31m                                          overwrite, show_output)\n\u001b[0m\u001b[1;32m   1659\u001b[0m \u001b[0;34m\u001b[0m\u001b[0m\n\u001b[1;32m   1660\u001b[0m         \u001b[0;31m# Environment-based webservice.\u001b[0m\u001b[0;34m\u001b[0m\u001b[0;34m\u001b[0m\u001b[0;34m\u001b[0m\u001b[0m\n",
      "\u001b[0;32m/anaconda/envs/azureml_py36/lib/python3.6/site-packages/azureml/core/model.py\u001b[0m in \u001b[0;36m_deploy_no_code\u001b[0;34m(workspace, name, models, deployment_config, deployment_target, overwrite, show_output)\u001b[0m\n\u001b[1;32m   1839\u001b[0m         \u001b[0;34m:\u001b[0m\u001b[0mrtype\u001b[0m\u001b[0;34m:\u001b[0m \u001b[0mazureml\u001b[0m\u001b[0;34m.\u001b[0m\u001b[0mcore\u001b[0m\u001b[0;34m.\u001b[0m\u001b[0mWebservice\u001b[0m\u001b[0;34m\u001b[0m\u001b[0;34m\u001b[0m\u001b[0m\n\u001b[1;32m   1840\u001b[0m         \"\"\"\n\u001b[0;32m-> 1841\u001b[0;31m         \u001b[0menvironment_image_request\u001b[0m \u001b[0;34m=\u001b[0m \u001b[0mbuild_and_validate_no_code_environment_image_request\u001b[0m\u001b[0;34m(\u001b[0m\u001b[0mmodels\u001b[0m\u001b[0;34m)\u001b[0m\u001b[0;34m\u001b[0m\u001b[0;34m\u001b[0m\u001b[0m\n\u001b[0m\u001b[1;32m   1842\u001b[0m \u001b[0;34m\u001b[0m\u001b[0m\n\u001b[1;32m   1843\u001b[0m         return Model._deploy_with_environment_image_request(workspace, name, environment_image_request,\n",
      "\u001b[0;32m/anaconda/envs/azureml_py36/lib/python3.6/site-packages/azureml/_model_management/_util.py\u001b[0m in \u001b[0;36mbuild_and_validate_no_code_environment_image_request\u001b[0;34m(models)\u001b[0m\n\u001b[1;32m   1186\u001b[0m         raise UserErrorException('You must provide an InferenceConfig when deploying a model with model_framework '\n\u001b[1;32m   1187\u001b[0m                                  \u001b[0;34m'set to {}. Default environments are only provided for these frameworks: {}.'\u001b[0m\u001b[0;34m\u001b[0m\u001b[0;34m\u001b[0m\u001b[0m\n\u001b[0;32m-> 1188\u001b[0;31m                                  .format(model.model_framework, Model._SUPPORTED_FRAMEWORKS_FOR_NO_CODE_DEPLOY))\n\u001b[0m\u001b[1;32m   1189\u001b[0m \u001b[0;34m\u001b[0m\u001b[0m\n\u001b[1;32m   1190\u001b[0m     \u001b[0;31m# Only specify the model IDs; MMS will provide the environment, driver program, etc.\u001b[0m\u001b[0;34m\u001b[0m\u001b[0;34m\u001b[0m\u001b[0;34m\u001b[0m\u001b[0m\n",
      "\u001b[0;31mUserErrorException\u001b[0m: UserErrorException:\n\tMessage: You must provide an InferenceConfig when deploying a model with model_framework set to Custom. Default environments are only provided for these frameworks: ['Onnx', 'ScikitLearn', 'TensorFlow', 'Multi'].\n\tInnerException None\n\tErrorResponse \n{\n    \"error\": {\n        \"code\": \"UserError\",\n        \"message\": \"You must provide an InferenceConfig when deploying a model with model_framework set to Custom. Default environments are only provided for these frameworks: ['Onnx', 'ScikitLearn', 'TensorFlow', 'Multi'].\"\n    }\n}"
     ]
    }
   ],
   "source": [
    "from azureml.core import Model\n",
    "service_name = 'heart-sklearn-service'\n",
    "\n",
    "service = Model.deploy(ws, service_name, [model], overwrite=True)\n",
    "service.wait_for_deployment(show_output=True)"
   ]
  },
  {
   "cell_type": "markdown",
   "metadata": {
    "gather": {
     "logged": 1598431657736
    },
    "jupyter": {
     "outputs_hidden": false,
     "source_hidden": false
    },
    "nteract": {
     "transient": {
      "deleting": false
     }
    }
   },
   "source": [
    "TODO: In the cell below, send a request to the web service you deployed to test it."
   ]
  },
  {
   "cell_type": "code",
   "execution_count": 22,
   "metadata": {
    "gather": {
     "logged": 1598432707604
    },
    "jupyter": {
     "outputs_hidden": false,
     "source_hidden": false
    },
    "nteract": {
     "transient": {
      "deleting": false
     }
    }
   },
   "outputs": [
    {
     "ename": "NameError",
     "evalue": "name 'rest_endpoint' is not defined",
     "output_type": "error",
     "traceback": [
      "\u001b[0;31m---------------------------------------------------------------------------\u001b[0m",
      "\u001b[0;31mNameError\u001b[0m                                 Traceback (most recent call last)",
      "\u001b[0;32m<ipython-input-22-581c895a149c>\u001b[0m in \u001b[0;36m<module>\u001b[0;34m\u001b[0m\n\u001b[1;32m      6\u001b[0m \u001b[0;32mtry\u001b[0m\u001b[0;34m:\u001b[0m\u001b[0;34m\u001b[0m\u001b[0;34m\u001b[0m\u001b[0m\n\u001b[0;32m----> 7\u001b[0;31m     \u001b[0mresponse\u001b[0m\u001b[0;34m.\u001b[0m\u001b[0mraise_for_status\u001b[0m\u001b[0;34m(\u001b[0m\u001b[0;34m)\u001b[0m\u001b[0;34m\u001b[0m\u001b[0;34m\u001b[0m\u001b[0m\n\u001b[0m\u001b[1;32m      8\u001b[0m \u001b[0;32mexcept\u001b[0m \u001b[0mException\u001b[0m\u001b[0;34m:\u001b[0m\u001b[0;34m\u001b[0m\u001b[0;34m\u001b[0m\u001b[0m\n",
      "\u001b[0;31mNameError\u001b[0m: name 'response' is not defined",
      "\nDuring handling of the above exception, another exception occurred:\n",
      "\u001b[0;31mNameError\u001b[0m                                 Traceback (most recent call last)",
      "\u001b[0;32m<ipython-input-22-581c895a149c>\u001b[0m in \u001b[0;36m<module>\u001b[0;34m\u001b[0m\n\u001b[1;32m     10\u001b[0m                     \u001b[0;34m\"Response Code: {}\\n\"\u001b[0m\u001b[0;34m\u001b[0m\u001b[0;34m\u001b[0m\u001b[0m\n\u001b[1;32m     11\u001b[0m                     \u001b[0;34m\"Headers: {}\\n\"\u001b[0m\u001b[0;34m\u001b[0m\u001b[0;34m\u001b[0m\u001b[0m\n\u001b[0;32m---> 12\u001b[0;31m                     \"Content: {}\".format(rest_endpoint, response.status_code, response.headers, response.content))\n\u001b[0m\u001b[1;32m     13\u001b[0m \u001b[0;34m\u001b[0m\u001b[0m\n\u001b[1;32m     14\u001b[0m \u001b[0mrun_id\u001b[0m \u001b[0;34m=\u001b[0m \u001b[0mresponse\u001b[0m\u001b[0;34m.\u001b[0m\u001b[0mjson\u001b[0m\u001b[0;34m(\u001b[0m\u001b[0;34m)\u001b[0m\u001b[0;34m.\u001b[0m\u001b[0mget\u001b[0m\u001b[0;34m(\u001b[0m\u001b[0;34m'Id'\u001b[0m\u001b[0;34m)\u001b[0m\u001b[0;34m\u001b[0m\u001b[0;34m\u001b[0m\u001b[0m\n",
      "\u001b[0;31mNameError\u001b[0m: name 'rest_endpoint' is not defined"
     ]
    }
   ],
   "source": [
    "import json\n",
    "\n",
    "\n",
    "input_payload = json.dumps({\n",
    "    'data': X_test,\n",
    "    'method': 'predict_prova'  # If you have a classification model, you can get probabilities by changing this to 'predict_proba'.\n",
    "})\n",
    "\n",
    "output = service.run(input_payload)\n"
   ]
  },
  {
   "cell_type": "markdown",
   "metadata": {
    "gather": {
     "logged": 1598432765711
    },
    "jupyter": {
     "outputs_hidden": false,
     "source_hidden": false
    },
    "nteract": {
     "transient": {
      "deleting": false
     }
    }
   },
   "source": [
    "TODO: In the cell below, print the logs of the web service and delete the service"
   ]
  },
  {
   "cell_type": "code",
   "execution_count": null,
   "metadata": {
    "jupyter": {
     "outputs_hidden": false,
     "source_hidden": false
    },
    "nteract": {
     "transient": {
      "deleting": false
     }
    }
   },
   "outputs": [],
   "source": [
    "print(output)"
   ]
  },
  {
   "cell_type": "code",
   "execution_count": null,
   "metadata": {},
   "outputs": [],
   "source": [
    "service.delete()"
   ]
  }
 ],
 "metadata": {
  "kernel_info": {
   "name": "python3"
  },
  "kernelspec": {
   "display_name": "Python 3",
   "language": "python",
   "name": "python3"
  },
  "language_info": {
   "codemirror_mode": {
    "name": "ipython",
    "version": 3
   },
   "file_extension": ".py",
   "mimetype": "text/x-python",
   "name": "python",
   "nbconvert_exporter": "python",
   "pygments_lexer": "ipython3",
   "version": "3.6.9"
  },
  "nteract": {
   "version": "nteract-front-end@1.0.0"
  }
 },
 "nbformat": 4,
 "nbformat_minor": 4
}
