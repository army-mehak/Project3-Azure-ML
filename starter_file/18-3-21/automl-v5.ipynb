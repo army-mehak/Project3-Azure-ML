{
 "cells": [
  {
   "cell_type": "markdown",
   "metadata": {},
   "source": [
    "# Automated ML\n",
    "\n",
    "TODO: Import Dependencies. In the cell below, import all the dependencies that you will need to complete the project."
   ]
  },
  {
   "cell_type": "markdown",
   "metadata": {},
   "source": [
    "#### --> Import Statements"
   ]
  },
  {
   "cell_type": "code",
   "execution_count": 1,
   "metadata": {},
   "outputs": [],
   "source": [
    "from azureml.core import Workspace, Experiment\n",
    "from azureml.core.compute import ComputeTarget, AmlCompute\n",
    "from azureml.core.compute_target import ComputeTargetException\n",
    "\n",
    "import pandas as pd\n",
    "import numpy as np\n",
    "\n",
    "from sklearn.preprocessing import StandardScaler\n",
    "from sklearn.model_selection import train_test_split\n",
    "\n",
    "from azureml.train.automl import AutoMLConfig\n",
    "from azureml.pipeline.steps import AutoMLStep\n",
    "\n",
    "from azureml.data.dataset_factory import TabularDatasetFactory\n",
    "from azureml.core import Workspace, Datastore\n",
    "from azureml.core.dataset import Dataset\n",
    "\n",
    "from azureml.pipeline.core.run import PipelineRun\n",
    "from azureml.widgets import RunDetails\n",
    "from dataprocess import clean_data"
   ]
  },
  {
   "cell_type": "code",
   "execution_count": 2,
   "metadata": {
    "gather": {
     "logged": 1598423890461
    },
    "jupyter": {
     "outputs_hidden": false,
     "source_hidden": false
    },
    "nteract": {
     "transient": {
      "deleting": false
     }
    }
   },
   "outputs": [],
   "source": [
    "ws = Workspace.from_config()\n",
    "\n",
    "# choose a name for experiment\n",
    "experiment_name = 'automl-exp'\n",
    "\n",
    "experiment=Experiment(ws, experiment_name)"
   ]
  },
  {
   "cell_type": "code",
   "execution_count": 3,
   "metadata": {},
   "outputs": [
    {
     "name": "stdout",
     "output_type": "stream",
     "text": [
      "Found existing cluster, use it.\n",
      "\n",
      "Running\n"
     ]
    }
   ],
   "source": [
    "cpu_cluster_name = \"cpu-cluster2\"\n",
    "\n",
    "try: #--- Verify that cluster does not exist already\n",
    "    cpu_cluster = ComputeTarget(workspace=ws, name=cpu_cluster_name)\n",
    "    print('Found existing cluster, use it.')\n",
    "    \n",
    "except ComputeTargetException:\n",
    "    compute_config = AmlCompute.provisioning_configuration(vm_size='STANDARD_D2_V2', max_nodes=4)\n",
    "    cpu_cluster = ComputeTarget.create(ws, cpu_cluster_name, compute_config)\n",
    "\n",
    "cpu_cluster.wait_for_completion(show_output=True)"
   ]
  },
  {
   "cell_type": "markdown",
   "metadata": {},
   "source": [
    "## Dataset\n",
    "\n",
    "### Overview\n",
    "TODO: In this markdown cell, give an overview of the dataset you are using. Also mention the task you will be performing.\n",
    "\n",
    "\n",
    "TODO: Get data. In the cell below, write code to access the data you will be using in this project. Remember that the dataset needs to be external."
   ]
  },
  {
   "cell_type": "markdown",
   "metadata": {},
   "source": [
    "The dataset consist information of patient that might be having heart disease. The target column has values 0 and 1 which determines if the patients has heart disease.\n",
    "There are 14 attributes in the dataset as follows:\n",
    "1. age\n",
    "2. sex\n",
    "3. chest pain type\n",
    "4. resting blood pressure\n",
    "5. serum cholestoral in mg/dl\n",
    "6. fasting blood sugar > 120 mg/dl\n",
    "7. resting electrocardiographic results (values 0,1,2)\n",
    "8. maximum heart rate achieved\n",
    "9. exercise induced angina\n",
    "10. oldpeak = ST depression induced by exercise relative to rest\n",
    "11. the slope of the peak exercise ST segment\n",
    "12. number of major vessels (0-3) colored by flourosopy\n",
    "13. thal: 3 = normal; 6 = fixed defect; 7 = reversable defect\n",
    "14. target column, 0 = heart disease not present, 1 = heart disease present"
   ]
  },
  {
   "cell_type": "markdown",
   "metadata": {},
   "source": [
    "#### --> Dataset Object"
   ]
  },
  {
   "cell_type": "code",
   "execution_count": 4,
   "metadata": {},
   "outputs": [
    {
     "data": {
      "text/html": [
       "<div>\n",
       "<style scoped>\n",
       "    .dataframe tbody tr th:only-of-type {\n",
       "        vertical-align: middle;\n",
       "    }\n",
       "\n",
       "    .dataframe tbody tr th {\n",
       "        vertical-align: top;\n",
       "    }\n",
       "\n",
       "    .dataframe thead th {\n",
       "        text-align: right;\n",
       "    }\n",
       "</style>\n",
       "<table border=\"1\" class=\"dataframe\">\n",
       "  <thead>\n",
       "    <tr style=\"text-align: right;\">\n",
       "      <th></th>\n",
       "      <th>age</th>\n",
       "      <th>sex</th>\n",
       "      <th>cp</th>\n",
       "      <th>trestbps</th>\n",
       "      <th>chol</th>\n",
       "      <th>fbs</th>\n",
       "      <th>restecg</th>\n",
       "      <th>thalach</th>\n",
       "      <th>exang</th>\n",
       "      <th>oldpeak</th>\n",
       "      <th>slope</th>\n",
       "      <th>ca</th>\n",
       "      <th>thal</th>\n",
       "      <th>target</th>\n",
       "    </tr>\n",
       "  </thead>\n",
       "  <tbody>\n",
       "    <tr>\n",
       "      <th>count</th>\n",
       "      <td>303.000000</td>\n",
       "      <td>303.000000</td>\n",
       "      <td>303.000000</td>\n",
       "      <td>303.000000</td>\n",
       "      <td>303.000000</td>\n",
       "      <td>303.000000</td>\n",
       "      <td>303.000000</td>\n",
       "      <td>303.000000</td>\n",
       "      <td>303.000000</td>\n",
       "      <td>303.000000</td>\n",
       "      <td>303.000000</td>\n",
       "      <td>303.000000</td>\n",
       "      <td>303.000000</td>\n",
       "      <td>303.000000</td>\n",
       "    </tr>\n",
       "    <tr>\n",
       "      <th>mean</th>\n",
       "      <td>54.366337</td>\n",
       "      <td>0.683168</td>\n",
       "      <td>0.966997</td>\n",
       "      <td>131.623762</td>\n",
       "      <td>246.264026</td>\n",
       "      <td>0.148515</td>\n",
       "      <td>0.528053</td>\n",
       "      <td>149.646865</td>\n",
       "      <td>0.326733</td>\n",
       "      <td>1.039604</td>\n",
       "      <td>1.399340</td>\n",
       "      <td>0.729373</td>\n",
       "      <td>2.313531</td>\n",
       "      <td>0.544554</td>\n",
       "    </tr>\n",
       "    <tr>\n",
       "      <th>std</th>\n",
       "      <td>9.082101</td>\n",
       "      <td>0.466011</td>\n",
       "      <td>1.032052</td>\n",
       "      <td>17.538143</td>\n",
       "      <td>51.830751</td>\n",
       "      <td>0.356198</td>\n",
       "      <td>0.525860</td>\n",
       "      <td>22.905161</td>\n",
       "      <td>0.469794</td>\n",
       "      <td>1.161075</td>\n",
       "      <td>0.616226</td>\n",
       "      <td>1.022606</td>\n",
       "      <td>0.612277</td>\n",
       "      <td>0.498835</td>\n",
       "    </tr>\n",
       "    <tr>\n",
       "      <th>min</th>\n",
       "      <td>29.000000</td>\n",
       "      <td>0.000000</td>\n",
       "      <td>0.000000</td>\n",
       "      <td>94.000000</td>\n",
       "      <td>126.000000</td>\n",
       "      <td>0.000000</td>\n",
       "      <td>0.000000</td>\n",
       "      <td>71.000000</td>\n",
       "      <td>0.000000</td>\n",
       "      <td>0.000000</td>\n",
       "      <td>0.000000</td>\n",
       "      <td>0.000000</td>\n",
       "      <td>0.000000</td>\n",
       "      <td>0.000000</td>\n",
       "    </tr>\n",
       "    <tr>\n",
       "      <th>25%</th>\n",
       "      <td>47.500000</td>\n",
       "      <td>0.000000</td>\n",
       "      <td>0.000000</td>\n",
       "      <td>120.000000</td>\n",
       "      <td>211.000000</td>\n",
       "      <td>0.000000</td>\n",
       "      <td>0.000000</td>\n",
       "      <td>133.500000</td>\n",
       "      <td>0.000000</td>\n",
       "      <td>0.000000</td>\n",
       "      <td>1.000000</td>\n",
       "      <td>0.000000</td>\n",
       "      <td>2.000000</td>\n",
       "      <td>0.000000</td>\n",
       "    </tr>\n",
       "    <tr>\n",
       "      <th>50%</th>\n",
       "      <td>55.000000</td>\n",
       "      <td>1.000000</td>\n",
       "      <td>1.000000</td>\n",
       "      <td>130.000000</td>\n",
       "      <td>240.000000</td>\n",
       "      <td>0.000000</td>\n",
       "      <td>1.000000</td>\n",
       "      <td>153.000000</td>\n",
       "      <td>0.000000</td>\n",
       "      <td>0.800000</td>\n",
       "      <td>1.000000</td>\n",
       "      <td>0.000000</td>\n",
       "      <td>2.000000</td>\n",
       "      <td>1.000000</td>\n",
       "    </tr>\n",
       "    <tr>\n",
       "      <th>75%</th>\n",
       "      <td>61.000000</td>\n",
       "      <td>1.000000</td>\n",
       "      <td>2.000000</td>\n",
       "      <td>140.000000</td>\n",
       "      <td>274.500000</td>\n",
       "      <td>0.000000</td>\n",
       "      <td>1.000000</td>\n",
       "      <td>166.000000</td>\n",
       "      <td>1.000000</td>\n",
       "      <td>1.600000</td>\n",
       "      <td>2.000000</td>\n",
       "      <td>1.000000</td>\n",
       "      <td>3.000000</td>\n",
       "      <td>1.000000</td>\n",
       "    </tr>\n",
       "    <tr>\n",
       "      <th>max</th>\n",
       "      <td>77.000000</td>\n",
       "      <td>1.000000</td>\n",
       "      <td>3.000000</td>\n",
       "      <td>200.000000</td>\n",
       "      <td>564.000000</td>\n",
       "      <td>1.000000</td>\n",
       "      <td>2.000000</td>\n",
       "      <td>202.000000</td>\n",
       "      <td>1.000000</td>\n",
       "      <td>6.200000</td>\n",
       "      <td>2.000000</td>\n",
       "      <td>4.000000</td>\n",
       "      <td>3.000000</td>\n",
       "      <td>1.000000</td>\n",
       "    </tr>\n",
       "  </tbody>\n",
       "</table>\n",
       "</div>"
      ],
      "text/plain": [
       "              age         sex          cp    trestbps        chol         fbs  \\\n",
       "count  303.000000  303.000000  303.000000  303.000000  303.000000  303.000000   \n",
       "mean    54.366337    0.683168    0.966997  131.623762  246.264026    0.148515   \n",
       "std      9.082101    0.466011    1.032052   17.538143   51.830751    0.356198   \n",
       "min     29.000000    0.000000    0.000000   94.000000  126.000000    0.000000   \n",
       "25%     47.500000    0.000000    0.000000  120.000000  211.000000    0.000000   \n",
       "50%     55.000000    1.000000    1.000000  130.000000  240.000000    0.000000   \n",
       "75%     61.000000    1.000000    2.000000  140.000000  274.500000    0.000000   \n",
       "max     77.000000    1.000000    3.000000  200.000000  564.000000    1.000000   \n",
       "\n",
       "          restecg     thalach       exang     oldpeak       slope          ca  \\\n",
       "count  303.000000  303.000000  303.000000  303.000000  303.000000  303.000000   \n",
       "mean     0.528053  149.646865    0.326733    1.039604    1.399340    0.729373   \n",
       "std      0.525860   22.905161    0.469794    1.161075    0.616226    1.022606   \n",
       "min      0.000000   71.000000    0.000000    0.000000    0.000000    0.000000   \n",
       "25%      0.000000  133.500000    0.000000    0.000000    1.000000    0.000000   \n",
       "50%      1.000000  153.000000    0.000000    0.800000    1.000000    0.000000   \n",
       "75%      1.000000  166.000000    1.000000    1.600000    2.000000    1.000000   \n",
       "max      2.000000  202.000000    1.000000    6.200000    2.000000    4.000000   \n",
       "\n",
       "             thal      target  \n",
       "count  303.000000  303.000000  \n",
       "mean     2.313531    0.544554  \n",
       "std      0.612277    0.498835  \n",
       "min      0.000000    0.000000  \n",
       "25%      2.000000    0.000000  \n",
       "50%      2.000000    1.000000  \n",
       "75%      3.000000    1.000000  \n",
       "max      3.000000    1.000000  "
      ]
     },
     "execution_count": 4,
     "metadata": {},
     "output_type": "execute_result"
    }
   ],
   "source": [
    "key = \"heart-dataset\"\n",
    "description_text = \"Heart Disease dataset\"\n",
    "\n",
    "#-- Dataset Call\n",
    "if key in ws.datasets.keys(): \n",
    "        found = True\n",
    "        dataset = ws.datasets[key] \n",
    "df = dataset.to_pandas_dataframe()\n",
    "df.describe()"
   ]
  },
  {
   "cell_type": "markdown",
   "metadata": {},
   "source": [
    "## Preprocessing Data"
   ]
  },
  {
   "cell_type": "markdown",
   "metadata": {},
   "source": [
    "After data is pulled, the data is processed for training in the following way:\n",
    "- Standardization was performed on the column bloodpressure, thalac and cholestrol to save on computational cost.\n",
    "- Rows with null values were dropped\n",
    "- The age column was binned into 7 groups of '29-37', '38-45', '46-53', '54-61', '62-69' and '70-77'\n",
    "\n",
    "After processing the data, the test input output and train input output data was set and fed to training."
   ]
  },
  {
   "cell_type": "code",
   "execution_count": 5,
   "metadata": {},
   "outputs": [],
   "source": [
    "x_df, y_df = clean_data(df)"
   ]
  },
  {
   "cell_type": "code",
   "execution_count": 6,
   "metadata": {
    "scrolled": true
   },
   "outputs": [
    {
     "name": "stderr",
     "output_type": "stream",
     "text": [
      "Method register_pandas_dataframe: This is an experimental method, and may change at any time.<br/>For more information, see https://aka.ms/azuremlexperimental.\n"
     ]
    },
    {
     "name": "stdout",
     "output_type": "stream",
     "text": [
      "Validating arguments.\n",
      "Arguments validated.\n",
      "Successfully obtained datastore reference and path.\n",
      "Uploading file to managed-dataset/e45d10a6-4b00-43ef-9491-833d0648b280/\n",
      "Successfully uploaded file to datastore.\n",
      "Creating and registering a new dataset.\n",
      "Successfully created and registered a new dataset.\n"
     ]
    }
   ],
   "source": [
    "### Train Test Split\n",
    "X_train, X_test, Y_train, Y_test = train_test_split(x_df, y_df, test_size=0.30)\n",
    "df_train = pd.concat([X_train,Y_train], axis=1)\n",
    "\n",
    "#-- Train Data\n",
    "ds_train = Dataset.Tabular.register_pandas_dataframe(dataframe= df_train, target= Datastore.get_default(ws), name=\"train_data\")"
   ]
  },
  {
   "cell_type": "markdown",
   "metadata": {},
   "source": [
    "## AutoML Configuration\n",
    "\n",
    "TODO: Explain why you chose the automl settings and cofiguration you used below."
   ]
  },
  {
   "cell_type": "markdown",
   "metadata": {},
   "source": [
    "The automl settings is configured as follows:\n",
    "- Experiment timeout minutes determines how long experiment should run. In this case, its 20 minutes the experiment will run.\n",
    "- Max concurrent iterations determines how many iterations should be running in parallel. We chose 5 iterations for this experiement.\n",
    "- The primary metric to determine the performance of the runs being used here is AUC weighted."
   ]
  },
  {
   "cell_type": "code",
   "execution_count": 7,
   "metadata": {},
   "outputs": [],
   "source": [
    "automl_settings = {\n",
    "    \"experiment_timeout_minutes\": 20,\n",
    "    \"max_concurrent_iterations\": 5,\n",
    "    \"primary_metric\": 'AUC_weighted'\n",
    "}"
   ]
  },
  {
   "cell_type": "markdown",
   "metadata": {},
   "source": [
    "The automl config is configured as follows:\n",
    "- The compute target is set to the one created\n",
    "- The task is classification as the target column has values 0 and 1\n",
    "- Early stopping is enabled\n",
    "- The path and log path is assigned"
   ]
  },
  {
   "cell_type": "code",
   "execution_count": 8,
   "metadata": {
    "gather": {
     "logged": 1598429217746
    },
    "jupyter": {
     "outputs_hidden": false,
     "source_hidden": false
    },
    "nteract": {
     "transient": {
      "deleting": false
     }
    }
   },
   "outputs": [],
   "source": [
    "automl_config = AutoMLConfig(compute_target=cpu_cluster,\n",
    "                             task = 'classification',\n",
    "                             training_data = ds_train, #train data\n",
    "                             label_column_name = \"target\", #target column with 0 & 1\n",
    "                             path = './pipeline-project3',\n",
    "                             enable_early_stopping = True,\n",
    "                             featurization = 'auto',\n",
    "                             debug_log = 'automl_errors.log',\n",
    "                             **automl_settings\n",
    "                            )"
   ]
  },
  {
   "cell_type": "code",
   "execution_count": 9,
   "metadata": {
    "gather": {
     "logged": 1598431107951
    },
    "jupyter": {
     "outputs_hidden": false,
     "source_hidden": false
    },
    "nteract": {
     "transient": {
      "deleting": false
     }
    }
   },
   "outputs": [
    {
     "name": "stdout",
     "output_type": "stream",
     "text": [
      "Submitting remote run.\n"
     ]
    },
    {
     "data": {
      "text/html": [
       "<table style=\"width:100%\"><tr><th>Experiment</th><th>Id</th><th>Type</th><th>Status</th><th>Details Page</th><th>Docs Page</th></tr><tr><td>automl-exp</td><td>AutoML_f342fd17-9b1a-4e29-84b6-8ff43af56146</td><td>automl</td><td>NotStarted</td><td><a href=\"https://ml.azure.com/runs/AutoML_f342fd17-9b1a-4e29-84b6-8ff43af56146?wsid=/subscriptions/a24a24d5-8d87-4c8a-99b6-91ed2d2df51f/resourcegroups/aml-quickstarts-143160/workspaces/quick-starts-ws-143160&amp;tid=660b3398-b80e-49d2-bc5b-ac1dc93b5254\" target=\"_blank\" rel=\"noopener\">Link to Azure Machine Learning studio</a></td><td><a href=\"https://docs.microsoft.com/en-us/python/api/overview/azure/ml/intro?view=azure-ml-py\" target=\"_blank\" rel=\"noopener\">Link to Documentation</a></td></tr></table>"
      ],
      "text/plain": [
       "<IPython.core.display.HTML object>"
      ]
     },
     "metadata": {},
     "output_type": "display_data"
    }
   ],
   "source": [
    "remote_run = experiment.submit(automl_config)"
   ]
  },
  {
   "cell_type": "markdown",
   "metadata": {},
   "source": [
    "## Run Details\n",
    "\n",
    "OPTIONAL: Write about the different models trained and their performance. Why do you think some models did better than others?\n",
    "\n",
    "TODO: In the cell below, use the `RunDetails` widget to show the different experiments."
   ]
  },
  {
   "cell_type": "code",
   "execution_count": 10,
   "metadata": {
    "gather": {
     "logged": 1598431121770
    },
    "jupyter": {
     "outputs_hidden": false,
     "source_hidden": false
    },
    "nteract": {
     "transient": {
      "deleting": false
     }
    },
    "scrolled": false
   },
   "outputs": [
    {
     "data": {
      "application/vnd.jupyter.widget-view+json": {
       "model_id": "ecec7ec33081433784001e5f4dd4e28b",
       "version_major": 2,
       "version_minor": 0
      },
      "text/plain": [
       "_AutoMLWidget(widget_settings={'childWidgetDisplay': 'popup', 'send_telemetry': False, 'log_level': 'INFO', 's…"
      ]
     },
     "metadata": {},
     "output_type": "display_data"
    },
    {
     "data": {
      "application/aml.mini.widget.v1": "{\"status\": \"Completed\", \"workbench_run_details_uri\": \"https://ml.azure.com/runs/AutoML_f342fd17-9b1a-4e29-84b6-8ff43af56146?wsid=/subscriptions/a24a24d5-8d87-4c8a-99b6-91ed2d2df51f/resourcegroups/aml-quickstarts-143160/workspaces/quick-starts-ws-143160&tid=660b3398-b80e-49d2-bc5b-ac1dc93b5254\", \"run_id\": \"AutoML_f342fd17-9b1a-4e29-84b6-8ff43af56146\", \"run_properties\": {\"run_id\": \"AutoML_f342fd17-9b1a-4e29-84b6-8ff43af56146\", \"created_utc\": \"2021-04-19T16:34:41.950039Z\", \"properties\": {\"num_iterations\": \"1000\", \"training_type\": \"TrainFull\", \"acquisition_function\": \"EI\", \"primary_metric\": \"AUC_weighted\", \"train_split\": \"0\", \"acquisition_parameter\": \"0\", \"num_cross_validation\": null, \"target\": \"cpu-cluster2\", \"AMLSettingsJsonString\": \"{\\\"path\\\":null,\\\"name\\\":\\\"automl-exp\\\",\\\"subscription_id\\\":\\\"a24a24d5-8d87-4c8a-99b6-91ed2d2df51f\\\",\\\"resource_group\\\":\\\"aml-quickstarts-143160\\\",\\\"workspace_name\\\":\\\"quick-starts-ws-143160\\\",\\\"region\\\":\\\"southcentralus\\\",\\\"compute_target\\\":\\\"cpu-cluster2\\\",\\\"spark_service\\\":null,\\\"azure_service\\\":\\\"remote\\\",\\\"many_models\\\":false,\\\"pipeline_fetch_max_batch_size\\\":1,\\\"enable_batch_run\\\":false,\\\"enable_run_restructure\\\":false,\\\"iterations\\\":1000,\\\"primary_metric\\\":\\\"AUC_weighted\\\",\\\"task_type\\\":\\\"classification\\\",\\\"data_script\\\":null,\\\"test_size\\\":0.0,\\\"validation_size\\\":0.0,\\\"n_cross_validations\\\":null,\\\"y_min\\\":null,\\\"y_max\\\":null,\\\"num_classes\\\":null,\\\"featurization\\\":\\\"auto\\\",\\\"_ignore_package_version_incompatibilities\\\":false,\\\"is_timeseries\\\":false,\\\"max_cores_per_iteration\\\":1,\\\"max_concurrent_iterations\\\":5,\\\"iteration_timeout_minutes\\\":null,\\\"mem_in_mb\\\":null,\\\"enforce_time_on_windows\\\":false,\\\"experiment_timeout_minutes\\\":20,\\\"experiment_exit_score\\\":null,\\\"whitelist_models\\\":null,\\\"blacklist_algos\\\":[\\\"TensorFlowLinearClassifier\\\",\\\"TensorFlowDNN\\\"],\\\"supported_models\\\":[\\\"TensorFlowLinearClassifier\\\",\\\"LinearSVM\\\",\\\"DecisionTree\\\",\\\"BernoulliNaiveBayes\\\",\\\"GradientBoosting\\\",\\\"TensorFlowDNN\\\",\\\"XGBoostClassifier\\\",\\\"LogisticRegression\\\",\\\"AveragedPerceptronClassifier\\\",\\\"KNN\\\",\\\"SGD\\\",\\\"ExtremeRandomTrees\\\",\\\"RandomForest\\\",\\\"LightGBM\\\",\\\"SVM\\\",\\\"MultinomialNaiveBayes\\\"],\\\"private_models\\\":[],\\\"auto_blacklist\\\":true,\\\"blacklist_samples_reached\\\":false,\\\"exclude_nan_labels\\\":true,\\\"verbosity\\\":20,\\\"_debug_log\\\":\\\"azureml_automl.log\\\",\\\"show_warnings\\\":false,\\\"model_explainability\\\":true,\\\"service_url\\\":null,\\\"sdk_url\\\":null,\\\"sdk_packages\\\":null,\\\"enable_onnx_compatible_models\\\":false,\\\"enable_split_onnx_featurizer_estimator_models\\\":false,\\\"vm_type\\\":\\\"STANDARD_DS3_V2\\\",\\\"telemetry_verbosity\\\":20,\\\"send_telemetry\\\":true,\\\"enable_dnn\\\":false,\\\"scenario\\\":\\\"SDK-1.13.0\\\",\\\"environment_label\\\":null,\\\"save_mlflow\\\":false,\\\"force_text_dnn\\\":false,\\\"enable_feature_sweeping\\\":true,\\\"enable_early_stopping\\\":true,\\\"early_stopping_n_iters\\\":10,\\\"metrics\\\":null,\\\"enable_metric_confidence\\\":false,\\\"enable_ensembling\\\":true,\\\"enable_stack_ensembling\\\":true,\\\"ensemble_iterations\\\":15,\\\"enable_tf\\\":false,\\\"enable_subsampling\\\":null,\\\"subsample_seed\\\":null,\\\"enable_nimbusml\\\":false,\\\"enable_streaming\\\":false,\\\"force_streaming\\\":false,\\\"track_child_runs\\\":true,\\\"allowed_private_models\\\":[],\\\"label_column_name\\\":\\\"target\\\",\\\"weight_column_name\\\":null,\\\"cv_split_column_names\\\":null,\\\"enable_local_managed\\\":false,\\\"_local_managed_run_id\\\":null,\\\"cost_mode\\\":1,\\\"lag_length\\\":0,\\\"metric_operation\\\":\\\"maximize\\\",\\\"preprocess\\\":true}\", \"DataPrepJsonString\": \"{\\\\\\\"training_data\\\\\\\": {\\\\\\\"datasetId\\\\\\\": \\\\\\\"ba8d9197-fe31-4d3f-90f3-2e1d1c799d74\\\\\\\"}, \\\\\\\"datasets\\\\\\\": 0}\", \"EnableSubsampling\": null, \"runTemplate\": \"AutoML\", \"azureml.runsource\": \"automl\", \"display_task_type\": \"classification\", \"dependencies_versions\": \"{\\\"azureml-widgets\\\": \\\"1.26.0\\\", \\\"azureml-train\\\": \\\"1.26.0\\\", \\\"azureml-train-restclients-hyperdrive\\\": \\\"1.26.0\\\", \\\"azureml-train-core\\\": \\\"1.26.0\\\", \\\"azureml-train-automl\\\": \\\"1.26.0\\\", \\\"azureml-train-automl-runtime\\\": \\\"1.26.0\\\", \\\"azureml-train-automl-client\\\": \\\"1.26.0\\\", \\\"azureml-tensorboard\\\": \\\"1.26.0\\\", \\\"azureml-telemetry\\\": \\\"1.26.0\\\", \\\"azureml-sdk\\\": \\\"1.26.0\\\", \\\"azureml-samples\\\": \\\"0+unknown\\\", \\\"azureml-pipeline\\\": \\\"1.26.0\\\", \\\"azureml-pipeline-steps\\\": \\\"1.26.0\\\", \\\"azureml-pipeline-core\\\": \\\"1.26.0\\\", \\\"azureml-opendatasets\\\": \\\"1.26.0\\\", \\\"azureml-model-management-sdk\\\": \\\"1.0.1b6.post1\\\", \\\"azureml-mlflow\\\": \\\"1.26.0\\\", \\\"azureml-interpret\\\": \\\"1.26.0\\\", \\\"azureml-explain-model\\\": \\\"1.26.0\\\", \\\"azureml-defaults\\\": \\\"1.26.0\\\", \\\"azureml-dataset-runtime\\\": \\\"1.26.0\\\", \\\"azureml-dataprep\\\": \\\"2.13.2\\\", \\\"azureml-dataprep-rslex\\\": \\\"1.11.2\\\", \\\"azureml-dataprep-native\\\": \\\"32.0.0\\\", \\\"azureml-datadrift\\\": \\\"1.26.0\\\", \\\"azureml-core\\\": \\\"1.26.0\\\", \\\"azureml-contrib-services\\\": \\\"1.26.0\\\", \\\"azureml-contrib-server\\\": \\\"1.26.0\\\", \\\"azureml-contrib-reinforcementlearning\\\": \\\"1.26.0\\\", \\\"azureml-contrib-pipeline-steps\\\": \\\"1.26.0\\\", \\\"azureml-contrib-notebook\\\": \\\"1.26.0\\\", \\\"azureml-contrib-gbdt\\\": \\\"1.26.0\\\", \\\"azureml-contrib-fairness\\\": \\\"1.26.0\\\", \\\"azureml-contrib-dataset\\\": \\\"1.26.0\\\", \\\"azureml-cli-common\\\": \\\"1.26.0\\\", \\\"azureml-automl-runtime\\\": \\\"1.26.0\\\", \\\"azureml-automl-dnn-nlp\\\": \\\"1.26.0\\\", \\\"azureml-automl-core\\\": \\\"1.26.0\\\", \\\"azureml-accel-models\\\": \\\"1.26.0\\\"}\", \"_aml_system_scenario_identification\": \"Remote.Parent\", \"ClientType\": \"SDK\", \"environment_cpu_name\": \"AzureML-AutoML\", \"environment_cpu_label\": \"prod\", \"environment_gpu_name\": \"AzureML-AutoML-GPU\", \"environment_gpu_label\": \"prod\", \"root_attribution\": \"automl\", \"attribution\": \"AutoML\", \"Orchestrator\": \"AutoML\", \"CancelUri\": \"https://southcentralus.experiments.azureml.net/jasmine/v1.0/subscriptions/a24a24d5-8d87-4c8a-99b6-91ed2d2df51f/resourceGroups/aml-quickstarts-143160/providers/Microsoft.MachineLearningServices/workspaces/quick-starts-ws-143160/experimentids/90927c42-e7f0-4ae0-9f6f-c0d42e8f2805/cancel/AutoML_f342fd17-9b1a-4e29-84b6-8ff43af56146\", \"ClientSdkVersion\": \"1.26.0\", \"snapshotId\": \"00000000-0000-0000-0000-000000000000\", \"SetupRunId\": \"AutoML_f342fd17-9b1a-4e29-84b6-8ff43af56146_setup\", \"SetupRunContainerId\": \"dcid.AutoML_f342fd17-9b1a-4e29-84b6-8ff43af56146_setup\", \"FeaturizationRunJsonPath\": \"featurizer_container.json\", \"FeaturizationRunId\": \"AutoML_f342fd17-9b1a-4e29-84b6-8ff43af56146_featurize\", \"ProblemInfoJsonString\": \"{\\\"dataset_num_categorical\\\": 0, \\\"is_sparse\\\": true, \\\"subsampling\\\": false, \\\"dataset_classes\\\": 2, \\\"dataset_features\\\": 33, \\\"dataset_samples\\\": 212, \\\"single_frequency_class_detected\\\": false}\", \"ModelExplainRunId\": \"AutoML_f342fd17-9b1a-4e29-84b6-8ff43af56146_ModelExplain\"}, \"tags\": {\"model_explain_run\": \"best_run\", \"_aml_system_azureml.automlComponent\": \"AutoML\", \"pipeline_id\": \"\", \"score\": \"\", \"predicted_cost\": \"\", \"fit_time\": \"\", \"training_percent\": \"\", \"iteration\": \"\", \"run_preprocessor\": \"\", \"run_algorithm\": \"\", \"dynamic_whitelisting_iterations\": \"<25>;<30>;<35>;<40>;<45>;<50>;\", \"automl_best_child_run_id\": \"AutoML_f342fd17-9b1a-4e29-84b6-8ff43af56146_51\", \"model_explain_best_run_child_id\": \"AutoML_f342fd17-9b1a-4e29-84b6-8ff43af56146_51\"}, \"end_time_utc\": \"2021-04-19T16:55:38.636517Z\", \"status\": \"Completed\", \"log_files\": {}, \"log_groups\": [], \"run_duration\": \"0:20:56\", \"run_number\": \"1\", \"run_queued_details\": {\"status\": \"Completed\", \"details\": null}}, \"child_runs\": [{\"run_id\": \"AutoML_f342fd17-9b1a-4e29-84b6-8ff43af56146_0\", \"run_number\": 5, \"metric\": null, \"status\": \"Completed\", \"run_type\": \"azureml.scriptrun\", \"training_percent\": \"100\", \"start_time\": \"2021-04-19T16:40:07.108972Z\", \"end_time\": \"2021-04-19T16:42:34.716982Z\", \"created_time\": \"2021-04-19T16:39:56.645346Z\", \"created_time_dt\": \"2021-04-19T16:39:56.645346Z\", \"duration\": \"0:02:38\", \"iteration\": \"0\", \"goal\": \"AUC_weighted_max\", \"run_name\": \"MaxAbsScaler, LightGBM\", \"run_properties\": \"copy=True\", \"primary_metric\": 0.90225654, \"best_metric\": 0.90225654}, {\"run_id\": \"AutoML_f342fd17-9b1a-4e29-84b6-8ff43af56146_3\", \"run_number\": 6, \"metric\": null, \"status\": \"Completed\", \"run_type\": \"azureml.scriptrun\", \"training_percent\": \"100\", \"start_time\": \"2021-04-19T16:40:05.572382Z\", \"end_time\": \"2021-04-19T16:42:33.90289Z\", \"created_time\": \"2021-04-19T16:39:56.672144Z\", \"created_time_dt\": \"2021-04-19T16:39:56.672144Z\", \"duration\": \"0:02:37\", \"iteration\": \"3\", \"goal\": \"AUC_weighted_max\", \"run_name\": \"MaxAbsScaler, RandomForest\", \"run_properties\": \"copy=True\", \"primary_metric\": 0.89549987, \"best_metric\": 0.90436286}, {\"run_id\": \"AutoML_f342fd17-9b1a-4e29-84b6-8ff43af56146_2\", \"run_number\": 7, \"metric\": null, \"status\": \"Completed\", \"run_type\": \"azureml.scriptrun\", \"training_percent\": \"100\", \"start_time\": \"2021-04-19T16:40:05.026495Z\", \"end_time\": \"2021-04-19T16:42:33.265537Z\", \"created_time\": \"2021-04-19T16:39:56.675148Z\", \"created_time_dt\": \"2021-04-19T16:39:56.675148Z\", \"duration\": \"0:02:36\", \"iteration\": \"2\", \"goal\": \"AUC_weighted_max\", \"run_name\": \"MaxAbsScaler, RandomForest\", \"run_properties\": \"copy=True\", \"primary_metric\": 0.89028102, \"best_metric\": 0.90436286}, {\"run_id\": \"AutoML_f342fd17-9b1a-4e29-84b6-8ff43af56146_4\", \"run_number\": 8, \"metric\": null, \"status\": \"Completed\", \"run_type\": \"azureml.scriptrun\", \"training_percent\": \"100\", \"start_time\": \"2021-04-19T16:40:05.59177Z\", \"end_time\": \"2021-04-19T16:42:30.948335Z\", \"created_time\": \"2021-04-19T16:39:56.69091Z\", \"created_time_dt\": \"2021-04-19T16:39:56.69091Z\", \"duration\": \"0:02:34\", \"iteration\": \"4\", \"goal\": \"AUC_weighted_max\", \"run_name\": \"MaxAbsScaler, RandomForest\", \"run_properties\": \"copy=True\", \"primary_metric\": 0.88982258, \"best_metric\": 0.90436286}, {\"run_id\": \"AutoML_f342fd17-9b1a-4e29-84b6-8ff43af56146_1\", \"run_number\": 9, \"metric\": null, \"status\": \"Completed\", \"run_type\": \"azureml.scriptrun\", \"training_percent\": \"100\", \"start_time\": \"2021-04-19T16:40:04.931127Z\", \"end_time\": \"2021-04-19T16:42:33.762361Z\", \"created_time\": \"2021-04-19T16:39:56.704624Z\", \"created_time_dt\": \"2021-04-19T16:39:56.704624Z\", \"duration\": \"0:02:37\", \"iteration\": \"1\", \"goal\": \"AUC_weighted_max\", \"run_name\": \"MaxAbsScaler, XGBoostClassifier\", \"run_properties\": \"copy=True\", \"primary_metric\": 0.90436286, \"best_metric\": 0.90436286}, {\"run_id\": \"AutoML_f342fd17-9b1a-4e29-84b6-8ff43af56146_5\", \"run_number\": 10, \"metric\": null, \"status\": \"Completed\", \"run_type\": \"azureml.scriptrun\", \"training_percent\": \"100\", \"start_time\": \"2021-04-19T16:42:49.398999Z\", \"end_time\": \"2021-04-19T16:43:40.141871Z\", \"created_time\": \"2021-04-19T16:42:34.873605Z\", \"created_time_dt\": \"2021-04-19T16:42:34.873605Z\", \"duration\": \"0:01:05\", \"iteration\": \"5\", \"goal\": \"AUC_weighted_max\", \"run_name\": \"MaxAbsScaler, ExtremeRandomTrees\", \"run_properties\": \"copy=True\", \"primary_metric\": 0.89901094, \"best_metric\": 0.90436286}, {\"run_id\": \"AutoML_f342fd17-9b1a-4e29-84b6-8ff43af56146_6\", \"run_number\": 11, \"metric\": null, \"status\": \"Completed\", \"run_type\": \"azureml.scriptrun\", \"training_percent\": \"100\", \"start_time\": \"2021-04-19T16:42:50.98778Z\", \"end_time\": \"2021-04-19T16:43:39.64092Z\", \"created_time\": \"2021-04-19T16:42:40.232633Z\", \"created_time_dt\": \"2021-04-19T16:42:40.232633Z\", \"duration\": \"0:00:59\", \"iteration\": \"6\", \"goal\": \"AUC_weighted_max\", \"run_name\": \"MaxAbsScaler, ExtremeRandomTrees\", \"run_properties\": \"copy=True\", \"primary_metric\": 0.91273375, \"best_metric\": 0.91273375}, {\"run_id\": \"AutoML_f342fd17-9b1a-4e29-84b6-8ff43af56146_8\", \"run_number\": 12, \"metric\": null, \"status\": \"Completed\", \"run_type\": \"azureml.scriptrun\", \"training_percent\": \"100\", \"start_time\": \"2021-04-19T16:42:48.917101Z\", \"end_time\": \"2021-04-19T16:43:33.874299Z\", \"created_time\": \"2021-04-19T16:42:40.260509Z\", \"created_time_dt\": \"2021-04-19T16:42:40.260509Z\", \"duration\": \"0:00:53\", \"iteration\": \"8\", \"goal\": \"AUC_weighted_max\", \"run_name\": \"MaxAbsScaler, RandomForest\", \"run_properties\": \"copy=True\", \"primary_metric\": 0.90061901, \"best_metric\": 0.91273375}, {\"run_id\": \"AutoML_f342fd17-9b1a-4e29-84b6-8ff43af56146_7\", \"run_number\": 13, \"metric\": null, \"status\": \"Completed\", \"run_type\": \"azureml.scriptrun\", \"training_percent\": \"100\", \"start_time\": \"2021-04-19T16:42:52.538715Z\", \"end_time\": \"2021-04-19T16:43:39.54378Z\", \"created_time\": \"2021-04-19T16:42:40.289289Z\", \"created_time_dt\": \"2021-04-19T16:42:40.289289Z\", \"duration\": \"0:00:59\", \"iteration\": \"7\", \"goal\": \"AUC_weighted_max\", \"run_name\": \"MaxAbsScaler, ExtremeRandomTrees\", \"run_properties\": \"copy=True\", \"primary_metric\": 0.9118007, \"best_metric\": 0.91273375}, {\"run_id\": \"AutoML_f342fd17-9b1a-4e29-84b6-8ff43af56146_9\", \"run_number\": 14, \"metric\": null, \"status\": \"Completed\", \"run_type\": \"azureml.scriptrun\", \"training_percent\": \"100\", \"start_time\": \"2021-04-19T16:42:51.715472Z\", \"end_time\": \"2021-04-19T16:43:36.998993Z\", \"created_time\": \"2021-04-19T16:42:40.291098Z\", \"created_time_dt\": \"2021-04-19T16:42:40.291098Z\", \"duration\": \"0:00:56\", \"iteration\": \"9\", \"goal\": \"AUC_weighted_max\", \"run_name\": \"MaxAbsScaler, ExtremeRandomTrees\", \"run_properties\": \"copy=True\", \"primary_metric\": 0.9142748, \"best_metric\": 0.9142748}, {\"run_id\": \"AutoML_f342fd17-9b1a-4e29-84b6-8ff43af56146_10\", \"run_number\": 15, \"metric\": null, \"status\": \"Completed\", \"run_type\": \"azureml.scriptrun\", \"training_percent\": \"100\", \"start_time\": \"2021-04-19T16:43:48.556718Z\", \"end_time\": \"2021-04-19T16:44:40.866973Z\", \"created_time\": \"2021-04-19T16:43:37.175503Z\", \"created_time_dt\": \"2021-04-19T16:43:37.175503Z\", \"duration\": \"0:01:03\", \"iteration\": \"10\", \"goal\": \"AUC_weighted_max\", \"run_name\": \"MaxAbsScaler, RandomForest\", \"run_properties\": \"copy=True\", \"primary_metric\": 0.88974877, \"best_metric\": 0.9142748}, {\"run_id\": \"AutoML_f342fd17-9b1a-4e29-84b6-8ff43af56146_11\", \"run_number\": 16, \"metric\": null, \"status\": \"Completed\", \"run_type\": \"azureml.scriptrun\", \"training_percent\": \"100\", \"start_time\": \"2021-04-19T16:43:53.65343Z\", \"end_time\": \"2021-04-19T16:44:39.633315Z\", \"created_time\": \"2021-04-19T16:43:43.26588Z\", \"created_time_dt\": \"2021-04-19T16:43:43.26588Z\", \"duration\": \"0:00:56\", \"iteration\": \"11\", \"goal\": \"AUC_weighted_max\", \"run_name\": \"MaxAbsScaler, RandomForest\", \"run_properties\": \"copy=True\", \"primary_metric\": 0.91322973, \"best_metric\": 0.9142748}, {\"run_id\": \"AutoML_f342fd17-9b1a-4e29-84b6-8ff43af56146_12\", \"run_number\": 17, \"metric\": null, \"status\": \"Completed\", \"run_type\": \"azureml.scriptrun\", \"training_percent\": \"100\", \"start_time\": \"2021-04-19T16:43:52.722543Z\", \"end_time\": \"2021-04-19T16:44:41.982088Z\", \"created_time\": \"2021-04-19T16:43:43.328715Z\", \"created_time_dt\": \"2021-04-19T16:43:43.328715Z\", \"duration\": \"0:00:58\", \"iteration\": \"12\", \"goal\": \"AUC_weighted_max\", \"run_name\": \"MaxAbsScaler, RandomForest\", \"run_properties\": \"copy=True\", \"primary_metric\": 0.90977791, \"best_metric\": 0.9142748}, {\"run_id\": \"AutoML_f342fd17-9b1a-4e29-84b6-8ff43af56146_14\", \"run_number\": 18, \"metric\": null, \"status\": \"Completed\", \"run_type\": \"azureml.scriptrun\", \"training_percent\": \"100\", \"start_time\": \"2021-04-19T16:43:54.470838Z\", \"end_time\": \"2021-04-19T16:44:40.837829Z\", \"created_time\": \"2021-04-19T16:43:43.334549Z\", \"created_time_dt\": \"2021-04-19T16:43:43.334549Z\", \"duration\": \"0:00:57\", \"iteration\": \"14\", \"goal\": \"AUC_weighted_max\", \"run_name\": \"MaxAbsScaler, RandomForest\", \"run_properties\": \"copy=True\", \"primary_metric\": 0.90945092, \"best_metric\": 0.9142748}, {\"run_id\": \"AutoML_f342fd17-9b1a-4e29-84b6-8ff43af56146_13\", \"run_number\": 19, \"metric\": null, \"status\": \"Completed\", \"run_type\": \"azureml.scriptrun\", \"training_percent\": \"100\", \"start_time\": \"2021-04-19T16:43:54.322333Z\", \"end_time\": \"2021-04-19T16:44:39.909463Z\", \"created_time\": \"2021-04-19T16:43:43.728849Z\", \"created_time_dt\": \"2021-04-19T16:43:43.728849Z\", \"duration\": \"0:00:56\", \"iteration\": \"13\", \"goal\": \"AUC_weighted_max\", \"run_name\": \"StandardScalerWrapper, XGBoostClassifier\", \"run_properties\": \"<azureml.automl.runtime.shared.model_wrappers.StandardScalerWrapper object at 0x7f743c2fec88\", \"primary_metric\": 0.90843175, \"best_metric\": 0.9142748}, {\"run_id\": \"AutoML_f342fd17-9b1a-4e29-84b6-8ff43af56146_15\", \"run_number\": 20, \"metric\": null, \"status\": \"Completed\", \"run_type\": \"azureml.scriptrun\", \"training_percent\": \"100\", \"start_time\": \"2021-04-19T16:44:52.931046Z\", \"end_time\": \"2021-04-19T16:45:43.659088Z\", \"created_time\": \"2021-04-19T16:44:42.586027Z\", \"created_time_dt\": \"2021-04-19T16:44:42.586027Z\", \"duration\": \"0:01:01\", \"iteration\": \"15\", \"goal\": \"AUC_weighted_max\", \"run_name\": \"StandardScalerWrapper, ExtremeRandomTrees\", \"run_properties\": \"<azureml.automl.runtime.shared.model_wrappers.StandardScalerWrapper object at 0x7f7114c1eb70\", \"primary_metric\": 0.8559435, \"best_metric\": 0.9142748}, {\"run_id\": \"AutoML_f342fd17-9b1a-4e29-84b6-8ff43af56146_16\", \"run_number\": 21, \"metric\": null, \"status\": \"Completed\", \"run_type\": \"azureml.scriptrun\", \"training_percent\": \"100\", \"start_time\": \"2021-04-19T16:44:53.283148Z\", \"end_time\": \"2021-04-19T16:45:53.780617Z\", \"created_time\": \"2021-04-19T16:44:42.58737Z\", \"created_time_dt\": \"2021-04-19T16:44:42.58737Z\", \"duration\": \"0:01:11\", \"iteration\": \"16\", \"goal\": \"AUC_weighted_max\", \"run_name\": \"MaxAbsScaler, ExtremeRandomTrees\", \"run_properties\": \"copy=True\", \"primary_metric\": 0.90462704, \"best_metric\": 0.9142748}, {\"run_id\": \"AutoML_f342fd17-9b1a-4e29-84b6-8ff43af56146_19\", \"run_number\": 22, \"metric\": null, \"status\": \"Completed\", \"run_type\": \"azureml.scriptrun\", \"training_percent\": \"100\", \"start_time\": \"2021-04-19T16:44:58.725899Z\", \"end_time\": \"2021-04-19T16:45:44.655177Z\", \"created_time\": \"2021-04-19T16:44:47.735638Z\", \"created_time_dt\": \"2021-04-19T16:44:47.735638Z\", \"duration\": \"0:00:56\", \"iteration\": \"19\", \"goal\": \"AUC_weighted_max\", \"run_name\": \"StandardScalerWrapper, LogisticRegression\", \"run_properties\": \"<azureml.automl.runtime.shared.model_wrappers.StandardScalerWrapper object at 0x7fe20e007080\", \"primary_metric\": 0.90325045, \"best_metric\": 0.9142748}, {\"run_id\": \"AutoML_f342fd17-9b1a-4e29-84b6-8ff43af56146_18\", \"run_number\": 23, \"metric\": null, \"status\": \"Completed\", \"run_type\": \"azureml.scriptrun\", \"training_percent\": \"100\", \"start_time\": \"2021-04-19T16:45:01.590683Z\", \"end_time\": \"2021-04-19T16:46:33.924164Z\", \"created_time\": \"2021-04-19T16:44:47.792644Z\", \"created_time_dt\": \"2021-04-19T16:44:47.792644Z\", \"duration\": \"0:01:46\", \"iteration\": \"18\", \"goal\": \"AUC_weighted_max\", \"run_name\": \"MaxAbsScaler, RandomForest\", \"run_properties\": \"copy=True\", \"primary_metric\": 0.90422041, \"best_metric\": 0.9142748}, {\"run_id\": \"AutoML_f342fd17-9b1a-4e29-84b6-8ff43af56146_17\", \"run_number\": 24, \"metric\": null, \"status\": \"Completed\", \"run_type\": \"azureml.scriptrun\", \"training_percent\": \"100\", \"start_time\": \"2021-04-19T16:44:57.892211Z\", \"end_time\": \"2021-04-19T16:45:55.437315Z\", \"created_time\": \"2021-04-19T16:44:47.876705Z\", \"created_time_dt\": \"2021-04-19T16:44:47.876705Z\", \"duration\": \"0:01:07\", \"iteration\": \"17\", \"goal\": \"AUC_weighted_max\", \"run_name\": \"MaxAbsScaler, ExtremeRandomTrees\", \"run_properties\": \"copy=True\", \"primary_metric\": 0.90517029, \"best_metric\": 0.9142748}, {\"run_id\": \"AutoML_f342fd17-9b1a-4e29-84b6-8ff43af56146_20\", \"run_number\": 25, \"metric\": null, \"status\": \"Completed\", \"run_type\": \"azureml.scriptrun\", \"training_percent\": \"100\", \"start_time\": \"2021-04-19T16:45:58.926111Z\", \"end_time\": \"2021-04-19T16:46:54.306939Z\", \"created_time\": \"2021-04-19T16:45:46.025646Z\", \"created_time_dt\": \"2021-04-19T16:45:46.025646Z\", \"duration\": \"0:01:08\", \"iteration\": \"20\", \"goal\": \"AUC_weighted_max\", \"run_name\": \"StandardScalerWrapper, LogisticRegression\", \"run_properties\": \"<azureml.automl.runtime.shared.model_wrappers.StandardScalerWrapper object at 0x7f451c243cc0\", \"primary_metric\": 0.90817664, \"best_metric\": 0.9142748}, {\"run_id\": \"AutoML_f342fd17-9b1a-4e29-84b6-8ff43af56146_21\", \"run_number\": 26, \"metric\": null, \"status\": \"Completed\", \"run_type\": \"azureml.scriptrun\", \"training_percent\": \"100\", \"start_time\": \"2021-04-19T16:45:58.422402Z\", \"end_time\": \"2021-04-19T16:46:54.301472Z\", \"created_time\": \"2021-04-19T16:45:50.462693Z\", \"created_time_dt\": \"2021-04-19T16:45:50.462693Z\", \"duration\": \"0:01:03\", \"iteration\": \"21\", \"goal\": \"AUC_weighted_max\", \"run_name\": \"MaxAbsScaler, LightGBM\", \"run_properties\": \"copy=True\", \"primary_metric\": 0.90347514, \"best_metric\": 0.9142748}, {\"run_id\": \"AutoML_f342fd17-9b1a-4e29-84b6-8ff43af56146_22\", \"run_number\": 27, \"metric\": null, \"status\": \"Completed\", \"run_type\": \"azureml.scriptrun\", \"training_percent\": \"100\", \"start_time\": \"2021-04-19T16:46:08.448573Z\", \"end_time\": \"2021-04-19T16:48:10.680349Z\", \"created_time\": \"2021-04-19T16:45:57.319542Z\", \"created_time_dt\": \"2021-04-19T16:45:57.319542Z\", \"duration\": \"0:02:13\", \"iteration\": \"22\", \"goal\": \"AUC_weighted_max\", \"run_name\": \"MaxAbsScaler, LightGBM\", \"run_properties\": \"copy=True\", \"primary_metric\": 0.91066175, \"best_metric\": 0.9142748}, {\"run_id\": \"AutoML_f342fd17-9b1a-4e29-84b6-8ff43af56146_23\", \"run_number\": 28, \"metric\": null, \"status\": \"Completed\", \"run_type\": \"azureml.scriptrun\", \"training_percent\": \"100\", \"start_time\": \"2021-04-19T16:46:10.620525Z\", \"end_time\": \"2021-04-19T16:48:03.143771Z\", \"created_time\": \"2021-04-19T16:46:02.7408Z\", \"created_time_dt\": \"2021-04-19T16:46:02.7408Z\", \"duration\": \"0:02:00\", \"iteration\": \"23\", \"goal\": \"AUC_weighted_max\", \"run_name\": \"StandardScalerWrapper, LightGBM\", \"run_properties\": \"<azureml.automl.runtime.shared.model_wrappers.StandardScalerWrapper object at 0x7f56edc8dd30\", \"primary_metric\": 0.9086927, \"best_metric\": 0.9142748}, {\"run_id\": \"AutoML_f342fd17-9b1a-4e29-84b6-8ff43af56146_24\", \"run_number\": 29, \"metric\": null, \"status\": \"Completed\", \"run_type\": \"azureml.scriptrun\", \"training_percent\": \"100\", \"start_time\": \"2021-04-19T16:46:44.310919Z\", \"end_time\": \"2021-04-19T16:48:17.302855Z\", \"created_time\": \"2021-04-19T16:46:35.785072Z\", \"created_time_dt\": \"2021-04-19T16:46:35.785072Z\", \"duration\": \"0:01:41\", \"iteration\": \"24\", \"goal\": \"AUC_weighted_max\", \"run_name\": \"StandardScalerWrapper, LightGBM\", \"run_properties\": \"<azureml.automl.runtime.shared.model_wrappers.StandardScalerWrapper object at 0x7fec3a59e518\", \"primary_metric\": 0.90504403, \"best_metric\": 0.9142748}, {\"run_id\": \"AutoML_f342fd17-9b1a-4e29-84b6-8ff43af56146_25\", \"run_number\": 30, \"metric\": null, \"status\": \"Completed\", \"run_type\": \"azureml.scriptrun\", \"training_percent\": \"100\", \"start_time\": \"2021-04-19T16:47:08.681808Z\", \"end_time\": \"2021-04-19T16:48:38.600647Z\", \"created_time\": \"2021-04-19T16:46:57.191545Z\", \"created_time_dt\": \"2021-04-19T16:46:57.191545Z\", \"duration\": \"0:01:41\", \"iteration\": \"25\", \"goal\": \"AUC_weighted_max\", \"run_name\": \"SparseNormalizer, ExtremeRandomTrees\", \"run_properties\": \"<azureml.automl.runtime.shared.model_wrappers.SparseNormalizer object at 0x7f9519a84c50\", \"primary_metric\": 0.89179487, \"best_metric\": 0.9142748}, {\"run_id\": \"AutoML_f342fd17-9b1a-4e29-84b6-8ff43af56146_26\", \"run_number\": 31, \"metric\": null, \"status\": \"Completed\", \"run_type\": \"azureml.scriptrun\", \"training_percent\": \"100\", \"start_time\": \"2021-04-19T16:47:10.481026Z\", \"end_time\": \"2021-04-19T16:48:39.40994Z\", \"created_time\": \"2021-04-19T16:46:57.309658Z\", \"created_time_dt\": \"2021-04-19T16:46:57.309658Z\", \"duration\": \"0:01:42\", \"iteration\": \"26\", \"goal\": \"AUC_weighted_max\", \"run_name\": \"MaxAbsScaler, ExtremeRandomTrees\", \"run_properties\": \"copy=True\", \"primary_metric\": 0.90132479, \"best_metric\": 0.9142748}, {\"run_id\": \"AutoML_f342fd17-9b1a-4e29-84b6-8ff43af56146_27\", \"run_number\": 32, \"metric\": null, \"status\": \"Completed\", \"run_type\": \"azureml.scriptrun\", \"training_percent\": \"100\", \"start_time\": \"2021-04-19T16:48:21.153292Z\", \"end_time\": \"2021-04-19T16:49:20.12264Z\", \"created_time\": \"2021-04-19T16:48:05.932763Z\", \"created_time_dt\": \"2021-04-19T16:48:05.932763Z\", \"duration\": \"0:01:14\", \"iteration\": \"27\", \"goal\": \"AUC_weighted_max\", \"run_name\": \"StandardScalerWrapper, ExtremeRandomTrees\", \"run_properties\": \"<azureml.automl.runtime.shared.model_wrappers.StandardScalerWrapper object at 0x7f0bb72db358\", \"primary_metric\": 0.89995597, \"best_metric\": 0.9142748}, {\"run_id\": \"AutoML_f342fd17-9b1a-4e29-84b6-8ff43af56146_28\", \"run_number\": 33, \"metric\": null, \"status\": \"Completed\", \"run_type\": \"azureml.scriptrun\", \"training_percent\": \"100\", \"start_time\": \"2021-04-19T16:48:23.982184Z\", \"end_time\": \"2021-04-19T16:49:28.312697Z\", \"created_time\": \"2021-04-19T16:48:13.391545Z\", \"created_time_dt\": \"2021-04-19T16:48:13.391545Z\", \"duration\": \"0:01:14\", \"iteration\": \"28\", \"goal\": \"AUC_weighted_max\", \"run_name\": \"MaxAbsScaler, LogisticRegression\", \"run_properties\": \"copy=True\", \"primary_metric\": 0.90906695, \"best_metric\": 0.9142748}, {\"run_id\": \"AutoML_f342fd17-9b1a-4e29-84b6-8ff43af56146_29\", \"run_number\": 34, \"metric\": null, \"status\": \"Completed\", \"run_type\": \"azureml.scriptrun\", \"training_percent\": \"100\", \"start_time\": \"2021-04-19T16:48:32.103572Z\", \"end_time\": \"2021-04-19T16:49:42.269277Z\", \"created_time\": \"2021-04-19T16:48:20.506573Z\", \"created_time_dt\": \"2021-04-19T16:48:20.506573Z\", \"duration\": \"0:01:21\", \"iteration\": \"29\", \"goal\": \"AUC_weighted_max\", \"run_name\": \"StandardScalerWrapper, ExtremeRandomTrees\", \"run_properties\": \"<azureml.automl.runtime.shared.model_wrappers.StandardScalerWrapper object at 0x7fd4a67a7e48\", \"primary_metric\": 0.9088332, \"best_metric\": 0.9142748}, {\"run_id\": \"AutoML_f342fd17-9b1a-4e29-84b6-8ff43af56146_30\", \"run_number\": 35, \"metric\": null, \"status\": \"Completed\", \"run_type\": \"azureml.scriptrun\", \"training_percent\": \"100\", \"start_time\": \"2021-04-19T16:48:53.399597Z\", \"end_time\": \"2021-04-19T16:49:57.44148Z\", \"created_time\": \"2021-04-19T16:48:42.356661Z\", \"created_time_dt\": \"2021-04-19T16:48:42.356661Z\", \"duration\": \"0:01:15\", \"iteration\": \"30\", \"goal\": \"AUC_weighted_max\", \"run_name\": \"SparseNormalizer, ExtremeRandomTrees\", \"run_properties\": \"<azureml.automl.runtime.shared.model_wrappers.SparseNormalizer object at 0x7fdb28070cc0\", \"primary_metric\": 0.91272468, \"best_metric\": 0.9142748}, {\"run_id\": \"AutoML_f342fd17-9b1a-4e29-84b6-8ff43af56146_31\", \"run_number\": 36, \"metric\": null, \"status\": \"Completed\", \"run_type\": \"azureml.scriptrun\", \"training_percent\": \"100\", \"start_time\": \"2021-04-19T16:48:54.946239Z\", \"end_time\": \"2021-04-19T16:49:49.765009Z\", \"created_time\": \"2021-04-19T16:48:42.469872Z\", \"created_time_dt\": \"2021-04-19T16:48:42.469872Z\", \"duration\": \"0:01:07\", \"iteration\": \"31\", \"goal\": \"AUC_weighted_max\", \"run_name\": \"SparseNormalizer, XGBoostClassifier\", \"run_properties\": \"<azureml.automl.runtime.shared.model_wrappers.SparseNormalizer object at 0x7fc968233048\", \"primary_metric\": 0.90189718, \"best_metric\": 0.9142748}, {\"run_id\": \"AutoML_f342fd17-9b1a-4e29-84b6-8ff43af56146_32\", \"run_number\": 37, \"metric\": null, \"status\": \"Completed\", \"run_type\": \"azureml.scriptrun\", \"training_percent\": \"100\", \"start_time\": \"2021-04-19T16:49:33.388824Z\", \"end_time\": \"2021-04-19T16:50:27.781009Z\", \"created_time\": \"2021-04-19T16:49:22.402271Z\", \"created_time_dt\": \"2021-04-19T16:49:22.402271Z\", \"duration\": \"0:01:05\", \"iteration\": \"32\", \"goal\": \"AUC_weighted_max\", \"run_name\": \"SparseNormalizer, XGBoostClassifier\", \"run_properties\": \"<azureml.automl.runtime.shared.model_wrappers.SparseNormalizer object at 0x7f79cae44be0\", \"primary_metric\": 0.92448718, \"best_metric\": 0.92448718}, {\"run_id\": \"AutoML_f342fd17-9b1a-4e29-84b6-8ff43af56146_33\", \"run_number\": 38, \"metric\": null, \"status\": \"Completed\", \"run_type\": \"azureml.scriptrun\", \"training_percent\": \"100\", \"start_time\": \"2021-04-19T16:49:38.857578Z\", \"end_time\": \"2021-04-19T16:50:32.442701Z\", \"created_time\": \"2021-04-19T16:49:30.808146Z\", \"created_time_dt\": \"2021-04-19T16:49:30.808146Z\", \"duration\": \"0:01:01\", \"iteration\": \"33\", \"goal\": \"AUC_weighted_max\", \"run_name\": \"SparseNormalizer, XGBoostClassifier\", \"run_properties\": \"<azureml.automl.runtime.shared.model_wrappers.SparseNormalizer object at 0x7efc82c80cc0\", \"primary_metric\": 0.89469632, \"best_metric\": 0.92448718}, {\"run_id\": \"AutoML_f342fd17-9b1a-4e29-84b6-8ff43af56146_34\", \"run_number\": 39, \"metric\": null, \"status\": \"Completed\", \"run_type\": \"azureml.scriptrun\", \"training_percent\": \"100\", \"start_time\": \"2021-04-19T16:49:58.557766Z\", \"end_time\": \"2021-04-19T16:50:50.925415Z\", \"created_time\": \"2021-04-19T16:49:44.691191Z\", \"created_time_dt\": \"2021-04-19T16:49:44.691191Z\", \"duration\": \"0:01:06\", \"iteration\": \"34\", \"goal\": \"AUC_weighted_max\", \"run_name\": \"StandardScalerWrapper, XGBoostClassifier\", \"run_properties\": \"<azureml.automl.runtime.shared.model_wrappers.StandardScalerWrapper object at 0x7f14b1ac0f98\", \"primary_metric\": 0.91045325, \"best_metric\": 0.92448718}, {\"run_id\": \"AutoML_f342fd17-9b1a-4e29-84b6-8ff43af56146_35\", \"run_number\": 40, \"metric\": null, \"status\": \"Completed\", \"run_type\": \"azureml.scriptrun\", \"training_percent\": \"100\", \"start_time\": \"2021-04-19T16:50:02.434232Z\", \"end_time\": \"2021-04-19T16:50:55.476602Z\", \"created_time\": \"2021-04-19T16:49:53.077725Z\", \"created_time_dt\": \"2021-04-19T16:49:53.077725Z\", \"duration\": \"0:01:02\", \"iteration\": \"35\", \"goal\": \"AUC_weighted_max\", \"run_name\": \"TruncatedSVDWrapper, ExtremeRandomTrees\", \"run_properties\": \"n_components=0.20789473684210527, random_state=None\", \"primary_metric\": 0.6118075, \"best_metric\": 0.92448718}, {\"run_id\": \"AutoML_f342fd17-9b1a-4e29-84b6-8ff43af56146_36\", \"run_number\": 41, \"metric\": null, \"status\": \"Completed\", \"run_type\": \"azureml.scriptrun\", \"training_percent\": \"100\", \"start_time\": \"2021-04-19T16:50:10.367185Z\", \"end_time\": \"2021-04-19T16:50:58.708996Z\", \"created_time\": \"2021-04-19T16:49:59.911257Z\", \"created_time_dt\": \"2021-04-19T16:49:59.911257Z\", \"duration\": \"0:00:58\", \"iteration\": \"36\", \"goal\": \"AUC_weighted_max\", \"run_name\": \"MaxAbsScaler, LogisticRegression\", \"run_properties\": \"copy=True\", \"primary_metric\": 0.90999288, \"best_metric\": 0.92448718}, {\"run_id\": \"AutoML_f342fd17-9b1a-4e29-84b6-8ff43af56146_37\", \"run_number\": 42, \"metric\": null, \"status\": \"Completed\", \"run_type\": \"azureml.scriptrun\", \"training_percent\": \"100\", \"start_time\": \"2021-04-19T16:50:41.796767Z\", \"end_time\": \"2021-04-19T16:51:33.486608Z\", \"created_time\": \"2021-04-19T16:50:30.242371Z\", \"created_time_dt\": \"2021-04-19T16:50:30.242371Z\", \"duration\": \"0:01:03\", \"iteration\": \"37\", \"goal\": \"AUC_weighted_max\", \"run_name\": \"TruncatedSVDWrapper, XGBoostClassifier\", \"run_properties\": \"n_components=0.9005263157894737, random_state=None\", \"primary_metric\": 0.89982647, \"best_metric\": 0.92448718}, {\"run_id\": \"AutoML_f342fd17-9b1a-4e29-84b6-8ff43af56146_38\", \"run_number\": 43, \"metric\": null, \"status\": \"Completed\", \"run_type\": \"azureml.scriptrun\", \"training_percent\": \"100\", \"start_time\": \"2021-04-19T16:50:43.365009Z\", \"end_time\": \"2021-04-19T16:51:39.13659Z\", \"created_time\": \"2021-04-19T16:50:35.501542Z\", \"created_time_dt\": \"2021-04-19T16:50:35.501542Z\", \"duration\": \"0:01:03\", \"iteration\": \"38\", \"goal\": \"AUC_weighted_max\", \"run_name\": \"MaxAbsScaler, LightGBM\", \"run_properties\": \"copy=True\", \"primary_metric\": 0.91362212, \"best_metric\": 0.92448718}, {\"run_id\": \"AutoML_f342fd17-9b1a-4e29-84b6-8ff43af56146_39\", \"run_number\": 44, \"metric\": null, \"status\": \"Completed\", \"run_type\": \"azureml.scriptrun\", \"training_percent\": \"100\", \"start_time\": \"2021-04-19T16:51:06.517488Z\", \"end_time\": \"2021-04-19T16:52:07.819973Z\", \"created_time\": \"2021-04-19T16:50:53.139149Z\", \"created_time_dt\": \"2021-04-19T16:50:53.139149Z\", \"duration\": \"0:01:14\", \"iteration\": \"39\", \"goal\": \"AUC_weighted_max\", \"run_name\": \"MaxAbsScaler, LightGBM\", \"run_properties\": \"copy=True\", \"primary_metric\": 0.90937905, \"best_metric\": 0.92448718}, {\"run_id\": \"AutoML_f342fd17-9b1a-4e29-84b6-8ff43af56146_40\", \"run_number\": 45, \"metric\": null, \"status\": \"Completed\", \"run_type\": \"azureml.scriptrun\", \"training_percent\": \"100\", \"start_time\": \"2021-04-19T16:51:07.051458Z\", \"end_time\": \"2021-04-19T16:52:08.996772Z\", \"created_time\": \"2021-04-19T16:50:59.019608Z\", \"created_time_dt\": \"2021-04-19T16:50:59.019608Z\", \"duration\": \"0:01:09\", \"iteration\": \"40\", \"goal\": \"AUC_weighted_max\", \"run_name\": \"SparseNormalizer, XGBoostClassifier\", \"run_properties\": \"<azureml.automl.runtime.shared.model_wrappers.SparseNormalizer object at 0x7fc47112d7f0\", \"primary_metric\": 0.91320772, \"best_metric\": 0.92448718}, {\"run_id\": \"AutoML_f342fd17-9b1a-4e29-84b6-8ff43af56146_41\", \"run_number\": 46, \"metric\": null, \"status\": \"Completed\", \"run_type\": \"azureml.scriptrun\", \"training_percent\": \"100\", \"start_time\": \"2021-04-19T16:51:12.875Z\", \"end_time\": \"2021-04-19T16:52:14.800538Z\", \"created_time\": \"2021-04-19T16:51:03.044258Z\", \"created_time_dt\": \"2021-04-19T16:51:03.044258Z\", \"duration\": \"0:01:11\", \"iteration\": \"41\", \"goal\": \"AUC_weighted_max\", \"run_name\": \"StandardScalerWrapper, XGBoostClassifier\", \"run_properties\": \"<azureml.automl.runtime.shared.model_wrappers.StandardScalerWrapper object at 0x7ff85e357470\", \"primary_metric\": 0.89805491, \"best_metric\": 0.92448718}, {\"run_id\": \"AutoML_f342fd17-9b1a-4e29-84b6-8ff43af56146_42\", \"run_number\": 47, \"metric\": null, \"status\": \"Completed\", \"run_type\": \"azureml.scriptrun\", \"training_percent\": \"100\", \"start_time\": \"2021-04-19T16:51:44.44904Z\", \"end_time\": \"2021-04-19T16:52:52.673769Z\", \"created_time\": \"2021-04-19T16:51:36.187238Z\", \"created_time_dt\": \"2021-04-19T16:51:36.187238Z\", \"duration\": \"0:01:16\", \"iteration\": \"42\", \"goal\": \"AUC_weighted_max\", \"run_name\": \"TruncatedSVDWrapper, XGBoostClassifier\", \"run_properties\": \"n_components=0.7521052631578947, random_state=None\", \"primary_metric\": 0.88443408, \"best_metric\": 0.92448718}, {\"run_id\": \"AutoML_f342fd17-9b1a-4e29-84b6-8ff43af56146_43\", \"run_number\": 48, \"metric\": null, \"status\": \"Completed\", \"run_type\": \"azureml.scriptrun\", \"training_percent\": \"100\", \"start_time\": \"2021-04-19T16:51:54.615052Z\", \"end_time\": \"2021-04-19T16:52:51.07145Z\", \"created_time\": \"2021-04-19T16:51:41.623851Z\", \"created_time_dt\": \"2021-04-19T16:51:41.623851Z\", \"duration\": \"0:01:09\", \"iteration\": \"43\", \"goal\": \"AUC_weighted_max\", \"run_name\": \"MaxAbsScaler, LogisticRegression\", \"run_properties\": \"copy=True\", \"primary_metric\": 0.90903134, \"best_metric\": 0.92448718}, {\"run_id\": \"AutoML_f342fd17-9b1a-4e29-84b6-8ff43af56146_44\", \"run_number\": 49, \"metric\": null, \"status\": \"Completed\", \"run_type\": \"azureml.scriptrun\", \"training_percent\": \"100\", \"start_time\": \"2021-04-19T16:52:25.294062Z\", \"end_time\": \"2021-04-19T16:53:12.743973Z\", \"created_time\": \"2021-04-19T16:52:10.167274Z\", \"created_time_dt\": \"2021-04-19T16:52:10.167274Z\", \"duration\": \"0:01:02\", \"iteration\": \"44\", \"goal\": \"AUC_weighted_max\", \"run_name\": \"MaxAbsScaler, LightGBM\", \"run_properties\": \"copy=True\", \"primary_metric\": 0.92269037, \"best_metric\": 0.92448718}, {\"run_id\": \"AutoML_f342fd17-9b1a-4e29-84b6-8ff43af56146_45\", \"run_number\": 50, \"metric\": null, \"status\": \"Completed\", \"run_type\": \"azureml.scriptrun\", \"training_percent\": \"100\", \"start_time\": \"2021-04-19T16:52:25.871381Z\", \"end_time\": \"2021-04-19T16:53:10.254583Z\", \"created_time\": \"2021-04-19T16:52:16.237134Z\", \"created_time_dt\": \"2021-04-19T16:52:16.237134Z\", \"duration\": \"0:00:54\", \"iteration\": \"45\", \"goal\": \"AUC_weighted_max\", \"run_name\": \"TruncatedSVDWrapper, XGBoostClassifier\", \"run_properties\": \"n_components=0.01, random_state=None\", \"primary_metric\": 0.85560768, \"best_metric\": 0.92448718}, {\"run_id\": \"AutoML_f342fd17-9b1a-4e29-84b6-8ff43af56146_46\", \"run_number\": 51, \"metric\": null, \"status\": \"Completed\", \"run_type\": \"azureml.scriptrun\", \"training_percent\": \"100\", \"start_time\": \"2021-04-19T16:52:32.519171Z\", \"end_time\": \"2021-04-19T16:53:25.164694Z\", \"created_time\": \"2021-04-19T16:52:20.743173Z\", \"created_time_dt\": \"2021-04-19T16:52:20.743173Z\", \"duration\": \"0:01:04\", \"iteration\": \"46\", \"goal\": \"AUC_weighted_max\", \"run_name\": \"TruncatedSVDWrapper, XGBoostClassifier\", \"run_properties\": \"n_components=0.5047368421052632, random_state=None\", \"primary_metric\": 0.90027325, \"best_metric\": 0.92448718}, {\"run_id\": \"AutoML_f342fd17-9b1a-4e29-84b6-8ff43af56146_47\", \"run_number\": 52, \"metric\": null, \"status\": \"Canceled\", \"run_type\": \"azureml.scriptrun\", \"training_percent\": \"100\", \"start_time\": \"2021-04-19T16:53:03.692319Z\", \"end_time\": \"2021-04-19T16:53:32.222625Z\", \"created_time\": \"2021-04-19T16:52:54.15735Z\", \"created_time_dt\": \"2021-04-19T16:52:54.15735Z\", \"duration\": \"0:00:38\", \"iteration\": \"47\", \"goal\": \"AUC_weighted_max\", \"run_name\": \"TruncatedSVDWrapper, XGBoostClassifier\", \"run_properties\": \"n_components=0.7026315789473684, random_state=None\", \"primary_metric\": 0.86597967, \"best_metric\": 0.92448718}, {\"run_id\": \"AutoML_f342fd17-9b1a-4e29-84b6-8ff43af56146_48\", \"run_number\": 53, \"metric\": null, \"status\": \"Canceled\", \"run_type\": \"azureml.scriptrun\", \"training_percent\": \"100\", \"start_time\": \"2021-04-19T16:53:14.145393Z\", \"end_time\": \"2021-04-19T16:53:33.058381Z\", \"created_time\": \"2021-04-19T16:52:59.902408Z\", \"created_time_dt\": \"2021-04-19T16:52:59.902408Z\", \"duration\": \"0:00:33\", \"iteration\": \"48\", \"goal\": null, \"run_name\": \"Canceled\", \"run_properties\": null}, {\"run_id\": \"AutoML_f342fd17-9b1a-4e29-84b6-8ff43af56146_49\", \"run_number\": 54, \"metric\": null, \"status\": \"Canceled\", \"run_type\": \"azureml.scriptrun\", \"training_percent\": \"100\", \"start_time\": \"2021-04-19T16:53:22.0838Z\", \"end_time\": \"2021-04-19T16:53:32.603093Z\", \"created_time\": \"2021-04-19T16:53:12.333533Z\", \"created_time_dt\": \"2021-04-19T16:53:12.333533Z\", \"duration\": \"0:00:20\", \"iteration\": \"49\", \"goal\": null, \"run_name\": \"Canceled\", \"run_properties\": null}, {\"run_id\": \"AutoML_f342fd17-9b1a-4e29-84b6-8ff43af56146_50\", \"run_number\": 55, \"metric\": null, \"status\": \"Canceled\", \"run_type\": \"azureml.scriptrun\", \"training_percent\": \"100\", \"start_time\": \"2021-04-19T16:53:27.064587Z\", \"end_time\": \"2021-04-19T16:53:32.757682Z\", \"created_time\": \"2021-04-19T16:53:18.54103Z\", \"created_time_dt\": \"2021-04-19T16:53:18.54103Z\", \"duration\": \"0:00:14\", \"iteration\": \"50\", \"goal\": null, \"run_name\": \"Canceled\", \"run_properties\": null}, {\"run_id\": \"AutoML_f342fd17-9b1a-4e29-84b6-8ff43af56146_51\", \"run_number\": 56, \"metric\": null, \"status\": \"Completed\", \"run_type\": \"azureml.scriptrun\", \"training_percent\": \"100\", \"start_time\": \"2021-04-19T16:53:45.103685Z\", \"end_time\": \"2021-04-19T16:55:32.772113Z\", \"created_time\": \"2021-04-19T16:53:35.795972Z\", \"created_time_dt\": \"2021-04-19T16:53:35.795972Z\", \"duration\": \"0:01:56\", \"iteration\": \"51\", \"goal\": \"AUC_weighted_max\", \"run_name\": \"VotingEnsemble\", \"run_properties\": \"classification_labels=None,\\n                              estimators=[('32',\\n                                           Pipeline(memory=None,\\n                                                    steps=[('sparsenormalizer',\\n                                                            <azureml.automl.runtime.shared.model_wrappers.SparseNormalizer object at 0x7efd782e7358>\", \"primary_metric\": 0.93890443, \"best_metric\": 0.93890443}, {\"run_id\": \"AutoML_f342fd17-9b1a-4e29-84b6-8ff43af56146_52\", \"run_number\": 57, \"metric\": null, \"status\": \"Completed\", \"run_type\": \"azureml.scriptrun\", \"training_percent\": \"100\", \"start_time\": \"2021-04-19T16:53:44.562348Z\", \"end_time\": \"2021-04-19T16:55:30.744558Z\", \"created_time\": \"2021-04-19T16:53:35.863221Z\", \"created_time_dt\": \"2021-04-19T16:53:35.863221Z\", \"duration\": \"0:01:54\", \"iteration\": \"52\", \"goal\": \"AUC_weighted_max\", \"run_name\": \"StackEnsemble\", \"run_properties\": \"base_learners=[('32',\\n                                        Pipeline(memory=None,\\n                                                 steps=[('sparsenormalizer',\\n                                                         <azureml.automl.runtime.shared.model_wrappers.SparseNormalizer object at 0x7f8cd83dd390>\", \"primary_metric\": 0.92675343, \"best_metric\": 0.93890443}], \"children_metrics\": {\"categories\": [0], \"series\": {\"norm_macro_recall\": [{\"categories\": [\"0\", \"1\", \"2\", \"3\", \"4\", \"5\", \"6\", \"7\", \"8\", \"9\", \"10\", \"11\", \"12\", \"13\", \"14\", \"15\", \"16\", \"17\", \"18\", \"19\", \"20\", \"21\", \"22\", \"23\", \"24\", \"25\", \"26\", \"27\", \"28\", \"29\", \"30\", \"31\", \"32\", \"33\", \"34\", \"35\", \"36\", \"37\", \"38\", \"39\", \"40\", \"41\", \"42\", \"43\", \"44\", \"45\", \"46\", \"47\", \"51\", \"52\"], \"mode\": \"markers\", \"name\": \"norm_macro_recall\", \"stepped\": false, \"type\": \"scatter\", \"data\": [0.6287296037296037, 0.6176087801087802, 0.5328554778554778, 0.5960528360528361, 0.5629428904428904, 0.6172144522144523, 0.6815831390831391, 0.6583255633255634, 0.5605594405594406, 0.624531857031857, 0.5809459984459984, 0.6904118104118104, 0.6126534576534577, 0.6595745920745921, 0.6272785547785547, 0.5373115773115773, 0.5772785547785548, 0.6541686091686092, 0.5827486402486403, 0.6279506604506604, 0.6273096348096348, 0.6858663558663559, 0.6761344211344211, 0.6752253302253303, 0.681528749028749, 0.533177933177933, 0.6372902097902098, 0.6188403263403263, 0.6428108003108003, 0.6377700077700077, 0.6507498057498057, 0.6702253302253303, 0.6569580419580421, 0.6390831390831391, 0.6311344211344212, 0.09136363636363634, 0.6428108003108003, 0.6849475524475525, 0.6636441336441335, 0.6897552447552447, 0.6811344211344212, 0.6392754467754468, 0.5597591297591298, 0.6428108003108003, 0.6751087801087801, 0.5713170163170161, 0.6249728049728049, 0.5811907536907537, 0.6899261849261848, 0.496048951048951]}, {\"categories\": [\"0\", \"1\", \"2\", \"3\", \"4\", \"5\", \"6\", \"7\", \"8\", \"9\", \"10\", \"11\", \"12\", \"13\", \"14\", \"15\", \"16\", \"17\", \"18\", \"19\", \"20\", \"21\", \"22\", \"23\", \"24\", \"25\", \"26\", \"27\", \"28\", \"29\", \"30\", \"31\", \"32\", \"33\", \"34\", \"35\", \"36\", \"37\", \"38\", \"39\", \"40\", \"41\", \"42\", \"43\", \"44\", \"45\", \"46\", \"47\", \"51\", \"52\"], \"mode\": \"lines\", \"name\": \"norm_macro_recall_max\", \"stepped\": true, \"type\": \"scatter\", \"data\": [0.6287296037296037, 0.6287296037296037, 0.6287296037296037, 0.6287296037296037, 0.6287296037296037, 0.6287296037296037, 0.6815831390831391, 0.6815831390831391, 0.6815831390831391, 0.6815831390831391, 0.6815831390831391, 0.6904118104118104, 0.6904118104118104, 0.6904118104118104, 0.6904118104118104, 0.6904118104118104, 0.6904118104118104, 0.6904118104118104, 0.6904118104118104, 0.6904118104118104, 0.6904118104118104, 0.6904118104118104, 0.6904118104118104, 0.6904118104118104, 0.6904118104118104, 0.6904118104118104, 0.6904118104118104, 0.6904118104118104, 0.6904118104118104, 0.6904118104118104, 0.6904118104118104, 0.6904118104118104, 0.6904118104118104, 0.6904118104118104, 0.6904118104118104, 0.6904118104118104, 0.6904118104118104, 0.6904118104118104, 0.6904118104118104, 0.6904118104118104, 0.6904118104118104, 0.6904118104118104, 0.6904118104118104, 0.6904118104118104, 0.6904118104118104, 0.6904118104118104, 0.6904118104118104, 0.6904118104118104, 0.6904118104118104, 0.6904118104118104]}], \"balanced_accuracy\": [{\"categories\": [\"0\", \"1\", \"2\", \"3\", \"4\", \"5\", \"6\", \"7\", \"8\", \"9\", \"10\", \"11\", \"12\", \"13\", \"14\", \"15\", \"16\", \"17\", \"18\", \"19\", \"20\", \"21\", \"22\", \"23\", \"24\", \"25\", \"26\", \"27\", \"28\", \"29\", \"30\", \"31\", \"32\", \"33\", \"34\", \"35\", \"36\", \"37\", \"38\", \"39\", \"40\", \"41\", \"42\", \"43\", \"44\", \"45\", \"46\", \"47\", \"51\", \"52\"], \"mode\": \"markers\", \"name\": \"balanced_accuracy\", \"stepped\": false, \"type\": \"scatter\", \"data\": [0.8143648018648019, 0.80880439005439, 0.766427738927739, 0.7980264180264179, 0.7814714452214452, 0.8086072261072262, 0.8407915695415694, 0.8291627816627816, 0.7802797202797203, 0.8122659285159285, 0.7904729992229992, 0.8452059052059052, 0.8063267288267287, 0.8297872960372962, 0.8136392773892773, 0.7686557886557887, 0.7886392773892773, 0.8270843045843046, 0.79137432012432, 0.8139753302253302, 0.8136548174048175, 0.8429331779331779, 0.8380672105672105, 0.8376126651126651, 0.8407643745143745, 0.7665889665889665, 0.8186451048951049, 0.8094201631701632, 0.8214054001554002, 0.8188850038850038, 0.8253749028749029, 0.835112665112665, 0.8284790209790209, 0.8195415695415695, 0.8155672105672105, 0.5426903651903652, 0.8214054001554002, 0.8424737762237763, 0.8318220668220668, 0.8448776223776224, 0.8405672105672105, 0.8196377233877234, 0.7798795648795649, 0.8214054001554002, 0.8375543900543901, 0.7856585081585081, 0.8124864024864025, 0.7905953768453767, 0.8449630924630924, 0.7480244755244755]}, {\"categories\": [\"0\", \"1\", \"2\", \"3\", \"4\", \"5\", \"6\", \"7\", \"8\", \"9\", \"10\", \"11\", \"12\", \"13\", \"14\", \"15\", \"16\", \"17\", \"18\", \"19\", \"20\", \"21\", \"22\", \"23\", \"24\", \"25\", \"26\", \"27\", \"28\", \"29\", \"30\", \"31\", \"32\", \"33\", \"34\", \"35\", \"36\", \"37\", \"38\", \"39\", \"40\", \"41\", \"42\", \"43\", \"44\", \"45\", \"46\", \"47\", \"51\", \"52\"], \"mode\": \"lines\", \"name\": \"balanced_accuracy_max\", \"stepped\": true, \"type\": \"scatter\", \"data\": [0.8143648018648019, 0.8143648018648019, 0.8143648018648019, 0.8143648018648019, 0.8143648018648019, 0.8143648018648019, 0.8407915695415694, 0.8407915695415694, 0.8407915695415694, 0.8407915695415694, 0.8407915695415694, 0.8452059052059052, 0.8452059052059052, 0.8452059052059052, 0.8452059052059052, 0.8452059052059052, 0.8452059052059052, 0.8452059052059052, 0.8452059052059052, 0.8452059052059052, 0.8452059052059052, 0.8452059052059052, 0.8452059052059052, 0.8452059052059052, 0.8452059052059052, 0.8452059052059052, 0.8452059052059052, 0.8452059052059052, 0.8452059052059052, 0.8452059052059052, 0.8452059052059052, 0.8452059052059052, 0.8452059052059052, 0.8452059052059052, 0.8452059052059052, 0.8452059052059052, 0.8452059052059052, 0.8452059052059052, 0.8452059052059052, 0.8452059052059052, 0.8452059052059052, 0.8452059052059052, 0.8452059052059052, 0.8452059052059052, 0.8452059052059052, 0.8452059052059052, 0.8452059052059052, 0.8452059052059052, 0.8452059052059052, 0.8452059052059052]}], \"recall_score_macro\": [{\"categories\": [\"0\", \"1\", \"2\", \"3\", \"4\", \"5\", \"6\", \"7\", \"8\", \"9\", \"10\", \"11\", \"12\", \"13\", \"14\", \"15\", \"16\", \"17\", \"18\", \"19\", \"20\", \"21\", \"22\", \"23\", \"24\", \"25\", \"26\", \"27\", \"28\", \"29\", \"30\", \"31\", \"32\", \"33\", \"34\", \"35\", \"36\", \"37\", \"38\", \"39\", \"40\", \"41\", \"42\", \"43\", \"44\", \"45\", \"46\", \"47\", \"51\", \"52\"], \"mode\": \"markers\", \"name\": \"recall_score_macro\", \"stepped\": false, \"type\": \"scatter\", \"data\": [0.8143648018648019, 0.80880439005439, 0.766427738927739, 0.7980264180264179, 0.7814714452214452, 0.8086072261072262, 0.8407915695415694, 0.8291627816627816, 0.7802797202797203, 0.8122659285159285, 0.7904729992229992, 0.8452059052059052, 0.8063267288267287, 0.8297872960372962, 0.8136392773892773, 0.7686557886557887, 0.7886392773892773, 0.8270843045843046, 0.79137432012432, 0.8139753302253302, 0.8136548174048175, 0.8429331779331779, 0.8380672105672105, 0.8376126651126651, 0.8407643745143745, 0.7665889665889665, 0.8186451048951049, 0.8094201631701632, 0.8214054001554002, 0.8188850038850038, 0.8253749028749029, 0.835112665112665, 0.8284790209790209, 0.8195415695415695, 0.8155672105672105, 0.5426903651903652, 0.8214054001554002, 0.8424737762237763, 0.8318220668220668, 0.8448776223776224, 0.8405672105672105, 0.8196377233877234, 0.7798795648795649, 0.8214054001554002, 0.8375543900543901, 0.7856585081585081, 0.8124864024864025, 0.7905953768453767, 0.8449630924630924, 0.7480244755244755]}, {\"categories\": [\"0\", \"1\", \"2\", \"3\", \"4\", \"5\", \"6\", \"7\", \"8\", \"9\", \"10\", \"11\", \"12\", \"13\", \"14\", \"15\", \"16\", \"17\", \"18\", \"19\", \"20\", \"21\", \"22\", \"23\", \"24\", \"25\", \"26\", \"27\", \"28\", \"29\", \"30\", \"31\", \"32\", \"33\", \"34\", \"35\", \"36\", \"37\", \"38\", \"39\", \"40\", \"41\", \"42\", \"43\", \"44\", \"45\", \"46\", \"47\", \"51\", \"52\"], \"mode\": \"lines\", \"name\": \"recall_score_macro_max\", \"stepped\": true, \"type\": \"scatter\", \"data\": [0.8143648018648019, 0.8143648018648019, 0.8143648018648019, 0.8143648018648019, 0.8143648018648019, 0.8143648018648019, 0.8407915695415694, 0.8407915695415694, 0.8407915695415694, 0.8407915695415694, 0.8407915695415694, 0.8452059052059052, 0.8452059052059052, 0.8452059052059052, 0.8452059052059052, 0.8452059052059052, 0.8452059052059052, 0.8452059052059052, 0.8452059052059052, 0.8452059052059052, 0.8452059052059052, 0.8452059052059052, 0.8452059052059052, 0.8452059052059052, 0.8452059052059052, 0.8452059052059052, 0.8452059052059052, 0.8452059052059052, 0.8452059052059052, 0.8452059052059052, 0.8452059052059052, 0.8452059052059052, 0.8452059052059052, 0.8452059052059052, 0.8452059052059052, 0.8452059052059052, 0.8452059052059052, 0.8452059052059052, 0.8452059052059052, 0.8452059052059052, 0.8452059052059052, 0.8452059052059052, 0.8452059052059052, 0.8452059052059052, 0.8452059052059052, 0.8452059052059052, 0.8452059052059052, 0.8452059052059052, 0.8452059052059052, 0.8452059052059052]}], \"AUC_micro\": [{\"categories\": [\"0\", \"1\", \"2\", \"3\", \"4\", \"5\", \"6\", \"7\", \"8\", \"9\", \"10\", \"11\", \"12\", \"13\", \"14\", \"15\", \"16\", \"17\", \"18\", \"19\", \"20\", \"21\", \"22\", \"23\", \"24\", \"25\", \"26\", \"27\", \"28\", \"29\", \"30\", \"31\", \"32\", \"33\", \"34\", \"35\", \"36\", \"37\", \"38\", \"39\", \"40\", \"41\", \"42\", \"43\", \"44\", \"45\", \"46\", \"47\", \"51\", \"52\"], \"mode\": \"markers\", \"name\": \"AUC_micro\", \"stepped\": false, \"type\": \"scatter\", \"data\": [0.9031436817151104, 0.898542943348138, 0.8843579580592568, 0.8932975394014354, 0.8848569179738011, 0.8932010269672608, 0.9133880549464963, 0.9095280260864677, 0.8863580142800922, 0.91065712786492, 0.8867768595041321, 0.9132072112591592, 0.903587357808137, 0.9088430689080038, 0.8998735031202563, 0.8606037180712505, 0.8880666591705554, 0.9097098067877287, 0.8986741252975019, 0.8988455988455989, 0.90292723149866, 0.9031338430689079, 0.9105362530687205, 0.9100021551320252, 0.9096948145649444, 0.8834359363580143, 0.9025542999568973, 0.8904907141920129, 0.9046808530574764, 0.9075429620884166, 0.9098761267592437, 0.9027960495492963, 0.9171220554337438, 0.8984220685519387, 0.9121839920541218, 0.5689745319615449, 0.9056684657334009, 0.9008058319746631, 0.9093823204212814, 0.9094277655965968, 0.9106772736642867, 0.8994199883810271, 0.8848770637731675, 0.9043079215157137, 0.9193193530855867, 0.853205993141058, 0.896310507674144, 0.8647158036768425, 0.9292362399505258, 0.8923848878394331]}, {\"categories\": [\"0\", \"1\", \"2\", \"3\", \"4\", \"5\", \"6\", \"7\", \"8\", \"9\", \"10\", \"11\", \"12\", \"13\", \"14\", \"15\", \"16\", \"17\", \"18\", \"19\", \"20\", \"21\", \"22\", \"23\", \"24\", \"25\", \"26\", \"27\", \"28\", \"29\", \"30\", \"31\", \"32\", \"33\", \"34\", \"35\", \"36\", \"37\", \"38\", \"39\", \"40\", \"41\", \"42\", \"43\", \"44\", \"45\", \"46\", \"47\", \"51\", \"52\"], \"mode\": \"lines\", \"name\": \"AUC_micro_max\", \"stepped\": true, \"type\": \"scatter\", \"data\": [0.9031436817151104, 0.9031436817151104, 0.9031436817151104, 0.9031436817151104, 0.9031436817151104, 0.9031436817151104, 0.9133880549464963, 0.9133880549464963, 0.9133880549464963, 0.9133880549464963, 0.9133880549464963, 0.9133880549464963, 0.9133880549464963, 0.9133880549464963, 0.9133880549464963, 0.9133880549464963, 0.9133880549464963, 0.9133880549464963, 0.9133880549464963, 0.9133880549464963, 0.9133880549464963, 0.9133880549464963, 0.9133880549464963, 0.9133880549464963, 0.9133880549464963, 0.9133880549464963, 0.9133880549464963, 0.9133880549464963, 0.9133880549464963, 0.9133880549464963, 0.9133880549464963, 0.9133880549464963, 0.9171220554337438, 0.9171220554337438, 0.9171220554337438, 0.9171220554337438, 0.9171220554337438, 0.9171220554337438, 0.9171220554337438, 0.9171220554337438, 0.9171220554337438, 0.9171220554337438, 0.9171220554337438, 0.9171220554337438, 0.9193193530855867, 0.9193193530855867, 0.9193193530855867, 0.9193193530855867, 0.9292362399505258, 0.9292362399505258]}], \"precision_score_weighted\": [{\"categories\": [\"0\", \"1\", \"2\", \"3\", \"4\", \"5\", \"6\", \"7\", \"8\", \"9\", \"10\", \"11\", \"12\", \"13\", \"14\", \"15\", \"16\", \"17\", \"18\", \"19\", \"20\", \"21\", \"22\", \"23\", \"24\", \"25\", \"26\", \"27\", \"28\", \"29\", \"30\", \"31\", \"32\", \"33\", \"34\", \"35\", \"36\", \"37\", \"38\", \"39\", \"40\", \"41\", \"42\", \"43\", \"44\", \"45\", \"46\", \"47\", \"51\", \"52\"], \"mode\": \"markers\", \"name\": \"precision_score_weighted\", \"stepped\": false, \"type\": \"scatter\", \"data\": [0.8296707194568157, 0.8263536928510191, 0.7849025513998776, 0.8142266132984238, 0.802598923407747, 0.8277636252636252, 0.8567821067821069, 0.844601787101787, 0.8088579674293961, 0.8225773384864293, 0.80512062012062, 0.8516071230356944, 0.8145903254994163, 0.844079452293738, 0.8253555030827757, 0.7904679249322106, 0.8067658531944246, 0.8422962487248202, 0.8021695896695897, 0.8251423576423577, 0.8256979131979131, 0.8514916564916565, 0.8533383928551996, 0.8531643064798147, 0.8632238132238133, 0.7793586043586044, 0.8241931865633164, 0.8229517031789758, 0.8368173493173492, 0.8260057619148528, 0.8348963073963074, 0.8512579814365528, 0.8505463932411985, 0.8335461297961297, 0.8320725951608304, 0.4433228604007825, 0.8368173493173492, 0.8532642706019329, 0.8422864172864173, 0.8577432752432752, 0.8550757131276612, 0.8372469197469197, 0.7925491175491176, 0.8368173493173492, 0.8529155049743284, 0.8126150646738882, 0.8243762802853712, 0.8142278037866273, 0.8537311762311763, 0.7234931446619759]}, {\"categories\": [\"0\", \"1\", \"2\", \"3\", \"4\", \"5\", \"6\", \"7\", \"8\", \"9\", \"10\", \"11\", \"12\", \"13\", \"14\", \"15\", \"16\", \"17\", \"18\", \"19\", \"20\", \"21\", \"22\", \"23\", \"24\", \"25\", \"26\", \"27\", \"28\", \"29\", \"30\", \"31\", \"32\", \"33\", \"34\", \"35\", \"36\", \"37\", \"38\", \"39\", \"40\", \"41\", \"42\", \"43\", \"44\", \"45\", \"46\", \"47\", \"51\", \"52\"], \"mode\": \"lines\", \"name\": \"precision_score_weighted_max\", \"stepped\": true, \"type\": \"scatter\", \"data\": [0.8296707194568157, 0.8296707194568157, 0.8296707194568157, 0.8296707194568157, 0.8296707194568157, 0.8296707194568157, 0.8567821067821069, 0.8567821067821069, 0.8567821067821069, 0.8567821067821069, 0.8567821067821069, 0.8567821067821069, 0.8567821067821069, 0.8567821067821069, 0.8567821067821069, 0.8567821067821069, 0.8567821067821069, 0.8567821067821069, 0.8567821067821069, 0.8567821067821069, 0.8567821067821069, 0.8567821067821069, 0.8567821067821069, 0.8567821067821069, 0.8632238132238133, 0.8632238132238133, 0.8632238132238133, 0.8632238132238133, 0.8632238132238133, 0.8632238132238133, 0.8632238132238133, 0.8632238132238133, 0.8632238132238133, 0.8632238132238133, 0.8632238132238133, 0.8632238132238133, 0.8632238132238133, 0.8632238132238133, 0.8632238132238133, 0.8632238132238133, 0.8632238132238133, 0.8632238132238133, 0.8632238132238133, 0.8632238132238133, 0.8632238132238133, 0.8632238132238133, 0.8632238132238133, 0.8632238132238133, 0.8632238132238133, 0.8632238132238133]}], \"AUC_weighted\": [{\"categories\": [\"0\", \"1\", \"2\", \"3\", \"4\", \"5\", \"6\", \"7\", \"8\", \"9\", \"10\", \"11\", \"12\", \"13\", \"14\", \"15\", \"16\", \"17\", \"18\", \"19\", \"20\", \"21\", \"22\", \"23\", \"24\", \"25\", \"26\", \"27\", \"28\", \"29\", \"30\", \"31\", \"32\", \"33\", \"34\", \"35\", \"36\", \"37\", \"38\", \"39\", \"40\", \"41\", \"42\", \"43\", \"44\", \"45\", \"46\", \"47\", \"51\", \"52\"], \"mode\": \"markers\", \"name\": \"AUC_weighted\", \"stepped\": false, \"type\": \"scatter\", \"data\": [0.9022565397565397, 0.9043628593628593, 0.8902810152810152, 0.8954998704998705, 0.8898225848225849, 0.8990109427609427, 0.9127337477337477, 0.9118006993006993, 0.9006190106190106, 0.9142747992747994, 0.8897487697487698, 0.913229733229733, 0.9097779072779074, 0.9084317534317534, 0.9094509194509195, 0.855943500943501, 0.9046270396270397, 0.9051702926702928, 0.9042204092204094, 0.9032504532504533, 0.9081766381766382, 0.9034751359751361, 0.9106617456617456, 0.9086926961926963, 0.90504403004403, 0.8917948717948716, 0.9013247863247862, 0.8999559699559698, 0.9090669515669516, 0.9088332038332039, 0.9127246827246827, 0.9018971768971769, 0.9244871794871795, 0.8946963221963221, 0.9104532504532503, 0.611807498057498, 0.9099928774928776, 0.8998264698264699, 0.9136221186221187, 0.909379046879047, 0.9132077182077183, 0.8980549080549081, 0.8844340844340843, 0.909031339031339, 0.9226903651903651, 0.8556076793576795, 0.9002732452732453, 0.8659796684796686, 0.9389044289044289, 0.9267534317534318]}, {\"categories\": [\"0\", \"1\", \"2\", \"3\", \"4\", \"5\", \"6\", \"7\", \"8\", \"9\", \"10\", \"11\", \"12\", \"13\", \"14\", \"15\", \"16\", \"17\", \"18\", \"19\", \"20\", \"21\", \"22\", \"23\", \"24\", \"25\", \"26\", \"27\", \"28\", \"29\", \"30\", \"31\", \"32\", \"33\", \"34\", \"35\", \"36\", \"37\", \"38\", \"39\", \"40\", \"41\", \"42\", \"43\", \"44\", \"45\", \"46\", \"47\", \"51\", \"52\"], \"mode\": \"lines\", \"name\": \"AUC_weighted_max\", \"stepped\": true, \"type\": \"scatter\", \"data\": [0.9022565397565397, 0.9043628593628593, 0.9043628593628593, 0.9043628593628593, 0.9043628593628593, 0.9043628593628593, 0.9127337477337477, 0.9127337477337477, 0.9127337477337477, 0.9142747992747994, 0.9142747992747994, 0.9142747992747994, 0.9142747992747994, 0.9142747992747994, 0.9142747992747994, 0.9142747992747994, 0.9142747992747994, 0.9142747992747994, 0.9142747992747994, 0.9142747992747994, 0.9142747992747994, 0.9142747992747994, 0.9142747992747994, 0.9142747992747994, 0.9142747992747994, 0.9142747992747994, 0.9142747992747994, 0.9142747992747994, 0.9142747992747994, 0.9142747992747994, 0.9142747992747994, 0.9142747992747994, 0.9244871794871795, 0.9244871794871795, 0.9244871794871795, 0.9244871794871795, 0.9244871794871795, 0.9244871794871795, 0.9244871794871795, 0.9244871794871795, 0.9244871794871795, 0.9244871794871795, 0.9244871794871795, 0.9244871794871795, 0.9244871794871795, 0.9244871794871795, 0.9244871794871795, 0.9244871794871795, 0.9389044289044289, 0.9389044289044289]}], \"accuracy\": [{\"categories\": [\"0\", \"1\", \"2\", \"3\", \"4\", \"5\", \"6\", \"7\", \"8\", \"9\", \"10\", \"11\", \"12\", \"13\", \"14\", \"15\", \"16\", \"17\", \"18\", \"19\", \"20\", \"21\", \"22\", \"23\", \"24\", \"25\", \"26\", \"27\", \"28\", \"29\", \"30\", \"31\", \"32\", \"33\", \"34\", \"35\", \"36\", \"37\", \"38\", \"39\", \"40\", \"41\", \"42\", \"43\", \"44\", \"45\", \"46\", \"47\", \"51\", \"52\"], \"mode\": \"markers\", \"name\": \"accuracy\", \"stepped\": false, \"type\": \"scatter\", \"data\": [0.825108225108225, 0.8203463203463203, 0.7777056277056277, 0.806060606060606, 0.7922077922077922, 0.8073593073593074, 0.8398268398268398, 0.83008658008658, 0.7926406926406926, 0.811038961038961, 0.7922077922077921, 0.8389610389610389, 0.8062770562770563, 0.8391774891774892, 0.8106060606060606, 0.7829004329004328, 0.7876623376623376, 0.83008658008658, 0.7922077922077922, 0.8108225108225108, 0.8108225108225108, 0.8439393939393938, 0.8487012987012987, 0.8482683982683984, 0.8534632034632035, 0.7638528138528138, 0.8199134199134199, 0.8153679653679653, 0.8205627705627705, 0.8203463203463203, 0.825108225108225, 0.8393939393939395, 0.8346320346320345, 0.8203463203463203, 0.8246753246753247, 0.5432900432900433, 0.8205627705627705, 0.8437229437229437, 0.8346320346320347, 0.8482683982683984, 0.8393939393939395, 0.8255411255411256, 0.7829004329004329, 0.8205627705627705, 0.8437229437229437, 0.7969696969696971, 0.8158008658008657, 0.8012987012987013, 0.843939393939394, 0.7835497835497836]}, {\"categories\": [\"0\", \"1\", \"2\", \"3\", \"4\", \"5\", \"6\", \"7\", \"8\", \"9\", \"10\", \"11\", \"12\", \"13\", \"14\", \"15\", \"16\", \"17\", \"18\", \"19\", \"20\", \"21\", \"22\", \"23\", \"24\", \"25\", \"26\", \"27\", \"28\", \"29\", \"30\", \"31\", \"32\", \"33\", \"34\", \"35\", \"36\", \"37\", \"38\", \"39\", \"40\", \"41\", \"42\", \"43\", \"44\", \"45\", \"46\", \"47\", \"51\", \"52\"], \"mode\": \"lines\", \"name\": \"accuracy_max\", \"stepped\": true, \"type\": \"scatter\", \"data\": [0.825108225108225, 0.825108225108225, 0.825108225108225, 0.825108225108225, 0.825108225108225, 0.825108225108225, 0.8398268398268398, 0.8398268398268398, 0.8398268398268398, 0.8398268398268398, 0.8398268398268398, 0.8398268398268398, 0.8398268398268398, 0.8398268398268398, 0.8398268398268398, 0.8398268398268398, 0.8398268398268398, 0.8398268398268398, 0.8398268398268398, 0.8398268398268398, 0.8398268398268398, 0.8439393939393938, 0.8487012987012987, 0.8487012987012987, 0.8534632034632035, 0.8534632034632035, 0.8534632034632035, 0.8534632034632035, 0.8534632034632035, 0.8534632034632035, 0.8534632034632035, 0.8534632034632035, 0.8534632034632035, 0.8534632034632035, 0.8534632034632035, 0.8534632034632035, 0.8534632034632035, 0.8534632034632035, 0.8534632034632035, 0.8534632034632035, 0.8534632034632035, 0.8534632034632035, 0.8534632034632035, 0.8534632034632035, 0.8534632034632035, 0.8534632034632035, 0.8534632034632035, 0.8534632034632035, 0.8534632034632035, 0.8534632034632035]}], \"average_precision_score_micro\": [{\"categories\": [\"0\", \"1\", \"2\", \"3\", \"4\", \"5\", \"6\", \"7\", \"8\", \"9\", \"10\", \"11\", \"12\", \"13\", \"14\", \"15\", \"16\", \"17\", \"18\", \"19\", \"20\", \"21\", \"22\", \"23\", \"24\", \"25\", \"26\", \"27\", \"28\", \"29\", \"30\", \"31\", \"32\", \"33\", \"34\", \"35\", \"36\", \"37\", \"38\", \"39\", \"40\", \"41\", \"42\", \"43\", \"44\", \"45\", \"46\", \"47\", \"51\", \"52\"], \"mode\": \"markers\", \"name\": \"average_precision_score_micro\", \"stepped\": false, \"type\": \"scatter\", \"data\": [0.9073325920366461, 0.9024024779842689, 0.8947310911953543, 0.8987074490182654, 0.8902749022193444, 0.8967747833561195, 0.9164726333483723, 0.9109654960715053, 0.8945375633443863, 0.9150554703185427, 0.8921989213143371, 0.9159321159480427, 0.9106768895038027, 0.9112698044742851, 0.9068565111289552, 0.8475190310942313, 0.8912795729393281, 0.9090600034154651, 0.9061593442141112, 0.9069115448555918, 0.9107002488407276, 0.9082318966400331, 0.909522257159257, 0.9112788671816642, 0.9093281469027715, 0.8936349026441611, 0.9062239432489442, 0.8898400938674923, 0.9112709664787202, 0.9106269369199916, 0.9136810893952212, 0.904736922090436, 0.9178266155965293, 0.9016148565296296, 0.914824276886758, 0.5702514772571242, 0.9124899462654428, 0.904574644250606, 0.91052578201807, 0.9100484765189494, 0.9153114900288453, 0.9014793697054, 0.8903651774098428, 0.9108413386085721, 0.9239715511040654, 0.8508908640993044, 0.9042649517158106, 0.8539124041229036, 0.9327391668304588, 0.9014370402892954]}, {\"categories\": [\"0\", \"1\", \"2\", \"3\", \"4\", \"5\", \"6\", \"7\", \"8\", \"9\", \"10\", \"11\", \"12\", \"13\", \"14\", \"15\", \"16\", \"17\", \"18\", \"19\", \"20\", \"21\", \"22\", \"23\", \"24\", \"25\", \"26\", \"27\", \"28\", \"29\", \"30\", \"31\", \"32\", \"33\", \"34\", \"35\", \"36\", \"37\", \"38\", \"39\", \"40\", \"41\", \"42\", \"43\", \"44\", \"45\", \"46\", \"47\", \"51\", \"52\"], \"mode\": \"lines\", \"name\": \"average_precision_score_micro_max\", \"stepped\": true, \"type\": \"scatter\", \"data\": [0.9073325920366461, 0.9073325920366461, 0.9073325920366461, 0.9073325920366461, 0.9073325920366461, 0.9073325920366461, 0.9164726333483723, 0.9164726333483723, 0.9164726333483723, 0.9164726333483723, 0.9164726333483723, 0.9164726333483723, 0.9164726333483723, 0.9164726333483723, 0.9164726333483723, 0.9164726333483723, 0.9164726333483723, 0.9164726333483723, 0.9164726333483723, 0.9164726333483723, 0.9164726333483723, 0.9164726333483723, 0.9164726333483723, 0.9164726333483723, 0.9164726333483723, 0.9164726333483723, 0.9164726333483723, 0.9164726333483723, 0.9164726333483723, 0.9164726333483723, 0.9164726333483723, 0.9164726333483723, 0.9178266155965293, 0.9178266155965293, 0.9178266155965293, 0.9178266155965293, 0.9178266155965293, 0.9178266155965293, 0.9178266155965293, 0.9178266155965293, 0.9178266155965293, 0.9178266155965293, 0.9178266155965293, 0.9178266155965293, 0.9239715511040654, 0.9239715511040654, 0.9239715511040654, 0.9239715511040654, 0.9327391668304588, 0.9327391668304588]}], \"log_loss\": [{\"categories\": [\"0\", \"1\", \"2\", \"3\", \"4\", \"5\", \"6\", \"7\", \"8\", \"9\", \"10\", \"11\", \"12\", \"13\", \"14\", \"15\", \"16\", \"17\", \"18\", \"19\", \"20\", \"21\", \"22\", \"23\", \"24\", \"25\", \"26\", \"27\", \"28\", \"29\", \"30\", \"31\", \"32\", \"33\", \"34\", \"35\", \"36\", \"37\", \"38\", \"39\", \"40\", \"41\", \"42\", \"43\", \"44\", \"45\", \"46\", \"47\", \"51\", \"52\"], \"mode\": \"markers\", \"name\": \"log_loss\", \"stepped\": false, \"type\": \"scatter\", \"data\": [0.4629137080002096, 0.4416340008966294, 0.43146737319915696, 0.4192715785993794, 0.45610436985045577, 0.4336293776430472, 0.39549951989828613, 0.42501746332883983, 0.5139543165006935, 0.4648231696575234, 0.4698633077090439, 0.4334656061044454, 0.5701892974204754, 0.4997851744035152, 0.3983640830079514, 0.9298955290085911, 0.4463120790601948, 0.4017482398514217, 0.472630577168923, 0.4745692604852225, 0.4561837633083569, 0.39825790158509355, 0.3882439917771617, 0.39726156569825205, 0.39276501290657767, 0.5245103924624677, 0.5322487578273906, 0.4653252087856911, 0.45423031716770534, 0.492488306601908, 0.5056260536915635, 0.4485801475824781, 0.4788049151850031, 0.42470634367476406, 0.383383893833007, 0.6897892054083423, 0.46149292854770463, 0.4062846021959102, 0.3878897748059337, 0.39301251658191005, 0.39390332931260297, 0.4484479179025341, 0.4310573943386619, 0.4679335988546767, 0.37809035398031166, 0.479956413815717, 0.4085787641686494, 0.5120859292009166, 0.4382156340651412, 0.47127397429023493]}, {\"categories\": [\"0\", \"1\", \"2\", \"3\", \"4\", \"5\", \"6\", \"7\", \"8\", \"9\", \"10\", \"11\", \"12\", \"13\", \"14\", \"15\", \"16\", \"17\", \"18\", \"19\", \"20\", \"21\", \"22\", \"23\", \"24\", \"25\", \"26\", \"27\", \"28\", \"29\", \"30\", \"31\", \"32\", \"33\", \"34\", \"35\", \"36\", \"37\", \"38\", \"39\", \"40\", \"41\", \"42\", \"43\", \"44\", \"45\", \"46\", \"47\", \"51\", \"52\"], \"mode\": \"lines\", \"name\": \"log_loss_min\", \"stepped\": true, \"type\": \"scatter\", \"data\": [0.4629137080002096, 0.4416340008966294, 0.43146737319915696, 0.4192715785993794, 0.4192715785993794, 0.4192715785993794, 0.39549951989828613, 0.39549951989828613, 0.39549951989828613, 0.39549951989828613, 0.39549951989828613, 0.39549951989828613, 0.39549951989828613, 0.39549951989828613, 0.39549951989828613, 0.39549951989828613, 0.39549951989828613, 0.39549951989828613, 0.39549951989828613, 0.39549951989828613, 0.39549951989828613, 0.39549951989828613, 0.3882439917771617, 0.3882439917771617, 0.3882439917771617, 0.3882439917771617, 0.3882439917771617, 0.3882439917771617, 0.3882439917771617, 0.3882439917771617, 0.3882439917771617, 0.3882439917771617, 0.3882439917771617, 0.3882439917771617, 0.383383893833007, 0.383383893833007, 0.383383893833007, 0.383383893833007, 0.383383893833007, 0.383383893833007, 0.383383893833007, 0.383383893833007, 0.383383893833007, 0.383383893833007, 0.37809035398031166, 0.37809035398031166, 0.37809035398031166, 0.37809035398031166, 0.37809035398031166, 0.37809035398031166]}], \"precision_score_macro\": [{\"categories\": [\"0\", \"1\", \"2\", \"3\", \"4\", \"5\", \"6\", \"7\", \"8\", \"9\", \"10\", \"11\", \"12\", \"13\", \"14\", \"15\", \"16\", \"17\", \"18\", \"19\", \"20\", \"21\", \"22\", \"23\", \"24\", \"25\", \"26\", \"27\", \"28\", \"29\", \"30\", \"31\", \"32\", \"33\", \"34\", \"35\", \"36\", \"37\", \"38\", \"39\", \"40\", \"41\", \"42\", \"43\", \"44\", \"45\", \"46\", \"47\", \"51\", \"52\"], \"mode\": \"markers\", \"name\": \"precision_score_macro\", \"stepped\": false, \"type\": \"scatter\", \"data\": [0.8264486493898259, 0.8194216975834623, 0.7753722747840396, 0.8092021458933225, 0.8003928995840759, 0.8172220834720836, 0.846249444999445, 0.8357919857919859, 0.8040205627705628, 0.8107362082362082, 0.7936674436674436, 0.8391741591741593, 0.8035897435897436, 0.8395297757797758, 0.8125087412587412, 0.7855912837162837, 0.7928384115884116, 0.8329198579198579, 0.790793512043512, 0.8122086247086248, 0.8128904428904429, 0.8423348873348873, 0.84701299517476, 0.8467932149549797, 0.8618666056166056, 0.7633725996225995, 0.8126751026751027, 0.8143337218337219, 0.8261546786546786, 0.8164413364413363, 0.8247513597513597, 0.846620115995116, 0.8477491952491952, 0.8263680069930069, 0.8240096096713744, 0.4152228327228327, 0.8261546786546786, 0.84497446997447, 0.8335886335886336, 0.8483071095571096, 0.8437477799977801, 0.8288455988455989, 0.7815534465534466, 0.8261546786546786, 0.8480753560165326, 0.8121690401102166, 0.8165996503496503, 0.8134639951551718, 0.8427797202797203, 0.6928550616050615]}, {\"categories\": [\"0\", \"1\", \"2\", \"3\", \"4\", \"5\", \"6\", \"7\", \"8\", \"9\", \"10\", \"11\", \"12\", \"13\", \"14\", \"15\", \"16\", \"17\", \"18\", \"19\", \"20\", \"21\", \"22\", \"23\", \"24\", \"25\", \"26\", \"27\", \"28\", \"29\", \"30\", \"31\", \"32\", \"33\", \"34\", \"35\", \"36\", \"37\", \"38\", \"39\", \"40\", \"41\", \"42\", \"43\", \"44\", \"45\", \"46\", \"47\", \"51\", \"52\"], \"mode\": \"lines\", \"name\": \"precision_score_macro_max\", \"stepped\": true, \"type\": \"scatter\", \"data\": [0.8264486493898259, 0.8264486493898259, 0.8264486493898259, 0.8264486493898259, 0.8264486493898259, 0.8264486493898259, 0.846249444999445, 0.846249444999445, 0.846249444999445, 0.846249444999445, 0.846249444999445, 0.846249444999445, 0.846249444999445, 0.846249444999445, 0.846249444999445, 0.846249444999445, 0.846249444999445, 0.846249444999445, 0.846249444999445, 0.846249444999445, 0.846249444999445, 0.846249444999445, 0.84701299517476, 0.84701299517476, 0.8618666056166056, 0.8618666056166056, 0.8618666056166056, 0.8618666056166056, 0.8618666056166056, 0.8618666056166056, 0.8618666056166056, 0.8618666056166056, 0.8618666056166056, 0.8618666056166056, 0.8618666056166056, 0.8618666056166056, 0.8618666056166056, 0.8618666056166056, 0.8618666056166056, 0.8618666056166056, 0.8618666056166056, 0.8618666056166056, 0.8618666056166056, 0.8618666056166056, 0.8618666056166056, 0.8618666056166056, 0.8618666056166056, 0.8618666056166056, 0.8618666056166056, 0.8618666056166056]}], \"weighted_accuracy\": [{\"categories\": [\"0\", \"1\", \"2\", \"3\", \"4\", \"5\", \"6\", \"7\", \"8\", \"9\", \"10\", \"11\", \"12\", \"13\", \"14\", \"15\", \"16\", \"17\", \"18\", \"19\", \"20\", \"21\", \"22\", \"23\", \"24\", \"25\", \"26\", \"27\", \"28\", \"29\", \"30\", \"31\", \"32\", \"33\", \"34\", \"35\", \"36\", \"37\", \"38\", \"39\", \"40\", \"41\", \"42\", \"43\", \"44\", \"45\", \"46\", \"47\", \"51\", \"52\"], \"mode\": \"markers\", \"name\": \"weighted_accuracy\", \"stepped\": false, \"type\": \"scatter\", \"data\": [0.8334267149232565, 0.8289066515512522, 0.7857309154041883, 0.8117107897813278, 0.80038708296734, 0.8066647258788142, 0.8382471868001502, 0.830465668276597, 0.8025426539845812, 0.8093603554954761, 0.792339848255456, 0.8334292460108926, 0.8057518132340684, 0.8464457681539537, 0.8073232059396821, 0.7949106275364552, 0.7864403058781975, 0.8315760198015065, 0.7925163132631986, 0.8074015572122143, 0.8076476230205119, 0.8443813718594171, 0.8563856942860119, 0.8560434832857157, 0.862625353773336, 0.7613824667433452, 0.8209406093095408, 0.8195242420809631, 0.8191118298907968, 0.8212266207281955, 0.824361076629093, 0.8425485373507936, 0.8393215331179512, 0.8202499828547133, 0.8309718219351729, 0.5440031514525541, 0.8191118298907968, 0.8450343055133832, 0.8367966724058652, 0.8501115685985787, 0.8380922094580676, 0.8295689370838065, 0.7849431001605421, 0.8191118298907968, 0.8478215068940257, 0.8055438614737082, 0.8181207954258227, 0.8091985536123498, 0.8425353060511196, 0.8116721704034727]}, {\"categories\": [\"0\", \"1\", \"2\", \"3\", \"4\", \"5\", \"6\", \"7\", \"8\", \"9\", \"10\", \"11\", \"12\", \"13\", \"14\", \"15\", \"16\", \"17\", \"18\", \"19\", \"20\", \"21\", \"22\", \"23\", \"24\", \"25\", \"26\", \"27\", \"28\", \"29\", \"30\", \"31\", \"32\", \"33\", \"34\", \"35\", \"36\", \"37\", \"38\", \"39\", \"40\", \"41\", \"42\", \"43\", \"44\", \"45\", \"46\", \"47\", \"51\", \"52\"], \"mode\": \"lines\", \"name\": \"weighted_accuracy_max\", \"stepped\": true, \"type\": \"scatter\", \"data\": [0.8334267149232565, 0.8334267149232565, 0.8334267149232565, 0.8334267149232565, 0.8334267149232565, 0.8334267149232565, 0.8382471868001502, 0.8382471868001502, 0.8382471868001502, 0.8382471868001502, 0.8382471868001502, 0.8382471868001502, 0.8382471868001502, 0.8464457681539537, 0.8464457681539537, 0.8464457681539537, 0.8464457681539537, 0.8464457681539537, 0.8464457681539537, 0.8464457681539537, 0.8464457681539537, 0.8464457681539537, 0.8563856942860119, 0.8563856942860119, 0.862625353773336, 0.862625353773336, 0.862625353773336, 0.862625353773336, 0.862625353773336, 0.862625353773336, 0.862625353773336, 0.862625353773336, 0.862625353773336, 0.862625353773336, 0.862625353773336, 0.862625353773336, 0.862625353773336, 0.862625353773336, 0.862625353773336, 0.862625353773336, 0.862625353773336, 0.862625353773336, 0.862625353773336, 0.862625353773336, 0.862625353773336, 0.862625353773336, 0.862625353773336, 0.862625353773336, 0.862625353773336, 0.862625353773336]}], \"f1_score_macro\": [{\"categories\": [\"0\", \"1\", \"2\", \"3\", \"4\", \"5\", \"6\", \"7\", \"8\", \"9\", \"10\", \"11\", \"12\", \"13\", \"14\", \"15\", \"16\", \"17\", \"18\", \"19\", \"20\", \"21\", \"22\", \"23\", \"24\", \"25\", \"26\", \"27\", \"28\", \"29\", \"30\", \"31\", \"32\", \"33\", \"34\", \"35\", \"36\", \"37\", \"38\", \"39\", \"40\", \"41\", \"42\", \"43\", \"44\", \"45\", \"46\", \"47\", \"51\", \"52\"], \"mode\": \"markers\", \"name\": \"f1_score_macro\", \"stepped\": false, \"type\": \"scatter\", \"data\": [0.8163543841200154, 0.8081297748705879, 0.7647429030900897, 0.7975108924773248, 0.7829649302870296, 0.80017964878259, 0.8343920833096699, 0.8242831582948693, 0.7789940977526084, 0.8060692963129361, 0.7851092955337436, 0.8359460696526204, 0.8010685752978122, 0.831136598709721, 0.8059073189639214, 0.7706615172484599, 0.7800882457586787, 0.8228852540579524, 0.7861093312992626, 0.8067495946717914, 0.8064701192452572, 0.8387429175982479, 0.8379591705911533, 0.837611454891708, 0.8421925233424089, 0.7578158180268154, 0.8140334782867285, 0.8072259573265059, 0.8154697894274554, 0.8150488488717725, 0.8201919850389363, 0.833514820066441, 0.8273129670499625, 0.8157066359232186, 0.813667279333789, 0.4213471544322981, 0.8154697894274554, 0.837869689032896, 0.8280438280404627, 0.8412375032916459, 0.8333729572109094, 0.8171870634718227, 0.7757367890107828, 0.8154697894274554, 0.8362636674228241, 0.7872961066711067, 0.8094770904713361, 0.7925303765254802, 0.8391244280390195, 0.7090799678888587]}, {\"categories\": [\"0\", \"1\", \"2\", \"3\", \"4\", \"5\", \"6\", \"7\", \"8\", \"9\", \"10\", \"11\", \"12\", \"13\", \"14\", \"15\", \"16\", \"17\", \"18\", \"19\", \"20\", \"21\", \"22\", \"23\", \"24\", \"25\", \"26\", \"27\", \"28\", \"29\", \"30\", \"31\", \"32\", \"33\", \"34\", \"35\", \"36\", \"37\", \"38\", \"39\", \"40\", \"41\", \"42\", \"43\", \"44\", \"45\", \"46\", \"47\", \"51\", \"52\"], \"mode\": \"lines\", \"name\": \"f1_score_macro_max\", \"stepped\": true, \"type\": \"scatter\", \"data\": [0.8163543841200154, 0.8163543841200154, 0.8163543841200154, 0.8163543841200154, 0.8163543841200154, 0.8163543841200154, 0.8343920833096699, 0.8343920833096699, 0.8343920833096699, 0.8343920833096699, 0.8343920833096699, 0.8359460696526204, 0.8359460696526204, 0.8359460696526204, 0.8359460696526204, 0.8359460696526204, 0.8359460696526204, 0.8359460696526204, 0.8359460696526204, 0.8359460696526204, 0.8359460696526204, 0.8387429175982479, 0.8387429175982479, 0.8387429175982479, 0.8421925233424089, 0.8421925233424089, 0.8421925233424089, 0.8421925233424089, 0.8421925233424089, 0.8421925233424089, 0.8421925233424089, 0.8421925233424089, 0.8421925233424089, 0.8421925233424089, 0.8421925233424089, 0.8421925233424089, 0.8421925233424089, 0.8421925233424089, 0.8421925233424089, 0.8421925233424089, 0.8421925233424089, 0.8421925233424089, 0.8421925233424089, 0.8421925233424089, 0.8421925233424089, 0.8421925233424089, 0.8421925233424089, 0.8421925233424089, 0.8421925233424089, 0.8421925233424089]}], \"average_precision_score_weighted\": [{\"categories\": [\"0\", \"1\", \"2\", \"3\", \"4\", \"5\", \"6\", \"7\", \"8\", \"9\", \"10\", \"11\", \"12\", \"13\", \"14\", \"15\", \"16\", \"17\", \"18\", \"19\", \"20\", \"21\", \"22\", \"23\", \"24\", \"25\", \"26\", \"27\", \"28\", \"29\", \"30\", \"31\", \"32\", \"33\", \"34\", \"35\", \"36\", \"37\", \"38\", \"39\", \"40\", \"41\", \"42\", \"43\", \"44\", \"45\", \"46\", \"47\", \"51\", \"52\"], \"mode\": \"markers\", \"name\": \"average_precision_score_weighted\", \"stepped\": false, \"type\": \"scatter\", \"data\": [0.9133794544518379, 0.9170518557631059, 0.9063783713650528, 0.9085494148306761, 0.9006006744942654, 0.9054705052277022, 0.9226890482430317, 0.9202638412419132, 0.9131315767813094, 0.9229283326164733, 0.9023186727913115, 0.9197639897517768, 0.9203880386235086, 0.9179628315972854, 0.9210467515841243, 0.8467990362627692, 0.9114660559390366, 0.9133169438221003, 0.9151488925520427, 0.9172616521337421, 0.9205916951066421, 0.9147084694917511, 0.9177216409189641, 0.9178455792856098, 0.9133945841602349, 0.9070540303846414, 0.9101869314559042, 0.9069432918176433, 0.9205174940362006, 0.9170849072305337, 0.9231752149189125, 0.9105452998574505, 0.9302034619404248, 0.905556279393605, 0.9186887885389151, 0.6071636077018852, 0.921175962551812, 0.9103077987662946, 0.9206229928733297, 0.9176498906053911, 0.9230526295497548, 0.9075816900019283, 0.8973900701681803, 0.9204375475276827, 0.9324299913137313, 0.8685064308269045, 0.9110452600029317, 0.8638010275815603, 0.9456311547382473, 0.9357726075897842]}, {\"categories\": [\"0\", \"1\", \"2\", \"3\", \"4\", \"5\", \"6\", \"7\", \"8\", \"9\", \"10\", \"11\", \"12\", \"13\", \"14\", \"15\", \"16\", \"17\", \"18\", \"19\", \"20\", \"21\", \"22\", \"23\", \"24\", \"25\", \"26\", \"27\", \"28\", \"29\", \"30\", \"31\", \"32\", \"33\", \"34\", \"35\", \"36\", \"37\", \"38\", \"39\", \"40\", \"41\", \"42\", \"43\", \"44\", \"45\", \"46\", \"47\", \"51\", \"52\"], \"mode\": \"lines\", \"name\": \"average_precision_score_weighted_max\", \"stepped\": true, \"type\": \"scatter\", \"data\": [0.9133794544518379, 0.9170518557631059, 0.9170518557631059, 0.9170518557631059, 0.9170518557631059, 0.9170518557631059, 0.9226890482430317, 0.9226890482430317, 0.9226890482430317, 0.9229283326164733, 0.9229283326164733, 0.9229283326164733, 0.9229283326164733, 0.9229283326164733, 0.9229283326164733, 0.9229283326164733, 0.9229283326164733, 0.9229283326164733, 0.9229283326164733, 0.9229283326164733, 0.9229283326164733, 0.9229283326164733, 0.9229283326164733, 0.9229283326164733, 0.9229283326164733, 0.9229283326164733, 0.9229283326164733, 0.9229283326164733, 0.9229283326164733, 0.9229283326164733, 0.9231752149189125, 0.9231752149189125, 0.9302034619404248, 0.9302034619404248, 0.9302034619404248, 0.9302034619404248, 0.9302034619404248, 0.9302034619404248, 0.9302034619404248, 0.9302034619404248, 0.9302034619404248, 0.9302034619404248, 0.9302034619404248, 0.9302034619404248, 0.9324299913137313, 0.9324299913137313, 0.9324299913137313, 0.9324299913137313, 0.9456311547382473, 0.9456311547382473]}], \"average_precision_score_macro\": [{\"categories\": [\"0\", \"1\", \"2\", \"3\", \"4\", \"5\", \"6\", \"7\", \"8\", \"9\", \"10\", \"11\", \"12\", \"13\", \"14\", \"15\", \"16\", \"17\", \"18\", \"19\", \"20\", \"21\", \"22\", \"23\", \"24\", \"25\", \"26\", \"27\", \"28\", \"29\", \"30\", \"31\", \"32\", \"33\", \"34\", \"35\", \"36\", \"37\", \"38\", \"39\", \"40\", \"41\", \"42\", \"43\", \"44\", \"45\", \"46\", \"47\", \"51\", \"52\"], \"mode\": \"markers\", \"name\": \"average_precision_score_macro\", \"stepped\": false, \"type\": \"scatter\", \"data\": [0.9074919254921483, 0.9111170271929934, 0.9005276495522223, 0.9044883288772964, 0.8958113784189805, 0.8999625960962374, 0.9191571237000788, 0.9171393327600124, 0.90928247064561, 0.9186513690590019, 0.8979357807213271, 0.9159125565256275, 0.9154409265782262, 0.9143166181299923, 0.9160711550288999, 0.8416549097885897, 0.905816573350996, 0.9089857999603261, 0.9118662893235914, 0.9122404059735005, 0.9157540875080153, 0.9114573941937882, 0.9146604594410656, 0.914545292254594, 0.9089997739870064, 0.9026366875789911, 0.9053937206550386, 0.9025720394945468, 0.9156325630772804, 0.9133061100078702, 0.9204307160916665, 0.9069719940371952, 0.9289118841839501, 0.9027485252553671, 0.9140285110744356, 0.5905862349151823, 0.9163244637691811, 0.9067095186482514, 0.9178461585197226, 0.9137327732575444, 0.9188406271986264, 0.9020686956245555, 0.8938427689676347, 0.9156223880671053, 0.9290174625976066, 0.8644283291821429, 0.9067534864418493, 0.8608860973524408, 0.9437821644880154, 0.9332963004955055]}, {\"categories\": [\"0\", \"1\", \"2\", \"3\", \"4\", \"5\", \"6\", \"7\", \"8\", \"9\", \"10\", \"11\", \"12\", \"13\", \"14\", \"15\", \"16\", \"17\", \"18\", \"19\", \"20\", \"21\", \"22\", \"23\", \"24\", \"25\", \"26\", \"27\", \"28\", \"29\", \"30\", \"31\", \"32\", \"33\", \"34\", \"35\", \"36\", \"37\", \"38\", \"39\", \"40\", \"41\", \"42\", \"43\", \"44\", \"45\", \"46\", \"47\", \"51\", \"52\"], \"mode\": \"lines\", \"name\": \"average_precision_score_macro_max\", \"stepped\": true, \"type\": \"scatter\", \"data\": [0.9074919254921483, 0.9111170271929934, 0.9111170271929934, 0.9111170271929934, 0.9111170271929934, 0.9111170271929934, 0.9191571237000788, 0.9191571237000788, 0.9191571237000788, 0.9191571237000788, 0.9191571237000788, 0.9191571237000788, 0.9191571237000788, 0.9191571237000788, 0.9191571237000788, 0.9191571237000788, 0.9191571237000788, 0.9191571237000788, 0.9191571237000788, 0.9191571237000788, 0.9191571237000788, 0.9191571237000788, 0.9191571237000788, 0.9191571237000788, 0.9191571237000788, 0.9191571237000788, 0.9191571237000788, 0.9191571237000788, 0.9191571237000788, 0.9191571237000788, 0.9204307160916665, 0.9204307160916665, 0.9289118841839501, 0.9289118841839501, 0.9289118841839501, 0.9289118841839501, 0.9289118841839501, 0.9289118841839501, 0.9289118841839501, 0.9289118841839501, 0.9289118841839501, 0.9289118841839501, 0.9289118841839501, 0.9289118841839501, 0.9290174625976066, 0.9290174625976066, 0.9290174625976066, 0.9290174625976066, 0.9437821644880154, 0.9437821644880154]}], \"f1_score_weighted\": [{\"categories\": [\"0\", \"1\", \"2\", \"3\", \"4\", \"5\", \"6\", \"7\", \"8\", \"9\", \"10\", \"11\", \"12\", \"13\", \"14\", \"15\", \"16\", \"17\", \"18\", \"19\", \"20\", \"21\", \"22\", \"23\", \"24\", \"25\", \"26\", \"27\", \"28\", \"29\", \"30\", \"31\", \"32\", \"33\", \"34\", \"35\", \"36\", \"37\", \"38\", \"39\", \"40\", \"41\", \"42\", \"43\", \"44\", \"45\", \"46\", \"47\", \"51\", \"52\"], \"mode\": \"markers\", \"name\": \"f1_score_weighted\", \"stepped\": false, \"type\": \"scatter\", \"data\": [0.8240321837654925, 0.8179900110782464, 0.7757455432765992, 0.8047626796729525, 0.7900753383719126, 0.8051363832246186, 0.839104766100324, 0.829342634273042, 0.7877925257354923, 0.8114575030021254, 0.7918695477129079, 0.839203399957119, 0.8066277560003497, 0.8382632058703747, 0.8109019150734051, 0.780703140580547, 0.7864978591303317, 0.8293319003744797, 0.7923022567138869, 0.8117637924411379, 0.8115477666368769, 0.8438891686577781, 0.8469951744535807, 0.8466735804415843, 0.8508729161761199, 0.764681888565703, 0.8205555221789085, 0.8146477706217002, 0.8203984500117223, 0.8206298278828902, 0.8251954415217304, 0.8381844476305067, 0.832369686813873, 0.8199172045661175, 0.8227931952061042, 0.4343653697934598, 0.8203984500117223, 0.8429067000275806, 0.8338968783394008, 0.8478554289340833, 0.8386163859572984, 0.824400115911803, 0.782733303847855, 0.8203984500117223, 0.8425214925079307, 0.7939820695177837, 0.8151797715133483, 0.7991620298837238, 0.8441984118890835, 0.7407997699692409]}, {\"categories\": [\"0\", \"1\", \"2\", \"3\", \"4\", \"5\", \"6\", \"7\", \"8\", \"9\", \"10\", \"11\", \"12\", \"13\", \"14\", \"15\", \"16\", \"17\", \"18\", \"19\", \"20\", \"21\", \"22\", \"23\", \"24\", \"25\", \"26\", \"27\", \"28\", \"29\", \"30\", \"31\", \"32\", \"33\", \"34\", \"35\", \"36\", \"37\", \"38\", \"39\", \"40\", \"41\", \"42\", \"43\", \"44\", \"45\", \"46\", \"47\", \"51\", \"52\"], \"mode\": \"lines\", \"name\": \"f1_score_weighted_max\", \"stepped\": true, \"type\": \"scatter\", \"data\": [0.8240321837654925, 0.8240321837654925, 0.8240321837654925, 0.8240321837654925, 0.8240321837654925, 0.8240321837654925, 0.839104766100324, 0.839104766100324, 0.839104766100324, 0.839104766100324, 0.839104766100324, 0.839203399957119, 0.839203399957119, 0.839203399957119, 0.839203399957119, 0.839203399957119, 0.839203399957119, 0.839203399957119, 0.839203399957119, 0.839203399957119, 0.839203399957119, 0.8438891686577781, 0.8469951744535807, 0.8469951744535807, 0.8508729161761199, 0.8508729161761199, 0.8508729161761199, 0.8508729161761199, 0.8508729161761199, 0.8508729161761199, 0.8508729161761199, 0.8508729161761199, 0.8508729161761199, 0.8508729161761199, 0.8508729161761199, 0.8508729161761199, 0.8508729161761199, 0.8508729161761199, 0.8508729161761199, 0.8508729161761199, 0.8508729161761199, 0.8508729161761199, 0.8508729161761199, 0.8508729161761199, 0.8508729161761199, 0.8508729161761199, 0.8508729161761199, 0.8508729161761199, 0.8508729161761199, 0.8508729161761199]}], \"f1_score_micro\": [{\"categories\": [\"0\", \"1\", \"2\", \"3\", \"4\", \"5\", \"6\", \"7\", \"8\", \"9\", \"10\", \"11\", \"12\", \"13\", \"14\", \"15\", \"16\", \"17\", \"18\", \"19\", \"20\", \"21\", \"22\", \"23\", \"24\", \"25\", \"26\", \"27\", \"28\", \"29\", \"30\", \"31\", \"32\", \"33\", \"34\", \"35\", \"36\", \"37\", \"38\", \"39\", \"40\", \"41\", \"42\", \"43\", \"44\", \"45\", \"46\", \"47\", \"51\", \"52\"], \"mode\": \"markers\", \"name\": \"f1_score_micro\", \"stepped\": false, \"type\": \"scatter\", \"data\": [0.825108225108225, 0.8203463203463203, 0.7777056277056277, 0.806060606060606, 0.7922077922077922, 0.8073593073593074, 0.8398268398268398, 0.83008658008658, 0.7926406926406926, 0.811038961038961, 0.7922077922077921, 0.8389610389610389, 0.8062770562770563, 0.8391774891774892, 0.8106060606060606, 0.7829004329004328, 0.7876623376623376, 0.83008658008658, 0.7922077922077922, 0.8108225108225108, 0.8108225108225108, 0.8439393939393938, 0.8487012987012987, 0.8482683982683984, 0.8534632034632035, 0.7638528138528138, 0.8199134199134199, 0.8153679653679653, 0.8205627705627705, 0.8203463203463203, 0.825108225108225, 0.8393939393939395, 0.8346320346320345, 0.8203463203463203, 0.8246753246753247, 0.5432900432900433, 0.8205627705627705, 0.8437229437229437, 0.8346320346320347, 0.8482683982683984, 0.8393939393939395, 0.8255411255411256, 0.7829004329004329, 0.8205627705627705, 0.8437229437229437, 0.7969696969696971, 0.8158008658008657, 0.8012987012987013, 0.843939393939394, 0.7835497835497836]}, {\"categories\": [\"0\", \"1\", \"2\", \"3\", \"4\", \"5\", \"6\", \"7\", \"8\", \"9\", \"10\", \"11\", \"12\", \"13\", \"14\", \"15\", \"16\", \"17\", \"18\", \"19\", \"20\", \"21\", \"22\", \"23\", \"24\", \"25\", \"26\", \"27\", \"28\", \"29\", \"30\", \"31\", \"32\", \"33\", \"34\", \"35\", \"36\", \"37\", \"38\", \"39\", \"40\", \"41\", \"42\", \"43\", \"44\", \"45\", \"46\", \"47\", \"51\", \"52\"], \"mode\": \"lines\", \"name\": \"f1_score_micro_max\", \"stepped\": true, \"type\": \"scatter\", \"data\": [0.825108225108225, 0.825108225108225, 0.825108225108225, 0.825108225108225, 0.825108225108225, 0.825108225108225, 0.8398268398268398, 0.8398268398268398, 0.8398268398268398, 0.8398268398268398, 0.8398268398268398, 0.8398268398268398, 0.8398268398268398, 0.8398268398268398, 0.8398268398268398, 0.8398268398268398, 0.8398268398268398, 0.8398268398268398, 0.8398268398268398, 0.8398268398268398, 0.8398268398268398, 0.8439393939393938, 0.8487012987012987, 0.8487012987012987, 0.8534632034632035, 0.8534632034632035, 0.8534632034632035, 0.8534632034632035, 0.8534632034632035, 0.8534632034632035, 0.8534632034632035, 0.8534632034632035, 0.8534632034632035, 0.8534632034632035, 0.8534632034632035, 0.8534632034632035, 0.8534632034632035, 0.8534632034632035, 0.8534632034632035, 0.8534632034632035, 0.8534632034632035, 0.8534632034632035, 0.8534632034632035, 0.8534632034632035, 0.8534632034632035, 0.8534632034632035, 0.8534632034632035, 0.8534632034632035, 0.8534632034632035, 0.8534632034632035]}], \"recall_score_weighted\": [{\"categories\": [\"0\", \"1\", \"2\", \"3\", \"4\", \"5\", \"6\", \"7\", \"8\", \"9\", \"10\", \"11\", \"12\", \"13\", \"14\", \"15\", \"16\", \"17\", \"18\", \"19\", \"20\", \"21\", \"22\", \"23\", \"24\", \"25\", \"26\", \"27\", \"28\", \"29\", \"30\", \"31\", \"32\", \"33\", \"34\", \"35\", \"36\", \"37\", \"38\", \"39\", \"40\", \"41\", \"42\", \"43\", \"44\", \"45\", \"46\", \"47\", \"51\", \"52\"], \"mode\": \"markers\", \"name\": \"recall_score_weighted\", \"stepped\": false, \"type\": \"scatter\", \"data\": [0.825108225108225, 0.8203463203463203, 0.7777056277056277, 0.806060606060606, 0.7922077922077922, 0.8073593073593074, 0.8398268398268398, 0.83008658008658, 0.7926406926406926, 0.811038961038961, 0.7922077922077921, 0.8389610389610389, 0.8062770562770563, 0.8391774891774892, 0.8106060606060606, 0.7829004329004328, 0.7876623376623376, 0.83008658008658, 0.7922077922077922, 0.8108225108225108, 0.8108225108225108, 0.8439393939393938, 0.8487012987012987, 0.8482683982683984, 0.8534632034632035, 0.7638528138528138, 0.8199134199134199, 0.8153679653679653, 0.8205627705627705, 0.8203463203463203, 0.825108225108225, 0.8393939393939395, 0.8346320346320345, 0.8203463203463203, 0.8246753246753247, 0.5432900432900433, 0.8205627705627705, 0.8437229437229437, 0.8346320346320347, 0.8482683982683984, 0.8393939393939395, 0.8255411255411256, 0.7829004329004329, 0.8205627705627705, 0.8437229437229437, 0.7969696969696971, 0.8158008658008657, 0.8012987012987013, 0.843939393939394, 0.7835497835497836]}, {\"categories\": [\"0\", \"1\", \"2\", \"3\", \"4\", \"5\", \"6\", \"7\", \"8\", \"9\", \"10\", \"11\", \"12\", \"13\", \"14\", \"15\", \"16\", \"17\", \"18\", \"19\", \"20\", \"21\", \"22\", \"23\", \"24\", \"25\", \"26\", \"27\", \"28\", \"29\", \"30\", \"31\", \"32\", \"33\", \"34\", \"35\", \"36\", \"37\", \"38\", \"39\", \"40\", \"41\", \"42\", \"43\", \"44\", \"45\", \"46\", \"47\", \"51\", \"52\"], \"mode\": \"lines\", \"name\": \"recall_score_weighted_max\", \"stepped\": true, \"type\": \"scatter\", \"data\": [0.825108225108225, 0.825108225108225, 0.825108225108225, 0.825108225108225, 0.825108225108225, 0.825108225108225, 0.8398268398268398, 0.8398268398268398, 0.8398268398268398, 0.8398268398268398, 0.8398268398268398, 0.8398268398268398, 0.8398268398268398, 0.8398268398268398, 0.8398268398268398, 0.8398268398268398, 0.8398268398268398, 0.8398268398268398, 0.8398268398268398, 0.8398268398268398, 0.8398268398268398, 0.8439393939393938, 0.8487012987012987, 0.8487012987012987, 0.8534632034632035, 0.8534632034632035, 0.8534632034632035, 0.8534632034632035, 0.8534632034632035, 0.8534632034632035, 0.8534632034632035, 0.8534632034632035, 0.8534632034632035, 0.8534632034632035, 0.8534632034632035, 0.8534632034632035, 0.8534632034632035, 0.8534632034632035, 0.8534632034632035, 0.8534632034632035, 0.8534632034632035, 0.8534632034632035, 0.8534632034632035, 0.8534632034632035, 0.8534632034632035, 0.8534632034632035, 0.8534632034632035, 0.8534632034632035, 0.8534632034632035, 0.8534632034632035]}], \"AUC_macro\": [{\"categories\": [\"0\", \"1\", \"2\", \"3\", \"4\", \"5\", \"6\", \"7\", \"8\", \"9\", \"10\", \"11\", \"12\", \"13\", \"14\", \"15\", \"16\", \"17\", \"18\", \"19\", \"20\", \"21\", \"22\", \"23\", \"24\", \"25\", \"26\", \"27\", \"28\", \"29\", \"30\", \"31\", \"32\", \"33\", \"34\", \"35\", \"36\", \"37\", \"38\", \"39\", \"40\", \"41\", \"42\", \"43\", \"44\", \"45\", \"46\", \"47\", \"51\", \"52\"], \"mode\": \"markers\", \"name\": \"AUC_macro\", \"stepped\": false, \"type\": \"scatter\", \"data\": [0.9022565397565397, 0.9043628593628595, 0.8902810152810152, 0.8954998704998705, 0.8898225848225849, 0.8990109427609427, 0.9127337477337477, 0.9118006993006993, 0.9006190106190106, 0.9142747992747993, 0.8897487697487698, 0.9132297332297332, 0.9097779072779074, 0.9084317534317534, 0.9094509194509195, 0.8558773633773633, 0.9046270396270397, 0.9051702926702928, 0.9042204092204094, 0.9032504532504533, 0.9081766381766382, 0.903475135975136, 0.9106617456617456, 0.9086926961926961, 0.90504403004403, 0.8917948717948718, 0.9013247863247862, 0.8999559699559698, 0.9090669515669516, 0.9088332038332039, 0.9127246827246827, 0.9018971768971769, 0.9244871794871796, 0.8946963221963221, 0.9104532504532503, 0.6118074980574979, 0.9099928774928776, 0.8998264698264699, 0.9136221186221187, 0.909379046879047, 0.9132077182077183, 0.8980549080549081, 0.8844340844340843, 0.909031339031339, 0.9226903651903651, 0.8556076793576795, 0.9002732452732453, 0.8659796684796686, 0.9389044289044289, 0.9267534317534318]}, {\"categories\": [\"0\", \"1\", \"2\", \"3\", \"4\", \"5\", \"6\", \"7\", \"8\", \"9\", \"10\", \"11\", \"12\", \"13\", \"14\", \"15\", \"16\", \"17\", \"18\", \"19\", \"20\", \"21\", \"22\", \"23\", \"24\", \"25\", \"26\", \"27\", \"28\", \"29\", \"30\", \"31\", \"32\", \"33\", \"34\", \"35\", \"36\", \"37\", \"38\", \"39\", \"40\", \"41\", \"42\", \"43\", \"44\", \"45\", \"46\", \"47\", \"51\", \"52\"], \"mode\": \"lines\", \"name\": \"AUC_macro_max\", \"stepped\": true, \"type\": \"scatter\", \"data\": [0.9022565397565397, 0.9043628593628595, 0.9043628593628595, 0.9043628593628595, 0.9043628593628595, 0.9043628593628595, 0.9127337477337477, 0.9127337477337477, 0.9127337477337477, 0.9142747992747993, 0.9142747992747993, 0.9142747992747993, 0.9142747992747993, 0.9142747992747993, 0.9142747992747993, 0.9142747992747993, 0.9142747992747993, 0.9142747992747993, 0.9142747992747993, 0.9142747992747993, 0.9142747992747993, 0.9142747992747993, 0.9142747992747993, 0.9142747992747993, 0.9142747992747993, 0.9142747992747993, 0.9142747992747993, 0.9142747992747993, 0.9142747992747993, 0.9142747992747993, 0.9142747992747993, 0.9142747992747993, 0.9244871794871796, 0.9244871794871796, 0.9244871794871796, 0.9244871794871796, 0.9244871794871796, 0.9244871794871796, 0.9244871794871796, 0.9244871794871796, 0.9244871794871796, 0.9244871794871796, 0.9244871794871796, 0.9244871794871796, 0.9244871794871796, 0.9244871794871796, 0.9244871794871796, 0.9244871794871796, 0.9389044289044289, 0.9389044289044289]}], \"precision_score_micro\": [{\"categories\": [\"0\", \"1\", \"2\", \"3\", \"4\", \"5\", \"6\", \"7\", \"8\", \"9\", \"10\", \"11\", \"12\", \"13\", \"14\", \"15\", \"16\", \"17\", \"18\", \"19\", \"20\", \"21\", \"22\", \"23\", \"24\", \"25\", \"26\", \"27\", \"28\", \"29\", \"30\", \"31\", \"32\", \"33\", \"34\", \"35\", \"36\", \"37\", \"38\", \"39\", \"40\", \"41\", \"42\", \"43\", \"44\", \"45\", \"46\", \"47\", \"51\", \"52\"], \"mode\": \"markers\", \"name\": \"precision_score_micro\", \"stepped\": false, \"type\": \"scatter\", \"data\": [0.825108225108225, 0.8203463203463203, 0.7777056277056277, 0.806060606060606, 0.7922077922077922, 0.8073593073593074, 0.8398268398268398, 0.83008658008658, 0.7926406926406926, 0.811038961038961, 0.7922077922077921, 0.8389610389610389, 0.8062770562770563, 0.8391774891774892, 0.8106060606060606, 0.7829004329004328, 0.7876623376623376, 0.83008658008658, 0.7922077922077922, 0.8108225108225108, 0.8108225108225108, 0.8439393939393938, 0.8487012987012987, 0.8482683982683984, 0.8534632034632035, 0.7638528138528138, 0.8199134199134199, 0.8153679653679653, 0.8205627705627705, 0.8203463203463203, 0.825108225108225, 0.8393939393939395, 0.8346320346320345, 0.8203463203463203, 0.8246753246753247, 0.5432900432900433, 0.8205627705627705, 0.8437229437229437, 0.8346320346320347, 0.8482683982683984, 0.8393939393939395, 0.8255411255411256, 0.7829004329004329, 0.8205627705627705, 0.8437229437229437, 0.7969696969696971, 0.8158008658008657, 0.8012987012987013, 0.843939393939394, 0.7835497835497836]}, {\"categories\": [\"0\", \"1\", \"2\", \"3\", \"4\", \"5\", \"6\", \"7\", \"8\", \"9\", \"10\", \"11\", \"12\", \"13\", \"14\", \"15\", \"16\", \"17\", \"18\", \"19\", \"20\", \"21\", \"22\", \"23\", \"24\", \"25\", \"26\", \"27\", \"28\", \"29\", \"30\", \"31\", \"32\", \"33\", \"34\", \"35\", \"36\", \"37\", \"38\", \"39\", \"40\", \"41\", \"42\", \"43\", \"44\", \"45\", \"46\", \"47\", \"51\", \"52\"], \"mode\": \"lines\", \"name\": \"precision_score_micro_max\", \"stepped\": true, \"type\": \"scatter\", \"data\": [0.825108225108225, 0.825108225108225, 0.825108225108225, 0.825108225108225, 0.825108225108225, 0.825108225108225, 0.8398268398268398, 0.8398268398268398, 0.8398268398268398, 0.8398268398268398, 0.8398268398268398, 0.8398268398268398, 0.8398268398268398, 0.8398268398268398, 0.8398268398268398, 0.8398268398268398, 0.8398268398268398, 0.8398268398268398, 0.8398268398268398, 0.8398268398268398, 0.8398268398268398, 0.8439393939393938, 0.8487012987012987, 0.8487012987012987, 0.8534632034632035, 0.8534632034632035, 0.8534632034632035, 0.8534632034632035, 0.8534632034632035, 0.8534632034632035, 0.8534632034632035, 0.8534632034632035, 0.8534632034632035, 0.8534632034632035, 0.8534632034632035, 0.8534632034632035, 0.8534632034632035, 0.8534632034632035, 0.8534632034632035, 0.8534632034632035, 0.8534632034632035, 0.8534632034632035, 0.8534632034632035, 0.8534632034632035, 0.8534632034632035, 0.8534632034632035, 0.8534632034632035, 0.8534632034632035, 0.8534632034632035, 0.8534632034632035]}], \"matthews_correlation\": [{\"categories\": [\"0\", \"1\", \"2\", \"3\", \"4\", \"5\", \"6\", \"7\", \"8\", \"9\", \"10\", \"11\", \"12\", \"13\", \"14\", \"15\", \"16\", \"17\", \"18\", \"19\", \"20\", \"21\", \"22\", \"23\", \"24\", \"25\", \"26\", \"27\", \"28\", \"29\", \"30\", \"31\", \"32\", \"33\", \"34\", \"35\", \"36\", \"37\", \"38\", \"39\", \"40\", \"41\", \"42\", \"43\", \"44\", \"45\", \"46\", \"47\", \"51\", \"52\"], \"mode\": \"markers\", \"name\": \"matthews_correlation\", \"stepped\": false, \"type\": \"scatter\", \"data\": [0.6399869289795237, 0.6275807599474704, 0.5411760611967439, 0.6064133982460664, 0.5808609548814564, 0.6249995742511324, 0.6869749608921485, 0.6645648224272301, 0.5835975566304299, 0.622939727646116, 0.5839659731776922, 0.6842344122354478, 0.6098527362940837, 0.6691369866558043, 0.626091831244051, 0.553499635217357, 0.5812236420906266, 0.6597816288602018, 0.5821044226804254, 0.6260948330208105, 0.6264674556324512, 0.6852252357410362, 0.6844835382330967, 0.6838338684491838, 0.700452928601359, 0.5297309683033283, 0.6312198437371006, 0.6236128293519131, 0.647410724086711, 0.6352785248693774, 0.650072752826679, 0.6813919799393255, 0.6752873156073265, 0.645682730727192, 0.639003455016172, 0.09177496033834964, 0.647410724086711, 0.6871547462018901, 0.6653109338134633, 0.6929853626993875, 0.6838398370245188, 0.6482887350411821, 0.5613740308732996, 0.647410724086711, 0.6847617051381091, 0.5966904826968158, 0.6289032215102328, 0.6029065251333491, 0.6876809205499562, 0.49700475214714723]}, {\"categories\": [\"0\", \"1\", \"2\", \"3\", \"4\", \"5\", \"6\", \"7\", \"8\", \"9\", \"10\", \"11\", \"12\", \"13\", \"14\", \"15\", \"16\", \"17\", \"18\", \"19\", \"20\", \"21\", \"22\", \"23\", \"24\", \"25\", \"26\", \"27\", \"28\", \"29\", \"30\", \"31\", \"32\", \"33\", \"34\", \"35\", \"36\", \"37\", \"38\", \"39\", \"40\", \"41\", \"42\", \"43\", \"44\", \"45\", \"46\", \"47\", \"51\", \"52\"], \"mode\": \"lines\", \"name\": \"matthews_correlation_max\", \"stepped\": true, \"type\": \"scatter\", \"data\": [0.6399869289795237, 0.6399869289795237, 0.6399869289795237, 0.6399869289795237, 0.6399869289795237, 0.6399869289795237, 0.6869749608921485, 0.6869749608921485, 0.6869749608921485, 0.6869749608921485, 0.6869749608921485, 0.6869749608921485, 0.6869749608921485, 0.6869749608921485, 0.6869749608921485, 0.6869749608921485, 0.6869749608921485, 0.6869749608921485, 0.6869749608921485, 0.6869749608921485, 0.6869749608921485, 0.6869749608921485, 0.6869749608921485, 0.6869749608921485, 0.700452928601359, 0.700452928601359, 0.700452928601359, 0.700452928601359, 0.700452928601359, 0.700452928601359, 0.700452928601359, 0.700452928601359, 0.700452928601359, 0.700452928601359, 0.700452928601359, 0.700452928601359, 0.700452928601359, 0.700452928601359, 0.700452928601359, 0.700452928601359, 0.700452928601359, 0.700452928601359, 0.700452928601359, 0.700452928601359, 0.700452928601359, 0.700452928601359, 0.700452928601359, 0.700452928601359, 0.700452928601359, 0.700452928601359]}], \"recall_score_micro\": [{\"categories\": [\"0\", \"1\", \"2\", \"3\", \"4\", \"5\", \"6\", \"7\", \"8\", \"9\", \"10\", \"11\", \"12\", \"13\", \"14\", \"15\", \"16\", \"17\", \"18\", \"19\", \"20\", \"21\", \"22\", \"23\", \"24\", \"25\", \"26\", \"27\", \"28\", \"29\", \"30\", \"31\", \"32\", \"33\", \"34\", \"35\", \"36\", \"37\", \"38\", \"39\", \"40\", \"41\", \"42\", \"43\", \"44\", \"45\", \"46\", \"47\", \"51\", \"52\"], \"mode\": \"markers\", \"name\": \"recall_score_micro\", \"stepped\": false, \"type\": \"scatter\", \"data\": [0.825108225108225, 0.8203463203463203, 0.7777056277056277, 0.806060606060606, 0.7922077922077922, 0.8073593073593074, 0.8398268398268398, 0.83008658008658, 0.7926406926406926, 0.811038961038961, 0.7922077922077921, 0.8389610389610389, 0.8062770562770563, 0.8391774891774892, 0.8106060606060606, 0.7829004329004328, 0.7876623376623376, 0.83008658008658, 0.7922077922077922, 0.8108225108225108, 0.8108225108225108, 0.8439393939393938, 0.8487012987012987, 0.8482683982683984, 0.8534632034632035, 0.7638528138528138, 0.8199134199134199, 0.8153679653679653, 0.8205627705627705, 0.8203463203463203, 0.825108225108225, 0.8393939393939395, 0.8346320346320345, 0.8203463203463203, 0.8246753246753247, 0.5432900432900433, 0.8205627705627705, 0.8437229437229437, 0.8346320346320347, 0.8482683982683984, 0.8393939393939395, 0.8255411255411256, 0.7829004329004329, 0.8205627705627705, 0.8437229437229437, 0.7969696969696971, 0.8158008658008657, 0.8012987012987013, 0.843939393939394, 0.7835497835497836]}, {\"categories\": [\"0\", \"1\", \"2\", \"3\", \"4\", \"5\", \"6\", \"7\", \"8\", \"9\", \"10\", \"11\", \"12\", \"13\", \"14\", \"15\", \"16\", \"17\", \"18\", \"19\", \"20\", \"21\", \"22\", \"23\", \"24\", \"25\", \"26\", \"27\", \"28\", \"29\", \"30\", \"31\", \"32\", \"33\", \"34\", \"35\", \"36\", \"37\", \"38\", \"39\", \"40\", \"41\", \"42\", \"43\", \"44\", \"45\", \"46\", \"47\", \"51\", \"52\"], \"mode\": \"lines\", \"name\": \"recall_score_micro_max\", \"stepped\": true, \"type\": \"scatter\", \"data\": [0.825108225108225, 0.825108225108225, 0.825108225108225, 0.825108225108225, 0.825108225108225, 0.825108225108225, 0.8398268398268398, 0.8398268398268398, 0.8398268398268398, 0.8398268398268398, 0.8398268398268398, 0.8398268398268398, 0.8398268398268398, 0.8398268398268398, 0.8398268398268398, 0.8398268398268398, 0.8398268398268398, 0.8398268398268398, 0.8398268398268398, 0.8398268398268398, 0.8398268398268398, 0.8439393939393938, 0.8487012987012987, 0.8487012987012987, 0.8534632034632035, 0.8534632034632035, 0.8534632034632035, 0.8534632034632035, 0.8534632034632035, 0.8534632034632035, 0.8534632034632035, 0.8534632034632035, 0.8534632034632035, 0.8534632034632035, 0.8534632034632035, 0.8534632034632035, 0.8534632034632035, 0.8534632034632035, 0.8534632034632035, 0.8534632034632035, 0.8534632034632035, 0.8534632034632035, 0.8534632034632035, 0.8534632034632035, 0.8534632034632035, 0.8534632034632035, 0.8534632034632035, 0.8534632034632035, 0.8534632034632035, 0.8534632034632035]}]}, \"metricName\": null, \"primaryMetricName\": \"AUC_weighted\", \"showLegend\": false}, \"run_metrics\": [{\"name\": \"experiment_status\", \"run_id\": \"AutoML_f342fd17-9b1a-4e29-84b6-8ff43af56146\", \"categories\": [0, 1, 2, 3, 4, 5, 6, 7, 8, 9, 10, 11, 12, 13], \"series\": [{\"data\": [\"DatasetEvaluation\", \"FeaturesGeneration\", \"DatasetFeaturization\", \"DatasetFeaturizationCompleted\", \"DatasetCrossValidationSplit\", \"ModelSelection\", \"BestRunExplainModel\", \"ModelExplanationDataSetSetup\", \"PickSurrogateModel\", \"EngineeredFeatureExplanations\", \"EngineeredFeatureExplanations\", \"RawFeaturesExplanations\", \"RawFeaturesExplanations\", \"BestRunExplainModel\"]}]}, {\"name\": \"experiment_status_description\", \"run_id\": \"AutoML_f342fd17-9b1a-4e29-84b6-8ff43af56146\", \"categories\": [0, 1, 2, 3, 4, 5, 6, 7, 8, 9, 10, 11, 12, 13], \"series\": [{\"data\": [\"Gathering dataset statistics.\", \"Generating features for the dataset.\", \"Beginning to fit featurizers and featurize the dataset.\", \"Completed fit featurizers and featurizing the dataset.\", \"Generating individually featurized CV splits.\", \"Beginning model selection.\", \"Best run model explanations started\", \"Model explanations data setup completed\", \"Choosing LightGBM as the surrogate model for explanations\", \"Computation of engineered features started\", \"Computation of engineered features completed\", \"Computation of raw features started\", \"Computation of raw features completed\", \"Best run model explanations completed\"]}]}, {\"name\": \"recall_score_macro\", \"run_id\": \"AutoML_f342fd17-9b1a-4e29-84b6-8ff43af56146\", \"categories\": [0], \"series\": [{\"data\": [0.8449630924630924]}]}, {\"name\": \"weighted_accuracy\", \"run_id\": \"AutoML_f342fd17-9b1a-4e29-84b6-8ff43af56146\", \"categories\": [0], \"series\": [{\"data\": [0.8425353060511196]}]}, {\"name\": \"recall_score_micro\", \"run_id\": \"AutoML_f342fd17-9b1a-4e29-84b6-8ff43af56146\", \"categories\": [0], \"series\": [{\"data\": [0.843939393939394]}]}, {\"name\": \"average_precision_score_weighted\", \"run_id\": \"AutoML_f342fd17-9b1a-4e29-84b6-8ff43af56146\", \"categories\": [0], \"series\": [{\"data\": [0.9456311547382473]}]}, {\"name\": \"f1_score_micro\", \"run_id\": \"AutoML_f342fd17-9b1a-4e29-84b6-8ff43af56146\", \"categories\": [0], \"series\": [{\"data\": [0.843939393939394]}]}, {\"name\": \"precision_score_weighted\", \"run_id\": \"AutoML_f342fd17-9b1a-4e29-84b6-8ff43af56146\", \"categories\": [0], \"series\": [{\"data\": [0.8537311762311763]}]}, {\"name\": \"matthews_correlation\", \"run_id\": \"AutoML_f342fd17-9b1a-4e29-84b6-8ff43af56146\", \"categories\": [0], \"series\": [{\"data\": [0.6876809205499562]}]}, {\"name\": \"recall_score_weighted\", \"run_id\": \"AutoML_f342fd17-9b1a-4e29-84b6-8ff43af56146\", \"categories\": [0], \"series\": [{\"data\": [0.843939393939394]}]}, {\"name\": \"AUC_weighted\", \"run_id\": \"AutoML_f342fd17-9b1a-4e29-84b6-8ff43af56146\", \"categories\": [0], \"series\": [{\"data\": [0.9389044289044289]}]}, {\"name\": \"precision_score_micro\", \"run_id\": \"AutoML_f342fd17-9b1a-4e29-84b6-8ff43af56146\", \"categories\": [0], \"series\": [{\"data\": [0.843939393939394]}]}, {\"name\": \"AUC_micro\", \"run_id\": \"AutoML_f342fd17-9b1a-4e29-84b6-8ff43af56146\", \"categories\": [0], \"series\": [{\"data\": [0.9292362399505258]}]}, {\"name\": \"balanced_accuracy\", \"run_id\": \"AutoML_f342fd17-9b1a-4e29-84b6-8ff43af56146\", \"categories\": [0], \"series\": [{\"data\": [0.8449630924630924]}]}, {\"name\": \"average_precision_score_macro\", \"run_id\": \"AutoML_f342fd17-9b1a-4e29-84b6-8ff43af56146\", \"categories\": [0], \"series\": [{\"data\": [0.9437821644880154]}]}, {\"name\": \"f1_score_weighted\", \"run_id\": \"AutoML_f342fd17-9b1a-4e29-84b6-8ff43af56146\", \"categories\": [0], \"series\": [{\"data\": [0.8441984118890835]}]}, {\"name\": \"precision_score_macro\", \"run_id\": \"AutoML_f342fd17-9b1a-4e29-84b6-8ff43af56146\", \"categories\": [0], \"series\": [{\"data\": [0.8427797202797203]}]}, {\"name\": \"AUC_macro\", \"run_id\": \"AutoML_f342fd17-9b1a-4e29-84b6-8ff43af56146\", \"categories\": [0], \"series\": [{\"data\": [0.9389044289044289]}]}, {\"name\": \"norm_macro_recall\", \"run_id\": \"AutoML_f342fd17-9b1a-4e29-84b6-8ff43af56146\", \"categories\": [0], \"series\": [{\"data\": [0.6899261849261848]}]}, {\"name\": \"accuracy\", \"run_id\": \"AutoML_f342fd17-9b1a-4e29-84b6-8ff43af56146\", \"categories\": [0], \"series\": [{\"data\": [0.843939393939394]}]}, {\"name\": \"average_precision_score_micro\", \"run_id\": \"AutoML_f342fd17-9b1a-4e29-84b6-8ff43af56146\", \"categories\": [0], \"series\": [{\"data\": [0.9327391668304588]}]}, {\"name\": \"f1_score_macro\", \"run_id\": \"AutoML_f342fd17-9b1a-4e29-84b6-8ff43af56146\", \"categories\": [0], \"series\": [{\"data\": [0.8391244280390195]}]}, {\"name\": \"log_loss\", \"run_id\": \"AutoML_f342fd17-9b1a-4e29-84b6-8ff43af56146\", \"categories\": [0], \"series\": [{\"data\": [0.4382156340651412]}]}], \"run_logs\": \"\\nRun is completed.\", \"graph\": {}, \"widget_settings\": {\"childWidgetDisplay\": \"popup\", \"send_telemetry\": false, \"log_level\": \"INFO\", \"sdk_version\": \"1.26.0\"}, \"loading\": false}"
     },
     "metadata": {},
     "output_type": "display_data"
    },
    {
     "data": {
      "text/html": [
       "<table style=\"width:100%\"><tr><th>Experiment</th><th>Id</th><th>Type</th><th>Status</th><th>Details Page</th><th>Docs Page</th></tr><tr><td>automl-exp</td><td>AutoML_f342fd17-9b1a-4e29-84b6-8ff43af56146</td><td>automl</td><td>NotStarted</td><td><a href=\"https://ml.azure.com/runs/AutoML_f342fd17-9b1a-4e29-84b6-8ff43af56146?wsid=/subscriptions/a24a24d5-8d87-4c8a-99b6-91ed2d2df51f/resourcegroups/aml-quickstarts-143160/workspaces/quick-starts-ws-143160&amp;tid=660b3398-b80e-49d2-bc5b-ac1dc93b5254\" target=\"_blank\" rel=\"noopener\">Link to Azure Machine Learning studio</a></td><td><a href=\"https://docs.microsoft.com/en-us/python/api/overview/azure/ml/intro?view=azure-ml-py\" target=\"_blank\" rel=\"noopener\">Link to Documentation</a></td></tr></table>"
      ],
      "text/plain": [
       "<IPython.core.display.HTML object>"
      ]
     },
     "metadata": {},
     "output_type": "display_data"
    },
    {
     "name": "stdout",
     "output_type": "stream",
     "text": [
      "\n",
      "Current status: FeaturesGeneration. Generating features for the dataset.\n",
      "Current status: DatasetCrossValidationSplit. Generating individually featurized CV splits.\n",
      "Current status: ModelSelection. Beginning model selection.\n",
      "\n",
      "****************************************************************************************************\n",
      "DATA GUARDRAILS: \n",
      "\n",
      "TYPE:         Cross validation\n",
      "STATUS:       DONE\n",
      "DESCRIPTION:  Each iteration of the trained model was validated through cross-validation.\n",
      "              \n",
      "DETAILS:      \n",
      "+---------------------------------+\n",
      "|Number of folds                  |\n",
      "+=================================+\n",
      "|10                               |\n",
      "+---------------------------------+\n",
      "\n",
      "****************************************************************************************************\n",
      "\n",
      "TYPE:         Class balancing detection\n",
      "STATUS:       PASSED\n",
      "DESCRIPTION:  Your inputs were analyzed, and all classes are balanced in your training data.\n",
      "              Learn more about imbalanced data: https://aka.ms/AutomatedMLImbalancedData\n",
      "\n",
      "****************************************************************************************************\n",
      "\n",
      "TYPE:         Missing feature values imputation\n",
      "STATUS:       PASSED\n",
      "DESCRIPTION:  No feature missing values were detected in the training data.\n",
      "              Learn more about missing value imputation: https://aka.ms/AutomatedMLFeaturization\n",
      "\n",
      "****************************************************************************************************\n",
      "\n",
      "TYPE:         High cardinality feature detection\n",
      "STATUS:       PASSED\n",
      "DESCRIPTION:  Your inputs were analyzed, and no high cardinality features were detected.\n",
      "              Learn more about high cardinality feature handling: https://aka.ms/AutomatedMLFeaturization\n",
      "\n",
      "****************************************************************************************************\n",
      "\n",
      "****************************************************************************************************\n",
      "ITERATION: The iteration being evaluated.\n",
      "PIPELINE: A summary description of the pipeline being evaluated.\n",
      "DURATION: Time taken for the current iteration.\n",
      "METRIC: The result of computing score on the fitted pipeline.\n",
      "BEST: The best observed score thus far.\n",
      "****************************************************************************************************\n",
      "\n",
      " ITERATION   PIPELINE                                       DURATION      METRIC      BEST\n",
      "         0   MaxAbsScaler LightGBM                          0:02:28       0.9023    0.9023\n",
      "         1   MaxAbsScaler XGBoostClassifier                 0:02:29       0.9044    0.9044\n",
      "         2   MaxAbsScaler RandomForest                      0:02:28       0.8903    0.9044\n",
      "         3   MaxAbsScaler RandomForest                      0:02:28       0.8955    0.9044\n",
      "         4   MaxAbsScaler RandomForest                      0:02:25       0.8898    0.9044\n",
      "         8   MaxAbsScaler RandomForest                      0:00:45       0.9006    0.9044\n",
      "         5   MaxAbsScaler ExtremeRandomTrees                0:00:51       0.8990    0.9044\n",
      "         6   MaxAbsScaler ExtremeRandomTrees                0:00:49       0.9127    0.9127\n",
      "         7   MaxAbsScaler ExtremeRandomTrees                0:00:47       0.9118    0.9127\n",
      "         9   MaxAbsScaler ExtremeRandomTrees                0:00:45       0.9143    0.9143\n",
      "        10   MaxAbsScaler RandomForest                      0:00:52       0.8897    0.9143\n",
      "        11   MaxAbsScaler RandomForest                      0:00:46       0.9132    0.9143\n",
      "        12   MaxAbsScaler RandomForest                      0:00:49       0.9098    0.9143\n",
      "        13   StandardScalerWrapper XGBoostClassifier        0:00:46       0.9084    0.9143\n",
      "        14   MaxAbsScaler RandomForest                      0:00:46       0.9095    0.9143\n",
      "        15   StandardScalerWrapper ExtremeRandomTrees       0:00:51       0.8559    0.9143\n",
      "        19   StandardScalerWrapper LogisticRegression       0:00:46       0.9033    0.9143\n",
      "        16   MaxAbsScaler ExtremeRandomTrees                0:01:00       0.9046    0.9143\n",
      "        17   MaxAbsScaler ExtremeRandomTrees                0:00:58       0.9052    0.9143\n",
      "        18   MaxAbsScaler RandomForest                      0:01:32       0.9042    0.9143\n",
      "        20   StandardScalerWrapper LogisticRegression       0:00:55       0.9082    0.9143\n",
      "        21   MaxAbsScaler LightGBM                          0:00:56       0.9035    0.9143\n",
      "        22   MaxAbsScaler LightGBM                          0:02:02       0.9107    0.9143\n",
      "        23   StandardScalerWrapper LightGBM                 0:01:53       0.9087    0.9143\n",
      "        24   StandardScalerWrapper LightGBM                 0:01:33       0.9050    0.9143\n",
      "        25   SparseNormalizer ExtremeRandomTrees            0:01:30       0.8918    0.9143\n",
      "        26   MaxAbsScaler ExtremeRandomTrees                0:01:29       0.9013    0.9143\n",
      "        27   StandardScalerWrapper ExtremeRandomTrees       0:00:59       0.9000    0.9143\n",
      "        28   MaxAbsScaler LogisticRegression                0:01:04       0.9091    0.9143\n",
      "        29   StandardScalerWrapper ExtremeRandomTrees       0:01:10       0.9088    0.9143\n",
      "        30   SparseNormalizer ExtremeRandomTrees            0:01:04       0.9127    0.9143\n",
      "        31   SparseNormalizer XGBoostClassifier             0:00:55       0.9019    0.9143\n",
      "        32   SparseNormalizer XGBoostClassifier             0:00:54       0.9245    0.9245\n",
      "        33   SparseNormalizer XGBoostClassifier             0:00:54       0.8947    0.9245\n",
      "        34   StandardScalerWrapper XGBoostClassifier        0:00:52       0.9105    0.9245\n",
      "        35   TruncatedSVDWrapper ExtremeRandomTrees         0:00:53       0.6118    0.9245\n",
      "        36   MaxAbsScaler LogisticRegression                0:00:48       0.9100    0.9245\n",
      "        37   TruncatedSVDWrapper XGBoostClassifier          0:00:52       0.8998    0.9245\n",
      "        38   MaxAbsScaler LightGBM                          0:00:56       0.9136    0.9245\n",
      "        39   MaxAbsScaler LightGBM                          0:01:01       0.9094    0.9245\n",
      "        40   SparseNormalizer XGBoostClassifier             0:01:02       0.9132    0.9245\n",
      "        41   StandardScalerWrapper XGBoostClassifier        0:01:02       0.8981    0.9245\n",
      "        42   TruncatedSVDWrapper XGBoostClassifier          0:01:08       0.8844    0.9245\n",
      "        43   MaxAbsScaler LogisticRegression                0:00:56       0.9090    0.9245\n",
      "        44   MaxAbsScaler LightGBM                          0:00:47       0.9227    0.9245\n",
      "        45   TruncatedSVDWrapper XGBoostClassifier          0:00:44       0.8556    0.9245\n",
      "        46   TruncatedSVDWrapper XGBoostClassifier          0:00:53       0.9003    0.9245\n",
      "        47   TruncatedSVDWrapper XGBoostClassifier          0:00:29       0.8660    0.9245\n",
      "        48                                                  0:00:19          nan    0.9245\n",
      "        49                                                  0:00:11          nan    0.9245\n",
      "        50                                                  0:00:06          nan    0.9245\n",
      "        51    VotingEnsemble                                0:01:48       0.9389    0.9389\n",
      "        52    StackEnsemble                                 0:01:46       0.9268    0.9389\n"
     ]
    }
   ],
   "source": [
    "#-- Use Run Details to show all accuracy\n",
    "\n",
    "RunDetails(remote_run).show()\n",
    "remote_run.wait_for_completion(show_output=True)\n",
    "assert(remote_run.get_status() == \"Completed\")"
   ]
  },
  {
   "cell_type": "code",
   "execution_count": 11,
   "metadata": {
    "scrolled": true
   },
   "outputs": [
    {
     "data": {
      "text/plain": [
       "(Run(Experiment: automl-exp,\n",
       " Id: AutoML_2080453b-f05a-4417-a3b9-e9d1810ad543_43,\n",
       " Type: azureml.scriptrun,\n",
       " Status: Completed),\n",
       " Pipeline(memory=None,\n",
       "          steps=[('datatransformer',\n",
       "                  DataTransformer(enable_dnn=None, enable_feature_sweeping=None,\n",
       "                                  feature_sweeping_config=None,\n",
       "                                  feature_sweeping_timeout=None,\n",
       "                                  featurization_config=None, force_text_dnn=None,\n",
       "                                  is_cross_validation=None,\n",
       "                                  is_onnx_compatible=None, logger=None,\n",
       "                                  observer=None, task=None, working_dir=None)),\n",
       "                 ('prefittedsoftvotingclassifier',...\n",
       "                                                                                                   n_estimators=400,\n",
       "                                                                                                   n_jobs=1,\n",
       "                                                                                                   oob_score=False,\n",
       "                                                                                                   random_state=None,\n",
       "                                                                                                   verbose=0,\n",
       "                                                                                                   warm_start=False))],\n",
       "                                                                      verbose=False))],\n",
       "                                                flatten_transform=None,\n",
       "                                                weights=[0.13333333333333333,\n",
       "                                                         0.26666666666666666,\n",
       "                                                         0.06666666666666667,\n",
       "                                                         0.06666666666666667,\n",
       "                                                         0.06666666666666667,\n",
       "                                                         0.06666666666666667,\n",
       "                                                         0.06666666666666667,\n",
       "                                                         0.06666666666666667,\n",
       "                                                         0.06666666666666667,\n",
       "                                                         0.13333333333333333]))],\n",
       "          verbose=False))"
      ]
     },
     "execution_count": 11,
     "metadata": {},
     "output_type": "execute_result"
    }
   ],
   "source": [
    "remote_run.get_output()"
   ]
  },
  {
   "cell_type": "markdown",
   "metadata": {},
   "source": [
    "## Best Model\n",
    "\n",
    "TODO: In the cell below, get the best model from the automl experiments and display all the properties of the model.\n",
    "\n"
   ]
  },
  {
   "cell_type": "code",
   "execution_count": 12,
   "metadata": {
    "gather": {
     "logged": 1598431425670
    },
    "jupyter": {
     "outputs_hidden": false,
     "source_hidden": false
    },
    "nteract": {
     "transient": {
      "deleting": false
     }
    }
   },
   "outputs": [],
   "source": [
    "automl_best_run = remote_run.get_best_child()"
   ]
  },
  {
   "cell_type": "code",
   "execution_count": 40,
   "metadata": {},
   "outputs": [
    {
     "name": "stdout",
     "output_type": "stream",
     "text": [
      "VotingEnsemble\n",
      "0.9389044289044289\n"
     ]
    }
   ],
   "source": [
    "best_run_metrics = automl_best_run.get_metrics()\n",
    "best_run_parameters = automl_best_run.get_details()\n",
    "best_run_properties = best_run_parameters['properties']\n",
    "\n",
    "#print(best_run_properties)\n",
    "print(best_run_properties['run_algorithm'])\n",
    "print(best_run_properties['score'])\n"
   ]
  },
  {
   "cell_type": "code",
   "execution_count": 23,
   "metadata": {
    "gather": {
     "logged": 1598431426111
    },
    "jupyter": {
     "outputs_hidden": false,
     "source_hidden": false
    },
    "nteract": {
     "transient": {
      "deleting": false
     }
    }
   },
   "outputs": [],
   "source": [
    "#--- Save the best model\n",
    "amodel= automl_best_run.register_model(model_name='udacity-automl-project', model_path='./outputs/model.pkl')"
   ]
  },
  {
   "cell_type": "code",
   "execution_count": 24,
   "metadata": {},
   "outputs": [
    {
     "data": {
      "text/plain": [
       "Model(workspace=Workspace.create(name='quick-starts-ws-143160', subscription_id='a24a24d5-8d87-4c8a-99b6-91ed2d2df51f', resource_group='aml-quickstarts-143160'), name=udacity-automl-project, id=udacity-automl-project:1, version=1, tags={}, properties={})"
      ]
     },
     "execution_count": 24,
     "metadata": {},
     "output_type": "execute_result"
    }
   ],
   "source": [
    "#--- Print the Best Model \n",
    "amodel"
   ]
  },
  {
   "cell_type": "code",
   "execution_count": 25,
   "metadata": {},
   "outputs": [
    {
     "data": {
      "text/plain": [
       "Pipeline(memory=None,\n",
       "         steps=[('datatransformer',\n",
       "                 DataTransformer(enable_dnn=None, enable_feature_sweeping=None,\n",
       "                                 feature_sweeping_config=None,\n",
       "                                 feature_sweeping_timeout=None,\n",
       "                                 featurization_config=None, force_text_dnn=None,\n",
       "                                 is_cross_validation=None,\n",
       "                                 is_onnx_compatible=None, logger=None,\n",
       "                                 observer=None, task=None, working_dir=None)),\n",
       "                ('prefittedsoftvotingclassifier',...\n",
       "                                                                                               reg_lambda=0.625,\n",
       "                                                                                               scale_pos_weight=1,\n",
       "                                                                                               seed=None,\n",
       "                                                                                               silent=None,\n",
       "                                                                                               subsample=0.5,\n",
       "                                                                                               tree_method='auto',\n",
       "                                                                                               verbose=-10,\n",
       "                                                                                               verbosity=0))],\n",
       "                                                                     verbose=False))],\n",
       "                                               flatten_transform=None,\n",
       "                                               weights=[0.26666666666666666,\n",
       "                                                        0.06666666666666667,\n",
       "                                                        0.13333333333333333,\n",
       "                                                        0.06666666666666667,\n",
       "                                                        0.06666666666666667,\n",
       "                                                        0.13333333333333333,\n",
       "                                                        0.06666666666666667,\n",
       "                                                        0.13333333333333333,\n",
       "                                                        0.06666666666666667]))],\n",
       "         verbose=False)"
      ]
     },
     "execution_count": 25,
     "metadata": {},
     "output_type": "execute_result"
    }
   ],
   "source": [
    "#--- Print last model from run\n",
    "temp_model = remote_run.get_output()\n",
    "temp_model[-1]"
   ]
  },
  {
   "cell_type": "markdown",
   "metadata": {},
   "source": [
    "## Model Deployment Using ACIService\n",
    "\n",
    "Remember you have to deploy only one of the two models you trained.. Perform the steps in the rest of this notebook only if you wish to deploy this model.\n",
    "\n",
    "TODO: In the cell below, register the model, create an inference config and deploy the model as a web service."
   ]
  },
  {
   "cell_type": "code",
   "execution_count": 26,
   "metadata": {},
   "outputs": [],
   "source": [
    "from azureml.core import Environment\n",
    "import sklearn\n",
    "from azureml.core.conda_dependencies import CondaDependencies\n",
    "\n",
    "#--- Creating conda environment for the service\n",
    "environment = Environment('my-sklearn-environment')\n",
    "environment.python.conda_dependencies = CondaDependencies.create(pip_packages=[\n",
    "    'azureml-defaults',\n",
    "    'inference-schema[numpy-support]',\n",
    "    'joblib',\n",
    "    'numpy',\n",
    "    'azureml-automl-core',\n",
    "    'azureml-automl-runtime',\n",
    "    'packaging',\n",
    "    'xgboost==0.90',\n",
    "    'scikit-learn=={}'.format(sklearn.__version__)\n",
    "])"
   ]
  },
  {
   "cell_type": "code",
   "execution_count": 27,
   "metadata": {
    "scrolled": true
   },
   "outputs": [
    {
     "name": "stdout",
     "output_type": "stream",
     "text": [
      "import joblib\n",
      "import numpy as np\n",
      "import os\n",
      "import pickle\n",
      "import json\n",
      "import pandas as pd\n",
      "\n",
      "\n",
      "\n",
      "# The init() method is called once, when the web service starts up.\n",
      "#\n",
      "# Typically you would deserialize the model file, as shown here using joblib,\n",
      "# and store it in a global variable so your run() method can access it later.\n",
      "def init():\n",
      "    global model\n",
      "\n",
      "    # The AZUREML_MODEL_DIR environment variable indicates\n",
      "    # a directory containing the model file you registered.\n",
      "    model_filename = 'model.pkl'\n",
      "\n",
      "    model_path = os.path.join(os.environ['AZUREML_MODEL_DIR'], model_filename)\n",
      "    print(\"Found model:\",os.path.isfile(model_path))\n",
      "    \n",
      "    print(model_path)\n",
      "\n",
      "    model = joblib.load(model_path)\n",
      "\n",
      "\n",
      "# The run() method is called each time a request is made to the scoring API.\n",
      "#\n",
      "# Shown here are the optional input_schema and output_schema decorators\n",
      "# from the inference-schema pip package. Using these decorators on your\n",
      "# run() method parses and validates the incoming payload against\n",
      "# the example input you provide here. This will also generate a Swagger\n",
      "# API document for your web service.\n",
      "\n",
      "def run(data):\n",
      "    # Use the model object loaded by init().\n",
      "    \n",
      "    data_load = json.loads(data)\n",
      "    data = pd.DataFrame.from_dict(data_load['data'])\n",
      "    \n",
      "    result = model.predict(data)\n",
      "\n",
      "    # You can return any JSON-serializable object.\n",
      "    return result.tolist()\n"
     ]
    }
   ],
   "source": [
    "with open('score.py') as f:\n",
    "    print(f.read())"
   ]
  },
  {
   "cell_type": "code",
   "execution_count": 31,
   "metadata": {
    "gather": {
     "logged": 1598431435189
    },
    "jupyter": {
     "outputs_hidden": false,
     "source_hidden": false
    },
    "nteract": {
     "transient": {
      "deleting": false
     }
    }
   },
   "outputs": [
    {
     "name": "stdout",
     "output_type": "stream",
     "text": [
      "Tips: You can try get_logs(): https://aka.ms/debugimage#dockerlog or local deployment: https://aka.ms/debugimage#debug-locally to debug if deployment takes longer than 10 minutes.\n",
      "Running\n",
      "2021-04-19 17:20:29+00:00 Creating Container Registry if not exists.\n",
      "2021-04-19 17:20:29+00:00 Registering the environment.\n",
      "2021-04-19 17:20:31+00:00 Building image..\n",
      "2021-04-19 17:35:36+00:00 Generating deployment configuration.\n",
      "2021-04-19 17:35:37+00:00 Submitting deployment to compute..\n",
      "2021-04-19 17:35:42+00:00 Checking the status of deployment my-custom-env-service12..\n",
      "2021-04-19 17:38:23+00:00 Checking the status of inference endpoint my-custom-env-service12.\n",
      "Succeeded\n",
      "ACI service creation operation finished, operation \"Succeeded\"\n"
     ]
    }
   ],
   "source": [
    "from azureml.core.model import InferenceConfig\n",
    "from azureml.core.webservice import AciWebservice, LocalWebservice\n",
    "from azureml.core import Model\n",
    "\n",
    "service_name = 'my-custom-env-service12'\n",
    "\n",
    "inference_config = InferenceConfig(entry_script='score.py', environment=environment)\n",
    "aci_config = AciWebservice.deploy_configuration(cpu_cores = 1, memory_gb = 1,  auth_enabled = True, description = 'AutoML model for Heart Disease data')\n",
    "#local_config = LocalWebservice.deploy_configuration(port=6788) #-- local webservice for testing\n",
    "\n",
    "service = Model.deploy(workspace=ws,\n",
    "                       name=service_name,\n",
    "                       models=[amodel],\n",
    "                       inference_config=inference_config,\n",
    "                       deployment_config=aci_config,\n",
    "                       overwrite=True)\n",
    "service.wait_for_deployment(show_output=True)"
   ]
  },
  {
   "cell_type": "code",
   "execution_count": 32,
   "metadata": {
    "scrolled": false
   },
   "outputs": [
    {
     "name": "stdout",
     "output_type": "stream",
     "text": [
      "2021-04-19T17:38:13,378547600+00:00 - iot-server/run \n",
      "2021-04-19T17:38:13,389422200+00:00 - nginx/run \n",
      "2021-04-19T17:38:13,388300500+00:00 - gunicorn/run \n",
      "2021-04-19T17:38:13,380178400+00:00 - rsyslog/run \n",
      "/usr/sbin/nginx: /azureml-envs/azureml_7e29e14852b8e63cc438037e59324eb8/lib/libcrypto.so.1.0.0: no version information available (required by /usr/sbin/nginx)\n",
      "/usr/sbin/nginx: /azureml-envs/azureml_7e29e14852b8e63cc438037e59324eb8/lib/libcrypto.so.1.0.0: no version information available (required by /usr/sbin/nginx)\n",
      "/usr/sbin/nginx: /azureml-envs/azureml_7e29e14852b8e63cc438037e59324eb8/lib/libssl.so.1.0.0: no version information available (required by /usr/sbin/nginx)\n",
      "/usr/sbin/nginx: /azureml-envs/azureml_7e29e14852b8e63cc438037e59324eb8/lib/libssl.so.1.0.0: no version information available (required by /usr/sbin/nginx)\n",
      "/usr/sbin/nginx: /azureml-envs/azureml_7e29e14852b8e63cc438037e59324eb8/lib/libssl.so.1.0.0: no version information available (required by /usr/sbin/nginx)\n",
      "EdgeHubConnectionString and IOTEDGE_IOTHUBHOSTNAME are not set. Exiting...\n",
      "2021-04-19T17:38:14,197249700+00:00 - iot-server/finish 1 0\n",
      "2021-04-19T17:38:14,199670600+00:00 - Exit code 1 is normal. Not restarting iot-server.\n",
      "Starting gunicorn 19.9.0\n",
      "Listening at: http://127.0.0.1:31311 (73)\n",
      "Using worker: sync\n",
      "worker timeout is set to 300\n",
      "Booting worker with pid: 102\n",
      "SPARK_HOME not set. Skipping PySpark Initialization.\n",
      "Initializing logger\n",
      "2021-04-19 17:38:15,575 | root | INFO | Starting up app insights client\n",
      "2021-04-19 17:38:15,576 | root | INFO | Starting up request id generator\n",
      "2021-04-19 17:38:15,576 | root | INFO | Starting up app insight hooks\n",
      "2021-04-19 17:38:15,577 | root | INFO | Invoking user's init function\n",
      "Found model:\n",
      "True\n",
      "azureml-models/udacity-automl-project/1/model.pkl\n",
      "2021-04-19 17:38:20,342 | root | INFO | Users's init has completed successfully\n",
      "2021-04-19 17:38:20,345 | root | INFO | Skipping middleware: dbg_model_info as it's not enabled.\n",
      "2021-04-19 17:38:20,349 | root | INFO | Skipping middleware: dbg_resource_usage as it's not enabled.\n",
      "2021-04-19 17:38:20,351 | root | INFO | Scoring timeout is found from os.environ: 60000 ms\n",
      "2021-04-19 17:38:23,244 | root | INFO | Swagger file not present\n",
      "2021-04-19 17:38:23,245 | root | INFO | 404\n",
      "127.0.0.1 - - [19/Apr/2021:17:38:23 +0000] \"GET /swagger.json HTTP/1.0\" 404 19 \"-\" \"Go-http-client/1.1\"\n",
      "2021-04-19 17:38:26,480 | root | INFO | Swagger file not present\n",
      "2021-04-19 17:38:26,480 | root | INFO | 404\n",
      "127.0.0.1 - - [19/Apr/2021:17:38:26 +0000] \"GET /swagger.json HTTP/1.0\" 404 19 \"-\" \"Go-http-client/1.1\"\n",
      "\n"
     ]
    }
   ],
   "source": [
    "print(service.get_logs())"
   ]
  },
  {
   "cell_type": "markdown",
   "metadata": {
    "gather": {
     "logged": 1598431657736
    },
    "jupyter": {
     "outputs_hidden": false,
     "source_hidden": false
    },
    "nteract": {
     "transient": {
      "deleting": false
     }
    }
   },
   "source": [
    "TODO: In the cell below, send a request to the web service you deployed to test it."
   ]
  },
  {
   "cell_type": "code",
   "execution_count": 33,
   "metadata": {
    "gather": {
     "logged": 1598432707604
    },
    "jupyter": {
     "outputs_hidden": false,
     "source_hidden": false
    },
    "nteract": {
     "transient": {
      "deleting": false
     }
    }
   },
   "outputs": [
    {
     "name": "stdout",
     "output_type": "stream",
     "text": [
      "[0, 1, 0, 0, 1, 1, 1, 1, 1, 0, 0, 0, 0, 0, 0, 1, 1, 1, 0, 0, 1, 0, 0, 1, 1, 1, 1, 0, 0, 0, 0, 0, 0, 1, 0, 0, 0, 0, 0, 1, 1, 1, 0, 0, 1, 0, 1, 0, 1, 0, 1, 1, 1, 1, 1, 1, 0, 1, 1, 1, 1, 1, 0, 1, 1, 1, 1, 1, 0, 0, 0, 0, 1, 0, 0, 1, 1, 0, 0, 1, 1, 1, 1, 1, 0, 1, 0, 1, 1, 0, 1]\n"
     ]
    }
   ],
   "source": [
    "#--  Making webservice call using service.run()\n",
    "import json\n",
    "\n",
    "input_payload = json.dumps({\n",
    "    'data': X_test.to_dict(),\n",
    "    'method': 'predict_proba'\n",
    "})\n",
    "\n",
    "output = service.run(input_payload)\n",
    "print(output)"
   ]
  },
  {
   "cell_type": "code",
   "execution_count": 34,
   "metadata": {
    "jupyter": {
     "outputs_hidden": false,
     "source_hidden": false
    },
    "nteract": {
     "transient": {
      "deleting": false
     }
    }
   },
   "outputs": [
    {
     "name": "stdout",
     "output_type": "stream",
     "text": [
      "[0, 1, 0, 0, 1, 1, 1, 1, 1, 0, 0, 0, 0, 0, 0, 1, 1, 1, 0, 0, 1, 0, 0, 1, 1, 1, 1, 0, 0, 0, 0, 0, 0, 1, 0, 0, 0, 0, 0, 1, 1, 1, 0, 0, 1, 0, 1, 0, 1, 0, 1, 1, 1, 1, 1, 1, 0, 1, 1, 1, 1, 1, 0, 1, 1, 1, 1, 1, 0, 0, 0, 0, 1, 0, 0, 1, 1, 0, 0, 1, 1, 1, 1, 1, 0, 1, 0, 1, 1, 0, 1]\n"
     ]
    }
   ],
   "source": [
    "print(output)"
   ]
  },
  {
   "cell_type": "code",
   "execution_count": 38,
   "metadata": {},
   "outputs": [
    {
     "name": "stdout",
     "output_type": "stream",
     "text": [
      "{\"data\": {\"age_bins\": {\"242\": 5}, \"sex\": {\"242\": 1}, \"cp\": {\"242\": 0}, \"trestbps\": {\"242\": 0.7639557707131766}, \"chol\": {\"242\": -0.6621688357951817}, \"fbs\": {\"242\": 0}, \"restecg\": {\"242\": 0}, \"thalach\": {\"242\": -0.7717063030099474}, \"exang\": {\"242\": 0}, \"oldpeak\": {\"242\": 2.0}, \"slope\": {\"242\": 1}, \"ca\": {\"242\": 2}, \"thal\": {\"242\": 1}}}\n",
      "POST to url http://e425d6b5-dc12-45b4-9cf8-a6ed91275fd5.southcentralus.azurecontainer.io/score\n",
      "prediction: [0]\n"
     ]
    }
   ],
   "source": [
    "#-- Making webservice call using RestEndpoint URI key\n",
    "\n",
    "import requests\n",
    "key1, key2 = service.get_keys()\n",
    "#key1 = 'http://360cff5b-18ca-4395-b44b-36da2dd3a43c.southcentralus.azurecontainer.io/score'\n",
    "\n",
    "input_data = json.dumps({'data':X_test[0:1].to_dict()})\n",
    "print(input_data)\n",
    "\n",
    "headers = {'Content-Type':'application/json', 'Authorization': 'Bearer ' + key1}\n",
    "\n",
    "resp = requests.post(service.scoring_uri, input_data, headers=headers)\n",
    "\n",
    "print(\"POST to url\", service.scoring_uri)\n",
    "print(\"prediction:\", resp.text)"
   ]
  },
  {
   "cell_type": "markdown",
   "metadata": {
    "gather": {
     "logged": 1598432765711
    },
    "jupyter": {
     "outputs_hidden": false,
     "source_hidden": false
    },
    "nteract": {
     "transient": {
      "deleting": false
     }
    }
   },
   "source": [
    "TODO: In the cell below, print the logs of the web service and delete the service"
   ]
  },
  {
   "cell_type": "code",
   "execution_count": 36,
   "metadata": {},
   "outputs": [
    {
     "name": "stdout",
     "output_type": "stream",
     "text": [
      "2021-04-19T17:38:13,378547600+00:00 - iot-server/run \n",
      "2021-04-19T17:38:13,389422200+00:00 - nginx/run \n",
      "2021-04-19T17:38:13,388300500+00:00 - gunicorn/run \n",
      "2021-04-19T17:38:13,380178400+00:00 - rsyslog/run \n",
      "/usr/sbin/nginx: /azureml-envs/azureml_7e29e14852b8e63cc438037e59324eb8/lib/libcrypto.so.1.0.0: no version information available (required by /usr/sbin/nginx)\n",
      "/usr/sbin/nginx: /azureml-envs/azureml_7e29e14852b8e63cc438037e59324eb8/lib/libcrypto.so.1.0.0: no version information available (required by /usr/sbin/nginx)\n",
      "/usr/sbin/nginx: /azureml-envs/azureml_7e29e14852b8e63cc438037e59324eb8/lib/libssl.so.1.0.0: no version information available (required by /usr/sbin/nginx)\n",
      "/usr/sbin/nginx: /azureml-envs/azureml_7e29e14852b8e63cc438037e59324eb8/lib/libssl.so.1.0.0: no version information available (required by /usr/sbin/nginx)\n",
      "/usr/sbin/nginx: /azureml-envs/azureml_7e29e14852b8e63cc438037e59324eb8/lib/libssl.so.1.0.0: no version information available (required by /usr/sbin/nginx)\n",
      "EdgeHubConnectionString and IOTEDGE_IOTHUBHOSTNAME are not set. Exiting...\n",
      "2021-04-19T17:38:14,197249700+00:00 - iot-server/finish 1 0\n",
      "2021-04-19T17:38:14,199670600+00:00 - Exit code 1 is normal. Not restarting iot-server.\n",
      "Starting gunicorn 19.9.0\n",
      "Listening at: http://127.0.0.1:31311 (73)\n",
      "Using worker: sync\n",
      "worker timeout is set to 300\n",
      "Booting worker with pid: 102\n",
      "SPARK_HOME not set. Skipping PySpark Initialization.\n",
      "Initializing logger\n",
      "2021-04-19 17:38:15,575 | root | INFO | Starting up app insights client\n",
      "2021-04-19 17:38:15,576 | root | INFO | Starting up request id generator\n",
      "2021-04-19 17:38:15,576 | root | INFO | Starting up app insight hooks\n",
      "2021-04-19 17:38:15,577 | root | INFO | Invoking user's init function\n",
      "Found model:\n",
      "True\n",
      "azureml-models/udacity-automl-project/1/model.pkl\n",
      "2021-04-19 17:38:20,342 | root | INFO | Users's init has completed successfully\n",
      "2021-04-19 17:38:20,345 | root | INFO | Skipping middleware: dbg_model_info as it's not enabled.\n",
      "2021-04-19 17:38:20,349 | root | INFO | Skipping middleware: dbg_resource_usage as it's not enabled.\n",
      "2021-04-19 17:38:20,351 | root | INFO | Scoring timeout is found from os.environ: 60000 ms\n",
      "2021-04-19 17:38:23,244 | root | INFO | Swagger file not present\n",
      "2021-04-19 17:38:23,245 | root | INFO | 404\n",
      "127.0.0.1 - - [19/Apr/2021:17:38:23 +0000] \"GET /swagger.json HTTP/1.0\" 404 19 \"-\" \"Go-http-client/1.1\"\n",
      "2021-04-19 17:38:26,480 | root | INFO | Swagger file not present\n",
      "2021-04-19 17:38:26,480 | root | INFO | 404\n",
      "127.0.0.1 - - [19/Apr/2021:17:38:26 +0000] \"GET /swagger.json HTTP/1.0\" 404 19 \"-\" \"Go-http-client/1.1\"\n",
      "2021-04-19 17:38:27,529 | root | INFO | Validation Request Content-Type\n",
      "2021-04-19 17:38:27,530 | root | INFO | Scoring Timer is set to 60.0 seconds\n",
      "2021-04-19 17:38:27,662 | root | INFO | 200\n",
      "127.0.0.1 - - [19/Apr/2021:17:38:27 +0000] \"POST /score HTTP/1.0\" 200 273 \"-\" \"python-requests/2.25.1\"\n",
      "\n"
     ]
    }
   ],
   "source": [
    "print(service.get_logs())"
   ]
  },
  {
   "cell_type": "code",
   "execution_count": 41,
   "metadata": {},
   "outputs": [],
   "source": [
    "service.delete()"
   ]
  },
  {
   "cell_type": "code",
   "execution_count": null,
   "metadata": {},
   "outputs": [],
   "source": []
  }
 ],
 "metadata": {
  "kernel_info": {
   "name": "python3"
  },
  "kernelspec": {
   "display_name": "Python 3",
   "language": "python",
   "name": "python3"
  },
  "language_info": {
   "codemirror_mode": {
    "name": "ipython",
    "version": 3
   },
   "file_extension": ".py",
   "mimetype": "text/x-python",
   "name": "python",
   "nbconvert_exporter": "python",
   "pygments_lexer": "ipython3",
   "version": "3.6.9"
  },
  "nteract": {
   "version": "nteract-front-end@1.0.0"
  }
 },
 "nbformat": 4,
 "nbformat_minor": 4
}
